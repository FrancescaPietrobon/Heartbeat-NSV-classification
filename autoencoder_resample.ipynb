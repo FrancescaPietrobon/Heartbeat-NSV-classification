{
 "cells": [
  {
   "cell_type": "code",
   "execution_count": 1,
   "metadata": {},
   "outputs": [],
   "source": [
    "import os \n",
    "import zipfile \n",
    "from scipy.io import loadmat \n",
    "import pandas as pd\n",
    "import matplotlib.pyplot as plt \n",
    "import numpy as np\n",
    "import io\n",
    "from PIL import Image\n",
    "import tensorflow as tf \n",
    "from tensorflow import keras\n",
    "import sys\n",
    "from tqdm import tqdm\n",
    "import random\n",
    "from sklearn.model_selection import train_test_split\n",
    "import pywt \n",
    "\n",
    "\n",
    "SEED = 1\n",
    "tf.random.set_seed(SEED)\n",
    "np.random.seed(SEED)\n",
    "random.seed(SEED)\n",
    "os.environ['PYTHONHASHSEED'] = str(SEED)\n",
    "\n",
    "dataset_current_folder = \"training_set.zip\" # where the zip is\n",
    "dataset_folder = \"C://Users//simon//Desktop//AppliedAI-project\" # where I want the dataset - avoid the current folder as Git doesn't allow huge uploads\n",
    "\n",
    "with zipfile.ZipFile(dataset_current_folder, 'r') as zip: # extract the zip file into the desired folder \n",
    "    zip.extractall(dataset_folder)\n",
    "\n",
    "def load_data(sample_prefix, input_dir):    # everything is returned as a numpy array which is easier to manipulate\n",
    "    label_filepath = os.path.join(input_dir, sample_prefix + '_ann.mat')\n",
    "    peak_filepath = os.path.join(input_dir, sample_prefix + '_rpk.mat')\n",
    "    signal_filepath = os.path.join(input_dir, sample_prefix + '.mat')\n",
    "    if os.path.isfile(label_filepath):\n",
    "        mat_file = loadmat(label_filepath)\n",
    "        label = np.asarray(mat_file['labels'])\n",
    "    if os.path.isfile(peak_filepath):\n",
    "        mat_file = loadmat(peak_filepath)\n",
    "        peaks = np.array(mat_file['rpeaks'],dtype=np.int64)\n",
    "    if os.path.isfile(signal_filepath):\n",
    "        mat_file = loadmat(signal_filepath)\n",
    "        signal = np.asarray(mat_file['ecg'] )\n",
    "\n",
    "    return label, peaks, signal\n",
    "\n",
    "labels = list()             # labels \n",
    "ids = list()                # Id of samples \n",
    "rpeaks = list()             # detected peaks of the signal \n",
    "ecg_signals = list()        # .mat ecg signal \n",
    "frequencies = list()        # sample frequency of the ecg signal \n",
    "\n",
    "\n",
    "for f in os.listdir(dataset_folder):\n",
    "  if f.lower().endswith('.mat'):\n",
    "    id = f[:4]\n",
    "    if id not in ids:\n",
    "      ids.append(id)\n",
    "      sample_prefix = f[:8]\n",
    "      label, peak, signal = load_data(sample_prefix, dataset_folder)\n",
    "      labels.append(label)\n",
    "      rpeaks.append(peak)\n",
    "      ecg_signals.append(signal)\n",
    "      frequencies.append(int(sample_prefix[5:]))"
   ]
  },
  {
   "cell_type": "code",
   "execution_count": 2,
   "metadata": {},
   "outputs": [
    {
     "name": "stderr",
     "output_type": "stream",
     "text": [
      "100%|██████████| 105/105 [00:00<00:00, 719.77it/s]\n"
     ]
    },
    {
     "data": {
      "text/html": [
       "<div>\n",
       "<style scoped>\n",
       "    .dataframe tbody tr th:only-of-type {\n",
       "        vertical-align: middle;\n",
       "    }\n",
       "\n",
       "    .dataframe tbody tr th {\n",
       "        vertical-align: top;\n",
       "    }\n",
       "\n",
       "    .dataframe thead th {\n",
       "        text-align: right;\n",
       "    }\n",
       "</style>\n",
       "<table border=\"1\" class=\"dataframe\">\n",
       "  <thead>\n",
       "    <tr style=\"text-align: right;\">\n",
       "      <th></th>\n",
       "      <th>sigId</th>\n",
       "      <th>ecg_lead_1</th>\n",
       "      <th>ecg_lead_2</th>\n",
       "      <th>peaks</th>\n",
       "      <th>frequencies</th>\n",
       "      <th>labels</th>\n",
       "    </tr>\n",
       "  </thead>\n",
       "  <tbody>\n",
       "    <tr>\n",
       "      <th>0</th>\n",
       "      <td>S001</td>\n",
       "      <td>[0.0, 0.04, 0.03, 0.0, 0.03, 0.09, 0.18, 0.14,...</td>\n",
       "      <td>[0.08, 0.07, 0.1, 0.06, 0.06, 0.03, 0.1, 0.21,...</td>\n",
       "      <td>[29, 110, 191, 272, 353, 433, 514, 595, 676, 7...</td>\n",
       "      <td>128</td>\n",
       "      <td>[N, N, N, N, N, N, N, N, N, N, N, N, N, N, N, ...</td>\n",
       "    </tr>\n",
       "    <tr>\n",
       "      <th>1</th>\n",
       "      <td>S002</td>\n",
       "      <td>[-0.035, -0.045, -0.025, -0.035, -0.045, -0.05...</td>\n",
       "      <td>[-0.095, -0.105, -0.095, -0.095, -0.115, -0.09...</td>\n",
       "      <td>[48, 153, 243, 352, 440, 547, 636, 742, 831, 9...</td>\n",
       "      <td>128</td>\n",
       "      <td>[N, N, N, N, S, N, S, N, S, N, S, N, S, N, S, ...</td>\n",
       "    </tr>\n",
       "    <tr>\n",
       "      <th>2</th>\n",
       "      <td>S003</td>\n",
       "      <td>[-0.56, -0.56, -0.55, -0.47, -0.53, -0.47, -0....</td>\n",
       "      <td>[0.43, 0.56, 0.6, 0.41, 0.54, 0.48, 0.56, 0.46...</td>\n",
       "      <td>[91, 209, 326, 394, 537, 653, 745, 872, 984, 1...</td>\n",
       "      <td>128</td>\n",
       "      <td>[N, N, N, S, N, N, S, N, N, S, N, N, N, N, N, ...</td>\n",
       "    </tr>\n",
       "    <tr>\n",
       "      <th>3</th>\n",
       "      <td>S004</td>\n",
       "      <td>[-0.46, -0.49, -0.52, -0.58, -0.62, -0.69, -0....</td>\n",
       "      <td>[0.56, 0.61, 0.66, 0.66, 0.63, 0.66, 0.59, 0.5...</td>\n",
       "      <td>[98, 223, 349, 474, 599, 726, 853, 980, 1116, ...</td>\n",
       "      <td>128</td>\n",
       "      <td>[N, N, N, N, N, N, N, N, N, N, N, N, N, N, N, ...</td>\n",
       "    </tr>\n",
       "    <tr>\n",
       "      <th>4</th>\n",
       "      <td>S005</td>\n",
       "      <td>[-0.27, -0.17, -0.13, -0.23, -0.18, -0.23, -0....</td>\n",
       "      <td>[-0.02, -0.04, -0.01, -0.01, -0.02, -0.06, 0.0...</td>\n",
       "      <td>[27, 127, 225, 324, 423, 523, 623, 722, 822, 9...</td>\n",
       "      <td>128</td>\n",
       "      <td>[N, N, N, N, N, N, N, N, N, N, N, N, N, N, N, ...</td>\n",
       "    </tr>\n",
       "  </tbody>\n",
       "</table>\n",
       "</div>"
      ],
      "text/plain": [
       "  sigId                                         ecg_lead_1  \\\n",
       "0  S001  [0.0, 0.04, 0.03, 0.0, 0.03, 0.09, 0.18, 0.14,...   \n",
       "1  S002  [-0.035, -0.045, -0.025, -0.035, -0.045, -0.05...   \n",
       "2  S003  [-0.56, -0.56, -0.55, -0.47, -0.53, -0.47, -0....   \n",
       "3  S004  [-0.46, -0.49, -0.52, -0.58, -0.62, -0.69, -0....   \n",
       "4  S005  [-0.27, -0.17, -0.13, -0.23, -0.18, -0.23, -0....   \n",
       "\n",
       "                                          ecg_lead_2  \\\n",
       "0  [0.08, 0.07, 0.1, 0.06, 0.06, 0.03, 0.1, 0.21,...   \n",
       "1  [-0.095, -0.105, -0.095, -0.095, -0.115, -0.09...   \n",
       "2  [0.43, 0.56, 0.6, 0.41, 0.54, 0.48, 0.56, 0.46...   \n",
       "3  [0.56, 0.61, 0.66, 0.66, 0.63, 0.66, 0.59, 0.5...   \n",
       "4  [-0.02, -0.04, -0.01, -0.01, -0.02, -0.06, 0.0...   \n",
       "\n",
       "                                               peaks frequencies  \\\n",
       "0  [29, 110, 191, 272, 353, 433, 514, 595, 676, 7...         128   \n",
       "1  [48, 153, 243, 352, 440, 547, 636, 742, 831, 9...         128   \n",
       "2  [91, 209, 326, 394, 537, 653, 745, 872, 984, 1...         128   \n",
       "3  [98, 223, 349, 474, 599, 726, 853, 980, 1116, ...         128   \n",
       "4  [27, 127, 225, 324, 423, 523, 623, 722, 822, 9...         128   \n",
       "\n",
       "                                              labels  \n",
       "0  [N, N, N, N, N, N, N, N, N, N, N, N, N, N, N, ...  \n",
       "1  [N, N, N, N, S, N, S, N, S, N, S, N, S, N, S, ...  \n",
       "2  [N, N, N, S, N, N, S, N, N, S, N, N, N, N, N, ...  \n",
       "3  [N, N, N, N, N, N, N, N, N, N, N, N, N, N, N, ...  \n",
       "4  [N, N, N, N, N, N, N, N, N, N, N, N, N, N, N, ...  "
      ]
     },
     "execution_count": 2,
     "metadata": {},
     "output_type": "execute_result"
    }
   ],
   "source": [
    "cols = [\"sigId\",\"ecg_lead_1\",\"ecg_lead_2\",\"peaks\",\"frequencies\",\"labels\"]\n",
    "\n",
    "# ecg signals is 105 rows [,,,,,]\n",
    "\n",
    "first_lead_signals = []\n",
    "second_lead_signals = []\n",
    "\n",
    "for signal in ecg_signals:\n",
    "    first_lead_signals.append(signal[:,0].tolist())    # converting the array to list as list of array is deprecated \n",
    "    second_lead_signals.append(signal[:,1].tolist())\n",
    "\n",
    "df = pd.DataFrame(data =[ids,first_lead_signals,second_lead_signals,rpeaks,frequencies,labels]).T\n",
    "df.columns = cols\n",
    "\n",
    "# transform peaks \n",
    "for id in tqdm(df.index.tolist()):\n",
    "    peaks = df.iloc[id]['peaks']\n",
    "    p_list = list()\n",
    "    for p in peaks:\n",
    "        p_list.append(p[0])\n",
    "    df.iloc[id]['peaks'] = np.asarray(p_list).astype(np.int64)\n",
    "\n",
    "df.head()"
   ]
  },
  {
   "cell_type": "code",
   "execution_count": 3,
   "metadata": {},
   "outputs": [
    {
     "name": "stderr",
     "output_type": "stream",
     "text": [
      "100%|██████████| 40/40 [00:05<00:00,  7.06it/s]\n"
     ]
    }
   ],
   "source": [
    "# because of te curse of dimensionality --> undersampling \n",
    "\n",
    "from scipy.signal import resample\n",
    "\n",
    "ids_128 = df[df['frequencies'] == 128].index.tolist() # 65 signals are sampled using fs = 128\n",
    "ids_250 = df[df['frequencies'] == 250].index.tolist() # 65 signals are sampled using fs = 128\n",
    "sampled_len =  len(df.iloc[ids_250[0]]['ecg_lead_1'])\n",
    "resampled_len = len(df.iloc[ids_128[0]]['ecg_lead_1'])\n",
    "\n",
    "for id in tqdm(ids_250):\n",
    "    row = df.iloc[id]\n",
    "    # first lead\n",
    "    signal = np.asarray(row['ecg_lead_1']).astype(np.float32)\n",
    "    resampled_1 = resample(signal,resampled_len)\n",
    "    \n",
    "    # second lead\n",
    "    \n",
    "    signal = np.asarray(row['ecg_lead_2']).astype(np.float32)\n",
    "    resampled_2 = resample(signal,resampled_len)\n",
    "    \n",
    "    df.iloc[id]['ecg_lead_1'] = resampled_1.tolist()\n",
    "    df.iloc[id]['ecg_lead_2'] = resampled_2.tolist()\n",
    "    \n",
    "    for i,p in enumerate(list(df.iloc[id]['peaks'])):\n",
    "        df.iloc[id]['peaks'][i] = int(resampled_len * p/sampled_len)\n"
   ]
  },
  {
   "cell_type": "code",
   "execution_count": 4,
   "metadata": {},
   "outputs": [],
   "source": [
    "#Preprocessing used in practical lessons\n",
    "from scipy.signal import resample, butter, lfilter, iirnotch\n",
    "\n",
    "def notch_filter(cutoff, fs, q=30):\n",
    "    nyq = 0.5*fs\n",
    "    freq = cutoff/nyq\n",
    "    b, a = iirnotch(freq, q)\n",
    "    return b, a\n",
    "\n",
    "#def bandpass_filter(data, filter_order=5, lowcut = .5, highcut = 55, signal_freq=128):\n",
    "def bandpass_filter(data, filter_order=6, lowcut = .8, highcut = 45, signal_freq=128):\n",
    "        \"\"\"\n",
    "        Method responsible for creating and applying Butterworth filter.\n",
    "        :param deque data: raw data\n",
    "        :param float lowcut: filter lowcut frequency value\n",
    "        :param float highcut: filter highcut frequency value\n",
    "        :param int signal_freq: signal frequency in samples per second (Hz)\n",
    "        :param int filter_order: filter order\n",
    "        :return array: filtered data\n",
    "        \"\"\"\n",
    "        powerline = 60\n",
    "        nyquist_freq = 0.5 * signal_freq\n",
    "        low = lowcut / nyquist_freq\n",
    "        high = highcut / nyquist_freq\n",
    "        b, a = butter(filter_order, [low, high], btype=\"band\")\n",
    "        y = lfilter(b, a, data,zi = None)\n",
    "        #b,a = notch_filter(powerline,signal_freq)\n",
    "        #y = lfilter(b,a,y)\n",
    "        return y\n"
   ]
  },
  {
   "cell_type": "code",
   "execution_count": 5,
   "metadata": {},
   "outputs": [
    {
     "name": "stderr",
     "output_type": "stream",
     "text": [
      "100%|██████████| 105/105 [00:02<00:00, 40.76it/s]\n"
     ]
    }
   ],
   "source": [
    "filtered_df = df.copy(deep= True)\n",
    "\n",
    "ids = filtered_df.index.tolist()\n",
    "\n",
    "for id_ in tqdm(ids):\n",
    "    \n",
    "    row = filtered_df.iloc[id_]\n",
    "    first = row['ecg_lead_1']\n",
    "    second = row['ecg_lead_2']\n",
    "    filtered_first = np.asarray(bandpass_filter(first))\n",
    "    filtered_second =  np.asarray(bandpass_filter(second))\n",
    "\n",
    "    filtered_df.iloc[id_]['ecg_lead_1'] = pd.Series(filtered_first)\n",
    "    filtered_df.iloc[id_]['ecg_lead_2'] = pd.Series(filtered_second)"
   ]
  },
  {
   "cell_type": "code",
   "execution_count": 6,
   "metadata": {},
   "outputs": [
    {
     "name": "stderr",
     "output_type": "stream",
     "text": [
      "100%|██████████| 105/105 [00:18<00:00,  5.78it/s]\n"
     ]
    }
   ],
   "source": [
    "import heartpy as hp\n",
    "\n",
    "fs = 128\n",
    "time_window = 10\n",
    "samples = fs * time_window ##\n",
    "\n",
    "for id in tqdm(filtered_df.index.tolist()):\n",
    "    row = filtered_df.loc[id]\n",
    "    first_lead = row['ecg_lead_1']\n",
    "    second_lead = row['ecg_lead_2']\n",
    "    l_ = len(first_lead)\n",
    "    scaled_1 = list()\n",
    "    scaled_2 = list()\n",
    "#    \n",
    "    for i in range(int(l_/samples)):\n",
    "        to_scale_1 = first_lead[i*samples:i*samples+samples] \n",
    "        to_scale_2 = second_lead[i*samples:i*samples+samples]\n",
    "#        \n",
    "        scaled_1 += list(hp.scale_data(to_scale_1,lower=0,upper=1))\n",
    "        scaled_2 += list(hp.scale_data(to_scale_2,lower=0,upper=1))\n",
    " ##   \n",
    "    filtered_df.loc[id]['ecg_lead_1'] = scaled_1\n",
    "    filtered_df.loc[id]['ecg_lead_2'] = scaled_2"
   ]
  },
  {
   "cell_type": "code",
   "execution_count": 7,
   "metadata": {},
   "outputs": [
    {
     "name": "stderr",
     "output_type": "stream",
     "text": [
      "  0%|          | 0/105 [00:00<?, ?it/s]C:\\Users\\simon\\AppData\\Local\\Temp/ipykernel_29116/1816920695.py:24: RuntimeWarning: Mean of empty slice.\n",
      "  RR_dict[sig_Id]['AVG_S_distance'] = RR_dict[sig_Id]['S_distances'].mean()\n",
      "100%|██████████| 105/105 [00:00<00:00, 180.28it/s]\n"
     ]
    },
    {
     "data": {
      "text/html": [
       "<div>\n",
       "<style scoped>\n",
       "    .dataframe tbody tr th:only-of-type {\n",
       "        vertical-align: middle;\n",
       "    }\n",
       "\n",
       "    .dataframe tbody tr th {\n",
       "        vertical-align: top;\n",
       "    }\n",
       "\n",
       "    .dataframe thead th {\n",
       "        text-align: right;\n",
       "    }\n",
       "</style>\n",
       "<table border=\"1\" class=\"dataframe\">\n",
       "  <thead>\n",
       "    <tr style=\"text-align: right;\">\n",
       "      <th></th>\n",
       "      <th>RR_distances</th>\n",
       "      <th>S_distances</th>\n",
       "      <th>Avg_RR_distance</th>\n",
       "      <th>AVG_S_distance</th>\n",
       "    </tr>\n",
       "  </thead>\n",
       "  <tbody>\n",
       "    <tr>\n",
       "      <th>S114</th>\n",
       "      <td>[117, 116, 115, 112, 113, 114, 114, 112, 116, ...</td>\n",
       "      <td>[]</td>\n",
       "      <td>114.914745</td>\n",
       "      <td>NaN</td>\n",
       "    </tr>\n",
       "    <tr>\n",
       "      <th>S115</th>\n",
       "      <td>[113, 118, 80, 151, 118, 123, 76, 152, 119, 11...</td>\n",
       "      <td>[73]</td>\n",
       "      <td>89.041006</td>\n",
       "      <td>73.000000</td>\n",
       "    </tr>\n",
       "    <tr>\n",
       "      <th>S116</th>\n",
       "      <td>[143, 145, 141, 146, 143, 142, 144, 142, 143, ...</td>\n",
       "      <td>[75]</td>\n",
       "      <td>122.611082</td>\n",
       "      <td>75.000000</td>\n",
       "    </tr>\n",
       "    <tr>\n",
       "      <th>S117</th>\n",
       "      <td>[142, 143, 147, 148, 145, 139, 148, 139, 140, ...</td>\n",
       "      <td>[119, 99, 92, 100, 99, 92, 91, 92, 89, 87, 82,...</td>\n",
       "      <td>106.363048</td>\n",
       "      <td>83.558719</td>\n",
       "    </tr>\n",
       "    <tr>\n",
       "      <th>S118</th>\n",
       "      <td>[85, 84, 86, 81, 82, 85, 81, 83, 83, 82, 84, 8...</td>\n",
       "      <td>[]</td>\n",
       "      <td>93.967755</td>\n",
       "      <td>NaN</td>\n",
       "    </tr>\n",
       "  </tbody>\n",
       "</table>\n",
       "</div>"
      ],
      "text/plain": [
       "                                           RR_distances  \\\n",
       "S114  [117, 116, 115, 112, 113, 114, 114, 112, 116, ...   \n",
       "S115  [113, 118, 80, 151, 118, 123, 76, 152, 119, 11...   \n",
       "S116  [143, 145, 141, 146, 143, 142, 144, 142, 143, ...   \n",
       "S117  [142, 143, 147, 148, 145, 139, 148, 139, 140, ...   \n",
       "S118  [85, 84, 86, 81, 82, 85, 81, 83, 83, 82, 84, 8...   \n",
       "\n",
       "                                            S_distances  Avg_RR_distance  \\\n",
       "S114                                                 []       114.914745   \n",
       "S115                                               [73]        89.041006   \n",
       "S116                                               [75]       122.611082   \n",
       "S117  [119, 99, 92, 100, 99, 92, 91, 92, 89, 87, 82,...       106.363048   \n",
       "S118                                                 []        93.967755   \n",
       "\n",
       "      AVG_S_distance  \n",
       "S114             NaN  \n",
       "S115       73.000000  \n",
       "S116       75.000000  \n",
       "S117       83.558719  \n",
       "S118             NaN  "
      ]
     },
     "execution_count": 7,
     "metadata": {},
     "output_type": "execute_result"
    }
   ],
   "source": [
    "signal_ids = filtered_df.index.tolist()\n",
    "RR_dict = {}\n",
    "\n",
    "for id_ in tqdm(signal_ids):  \n",
    "  sig_Id = df.iloc[id_]['sigId']\n",
    "  RR_dict[sig_Id] = {}\n",
    "  RR_dict[sig_Id]['RR_distances'] = list()\n",
    "  RR_dict[sig_Id]['S_distances'] = list()\n",
    "  \n",
    "  peaks = df.iloc[id_]['peaks']\n",
    "  labels = df.iloc[id_]['labels']\n",
    "\n",
    "  for i,p in enumerate(peaks[1:-1]):\n",
    "    RR_distance = p-peaks[i]\n",
    "    if(RR_distance < 250): # discard outliers\n",
    "      RR_dict[sig_Id]['RR_distances'].append(RR_distance)\n",
    "      if(labels[i+1] == 'S'):\n",
    "        RR_dict[sig_Id]['S_distances'].append(RR_distance)\n",
    "\n",
    "  RR_dict[sig_Id]['RR_distances'] = np.asarray(RR_dict[sig_Id]['RR_distances'])\n",
    "  RR_dict[sig_Id]['S_distances'] = np.asarray(RR_dict[sig_Id]['S_distances'])\n",
    "\n",
    "  RR_dict[sig_Id]['Avg_RR_distance'] = RR_dict[sig_Id]['RR_distances'].mean()\n",
    "  RR_dict[sig_Id]['AVG_S_distance'] = RR_dict[sig_Id]['S_distances'].mean()\n",
    "\n",
    "\n",
    "RR_df = pd.DataFrame.from_dict(RR_dict,orient=\"index\")\n",
    "RR_df.tail()"
   ]
  },
  {
   "cell_type": "code",
   "execution_count": 8,
   "metadata": {},
   "outputs": [],
   "source": [
    "import heartpy as hp \n",
    "\n",
    "classes = np.array([\"N\",\"S\",\"V\"])\n",
    "\n",
    "patch_length = 350 \n",
    "\n",
    "def convert_to_one_hot(label):\n",
    "    return np.array(classes == label,dtype=np.float32)\n",
    "\n",
    "def create_patch_dataset(df):\n",
    "    \n",
    "    dataset_dict = {}\n",
    "    ids = df['sigId']\n",
    "   \n",
    "    for id in tqdm(ids):\n",
    "        row = df[df['sigId'] == id]\n",
    "        sigId = row['sigId'].values[0]\n",
    "        peaks = row['peaks'].values[0]\n",
    "        first_lead_signal = row['ecg_lead_1'].values[0]\n",
    "        second_lead_signal = row['ecg_lead_2'].values[0]\n",
    "        labels = row['labels'].values[0]\n",
    "        avg_RR = RR_df.loc[sigId]['Avg_RR_distance'] # T for the signal \n",
    "\n",
    "        for i,peak in enumerate(peaks):\n",
    "            \n",
    "            stringIdx = str(sigId)+'_'+str(i)    \n",
    "            dataset_dict[stringIdx] = {}\n",
    "            dataset_dict[stringIdx][\"first_lead\"] = list()\n",
    "            dataset_dict[stringIdx][\"second_lead\"] = list()\n",
    "            size = list(range(int(peak-(avg_RR)),int(peak+avg_RR)))\n",
    "\n",
    "            for s in size:\n",
    "                if(s < 0 or s >= len(first_lead_signal)):\n",
    "                    dataset_dict[stringIdx][\"first_lead\"].append(0.5)\n",
    "                    dataset_dict[stringIdx][\"second_lead\"].append(0.5)\n",
    "                else:\n",
    "                    dataset_dict[stringIdx][\"first_lead\"].append(first_lead_signal[s])\n",
    "                    dataset_dict[stringIdx][\"second_lead\"].append(second_lead_signal[s])\n",
    "            \n",
    "            first_lead = dataset_dict[stringIdx][\"first_lead\"][:]\n",
    "            second_lead = dataset_dict[stringIdx][\"second_lead\"][:]\n",
    "            \n",
    "            first_lead = resample(first_lead,patch_length)\n",
    "            second_lead = resample(second_lead,patch_length)\n",
    "            \n",
    "            dataset_dict[stringIdx][\"first_lead\"] = first_lead[:]\n",
    "            dataset_dict[stringIdx][\"second_lead\"] = second_lead[:]\n",
    "            \n",
    "            #dataset_dict[stringIdx][\"dwt_1\"] = pywt.dwt(first_lead,'db4','constant')\n",
    "            #dataset_dict[stringIdx][\"dwt_2\"] = pywt.dwt(second_lead,'db4','constant')\n",
    "\n",
    "            dataset_dict[stringIdx][\"dwt_1\"] = pywt.wavedec(first_lead, 'db3', level=2)\n",
    "            dataset_dict[stringIdx][\"dwt_2\"] = pywt.wavedec(second_lead, 'db3', level=2)\n",
    "            \n",
    "            dataset_dict[stringIdx][\"stringLabel\"] = labels[i]\n",
    "            dataset_dict[stringIdx][\"label\"] = convert_to_one_hot(labels[i])\n",
    "\n",
    "    dataset_df = pd.DataFrame.from_dict(dataset_dict,orient=\"index\")\n",
    "    return dataset_df"
   ]
  },
  {
   "cell_type": "code",
   "execution_count": 9,
   "metadata": {},
   "outputs": [
    {
     "name": "stderr",
     "output_type": "stream",
     "text": [
      "100%|██████████| 84/84 [00:49<00:00,  1.71it/s]\n",
      "100%|██████████| 21/21 [00:12<00:00,  1.64it/s]\n"
     ]
    }
   ],
   "source": [
    "validation_percentage = 0.2\n",
    "training_df, validation_df = train_test_split(filtered_df,test_size = validation_percentage,random_state=SEED)\n",
    "\n",
    "training_patches_df_ = create_patch_dataset(training_df)\n",
    "validation_patches_df_ = create_patch_dataset(validation_df)"
   ]
  },
  {
   "cell_type": "code",
   "execution_count": 10,
   "metadata": {},
   "outputs": [
    {
     "name": "stdout",
     "output_type": "stream",
     "text": [
      "How many training indx: 183323\n",
      "Balancing training...\n",
      "pre drop: 198588\n",
      "post drop:23825\n",
      "43609\n",
      "1091\n",
      "1048\n",
      "Balancing validation\n"
     ]
    },
    {
     "data": {
      "image/png": "[encoded data removed]",
      "text/plain": [
       "<Figure size 432x288 with 2 Axes>"
      ]
     },
     "metadata": {},
     "output_type": "display_data"
    }
   ],
   "source": [
    "training_patches_df = training_patches_df_.copy(deep=True)\n",
    "validation_patches_df = validation_patches_df_.copy(deep=True)\n",
    "\n",
    "training_df.head()\n",
    "\n",
    "training_patients = training_df['sigId']\n",
    "validation_patients = validation_df['sigId']\n",
    "\n",
    "# calculate percentage of heartbeats to drop \n",
    "\n",
    "num_n = len(training_patches_df[(training_patches_df['stringLabel']=='N')])\n",
    "num_s = len(training_patches_df[(training_patches_df['stringLabel']=='S')])\n",
    "num_v = len(training_patches_df[(training_patches_df['stringLabel']=='V')])\n",
    "to_drop = num_n - max(num_s,num_v)\n",
    "perc_to_drop_train = to_drop/(num_n)\n",
    "\n",
    "num_n = len(validation_patches_df[(validation_patches_df['stringLabel']=='N')])\n",
    "num_s = len(validation_patches_df[(validation_patches_df['stringLabel']=='S')])\n",
    "num_v = len(validation_patches_df[(validation_patches_df['stringLabel']=='V')])\n",
    "to_drop = num_n - max(num_s,num_v)\n",
    "perc_to_drop_valid = to_drop/(num_n)\n",
    "\n",
    "train_indexes = training_patches_df.index[training_patches_df['stringLabel'] == 'N'].tolist()\n",
    "valid_indexes = validation_patches_df.index[validation_patches_df['stringLabel'] == 'N'].tolist()\n",
    "\n",
    "print(f\"How many training indx: {len(train_indexes)}\")\n",
    "\n",
    "train_to_drop = list()\n",
    "valid_to_drop = list()\n",
    "lengths = list()\n",
    "dict_train = {}\n",
    "valid_train = {}\n",
    "\n",
    "print(\"Balancing training...\")\n",
    "\n",
    "for p in training_patients:\n",
    "    dict_train[p] = list()\n",
    "\n",
    "for hb in train_indexes:\n",
    "    dict_train[hb.split('_')[0]].append(hb)\n",
    "\n",
    "for p in dict_train:\n",
    "   random.shuffle(dict_train[p])\n",
    "\n",
    "for k in dict_train:\n",
    "    train_to_drop += dict_train[k][:int(len(dict_train[k]) * perc_to_drop_train)]\n",
    "\n",
    "print(f\"pre drop: {len(training_patches_df.index)}\")\n",
    "training_patches_df = training_patches_df.drop(train_to_drop)\n",
    "print(f\"post drop:{len(training_patches_df.index)}\")\n",
    "print(num_n)\n",
    "print(num_s)\n",
    "print(num_v)\n",
    "print(\"Balancing validation\")\n",
    "\n",
    "for p in validation_patients:\n",
    "    valid_train[p] = list()\n",
    "    \n",
    "for hb in valid_indexes:\n",
    "    valid_train[hb.split('_')[0]].append(hb)\n",
    "\n",
    "for p in valid_train:\n",
    "    random.shuffle(valid_train[p])\n",
    "\n",
    "for k in valid_train:\n",
    "    valid_to_drop += valid_train[k][:int(perc_to_drop_valid * len(valid_train[k]))]\n",
    "\n",
    "validation_balanced_patches_df = validation_patches_df.drop(valid_to_drop)\n",
    "\n",
    "\n",
    "training_labels = training_patches_df['stringLabel'].values\n",
    "validation_labels = validation_balanced_patches_df['stringLabel'].values\n",
    "\n",
    "classes = [\"N\",\"S\",\"V\"]\n",
    "\n",
    "training_counts = [0]*3\n",
    "validation_counts = [0]*3\n",
    "\n",
    "for l in training_labels:\n",
    "    training_counts[classes.index(l)] += 1\n",
    "for l in validation_labels:\n",
    "    validation_counts[classes.index(l)] += 1\n",
    "\n",
    "fig1, (ax1,ax2) = plt.subplots(1,2)\n",
    "\n",
    "ax1.pie(training_counts, explode=None, labels=classes, autopct='%1.1f%%',\n",
    "        shadow=False, startangle=90)\n",
    "ax1.axis('equal')  \n",
    "ax2.pie(validation_counts, explode=None, labels=classes, autopct='%1.1f%%',\n",
    "        shadow=False, startangle=90)\n",
    "ax2.axis('equal')  \n",
    "\n",
    "fig1.set_facecolor(\"white\")\n",
    "\n",
    "plt.show()\n"
   ]
  },
  {
   "cell_type": "code",
   "execution_count": 11,
   "metadata": {},
   "outputs": [],
   "source": [
    "def create_input(df):\n",
    "    \n",
    "    x = list()\n",
    "    y = list()\n",
    "    \n",
    "    for id in tqdm(df.index.tolist()):\n",
    "        row = df.loc[id]\n",
    "        x.append(np.transpose(np.asarray([row['first_lead'],row['second_lead']]).astype(np.float32)))\n",
    "        y.append(row['label'])\n",
    "\n",
    "    x = np.asarray(x).astype(np.float32)\n",
    "    y = np.asarray(y).astype(np.float32)\n",
    "    \n",
    "    return x,y\n",
    "\n",
    "def create_input_DWT(df):\n",
    "    \n",
    "    x = list()\n",
    "    y = list()\n",
    "    \n",
    "    for id in tqdm(df.index.tolist()):\n",
    "        row = df.loc[id]\n",
    "        x.append(np.transpose(np.asarray([row['dwt_1'][0],row['dwt_2'][0]]).astype(np.float32)))\n",
    "        y.append(row['label'])\n",
    "\n",
    "    x = np.asarray(x).astype(np.float32)\n",
    "    y = np.asarray(y).astype(np.float32)\n",
    "    \n",
    "    return x,y"
   ]
  },
  {
   "cell_type": "code",
   "execution_count": 12,
   "metadata": {},
   "outputs": [
    {
     "name": "stderr",
     "output_type": "stream",
     "text": [
      "100%|██████████| 23825/23825 [00:01<00:00, 15275.27it/s]\n",
      "100%|██████████| 3239/3239 [00:00<00:00, 19316.06it/s]\n",
      "100%|██████████| 45748/45748 [00:02<00:00, 19718.29it/s]\n"
     ]
    }
   ],
   "source": [
    "x_train,y_train = create_input(training_patches_df)\n",
    "x_valid,y_valid = create_input(validation_balanced_patches_df)\n",
    "x_test,y_test = create_input(validation_patches_df)"
   ]
  },
  {
   "cell_type": "code",
   "execution_count": 14,
   "metadata": {},
   "outputs": [],
   "source": [
    "def create_autoencoder_input(df):\n",
    "    x = list()\n",
    "    y = list()\n",
    "    \n",
    "    for id in tqdm(df.index.tolist()):\n",
    "        row = df.loc[id]\n",
    "        x.append(np.transpose(np.asarray([row['first_lead']]).astype(np.float32)))\n",
    "\n",
    "    x = np.asarray(x).astype(np.float32)\n",
    "    \n",
    "    return x"
   ]
  },
  {
   "cell_type": "code",
   "execution_count": 22,
   "metadata": {},
   "outputs": [
    {
     "name": "stderr",
     "output_type": "stream",
     "text": [
      "100%|██████████| 23825/23825 [00:01<00:00, 21786.05it/s]\n",
      "100%|██████████| 3239/3239 [00:00<00:00, 21427.56it/s]\n"
     ]
    }
   ],
   "source": [
    "x_autoencoder = create_autoencoder_input(training_patches_df)\n",
    "x_valid_auto = create_autoencoder_input(validation_balanced_patches_df)"
   ]
  },
  {
   "cell_type": "code",
   "execution_count": 20,
   "metadata": {},
   "outputs": [
    {
     "data": {
      "text/plain": [
       "(23825, 350, 1)"
      ]
     },
     "execution_count": 20,
     "metadata": {},
     "output_type": "execute_result"
    }
   ],
   "source": [
    "x_autoencoder.shape"
   ]
  },
  {
   "cell_type": "code",
   "execution_count": 90,
   "metadata": {},
   "outputs": [
    {
     "name": "stdout",
     "output_type": "stream",
     "text": [
      "Model: \"model_46\"\n",
      "_________________________________________________________________\n",
      " Layer (type)                Output Shape              Param #   \n",
      "=================================================================\n",
      " input_33 (InputLayer)       [(None, 350)]             0         \n",
      "                                                                 \n",
      " dense_104 (Dense)           (None, 512)               179712    \n",
      "                                                                 \n",
      " dense_105 (Dense)           (None, 256)               131328    \n",
      "                                                                 \n",
      " dense_106 (Dense)           (None, 50)                12850     \n",
      "                                                                 \n",
      " dense_107 (Dense)           (None, 256)               13056     \n",
      "                                                                 \n",
      " dense_108 (Dense)           (None, 512)               131584    \n",
      "                                                                 \n",
      " dense_109 (Dense)           (None, 350)               179550    \n",
      "                                                                 \n",
      "=================================================================\n",
      "Total params: 648,080\n",
      "Trainable params: 648,080\n",
      "Non-trainable params: 0\n",
      "_________________________________________________________________\n",
      "Epoch 1/50\n",
      "94/94 [==============================] - 2s 20ms/step - loss: 0.0279 - val_loss: 0.0246\n",
      "Epoch 2/50\n",
      "94/94 [==============================] - 2s 17ms/step - loss: 0.0190 - val_loss: 0.0160\n",
      "Epoch 3/50\n",
      "94/94 [==============================] - 2s 18ms/step - loss: 0.0143 - val_loss: 0.0132\n",
      "Epoch 4/50\n",
      "94/94 [==============================] - 2s 16ms/step - loss: 0.0130 - val_loss: 0.0120\n",
      "Epoch 5/50\n",
      "94/94 [==============================] - 2s 17ms/step - loss: 0.0117 - val_loss: 0.0115\n",
      "Epoch 6/50\n",
      "94/94 [==============================] - 1s 13ms/step - loss: 0.0113 - val_loss: 0.0112\n",
      "Epoch 7/50\n",
      "94/94 [==============================] - 2s 17ms/step - loss: 0.0110 - val_loss: 0.0110\n",
      "Epoch 8/50\n",
      "94/94 [==============================] - 1s 15ms/step - loss: 0.0105 - val_loss: 0.0103\n",
      "Epoch 9/50\n",
      "94/94 [==============================] - 1s 15ms/step - loss: 0.0097 - val_loss: 0.0097\n",
      "Epoch 10/50\n",
      "94/94 [==============================] - 2s 18ms/step - loss: 0.0091 - val_loss: 0.0093\n",
      "Epoch 11/50\n",
      "94/94 [==============================] - 1s 15ms/step - loss: 0.0086 - val_loss: 0.0085\n",
      "Epoch 12/50\n",
      "94/94 [==============================] - 2s 18ms/step - loss: 0.0080 - val_loss: 0.0079\n",
      "Epoch 13/50\n",
      "94/94 [==============================] - 2s 18ms/step - loss: 0.0076 - val_loss: 0.0076\n",
      "Epoch 14/50\n",
      "94/94 [==============================] - 2s 18ms/step - loss: 0.0073 - val_loss: 0.0071\n",
      "Epoch 15/50\n",
      "94/94 [==============================] - 1s 14ms/step - loss: 0.0069 - val_loss: 0.0068\n",
      "Epoch 16/50\n",
      "94/94 [==============================] - 1s 14ms/step - loss: 0.0067 - val_loss: 0.0065\n",
      "Epoch 17/50\n",
      "94/94 [==============================] - 1s 13ms/step - loss: 0.0065 - val_loss: 0.0064\n",
      "Epoch 18/50\n",
      "94/94 [==============================] - 1s 13ms/step - loss: 0.0063 - val_loss: 0.0062\n",
      "Epoch 19/50\n",
      "94/94 [==============================] - 1s 14ms/step - loss: 0.0061 - val_loss: 0.0061\n",
      "Epoch 20/50\n",
      "94/94 [==============================] - 1s 14ms/step - loss: 0.0060 - val_loss: 0.0061\n",
      "Epoch 21/50\n",
      "94/94 [==============================] - 2s 21ms/step - loss: 0.0058 - val_loss: 0.0059\n",
      "Epoch 22/50\n",
      "94/94 [==============================] - 1s 15ms/step - loss: 0.0057 - val_loss: 0.0058\n",
      "Epoch 23/50\n",
      "94/94 [==============================] - 1s 16ms/step - loss: 0.0055 - val_loss: 0.0057\n",
      "Epoch 24/50\n",
      "94/94 [==============================] - 2s 19ms/step - loss: 0.0053 - val_loss: 0.0054\n",
      "Epoch 25/50\n",
      "94/94 [==============================] - 2s 18ms/step - loss: 0.0051 - val_loss: 0.0053\n",
      "Epoch 26/50\n",
      "94/94 [==============================] - 1s 14ms/step - loss: 0.0050 - val_loss: 0.0052\n",
      "Epoch 27/50\n",
      "94/94 [==============================] - 2s 18ms/step - loss: 0.0048 - val_loss: 0.0050\n",
      "Epoch 28/50\n",
      "94/94 [==============================] - 1s 14ms/step - loss: 0.0047 - val_loss: 0.0049\n",
      "Epoch 29/50\n",
      "94/94 [==============================] - 2s 18ms/step - loss: 0.0046 - val_loss: 0.0048\n",
      "Epoch 30/50\n",
      "94/94 [==============================] - 1s 16ms/step - loss: 0.0045 - val_loss: 0.0047\n",
      "Epoch 31/50\n",
      "94/94 [==============================] - 2s 20ms/step - loss: 0.0044 - val_loss: 0.0045\n",
      "Epoch 32/50\n",
      "94/94 [==============================] - 1s 15ms/step - loss: 0.0043 - val_loss: 0.0045\n",
      "Epoch 33/50\n",
      "94/94 [==============================] - 2s 19ms/step - loss: 0.0042 - val_loss: 0.0043\n",
      "Epoch 34/50\n",
      "94/94 [==============================] - 1s 15ms/step - loss: 0.0041 - val_loss: 0.0044\n",
      "Epoch 35/50\n",
      "94/94 [==============================] - 2s 19ms/step - loss: 0.0040 - val_loss: 0.0042\n",
      "Epoch 36/50\n",
      "94/94 [==============================] - 2s 20ms/step - loss: 0.0040 - val_loss: 0.0041\n",
      "Epoch 37/50\n",
      "94/94 [==============================] - 2s 18ms/step - loss: 0.0039 - val_loss: 0.0041\n",
      "Epoch 38/50\n",
      "94/94 [==============================] - 2s 20ms/step - loss: 0.0038 - val_loss: 0.0039\n",
      "Epoch 39/50\n",
      "94/94 [==============================] - 1s 13ms/step - loss: 0.0038 - val_loss: 0.0039\n",
      "Epoch 40/50\n",
      "94/94 [==============================] - 1s 16ms/step - loss: 0.0037 - val_loss: 0.0038\n",
      "Epoch 41/50\n",
      "94/94 [==============================] - 1s 15ms/step - loss: 0.0036 - val_loss: 0.0037\n",
      "Epoch 42/50\n",
      "94/94 [==============================] - 2s 20ms/step - loss: 0.0036 - val_loss: 0.0037\n",
      "Epoch 43/50\n",
      "94/94 [==============================] - 1s 14ms/step - loss: 0.0035 - val_loss: 0.0036\n",
      "Epoch 44/50\n",
      "94/94 [==============================] - 2s 17ms/step - loss: 0.0035 - val_loss: 0.0036\n",
      "Epoch 45/50\n",
      "94/94 [==============================] - 1s 14ms/step - loss: 0.0034 - val_loss: 0.0035\n",
      "Epoch 46/50\n",
      "94/94 [==============================] - 1s 14ms/step - loss: 0.0034 - val_loss: 0.0034\n",
      "Epoch 47/50\n",
      "94/94 [==============================] - 2s 20ms/step - loss: 0.0033 - val_loss: 0.0034\n",
      "Epoch 48/50\n",
      "94/94 [==============================] - 1s 13ms/step - loss: 0.0033 - val_loss: 0.0035\n",
      "Epoch 49/50\n",
      "94/94 [==============================] - 1s 16ms/step - loss: 0.0033 - val_loss: 0.0034\n",
      "Epoch 50/50\n",
      "94/94 [==============================] - 2s 16ms/step - loss: 0.0032 - val_loss: 0.0033\n"
     ]
    }
   ],
   "source": [
    "import keras\n",
    "from keras import layers\n",
    "\n",
    "# This is the size of our encoded representations\n",
    "encoding_dim = 50  # 32 floats -> compression of factor 24.5, assuming the input is 784 floats\n",
    "\n",
    "input_shape = x_autoencoder.shape[1]\n",
    "\n",
    "input = keras.Input(shape=input_shape)\n",
    "\n",
    "# encoding \n",
    "\n",
    "dense1 = layers.Dense(512,activation='relu')(input)\n",
    "dense2 = layers.Dense(256,activation='relu')(dense1)\n",
    "\n",
    "encoded = layers.Dense(encoding_dim, activation='sigmoid')(dense2)\n",
    "\n",
    "dense3 = layers.Dense(256,activation='relu')(encoded)\n",
    "dense4 = layers.Dense(512,activation='relu')(dense3)\n",
    "\n",
    "# decoding\n",
    "\n",
    "decoded = layers.Dense(input_shape, activation='sigmoid')(dense4)\n",
    "\n",
    "# This model maps an input to its reconstruction\n",
    "autoencoder = keras.Model(input, decoded)\n",
    "\n",
    "# This model maps an input to its encoded representation\n",
    "encoder = keras.Model(input, encoded)\n",
    "\n",
    "\n",
    "# This is our encoded (32-dimensional) input\n",
    "#encoded_input = keras.Input(shape=(encoding_dim,))\n",
    "# Retrieve the last layer of the autoencoder model\n",
    "#decoder_layer = autoencoder.layers[-1]\n",
    "# Create the decoder model\n",
    "#decoder = keras.Model(encoded_input, decoder_layer(encoded_input))\n",
    "\n",
    "\n",
    "autoencoder.compile(optimizer=tf.keras.optimizers.Adam(learning_rate=0.0001), loss=\"mse\")\n",
    "autoencoder.summary()\n",
    "\n",
    "history = autoencoder.fit(x_autoencoder, x_autoencoder,\n",
    "                epochs=50,\n",
    "                batch_size=256,\n",
    "                shuffle=True,\n",
    "                validation_data=(x_valid_auto, x_valid_auto))"
   ]
  },
  {
   "cell_type": "code",
   "execution_count": 91,
   "metadata": {},
   "outputs": [
    {
     "data": {
      "image/png": "[encoded data removed]",
      "text/plain": [
       "<Figure size 432x288 with 1 Axes>"
      ]
     },
     "metadata": {
      "needs_background": "light"
     },
     "output_type": "display_data"
    }
   ],
   "source": [
    "plt.plot(history.history[\"loss\"], label=\"Training Loss\")\n",
    "plt.plot(history.history[\"val_loss\"], label=\"Validation Loss\")\n",
    "plt.legend()\n",
    "plt.show()"
   ]
  },
  {
   "cell_type": "code",
   "execution_count": 92,
   "metadata": {},
   "outputs": [],
   "source": [
    "def plot_sample(signal):\n",
    "    fig,ax = plt.subplots()\n",
    "    x = list(range(len(signal)))\n",
    "    ax.plot(x,signal)\n",
    "    plt.show()"
   ]
  },
  {
   "cell_type": "code",
   "execution_count": 93,
   "metadata": {},
   "outputs": [],
   "source": [
    "# try the autoencoder \n",
    "\n",
    "samples = x_autoencoder[:10000]\n",
    "\n"
   ]
  },
  {
   "cell_type": "code",
   "execution_count": 94,
   "metadata": {},
   "outputs": [],
   "source": [
    "\n",
    "decoded = autoencoder.predict(samples)\n",
    "encoded = encoder.predict(samples)\n"
   ]
  },
  {
   "cell_type": "code",
   "execution_count": 95,
   "metadata": {},
   "outputs": [
    {
     "data": {
      "image/png": "[encoded data removed]",
      "text/plain": [
       "<Figure size 432x288 with 1 Axes>"
      ]
     },
     "metadata": {
      "needs_background": "light"
     },
     "output_type": "display_data"
    },
    {
     "data": {
      "image/png": "[encoded data removed]",
      "text/plain": [
       "<Figure size 432x288 with 1 Axes>"
      ]
     },
     "metadata": {
      "needs_background": "light"
     },
     "output_type": "display_data"
    },
    {
     "data": {
      "image/png": "[encoded data removed]",
      "text/plain": [
       "<Figure size 432x288 with 1 Axes>"
      ]
     },
     "metadata": {
      "needs_background": "light"
     },
     "output_type": "display_data"
    }
   ],
   "source": [
    "plot_sample(samples[1200])\n",
    "plot_sample(decoded[1200])\n",
    "plot_sample(encoded[1200])"
   ]
  },
  {
   "cell_type": "code",
   "execution_count": 96,
   "metadata": {},
   "outputs": [],
   "source": [
    "def encode_input(encoder,x_input):\n",
    "    transformed = encoder.predict(x_input)\n",
    "    return np.array(transformed)\n",
    "\n",
    "\n",
    "x_encoded = encode_input(encoder,x_autoencoder)"
   ]
  },
  {
   "cell_type": "code",
   "execution_count": 97,
   "metadata": {},
   "outputs": [],
   "source": [
    "import seaborn as sns \n",
    "def plot_confusion_matrix(y_true, y_pred):\n",
    "  \"\"\"\n",
    "    :param ndarray y_true: contains the ground truth labels in the shape (n_samples,)\n",
    "    :param ndarray y_pred: contains the predicted labels in the shape (n_samples,)\n",
    "  \"\"\"\n",
    "  #y_true = np.argmax(y_true,axis=1) already 1dimensional\n",
    "  #y_pred = np.argmax(y_pred,axis=1)\n",
    "  \n",
    "  con_mat = tf.math.confusion_matrix(labels=y_true, predictions=y_pred).numpy()\n",
    "  con_mat_norm = np.around(con_mat.astype('float') / con_mat.sum(axis=1)[:, np.newaxis], decimals=2)\n",
    "  con_mat_df = pd.DataFrame(con_mat_norm,\n",
    "                  index = classes, \n",
    "                  columns = classes)\n",
    "  figure = plt.figure(figsize=(8, 8))\n",
    "  sns.heatmap(con_mat_df, annot=True,cmap=plt.cm.Blues)\n",
    "  plt.tight_layout()\n",
    "  plt.ylabel('True label')\n",
    "  plt.xlabel('Predicted label')\n",
    "  plt.show()"
   ]
  },
  {
   "cell_type": "code",
   "execution_count": 98,
   "metadata": {},
   "outputs": [],
   "source": [
    "def create_input(df):\n",
    "    \n",
    "    x = list()\n",
    "    y = list()\n",
    "    \n",
    "    for id in tqdm(df.index.tolist()):\n",
    "        row = df.loc[id]\n",
    "        x.append(np.transpose(np.asarray([row['first_lead']]).astype(np.float32)))\n",
    "        y.append(row['label'])\n",
    "\n",
    "    x = np.asarray(x).astype(np.float32)\n",
    "    y = np.asarray(y).astype(np.float32)\n",
    "    \n",
    "    return x,y"
   ]
  },
  {
   "cell_type": "code",
   "execution_count": 99,
   "metadata": {},
   "outputs": [
    {
     "name": "stderr",
     "output_type": "stream",
     "text": [
      "100%|██████████| 23825/23825 [00:02<00:00, 9485.48it/s] \n",
      "100%|██████████| 3239/3239 [00:00<00:00, 7205.75it/s]\n",
      "100%|██████████| 45748/45748 [00:04<00:00, 10519.40it/s]\n"
     ]
    },
    {
     "name": "stdout",
     "output_type": "stream",
     "text": [
      "KNN trained.\n",
      "Scoring:\n"
     ]
    }
   ],
   "source": [
    "from sklearn.svm import SVC\n",
    "\n",
    "\n",
    "x_train,y_train = create_input(training_patches_df)\n",
    "x_valid,y_valid = create_input(validation_balanced_patches_df)\n",
    "x_test,y_test = create_input(validation_patches_df)\n",
    "\n",
    "\n",
    "x_train = encode_input(encoder,x_train)\n",
    "x_valid = encode_input(encoder,x_valid)\n",
    "x_test = encode_input(encoder,x_test)\n",
    "\n",
    "\n",
    "y_train = np.argmax(y_train,axis=1)\n",
    "y_valid = np.argmax(y_valid,axis=1)\n",
    "y_test = np.argmax(y_test,axis=1)\n",
    "\n",
    "\n",
    "from sklearn.neighbors import KNeighborsClassifier\n",
    "\n",
    "sv = SVC(C=7, kernel='rbf', degree=3,   # C is a regularization parameter -> the higher and the more we weights points outside the margin \n",
    "         gamma='scale', coef0=0.0, shrinking=True, \n",
    "         probability=False, tol=0.001, cache_size=200, \n",
    "         class_weight=None, verbose=False, max_iter=- 1, \n",
    "         decision_function_shape='ovr', break_ties=False, \n",
    "         random_state=None)\n",
    "\n",
    "print(\"training ...\",end=\"\\r\")\n",
    "sv.fit(x_train,y_train)\n",
    "print(\"KNN trained\",end=\"\\n\")\n",
    "print(\"Scoring:\")\n",
    "#sv.score(x_valid[:,:,0],y_valid)\n",
    "\n",
    "\n",
    "y_pred = sv.predict(x_test)"
   ]
  },
  {
   "cell_type": "code",
   "execution_count": 100,
   "metadata": {},
   "outputs": [
    {
     "name": "stdout",
     "output_type": "stream",
     "text": [
      "              precision    recall  f1-score   support\n",
      "\n",
      "           0       1.00      0.94      0.97     43609\n",
      "           1       0.46      0.79      0.58      1091\n",
      "           2       0.37      0.95      0.53      1048\n",
      "\n",
      "    accuracy                           0.94     45748\n",
      "   macro avg       0.61      0.89      0.69     45748\n",
      "weighted avg       0.97      0.94      0.95     45748\n",
      "\n"
     ]
    }
   ],
   "source": [
    "from sklearn.metrics import classification_report\n",
    "print(classification_report(y_test, y_pred))"
   ]
  },
  {
   "cell_type": "code",
   "execution_count": 101,
   "metadata": {},
   "outputs": [
    {
     "data": {
      "image/png": "[encoded data removed]",
      "text/plain": [
       "<Figure size 576x576 with 2 Axes>"
      ]
     },
     "metadata": {
      "needs_background": "light"
     },
     "output_type": "display_data"
    }
   ],
   "source": [
    "plot_confusion_matrix(y_test,y_pred)"
   ]
  },
  {
   "cell_type": "code",
   "execution_count": null,
   "metadata": {},
   "outputs": [],
   "source": []
  }
 ],
 "metadata": {
  "interpreter": {
   "hash": "57032db1ad97fb6277226b3fe4aea1573f683021aa87982e2676dc61901b587a"
  },
  "kernelspec": {
   "display_name": "Python 3.9.7 64-bit ('tf-gpu': conda)",
   "language": "python",
   "name": "python3"
  },
  "language_info": {
   "codemirror_mode": {
    "name": "ipython",
    "version": 3
   },
   "file_extension": ".py",
   "mimetype": "text/x-python",
   "name": "python",
   "nbconvert_exporter": "python",
   "pygments_lexer": "ipython3",
   "version": "3.9.7"
  },
  "orig_nbformat": 4
 },
 "nbformat": 4,
 "nbformat_minor": 2
}
