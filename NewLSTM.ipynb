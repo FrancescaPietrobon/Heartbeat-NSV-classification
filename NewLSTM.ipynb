{
  "cells": [
    {
      "cell_type": "markdown",
      "metadata": {
        "id": "view-in-github"
      },
      "source": [
        "<a href=\"https://colab.research.google.com/github/simonetome/ApplieAI-Biomedicine-Masciulli-Pietrobon-Tome/blob/main/OneVSAllProva.ipynb\" target=\"_parent\"><img src=\"https://colab.research.google.com/assets/colab-badge.svg\" alt=\"Open In Colab\"/></a>"
      ],
      "id": "view-in-github"
    },
    {
      "cell_type": "markdown",
      "id": "fbff9da2",
      "metadata": {
        "id": "fbff9da2"
      },
      "source": [
        "The aim of this notebook is to show performances augmenting samples of the imbalanced class with random gaussian noise of zero mean and variance 0.05 as suggested in DOI: 10.1155/2020/3215681"
      ]
    },
    {
      "cell_type": "code",
      "source": [
        "!pip install heartpy\n",
        "!pip install PyWavelets"
      ],
      "metadata": {
        "colab": {
          "base_uri": "https://localhost:8080/"
        },
        "id": "l1CgC3jGsC2d",
        "outputId": "90bcd3d1-8ecf-45d9-e56a-ec0a972caf02"
      },
      "id": "l1CgC3jGsC2d",
      "execution_count": 1,
      "outputs": [
        {
          "output_type": "stream",
          "name": "stdout",
          "text": [
            "Requirement already satisfied: heartpy in /usr/local/lib/python3.7/dist-packages (1.2.7)\n",
            "Requirement already satisfied: matplotlib<=3.3.4 in /usr/local/lib/python3.7/dist-packages (from heartpy) (3.2.2)\n",
            "Requirement already satisfied: numpy>=1.17 in /usr/local/lib/python3.7/dist-packages (from heartpy) (1.19.5)\n",
            "Requirement already satisfied: scipy in /usr/local/lib/python3.7/dist-packages (from heartpy) (1.4.1)\n",
            "Requirement already satisfied: python-dateutil>=2.1 in /usr/local/lib/python3.7/dist-packages (from matplotlib<=3.3.4->heartpy) (2.8.2)\n",
            "Requirement already satisfied: pyparsing!=2.0.4,!=2.1.2,!=2.1.6,>=2.0.1 in /usr/local/lib/python3.7/dist-packages (from matplotlib<=3.3.4->heartpy) (3.0.6)\n",
            "Requirement already satisfied: kiwisolver>=1.0.1 in /usr/local/lib/python3.7/dist-packages (from matplotlib<=3.3.4->heartpy) (1.3.2)\n",
            "Requirement already satisfied: cycler>=0.10 in /usr/local/lib/python3.7/dist-packages (from matplotlib<=3.3.4->heartpy) (0.11.0)\n",
            "Requirement already satisfied: six>=1.5 in /usr/local/lib/python3.7/dist-packages (from python-dateutil>=2.1->matplotlib<=3.3.4->heartpy) (1.15.0)\n",
            "Requirement already satisfied: PyWavelets in /usr/local/lib/python3.7/dist-packages (1.2.0)\n",
            "Requirement already satisfied: numpy>=1.17.3 in /usr/local/lib/python3.7/dist-packages (from PyWavelets) (1.19.5)\n"
          ]
        }
      ]
    },
    {
      "cell_type": "code",
      "execution_count": 2,
      "id": "7bfe12d7",
      "metadata": {
        "id": "7bfe12d7"
      },
      "outputs": [],
      "source": [
        "import os \n",
        "import zipfile \n",
        "from scipy.io import loadmat \n",
        "import pandas as pd\n",
        "import matplotlib.pyplot as plt \n",
        "import numpy as np\n",
        "import io\n",
        "from PIL import Image\n",
        "import tensorflow as tf \n",
        "from tensorflow import keras\n",
        "import sys\n",
        "from scipy.signal import resample, butter, lfilter, iirnotch\n",
        "from tqdm import tqdm\n",
        "import random\n",
        "from sklearn.model_selection import train_test_split\n",
        "import heartpy as hp\n",
        "from tensorflow.keras.callbacks import ModelCheckpoint,EarlyStopping,ReduceLROnPlateau\n",
        "import pywt as pw\n",
        "import seaborn as sns\n",
        "SEED = 1\n",
        "tf.random.set_seed(SEED)\n",
        "np.random.seed(SEED)\n",
        "random.seed(SEED)\n",
        "os.environ['PYTHONHASHSEED'] = str(SEED)"
      ]
    },
    {
      "cell_type": "code",
      "source": [
        "#IF Colab cloud GPU used -> Mount the My Drive folder and set cwd\n",
        "from google.colab import drive\n",
        "drive.mount('/content/drive')\n",
        "cwd = '/content/drive/My Drive/FinalAssignment'\n",
        "os.chdir(cwd)\n",
        "dataset_folder = os.path.join(cwd,'training_set_dir')"
      ],
      "metadata": {
        "colab": {
          "base_uri": "https://localhost:8080/"
        },
        "id": "iiM7KQvEsJjV",
        "outputId": "a241c030-26dd-499b-baf5-7600646754d4"
      },
      "id": "iiM7KQvEsJjV",
      "execution_count": 3,
      "outputs": [
        {
          "output_type": "stream",
          "name": "stdout",
          "text": [
            "Drive already mounted at /content/drive; to attempt to forcibly remount, call drive.mount(\"/content/drive\", force_remount=True).\n"
          ]
        }
      ]
    },
    {
      "cell_type": "code",
      "execution_count": 4,
      "id": "5fcdb248",
      "metadata": {
        "id": "5fcdb248",
        "colab": {
          "base_uri": "https://localhost:8080/",
          "height": 53
        },
        "outputId": "3a00ffa4-2e52-47bb-9668-38dbc695f6ad"
      },
      "outputs": [
        {
          "output_type": "execute_result",
          "data": {
            "application/vnd.google.colaboratory.intrinsic+json": {
              "type": "string"
            },
            "text/plain": [
              "'\\ndataset_current_folder = \"training_set.zip\" # where the zip is\\ndataset_folder = \"C://Users//simon//Desktop//AppliedAI-project\" # where I want the dataset - avoid the current folder as Git doesn\\'t allow huge uploads\\n\\nwith zipfile.ZipFile(dataset_current_folder, \\'r\\') as zip: # extract the zip file into the desired folder \\n    zip.extractall(dataset_folder)\\n'"
            ]
          },
          "metadata": {},
          "execution_count": 4
        }
      ],
      "source": [
        "'''\n",
        "dataset_current_folder = \"training_set.zip\" # where the zip is\n",
        "dataset_folder = \"C://Users//simon//Desktop//AppliedAI-project\" # where I want the dataset - avoid the current folder as Git doesn't allow huge uploads\n",
        "\n",
        "with zipfile.ZipFile(dataset_current_folder, 'r') as zip: # extract the zip file into the desired folder \n",
        "    zip.extractall(dataset_folder)\n",
        "'''"
      ]
    },
    {
      "cell_type": "code",
      "source": [
        "'''\n",
        "#IF local runtime used -> Set os.cwd as google drive volume , mounted locally\n",
        "os.chdir('G:\\Il mio Drive')\n",
        "cwd = os.getcwd()\n",
        "cwd = os.path.join(cwd,'Colab2022/AppliedAI/FinalAssignment')\n",
        "os.chdir(cwd)\n",
        "dataset_folder = os.path.join(cwd,'training_set_dir')\n",
        "'''"
      ],
      "metadata": {
        "id": "HsPnFitKvg0j",
        "colab": {
          "base_uri": "https://localhost:8080/",
          "height": 53
        },
        "outputId": "cf88a8c1-51f8-41e3-8c37-e8e5e11d50fa"
      },
      "id": "HsPnFitKvg0j",
      "execution_count": 5,
      "outputs": [
        {
          "output_type": "execute_result",
          "data": {
            "application/vnd.google.colaboratory.intrinsic+json": {
              "type": "string"
            },
            "text/plain": [
              "\"\\n#IF local runtime used -> Set os.cwd as google drive volume , mounted locally\\nos.chdir('G:\\\\Il mio Drive')\\ncwd = os.getcwd()\\ncwd = os.path.join(cwd,'Colab2022/AppliedAI/FinalAssignment')\\nos.chdir(cwd)\\ndataset_folder = os.path.join(cwd,'training_set_dir')\\n\""
            ]
          },
          "metadata": {},
          "execution_count": 5
        }
      ]
    },
    {
      "cell_type": "code",
      "execution_count": 6,
      "id": "26e300ba",
      "metadata": {
        "id": "26e300ba"
      },
      "outputs": [],
      "source": [
        "def load_data(sample_prefix, input_dir):    # everything is returned as a numpy array which is easier to manipulate\n",
        "    label_filepath = os.path.join(input_dir, sample_prefix + '_ann.mat')\n",
        "    peak_filepath = os.path.join(input_dir, sample_prefix + '_rpk.mat')\n",
        "    signal_filepath = os.path.join(input_dir, sample_prefix + '.mat')\n",
        "    if os.path.isfile(label_filepath):\n",
        "        mat_file = loadmat(label_filepath)\n",
        "        label = np.asarray(mat_file['labels'])\n",
        "    if os.path.isfile(peak_filepath):\n",
        "        mat_file = loadmat(peak_filepath)\n",
        "        peaks = np.array(mat_file['rpeaks'],dtype=np.int64)\n",
        "    if os.path.isfile(signal_filepath):\n",
        "        mat_file = loadmat(signal_filepath)\n",
        "        signal = np.asarray(mat_file['ecg'] )\n",
        "\n",
        "    return label, peaks, signal\n",
        "\n",
        "labels = list()             # labels \n",
        "ids = list()                # Id of samples \n",
        "rpeaks = list()             # detected peaks of the signal \n",
        "ecg_signals = list()        # .mat ecg signal \n",
        "frequencies = list()        # sample frequency of the ecg signal \n",
        "\n",
        "\n",
        "for f in os.listdir(dataset_folder):\n",
        "  if f.lower().endswith('.mat'):\n",
        "    id = f[:4]\n",
        "    if id not in ids:\n",
        "      ids.append(id)\n",
        "      sample_prefix = f[:8]\n",
        "      label, peak, signal = load_data(sample_prefix, dataset_folder)\n",
        "      labels.append(label)\n",
        "      rpeaks.append(peak)\n",
        "      ecg_signals.append(signal)\n",
        "      frequencies.append(int(sample_prefix[5:]))\n"
      ]
    },
    {
      "cell_type": "code",
      "execution_count": 7,
      "id": "d704c9dd",
      "metadata": {
        "id": "d704c9dd",
        "outputId": "94d326f8-f4c1-4416-bd4d-8abce146b7cc",
        "colab": {
          "base_uri": "https://localhost:8080/",
          "height": 224
        }
      },
      "outputs": [
        {
          "output_type": "stream",
          "name": "stderr",
          "text": [
            "100%|██████████| 105/105 [00:00<00:00, 677.17it/s]\n"
          ]
        },
        {
          "output_type": "execute_result",
          "data": {
            "text/html": [
              "\n",
              "  <div id=\"df-8e22571a-f324-47e4-bb34-82ed349b00a2\">\n",
              "    <div class=\"colab-df-container\">\n",
              "      <div>\n",
              "<style scoped>\n",
              "    .dataframe tbody tr th:only-of-type {\n",
              "        vertical-align: middle;\n",
              "    }\n",
              "\n",
              "    .dataframe tbody tr th {\n",
              "        vertical-align: top;\n",
              "    }\n",
              "\n",
              "    .dataframe thead th {\n",
              "        text-align: right;\n",
              "    }\n",
              "</style>\n",
              "<table border=\"1\" class=\"dataframe\">\n",
              "  <thead>\n",
              "    <tr style=\"text-align: right;\">\n",
              "      <th></th>\n",
              "      <th>sigId</th>\n",
              "      <th>ecg_lead_1</th>\n",
              "      <th>ecg_lead_2</th>\n",
              "      <th>peaks</th>\n",
              "      <th>frequencies</th>\n",
              "      <th>labels</th>\n",
              "    </tr>\n",
              "  </thead>\n",
              "  <tbody>\n",
              "    <tr>\n",
              "      <th>0</th>\n",
              "      <td>S001</td>\n",
              "      <td>[0.0, 0.04, 0.03, 0.0, 0.03, 0.09, 0.18, 0.14,...</td>\n",
              "      <td>[0.08, 0.07, 0.1, 0.06, 0.06, 0.03, 0.1, 0.21,...</td>\n",
              "      <td>[29, 110, 191, 272, 353, 433, 514, 595, 676, 7...</td>\n",
              "      <td>128</td>\n",
              "      <td>[N, N, N, N, N, N, N, N, N, N, N, N, N, N, N, ...</td>\n",
              "    </tr>\n",
              "    <tr>\n",
              "      <th>1</th>\n",
              "      <td>S002</td>\n",
              "      <td>[-0.035, -0.045, -0.025, -0.035, -0.045, -0.05...</td>\n",
              "      <td>[-0.095, -0.105, -0.095, -0.095, -0.115, -0.09...</td>\n",
              "      <td>[48, 153, 243, 352, 440, 547, 636, 742, 831, 9...</td>\n",
              "      <td>128</td>\n",
              "      <td>[N, N, N, N, S, N, S, N, S, N, S, N, S, N, S, ...</td>\n",
              "    </tr>\n",
              "    <tr>\n",
              "      <th>2</th>\n",
              "      <td>S003</td>\n",
              "      <td>[-0.56, -0.56, -0.55, -0.47, -0.53, -0.47, -0....</td>\n",
              "      <td>[0.43, 0.56, 0.6, 0.41, 0.54, 0.48, 0.56, 0.46...</td>\n",
              "      <td>[91, 209, 326, 394, 537, 653, 745, 872, 984, 1...</td>\n",
              "      <td>128</td>\n",
              "      <td>[N, N, N, S, N, N, S, N, N, S, N, N, N, N, N, ...</td>\n",
              "    </tr>\n",
              "    <tr>\n",
              "      <th>3</th>\n",
              "      <td>S004</td>\n",
              "      <td>[-0.46, -0.49, -0.52, -0.58, -0.62, -0.69, -0....</td>\n",
              "      <td>[0.56, 0.61, 0.66, 0.66, 0.63, 0.66, 0.59, 0.5...</td>\n",
              "      <td>[98, 223, 349, 474, 599, 726, 853, 980, 1116, ...</td>\n",
              "      <td>128</td>\n",
              "      <td>[N, N, N, N, N, N, N, N, N, N, N, N, N, N, N, ...</td>\n",
              "    </tr>\n",
              "    <tr>\n",
              "      <th>4</th>\n",
              "      <td>S005</td>\n",
              "      <td>[-0.27, -0.17, -0.13, -0.23, -0.18, -0.23, -0....</td>\n",
              "      <td>[-0.02, -0.04, -0.01, -0.01, -0.02, -0.06, 0.0...</td>\n",
              "      <td>[27, 127, 225, 324, 423, 523, 623, 722, 822, 9...</td>\n",
              "      <td>128</td>\n",
              "      <td>[N, N, N, N, N, N, N, N, N, N, N, N, N, N, N, ...</td>\n",
              "    </tr>\n",
              "  </tbody>\n",
              "</table>\n",
              "</div>\n",
              "      <button class=\"colab-df-convert\" onclick=\"convertToInteractive('df-8e22571a-f324-47e4-bb34-82ed349b00a2')\"\n",
              "              title=\"Convert this dataframe to an interactive table.\"\n",
              "              style=\"display:none;\">\n",
              "        \n",
              "  <svg xmlns=\"http://www.w3.org/2000/svg\" height=\"24px\"viewBox=\"0 0 24 24\"\n",
              "       width=\"24px\">\n",
              "    <path d=\"M0 0h24v24H0V0z\" fill=\"none\"/>\n",
              "    <path d=\"M18.56 5.44l.94 2.06.94-2.06 2.06-.94-2.06-.94-.94-2.06-.94 2.06-2.06.94zm-11 1L8.5 8.5l.94-2.06 2.06-.94-2.06-.94L8.5 2.5l-.94 2.06-2.06.94zm10 10l.94 2.06.94-2.06 2.06-.94-2.06-.94-.94-2.06-.94 2.06-2.06.94z\"/><path d=\"M17.41 7.96l-1.37-1.37c-.4-.4-.92-.59-1.43-.59-.52 0-1.04.2-1.43.59L10.3 9.45l-7.72 7.72c-.78.78-.78 2.05 0 2.83L4 21.41c.39.39.9.59 1.41.59.51 0 1.02-.2 1.41-.59l7.78-7.78 2.81-2.81c.8-.78.8-2.07 0-2.86zM5.41 20L4 18.59l7.72-7.72 1.47 1.35L5.41 20z\"/>\n",
              "  </svg>\n",
              "      </button>\n",
              "      \n",
              "  <style>\n",
              "    .colab-df-container {\n",
              "      display:flex;\n",
              "      flex-wrap:wrap;\n",
              "      gap: 12px;\n",
              "    }\n",
              "\n",
              "    .colab-df-convert {\n",
              "      background-color: #E8F0FE;\n",
              "      border: none;\n",
              "      border-radius: 50%;\n",
              "      cursor: pointer;\n",
              "      display: none;\n",
              "      fill: #1967D2;\n",
              "      height: 32px;\n",
              "      padding: 0 0 0 0;\n",
              "      width: 32px;\n",
              "    }\n",
              "\n",
              "    .colab-df-convert:hover {\n",
              "      background-color: #E2EBFA;\n",
              "      box-shadow: 0px 1px 2px rgba(60, 64, 67, 0.3), 0px 1px 3px 1px rgba(60, 64, 67, 0.15);\n",
              "      fill: #174EA6;\n",
              "    }\n",
              "\n",
              "    [theme=dark] .colab-df-convert {\n",
              "      background-color: #3B4455;\n",
              "      fill: #D2E3FC;\n",
              "    }\n",
              "\n",
              "    [theme=dark] .colab-df-convert:hover {\n",
              "      background-color: #434B5C;\n",
              "      box-shadow: 0px 1px 3px 1px rgba(0, 0, 0, 0.15);\n",
              "      filter: drop-shadow(0px 1px 2px rgba(0, 0, 0, 0.3));\n",
              "      fill: #FFFFFF;\n",
              "    }\n",
              "  </style>\n",
              "\n",
              "      <script>\n",
              "        const buttonEl =\n",
              "          document.querySelector('#df-8e22571a-f324-47e4-bb34-82ed349b00a2 button.colab-df-convert');\n",
              "        buttonEl.style.display =\n",
              "          google.colab.kernel.accessAllowed ? 'block' : 'none';\n",
              "\n",
              "        async function convertToInteractive(key) {\n",
              "          const element = document.querySelector('#df-8e22571a-f324-47e4-bb34-82ed349b00a2');\n",
              "          const dataTable =\n",
              "            await google.colab.kernel.invokeFunction('convertToInteractive',\n",
              "                                                     [key], {});\n",
              "          if (!dataTable) return;\n",
              "\n",
              "          const docLinkHtml = 'Like what you see? Visit the ' +\n",
              "            '<a target=\"_blank\" href=https://colab.research.google.com/notebooks/data_table.ipynb>data table notebook</a>'\n",
              "            + ' to learn more about interactive tables.';\n",
              "          element.innerHTML = '';\n",
              "          dataTable['output_type'] = 'display_data';\n",
              "          await google.colab.output.renderOutput(dataTable, element);\n",
              "          const docLink = document.createElement('div');\n",
              "          docLink.innerHTML = docLinkHtml;\n",
              "          element.appendChild(docLink);\n",
              "        }\n",
              "      </script>\n",
              "    </div>\n",
              "  </div>\n",
              "  "
            ],
            "text/plain": [
              "  sigId  ...                                             labels\n",
              "0  S001  ...  [N, N, N, N, N, N, N, N, N, N, N, N, N, N, N, ...\n",
              "1  S002  ...  [N, N, N, N, S, N, S, N, S, N, S, N, S, N, S, ...\n",
              "2  S003  ...  [N, N, N, S, N, N, S, N, N, S, N, N, N, N, N, ...\n",
              "3  S004  ...  [N, N, N, N, N, N, N, N, N, N, N, N, N, N, N, ...\n",
              "4  S005  ...  [N, N, N, N, N, N, N, N, N, N, N, N, N, N, N, ...\n",
              "\n",
              "[5 rows x 6 columns]"
            ]
          },
          "metadata": {},
          "execution_count": 7
        }
      ],
      "source": [
        "cols = [\"sigId\",\"ecg_lead_1\",\"ecg_lead_2\",\"peaks\",\"frequencies\",\"labels\"]\n",
        "\n",
        "# ecg signals is 105 rows [,,,,,]\n",
        "\n",
        "first_lead_signals = []\n",
        "second_lead_signals = []\n",
        "\n",
        "for signal in ecg_signals:\n",
        "    first_lead_signals.append(signal[:,0].tolist())    # converting the array to list as list of array is deprecated \n",
        "    second_lead_signals.append(signal[:,1].tolist())\n",
        "\n",
        "df = pd.DataFrame(data =[ids,first_lead_signals,second_lead_signals,rpeaks,frequencies,labels]).T\n",
        "df.columns = cols\n",
        "\n",
        "# transform peaks \n",
        "for id in tqdm(df.index.tolist()):\n",
        "    peaks = df.iloc[id]['peaks']\n",
        "    p_list = list()\n",
        "    for p in peaks:\n",
        "        p_list.append(p[0])\n",
        "    df.iloc[id]['peaks'] = np.asarray(p_list).astype(np.int64)\n",
        "\n",
        "df.head()"
      ]
    },
    {
      "cell_type": "code",
      "execution_count": 9,
      "id": "999717a8",
      "metadata": {
        "id": "999717a8",
        "outputId": "399af0d2-9837-4923-cddc-f4700d4f9dad",
        "colab": {
          "base_uri": "https://localhost:8080/",
          "height": 87
        }
      },
      "outputs": [
        {
          "output_type": "execute_result",
          "data": {
            "application/vnd.google.colaboratory.intrinsic+json": {
              "type": "string"
            },
            "text/plain": [
              "\"\\n\\nids_128 = df[df['frequencies'] == 128].index.tolist() \\nids_250 = df[df['frequencies'] == 250].index.tolist() \\nresampled_len = len(df.iloc[ids_128[0]]['ecg_lead_1'])\\nsampled_len = len(df.iloc[ids_250[0]]['ecg_lead_1'])\\n\\n\\nfor id in tqdm(ids_250):\\n    row = df.iloc[id]\\n    # first lead\\n    signal = np.asarray(row['ecg_lead_1']).astype(np.float32)\\n    resampled_1 = resample(signal,resampled_len)\\n    \\n    # second lead\\n    signal = np.asarray(row['ecg_lead_2']).astype(np.float32)\\n    resampled_2 = resample(signal,resampled_len)\\n    \\n    df.iloc[id]['ecg_lead_1'] = resampled_1.tolist()\\n    df.iloc[id]['ecg_lead_2'] = resampled_2.tolist()\\n    \\n    for i,p in enumerate(list(df.iloc[id]['peaks'])):\\n        df.iloc[id]['peaks'][i] = int(resampled_len * p/sampled_len)\\n\\ndf.head()\\n\""
            ]
          },
          "metadata": {},
          "execution_count": 9
        }
      ],
      "source": [
        "# downsampling signal \n",
        "\n",
        "\n",
        "ids_128 = df[df['frequencies'] == 128].index.tolist() \n",
        "ids_250 = df[df['frequencies'] == 250].index.tolist() \n",
        "resampled_len = len(df.iloc[ids_128[0]]['ecg_lead_1'])\n",
        "sampled_len = len(df.iloc[ids_250[0]]['ecg_lead_1'])\n",
        "\n",
        "\n",
        "for id in tqdm(ids_250):\n",
        "    row = df.iloc[id]\n",
        "    # first lead\n",
        "    signal = np.asarray(row['ecg_lead_1']).astype(np.float32)\n",
        "    resampled_1 = resample(signal,resampled_len)\n",
        "    \n",
        "    # second lead\n",
        "    signal = np.asarray(row['ecg_lead_2']).astype(np.float32)\n",
        "    resampled_2 = resample(signal,resampled_len)\n",
        "    \n",
        "    df.iloc[id]['ecg_lead_1'] = resampled_1.tolist()\n",
        "    df.iloc[id]['ecg_lead_2'] = resampled_2.tolist()\n",
        "    \n",
        "    for i,p in enumerate(list(df.iloc[id]['peaks'])):\n",
        "        df.iloc[id]['peaks'][i] = int(resampled_len * p/sampled_len)\n",
        "\n",
        "df.head()\n"
      ]
    },
    {
      "cell_type": "code",
      "execution_count": 10,
      "id": "b8a6e546",
      "metadata": {
        "id": "b8a6e546",
        "colab": {
          "base_uri": "https://localhost:8080/",
          "height": 105
        },
        "outputId": "8a9c4d2f-057e-4061-be46-25213e6ad719"
      },
      "outputs": [
        {
          "output_type": "execute_result",
          "data": {
            "application/vnd.google.colaboratory.intrinsic+json": {
              "type": "string"
            },
            "text/plain": [
              "\"\\ndef plot_signal(df,id,length):\\n    fig,axs = plt.subplots(2)\\n    fig.set_size_inches(18.5, 10.5)\\n    ax1 = axs[0]\\n    ax2 = axs[1]\\n    \\n    signal = df.iloc[id]\\n    \\n    first_lead = signal['ecg_lead_1'][:length]\\n    second_lead = signal['ecg_lead_2'][:length]\\n    \\n    peaks_ = signal['peaks']\\n    labels_ = signal['labels']\\n    \\n    x = list(range(length))\\n    \\n    ax1.plot(x,first_lead)\\n    ax2.plot(x,second_lead)\\n    \\n    peaks = list()\\n    p_amplitudes_first = list()\\n    p_amplitudes_second = list()\\n    labels = list()\\n    \\n    for i,p in enumerate(peaks_):\\n        if(p <= length):\\n            peaks.append(p)\\n            p_amplitudes_first.append(first_lead[p])\\n            p_amplitudes_second.append(second_lead[p])\\n            labels.append(labels_[i])\\n        else:\\n            break\\n            \\n    ax1.scatter(peaks,p_amplitudes_first,color='red')\\n    ax2.scatter(peaks,p_amplitudes_second,color='red')\\n    offset = 10\\n    \\n    for i, txt in enumerate(labels):\\n        ax1.annotate(txt, (peaks[i]+offset, p_amplitudes_first[i]),size = 14)\\n        ax2.annotate(txt, (peaks[i]+offset, p_amplitudes_second[i]),size = 14)\\n    \\n    print(labels)\\n    plt.show()\\n\\n\\n\\nplot_signal(df,0,1500)\\nplot_signal(df,1,1500)\\nplot_signal(df,2,1500)\\n\""
            ]
          },
          "metadata": {},
          "execution_count": 10
        }
      ],
      "source": [
        "# plot signal \n",
        "'''\n",
        "def plot_signal(df,id,length):\n",
        "    fig,axs = plt.subplots(2)\n",
        "    fig.set_size_inches(18.5, 10.5)\n",
        "    ax1 = axs[0]\n",
        "    ax2 = axs[1]\n",
        "    \n",
        "    signal = df.iloc[id]\n",
        "    \n",
        "    first_lead = signal['ecg_lead_1'][:length]\n",
        "    second_lead = signal['ecg_lead_2'][:length]\n",
        "    \n",
        "    peaks_ = signal['peaks']\n",
        "    labels_ = signal['labels']\n",
        "    \n",
        "    x = list(range(length))\n",
        "    \n",
        "    ax1.plot(x,first_lead)\n",
        "    ax2.plot(x,second_lead)\n",
        "    \n",
        "    peaks = list()\n",
        "    p_amplitudes_first = list()\n",
        "    p_amplitudes_second = list()\n",
        "    labels = list()\n",
        "    \n",
        "    for i,p in enumerate(peaks_):\n",
        "        if(p <= length):\n",
        "            peaks.append(p)\n",
        "            p_amplitudes_first.append(first_lead[p])\n",
        "            p_amplitudes_second.append(second_lead[p])\n",
        "            labels.append(labels_[i])\n",
        "        else:\n",
        "            break\n",
        "            \n",
        "    ax1.scatter(peaks,p_amplitudes_first,color='red')\n",
        "    ax2.scatter(peaks,p_amplitudes_second,color='red')\n",
        "    offset = 10\n",
        "    \n",
        "    for i, txt in enumerate(labels):\n",
        "        ax1.annotate(txt, (peaks[i]+offset, p_amplitudes_first[i]),size = 14)\n",
        "        ax2.annotate(txt, (peaks[i]+offset, p_amplitudes_second[i]),size = 14)\n",
        "    \n",
        "    print(labels)\n",
        "    plt.show()\n",
        "\n",
        "\n",
        "\n",
        "plot_signal(df,0,1500)\n",
        "plot_signal(df,1,1500)\n",
        "plot_signal(df,2,1500)\n",
        "'''"
      ]
    },
    {
      "cell_type": "code",
      "execution_count": 11,
      "id": "fc5a69f6",
      "metadata": {
        "id": "fc5a69f6",
        "colab": {
          "base_uri": "https://localhost:8080/"
        },
        "outputId": "2358d8d5-6cc5-4a0e-b214-4be6dd796cc8"
      },
      "outputs": [
        {
          "output_type": "stream",
          "name": "stderr",
          "text": [
            "100%|██████████| 30/30 [00:01<00:00, 25.41it/s]\n"
          ]
        }
      ],
      "source": [
        "#Preprocessing used in practical lessons\n",
        "\n",
        "def notch_filter(cutoff, fs, q=30):\n",
        "    nyq = 0.5*fs\n",
        "    freq = cutoff/nyq\n",
        "    b, a = iirnotch(freq, q)\n",
        "    return b, a\n",
        "\n",
        "#def bandpass_filter(data, filter_order=5, lowcut = .5, highcut = 55, signal_freq=128):\n",
        "def bandpass_filter(data, filter_order=5, lowcut = .8, highcut = 45, signal_freq=128):# Bene V ma non S\n",
        "#def bandpass_filter(data, filter_order=5, lowcut = .8, highcut = 55, signal_freq=128):\n",
        "        \"\"\"\n",
        "        Method responsible for creating and applying Butterworth filter.\n",
        "        :param deque data: raw data\n",
        "        :param float lowcut: filter lowcut frequency value\n",
        "        :param float highcut: filter highcut frequency value\n",
        "        :param int signal_freq: signal frequency in samples per second (Hz)\n",
        "        :param int filter_order: filter order\n",
        "        :return array: filtered data\n",
        "        \"\"\"\n",
        "        powerline = 60\n",
        "        nyquist_freq = 0.5 * signal_freq\n",
        "        low = lowcut / nyquist_freq\n",
        "        high = highcut / nyquist_freq\n",
        "        b, a = butter(filter_order, [low, high], btype=\"band\")\n",
        "        y = lfilter(b, a, data)\n",
        "        #b,a = notch_filter(powerline,signal_freq)\n",
        "        #y = lfilter(b,a,data)\n",
        "        return y\n",
        "\n",
        "\n",
        "# center signals and remove baseline \n",
        "ids = df['sigId'].index\n",
        "for id in tqdm(ids):\n",
        "    row = df.iloc[id]\n",
        "    \n",
        "    first_sig = np.array(row['ecg_lead_1'])\n",
        "    second_sig = np.array(row['ecg_lead_2'])\n",
        "    \n",
        "    first_sig = bandpass_filter(first_sig)\n",
        "    second_sig = bandpass_filter(second_sig)\n",
        "\n",
        "    #first_sig = hp.enhance_ecg_peaks(first_sig, 128)\n",
        "    first_sig = hp.smooth_signal(first_sig, 128)\n",
        "    #first_sig = hp.remove_baseline_wander(first_sig, 128,cutoff=0.01)\n",
        "    #second_sig = hp.enhance_ecg_peaks(second_sig, 128)\n",
        "    second_sig = hp.smooth_signal(second_sig, 128)\n",
        "    #second_sig = hp.remove_baseline_wander(second_sig, 128,cutoff=0.01)\n",
        "    \n",
        "\n",
        "    # https://swharden.com/blog/2020-09-23-signal-filtering-in-python/\n",
        "    # create a normalized Hanning window\n",
        "    #windowSize = 5\n",
        "    #window = np.hanning(windowSize)\n",
        "    #window = window / window.sum()\n",
        "    #first_sig = np.convolve(window, first_sig, mode='same')\n",
        "    #second_sig = np.convolve(window, second_sig, mode='same')\n",
        "    #first_sig = ((first_sig - first_sig.min())/(first_sig.max()-first_sig.min())).tolist()\n",
        "    #second_sig = ((second_sig - second_sig.min())/(second_sig.max()-second_sig.min())).tolist()\n",
        "\n",
        "    #first_sig = ((first_sig - first_sig.mean())/(first_sig.std()))#.tolist()\n",
        "    #second_sig = ((second_sig - second_sig.mean())/(second_sig.std()))#.tolist()\n",
        "    df.iloc[id]['ecg_lead_1'] = first_sig[:]\n",
        "    df.iloc[id]['ecg_lead_2'] = second_sig[:]\n",
        "\n",
        "#plot_signal(df,0,1500)\n",
        "#plot_signal(df,1,1500)\n",
        "#plot_signal(df,2,1500)\n"
      ]
    },
    {
      "cell_type": "code",
      "source": [
        "import gc\n",
        "#del training_patches_df\n",
        "#del training_df\n",
        "#del validation_patches_df\n",
        "#del validation_df\n",
        "gc.collect()"
      ],
      "metadata": {
        "id": "Vy8VG8a_4V4r",
        "colab": {
          "base_uri": "https://localhost:8080/"
        },
        "outputId": "030a5ca4-d7d4-49c7-9a99-796fdfe693e1"
      },
      "id": "Vy8VG8a_4V4r",
      "execution_count": 12,
      "outputs": [
        {
          "output_type": "execute_result",
          "data": {
            "text/plain": [
              "72"
            ]
          },
          "metadata": {},
          "execution_count": 12
        }
      ]
    },
    {
      "cell_type": "code",
      "source": [
        "'''\n",
        "row = df.loc[48]\n",
        "len(row['peaks'])\n",
        "'''"
      ],
      "metadata": {
        "id": "TP8LdDZhiYx7",
        "colab": {
          "base_uri": "https://localhost:8080/",
          "height": 35
        },
        "outputId": "eecd82b6-3caf-4ba4-b4bc-064ac19b2c94"
      },
      "id": "TP8LdDZhiYx7",
      "execution_count": 13,
      "outputs": [
        {
          "output_type": "execute_result",
          "data": {
            "application/vnd.google.colaboratory.intrinsic+json": {
              "type": "string"
            },
            "text/plain": [
              "\"\\nrow = df.loc[48]\\nlen(row['peaks'])\\n\""
            ]
          },
          "metadata": {},
          "execution_count": 13
        }
      ]
    },
    {
      "cell_type": "code",
      "source": [
        "'''\n",
        "# trying https://arxiv.org/pdf/1805.00794.pdf preprocessing and patch extraction\n",
        "\n",
        "def convert_to_one_hot(label):\n",
        "    return np.array(classes == label,dtype=np.float32)\n",
        "\n",
        "def create_patch_v2(df):\n",
        "  dataset_dict = {}\n",
        "  ids = df.index.tolist()\n",
        "  offset = 50\n",
        "  for id in tqdm(ids):\n",
        "      row =  df.loc[id]\n",
        "\n",
        "      peaks = row['peaks']\n",
        "      first_sig = row['ecg_lead_1']\n",
        "      second_sig = row['ecg_lead_2']\n",
        "      labels = row['labels']  \n",
        "      #1) Splitting the continuous ECG signal to 10s(1280 samples @128Hz) windows and select a 10s window from an ECG signal.\n",
        "      for i in range(0, min(len(first_sig), len(second_sig)), 1280):\n",
        "        first_sig_window = first_sig[i:i+1280]\n",
        "        second_sig_window = second_sig[i:i+1280]\n",
        "        #2) Normalizing the amplitude values to the range of between zero and one.\n",
        "        \n",
        "        #first_sig_std = (2*((first_sig_window - first_sig_window.min())/(first_sig_window.max()-first_sig_window.min()))-1).tolist()\n",
        "        #second_sig_std = (2*((second_sig_window - second_sig_window.min())/(second_sig_window.max()-second_sig_window.min()))-1).tolist()\n",
        "        ###\n",
        "        #first_sig_std = hp.remove_baseline_wander(first_sig_std, 128,cutoff=0.05)\n",
        "        #second_sig_std = hp.remove_baseline_wander(second_sig_std, 128,cutoff=0.05)\n",
        "        ###\n",
        "        #first_sig[i:i+1280] = first_sig_std\n",
        "        #second_sig[i:i+1280] = second_sig_std          \n",
        "        first_sig[i:i+1280] = first_sig_window\n",
        "        second_sig[i:i+1280] = second_sig_window\n",
        "\n",
        "      #3) Finding the set of all local maximums based on zerocrossings of the first derivative. NOT NEEDED\n",
        "      #4) Finding the set of ECG R-peak candidates by applying a threshold of 0.9 on the normalized value of the local maximums. NOT NEEDED\n",
        "      #5) Finding the median of R-R time intervals as the nominal heartbeat period of that window (T).\n",
        "      T = 0\n",
        "      rr_list = list()\n",
        "\n",
        "\n",
        "      if(len(peaks) != len(labels)):\n",
        "          print(\"ERROR\")\n",
        "\n",
        "      for i,peak in enumerate(peaks): #compute each R-R time (in samples)\n",
        "        if i != len(peaks)-1:\n",
        "          rr = peaks[i+1]-peaks[i]\n",
        "          rr_list.append(rr)\n",
        "          \n",
        "      \n",
        "      import statistics\n",
        "\n",
        "      T = statistics.median(rr_list)\n",
        "      #6) For each R-peak, selecting a signal part with the length equal to 1.2T.\n",
        "      #patch_length=2*int(1.5*T)\n",
        "      #max_len = 500\n",
        "      \n",
        "      \n",
        "      ###\n",
        "\n",
        "      \n",
        "      max_len = 500\n",
        "      #6B) Setting last peak RR as T\n",
        "      rr_list.append(T)\n",
        "\n",
        "      l = len(peaks)\n",
        "      #7) Padding each selected part with zeros to make its length equal to a predefined fixed length.\n",
        "      for i,peak in enumerate(peaks):\n",
        "          if i == 0:\n",
        "            k = 0\n",
        "            h = peaks[i+1]+offset\n",
        "          elif i ==  l -1:\n",
        "            k = peaks[i-1]-offset\n",
        "            h = len(first_sig)\n",
        "        \n",
        "          else:\n",
        "            k = peaks[i-1]-offset\n",
        "            h = peaks[i+1]+offset\n",
        "\n",
        "          if k < 0:\n",
        "            k = 0\n",
        "          if h > len(first_sig):\n",
        "            h = len(first_sig)\n",
        "\n",
        "        \n",
        "          first_lead = first_sig[k:h] \n",
        "          second_lead = second_sig[k:h] \n",
        "\n",
        "\n",
        "          index = str(id)+'_'+str(i)\n",
        "          dataset_dict[index] = {}\n",
        "          \n",
        "          first_lead = (255*(first_lead - first_lead.min())/(first_lead.max()-first_lead.min())).tolist()\n",
        "          second_lead = (255*(second_lead - second_lead.min())/(second_lead.max()-second_lead.min())).tolist()\n",
        "          first_lead = resample(first_lead, max_len)\n",
        "          second_lead = resample(second_lead, max_len)\n",
        "          dataset_dict[index][\"first_lead\"] = first_lead\n",
        "          dataset_dict[index][\"second_lead\"] = second_lead\n",
        "          dataset_dict[index][\"RR_d\"] = rr_list[i]\n",
        "          dataset_dict[index][\"stringLabel\"] = labels[i]\n",
        "          dataset_dict[index][\"label\"] = convert_to_one_hot(labels[i])\n",
        "\n",
        "  dataset_df = pd.DataFrame.from_dict(dataset_dict,orient='index')\n",
        "  return dataset_df    \n",
        "\n",
        "classes = np.array([\"N\",\"S\",\"V\"])\n",
        "validation_percentage = 0.25\n",
        "training_df, validation_df = train_test_split(df,test_size = validation_percentage,random_state=SEED)\n",
        "training_patches_df = create_patch_v2(training_df)\n",
        "validation_patches_df = create_patch_v2(validation_df)\n",
        "validation_patches_df\n",
        "'''\n"
      ],
      "metadata": {
        "id": "qhZWe6DI3Zs0",
        "colab": {
          "base_uri": "https://localhost:8080/",
          "height": 105
        },
        "outputId": "95beace1-050b-4bc0-8de4-a3c2c05cc8f2"
      },
      "id": "qhZWe6DI3Zs0",
      "execution_count": 14,
      "outputs": [
        {
          "output_type": "execute_result",
          "data": {
            "application/vnd.google.colaboratory.intrinsic+json": {
              "type": "string"
            },
            "text/plain": [
              "'\\n# trying https://arxiv.org/pdf/1805.00794.pdf preprocessing and patch extraction\\n\\ndef convert_to_one_hot(label):\\n    return np.array(classes == label,dtype=np.float32)\\n\\ndef create_patch_v2(df):\\n  dataset_dict = {}\\n  ids = df.index.tolist()\\n  offset = 50\\n  for id in tqdm(ids):\\n      row =  df.loc[id]\\n\\n      peaks = row[\\'peaks\\']\\n      first_sig = row[\\'ecg_lead_1\\']\\n      second_sig = row[\\'ecg_lead_2\\']\\n      labels = row[\\'labels\\']  \\n      #1) Splitting the continuous ECG signal to 10s(1280 samples @128Hz) windows and select a 10s window from an ECG signal.\\n      for i in range(0, min(len(first_sig), len(second_sig)), 1280):\\n        first_sig_window = first_sig[i:i+1280]\\n        second_sig_window = second_sig[i:i+1280]\\n        #2) Normalizing the amplitude values to the range of between zero and one.\\n        \\n        #first_sig_std = (2*((first_sig_window - first_sig_window.min())/(first_sig_window.max()-first_sig_window.min()))-1).tolist()\\n        #second_sig_std = (2*((second_sig_window - second_sig_window.min())/(second_sig_window.max()-second_sig_window.min()))-1).tolist()\\n        ###\\n        #first_sig_std = hp.remove_baseline_wander(first_sig_std, 128,cutoff=0.05)\\n        #second_sig_std = hp.remove_baseline_wander(second_sig_std, 128,cutoff=0.05)\\n        ###\\n        #first_sig[i:i+1280] = first_sig_std\\n        #second_sig[i:i+1280] = second_sig_std          \\n        first_sig[i:i+1280] = first_sig_window\\n        second_sig[i:i+1280] = second_sig_window\\n\\n      #3) Finding the set of all local maximums based on zerocrossings of the first derivative. NOT NEEDED\\n      #4) Finding the set of ECG R-peak candidates by applying a threshold of 0.9 on the normalized value of the local maximums. NOT NEEDED\\n      #5) Finding the median of R-R time intervals as the nominal heartbeat period of that window (T).\\n      T = 0\\n      rr_list = list()\\n\\n\\n      if(len(peaks) != len(labels)):\\n          print(\"ERROR\")\\n\\n      for i,peak in enumerate(peaks): #compute each R-R time (in samples)\\n        if i != len(peaks)-1:\\n          rr = peaks[i+1]-peaks[i]\\n          rr_list.append(rr)\\n          \\n      \\n      import statistics\\n\\n      T = statistics.median(rr_list)\\n      #6) For each R-peak, selecting a signal part with the length equal to 1.2T.\\n      #patch_length=2*int(1.5*T)\\n      #max_len = 500\\n      \\n      \\n      ###\\n\\n      \\n      max_len = 500\\n      #6B) Setting last peak RR as T\\n      rr_list.append(T)\\n\\n      l = len(peaks)\\n      #7) Padding each selected part with zeros to make its length equal to a predefined fixed length.\\n      for i,peak in enumerate(peaks):\\n          if i == 0:\\n            k = 0\\n            h = peaks[i+1]+offset\\n          elif i ==  l -1:\\n            k = peaks[i-1]-offset\\n            h = len(first_sig)\\n        \\n          else:\\n            k = peaks[i-1]-offset\\n            h = peaks[i+1]+offset\\n\\n          if k < 0:\\n            k = 0\\n          if h > len(first_sig):\\n            h = len(first_sig)\\n\\n        \\n          first_lead = first_sig[k:h] \\n          second_lead = second_sig[k:h] \\n\\n\\n          index = str(id)+\\'_\\'+str(i)\\n          dataset_dict[index] = {}\\n          \\n          first_lead = (255*(first_lead - first_lead.min())/(first_lead.max()-first_lead.min())).tolist()\\n          second_lead = (255*(second_lead - second_lead.min())/(second_lead.max()-second_lead.min())).tolist()\\n          first_lead = resample(first_lead, max_len)\\n          second_lead = resample(second_lead, max_len)\\n          dataset_dict[index][\"first_lead\"] = first_lead\\n          dataset_dict[index][\"second_lead\"] = second_lead\\n          dataset_dict[index][\"RR_d\"] = rr_list[i]\\n          dataset_dict[index][\"stringLabel\"] = labels[i]\\n          dataset_dict[index][\"label\"] = convert_to_one_hot(labels[i])\\n\\n  dataset_df = pd.DataFrame.from_dict(dataset_dict,orient=\\'index\\')\\n  return dataset_df    \\n\\nclasses = np.array([\"N\",\"S\",\"V\"])\\nvalidation_percentage = 0.25\\ntraining_df, validation_df = train_test_split(df,test_size = validation_percentage,random_state=SEED)\\ntraining_patches_df = create_patch_v2(training_df)\\nvalidation_patches_df = create_patch_v2(validation_df)\\nvalidation_patches_df\\n'"
            ]
          },
          "metadata": {},
          "execution_count": 14
        }
      ]
    },
    {
      "cell_type": "code",
      "source": [
        "'''\n",
        "# trying https://arxiv.org/pdf/1805.00794.pdf preprocessing and patch extraction\n",
        "\n",
        "def convert_to_one_hot(label):\n",
        "    return np.array(classes == label,dtype=np.float32)\n",
        "\n",
        "def create_patch_v2(df):\n",
        "  dataset_dict = {}\n",
        "  ids = df.index.tolist()\n",
        "  offset = 0\n",
        "  for id in tqdm(ids):\n",
        "      row =  df.loc[id]\n",
        "\n",
        "      peaks = row['peaks']\n",
        "      first_sig = row['ecg_lead_1']\n",
        "      second_sig = row['ecg_lead_2']\n",
        "      labels = row['labels']  \n",
        "      #1) Splitting the continuous ECG signal to 10s(1280 samples @128Hz) windows and select a 10s window from an ECG signal.\n",
        "      for i in range(0, min(len(first_sig), len(second_sig)), 1280):\n",
        "        first_sig_window = first_sig[i:i+1280]\n",
        "        second_sig_window = second_sig[i:i+1280]\n",
        "        #2) Normalizing the amplitude values to the range of between zero and one.\n",
        "        \n",
        "        #first_sig_std = (2*((first_sig_window - first_sig_window.min())/(first_sig_window.max()-first_sig_window.min()))-1).tolist()\n",
        "        #second_sig_std = (2*((second_sig_window - second_sig_window.min())/(second_sig_window.max()-second_sig_window.min()))-1).tolist()\n",
        "        ###\n",
        "        #first_sig_std = hp.remove_baseline_wander(first_sig_std, 128,cutoff=0.05)\n",
        "        #second_sig_std = hp.remove_baseline_wander(second_sig_std, 128,cutoff=0.05)\n",
        "        ###\n",
        "        #first_sig[i:i+1280] = first_sig_std\n",
        "        #second_sig[i:i+1280] = second_sig_std          \n",
        "        first_sig[i:i+1280] = first_sig_window\n",
        "        second_sig[i:i+1280] = second_sig_window\n",
        "\n",
        "      #3) Finding the set of all local maximums based on zerocrossings of the first derivative. NOT NEEDED\n",
        "      #4) Finding the set of ECG R-peak candidates by applying a threshold of 0.9 on the normalized value of the local maximums. NOT NEEDED\n",
        "      #5) Finding the median of R-R time intervals as the nominal heartbeat period of that window (T).\n",
        "      T = 0\n",
        "      rr_list = list()\n",
        "\n",
        "\n",
        "      if(len(peaks) != len(labels)):\n",
        "          print(\"ERROR\")\n",
        "\n",
        "      for i,peak in enumerate(peaks): #compute each R-R time (in samples)\n",
        "        if i != len(peaks)-1:\n",
        "          rr = peaks[i+1]-peaks[i]\n",
        "          rr_list.append(rr)\n",
        "          \n",
        "      \n",
        "      import statistics\n",
        "\n",
        "      T = statistics.median(rr_list)\n",
        "      #6) For each R-peak, selecting a signal part with the length equal to 1.2T.\n",
        "      patch_length=2*int(1.5*T)\n",
        "      max_len = 500\n",
        "      \n",
        "      ###\n",
        "      #patch_length = 500\n",
        "      #max_len = 500\n",
        "      \n",
        "      #6B) Setting last peak RR as T\n",
        "      rr_list.append(T)\n",
        "      #7) Padding each selected part with zeros to make its length equal to a predefined fixed length.\n",
        "      for i,peak in enumerate(peaks):\n",
        "          index = str(id)+'_'+str(i)\n",
        "          dataset_dict[index] = {}\n",
        "          first_lead = list()\n",
        "          second_lead = list()\n",
        "\n",
        "          #size = list(range(peak-offset,int(max_len+peak)-offset))\n",
        "          size = list(range(peak+offset,int(peak+max_len)+offset))\n",
        "          if(len(size) != max_len):\n",
        "              print(\"error\")\n",
        "          for s in size:\n",
        "              if(s >= len(first_sig) or s >= (peak + patch_length/2)  or s < 0):   # padding with 0\n",
        "                  first_lead.append(0.) \n",
        "                  second_lead.append(0.) \n",
        "              else:\n",
        "                  first_lead.append(first_sig[s])\n",
        "                  second_lead.append(second_sig[s])\n",
        "          \n",
        "          first_lead = np.asarray(first_lead).astype(np.float32)\n",
        "          second_lead = np.asarray(second_lead).astype(np.float32)\n",
        "          first_lead = (255*(first_lead - first_lead.min())/(first_lead.max()-first_lead.min())).tolist()\n",
        "          second_lead = (255*(second_lead - second_lead.min())/(second_lead.max()-second_lead.min())).tolist()\n",
        "          dataset_dict[index][\"first_lead\"] = first_lead\n",
        "          dataset_dict[index][\"second_lead\"] = second_lead\n",
        "          dataset_dict[index][\"RR_d\"] = rr_list[i]\n",
        "          dataset_dict[index][\"stringLabel\"] = labels[i]\n",
        "          dataset_dict[index][\"label\"] = convert_to_one_hot(labels[i])\n",
        "\n",
        "  dataset_df = pd.DataFrame.from_dict(dataset_dict,orient='index')\n",
        "  return dataset_df    \n",
        "\n",
        "classes = np.array([\"N\",\"S\",\"V\"])\n",
        "validation_percentage = 0.2\n",
        "training_df, validation_df = train_test_split(df,test_size = validation_percentage,random_state=SEED)\n",
        "training_patches_df = create_patch_v2(training_df)\n",
        "validation_patches_df = create_patch_v2(validation_df)\n",
        "validation_patches_df\n",
        "\n",
        "'''"
      ],
      "metadata": {
        "id": "fYxFrxCUgEfz",
        "colab": {
          "base_uri": "https://localhost:8080/",
          "height": 105
        },
        "outputId": "32ce70f7-daf2-4c00-e7e4-537942d01218"
      },
      "id": "fYxFrxCUgEfz",
      "execution_count": 15,
      "outputs": [
        {
          "output_type": "execute_result",
          "data": {
            "application/vnd.google.colaboratory.intrinsic+json": {
              "type": "string"
            },
            "text/plain": [
              "'\\n# trying https://arxiv.org/pdf/1805.00794.pdf preprocessing and patch extraction\\n\\ndef convert_to_one_hot(label):\\n    return np.array(classes == label,dtype=np.float32)\\n\\ndef create_patch_v2(df):\\n  dataset_dict = {}\\n  ids = df.index.tolist()\\n  offset = 0\\n  for id in tqdm(ids):\\n      row =  df.loc[id]\\n\\n      peaks = row[\\'peaks\\']\\n      first_sig = row[\\'ecg_lead_1\\']\\n      second_sig = row[\\'ecg_lead_2\\']\\n      labels = row[\\'labels\\']  \\n      #1) Splitting the continuous ECG signal to 10s(1280 samples @128Hz) windows and select a 10s window from an ECG signal.\\n      for i in range(0, min(len(first_sig), len(second_sig)), 1280):\\n        first_sig_window = first_sig[i:i+1280]\\n        second_sig_window = second_sig[i:i+1280]\\n        #2) Normalizing the amplitude values to the range of between zero and one.\\n        \\n        #first_sig_std = (2*((first_sig_window - first_sig_window.min())/(first_sig_window.max()-first_sig_window.min()))-1).tolist()\\n        #second_sig_std = (2*((second_sig_window - second_sig_window.min())/(second_sig_window.max()-second_sig_window.min()))-1).tolist()\\n        ###\\n        #first_sig_std = hp.remove_baseline_wander(first_sig_std, 128,cutoff=0.05)\\n        #second_sig_std = hp.remove_baseline_wander(second_sig_std, 128,cutoff=0.05)\\n        ###\\n        #first_sig[i:i+1280] = first_sig_std\\n        #second_sig[i:i+1280] = second_sig_std          \\n        first_sig[i:i+1280] = first_sig_window\\n        second_sig[i:i+1280] = second_sig_window\\n\\n      #3) Finding the set of all local maximums based on zerocrossings of the first derivative. NOT NEEDED\\n      #4) Finding the set of ECG R-peak candidates by applying a threshold of 0.9 on the normalized value of the local maximums. NOT NEEDED\\n      #5) Finding the median of R-R time intervals as the nominal heartbeat period of that window (T).\\n      T = 0\\n      rr_list = list()\\n\\n\\n      if(len(peaks) != len(labels)):\\n          print(\"ERROR\")\\n\\n      for i,peak in enumerate(peaks): #compute each R-R time (in samples)\\n        if i != len(peaks)-1:\\n          rr = peaks[i+1]-peaks[i]\\n          rr_list.append(rr)\\n          \\n      \\n      import statistics\\n\\n      T = statistics.median(rr_list)\\n      #6) For each R-peak, selecting a signal part with the length equal to 1.2T.\\n      patch_length=2*int(1.5*T)\\n      max_len = 500\\n      \\n      ###\\n      #patch_length = 500\\n      #max_len = 500\\n      \\n      #6B) Setting last peak RR as T\\n      rr_list.append(T)\\n      #7) Padding each selected part with zeros to make its length equal to a predefined fixed length.\\n      for i,peak in enumerate(peaks):\\n          index = str(id)+\\'_\\'+str(i)\\n          dataset_dict[index] = {}\\n          first_lead = list()\\n          second_lead = list()\\n\\n          #size = list(range(peak-offset,int(max_len+peak)-offset))\\n          size = list(range(peak+offset,int(peak+max_len)+offset))\\n          if(len(size) != max_len):\\n              print(\"error\")\\n          for s in size:\\n              if(s >= len(first_sig) or s >= (peak + patch_length/2)  or s < 0):   # padding with 0\\n                  first_lead.append(0.) \\n                  second_lead.append(0.) \\n              else:\\n                  first_lead.append(first_sig[s])\\n                  second_lead.append(second_sig[s])\\n          \\n          first_lead = np.asarray(first_lead).astype(np.float32)\\n          second_lead = np.asarray(second_lead).astype(np.float32)\\n          first_lead = (255*(first_lead - first_lead.min())/(first_lead.max()-first_lead.min())).tolist()\\n          second_lead = (255*(second_lead - second_lead.min())/(second_lead.max()-second_lead.min())).tolist()\\n          dataset_dict[index][\"first_lead\"] = first_lead\\n          dataset_dict[index][\"second_lead\"] = second_lead\\n          dataset_dict[index][\"RR_d\"] = rr_list[i]\\n          dataset_dict[index][\"stringLabel\"] = labels[i]\\n          dataset_dict[index][\"label\"] = convert_to_one_hot(labels[i])\\n\\n  dataset_df = pd.DataFrame.from_dict(dataset_dict,orient=\\'index\\')\\n  return dataset_df    \\n\\nclasses = np.array([\"N\",\"S\",\"V\"])\\nvalidation_percentage = 0.2\\ntraining_df, validation_df = train_test_split(df,test_size = validation_percentage,random_state=SEED)\\ntraining_patches_df = create_patch_v2(training_df)\\nvalidation_patches_df = create_patch_v2(validation_df)\\nvalidation_patches_df\\n\\n'"
            ]
          },
          "metadata": {},
          "execution_count": 15
        }
      ]
    },
    {
      "cell_type": "code",
      "source": [
        "#fixed patch\n",
        "\n",
        "def convert_to_one_hot(label):\n",
        "    return np.array(classes == label,dtype=np.float32)\n",
        "\n",
        "def create_patch_v2(df):\n",
        "  dataset_dict = {}\n",
        "  ids = df.index.tolist()\n",
        "  offset = 0\n",
        "  for id in tqdm(ids):\n",
        "      row =  df.loc[id]\n",
        "\n",
        "      peaks = row['peaks']\n",
        "      first_sig = row['ecg_lead_1']\n",
        "      second_sig = row['ecg_lead_2']\n",
        "      labels = row['labels']  \n",
        "      #1) Splitting the continuous ECG signal to 10s(1280 samples @128Hz) windows and select a 10s window from an ECG signal.\n",
        "      for i in range(0, min(len(first_sig), len(second_sig)), 1280):\n",
        "        first_sig_window = first_sig[i:i+1280]\n",
        "        second_sig_window = second_sig[i:i+1280]\n",
        "        #2) Normalizing the amplitude values to the range of between zero and one.\n",
        "        \n",
        "        #first_sig_std = (2*((first_sig_window - first_sig_window.min())/(first_sig_window.max()-first_sig_window.min()))-1).tolist()\n",
        "        #second_sig_std = (2*((second_sig_window - second_sig_window.min())/(second_sig_window.max()-second_sig_window.min()))-1).tolist()\n",
        "        ###\n",
        "        #first_sig_std = hp.remove_baseline_wander(first_sig_std, 128,cutoff=0.05)\n",
        "        #second_sig_std = hp.remove_baseline_wander(second_sig_std, 128,cutoff=0.05)\n",
        "        ###\n",
        "        #first_sig[i:i+1280] = first_sig_std\n",
        "        #second_sig[i:i+1280] = second_sig_std    \n",
        "        '''      \n",
        "        first_sig[i:i+1280] = first_sig_window\n",
        "        second_sig[i:i+1280] = second_sig_window\n",
        "        '''\n",
        "\n",
        "      #3) Finding the set of all local maximums based on zerocrossings of the first derivative. NOT NEEDED\n",
        "      #4) Finding the set of ECG R-peak candidates by applying a threshold of 0.9 on the normalized value of the local maximums. NOT NEEDED\n",
        "      #5) Finding the median of R-R time intervals as the nominal heartbeat period of that window (T).\n",
        "      T = 0\n",
        "      rr_list = list()\n",
        "\n",
        "      '''\n",
        "      if(len(peaks) != len(labels)):\n",
        "          print(\"ERROR\")\n",
        "      '''\n",
        "\n",
        "      for i,peak in enumerate(peaks): #compute each R-R time (in samples)\n",
        "        if i != len(peaks)-1:\n",
        "          rr = peaks[i+1]-peaks[i]\n",
        "          rr_list.append(rr)\n",
        "          \n",
        "      \n",
        "      import statistics\n",
        "\n",
        "      T = statistics.median(rr_list)\n",
        "      #6) For each R-peak, selecting a signal part with the length equal to 1.2T.\n",
        "      patch_length=2*int(1.5*T)\n",
        "      max_len = 500\n",
        "      \n",
        "      ###\n",
        "      #patch_length = 500\n",
        "      #max_len = 500\n",
        "      \n",
        "      #6B) Setting last peak RR as T\n",
        "      rr_list.append(T)\n",
        "      #7) Padding each selected part with zeros to make its length equal to a predefined fixed length.\n",
        "      for i,peak in enumerate(peaks):\n",
        "          index = str(id)+'_'+str(i)\n",
        "          dataset_dict[index] = {}\n",
        "          first_lead = list()\n",
        "          second_lead = list()\n",
        "\n",
        "          #size = list(range(peak-offset,int(max_len+peak)-offset))\n",
        "          size = list(range(int(peak-max_len/2)+offset,int(peak+max_len/2)+offset))\n",
        "          if(len(size) != max_len):\n",
        "              print(\"error\")\n",
        "          for s in size:\n",
        "              if(s >= len(first_sig) or s >= (peak + patch_length/2) or s <= (peak -patch_length/2) or s < 0):   # padding with 0\n",
        "                  first_lead.append(0.) \n",
        "                  second_lead.append(0.) \n",
        "              else:\n",
        "                  first_lead.append(first_sig[s])\n",
        "                  second_lead.append(second_sig[s])\n",
        "          \n",
        "          first_lead = np.asarray(first_lead).astype(np.float32)\n",
        "          second_lead = np.asarray(second_lead).astype(np.float32)\n",
        "          first_lead = (255*(first_lead - first_lead.min())/(first_lead.max()-first_lead.min())).tolist()\n",
        "          second_lead = (255*(second_lead - second_lead.min())/(second_lead.max()-second_lead.min())).tolist()\n",
        "          dataset_dict[index][\"first_lead\"] = first_lead\n",
        "          dataset_dict[index][\"second_lead\"] = second_lead\n",
        "          dataset_dict[index][\"RR_d\"] = rr_list[i]\n",
        "          dataset_dict[index][\"stringLabel\"] = labels[i]\n",
        "          dataset_dict[index][\"label\"] = convert_to_one_hot(labels[i])\n",
        "\n",
        "  dataset_df = pd.DataFrame.from_dict(dataset_dict,orient='index')\n",
        "  return dataset_df    \n",
        "\n",
        "classes = np.array([\"N\",\"S\",\"V\"])\n",
        "validation_percentage = 0.2\n",
        "training_df, validation_df = train_test_split(df,test_size = validation_percentage,random_state=SEED)\n",
        "training_patches_df = create_patch_v2(training_df)\n",
        "validation_patches_df = create_patch_v2(validation_df)\n",
        "validation_patches_df\n",
        "\n"
      ],
      "metadata": {
        "id": "cDIFJ1X0wUnM",
        "colab": {
          "base_uri": "https://localhost:8080/",
          "height": 458
        },
        "outputId": "3d243011-31f4-4b49-dfa0-ff87637ef7b4"
      },
      "id": "cDIFJ1X0wUnM",
      "execution_count": 16,
      "outputs": [
        {
          "output_type": "stream",
          "name": "stderr",
          "text": [
            "100%|██████████| 24/24 [02:57<00:00,  7.41s/it]\n",
            "100%|██████████| 6/6 [00:40<00:00,  6.79s/it]\n"
          ]
        },
        {
          "output_type": "execute_result",
          "data": {
            "text/html": [
              "\n",
              "  <div id=\"df-70dda432-334e-4780-a89f-e35d5f86de9a\">\n",
              "    <div class=\"colab-df-container\">\n",
              "      <div>\n",
              "<style scoped>\n",
              "    .dataframe tbody tr th:only-of-type {\n",
              "        vertical-align: middle;\n",
              "    }\n",
              "\n",
              "    .dataframe tbody tr th {\n",
              "        vertical-align: top;\n",
              "    }\n",
              "\n",
              "    .dataframe thead th {\n",
              "        text-align: right;\n",
              "    }\n",
              "</style>\n",
              "<table border=\"1\" class=\"dataframe\">\n",
              "  <thead>\n",
              "    <tr style=\"text-align: right;\">\n",
              "      <th></th>\n",
              "      <th>first_lead</th>\n",
              "      <th>second_lead</th>\n",
              "      <th>RR_d</th>\n",
              "      <th>stringLabel</th>\n",
              "      <th>label</th>\n",
              "    </tr>\n",
              "  </thead>\n",
              "  <tbody>\n",
              "    <tr>\n",
              "      <th>17_0</th>\n",
              "      <td>[118.2327651977539, 118.2327651977539, 118.232...</td>\n",
              "      <td>[130.4786376953125, 130.4786376953125, 130.478...</td>\n",
              "      <td>109.0</td>\n",
              "      <td>N</td>\n",
              "      <td>[1.0, 0.0, 0.0]</td>\n",
              "    </tr>\n",
              "    <tr>\n",
              "      <th>17_1</th>\n",
              "      <td>[118.2327651977539, 118.2327651977539, 118.232...</td>\n",
              "      <td>[126.50159454345703, 126.50159454345703, 126.5...</td>\n",
              "      <td>100.0</td>\n",
              "      <td>N</td>\n",
              "      <td>[1.0, 0.0, 0.0]</td>\n",
              "    </tr>\n",
              "    <tr>\n",
              "      <th>17_2</th>\n",
              "      <td>[109.64065551757812, 109.64065551757812, 109.6...</td>\n",
              "      <td>[119.01765441894531, 119.01765441894531, 119.0...</td>\n",
              "      <td>74.0</td>\n",
              "      <td>N</td>\n",
              "      <td>[1.0, 0.0, 0.0]</td>\n",
              "    </tr>\n",
              "    <tr>\n",
              "      <th>17_3</th>\n",
              "      <td>[109.64065551757812, 109.64065551757812, 109.6...</td>\n",
              "      <td>[124.4853744506836, 124.4853744506836, 124.485...</td>\n",
              "      <td>110.0</td>\n",
              "      <td>S</td>\n",
              "      <td>[0.0, 1.0, 0.0]</td>\n",
              "    </tr>\n",
              "    <tr>\n",
              "      <th>17_4</th>\n",
              "      <td>[109.64065551757812, 109.64065551757812, 109.6...</td>\n",
              "      <td>[135.035888671875, 135.035888671875, 135.03588...</td>\n",
              "      <td>100.0</td>\n",
              "      <td>N</td>\n",
              "      <td>[1.0, 0.0, 0.0]</td>\n",
              "    </tr>\n",
              "    <tr>\n",
              "      <th>...</th>\n",
              "      <td>...</td>\n",
              "      <td>...</td>\n",
              "      <td>...</td>\n",
              "      <td>...</td>\n",
              "      <td>...</td>\n",
              "    </tr>\n",
              "    <tr>\n",
              "      <th>20_1930</th>\n",
              "      <td>[122.96874237060547, 122.96874237060547, 122.9...</td>\n",
              "      <td>[130.68431091308594, 130.68431091308594, 130.6...</td>\n",
              "      <td>122.0</td>\n",
              "      <td>N</td>\n",
              "      <td>[1.0, 0.0, 0.0]</td>\n",
              "    </tr>\n",
              "    <tr>\n",
              "      <th>20_1931</th>\n",
              "      <td>[119.81330108642578, 119.81330108642578, 119.8...</td>\n",
              "      <td>[130.68431091308594, 130.68431091308594, 130.6...</td>\n",
              "      <td>125.0</td>\n",
              "      <td>N</td>\n",
              "      <td>[1.0, 0.0, 0.0]</td>\n",
              "    </tr>\n",
              "    <tr>\n",
              "      <th>20_1932</th>\n",
              "      <td>[121.8005142211914, 121.8005142211914, 121.800...</td>\n",
              "      <td>[129.02491760253906, 129.02491760253906, 129.0...</td>\n",
              "      <td>119.0</td>\n",
              "      <td>N</td>\n",
              "      <td>[1.0, 0.0, 0.0]</td>\n",
              "    </tr>\n",
              "    <tr>\n",
              "      <th>20_1933</th>\n",
              "      <td>[121.8005142211914, 121.8005142211914, 121.800...</td>\n",
              "      <td>[129.02491760253906, 129.02491760253906, 129.0...</td>\n",
              "      <td>123.0</td>\n",
              "      <td>N</td>\n",
              "      <td>[1.0, 0.0, 0.0]</td>\n",
              "    </tr>\n",
              "    <tr>\n",
              "      <th>20_1934</th>\n",
              "      <td>[121.8005142211914, 121.8005142211914, 121.800...</td>\n",
              "      <td>[126.25089263916016, 126.25089263916016, 126.2...</td>\n",
              "      <td>119.0</td>\n",
              "      <td>N</td>\n",
              "      <td>[1.0, 0.0, 0.0]</td>\n",
              "    </tr>\n",
              "  </tbody>\n",
              "</table>\n",
              "<p>12913 rows × 5 columns</p>\n",
              "</div>\n",
              "      <button class=\"colab-df-convert\" onclick=\"convertToInteractive('df-70dda432-334e-4780-a89f-e35d5f86de9a')\"\n",
              "              title=\"Convert this dataframe to an interactive table.\"\n",
              "              style=\"display:none;\">\n",
              "        \n",
              "  <svg xmlns=\"http://www.w3.org/2000/svg\" height=\"24px\"viewBox=\"0 0 24 24\"\n",
              "       width=\"24px\">\n",
              "    <path d=\"M0 0h24v24H0V0z\" fill=\"none\"/>\n",
              "    <path d=\"M18.56 5.44l.94 2.06.94-2.06 2.06-.94-2.06-.94-.94-2.06-.94 2.06-2.06.94zm-11 1L8.5 8.5l.94-2.06 2.06-.94-2.06-.94L8.5 2.5l-.94 2.06-2.06.94zm10 10l.94 2.06.94-2.06 2.06-.94-2.06-.94-.94-2.06-.94 2.06-2.06.94z\"/><path d=\"M17.41 7.96l-1.37-1.37c-.4-.4-.92-.59-1.43-.59-.52 0-1.04.2-1.43.59L10.3 9.45l-7.72 7.72c-.78.78-.78 2.05 0 2.83L4 21.41c.39.39.9.59 1.41.59.51 0 1.02-.2 1.41-.59l7.78-7.78 2.81-2.81c.8-.78.8-2.07 0-2.86zM5.41 20L4 18.59l7.72-7.72 1.47 1.35L5.41 20z\"/>\n",
              "  </svg>\n",
              "      </button>\n",
              "      \n",
              "  <style>\n",
              "    .colab-df-container {\n",
              "      display:flex;\n",
              "      flex-wrap:wrap;\n",
              "      gap: 12px;\n",
              "    }\n",
              "\n",
              "    .colab-df-convert {\n",
              "      background-color: #E8F0FE;\n",
              "      border: none;\n",
              "      border-radius: 50%;\n",
              "      cursor: pointer;\n",
              "      display: none;\n",
              "      fill: #1967D2;\n",
              "      height: 32px;\n",
              "      padding: 0 0 0 0;\n",
              "      width: 32px;\n",
              "    }\n",
              "\n",
              "    .colab-df-convert:hover {\n",
              "      background-color: #E2EBFA;\n",
              "      box-shadow: 0px 1px 2px rgba(60, 64, 67, 0.3), 0px 1px 3px 1px rgba(60, 64, 67, 0.15);\n",
              "      fill: #174EA6;\n",
              "    }\n",
              "\n",
              "    [theme=dark] .colab-df-convert {\n",
              "      background-color: #3B4455;\n",
              "      fill: #D2E3FC;\n",
              "    }\n",
              "\n",
              "    [theme=dark] .colab-df-convert:hover {\n",
              "      background-color: #434B5C;\n",
              "      box-shadow: 0px 1px 3px 1px rgba(0, 0, 0, 0.15);\n",
              "      filter: drop-shadow(0px 1px 2px rgba(0, 0, 0, 0.3));\n",
              "      fill: #FFFFFF;\n",
              "    }\n",
              "  </style>\n",
              "\n",
              "      <script>\n",
              "        const buttonEl =\n",
              "          document.querySelector('#df-70dda432-334e-4780-a89f-e35d5f86de9a button.colab-df-convert');\n",
              "        buttonEl.style.display =\n",
              "          google.colab.kernel.accessAllowed ? 'block' : 'none';\n",
              "\n",
              "        async function convertToInteractive(key) {\n",
              "          const element = document.querySelector('#df-70dda432-334e-4780-a89f-e35d5f86de9a');\n",
              "          const dataTable =\n",
              "            await google.colab.kernel.invokeFunction('convertToInteractive',\n",
              "                                                     [key], {});\n",
              "          if (!dataTable) return;\n",
              "\n",
              "          const docLinkHtml = 'Like what you see? Visit the ' +\n",
              "            '<a target=\"_blank\" href=https://colab.research.google.com/notebooks/data_table.ipynb>data table notebook</a>'\n",
              "            + ' to learn more about interactive tables.';\n",
              "          element.innerHTML = '';\n",
              "          dataTable['output_type'] = 'display_data';\n",
              "          await google.colab.output.renderOutput(dataTable, element);\n",
              "          const docLink = document.createElement('div');\n",
              "          docLink.innerHTML = docLinkHtml;\n",
              "          element.appendChild(docLink);\n",
              "        }\n",
              "      </script>\n",
              "    </div>\n",
              "  </div>\n",
              "  "
            ],
            "text/plain": [
              "                                                first_lead  ...            label\n",
              "17_0     [118.2327651977539, 118.2327651977539, 118.232...  ...  [1.0, 0.0, 0.0]\n",
              "17_1     [118.2327651977539, 118.2327651977539, 118.232...  ...  [1.0, 0.0, 0.0]\n",
              "17_2     [109.64065551757812, 109.64065551757812, 109.6...  ...  [1.0, 0.0, 0.0]\n",
              "17_3     [109.64065551757812, 109.64065551757812, 109.6...  ...  [0.0, 1.0, 0.0]\n",
              "17_4     [109.64065551757812, 109.64065551757812, 109.6...  ...  [1.0, 0.0, 0.0]\n",
              "...                                                    ...  ...              ...\n",
              "20_1930  [122.96874237060547, 122.96874237060547, 122.9...  ...  [1.0, 0.0, 0.0]\n",
              "20_1931  [119.81330108642578, 119.81330108642578, 119.8...  ...  [1.0, 0.0, 0.0]\n",
              "20_1932  [121.8005142211914, 121.8005142211914, 121.800...  ...  [1.0, 0.0, 0.0]\n",
              "20_1933  [121.8005142211914, 121.8005142211914, 121.800...  ...  [1.0, 0.0, 0.0]\n",
              "20_1934  [121.8005142211914, 121.8005142211914, 121.800...  ...  [1.0, 0.0, 0.0]\n",
              "\n",
              "[12913 rows x 5 columns]"
            ]
          },
          "metadata": {},
          "execution_count": 16
        }
      ]
    },
    {
      "cell_type": "code",
      "source": [
        "'''\n",
        "validation_patches_df[(validation_patches_df['stringLabel']=='S')]\n",
        "'''"
      ],
      "metadata": {
        "id": "tkQWUJ9YmSrT",
        "colab": {
          "base_uri": "https://localhost:8080/",
          "height": 35
        },
        "outputId": "bcddd01c-4716-454c-eef4-875592e25659"
      },
      "id": "tkQWUJ9YmSrT",
      "execution_count": 17,
      "outputs": [
        {
          "output_type": "execute_result",
          "data": {
            "application/vnd.google.colaboratory.intrinsic+json": {
              "type": "string"
            },
            "text/plain": [
              "\"\\nvalidation_patches_df[(validation_patches_df['stringLabel']=='S')]\\n\""
            ]
          },
          "metadata": {},
          "execution_count": 17
        }
      ]
    },
    {
      "cell_type": "code",
      "source": [
        "    '''\n",
        "    signal = validation_patches_df.loc[\"35_7\"]\n",
        "    length = len(signal['first_lead'])\n",
        "    fig,axs = plt.subplots(2)\n",
        "    fig.set_size_inches(18.5, 10.5)\n",
        "    ax1 = axs[0]\n",
        "    ax2 = axs[1]\n",
        "  \n",
        "    \n",
        "    first_lead = signal['first_lead'][:length]\n",
        "    second_lead = signal['second_lead'][:length]\n",
        "    \n",
        "    x = list(range(length))\n",
        "    \n",
        "    ax1.plot(x,first_lead)\n",
        "    ax2.plot(x,second_lead)\n",
        "    \n",
        "    plt.show()\n",
        "    '''"
      ],
      "metadata": {
        "id": "whT4kvYPn_d8",
        "colab": {
          "base_uri": "https://localhost:8080/",
          "height": 53
        },
        "outputId": "8502c808-0719-4232-be25-5469dc79dc55"
      },
      "id": "whT4kvYPn_d8",
      "execution_count": 18,
      "outputs": [
        {
          "output_type": "execute_result",
          "data": {
            "application/vnd.google.colaboratory.intrinsic+json": {
              "type": "string"
            },
            "text/plain": [
              "'\\nsignal = validation_patches_df.loc[\"35_7\"]\\nlength = len(signal[\\'first_lead\\'])\\nfig,axs = plt.subplots(2)\\nfig.set_size_inches(18.5, 10.5)\\nax1 = axs[0]\\nax2 = axs[1]\\n  \\n\\nfirst_lead = signal[\\'first_lead\\'][:length]\\nsecond_lead = signal[\\'second_lead\\'][:length]\\n\\nx = list(range(length))\\n\\nax1.plot(x,first_lead)\\nax2.plot(x,second_lead)\\n\\nplt.show()\\n'"
            ]
          },
          "metadata": {},
          "execution_count": 18
        }
      ]
    },
    {
      "cell_type": "code",
      "source": [
        "    '''\n",
        "    signal = validation_patches_df.loc[\"47_1704\"]\n",
        "    length = len(signal['first_lead'])\n",
        "    fig,axs = plt.subplots(2)\n",
        "    fig.set_size_inches(18.5, 10.5)\n",
        "    ax1 = axs[0]\n",
        "    ax2 = axs[1]\n",
        "  \n",
        "    \n",
        "    first_lead = signal['first_lead'][:length]\n",
        "    second_lead = signal['second_lead'][:length]\n",
        "    \n",
        "    x = list(range(length))\n",
        "    \n",
        "    ax1.plot(x,first_lead)\n",
        "    ax2.plot(x,second_lead)\n",
        "    \n",
        "    plt.show()\n",
        "    '''"
      ],
      "metadata": {
        "id": "tlZvxtbv8ePE",
        "colab": {
          "base_uri": "https://localhost:8080/",
          "height": 53
        },
        "outputId": "1d513c94-3305-4dbb-f253-ac239c9c1421"
      },
      "id": "tlZvxtbv8ePE",
      "execution_count": 19,
      "outputs": [
        {
          "output_type": "execute_result",
          "data": {
            "application/vnd.google.colaboratory.intrinsic+json": {
              "type": "string"
            },
            "text/plain": [
              "'\\nsignal = validation_patches_df.loc[\"47_1704\"]\\nlength = len(signal[\\'first_lead\\'])\\nfig,axs = plt.subplots(2)\\nfig.set_size_inches(18.5, 10.5)\\nax1 = axs[0]\\nax2 = axs[1]\\n  \\n\\nfirst_lead = signal[\\'first_lead\\'][:length]\\nsecond_lead = signal[\\'second_lead\\'][:length]\\n\\nx = list(range(length))\\n\\nax1.plot(x,first_lead)\\nax2.plot(x,second_lead)\\n\\nplt.show()\\n'"
            ]
          },
          "metadata": {},
          "execution_count": 19
        }
      ]
    },
    {
      "cell_type": "code",
      "source": [
        "'''\n",
        "validation_patches_df[(validation_patches_df['stringLabel']=='V')]\n",
        "'''"
      ],
      "metadata": {
        "id": "P2OtuXiuD6ie",
        "colab": {
          "base_uri": "https://localhost:8080/",
          "height": 35
        },
        "outputId": "f941b199-ea82-4e12-93b3-30caa0d0f132"
      },
      "id": "P2OtuXiuD6ie",
      "execution_count": 20,
      "outputs": [
        {
          "output_type": "execute_result",
          "data": {
            "application/vnd.google.colaboratory.intrinsic+json": {
              "type": "string"
            },
            "text/plain": [
              "\"\\nvalidation_patches_df[(validation_patches_df['stringLabel']=='V')]\\n\""
            ]
          },
          "metadata": {},
          "execution_count": 20
        }
      ]
    },
    {
      "cell_type": "code",
      "source": [
        "    '''\n",
        "    signal = validation_patches_df.loc[\"57_1969\"]\n",
        "    length = len(signal['first_lead'])\n",
        "    fig,axs = plt.subplots(2)\n",
        "    fig.set_size_inches(18.5, 10.5)\n",
        "    ax1 = axs[0]\n",
        "    ax2 = axs[1]\n",
        "  \n",
        "    \n",
        "    first_lead = signal['first_lead'][:length]\n",
        "    second_lead = signal['second_lead'][:length]\n",
        "    \n",
        "    x = list(range(length))\n",
        "    \n",
        "    ax1.plot(x,first_lead)\n",
        "    ax2.plot(x,second_lead)\n",
        "    \n",
        "    plt.show()\n",
        "    '''"
      ],
      "metadata": {
        "id": "HyQNLqpGEC5V",
        "colab": {
          "base_uri": "https://localhost:8080/",
          "height": 53
        },
        "outputId": "f7b58244-3787-4780-994d-0df5e034e423"
      },
      "id": "HyQNLqpGEC5V",
      "execution_count": 21,
      "outputs": [
        {
          "output_type": "execute_result",
          "data": {
            "application/vnd.google.colaboratory.intrinsic+json": {
              "type": "string"
            },
            "text/plain": [
              "'\\nsignal = validation_patches_df.loc[\"57_1969\"]\\nlength = len(signal[\\'first_lead\\'])\\nfig,axs = plt.subplots(2)\\nfig.set_size_inches(18.5, 10.5)\\nax1 = axs[0]\\nax2 = axs[1]\\n  \\n\\nfirst_lead = signal[\\'first_lead\\'][:length]\\nsecond_lead = signal[\\'second_lead\\'][:length]\\n\\nx = list(range(length))\\n\\nax1.plot(x,first_lead)\\nax2.plot(x,second_lead)\\n\\nplt.show()\\n'"
            ]
          },
          "metadata": {},
          "execution_count": 21
        }
      ]
    },
    {
      "cell_type": "code",
      "source": [
        "def plot_confusion_matrix(y_true, y_pred):\n",
        "  \"\"\"\n",
        "    :param ndarray y_true: contains the ground truth labels in the shape (n_samples,)\n",
        "    :param ndarray y_pred: contains the predicted labels in the shape (n_samples,)\n",
        "  \"\"\"\n",
        "  con_mat = tf.math.confusion_matrix(labels=np.squeeze(y_true), predictions=np.rint(np.squeeze(y_pred))).numpy()\n",
        "  con_mat_norm = np.around(con_mat.astype('float') / con_mat.sum(axis=1)[:, np.newaxis], decimals=2)\n",
        "  con_mat_df = pd.DataFrame(con_mat_norm,\n",
        "                  index = classes, \n",
        "                  columns = classes)\n",
        "  figure = plt.figure(figsize=(8, 8))\n",
        "  sns.heatmap(con_mat_df, annot=True,cmap=plt.cm.Blues)\n",
        "  plt.tight_layout()\n",
        "  plt.ylabel('True label')\n",
        "  plt.xlabel('Predicted label')\n",
        "  plt.show()"
      ],
      "metadata": {
        "id": "8sMFEIwKEZjc"
      },
      "id": "8sMFEIwKEZjc",
      "execution_count": 22,
      "outputs": []
    },
    {
      "cell_type": "code",
      "source": [
        "def create_input(df):\n",
        "    \n",
        "    x = list()\n",
        "    y = list()\n",
        "    \n",
        "    for id in tqdm(df.index.tolist()):\n",
        "        row = df.loc[id]\n",
        "        x.append(np.transpose(np.asarray([row['first_lead'],row['second_lead']]).astype(np.float32)))\n",
        "        y.append(row['label'])\n",
        "\n",
        "    x = np.asarray(x).astype(np.float32)\n",
        "    y = np.asarray(y).astype(np.float32)\n",
        "    \n",
        "    return x,y"
      ],
      "metadata": {
        "id": "ie_8TDGvH6Ct"
      },
      "id": "ie_8TDGvH6Ct",
      "execution_count": 23,
      "outputs": []
    },
    {
      "cell_type": "code",
      "source": [
        "x_train,y_train = create_input(training_patches_df)\n",
        "x_valid,y_valid = create_input(validation_patches_df)"
      ],
      "metadata": {
        "id": "vVQS64b1HOue",
        "colab": {
          "base_uri": "https://localhost:8080/"
        },
        "outputId": "daea833f-d5d0-4ceb-e64b-4f6ffac50c0c"
      },
      "id": "vVQS64b1HOue",
      "execution_count": 24,
      "outputs": [
        {
          "output_type": "stream",
          "name": "stderr",
          "text": [
            "100%|██████████| 59397/59397 [00:22<00:00, 2624.97it/s]\n",
            "100%|██████████| 12913/12913 [00:04<00:00, 2761.67it/s]\n"
          ]
        }
      ]
    },
    {
      "cell_type": "code",
      "source": [
        "from sklearn.utils.class_weight import compute_class_weight\n",
        "timesteps = 500 #patch size\n",
        "channels_num = 2\n",
        "\n",
        "input = keras.layers.Input(shape=(timesteps, channels_num))\n",
        "\n",
        "conv1 = keras.layers.Conv1D(filters=32,kernel_size=25,activation=\"relu\")(input)\n",
        "maxPool1 = keras.layers.MaxPool1D(pool_size=2)(conv1)\n",
        "dropout1 = keras.layers.Dropout(0.05)(maxPool1)\n",
        "conv2 = keras.layers.Conv1D(filters=64,kernel_size=12,activation=\"relu\")(dropout1)\n",
        "maxPool2 = keras.layers.MaxPool1D(pool_size=2)(conv2)\n",
        "dropout2 = keras.layers.Dropout(0.1)(maxPool2)\n",
        "conv3 = keras.layers.Conv1D(filters=128,kernel_size=9,activation=\"relu\")(dropout2)\n",
        "maxPool3 = keras.layers.MaxPool1D(pool_size=2)(conv3)\n",
        "dropout3 = keras.layers.Dropout(0.15)(maxPool3)\n",
        "lstm1 = keras.layers.LSTM(64, return_sequences=True)(dropout3)\n",
        "lstm2 = keras.layers.LSTM(64, return_sequences=False)(lstm1)\n",
        "output = keras.layers.Dense(3, activation='softmax',  name='softmax_classifier')(lstm2)\n",
        "model = keras.models.Model(inputs=input, outputs=output)\n",
        "\n",
        "model.summary()\n",
        "\n",
        "callback = keras.callbacks.EarlyStopping(monitor='val_loss', patience=10,mode=\"auto\", restore_best_weights=True)\n",
        "\n",
        "batch_size = 128\n",
        "learning_rate = 1e-5\n",
        "model.compile(\n",
        "    optimizer = keras.optimizers.Adam(learning_rate=learning_rate),\n",
        "    loss = 'binary_crossentropy',\n",
        "    metrics = ['accuracy'],\n",
        "    \n",
        ")\n",
        "\n",
        "y_integers = np.argmax(y_train, axis=1)\n",
        "class_weights = compute_class_weight(\n",
        "                                            class_weight = 'balanced', \n",
        "                                            classes =  np.unique(y_integers), \n",
        "                                            y = y_integers\n",
        "                                        )\n",
        "d_class_weights = dict(enumerate(class_weights))\n",
        "\n",
        "history = model.fit(\n",
        "    x = x_train,\n",
        "    y = y_train, \n",
        "    batch_size = batch_size,\n",
        "    steps_per_epoch=len(x_train)/batch_size,\n",
        "    validation_data=(x_valid, y_valid),\n",
        "    epochs = 100,\n",
        "    shuffle = True,\n",
        "    callbacks=[callback],\n",
        "    class_weight = d_class_weights\n",
        ").history\n"
      ],
      "metadata": {
        "colab": {
          "base_uri": "https://localhost:8080/"
        },
        "id": "3h8J2KSIERUr",
        "outputId": "a4662bfd-1670-4691-8544-37d3da8309bd"
      },
      "id": "3h8J2KSIERUr",
      "execution_count": 25,
      "outputs": [
        {
          "output_type": "stream",
          "name": "stdout",
          "text": [
            "Model: \"model\"\n",
            "_________________________________________________________________\n",
            " Layer (type)                Output Shape              Param #   \n",
            "=================================================================\n",
            " input_1 (InputLayer)        [(None, 500, 2)]          0         \n",
            "                                                                 \n",
            " conv1d (Conv1D)             (None, 476, 32)           1632      \n",
            "                                                                 \n",
            " max_pooling1d (MaxPooling1D  (None, 238, 32)          0         \n",
            " )                                                               \n",
            "                                                                 \n",
            " dropout (Dropout)           (None, 238, 32)           0         \n",
            "                                                                 \n",
            " conv1d_1 (Conv1D)           (None, 227, 64)           24640     \n",
            "                                                                 \n",
            " max_pooling1d_1 (MaxPooling  (None, 113, 64)          0         \n",
            " 1D)                                                             \n",
            "                                                                 \n",
            " dropout_1 (Dropout)         (None, 113, 64)           0         \n",
            "                                                                 \n",
            " conv1d_2 (Conv1D)           (None, 105, 128)          73856     \n",
            "                                                                 \n",
            " max_pooling1d_2 (MaxPooling  (None, 52, 128)          0         \n",
            " 1D)                                                             \n",
            "                                                                 \n",
            " dropout_2 (Dropout)         (None, 52, 128)           0         \n",
            "                                                                 \n",
            " lstm (LSTM)                 (None, 52, 64)            49408     \n",
            "                                                                 \n",
            " lstm_1 (LSTM)               (None, 64)                33024     \n",
            "                                                                 \n",
            " softmax_classifier (Dense)  (None, 3)                 195       \n",
            "                                                                 \n",
            "=================================================================\n",
            "Total params: 182,755\n",
            "Trainable params: 182,755\n",
            "Non-trainable params: 0\n",
            "_________________________________________________________________\n",
            "Epoch 1/100\n",
            "464/464 [==============================] - 27s 44ms/step - loss: 0.6482 - accuracy: 0.0972 - val_loss: 0.6495 - val_accuracy: 0.0845\n",
            "Epoch 2/100\n",
            "464/464 [==============================] - 19s 40ms/step - loss: 0.6370 - accuracy: 0.2939 - val_loss: 0.6567 - val_accuracy: 0.0723\n",
            "Epoch 3/100\n",
            "464/464 [==============================] - 19s 40ms/step - loss: 0.6356 - accuracy: 0.3837 - val_loss: 0.6691 - val_accuracy: 0.0651\n",
            "Epoch 4/100\n",
            "464/464 [==============================] - 19s 40ms/step - loss: 0.6306 - accuracy: 0.4270 - val_loss: 0.6608 - val_accuracy: 0.0726\n",
            "Epoch 5/100\n",
            "464/464 [==============================] - 19s 40ms/step - loss: 0.6131 - accuracy: 0.4951 - val_loss: 0.6647 - val_accuracy: 0.1644\n",
            "Epoch 6/100\n",
            "464/464 [==============================] - 19s 40ms/step - loss: 0.5597 - accuracy: 0.5490 - val_loss: 0.6227 - val_accuracy: 0.5793\n",
            "Epoch 7/100\n",
            "464/464 [==============================] - 19s 40ms/step - loss: 0.5193 - accuracy: 0.5937 - val_loss: 0.5741 - val_accuracy: 0.3807\n",
            "Epoch 8/100\n",
            "464/464 [==============================] - 19s 40ms/step - loss: 0.4918 - accuracy: 0.6017 - val_loss: 0.5962 - val_accuracy: 0.3105\n",
            "Epoch 9/100\n",
            "464/464 [==============================] - 19s 41ms/step - loss: 0.4737 - accuracy: 0.5832 - val_loss: 0.6039 - val_accuracy: 0.3183\n",
            "Epoch 10/100\n",
            "464/464 [==============================] - 19s 41ms/step - loss: 0.4555 - accuracy: 0.6051 - val_loss: 0.5739 - val_accuracy: 0.4714\n",
            "Epoch 11/100\n",
            "464/464 [==============================] - 19s 41ms/step - loss: 0.4390 - accuracy: 0.6213 - val_loss: 0.6244 - val_accuracy: 0.4336\n",
            "Epoch 12/100\n",
            "464/464 [==============================] - 19s 41ms/step - loss: 0.4228 - accuracy: 0.6326 - val_loss: 0.5364 - val_accuracy: 0.6124\n",
            "Epoch 13/100\n",
            "464/464 [==============================] - 19s 41ms/step - loss: 0.4042 - accuracy: 0.6522 - val_loss: 0.5277 - val_accuracy: 0.6248\n",
            "Epoch 14/100\n",
            "464/464 [==============================] - 19s 41ms/step - loss: 0.3932 - accuracy: 0.6703 - val_loss: 0.4769 - val_accuracy: 0.6738\n",
            "Epoch 15/100\n",
            "464/464 [==============================] - 19s 41ms/step - loss: 0.3818 - accuracy: 0.6769 - val_loss: 0.4982 - val_accuracy: 0.6499\n",
            "Epoch 16/100\n",
            "464/464 [==============================] - 19s 41ms/step - loss: 0.3688 - accuracy: 0.6882 - val_loss: 0.4802 - val_accuracy: 0.6802\n",
            "Epoch 17/100\n",
            "464/464 [==============================] - 19s 41ms/step - loss: 0.3569 - accuracy: 0.6983 - val_loss: 0.4360 - val_accuracy: 0.7293\n",
            "Epoch 18/100\n",
            "464/464 [==============================] - 19s 41ms/step - loss: 0.3458 - accuracy: 0.7093 - val_loss: 0.4174 - val_accuracy: 0.7395\n",
            "Epoch 19/100\n",
            "464/464 [==============================] - 19s 40ms/step - loss: 0.3363 - accuracy: 0.7216 - val_loss: 0.4383 - val_accuracy: 0.7297\n",
            "Epoch 20/100\n",
            "464/464 [==============================] - 19s 41ms/step - loss: 0.3259 - accuracy: 0.7330 - val_loss: 0.4096 - val_accuracy: 0.7410\n",
            "Epoch 21/100\n",
            "464/464 [==============================] - 19s 41ms/step - loss: 0.3157 - accuracy: 0.7380 - val_loss: 0.4119 - val_accuracy: 0.7335\n",
            "Epoch 22/100\n",
            "464/464 [==============================] - 19s 41ms/step - loss: 0.3087 - accuracy: 0.7479 - val_loss: 0.4482 - val_accuracy: 0.7094\n",
            "Epoch 23/100\n",
            "464/464 [==============================] - 19s 41ms/step - loss: 0.3014 - accuracy: 0.7548 - val_loss: 0.4140 - val_accuracy: 0.7405\n",
            "Epoch 24/100\n",
            "464/464 [==============================] - 19s 41ms/step - loss: 0.2909 - accuracy: 0.7680 - val_loss: 0.4210 - val_accuracy: 0.7273\n",
            "Epoch 25/100\n",
            "464/464 [==============================] - 19s 41ms/step - loss: 0.2837 - accuracy: 0.7746 - val_loss: 0.4038 - val_accuracy: 0.7325\n",
            "Epoch 26/100\n",
            "464/464 [==============================] - 19s 40ms/step - loss: 0.2746 - accuracy: 0.7834 - val_loss: 0.4455 - val_accuracy: 0.6973\n",
            "Epoch 27/100\n",
            "464/464 [==============================] - 19s 40ms/step - loss: 0.2655 - accuracy: 0.7925 - val_loss: 0.4362 - val_accuracy: 0.6982\n",
            "Epoch 28/100\n",
            "464/464 [==============================] - 19s 41ms/step - loss: 0.2578 - accuracy: 0.7986 - val_loss: 0.4605 - val_accuracy: 0.6865\n",
            "Epoch 29/100\n",
            "464/464 [==============================] - 19s 41ms/step - loss: 0.2543 - accuracy: 0.8032 - val_loss: 0.4243 - val_accuracy: 0.7156\n",
            "Epoch 30/100\n",
            "464/464 [==============================] - 19s 41ms/step - loss: 0.2469 - accuracy: 0.8095 - val_loss: 0.4575 - val_accuracy: 0.6753\n",
            "Epoch 31/100\n",
            "464/464 [==============================] - 19s 40ms/step - loss: 0.2403 - accuracy: 0.8176 - val_loss: 0.4521 - val_accuracy: 0.6839\n",
            "Epoch 32/100\n",
            "464/464 [==============================] - 19s 41ms/step - loss: 0.2329 - accuracy: 0.8208 - val_loss: 0.4097 - val_accuracy: 0.7135\n",
            "Epoch 33/100\n",
            "464/464 [==============================] - 19s 41ms/step - loss: 0.2242 - accuracy: 0.8314 - val_loss: 0.3814 - val_accuracy: 0.7396\n",
            "Epoch 34/100\n",
            "464/464 [==============================] - 19s 41ms/step - loss: 0.2170 - accuracy: 0.8373 - val_loss: 0.4365 - val_accuracy: 0.7084\n",
            "Epoch 35/100\n",
            "464/464 [==============================] - 19s 41ms/step - loss: 0.2089 - accuracy: 0.8489 - val_loss: 0.4034 - val_accuracy: 0.7243\n",
            "Epoch 36/100\n",
            "464/464 [==============================] - 19s 41ms/step - loss: 0.2021 - accuracy: 0.8579 - val_loss: 0.4748 - val_accuracy: 0.6884\n",
            "Epoch 37/100\n",
            "464/464 [==============================] - 19s 41ms/step - loss: 0.1989 - accuracy: 0.8592 - val_loss: 0.3814 - val_accuracy: 0.7488\n",
            "Epoch 38/100\n",
            "464/464 [==============================] - 19s 41ms/step - loss: 0.1923 - accuracy: 0.8695 - val_loss: 0.4374 - val_accuracy: 0.7086\n",
            "Epoch 39/100\n",
            "464/464 [==============================] - 19s 41ms/step - loss: 0.1857 - accuracy: 0.8740 - val_loss: 0.4328 - val_accuracy: 0.7166\n",
            "Epoch 40/100\n",
            "464/464 [==============================] - 19s 41ms/step - loss: 0.1827 - accuracy: 0.8832 - val_loss: 0.4360 - val_accuracy: 0.7104\n",
            "Epoch 41/100\n",
            "464/464 [==============================] - 19s 41ms/step - loss: 0.1797 - accuracy: 0.8845 - val_loss: 0.4181 - val_accuracy: 0.7279\n",
            "Epoch 42/100\n",
            "464/464 [==============================] - 19s 41ms/step - loss: 0.1747 - accuracy: 0.8906 - val_loss: 0.4611 - val_accuracy: 0.7090\n",
            "Epoch 43/100\n",
            "464/464 [==============================] - 19s 41ms/step - loss: 0.1688 - accuracy: 0.8962 - val_loss: 0.4201 - val_accuracy: 0.7211\n",
            "Epoch 44/100\n",
            "464/464 [==============================] - 19s 41ms/step - loss: 0.1660 - accuracy: 0.8994 - val_loss: 0.4415 - val_accuracy: 0.7153\n",
            "Epoch 45/100\n",
            "464/464 [==============================] - 19s 41ms/step - loss: 0.1627 - accuracy: 0.9052 - val_loss: 0.4394 - val_accuracy: 0.7171\n",
            "Epoch 46/100\n",
            "464/464 [==============================] - 19s 41ms/step - loss: 0.1596 - accuracy: 0.9069 - val_loss: 0.4455 - val_accuracy: 0.7036\n",
            "Epoch 47/100\n",
            "464/464 [==============================] - 19s 41ms/step - loss: 0.1545 - accuracy: 0.9100 - val_loss: 0.4714 - val_accuracy: 0.7080\n"
          ]
        }
      ]
    },
    {
      "cell_type": "code",
      "source": [
        "y_pred = model.predict(x_valid)\n",
        "y_pred=np.argmax(y_pred,axis=1)\n",
        "y_val_classes=np.argmax(y_valid, axis=1)\n",
        "\n",
        "conf = plot_confusion_matrix(y_val_classes, y_pred)"
      ],
      "metadata": {
        "colab": {
          "base_uri": "https://localhost:8080/",
          "height": 599
        },
        "id": "mDnpELOC5xNq",
        "outputId": "1132b833-c4ca-459c-f5da-962c683004bc"
      },
      "id": "mDnpELOC5xNq",
      "execution_count": 27,
      "outputs": [
        {
          "output_type": "display_data",
          "data": {
            "image/png": "[encoded data removed]",
            "text/plain": [
              "<Figure size 576x576 with 2 Axes>"
            ]
          },
          "metadata": {
            "needs_background": "light"
          }
        }
      ]
    }
  ],
  "metadata": {
    "kernelspec": {
      "display_name": "tf-gpu",
      "language": "python",
      "name": "tf-gpu"
    },
    "language_info": {
      "codemirror_mode": {
        "name": "ipython",
        "version": 3
      },
      "file_extension": ".py",
      "mimetype": "text/x-python",
      "name": "python",
      "nbconvert_exporter": "python",
      "pygments_lexer": "ipython3",
      "version": "3.9.7"
    },
    "colab": {
      "name": "NewLSTM.ipynb",
      "provenance": [],
      "collapsed_sections": []
    },
    "accelerator": "GPU"
  },
  "nbformat": 4,
  "nbformat_minor": 5
}