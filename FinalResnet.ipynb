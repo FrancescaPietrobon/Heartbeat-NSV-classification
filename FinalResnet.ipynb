{
  "cells": [
    {
      "cell_type": "markdown",
      "metadata": {
        "id": "view-in-github",
        "colab_type": "text"
      },
      "source": [
        "<a href=\"https://colab.research.google.com/github/simonetome/ApplieAI-Biomedicine-Masciulli-Pietrobon-Tome/blob/main/FinalResnet.ipynb\" target=\"_parent\"><img src=\"https://colab.research.google.com/assets/colab-badge.svg\" alt=\"Open In Colab\"/></a>"
      ]
    },
    {
      "cell_type": "code",
      "source": [
        "!pip install heartpy\n",
        "!pip install PyWavelets"
      ],
      "metadata": {
        "id": "l1CgC3jGsC2d"
      },
      "id": "l1CgC3jGsC2d",
      "execution_count": null,
      "outputs": []
    },
    {
      "cell_type": "code",
      "execution_count": 1,
      "id": "7bfe12d7",
      "metadata": {
        "id": "7bfe12d7"
      },
      "outputs": [],
      "source": [
        "import os \n",
        "import zipfile \n",
        "from scipy.io import loadmat \n",
        "import pandas as pd\n",
        "import matplotlib.pyplot as plt \n",
        "import numpy as np\n",
        "import io\n",
        "from PIL import Image\n",
        "import tensorflow as tf \n",
        "from tensorflow import keras\n",
        "import sys\n",
        "from scipy.signal import resample, butter, lfilter, iirnotch\n",
        "from tqdm import tqdm\n",
        "import random\n",
        "from sklearn.model_selection import train_test_split\n",
        "import heartpy as hp\n",
        "from tensorflow.keras.callbacks import ModelCheckpoint,EarlyStopping,ReduceLROnPlateau\n",
        "import pywt as pw\n",
        "SEED = 1\n",
        "tf.random.set_seed(SEED)\n",
        "np.random.seed(SEED)\n",
        "random.seed(SEED)\n",
        "os.environ['PYTHONHASHSEED'] = str(SEED)"
      ]
    },
    {
      "cell_type": "code",
      "source": [
        "#IF Colab cloud GPU used -> Mount the My Drive folder and set cwd\n",
        "from google.colab import drive\n",
        "drive.mount('/content/drive')\n",
        "cwd = '/content/drive/My Drive/FinalAssignment'\n",
        "os.chdir(cwd)\n",
        "dataset_folder = os.path.join(cwd,'training_set_dir')"
      ],
      "metadata": {
        "colab": {
          "base_uri": "https://localhost:8080/"
        },
        "id": "iiM7KQvEsJjV",
        "outputId": "b1eb8829-11c2-4d95-98f2-de163dc55f1c"
      },
      "id": "iiM7KQvEsJjV",
      "execution_count": null,
      "outputs": [
        {
          "output_type": "stream",
          "name": "stdout",
          "text": [
            "Mounted at /content/drive\n"
          ]
        }
      ]
    },
    {
      "cell_type": "code",
      "execution_count": null,
      "id": "5fcdb248",
      "metadata": {
        "id": "5fcdb248"
      },
      "outputs": [],
      "source": [
        "#IF run locally\n",
        "dataset_current_folder = \"training_set.zip\" # where the zip is\n",
        "dataset_folder = \"C://Users//simon//Desktop//AppliedAI-project\" # where I want the dataset - avoid the current folder as Git doesn't allow huge uploads\n",
        "\n",
        "with zipfile.ZipFile(dataset_current_folder, 'r') as zip: # extract the zip file into the desired folder \n",
        "    zip.extractall(dataset_folder)"
      ]
    },
    {
      "cell_type": "code",
      "source": [
        "#IF local runtime used -> Set os.cwd as google drive volume , mounted locally\n",
        "os.chdir('G:\\Il mio Drive')\n",
        "cwd = os.getcwd()\n",
        "cwd = os.path.join(cwd,'Colab2022/AppliedAI/FinalAssignment')\n",
        "os.chdir(cwd)\n",
        "dataset_current_folder = \"training_set.zip\" # where the zip is\n",
        "dataset_folder = os.path.join(cwd,'training_set_dir')\n",
        "with zipfile.ZipFile(dataset_current_folder, 'r') as zip: # extract the zip file into the desired folder \n",
        "    zip.extractall(dataset_folder)"
      ],
      "metadata": {
        "id": "HsPnFitKvg0j"
      },
      "id": "HsPnFitKvg0j",
      "execution_count": 2,
      "outputs": []
    },
    {
      "cell_type": "code",
      "execution_count": 3,
      "id": "26e300ba",
      "metadata": {
        "id": "26e300ba",
        "colab": {
          "base_uri": "https://localhost:8080/",
          "height": 223
        },
        "outputId": "e80f66a9-34ca-45eb-eda8-101a59e98834"
      },
      "outputs": [
        {
          "output_type": "stream",
          "name": "stderr",
          "text": [
            "100%|██████████████████████████████████████████████████████████████████████████████| 105/105 [00:00<00:00, 1132.06it/s]\n"
          ]
        },
        {
          "output_type": "execute_result",
          "data": {
            "text/plain": [
              "  sigId                                         ecg_lead_1  \\\n",
              "0  S001  [0.0, 0.04, 0.03, 0.0, 0.03, 0.09, 0.18, 0.14,...   \n",
              "1  S002  [-0.035, -0.045, -0.025, -0.035, -0.045, -0.05...   \n",
              "2  S003  [-0.56, -0.56, -0.55, -0.47, -0.53, -0.47, -0....   \n",
              "3  S004  [-0.46, -0.49, -0.52, -0.58, -0.62, -0.69, -0....   \n",
              "4  S005  [-0.27, -0.17, -0.13, -0.23, -0.18, -0.23, -0....   \n",
              "\n",
              "                                          ecg_lead_2  \\\n",
              "0  [0.08, 0.07, 0.1, 0.06, 0.06, 0.03, 0.1, 0.21,...   \n",
              "1  [-0.095, -0.105, -0.095, -0.095, -0.115, -0.09...   \n",
              "2  [0.43, 0.56, 0.6, 0.41, 0.54, 0.48, 0.56, 0.46...   \n",
              "3  [0.56, 0.61, 0.66, 0.66, 0.63, 0.66, 0.59, 0.5...   \n",
              "4  [-0.02, -0.04, -0.01, -0.01, -0.02, -0.06, 0.0...   \n",
              "\n",
              "                                               peaks frequencies  \\\n",
              "0  [29, 110, 191, 272, 353, 433, 514, 595, 676, 7...         128   \n",
              "1  [48, 153, 243, 352, 440, 547, 636, 742, 831, 9...         128   \n",
              "2  [91, 209, 326, 394, 537, 653, 745, 872, 984, 1...         128   \n",
              "3  [98, 223, 349, 474, 599, 726, 853, 980, 1116, ...         128   \n",
              "4  [27, 127, 225, 324, 423, 523, 623, 722, 822, 9...         128   \n",
              "\n",
              "                                              labels  \n",
              "0  [N, N, N, N, N, N, N, N, N, N, N, N, N, N, N, ...  \n",
              "1  [N, N, N, N, S, N, S, N, S, N, S, N, S, N, S, ...  \n",
              "2  [N, N, N, S, N, N, S, N, N, S, N, N, N, N, N, ...  \n",
              "3  [N, N, N, N, N, N, N, N, N, N, N, N, N, N, N, ...  \n",
              "4  [N, N, N, N, N, N, N, N, N, N, N, N, N, N, N, ...  "
            ],
            "text/html": [
              "<div>\n",
              "<style scoped>\n",
              "    .dataframe tbody tr th:only-of-type {\n",
              "        vertical-align: middle;\n",
              "    }\n",
              "\n",
              "    .dataframe tbody tr th {\n",
              "        vertical-align: top;\n",
              "    }\n",
              "\n",
              "    .dataframe thead th {\n",
              "        text-align: right;\n",
              "    }\n",
              "</style>\n",
              "<table border=\"1\" class=\"dataframe\">\n",
              "  <thead>\n",
              "    <tr style=\"text-align: right;\">\n",
              "      <th></th>\n",
              "      <th>sigId</th>\n",
              "      <th>ecg_lead_1</th>\n",
              "      <th>ecg_lead_2</th>\n",
              "      <th>peaks</th>\n",
              "      <th>frequencies</th>\n",
              "      <th>labels</th>\n",
              "    </tr>\n",
              "  </thead>\n",
              "  <tbody>\n",
              "    <tr>\n",
              "      <th>0</th>\n",
              "      <td>S001</td>\n",
              "      <td>[0.0, 0.04, 0.03, 0.0, 0.03, 0.09, 0.18, 0.14,...</td>\n",
              "      <td>[0.08, 0.07, 0.1, 0.06, 0.06, 0.03, 0.1, 0.21,...</td>\n",
              "      <td>[29, 110, 191, 272, 353, 433, 514, 595, 676, 7...</td>\n",
              "      <td>128</td>\n",
              "      <td>[N, N, N, N, N, N, N, N, N, N, N, N, N, N, N, ...</td>\n",
              "    </tr>\n",
              "    <tr>\n",
              "      <th>1</th>\n",
              "      <td>S002</td>\n",
              "      <td>[-0.035, -0.045, -0.025, -0.035, -0.045, -0.05...</td>\n",
              "      <td>[-0.095, -0.105, -0.095, -0.095, -0.115, -0.09...</td>\n",
              "      <td>[48, 153, 243, 352, 440, 547, 636, 742, 831, 9...</td>\n",
              "      <td>128</td>\n",
              "      <td>[N, N, N, N, S, N, S, N, S, N, S, N, S, N, S, ...</td>\n",
              "    </tr>\n",
              "    <tr>\n",
              "      <th>2</th>\n",
              "      <td>S003</td>\n",
              "      <td>[-0.56, -0.56, -0.55, -0.47, -0.53, -0.47, -0....</td>\n",
              "      <td>[0.43, 0.56, 0.6, 0.41, 0.54, 0.48, 0.56, 0.46...</td>\n",
              "      <td>[91, 209, 326, 394, 537, 653, 745, 872, 984, 1...</td>\n",
              "      <td>128</td>\n",
              "      <td>[N, N, N, S, N, N, S, N, N, S, N, N, N, N, N, ...</td>\n",
              "    </tr>\n",
              "    <tr>\n",
              "      <th>3</th>\n",
              "      <td>S004</td>\n",
              "      <td>[-0.46, -0.49, -0.52, -0.58, -0.62, -0.69, -0....</td>\n",
              "      <td>[0.56, 0.61, 0.66, 0.66, 0.63, 0.66, 0.59, 0.5...</td>\n",
              "      <td>[98, 223, 349, 474, 599, 726, 853, 980, 1116, ...</td>\n",
              "      <td>128</td>\n",
              "      <td>[N, N, N, N, N, N, N, N, N, N, N, N, N, N, N, ...</td>\n",
              "    </tr>\n",
              "    <tr>\n",
              "      <th>4</th>\n",
              "      <td>S005</td>\n",
              "      <td>[-0.27, -0.17, -0.13, -0.23, -0.18, -0.23, -0....</td>\n",
              "      <td>[-0.02, -0.04, -0.01, -0.01, -0.02, -0.06, 0.0...</td>\n",
              "      <td>[27, 127, 225, 324, 423, 523, 623, 722, 822, 9...</td>\n",
              "      <td>128</td>\n",
              "      <td>[N, N, N, N, N, N, N, N, N, N, N, N, N, N, N, ...</td>\n",
              "    </tr>\n",
              "  </tbody>\n",
              "</table>\n",
              "</div>"
            ]
          },
          "metadata": {},
          "execution_count": 3
        }
      ],
      "source": [
        "def load_data(sample_prefix, input_dir):    # everything is returned as a numpy array which is easier to manipulate\n",
        "    label_filepath = os.path.join(input_dir, sample_prefix + '_ann.mat')\n",
        "    peak_filepath = os.path.join(input_dir, sample_prefix + '_rpk.mat')\n",
        "    signal_filepath = os.path.join(input_dir, sample_prefix + '.mat')\n",
        "    if os.path.isfile(label_filepath):\n",
        "        mat_file = loadmat(label_filepath)\n",
        "        label = np.asarray(mat_file['labels'])\n",
        "    if os.path.isfile(peak_filepath):\n",
        "        mat_file = loadmat(peak_filepath)\n",
        "        peaks = np.array(mat_file['rpeaks'],dtype=np.int64)\n",
        "    if os.path.isfile(signal_filepath):\n",
        "        mat_file = loadmat(signal_filepath)\n",
        "        signal = np.asarray(mat_file['ecg'] )\n",
        "\n",
        "    return label, peaks, signal\n",
        "\n",
        "\n",
        "labels = list()             # labels \n",
        "ids = list()                # Id of samples \n",
        "rpeaks = list()             # detected peaks of the signal \n",
        "ecg_signals = list()        # .mat ecg signal \n",
        "frequencies = list()        # sample frequency of the ecg signal \n",
        "\n",
        "\n",
        "for f in os.listdir(dataset_folder):\n",
        "  if f.lower().endswith('.mat'):\n",
        "    id = f[:4]\n",
        "    if id not in ids:\n",
        "      ids.append(id)\n",
        "      sample_prefix = f[:8]\n",
        "      label, peak, signal = load_data(sample_prefix, dataset_folder)\n",
        "      labels.append(label)\n",
        "      rpeaks.append(peak)\n",
        "      ecg_signals.append(signal)\n",
        "      frequencies.append(int(sample_prefix[5:]))\n",
        "cols = [\"sigId\",\"ecg_lead_1\",\"ecg_lead_2\",\"peaks\",\"frequencies\",\"labels\"]\n",
        "\n",
        "# ecg signals is 105 rows [,,,,,]\n",
        "\n",
        "first_lead_signals = []\n",
        "second_lead_signals = []\n",
        "\n",
        "for signal in ecg_signals:\n",
        "    first_lead_signals.append(signal[:,0].tolist())    # converting the array to list as list of array is deprecated \n",
        "    second_lead_signals.append(signal[:,1].tolist())\n",
        "\n",
        "df = pd.DataFrame(data =[ids,first_lead_signals,second_lead_signals,rpeaks,frequencies,labels]).T\n",
        "df.columns = cols\n",
        "\n",
        "# transform peaks \n",
        "for id in tqdm(df.index.tolist()):\n",
        "    peaks = df.iloc[id]['peaks']\n",
        "    p_list = list()\n",
        "    for p in peaks:\n",
        "        p_list.append(p[0])\n",
        "    df.iloc[id]['peaks'] = np.asarray(p_list).astype(np.int64)\n",
        "df = df.sort_values([\"sigId\"]).reset_index(drop=True)\n",
        "df.head()"
      ]
    },
    {
      "cell_type": "code",
      "execution_count": 4,
      "id": "999717a8",
      "metadata": {
        "id": "999717a8",
        "outputId": "a0f4e199-ddf4-4bbe-aa5f-85acc1af8754",
        "colab": {
          "base_uri": "https://localhost:8080/"
        }
      },
      "outputs": [
        {
          "output_type": "stream",
          "name": "stderr",
          "text": [
            "100%|██████████████████████████████████████████████████████████████████████████████████| 40/40 [00:06<00:00,  6.25it/s]\n"
          ]
        }
      ],
      "source": [
        "# because of the curse of dimensionality --> undersampling \n",
        "\n",
        "from scipy.signal import resample\n",
        "\n",
        "ids_128 = df[df['frequencies'] == 128].index.tolist() # 65 signals are sampled using fs = 128\n",
        "ids_250 = df[df['frequencies'] == 250].index.tolist() # 65 signals are sampled using fs = 128\n",
        "sampled_len =  len(df.iloc[ids_250[0]]['ecg_lead_1'])\n",
        "resampled_len = len(df.iloc[ids_128[0]]['ecg_lead_1'])\n",
        "\n",
        "for id in tqdm(ids_250):\n",
        "    row = df.iloc[id]\n",
        "    # first lead\n",
        "    signal = np.asarray(row['ecg_lead_1']).astype(np.float32)\n",
        "    resampled_1 = resample(signal,resampled_len)\n",
        "    \n",
        "    # second lead\n",
        "    \n",
        "    signal = np.asarray(row['ecg_lead_2']).astype(np.float32)\n",
        "    resampled_2 = resample(signal,resampled_len)\n",
        "    \n",
        "    df.iloc[id]['ecg_lead_1'] = resampled_1.tolist()\n",
        "    df.iloc[id]['ecg_lead_2'] = resampled_2.tolist()\n",
        "    \n",
        "    for i,p in enumerate(list(df.iloc[id]['peaks'])):\n",
        "        df.iloc[id]['peaks'][i] = int(resampled_len * p/sampled_len)\n"
      ]
    },
    {
      "cell_type": "markdown",
      "metadata": {
        "id": "RJltVza9lkVw"
      },
      "source": [
        "<h2>Bandpass filtering"
      ],
      "id": "RJltVza9lkVw"
    },
    {
      "cell_type": "code",
      "source": [
        "#Preprocessing used in practical lessons\n",
        "from scipy.signal import resample, butter, lfilter, iirnotch\n",
        "\n",
        "def notch_filter(cutoff, fs, q=30):\n",
        "    nyq = 0.5*fs\n",
        "    freq = cutoff/nyq\n",
        "    b, a = iirnotch(freq, q)\n",
        "    return b, a\n",
        "\n",
        "\n",
        "def bandpass_filter(data, filter_order=6, lowcut = .8, highcut = 45, signal_freq=128):\n",
        "    \"\"\"\n",
        "    Method responsible for creating and applying Butterworth filter.\n",
        "    :param deque data: raw data\n",
        "    :param float lowcut: filter lowcut frequency value\n",
        "    :param float highcut: filter highcut frequency value\n",
        "    :param int signal_freq: signal frequency in samples per second (Hz)\n",
        "    :param int filter_order: filter order\n",
        "    :return array: filtered data\n",
        "    \"\"\"\n",
        "    powerline = 60\n",
        "    nyquist_freq = 0.5 * signal_freq\n",
        "    low = lowcut / nyquist_freq\n",
        "    high = highcut / nyquist_freq\n",
        "    b, a = butter(filter_order, [low, high], btype=\"band\")\n",
        "    y = lfilter(b, a, data,zi = None)\n",
        "    #b,a = notch_filter(powerline,signal_freq)\n",
        "    #y = lfilter(b,a,y)\n",
        "    return y\n",
        "\n",
        "\n",
        "\n",
        "filtered_df = df.copy(deep= True)\n",
        "\n",
        "ids = filtered_df.index.tolist()\n",
        "\n",
        "for id_ in tqdm(ids):\n",
        "    \n",
        "    row = filtered_df.iloc[id_]\n",
        "    first = row['ecg_lead_1']\n",
        "    second = row['ecg_lead_2']\n",
        "    filtered_first = np.asarray(bandpass_filter(first))\n",
        "    filtered_second =  np.asarray(bandpass_filter(second))\n",
        "\n",
        "    filtered_df.iloc[id_]['ecg_lead_1'] = pd.Series(filtered_first)\n",
        "    filtered_df.iloc[id_]['ecg_lead_2'] = pd.Series(filtered_second)"
      ],
      "metadata": {
        "id": "yyfwxPaQQlid",
        "colab": {
          "base_uri": "https://localhost:8080/"
        },
        "outputId": "18eb113c-41a4-43e9-a764-9d7ad415d9bc"
      },
      "id": "yyfwxPaQQlid",
      "execution_count": 5,
      "outputs": [
        {
          "output_type": "stream",
          "name": "stderr",
          "text": [
            "100%|████████████████████████████████████████████████████████████████████████████████| 105/105 [00:02<00:00, 49.20it/s]\n"
          ]
        }
      ]
    },
    {
      "cell_type": "code",
      "execution_count": 6,
      "id": "b8a6e546",
      "metadata": {
        "id": "b8a6e546",
        "outputId": "c88b572d-c30e-44d4-a32e-1b06aba54afe",
        "colab": {
          "base_uri": "https://localhost:8080/",
          "height": 1000
        }
      },
      "outputs": [
        {
          "output_type": "stream",
          "name": "stdout",
          "text": [
            "['N', 'N', 'S', 'N']\n"
          ]
        },
        {
          "output_type": "display_data",
          "data": {
            "text/plain": [
              "<Figure size 1332x756 with 2 Axes>"
            ],
            "image/png": "[encoded data removed]"
          },
          "metadata": {
            "needs_background": "light"
          }
        },
        {
          "output_type": "stream",
          "name": "stdout",
          "text": [
            "['N', 'N', 'S', 'N']\n"
          ]
        },
        {
          "output_type": "display_data",
          "data": {
            "text/plain": [
              "<Figure size 1332x756 with 2 Axes>"
            ],
            "image/png": "[encoded data removed]"
          },
          "metadata": {
            "needs_background": "light"
          }
        }
      ],
      "source": [
        "# plot signal \n",
        "from scipy.fft import fft, fftfreq\n",
        "\n",
        "def plot_signal(df,id,length):\n",
        "    fig,axs = plt.subplots(2)\n",
        "    fig.set_size_inches(18.5, 10.5)\n",
        "    ax1 = axs[0]\n",
        "    ax2 = axs[1]\n",
        "    \n",
        "    \n",
        "    signal = df.iloc[id]\n",
        "    \n",
        "    first_lead = signal['ecg_lead_1'][:length]\n",
        "    second_lead = signal['ecg_lead_2'][:length]\n",
        "    \n",
        "    peaks_ = signal['peaks']\n",
        "    labels_ = signal['labels']\n",
        "    \n",
        "    x = list(range(length))\n",
        "    \n",
        "    #ax1.plot(x,first_lead,color='blue')\n",
        "    #ax2.plot(x,second_lead,color='blue')\n",
        "    \n",
        "    ax1.plot(x,bandpass_filter(first_lead),color='green')\n",
        "    ax2.plot(x,bandpass_filter(second_lead),color='green')\n",
        "\n",
        "\n",
        "    \n",
        "    peaks = list()\n",
        "    p_amplitudes_first = list()\n",
        "    p_amplitudes_second = list()\n",
        "    labels = list()\n",
        "    \n",
        "    for i,p in enumerate(peaks_):\n",
        "        if(p <= length):\n",
        "            peaks.append(p)\n",
        "            p_amplitudes_first.append(first_lead[p])\n",
        "            p_amplitudes_second.append(second_lead[p])\n",
        "            labels.append(labels_[i])\n",
        "        else:\n",
        "            break\n",
        "            \n",
        "    ax1.scatter(peaks,p_amplitudes_first,color='red')\n",
        "    ax2.scatter(peaks,p_amplitudes_second,color='red')\n",
        "    offset = 10\n",
        "    \n",
        "    for i, txt in enumerate(labels):\n",
        "        ax1.annotate(txt, (peaks[i]+offset, p_amplitudes_first[i]),size = 14)\n",
        "        ax2.annotate(txt, (peaks[i]+offset, p_amplitudes_second[i]),size = 14)\n",
        "    \n",
        "    print(labels)\n",
        "    plt.show()\n",
        "\n",
        "plot_signal(df,50,400)\n",
        "plot_signal(filtered_df,50,400)"
      ]
    },
    {
      "cell_type": "markdown",
      "metadata": {
        "id": "GbEkpWlulkVx"
      },
      "source": [
        "<h2>Scaling to [0:1] in 10 seconds time window "
      ],
      "id": "GbEkpWlulkVx"
    },
    {
      "cell_type": "code",
      "source": [
        "import heartpy as hp\n",
        "\n",
        "fs = 128\n",
        "time_window = 10\n",
        "samples = fs * time_window ##\n",
        "\n",
        "for id in tqdm(filtered_df.index.tolist()):\n",
        "    row = filtered_df.loc[id]\n",
        "    first_lead = row['ecg_lead_1']\n",
        "    second_lead = row['ecg_lead_2']\n",
        "    l_ = len(first_lead)\n",
        "    scaled_1 = list()\n",
        "    scaled_2 = list()\n",
        "#    \n",
        "    for i in range(int(l_/samples)):\n",
        "        to_scale_1 = first_lead[i*samples:i*samples+samples] \n",
        "        to_scale_2 = second_lead[i*samples:i*samples+samples]\n",
        "#        \n",
        "        scaled_1 += list(hp.scale_data(to_scale_1,lower=0,upper=1))\n",
        "        scaled_2 += list(hp.scale_data(to_scale_2,lower=0,upper=1))\n",
        " ##   \n",
        "    filtered_df.loc[id]['ecg_lead_1'] = scaled_1\n",
        "    filtered_df.loc[id]['ecg_lead_2'] = scaled_2"
      ],
      "metadata": {
        "colab": {
          "base_uri": "https://localhost:8080/"
        },
        "id": "PUHZVzb7Opz7",
        "outputId": "23ca9341-3e34-4d5d-d1b8-c01867b3a963"
      },
      "id": "PUHZVzb7Opz7",
      "execution_count": 7,
      "outputs": [
        {
          "output_type": "stream",
          "name": "stderr",
          "text": [
            "100%|████████████████████████████████████████████████████████████████████████████████| 105/105 [00:20<00:00,  5.14it/s]\n"
          ]
        }
      ]
    },
    {
      "cell_type": "markdown",
      "metadata": {
        "id": "ivJyLPD2lkVy"
      },
      "source": [
        "<h2>Outliers detection and removal using zscore</h2>"
      ],
      "id": "ivJyLPD2lkVy"
    },
    {
      "cell_type": "code",
      "source": [
        "from scipy import stats\n",
        "\n",
        "# Function for the computation of rhythm data \n",
        "def get_2ECG_rhythmfeatures(data):\n",
        "  \n",
        "  #   mean\n",
        "  mean_lead = np.mean(data)\n",
        "\n",
        "  #   median\n",
        "  median_lead = np.median(data)\n",
        "\n",
        "  #   standard deviation\n",
        "  std_lead = np.std(data)\n",
        "\n",
        "  #   variance\n",
        "  var_lead = stats.tvar(data)\n",
        "\n",
        "  #   Skewness\n",
        "  skew_lead = stats.skew(data)\n",
        "\n",
        "  #   Kurtosis\n",
        "  kurt_lead = stats.kurtosis(data)\n",
        "\n",
        "  features = np.hstack([mean_lead,median_lead,std_lead,var_lead,skew_lead,kurt_lead])\n",
        "\n",
        "  return features\n",
        "#-------------------------------------------------------------------------------\n",
        "\n",
        "#Training\n",
        "\n",
        "features_rhythm_lead1 = list()\n",
        "features_rhythm_lead2 = list()\n",
        "\n",
        "\n",
        "for i in range(filtered_df.shape[0]):\n",
        "  tmp_lead1 = get_2ECG_rhythmfeatures(filtered_df['ecg_lead_1'][i])\n",
        "  features_rhythm_lead1.append(tmp_lead1)\n",
        "  tmp_lead2 = get_2ECG_rhythmfeatures(filtered_df['ecg_lead_2'][i])\n",
        "  features_rhythm_lead2.append(tmp_lead2)\n",
        "\n",
        "features_rhythm_lead1 = pd.DataFrame(features_rhythm_lead1, columns = ['mean_lead1', 'median_lead1', 'std_lead1', 'var_lead1', 'skew_lead1','kurt_lead1'])\n",
        "features_rhythm_lead2 = pd.DataFrame(features_rhythm_lead2, columns = ['mean_lead2', 'median_lead2', 'std_lead2', 'var_lead2', 'skew_lead2','kurt_lead2'])\n",
        "\n",
        "features_rhythm = pd.concat([features_rhythm_lead1, features_rhythm_lead2], axis=1)\n",
        "\n",
        "features = pd.DataFrame(features_rhythm, columns = ['mean_lead1', 'median_lead1', 'std_lead1', 'var_lead1', 'skew_lead1','kurt_lead1',\n",
        "                                                    'mean_lead2', 'median_lead2', 'std_lead2', 'var_lead2', 'skew_lead2','kurt_lead2'])\n",
        "display(features) "
      ],
      "metadata": {
        "colab": {
          "base_uri": "https://localhost:8080/",
          "height": 423
        },
        "id": "8Ccc6_SuSxUY",
        "outputId": "5d70caf1-6a08-43a2-b609-d4d49c39deeb"
      },
      "id": "8Ccc6_SuSxUY",
      "execution_count": 8,
      "outputs": [
        {
          "output_type": "display_data",
          "data": {
            "text/plain": [
              "     mean_lead1  median_lead1  std_lead1  var_lead1  skew_lead1  kurt_lead1  \\\n",
              "0      0.476086      0.474618   0.128357   0.016476    0.065871    3.853435   \n",
              "1      0.309628      0.315643   0.118704   0.014091    2.242173   11.961672   \n",
              "2      0.462381      0.466913   0.122431   0.014989   -0.007802    2.618824   \n",
              "3      0.399816      0.366260   0.149092   0.022228    0.955791    1.976279   \n",
              "4      0.478230      0.488412   0.131123   0.017193   -0.046548    4.308083   \n",
              "..          ...           ...        ...        ...         ...         ...   \n",
              "100    0.394100      0.385903   0.132414   0.017534    0.582383    1.942821   \n",
              "101    0.437926      0.430825   0.127339   0.016215    0.479884    3.274700   \n",
              "102    0.345843      0.332378   0.115116   0.013252    1.653328    6.466284   \n",
              "103    0.514950      0.522097   0.098893   0.009780   -0.152302    9.197804   \n",
              "104    0.537678      0.539089   0.106207   0.011280   -0.579932    6.520010   \n",
              "\n",
              "     mean_lead2  median_lead2  std_lead2  var_lead2  skew_lead2  kurt_lead2  \n",
              "0      0.600828      0.613177   0.119664   0.014319   -1.328497    6.504245  \n",
              "1      0.662428      0.672944   0.144363   0.020841   -1.038713    3.939288  \n",
              "2      0.570732      0.586303   0.134329   0.018044   -0.788964    3.169306  \n",
              "3      0.658729      0.681179   0.162172   0.026300   -1.171663    1.827310  \n",
              "4      0.555436      0.561574   0.148968   0.022191   -0.156231    1.414820  \n",
              "..          ...           ...        ...        ...         ...         ...  \n",
              "100    0.426588      0.419286   0.116018   0.013460    0.446691    2.379165  \n",
              "101    0.444411      0.452348   0.126760   0.016068    0.327382    3.613294  \n",
              "102    0.403117      0.404505   0.114159   0.013032    0.996624    6.575469  \n",
              "103    0.461116      0.445006   0.129433   0.016753    0.508997    1.575390  \n",
              "104    0.659409      0.655174   0.129539   0.016781   -1.179600    6.316306  \n",
              "\n",
              "[105 rows x 12 columns]"
            ],
            "text/html": [
              "<div>\n",
              "<style scoped>\n",
              "    .dataframe tbody tr th:only-of-type {\n",
              "        vertical-align: middle;\n",
              "    }\n",
              "\n",
              "    .dataframe tbody tr th {\n",
              "        vertical-align: top;\n",
              "    }\n",
              "\n",
              "    .dataframe thead th {\n",
              "        text-align: right;\n",
              "    }\n",
              "</style>\n",
              "<table border=\"1\" class=\"dataframe\">\n",
              "  <thead>\n",
              "    <tr style=\"text-align: right;\">\n",
              "      <th></th>\n",
              "      <th>mean_lead1</th>\n",
              "      <th>median_lead1</th>\n",
              "      <th>std_lead1</th>\n",
              "      <th>var_lead1</th>\n",
              "      <th>skew_lead1</th>\n",
              "      <th>kurt_lead1</th>\n",
              "      <th>mean_lead2</th>\n",
              "      <th>median_lead2</th>\n",
              "      <th>std_lead2</th>\n",
              "      <th>var_lead2</th>\n",
              "      <th>skew_lead2</th>\n",
              "      <th>kurt_lead2</th>\n",
              "    </tr>\n",
              "  </thead>\n",
              "  <tbody>\n",
              "    <tr>\n",
              "      <th>0</th>\n",
              "      <td>0.476086</td>\n",
              "      <td>0.474618</td>\n",
              "      <td>0.128357</td>\n",
              "      <td>0.016476</td>\n",
              "      <td>0.065871</td>\n",
              "      <td>3.853435</td>\n",
              "      <td>0.600828</td>\n",
              "      <td>0.613177</td>\n",
              "      <td>0.119664</td>\n",
              "      <td>0.014319</td>\n",
              "      <td>-1.328497</td>\n",
              "      <td>6.504245</td>\n",
              "    </tr>\n",
              "    <tr>\n",
              "      <th>1</th>\n",
              "      <td>0.309628</td>\n",
              "      <td>0.315643</td>\n",
              "      <td>0.118704</td>\n",
              "      <td>0.014091</td>\n",
              "      <td>2.242173</td>\n",
              "      <td>11.961672</td>\n",
              "      <td>0.662428</td>\n",
              "      <td>0.672944</td>\n",
              "      <td>0.144363</td>\n",
              "      <td>0.020841</td>\n",
              "      <td>-1.038713</td>\n",
              "      <td>3.939288</td>\n",
              "    </tr>\n",
              "    <tr>\n",
              "      <th>2</th>\n",
              "      <td>0.462381</td>\n",
              "      <td>0.466913</td>\n",
              "      <td>0.122431</td>\n",
              "      <td>0.014989</td>\n",
              "      <td>-0.007802</td>\n",
              "      <td>2.618824</td>\n",
              "      <td>0.570732</td>\n",
              "      <td>0.586303</td>\n",
              "      <td>0.134329</td>\n",
              "      <td>0.018044</td>\n",
              "      <td>-0.788964</td>\n",
              "      <td>3.169306</td>\n",
              "    </tr>\n",
              "    <tr>\n",
              "      <th>3</th>\n",
              "      <td>0.399816</td>\n",
              "      <td>0.366260</td>\n",
              "      <td>0.149092</td>\n",
              "      <td>0.022228</td>\n",
              "      <td>0.955791</td>\n",
              "      <td>1.976279</td>\n",
              "      <td>0.658729</td>\n",
              "      <td>0.681179</td>\n",
              "      <td>0.162172</td>\n",
              "      <td>0.026300</td>\n",
              "      <td>-1.171663</td>\n",
              "      <td>1.827310</td>\n",
              "    </tr>\n",
              "    <tr>\n",
              "      <th>4</th>\n",
              "      <td>0.478230</td>\n",
              "      <td>0.488412</td>\n",
              "      <td>0.131123</td>\n",
              "      <td>0.017193</td>\n",
              "      <td>-0.046548</td>\n",
              "      <td>4.308083</td>\n",
              "      <td>0.555436</td>\n",
              "      <td>0.561574</td>\n",
              "      <td>0.148968</td>\n",
              "      <td>0.022191</td>\n",
              "      <td>-0.156231</td>\n",
              "      <td>1.414820</td>\n",
              "    </tr>\n",
              "    <tr>\n",
              "      <th>...</th>\n",
              "      <td>...</td>\n",
              "      <td>...</td>\n",
              "      <td>...</td>\n",
              "      <td>...</td>\n",
              "      <td>...</td>\n",
              "      <td>...</td>\n",
              "      <td>...</td>\n",
              "      <td>...</td>\n",
              "      <td>...</td>\n",
              "      <td>...</td>\n",
              "      <td>...</td>\n",
              "      <td>...</td>\n",
              "    </tr>\n",
              "    <tr>\n",
              "      <th>100</th>\n",
              "      <td>0.394100</td>\n",
              "      <td>0.385903</td>\n",
              "      <td>0.132414</td>\n",
              "      <td>0.017534</td>\n",
              "      <td>0.582383</td>\n",
              "      <td>1.942821</td>\n",
              "      <td>0.426588</td>\n",
              "      <td>0.419286</td>\n",
              "      <td>0.116018</td>\n",
              "      <td>0.013460</td>\n",
              "      <td>0.446691</td>\n",
              "      <td>2.379165</td>\n",
              "    </tr>\n",
              "    <tr>\n",
              "      <th>101</th>\n",
              "      <td>0.437926</td>\n",
              "      <td>0.430825</td>\n",
              "      <td>0.127339</td>\n",
              "      <td>0.016215</td>\n",
              "      <td>0.479884</td>\n",
              "      <td>3.274700</td>\n",
              "      <td>0.444411</td>\n",
              "      <td>0.452348</td>\n",
              "      <td>0.126760</td>\n",
              "      <td>0.016068</td>\n",
              "      <td>0.327382</td>\n",
              "      <td>3.613294</td>\n",
              "    </tr>\n",
              "    <tr>\n",
              "      <th>102</th>\n",
              "      <td>0.345843</td>\n",
              "      <td>0.332378</td>\n",
              "      <td>0.115116</td>\n",
              "      <td>0.013252</td>\n",
              "      <td>1.653328</td>\n",
              "      <td>6.466284</td>\n",
              "      <td>0.403117</td>\n",
              "      <td>0.404505</td>\n",
              "      <td>0.114159</td>\n",
              "      <td>0.013032</td>\n",
              "      <td>0.996624</td>\n",
              "      <td>6.575469</td>\n",
              "    </tr>\n",
              "    <tr>\n",
              "      <th>103</th>\n",
              "      <td>0.514950</td>\n",
              "      <td>0.522097</td>\n",
              "      <td>0.098893</td>\n",
              "      <td>0.009780</td>\n",
              "      <td>-0.152302</td>\n",
              "      <td>9.197804</td>\n",
              "      <td>0.461116</td>\n",
              "      <td>0.445006</td>\n",
              "      <td>0.129433</td>\n",
              "      <td>0.016753</td>\n",
              "      <td>0.508997</td>\n",
              "      <td>1.575390</td>\n",
              "    </tr>\n",
              "    <tr>\n",
              "      <th>104</th>\n",
              "      <td>0.537678</td>\n",
              "      <td>0.539089</td>\n",
              "      <td>0.106207</td>\n",
              "      <td>0.011280</td>\n",
              "      <td>-0.579932</td>\n",
              "      <td>6.520010</td>\n",
              "      <td>0.659409</td>\n",
              "      <td>0.655174</td>\n",
              "      <td>0.129539</td>\n",
              "      <td>0.016781</td>\n",
              "      <td>-1.179600</td>\n",
              "      <td>6.316306</td>\n",
              "    </tr>\n",
              "  </tbody>\n",
              "</table>\n",
              "<p>105 rows × 12 columns</p>\n",
              "</div>"
            ]
          },
          "metadata": {}
        }
      ]
    },
    {
      "cell_type": "code",
      "source": [
        "# Visualize data distribution for each feature\n",
        "for col in features.columns: \n",
        "      features.hist(column = col, bins = 50)"
      ],
      "metadata": {
        "colab": {
          "base_uri": "https://localhost:8080/",
          "height": 1000
        },
        "id": "IodQqzfpSz-L",
        "outputId": "31014d82-72f1-4b69-98b1-b4744bee9157"
      },
      "id": "IodQqzfpSz-L",
      "execution_count": 24,
      "outputs": [
        {
          "output_type": "display_data",
          "data": {
            "text/plain": [
              "<Figure size 432x288 with 1 Axes>"
            ],
            "image/png": "[encoded data removed]"
          },
          "metadata": {
            "needs_background": "light"
          }
        },
        {
          "output_type": "display_data",
          "data": {
            "text/plain": [
              "<Figure size 432x288 with 1 Axes>"
            ],
            "image/png": "[encoded data removed]"
          },
          "metadata": {
            "needs_background": "light"
          }
        },
        {
          "output_type": "display_data",
          "data": {
            "text/plain": [
              "<Figure size 432x288 with 1 Axes>"
            ],
            "image/png": "[encoded data removed]"
          },
          "metadata": {
            "needs_background": "light"
          }
        },
        {
          "output_type": "display_data",
          "data": {
            "text/plain": [
              "<Figure size 432x288 with 1 Axes>"
            ],
            "image/png": "[encoded data removed]"
          },
          "metadata": {
            "needs_background": "light"
          }
        },
        {
          "output_type": "display_data",
          "data": {
            "text/plain": [
              "<Figure size 432x288 with 1 Axes>"
            ],
            "image/png": "[encoded data removed]"
          },
          "metadata": {
            "needs_background": "light"
          }
        },
        {
          "output_type": "display_data",
          "data": {
            "text/plain": [
              "<Figure size 432x288 with 1 Axes>"
            ],
            "image/png": "[encoded data removed]"
          },
          "metadata": {
            "needs_background": "light"
          }
        },
        {
          "output_type": "display_data",
          "data": {
            "text/plain": [
              "<Figure size 432x288 with 1 Axes>"
            ],
            "image/png": "[encoded data removed]"
          },
          "metadata": {
            "needs_background": "light"
          }
        },
        {
          "output_type": "display_data",
          "data": {
            "text/plain": [
              "<Figure size 432x288 with 1 Axes>"
            ],
            "image/png": "[encoded data removed]"
          },
          "metadata": {
            "needs_background": "light"
          }
        },
        {
          "output_type": "display_data",
          "data": {
            "text/plain": [
              "<Figure size 432x288 with 1 Axes>"
            ],
            "image/png": "[encoded data removed]"
          },
          "metadata": {
            "needs_background": "light"
          }
        },
        {
          "output_type": "display_data",
          "data": {
            "text/plain": [
              "<Figure size 432x288 with 1 Axes>"
            ],
            "image/png": "[encoded data removed]"
          },
          "metadata": {
            "needs_background": "light"
          }
        },
        {
          "output_type": "display_data",
          "data": {
            "text/plain": [
              "<Figure size 432x288 with 1 Axes>"
            ],
            "image/png": "[encoded data removed]"
          },
          "metadata": {
            "needs_background": "light"
          }
        },
        {
          "output_type": "display_data",
          "data": {
            "text/plain": [
              "<Figure size 432x288 with 1 Axes>"
            ],
            "image/png": "[encoded data removed]"
          },
          "metadata": {
            "needs_background": "light"
          }
        }
      ]
    },
    {
      "cell_type": "code",
      "source": [
        "def plot_outliersAnalysis(abs_zscores):\n",
        "  # number of outliers per subject \n",
        "  bool_zscores = (abs_zscores > 3).sum(axis=1)\n",
        "  bool_zscores.hist()\n",
        "  plt.title(\"Number of outliers per subject\")\n",
        "  plt.show()\n",
        "\n",
        "  # number of outliers per feature \n",
        "  bool_zscores = (abs_zscores > 3).sum(axis=0)\n",
        "  #bool_zscores.hist(bins = len(feature_list))\n",
        "  fig = plt.figure()\n",
        "  ax = fig.add_axes([0,0,1,1])\n",
        "\n",
        "  ax.bar(feature_list,bool_zscores)\n",
        "  plt.title(\"Number of outliers per feature\")\n",
        "  plt.xticks(np.arange(len(feature_list)), feature_list,rotation=90)\n",
        "  plt.show()\n",
        "  return"
      ],
      "metadata": {
        "id": "k_30FvRhS0in"
      },
      "id": "k_30FvRhS0in",
      "execution_count": 9,
      "outputs": []
    },
    {
      "cell_type": "code",
      "source": [
        "# Perform z-scoring for outlier removal\n",
        "from scipy.stats import zscore\n",
        "import numpy as np\n",
        "\n",
        "feature_list = features.columns.tolist()\n",
        "print('Train subjects before outlier removal: ' + str(features.shape))\n",
        "\n",
        "# apply zscore\n",
        "zscore_features = features.apply(zscore, axis=0)\n",
        "\n",
        "# select all those values with zscore < -+ 3 and discard outliers \n",
        "abs_zscores = np.abs(zscore_features)\n",
        "filtered_entries = (abs_zscores < 3).all(axis=1)\n",
        "\n",
        "features_or = features[filtered_entries]\n",
        "\n",
        "print('Train subjects after outlier removal: ' + str(features_or.shape))\n",
        "\n",
        "\n",
        "plot_outliersAnalysis(abs_zscores)\n",
        "display(features_or)"
      ],
      "metadata": {
        "colab": {
          "base_uri": "https://localhost:8080/",
          "height": 1000
        },
        "id": "oCj4bYiRVsaQ",
        "outputId": "d667bf02-dc16-4e6f-9fbb-ba88fb613442"
      },
      "id": "oCj4bYiRVsaQ",
      "execution_count": 10,
      "outputs": [
        {
          "output_type": "stream",
          "name": "stdout",
          "text": [
            "Train subjects before outlier removal: (105, 12)\n",
            "Train subjects after outlier removal: (99, 12)\n"
          ]
        },
        {
          "output_type": "display_data",
          "data": {
            "text/plain": [
              "<Figure size 432x288 with 1 Axes>"
            ],
            "image/png": "[encoded data removed]"
          },
          "metadata": {
            "needs_background": "light"
          }
        },
        {
          "output_type": "display_data",
          "data": {
            "text/plain": [
              "<Figure size 432x288 with 1 Axes>"
            ],
            "image/png": "[encoded data removed]"
          },
          "metadata": {
            "needs_background": "light"
          }
        },
        {
          "output_type": "display_data",
          "data": {
            "text/plain": [
              "     mean_lead1  median_lead1  std_lead1  var_lead1  skew_lead1  kurt_lead1  \\\n",
              "0      0.476086      0.474618   0.128357   0.016476    0.065871    3.853435   \n",
              "1      0.309628      0.315643   0.118704   0.014091    2.242173   11.961672   \n",
              "2      0.462381      0.466913   0.122431   0.014989   -0.007802    2.618824   \n",
              "3      0.399816      0.366260   0.149092   0.022228    0.955791    1.976279   \n",
              "4      0.478230      0.488412   0.131123   0.017193   -0.046548    4.308083   \n",
              "..          ...           ...        ...        ...         ...         ...   \n",
              "100    0.394100      0.385903   0.132414   0.017534    0.582383    1.942821   \n",
              "101    0.437926      0.430825   0.127339   0.016215    0.479884    3.274700   \n",
              "102    0.345843      0.332378   0.115116   0.013252    1.653328    6.466284   \n",
              "103    0.514950      0.522097   0.098893   0.009780   -0.152302    9.197804   \n",
              "104    0.537678      0.539089   0.106207   0.011280   -0.579932    6.520010   \n",
              "\n",
              "     mean_lead2  median_lead2  std_lead2  var_lead2  skew_lead2  kurt_lead2  \n",
              "0      0.600828      0.613177   0.119664   0.014319   -1.328497    6.504245  \n",
              "1      0.662428      0.672944   0.144363   0.020841   -1.038713    3.939288  \n",
              "2      0.570732      0.586303   0.134329   0.018044   -0.788964    3.169306  \n",
              "3      0.658729      0.681179   0.162172   0.026300   -1.171663    1.827310  \n",
              "4      0.555436      0.561574   0.148968   0.022191   -0.156231    1.414820  \n",
              "..          ...           ...        ...        ...         ...         ...  \n",
              "100    0.426588      0.419286   0.116018   0.013460    0.446691    2.379165  \n",
              "101    0.444411      0.452348   0.126760   0.016068    0.327382    3.613294  \n",
              "102    0.403117      0.404505   0.114159   0.013032    0.996624    6.575469  \n",
              "103    0.461116      0.445006   0.129433   0.016753    0.508997    1.575390  \n",
              "104    0.659409      0.655174   0.129539   0.016781   -1.179600    6.316306  \n",
              "\n",
              "[99 rows x 12 columns]"
            ],
            "text/html": [
              "<div>\n",
              "<style scoped>\n",
              "    .dataframe tbody tr th:only-of-type {\n",
              "        vertical-align: middle;\n",
              "    }\n",
              "\n",
              "    .dataframe tbody tr th {\n",
              "        vertical-align: top;\n",
              "    }\n",
              "\n",
              "    .dataframe thead th {\n",
              "        text-align: right;\n",
              "    }\n",
              "</style>\n",
              "<table border=\"1\" class=\"dataframe\">\n",
              "  <thead>\n",
              "    <tr style=\"text-align: right;\">\n",
              "      <th></th>\n",
              "      <th>mean_lead1</th>\n",
              "      <th>median_lead1</th>\n",
              "      <th>std_lead1</th>\n",
              "      <th>var_lead1</th>\n",
              "      <th>skew_lead1</th>\n",
              "      <th>kurt_lead1</th>\n",
              "      <th>mean_lead2</th>\n",
              "      <th>median_lead2</th>\n",
              "      <th>std_lead2</th>\n",
              "      <th>var_lead2</th>\n",
              "      <th>skew_lead2</th>\n",
              "      <th>kurt_lead2</th>\n",
              "    </tr>\n",
              "  </thead>\n",
              "  <tbody>\n",
              "    <tr>\n",
              "      <th>0</th>\n",
              "      <td>0.476086</td>\n",
              "      <td>0.474618</td>\n",
              "      <td>0.128357</td>\n",
              "      <td>0.016476</td>\n",
              "      <td>0.065871</td>\n",
              "      <td>3.853435</td>\n",
              "      <td>0.600828</td>\n",
              "      <td>0.613177</td>\n",
              "      <td>0.119664</td>\n",
              "      <td>0.014319</td>\n",
              "      <td>-1.328497</td>\n",
              "      <td>6.504245</td>\n",
              "    </tr>\n",
              "    <tr>\n",
              "      <th>1</th>\n",
              "      <td>0.309628</td>\n",
              "      <td>0.315643</td>\n",
              "      <td>0.118704</td>\n",
              "      <td>0.014091</td>\n",
              "      <td>2.242173</td>\n",
              "      <td>11.961672</td>\n",
              "      <td>0.662428</td>\n",
              "      <td>0.672944</td>\n",
              "      <td>0.144363</td>\n",
              "      <td>0.020841</td>\n",
              "      <td>-1.038713</td>\n",
              "      <td>3.939288</td>\n",
              "    </tr>\n",
              "    <tr>\n",
              "      <th>2</th>\n",
              "      <td>0.462381</td>\n",
              "      <td>0.466913</td>\n",
              "      <td>0.122431</td>\n",
              "      <td>0.014989</td>\n",
              "      <td>-0.007802</td>\n",
              "      <td>2.618824</td>\n",
              "      <td>0.570732</td>\n",
              "      <td>0.586303</td>\n",
              "      <td>0.134329</td>\n",
              "      <td>0.018044</td>\n",
              "      <td>-0.788964</td>\n",
              "      <td>3.169306</td>\n",
              "    </tr>\n",
              "    <tr>\n",
              "      <th>3</th>\n",
              "      <td>0.399816</td>\n",
              "      <td>0.366260</td>\n",
              "      <td>0.149092</td>\n",
              "      <td>0.022228</td>\n",
              "      <td>0.955791</td>\n",
              "      <td>1.976279</td>\n",
              "      <td>0.658729</td>\n",
              "      <td>0.681179</td>\n",
              "      <td>0.162172</td>\n",
              "      <td>0.026300</td>\n",
              "      <td>-1.171663</td>\n",
              "      <td>1.827310</td>\n",
              "    </tr>\n",
              "    <tr>\n",
              "      <th>4</th>\n",
              "      <td>0.478230</td>\n",
              "      <td>0.488412</td>\n",
              "      <td>0.131123</td>\n",
              "      <td>0.017193</td>\n",
              "      <td>-0.046548</td>\n",
              "      <td>4.308083</td>\n",
              "      <td>0.555436</td>\n",
              "      <td>0.561574</td>\n",
              "      <td>0.148968</td>\n",
              "      <td>0.022191</td>\n",
              "      <td>-0.156231</td>\n",
              "      <td>1.414820</td>\n",
              "    </tr>\n",
              "    <tr>\n",
              "      <th>...</th>\n",
              "      <td>...</td>\n",
              "      <td>...</td>\n",
              "      <td>...</td>\n",
              "      <td>...</td>\n",
              "      <td>...</td>\n",
              "      <td>...</td>\n",
              "      <td>...</td>\n",
              "      <td>...</td>\n",
              "      <td>...</td>\n",
              "      <td>...</td>\n",
              "      <td>...</td>\n",
              "      <td>...</td>\n",
              "    </tr>\n",
              "    <tr>\n",
              "      <th>100</th>\n",
              "      <td>0.394100</td>\n",
              "      <td>0.385903</td>\n",
              "      <td>0.132414</td>\n",
              "      <td>0.017534</td>\n",
              "      <td>0.582383</td>\n",
              "      <td>1.942821</td>\n",
              "      <td>0.426588</td>\n",
              "      <td>0.419286</td>\n",
              "      <td>0.116018</td>\n",
              "      <td>0.013460</td>\n",
              "      <td>0.446691</td>\n",
              "      <td>2.379165</td>\n",
              "    </tr>\n",
              "    <tr>\n",
              "      <th>101</th>\n",
              "      <td>0.437926</td>\n",
              "      <td>0.430825</td>\n",
              "      <td>0.127339</td>\n",
              "      <td>0.016215</td>\n",
              "      <td>0.479884</td>\n",
              "      <td>3.274700</td>\n",
              "      <td>0.444411</td>\n",
              "      <td>0.452348</td>\n",
              "      <td>0.126760</td>\n",
              "      <td>0.016068</td>\n",
              "      <td>0.327382</td>\n",
              "      <td>3.613294</td>\n",
              "    </tr>\n",
              "    <tr>\n",
              "      <th>102</th>\n",
              "      <td>0.345843</td>\n",
              "      <td>0.332378</td>\n",
              "      <td>0.115116</td>\n",
              "      <td>0.013252</td>\n",
              "      <td>1.653328</td>\n",
              "      <td>6.466284</td>\n",
              "      <td>0.403117</td>\n",
              "      <td>0.404505</td>\n",
              "      <td>0.114159</td>\n",
              "      <td>0.013032</td>\n",
              "      <td>0.996624</td>\n",
              "      <td>6.575469</td>\n",
              "    </tr>\n",
              "    <tr>\n",
              "      <th>103</th>\n",
              "      <td>0.514950</td>\n",
              "      <td>0.522097</td>\n",
              "      <td>0.098893</td>\n",
              "      <td>0.009780</td>\n",
              "      <td>-0.152302</td>\n",
              "      <td>9.197804</td>\n",
              "      <td>0.461116</td>\n",
              "      <td>0.445006</td>\n",
              "      <td>0.129433</td>\n",
              "      <td>0.016753</td>\n",
              "      <td>0.508997</td>\n",
              "      <td>1.575390</td>\n",
              "    </tr>\n",
              "    <tr>\n",
              "      <th>104</th>\n",
              "      <td>0.537678</td>\n",
              "      <td>0.539089</td>\n",
              "      <td>0.106207</td>\n",
              "      <td>0.011280</td>\n",
              "      <td>-0.579932</td>\n",
              "      <td>6.520010</td>\n",
              "      <td>0.659409</td>\n",
              "      <td>0.655174</td>\n",
              "      <td>0.129539</td>\n",
              "      <td>0.016781</td>\n",
              "      <td>-1.179600</td>\n",
              "      <td>6.316306</td>\n",
              "    </tr>\n",
              "  </tbody>\n",
              "</table>\n",
              "<p>99 rows × 12 columns</p>\n",
              "</div>"
            ]
          },
          "metadata": {}
        }
      ]
    },
    {
      "cell_type": "code",
      "source": [
        "#Discard outliers\n",
        "filtered_df = filtered_df.loc[features_or.index]\n",
        "filtered_df"
      ],
      "metadata": {
        "colab": {
          "base_uri": "https://localhost:8080/",
          "height": 423
        },
        "id": "VNtC5w6AS4vl",
        "outputId": "9e4a8d8c-cfa7-4e15-9edf-38e8bd65f750"
      },
      "id": "VNtC5w6AS4vl",
      "execution_count": 11,
      "outputs": [
        {
          "output_type": "execute_result",
          "data": {
            "text/plain": [
              "    sigId                                         ecg_lead_1  \\\n",
              "0    S001  [0.427699855785426, 0.42979683093201704, 0.436...   \n",
              "1    S002  [0.3024770812979047, 0.286324821493959, 0.2727...   \n",
              "2    S003  [0.35123236431628746, 0.26321594363699485, 0.1...   \n",
              "3    S004  [0.37546338896536174, 0.3048455742731015, 0.24...   \n",
              "4    S005  [0.44854563349413024, 0.41712121961947685, 0.4...   \n",
              "..    ...                                                ...   \n",
              "100  S114  [0.3867162013382826, 0.23555535525606763, 0.13...   \n",
              "101  S115  [0.5401708365558443, 0.5892531959523761, 0.628...   \n",
              "102  S116  [0.29321881561128876, 0.2485099913060024, 0.21...   \n",
              "103  S117  [0.5088599883882691, 0.5107169765553712, 0.496...   \n",
              "104  S118  [0.5172109033435791, 0.5738509584330151, 0.654...   \n",
              "\n",
              "                                            ecg_lead_2  \\\n",
              "0    [0.5323101063517586, 0.5490810754752513, 0.562...   \n",
              "1    [0.65682606494766, 0.6071142466616561, 0.56533...   \n",
              "2    [0.5773604250922746, 0.6526769431999565, 0.730...   \n",
              "3    [0.6897625131396476, 0.8119427073198969, 0.919...   \n",
              "4    [0.5060156788438364, 0.4987376768125404, 0.491...   \n",
              "..                                                 ...   \n",
              "100  [0.39987440613804004, 0.24801774199741874, 0.0...   \n",
              "101  [0.4824469217975686, 0.5604840985300757, 0.614...   \n",
              "102  [0.40266123678699095, 0.384544258378451, 0.363...   \n",
              "103  [0.4747395232704018, 0.6609601212448153, 0.677...   \n",
              "104  [0.6786699443479496, 0.7359087732548062, 0.782...   \n",
              "\n",
              "                                                 peaks frequencies  \\\n",
              "0    [29, 110, 191, 272, 353, 433, 514, 595, 676, 7...         128   \n",
              "1    [48, 153, 243, 352, 440, 547, 636, 742, 831, 9...         128   \n",
              "2    [91, 209, 326, 394, 537, 653, 745, 872, 984, 1...         128   \n",
              "3    [98, 223, 349, 474, 599, 726, 853, 980, 1116, ...         128   \n",
              "4    [27, 127, 225, 324, 423, 523, 623, 722, 822, 9...         128   \n",
              "..                                                 ...         ...   \n",
              "100  [79, 196, 312, 427, 539, 652, 766, 880, 992, 1...         250   \n",
              "101  [110, 223, 341, 421, 572, 690, 813, 889, 1041,...         250   \n",
              "102  [130, 273, 418, 559, 705, 848, 990, 1134, 1276...         250   \n",
              "103  [9, 151, 294, 441, 589, 734, 873, 1021, 1160, ...         250   \n",
              "104  [52, 137, 221, 307, 388, 470, 555, 636, 719, 8...         250   \n",
              "\n",
              "                                                labels  \n",
              "0    [N, N, N, N, N, N, N, N, N, N, N, N, N, N, N, ...  \n",
              "1    [N, N, N, N, S, N, S, N, S, N, S, N, S, N, S, ...  \n",
              "2    [N, N, N, S, N, N, S, N, N, S, N, N, N, N, N, ...  \n",
              "3    [N, N, N, N, N, N, N, N, N, N, N, N, N, N, N, ...  \n",
              "4    [N, N, N, N, N, N, N, N, N, N, N, N, N, N, N, ...  \n",
              "..                                                 ...  \n",
              "100  [N, N, N, N, N, N, N, N, N, N, N, N, N, N, N, ...  \n",
              "101  [N, N, N, V, N, N, N, V, N, N, N, N, N, N, N, ...  \n",
              "102  [N, N, N, N, N, N, N, N, N, N, N, N, N, N, N, ...  \n",
              "103  [N, N, N, N, N, N, N, N, N, N, N, N, N, N, N, ...  \n",
              "104  [N, N, N, N, N, N, N, N, N, N, N, N, N, N, N, ...  \n",
              "\n",
              "[99 rows x 6 columns]"
            ],
            "text/html": [
              "<div>\n",
              "<style scoped>\n",
              "    .dataframe tbody tr th:only-of-type {\n",
              "        vertical-align: middle;\n",
              "    }\n",
              "\n",
              "    .dataframe tbody tr th {\n",
              "        vertical-align: top;\n",
              "    }\n",
              "\n",
              "    .dataframe thead th {\n",
              "        text-align: right;\n",
              "    }\n",
              "</style>\n",
              "<table border=\"1\" class=\"dataframe\">\n",
              "  <thead>\n",
              "    <tr style=\"text-align: right;\">\n",
              "      <th></th>\n",
              "      <th>sigId</th>\n",
              "      <th>ecg_lead_1</th>\n",
              "      <th>ecg_lead_2</th>\n",
              "      <th>peaks</th>\n",
              "      <th>frequencies</th>\n",
              "      <th>labels</th>\n",
              "    </tr>\n",
              "  </thead>\n",
              "  <tbody>\n",
              "    <tr>\n",
              "      <th>0</th>\n",
              "      <td>S001</td>\n",
              "      <td>[0.427699855785426, 0.42979683093201704, 0.436...</td>\n",
              "      <td>[0.5323101063517586, 0.5490810754752513, 0.562...</td>\n",
              "      <td>[29, 110, 191, 272, 353, 433, 514, 595, 676, 7...</td>\n",
              "      <td>128</td>\n",
              "      <td>[N, N, N, N, N, N, N, N, N, N, N, N, N, N, N, ...</td>\n",
              "    </tr>\n",
              "    <tr>\n",
              "      <th>1</th>\n",
              "      <td>S002</td>\n",
              "      <td>[0.3024770812979047, 0.286324821493959, 0.2727...</td>\n",
              "      <td>[0.65682606494766, 0.6071142466616561, 0.56533...</td>\n",
              "      <td>[48, 153, 243, 352, 440, 547, 636, 742, 831, 9...</td>\n",
              "      <td>128</td>\n",
              "      <td>[N, N, N, N, S, N, S, N, S, N, S, N, S, N, S, ...</td>\n",
              "    </tr>\n",
              "    <tr>\n",
              "      <th>2</th>\n",
              "      <td>S003</td>\n",
              "      <td>[0.35123236431628746, 0.26321594363699485, 0.1...</td>\n",
              "      <td>[0.5773604250922746, 0.6526769431999565, 0.730...</td>\n",
              "      <td>[91, 209, 326, 394, 537, 653, 745, 872, 984, 1...</td>\n",
              "      <td>128</td>\n",
              "      <td>[N, N, N, S, N, N, S, N, N, S, N, N, N, N, N, ...</td>\n",
              "    </tr>\n",
              "    <tr>\n",
              "      <th>3</th>\n",
              "      <td>S004</td>\n",
              "      <td>[0.37546338896536174, 0.3048455742731015, 0.24...</td>\n",
              "      <td>[0.6897625131396476, 0.8119427073198969, 0.919...</td>\n",
              "      <td>[98, 223, 349, 474, 599, 726, 853, 980, 1116, ...</td>\n",
              "      <td>128</td>\n",
              "      <td>[N, N, N, N, N, N, N, N, N, N, N, N, N, N, N, ...</td>\n",
              "    </tr>\n",
              "    <tr>\n",
              "      <th>4</th>\n",
              "      <td>S005</td>\n",
              "      <td>[0.44854563349413024, 0.41712121961947685, 0.4...</td>\n",
              "      <td>[0.5060156788438364, 0.4987376768125404, 0.491...</td>\n",
              "      <td>[27, 127, 225, 324, 423, 523, 623, 722, 822, 9...</td>\n",
              "      <td>128</td>\n",
              "      <td>[N, N, N, N, N, N, N, N, N, N, N, N, N, N, N, ...</td>\n",
              "    </tr>\n",
              "    <tr>\n",
              "      <th>...</th>\n",
              "      <td>...</td>\n",
              "      <td>...</td>\n",
              "      <td>...</td>\n",
              "      <td>...</td>\n",
              "      <td>...</td>\n",
              "      <td>...</td>\n",
              "    </tr>\n",
              "    <tr>\n",
              "      <th>100</th>\n",
              "      <td>S114</td>\n",
              "      <td>[0.3867162013382826, 0.23555535525606763, 0.13...</td>\n",
              "      <td>[0.39987440613804004, 0.24801774199741874, 0.0...</td>\n",
              "      <td>[79, 196, 312, 427, 539, 652, 766, 880, 992, 1...</td>\n",
              "      <td>250</td>\n",
              "      <td>[N, N, N, N, N, N, N, N, N, N, N, N, N, N, N, ...</td>\n",
              "    </tr>\n",
              "    <tr>\n",
              "      <th>101</th>\n",
              "      <td>S115</td>\n",
              "      <td>[0.5401708365558443, 0.5892531959523761, 0.628...</td>\n",
              "      <td>[0.4824469217975686, 0.5604840985300757, 0.614...</td>\n",
              "      <td>[110, 223, 341, 421, 572, 690, 813, 889, 1041,...</td>\n",
              "      <td>250</td>\n",
              "      <td>[N, N, N, V, N, N, N, V, N, N, N, N, N, N, N, ...</td>\n",
              "    </tr>\n",
              "    <tr>\n",
              "      <th>102</th>\n",
              "      <td>S116</td>\n",
              "      <td>[0.29321881561128876, 0.2485099913060024, 0.21...</td>\n",
              "      <td>[0.40266123678699095, 0.384544258378451, 0.363...</td>\n",
              "      <td>[130, 273, 418, 559, 705, 848, 990, 1134, 1276...</td>\n",
              "      <td>250</td>\n",
              "      <td>[N, N, N, N, N, N, N, N, N, N, N, N, N, N, N, ...</td>\n",
              "    </tr>\n",
              "    <tr>\n",
              "      <th>103</th>\n",
              "      <td>S117</td>\n",
              "      <td>[0.5088599883882691, 0.5107169765553712, 0.496...</td>\n",
              "      <td>[0.4747395232704018, 0.6609601212448153, 0.677...</td>\n",
              "      <td>[9, 151, 294, 441, 589, 734, 873, 1021, 1160, ...</td>\n",
              "      <td>250</td>\n",
              "      <td>[N, N, N, N, N, N, N, N, N, N, N, N, N, N, N, ...</td>\n",
              "    </tr>\n",
              "    <tr>\n",
              "      <th>104</th>\n",
              "      <td>S118</td>\n",
              "      <td>[0.5172109033435791, 0.5738509584330151, 0.654...</td>\n",
              "      <td>[0.6786699443479496, 0.7359087732548062, 0.782...</td>\n",
              "      <td>[52, 137, 221, 307, 388, 470, 555, 636, 719, 8...</td>\n",
              "      <td>250</td>\n",
              "      <td>[N, N, N, N, N, N, N, N, N, N, N, N, N, N, N, ...</td>\n",
              "    </tr>\n",
              "  </tbody>\n",
              "</table>\n",
              "<p>99 rows × 6 columns</p>\n",
              "</div>"
            ]
          },
          "metadata": {},
          "execution_count": 11
        }
      ]
    },
    {
      "cell_type": "markdown",
      "metadata": {
        "id": "UkdEyLT2lkV0"
      },
      "source": [
        "<h2> RR distances analysis"
      ],
      "id": "UkdEyLT2lkV0"
    },
    {
      "cell_type": "code",
      "source": [
        "signal_ids = filtered_df.index.tolist()\n",
        "RR_dict = {}\n",
        "\n",
        "for id_ in tqdm(signal_ids):  \n",
        "  sig_Id = df.iloc[id_]['sigId']\n",
        "  RR_dict[sig_Id] = {}\n",
        "  RR_dict[sig_Id]['RR_distances'] = list()\n",
        "  RR_dict[sig_Id]['S_distances'] = list()\n",
        "  \n",
        "  peaks = df.iloc[id_]['peaks']\n",
        "  labels = df.iloc[id_]['labels']\n",
        "\n",
        "  for i,p in enumerate(peaks[1:-1]):\n",
        "    RR_distance = p-peaks[i]\n",
        "    if(RR_distance < 250): # discard outliers\n",
        "      RR_dict[sig_Id]['RR_distances'].append(RR_distance)\n",
        "      if(labels[i+1] == 'S'):\n",
        "        RR_dict[sig_Id]['S_distances'].append(RR_distance)\n",
        "\n",
        "  RR_dict[sig_Id]['RR_distances'] = np.asarray(RR_dict[sig_Id]['RR_distances'])\n",
        "  RR_dict[sig_Id]['S_distances'] = np.asarray(RR_dict[sig_Id]['S_distances'])\n",
        "\n",
        "  RR_dict[sig_Id]['Avg_RR_distance'] = RR_dict[sig_Id]['RR_distances'].mean()\n",
        "  RR_dict[sig_Id]['AVG_S_distance'] = RR_dict[sig_Id]['S_distances'].mean()\n",
        "\n",
        "\n",
        "RR_df = pd.DataFrame.from_dict(RR_dict,orient=\"index\")\n",
        "RR_df.tail()"
      ],
      "metadata": {
        "colab": {
          "base_uri": "https://localhost:8080/",
          "height": 258
        },
        "id": "NS4Hui7wOrZT",
        "outputId": "8bf213d3-f87e-4e6f-b608-bd14df1800d2"
      },
      "id": "NS4Hui7wOrZT",
      "execution_count": 12,
      "outputs": [
        {
          "output_type": "stream",
          "name": "stderr",
          "text": [
            "  0%|                                                                                           | 0/99 [00:00<?, ?it/s]<ipython-input-12-4695b0eb9ee0>:24: RuntimeWarning: Mean of empty slice.\n",
            "  RR_dict[sig_Id]['AVG_S_distance'] = RR_dict[sig_Id]['S_distances'].mean()\n",
            "100%|█████████████████████████████████████████████████████████████████████████████████| 99/99 [00:00<00:00, 370.35it/s]\n"
          ]
        },
        {
          "output_type": "execute_result",
          "data": {
            "text/plain": [
              "                                           RR_distances  \\\n",
              "S114  [117, 116, 115, 112, 113, 114, 114, 112, 116, ...   \n",
              "S115  [113, 118, 80, 151, 118, 123, 76, 152, 119, 11...   \n",
              "S116  [143, 145, 141, 146, 143, 142, 144, 142, 143, ...   \n",
              "S117  [142, 143, 147, 148, 145, 139, 148, 139, 140, ...   \n",
              "S118  [85, 84, 86, 81, 82, 85, 81, 83, 83, 82, 84, 8...   \n",
              "\n",
              "                                            S_distances  Avg_RR_distance  \\\n",
              "S114                                                 []       114.914745   \n",
              "S115                                               [73]        89.041006   \n",
              "S116                                               [75]       122.611082   \n",
              "S117  [119, 99, 92, 100, 99, 92, 91, 92, 89, 87, 82,...       106.363048   \n",
              "S118                                                 []        93.967755   \n",
              "\n",
              "      AVG_S_distance  \n",
              "S114             NaN  \n",
              "S115       73.000000  \n",
              "S116       75.000000  \n",
              "S117       83.558719  \n",
              "S118             NaN  "
            ],
            "text/html": [
              "<div>\n",
              "<style scoped>\n",
              "    .dataframe tbody tr th:only-of-type {\n",
              "        vertical-align: middle;\n",
              "    }\n",
              "\n",
              "    .dataframe tbody tr th {\n",
              "        vertical-align: top;\n",
              "    }\n",
              "\n",
              "    .dataframe thead th {\n",
              "        text-align: right;\n",
              "    }\n",
              "</style>\n",
              "<table border=\"1\" class=\"dataframe\">\n",
              "  <thead>\n",
              "    <tr style=\"text-align: right;\">\n",
              "      <th></th>\n",
              "      <th>RR_distances</th>\n",
              "      <th>S_distances</th>\n",
              "      <th>Avg_RR_distance</th>\n",
              "      <th>AVG_S_distance</th>\n",
              "    </tr>\n",
              "  </thead>\n",
              "  <tbody>\n",
              "    <tr>\n",
              "      <th>S114</th>\n",
              "      <td>[117, 116, 115, 112, 113, 114, 114, 112, 116, ...</td>\n",
              "      <td>[]</td>\n",
              "      <td>114.914745</td>\n",
              "      <td>NaN</td>\n",
              "    </tr>\n",
              "    <tr>\n",
              "      <th>S115</th>\n",
              "      <td>[113, 118, 80, 151, 118, 123, 76, 152, 119, 11...</td>\n",
              "      <td>[73]</td>\n",
              "      <td>89.041006</td>\n",
              "      <td>73.000000</td>\n",
              "    </tr>\n",
              "    <tr>\n",
              "      <th>S116</th>\n",
              "      <td>[143, 145, 141, 146, 143, 142, 144, 142, 143, ...</td>\n",
              "      <td>[75]</td>\n",
              "      <td>122.611082</td>\n",
              "      <td>75.000000</td>\n",
              "    </tr>\n",
              "    <tr>\n",
              "      <th>S117</th>\n",
              "      <td>[142, 143, 147, 148, 145, 139, 148, 139, 140, ...</td>\n",
              "      <td>[119, 99, 92, 100, 99, 92, 91, 92, 89, 87, 82,...</td>\n",
              "      <td>106.363048</td>\n",
              "      <td>83.558719</td>\n",
              "    </tr>\n",
              "    <tr>\n",
              "      <th>S118</th>\n",
              "      <td>[85, 84, 86, 81, 82, 85, 81, 83, 83, 82, 84, 8...</td>\n",
              "      <td>[]</td>\n",
              "      <td>93.967755</td>\n",
              "      <td>NaN</td>\n",
              "    </tr>\n",
              "  </tbody>\n",
              "</table>\n",
              "</div>"
            ]
          },
          "metadata": {},
          "execution_count": 12
        }
      ]
    },
    {
      "cell_type": "code",
      "source": [
        "import heartpy as hp \n",
        "\n",
        "classes = np.array([\"N\",\"S\",\"V\"])\n",
        "\n",
        "patch_length = 350 \n",
        "\n",
        "def convert_to_one_hot(label):\n",
        "    return np.array(classes == label,dtype=np.float32)\n",
        "\n",
        "def create_patch_dataset(df):\n",
        "    \n",
        "    dataset_dict = {}\n",
        "    ids = df['sigId']\n",
        "   \n",
        "    for id in tqdm(ids):\n",
        "        row = df[df['sigId'] == id]\n",
        "        sigId = row['sigId'].values[0]\n",
        "        peaks = row['peaks'].values[0]\n",
        "        first_lead_signal = row['ecg_lead_1'].values[0]\n",
        "        second_lead_signal = row['ecg_lead_2'].values[0]\n",
        "        labels = row['labels'].values[0]\n",
        "        avg_RR = RR_df.loc[sigId]['Avg_RR_distance'] # T for the signal \n",
        "\n",
        "        for i,peak in enumerate(peaks):\n",
        "            \n",
        "            stringIdx = str(sigId)+'_'+str(i)    \n",
        "            dataset_dict[stringIdx] = {}\n",
        "            dataset_dict[stringIdx][\"first_lead\"] = list()\n",
        "            dataset_dict[stringIdx][\"second_lead\"] = list()\n",
        "            size = list(range(int(peak-(avg_RR)),int(peak+avg_RR)))\n",
        "\n",
        "            for s in size:\n",
        "                if(s < 0 or s >= len(first_lead_signal)):\n",
        "                    dataset_dict[stringIdx][\"first_lead\"].append(0.5)\n",
        "                    dataset_dict[stringIdx][\"second_lead\"].append(0.5)\n",
        "                else:\n",
        "                    dataset_dict[stringIdx][\"first_lead\"].append(first_lead_signal[s])\n",
        "                    dataset_dict[stringIdx][\"second_lead\"].append(second_lead_signal[s])\n",
        "            \n",
        "            first_lead = dataset_dict[stringIdx][\"first_lead\"][:]\n",
        "            second_lead = dataset_dict[stringIdx][\"second_lead\"][:]\n",
        "            \n",
        "            first_lead = resample(first_lead,patch_length)\n",
        "            second_lead = resample(second_lead,patch_length)\n",
        "            \n",
        "            dataset_dict[stringIdx][\"first_lead\"] = first_lead[:]\n",
        "            dataset_dict[stringIdx][\"second_lead\"] = second_lead[:]\n",
        "            \n",
        "            #dataset_dict[stringIdx][\"dwt_1\"] = pywt.dwt(first_lead,'db4','constant')\n",
        "            #dataset_dict[stringIdx][\"dwt_2\"] = pywt.dwt(second_lead,'db4','constant')\n",
        "\n",
        "            #dataset_dict[stringIdx][\"dwt_1\"] = pywt.wavedec(first_lead, 'db3', level=2)\n",
        "            #dataset_dict[stringIdx][\"dwt_2\"] = pywt.wavedec(second_lead, 'db3', level=2)\n",
        "            \n",
        "            dataset_dict[stringIdx][\"stringLabel\"] = labels[i]\n",
        "            dataset_dict[stringIdx][\"label\"] = convert_to_one_hot(labels[i])\n",
        "\n",
        "    dataset_df = pd.DataFrame.from_dict(dataset_dict,orient=\"index\")\n",
        "    return dataset_df"
      ],
      "metadata": {
        "id": "cdZlQwFMe7IV"
      },
      "id": "cdZlQwFMe7IV",
      "execution_count": 13,
      "outputs": []
    },
    {
      "cell_type": "markdown",
      "metadata": {
        "id": "p47oXLNolkV1"
      },
      "source": [
        "<h2> Split dataset by patient & creation of patches"
      ],
      "id": "p47oXLNolkV1"
    },
    {
      "cell_type": "code",
      "source": [
        "training_df, test_df_ = train_test_split(filtered_df,test_size = 0.2,random_state=SEED)\n",
        "validation_df, test_df = train_test_split(test_df_,test_size = 0.5,random_state=SEED)\n",
        "\n",
        "training_patches_df_ = create_patch_dataset(training_df)\n",
        "validation_patches_df_ = create_patch_dataset(validation_df)\n",
        "test_patches_df = create_patch_dataset(test_df)"
      ],
      "metadata": {
        "colab": {
          "base_uri": "https://localhost:8080/"
        },
        "id": "DXU_KOOr_wNW",
        "outputId": "5dcbf5b2-1a54-4ce4-d38a-90ccbdd3f67b"
      },
      "id": "DXU_KOOr_wNW",
      "execution_count": 14,
      "outputs": [
        {
          "output_type": "stream",
          "name": "stderr",
          "text": [
            "100%|██████████████████████████████████████████████████████████████████████████████████| 79/79 [00:31<00:00,  2.50it/s]\n",
            "100%|██████████████████████████████████████████████████████████████████████████████████| 10/10 [00:03<00:00,  2.80it/s]\n",
            "100%|██████████████████████████████████████████████████████████████████████████████████| 10/10 [00:03<00:00,  2.67it/s]\n"
          ]
        }
      ]
    },
    {
      "cell_type": "code",
      "source": [
        "validation_patches_df_[(validation_patches_df_['stringLabel']=='S')]"
      ],
      "metadata": {
        "id": "tkQWUJ9YmSrT",
        "colab": {
          "base_uri": "https://localhost:8080/",
          "height": 423
        },
        "outputId": "2440d4df-74d9-490e-d216-fd52c507247e"
      },
      "id": "tkQWUJ9YmSrT",
      "execution_count": 32,
      "outputs": [
        {
          "output_type": "execute_result",
          "data": {
            "text/plain": [
              "                                                  first_lead  \\\n",
              "S112_1794  [0.4034991957135397, 0.41521033640953425, 0.41...   \n",
              "S107_1481  [0.45837006321141666, 0.46281156262715417, 0.4...   \n",
              "S036_25    [0.6402247811058936, 0.6415623611394163, 0.645...   \n",
              "S036_33    [0.6100202700339256, 0.6002446895340365, 0.604...   \n",
              "S036_44    [0.6192743896738646, 0.6234504618766723, 0.625...   \n",
              "...                                                      ...   \n",
              "S019_1823  [0.7916742195774936, 0.800446234027512, 0.7851...   \n",
              "S019_1827  [0.5581865298351072, 0.5879732504430532, 0.582...   \n",
              "S019_1874  [0.6446164181565431, 0.6382401609090143, 0.628...   \n",
              "S019_1885  [0.6790009372732606, 0.6785661566758775, 0.674...   \n",
              "S019_1897  [0.7675331398446552, 0.7381966886195063, 0.769...   \n",
              "\n",
              "                                                 second_lead stringLabel  \\\n",
              "S112_1794  [0.2656819014210982, 0.2820745302964838, 0.283...           S   \n",
              "S107_1481  [0.593897320331036, 0.6047976199968293, 0.5825...           S   \n",
              "S036_25    [0.6565667376773604, 0.6625636234221363, 0.658...           S   \n",
              "S036_33    [0.594754619655929, 0.5876342730465955, 0.5956...           S   \n",
              "S036_44    [0.6397582776990132, 0.6549576792572618, 0.651...           S   \n",
              "...                                                      ...         ...   \n",
              "S019_1823  [0.41840379316613174, 0.4245834999548358, 0.43...           S   \n",
              "S019_1827  [0.3302317540399549, 0.3252857828214234, 0.338...           S   \n",
              "S019_1874  [0.5008739150595718, 0.4978857259609312, 0.489...           S   \n",
              "S019_1885  [0.4182004110874032, 0.41318922406247804, 0.40...           S   \n",
              "S019_1897  [0.38402230298284257, 0.3347663628842251, 0.41...           S   \n",
              "\n",
              "                     label  \n",
              "S112_1794  [0.0, 1.0, 0.0]  \n",
              "S107_1481  [0.0, 1.0, 0.0]  \n",
              "S036_25    [0.0, 1.0, 0.0]  \n",
              "S036_33    [0.0, 1.0, 0.0]  \n",
              "S036_44    [0.0, 1.0, 0.0]  \n",
              "...                    ...  \n",
              "S019_1823  [0.0, 1.0, 0.0]  \n",
              "S019_1827  [0.0, 1.0, 0.0]  \n",
              "S019_1874  [0.0, 1.0, 0.0]  \n",
              "S019_1885  [0.0, 1.0, 0.0]  \n",
              "S019_1897  [0.0, 1.0, 0.0]  \n",
              "\n",
              "[225 rows x 4 columns]"
            ],
            "text/html": [
              "<div>\n",
              "<style scoped>\n",
              "    .dataframe tbody tr th:only-of-type {\n",
              "        vertical-align: middle;\n",
              "    }\n",
              "\n",
              "    .dataframe tbody tr th {\n",
              "        vertical-align: top;\n",
              "    }\n",
              "\n",
              "    .dataframe thead th {\n",
              "        text-align: right;\n",
              "    }\n",
              "</style>\n",
              "<table border=\"1\" class=\"dataframe\">\n",
              "  <thead>\n",
              "    <tr style=\"text-align: right;\">\n",
              "      <th></th>\n",
              "      <th>first_lead</th>\n",
              "      <th>second_lead</th>\n",
              "      <th>stringLabel</th>\n",
              "      <th>label</th>\n",
              "    </tr>\n",
              "  </thead>\n",
              "  <tbody>\n",
              "    <tr>\n",
              "      <th>S112_1794</th>\n",
              "      <td>[0.4034991957135397, 0.41521033640953425, 0.41...</td>\n",
              "      <td>[0.2656819014210982, 0.2820745302964838, 0.283...</td>\n",
              "      <td>S</td>\n",
              "      <td>[0.0, 1.0, 0.0]</td>\n",
              "    </tr>\n",
              "    <tr>\n",
              "      <th>S107_1481</th>\n",
              "      <td>[0.45837006321141666, 0.46281156262715417, 0.4...</td>\n",
              "      <td>[0.593897320331036, 0.6047976199968293, 0.5825...</td>\n",
              "      <td>S</td>\n",
              "      <td>[0.0, 1.0, 0.0]</td>\n",
              "    </tr>\n",
              "    <tr>\n",
              "      <th>S036_25</th>\n",
              "      <td>[0.6402247811058936, 0.6415623611394163, 0.645...</td>\n",
              "      <td>[0.6565667376773604, 0.6625636234221363, 0.658...</td>\n",
              "      <td>S</td>\n",
              "      <td>[0.0, 1.0, 0.0]</td>\n",
              "    </tr>\n",
              "    <tr>\n",
              "      <th>S036_33</th>\n",
              "      <td>[0.6100202700339256, 0.6002446895340365, 0.604...</td>\n",
              "      <td>[0.594754619655929, 0.5876342730465955, 0.5956...</td>\n",
              "      <td>S</td>\n",
              "      <td>[0.0, 1.0, 0.0]</td>\n",
              "    </tr>\n",
              "    <tr>\n",
              "      <th>S036_44</th>\n",
              "      <td>[0.6192743896738646, 0.6234504618766723, 0.625...</td>\n",
              "      <td>[0.6397582776990132, 0.6549576792572618, 0.651...</td>\n",
              "      <td>S</td>\n",
              "      <td>[0.0, 1.0, 0.0]</td>\n",
              "    </tr>\n",
              "    <tr>\n",
              "      <th>...</th>\n",
              "      <td>...</td>\n",
              "      <td>...</td>\n",
              "      <td>...</td>\n",
              "      <td>...</td>\n",
              "    </tr>\n",
              "    <tr>\n",
              "      <th>S019_1823</th>\n",
              "      <td>[0.7916742195774936, 0.800446234027512, 0.7851...</td>\n",
              "      <td>[0.41840379316613174, 0.4245834999548358, 0.43...</td>\n",
              "      <td>S</td>\n",
              "      <td>[0.0, 1.0, 0.0]</td>\n",
              "    </tr>\n",
              "    <tr>\n",
              "      <th>S019_1827</th>\n",
              "      <td>[0.5581865298351072, 0.5879732504430532, 0.582...</td>\n",
              "      <td>[0.3302317540399549, 0.3252857828214234, 0.338...</td>\n",
              "      <td>S</td>\n",
              "      <td>[0.0, 1.0, 0.0]</td>\n",
              "    </tr>\n",
              "    <tr>\n",
              "      <th>S019_1874</th>\n",
              "      <td>[0.6446164181565431, 0.6382401609090143, 0.628...</td>\n",
              "      <td>[0.5008739150595718, 0.4978857259609312, 0.489...</td>\n",
              "      <td>S</td>\n",
              "      <td>[0.0, 1.0, 0.0]</td>\n",
              "    </tr>\n",
              "    <tr>\n",
              "      <th>S019_1885</th>\n",
              "      <td>[0.6790009372732606, 0.6785661566758775, 0.674...</td>\n",
              "      <td>[0.4182004110874032, 0.41318922406247804, 0.40...</td>\n",
              "      <td>S</td>\n",
              "      <td>[0.0, 1.0, 0.0]</td>\n",
              "    </tr>\n",
              "    <tr>\n",
              "      <th>S019_1897</th>\n",
              "      <td>[0.7675331398446552, 0.7381966886195063, 0.769...</td>\n",
              "      <td>[0.38402230298284257, 0.3347663628842251, 0.41...</td>\n",
              "      <td>S</td>\n",
              "      <td>[0.0, 1.0, 0.0]</td>\n",
              "    </tr>\n",
              "  </tbody>\n",
              "</table>\n",
              "<p>225 rows × 4 columns</p>\n",
              "</div>"
            ]
          },
          "metadata": {},
          "execution_count": 32
        }
      ]
    },
    {
      "cell_type": "code",
      "source": [
        "    signal = validation_patches_df_.loc[\"S019_1885\"]\n",
        "    length = len(signal['first_lead'])\n",
        "    fig,axs = plt.subplots(2)\n",
        "    fig.set_size_inches(18.5, 10.5)\n",
        "    ax1 = axs[0]\n",
        "    ax2 = axs[1]\n",
        "  \n",
        "    \n",
        "    first_lead = signal['first_lead'][:length]\n",
        "    second_lead = signal['second_lead'][:length]\n",
        "    \n",
        "    x = list(range(length))\n",
        "    \n",
        "    ax1.plot(x,first_lead)\n",
        "    ax2.plot(x,second_lead)\n",
        "    \n",
        "    plt.show()"
      ],
      "metadata": {
        "colab": {
          "base_uri": "https://localhost:8080/",
          "height": 619
        },
        "id": "tlZvxtbv8ePE",
        "outputId": "17fb50a0-4d35-4887-850c-9a2d369a549b"
      },
      "id": "tlZvxtbv8ePE",
      "execution_count": 34,
      "outputs": [
        {
          "output_type": "display_data",
          "data": {
            "text/plain": [
              "<Figure size 1332x756 with 2 Axes>"
            ],
            "image/png": "[encoded data removed]"
          },
          "metadata": {
            "needs_background": "light"
          }
        }
      ]
    },
    {
      "cell_type": "code",
      "source": [
        "validation_patches_df_[(validation_patches_df_['stringLabel']=='V')]"
      ],
      "metadata": {
        "id": "P2OtuXiuD6ie",
        "colab": {
          "base_uri": "https://localhost:8080/",
          "height": 423
        },
        "outputId": "ffefec52-267c-4242-ec44-e70145708abd"
      },
      "id": "P2OtuXiuD6ie",
      "execution_count": 35,
      "outputs": [
        {
          "output_type": "execute_result",
          "data": {
            "text/plain": [
              "                                                  first_lead  \\\n",
              "S096_141   [0.8115909393806147, 0.9149916319859026, 0.925...   \n",
              "S011_9     [0.5464276213109214, 0.5522102143282518, 0.546...   \n",
              "S011_20    [0.541443056268167, 0.5393830357015439, 0.5487...   \n",
              "S011_25    [0.560741928674059, 0.5670601060966207, 0.5630...   \n",
              "S011_28    [0.5566495950057991, 0.5502397000506567, 0.554...   \n",
              "...                                                      ...   \n",
              "S038_1836  [0.5724668733936931, 0.5659626764506609, 0.559...   \n",
              "S038_1837  [0.5647429897637601, 0.5720750291092942, 0.597...   \n",
              "S038_1882  [0.5828177017706492, 0.6323256304478873, 0.567...   \n",
              "S038_1883  [0.5809048261186371, 0.6023304000973947, 0.605...   \n",
              "S038_1884  [0.38157860010133776, 0.3909517135281604, 0.40...   \n",
              "\n",
              "                                                 second_lead stringLabel  \\\n",
              "S096_141   [0.7262569802125252, 0.8290030148194802, 0.839...           V   \n",
              "S011_9     [0.4979398727690239, 0.5060369860340269, 0.499...           V   \n",
              "S011_20    [0.43456457508564966, 0.43247027985520115, 0.4...           V   \n",
              "S011_25    [0.46221230485644194, 0.4633170019511578, 0.46...           V   \n",
              "S011_28    [0.4505273847839641, 0.4389519290173977, 0.448...           V   \n",
              "...                                                      ...         ...   \n",
              "S038_1836  [0.5471310726994517, 0.567240411684068, 0.5609...           V   \n",
              "S038_1837  [0.4206914378245399, 0.40277928564367776, 0.42...           V   \n",
              "S038_1882  [0.6124206785965641, 0.6176178207501357, 0.612...           V   \n",
              "S038_1883  [0.3122740557256584, 0.3236241553066458, 0.374...           V   \n",
              "S038_1884  [0.52364825611879, 0.5047049444609949, 0.50526...           V   \n",
              "\n",
              "                     label  \n",
              "S096_141   [0.0, 0.0, 1.0]  \n",
              "S011_9     [0.0, 0.0, 1.0]  \n",
              "S011_20    [0.0, 0.0, 1.0]  \n",
              "S011_25    [0.0, 0.0, 1.0]  \n",
              "S011_28    [0.0, 0.0, 1.0]  \n",
              "...                    ...  \n",
              "S038_1836  [0.0, 0.0, 1.0]  \n",
              "S038_1837  [0.0, 0.0, 1.0]  \n",
              "S038_1882  [0.0, 0.0, 1.0]  \n",
              "S038_1883  [0.0, 0.0, 1.0]  \n",
              "S038_1884  [0.0, 0.0, 1.0]  \n",
              "\n",
              "[871 rows x 4 columns]"
            ],
            "text/html": [
              "<div>\n",
              "<style scoped>\n",
              "    .dataframe tbody tr th:only-of-type {\n",
              "        vertical-align: middle;\n",
              "    }\n",
              "\n",
              "    .dataframe tbody tr th {\n",
              "        vertical-align: top;\n",
              "    }\n",
              "\n",
              "    .dataframe thead th {\n",
              "        text-align: right;\n",
              "    }\n",
              "</style>\n",
              "<table border=\"1\" class=\"dataframe\">\n",
              "  <thead>\n",
              "    <tr style=\"text-align: right;\">\n",
              "      <th></th>\n",
              "      <th>first_lead</th>\n",
              "      <th>second_lead</th>\n",
              "      <th>stringLabel</th>\n",
              "      <th>label</th>\n",
              "    </tr>\n",
              "  </thead>\n",
              "  <tbody>\n",
              "    <tr>\n",
              "      <th>S096_141</th>\n",
              "      <td>[0.8115909393806147, 0.9149916319859026, 0.925...</td>\n",
              "      <td>[0.7262569802125252, 0.8290030148194802, 0.839...</td>\n",
              "      <td>V</td>\n",
              "      <td>[0.0, 0.0, 1.0]</td>\n",
              "    </tr>\n",
              "    <tr>\n",
              "      <th>S011_9</th>\n",
              "      <td>[0.5464276213109214, 0.5522102143282518, 0.546...</td>\n",
              "      <td>[0.4979398727690239, 0.5060369860340269, 0.499...</td>\n",
              "      <td>V</td>\n",
              "      <td>[0.0, 0.0, 1.0]</td>\n",
              "    </tr>\n",
              "    <tr>\n",
              "      <th>S011_20</th>\n",
              "      <td>[0.541443056268167, 0.5393830357015439, 0.5487...</td>\n",
              "      <td>[0.43456457508564966, 0.43247027985520115, 0.4...</td>\n",
              "      <td>V</td>\n",
              "      <td>[0.0, 0.0, 1.0]</td>\n",
              "    </tr>\n",
              "    <tr>\n",
              "      <th>S011_25</th>\n",
              "      <td>[0.560741928674059, 0.5670601060966207, 0.5630...</td>\n",
              "      <td>[0.46221230485644194, 0.4633170019511578, 0.46...</td>\n",
              "      <td>V</td>\n",
              "      <td>[0.0, 0.0, 1.0]</td>\n",
              "    </tr>\n",
              "    <tr>\n",
              "      <th>S011_28</th>\n",
              "      <td>[0.5566495950057991, 0.5502397000506567, 0.554...</td>\n",
              "      <td>[0.4505273847839641, 0.4389519290173977, 0.448...</td>\n",
              "      <td>V</td>\n",
              "      <td>[0.0, 0.0, 1.0]</td>\n",
              "    </tr>\n",
              "    <tr>\n",
              "      <th>...</th>\n",
              "      <td>...</td>\n",
              "      <td>...</td>\n",
              "      <td>...</td>\n",
              "      <td>...</td>\n",
              "    </tr>\n",
              "    <tr>\n",
              "      <th>S038_1836</th>\n",
              "      <td>[0.5724668733936931, 0.5659626764506609, 0.559...</td>\n",
              "      <td>[0.5471310726994517, 0.567240411684068, 0.5609...</td>\n",
              "      <td>V</td>\n",
              "      <td>[0.0, 0.0, 1.0]</td>\n",
              "    </tr>\n",
              "    <tr>\n",
              "      <th>S038_1837</th>\n",
              "      <td>[0.5647429897637601, 0.5720750291092942, 0.597...</td>\n",
              "      <td>[0.4206914378245399, 0.40277928564367776, 0.42...</td>\n",
              "      <td>V</td>\n",
              "      <td>[0.0, 0.0, 1.0]</td>\n",
              "    </tr>\n",
              "    <tr>\n",
              "      <th>S038_1882</th>\n",
              "      <td>[0.5828177017706492, 0.6323256304478873, 0.567...</td>\n",
              "      <td>[0.6124206785965641, 0.6176178207501357, 0.612...</td>\n",
              "      <td>V</td>\n",
              "      <td>[0.0, 0.0, 1.0]</td>\n",
              "    </tr>\n",
              "    <tr>\n",
              "      <th>S038_1883</th>\n",
              "      <td>[0.5809048261186371, 0.6023304000973947, 0.605...</td>\n",
              "      <td>[0.3122740557256584, 0.3236241553066458, 0.374...</td>\n",
              "      <td>V</td>\n",
              "      <td>[0.0, 0.0, 1.0]</td>\n",
              "    </tr>\n",
              "    <tr>\n",
              "      <th>S038_1884</th>\n",
              "      <td>[0.38157860010133776, 0.3909517135281604, 0.40...</td>\n",
              "      <td>[0.52364825611879, 0.5047049444609949, 0.50526...</td>\n",
              "      <td>V</td>\n",
              "      <td>[0.0, 0.0, 1.0]</td>\n",
              "    </tr>\n",
              "  </tbody>\n",
              "</table>\n",
              "<p>871 rows × 4 columns</p>\n",
              "</div>"
            ]
          },
          "metadata": {},
          "execution_count": 35
        }
      ]
    },
    {
      "cell_type": "code",
      "source": [
        "    signal = validation_patches_df_.loc[\"S038_1884\"]\n",
        "    length = len(signal['first_lead'])\n",
        "    fig,axs = plt.subplots(2)\n",
        "    fig.set_size_inches(18.5, 10.5)\n",
        "    ax1 = axs[0]\n",
        "    ax2 = axs[1]\n",
        "  \n",
        "    \n",
        "    first_lead = signal['first_lead'][:length]\n",
        "    second_lead = signal['second_lead'][:length]\n",
        "    \n",
        "    x = list(range(length))\n",
        "    \n",
        "    ax1.plot(x,first_lead)\n",
        "    ax2.plot(x,second_lead)\n",
        "    \n",
        "    plt.show()"
      ],
      "metadata": {
        "colab": {
          "base_uri": "https://localhost:8080/",
          "height": 619
        },
        "id": "HyQNLqpGEC5V",
        "outputId": "ec1ae829-ad84-4778-a7c2-6f5d6a3f84a6"
      },
      "id": "HyQNLqpGEC5V",
      "execution_count": 15,
      "outputs": [
        {
          "output_type": "display_data",
          "data": {
            "text/plain": [
              "<Figure size 1332x756 with 2 Axes>"
            ],
            "image/png": "[encoded data removed]"
          },
          "metadata": {
            "needs_background": "light"
          }
        }
      ]
    },
    {
      "cell_type": "markdown",
      "metadata": {
        "id": "1l2ufSgJlkV1"
      },
      "source": [
        "<h2> Drop and resampling "
      ],
      "id": "1l2ufSgJlkV1"
    },
    {
      "cell_type": "code",
      "execution_count": 16,
      "id": "7b4fd24d",
      "metadata": {
        "id": "7b4fd24d",
        "colab": {
          "base_uri": "https://localhost:8080/",
          "height": 387
        },
        "outputId": "694a82d1-6de4-4383-fc58-3b5d6f0022d1"
      },
      "outputs": [
        {
          "output_type": "stream",
          "name": "stdout",
          "text": [
            "How many training indx: 170577\n",
            "Balancing training...\n",
            "pre drop: 185452\n",
            "post drop:31935\n",
            "20802\n",
            "225\n",
            "871\n",
            "Balancing validation\n"
          ]
        },
        {
          "output_type": "display_data",
          "data": {
            "text/plain": [
              "<Figure size 432x288 with 2 Axes>"
            ],
            "image/png": "[encoded data removed]"
          },
          "metadata": {}
        }
      ],
      "source": [
        "training_patches_df = training_patches_df_.copy(deep=True)\n",
        "validation_patches_df = validation_patches_df_.copy(deep=True)\n",
        "\n",
        "training_df.head()\n",
        "\n",
        "training_patients = training_df['sigId']\n",
        "validation_patients = validation_df['sigId']\n",
        "\n",
        "# calculate percentage of heartbeats to drop \n",
        "\n",
        "num_n = len(training_patches_df[(training_patches_df['stringLabel']=='N')])\n",
        "num_s = len(training_patches_df[(training_patches_df['stringLabel']=='S')])\n",
        "num_v = len(training_patches_df[(training_patches_df['stringLabel']=='V')])\n",
        "to_drop = num_n - max(num_s,num_v) * 2\n",
        "perc_to_drop_train = to_drop/(num_n)\n",
        "\n",
        "num_n = len(validation_patches_df[(validation_patches_df['stringLabel']=='N')])\n",
        "num_s = len(validation_patches_df[(validation_patches_df['stringLabel']=='S')])\n",
        "num_v = len(validation_patches_df[(validation_patches_df['stringLabel']=='V')])\n",
        "to_drop = num_n - max(num_s,num_v)\n",
        "perc_to_drop_valid = to_drop/(num_n)\n",
        "\n",
        "train_indexes = training_patches_df.index[training_patches_df['stringLabel'] == 'N'].tolist()\n",
        "valid_indexes = validation_patches_df.index[validation_patches_df['stringLabel'] == 'N'].tolist()\n",
        "\n",
        "print(f\"How many training indx: {len(train_indexes)}\")\n",
        "\n",
        "train_to_drop = list()\n",
        "valid_to_drop = list()\n",
        "lengths = list()\n",
        "dict_train = {}\n",
        "valid_train = {}\n",
        "\n",
        "print(\"Balancing training...\")\n",
        "\n",
        "for p in training_patients:\n",
        "    dict_train[p] = list()\n",
        "\n",
        "for hb in train_indexes:\n",
        "    dict_train[hb.split('_')[0]].append(hb)\n",
        "\n",
        "for p in dict_train:\n",
        "   random.shuffle(dict_train[p])\n",
        "\n",
        "for k in dict_train:\n",
        "    train_to_drop += dict_train[k][:int(len(dict_train[k]) * perc_to_drop_train)]\n",
        "\n",
        "print(f\"pre drop: {len(training_patches_df.index)}\")\n",
        "training_patches_df = training_patches_df.drop(train_to_drop)\n",
        "print(f\"post drop:{len(training_patches_df.index)}\")\n",
        "print(num_n)\n",
        "print(num_s)\n",
        "print(num_v)\n",
        "print(\"Balancing validation\")\n",
        "\n",
        "for p in validation_patients:\n",
        "    valid_train[p] = list()\n",
        "    \n",
        "for hb in valid_indexes:\n",
        "    valid_train[hb.split('_')[0]].append(hb)\n",
        "\n",
        "for p in valid_train:\n",
        "    random.shuffle(valid_train[p])\n",
        "\n",
        "for k in valid_train:\n",
        "    valid_to_drop += valid_train[k][:int(perc_to_drop_valid * len(valid_train[k]))]\n",
        "\n",
        "validation_balanced_patches_df = validation_patches_df.drop(valid_to_drop)\n",
        "\n",
        "\n",
        "training_labels = training_patches_df['stringLabel'].values\n",
        "validation_labels = validation_balanced_patches_df['stringLabel'].values\n",
        "\n",
        "classes = [\"N\",\"S\",\"V\"]\n",
        "\n",
        "training_counts = [0]*3\n",
        "validation_counts = [0]*3\n",
        "\n",
        "for l in training_labels:\n",
        "    training_counts[classes.index(l)] += 1\n",
        "for l in validation_labels:\n",
        "    validation_counts[classes.index(l)] += 1\n",
        "\n",
        "fig1, (ax1,ax2) = plt.subplots(1,2)\n",
        "\n",
        "ax1.pie(training_counts, explode=None, labels=classes, autopct='%1.1f%%',\n",
        "        shadow=False, startangle=90)\n",
        "ax1.axis('equal')  \n",
        "ax2.pie(validation_counts, explode=None, labels=classes, autopct='%1.1f%%',\n",
        "        shadow=False, startangle=90)\n",
        "ax2.axis('equal')  \n",
        "\n",
        "fig1.set_facecolor(\"white\")\n",
        "\n",
        "plt.show()\n"
      ]
    },
    {
      "cell_type": "code",
      "source": [
        "# resample v and s\n",
        "from sklearn.utils import shuffle\n",
        "\n",
        "\n",
        "ids_S = training_patches_df.index[training_patches_df['stringLabel']=='S']\n",
        "ids_V = training_patches_df.index[training_patches_df['stringLabel']=='V']\n",
        "ids_N = training_patches_df.index[training_patches_df['stringLabel']=='N']\n",
        "\n",
        "to_add = {}\n",
        "\n",
        "to_resample_s = len(ids_N) - len(ids_S)\n",
        "to_resample_v = len(ids_N) - len(ids_V)\n",
        "\n",
        "for i in tqdm(range(to_resample_s)):\n",
        "    id = random.choice(ids_S)\n",
        "    row = training_patches_df.loc[id]\n",
        "    idx = id + '_' + str(i)\n",
        "    to_add[idx] = {}\n",
        "    to_add[idx]['first_lead'] = row['first_lead']\n",
        "    to_add[idx]['second_lead'] = row['second_lead']\n",
        "    to_add[idx]['stringLabel'] = row['stringLabel']\n",
        "    to_add[idx]['label'] = row['label']\n",
        "\n",
        "\n",
        "\n",
        "for i in tqdm(range(to_resample_v)):\n",
        "    id = random.choice(ids_V)\n",
        "    row = training_patches_df.loc[id]\n",
        "    idx = id + '_i'\n",
        "    to_add[idx] = {}\n",
        "    to_add[idx]['first_lead'] = row['first_lead']\n",
        "    to_add[idx]['second_lead'] = row['second_lead']\n",
        "    to_add[idx]['stringLabel'] = row['stringLabel']\n",
        "    to_add[idx]['label'] = row['label']\n",
        "\n",
        "\n",
        "to_add_df = pd.DataFrame.from_dict(to_add,orient=\"index\")\n",
        "training_patches_df = pd.concat([training_patches_df,to_add_df],axis=0) \n",
        "training_patches_df = shuffle(training_patches_df)\n"
      ],
      "metadata": {
        "colab": {
          "base_uri": "https://localhost:8080/"
        },
        "id": "pVLGB1qgKsDu",
        "outputId": "6427a4c3-b2e5-47ae-86c7-5213cdd39647"
      },
      "id": "pVLGB1qgKsDu",
      "execution_count": 17,
      "outputs": [
        {
          "output_type": "stream",
          "name": "stderr",
          "text": [
            "100%|███████████████████████████████████████████████████████████████████████████| 8550/8550 [00:00<00:00, 15014.48it/s]\n",
            "100%|█████████████████████████████████████████████████████████████████████████| 10695/10695 [00:00<00:00, 16125.23it/s]\n"
          ]
        }
      ]
    },
    {
      "cell_type": "code",
      "source": [
        "\n",
        "training_labels = training_patches_df['stringLabel'].values\n",
        "validation_labels = validation_balanced_patches_df['stringLabel'].values\n",
        "\n",
        "classes = [\"N\",\"S\",\"V\"]\n",
        "\n",
        "training_counts = [0]*3\n",
        "validation_counts = [0]*3\n",
        "\n",
        "for l in training_labels:\n",
        "    training_counts[classes.index(l)] += 1\n",
        "for l in validation_labels:\n",
        "    validation_counts[classes.index(l)] += 1\n",
        "\n",
        "fig1, (ax1,ax2) = plt.subplots(1,2)\n",
        "\n",
        "ax1.pie(training_counts, explode=None, labels=classes, autopct='%1.1f%%',\n",
        "        shadow=False, startangle=90)\n",
        "ax1.axis('equal')  \n",
        "ax2.pie(validation_counts, explode=None, labels=classes, autopct='%1.1f%%',\n",
        "        shadow=False, startangle=90)\n",
        "ax2.axis('equal')  \n",
        "\n",
        "fig1.set_facecolor(\"white\")\n",
        "\n",
        "plt.show()"
      ],
      "metadata": {
        "colab": {
          "base_uri": "https://localhost:8080/",
          "height": 248
        },
        "id": "BkE1OjD-K5lE",
        "outputId": "e55e0698-38eb-43b2-ea33-0b475882443e"
      },
      "id": "BkE1OjD-K5lE",
      "execution_count": 18,
      "outputs": [
        {
          "output_type": "display_data",
          "data": {
            "text/plain": [
              "<Figure size 432x288 with 2 Axes>"
            ],
            "image/png": "[encoded data removed]"
          },
          "metadata": {}
        }
      ]
    },
    {
      "cell_type": "markdown",
      "source": [
        "<h2>Create input"
      ],
      "metadata": {
        "id": "oSls57EwCw-o"
      },
      "id": "oSls57EwCw-o"
    },
    {
      "cell_type": "code",
      "execution_count": 19,
      "id": "61c04340",
      "metadata": {
        "id": "61c04340"
      },
      "outputs": [],
      "source": [
        "def create_input(df):\n",
        "    \n",
        "    x = list()\n",
        "    y = list()\n",
        "    \n",
        "    for id in tqdm(df.index.tolist()):\n",
        "        row = df.loc[id]\n",
        "        x.append(np.transpose(np.asarray([row['first_lead'],row['second_lead']]).astype(np.float32)))\n",
        "        y.append(row['label'])\n",
        "\n",
        "    x = np.asarray(x).astype(np.float32)\n",
        "    y = np.asarray(y).astype(np.float32)\n",
        "    \n",
        "    return x,y\n"
      ]
    },
    {
      "cell_type": "code",
      "execution_count": 31,
      "id": "ca8d6b36",
      "metadata": {
        "id": "ca8d6b36",
        "outputId": "addd5166-c0ff-4f94-fe77-0d11eef8e95c",
        "colab": {
          "base_uri": "https://localhost:8080/"
        }
      },
      "outputs": [
        {
          "output_type": "stream",
          "name": "stderr",
          "text": [
            "100%|█████████████████████████████████████████████████████████████████████████| 45656/45656 [00:03<00:00, 12018.21it/s]\n",
            "100%|███████████████████████████████████████████████████████████████████████████| 1971/1971 [00:00<00:00, 14528.44it/s]\n",
            "100%|█████████████████████████████████████████████████████████████████████████| 22488/22488 [00:01<00:00, 15042.40it/s]\n"
          ]
        }
      ],
      "source": [
        "x_train,y_train = create_input(training_patches_df)\n",
        "x_valid,y_valid = create_input(validation_balanced_patches_df)\n",
        "x_test,y_test = create_input(test_patches_df)"
      ]
    },
    {
      "cell_type": "code",
      "source": [
        "#metric to monitor lr \n",
        "def get_lr_metric(optimizer):\n",
        "    def lr(y_true, y_pred):\n",
        "        return optimizer._decayed_lr(tf.float32) # I use ._decayed_lr method instead of .lr\n",
        "    return lr"
      ],
      "metadata": {
        "id": "0g-fXU9Xv3cW"
      },
      "id": "0g-fXU9Xv3cW",
      "execution_count": 21,
      "outputs": []
    },
    {
      "cell_type": "code",
      "execution_count": 36,
      "id": "b9a0e25d",
      "metadata": {
        "id": "b9a0e25d",
        "colab": {
          "base_uri": "https://localhost:8080/"
        },
        "outputId": "3cc6deb5-7cab-42ea-f57f-55fd4d65b7e0"
      },
      "outputs": [
        {
          "output_type": "stream",
          "name": "stdout",
          "text": [
            "Epoch 1/100\n",
            "713/713 [==============================] - 27s 34ms/step - loss: 3.9624 - precision: 0.3007 - recall: 0.2893 - lr: 1.0000e-06 - val_loss: 2.2233 - val_precision: 0.5217 - val_recall: 0.5195 - val_lr: 1.0000e-06\n",
            "Epoch 2/100\n",
            "713/713 [==============================] - 24s 34ms/step - loss: 1.5599 - precision: 0.4589 - recall: 0.4146 - lr: 1.0000e-06 - val_loss: 1.0024 - val_precision: 0.6345 - val_recall: 0.5540 - val_lr: 1.0000e-06\n",
            "Epoch 3/100\n",
            "713/713 [==============================] - 23s 33ms/step - loss: 1.2205 - precision: 0.5366 - recall: 0.4845 - lr: 1.0000e-06 - val_loss: 1.0026 - val_precision: 0.6239 - val_recall: 0.5277 - val_lr: 1.0000e-06\n",
            "Epoch 4/100\n",
            "713/713 [==============================] - 23s 33ms/step - loss: 1.0818 - precision: 0.5872 - recall: 0.5315 - lr: 1.0000e-06 - val_loss: 0.9575 - val_precision: 0.6497 - val_recall: 0.5505 - val_lr: 1.0000e-06\n",
            "Epoch 5/100\n",
            "713/713 [==============================] - 23s 32ms/step - loss: 0.9752 - precision: 0.6296 - recall: 0.5739 - lr: 1.0000e-06 - val_loss: 0.9065 - val_precision: 0.6667 - val_recall: 0.5764 - val_lr: 1.0000e-06\n",
            "Epoch 6/100\n",
            "713/713 [==============================] - 24s 33ms/step - loss: 0.8957 - precision: 0.6616 - recall: 0.6074 - lr: 1.0000e-06 - val_loss: 0.8237 - val_precision: 0.6924 - val_recall: 0.6200 - val_lr: 1.0000e-06\n",
            "Epoch 7/100\n",
            "713/713 [==============================] - 23s 33ms/step - loss: 0.8325 - precision: 0.6885 - recall: 0.6351 - lr: 1.0000e-06 - val_loss: 0.7167 - val_precision: 0.7355 - val_recall: 0.6545 - val_lr: 1.0000e-06\n",
            "Epoch 8/100\n",
            "713/713 [==============================] - 23s 33ms/step - loss: 0.7842 - precision: 0.7081 - recall: 0.6567 - lr: 1.0000e-06 - val_loss: 0.6578 - val_precision: 0.7674 - val_recall: 0.6895 - val_lr: 1.0000e-06\n",
            "Epoch 9/100\n",
            "713/713 [==============================] - 23s 33ms/step - loss: 0.7345 - precision: 0.7334 - recall: 0.6850 - lr: 1.0000e-06 - val_loss: 0.5767 - val_precision: 0.8031 - val_recall: 0.7347 - val_lr: 1.0000e-06\n",
            "Epoch 10/100\n",
            "713/713 [==============================] - 24s 33ms/step - loss: 0.7026 - precision: 0.7433 - recall: 0.6953 - lr: 1.0000e-06 - val_loss: 0.5260 - val_precision: 0.8184 - val_recall: 0.7661 - val_lr: 1.0000e-06\n",
            "Epoch 11/100\n",
            "713/713 [==============================] - 24s 33ms/step - loss: 0.6751 - precision: 0.7601 - recall: 0.7127 - lr: 1.0000e-06 - val_loss: 0.4908 - val_precision: 0.8323 - val_recall: 0.7854 - val_lr: 1.0000e-06\n",
            "Epoch 12/100\n",
            "713/713 [==============================] - 24s 33ms/step - loss: 0.6406 - precision: 0.7713 - recall: 0.7278 - lr: 1.0000e-06 - val_loss: 0.4456 - val_precision: 0.8448 - val_recall: 0.8092 - val_lr: 1.0000e-06\n",
            "Epoch 13/100\n",
            "713/713 [==============================] - 23s 33ms/step - loss: 0.6281 - precision: 0.7770 - recall: 0.7350 - lr: 1.0000e-06 - val_loss: 0.4301 - val_precision: 0.8511 - val_recall: 0.8123 - val_lr: 1.0000e-06\n",
            "Epoch 14/100\n",
            "713/713 [==============================] - 24s 33ms/step - loss: 0.5922 - precision: 0.7918 - recall: 0.7503 - lr: 1.0000e-06 - val_loss: 0.4052 - val_precision: 0.8602 - val_recall: 0.8245 - val_lr: 1.0000e-06\n",
            "Epoch 15/100\n",
            "713/713 [==============================] - 23s 32ms/step - loss: 0.5777 - precision: 0.8004 - recall: 0.7599 - lr: 1.0000e-06 - val_loss: 0.3682 - val_precision: 0.8854 - val_recall: 0.8544 - val_lr: 1.0000e-06\n",
            "Epoch 16/100\n",
            "713/713 [==============================] - 23s 32ms/step - loss: 0.5613 - precision: 0.8034 - recall: 0.7643 - lr: 1.0000e-06 - val_loss: 0.3519 - val_precision: 0.8867 - val_recall: 0.8620 - val_lr: 1.0000e-06\n",
            "Epoch 17/100\n",
            "713/713 [==============================] - 23s 33ms/step - loss: 0.5389 - precision: 0.8118 - recall: 0.7760 - lr: 1.0000e-06 - val_loss: 0.3416 - val_precision: 0.8916 - val_recall: 0.8676 - val_lr: 1.0000e-06\n",
            "Epoch 18/100\n",
            "713/713 [==============================] - 24s 33ms/step - loss: 0.5251 - precision: 0.8165 - recall: 0.7813 - lr: 1.0000e-06 - val_loss: 0.3231 - val_precision: 0.8982 - val_recall: 0.8777 - val_lr: 1.0000e-06\n",
            "Epoch 19/100\n",
            "713/713 [==============================] - 23s 33ms/step - loss: 0.5101 - precision: 0.8236 - recall: 0.7893 - lr: 1.0000e-06 - val_loss: 0.3130 - val_precision: 0.9020 - val_recall: 0.8823 - val_lr: 1.0000e-06\n",
            "Epoch 20/100\n",
            "713/713 [==============================] - 24s 33ms/step - loss: 0.4986 - precision: 0.8280 - recall: 0.7946 - lr: 1.0000e-06 - val_loss: 0.2998 - val_precision: 0.9089 - val_recall: 0.8864 - val_lr: 1.0000e-06\n",
            "Epoch 21/100\n",
            "713/713 [==============================] - 23s 33ms/step - loss: 0.4890 - precision: 0.8322 - recall: 0.8003 - lr: 1.0000e-06 - val_loss: 0.2854 - val_precision: 0.9127 - val_recall: 0.8909 - val_lr: 1.0000e-06\n",
            "Epoch 22/100\n",
            "713/713 [==============================] - 24s 34ms/step - loss: 0.4762 - precision: 0.8383 - recall: 0.8073 - lr: 1.0000e-06 - val_loss: 0.2765 - val_precision: 0.9135 - val_recall: 0.8899 - val_lr: 1.0000e-06\n",
            "Epoch 23/100\n",
            "713/713 [==============================] - 23s 32ms/step - loss: 0.4592 - precision: 0.8437 - recall: 0.8143 - lr: 1.0000e-06 - val_loss: 0.2680 - val_precision: 0.9168 - val_recall: 0.8945 - val_lr: 1.0000e-06\n",
            "Epoch 24/100\n",
            "713/713 [==============================] - 23s 32ms/step - loss: 0.4528 - precision: 0.8463 - recall: 0.8184 - lr: 1.0000e-06 - val_loss: 0.2646 - val_precision: 0.9155 - val_recall: 0.8960 - val_lr: 1.0000e-06\n",
            "Epoch 25/100\n",
            "713/713 [==============================] - 23s 33ms/step - loss: 0.4464 - precision: 0.8487 - recall: 0.8214 - lr: 1.0000e-06 - val_loss: 0.2526 - val_precision: 0.9192 - val_recall: 0.9006 - val_lr: 1.0000e-06\n",
            "Epoch 26/100\n",
            "713/713 [==============================] - 23s 33ms/step - loss: 0.4316 - precision: 0.8540 - recall: 0.8267 - lr: 1.0000e-06 - val_loss: 0.2490 - val_precision: 0.9221 - val_recall: 0.9066 - val_lr: 1.0000e-06\n",
            "Epoch 27/100\n",
            "713/713 [==============================] - 23s 33ms/step - loss: 0.4220 - precision: 0.8573 - recall: 0.8325 - lr: 1.0000e-06 - val_loss: 0.2394 - val_precision: 0.9251 - val_recall: 0.9087 - val_lr: 1.0000e-06\n",
            "Epoch 28/100\n",
            "713/713 [==============================] - 23s 33ms/step - loss: 0.4163 - precision: 0.8586 - recall: 0.8335 - lr: 1.0000e-06 - val_loss: 0.2323 - val_precision: 0.9263 - val_recall: 0.9117 - val_lr: 1.0000e-06\n",
            "Epoch 29/100\n",
            "713/713 [==============================] - 24s 33ms/step - loss: 0.4027 - precision: 0.8642 - recall: 0.8402 - lr: 1.0000e-06 - val_loss: 0.2209 - val_precision: 0.9314 - val_recall: 0.9158 - val_lr: 1.0000e-06\n",
            "Epoch 30/100\n",
            "713/713 [==============================] - 23s 33ms/step - loss: 0.3968 - precision: 0.8675 - recall: 0.8438 - lr: 1.0000e-06 - val_loss: 0.2146 - val_precision: 0.9365 - val_recall: 0.9198 - val_lr: 1.0000e-06\n",
            "Epoch 31/100\n",
            "713/713 [==============================] - 23s 33ms/step - loss: 0.3860 - precision: 0.8704 - recall: 0.8483 - lr: 1.0000e-06 - val_loss: 0.2101 - val_precision: 0.9359 - val_recall: 0.9178 - val_lr: 1.0000e-06\n",
            "Epoch 32/100\n",
            "713/713 [==============================] - 23s 33ms/step - loss: 0.3836 - precision: 0.8718 - recall: 0.8499 - lr: 1.0000e-06 - val_loss: 0.2037 - val_precision: 0.9385 - val_recall: 0.9214 - val_lr: 1.0000e-06\n",
            "Epoch 33/100\n",
            "713/713 [==============================] - 24s 34ms/step - loss: 0.3781 - precision: 0.8727 - recall: 0.8524 - lr: 1.0000e-06 - val_loss: 0.1997 - val_precision: 0.9386 - val_recall: 0.9224 - val_lr: 1.0000e-06\n",
            "Epoch 34/100\n",
            "713/713 [==============================] - 23s 32ms/step - loss: 0.3706 - precision: 0.8756 - recall: 0.8556 - lr: 1.0000e-06 - val_loss: 0.1941 - val_precision: 0.9422 - val_recall: 0.9269 - val_lr: 1.0000e-06\n",
            "Epoch 35/100\n",
            "713/713 [==============================] - 23s 33ms/step - loss: 0.3628 - precision: 0.8773 - recall: 0.8574 - lr: 1.0000e-06 - val_loss: 0.1935 - val_precision: 0.9402 - val_recall: 0.9259 - val_lr: 1.0000e-06\n",
            "Epoch 36/100\n",
            "713/713 [==============================] - 23s 33ms/step - loss: 0.3549 - precision: 0.8815 - recall: 0.8623 - lr: 1.0000e-06 - val_loss: 0.1898 - val_precision: 0.9424 - val_recall: 0.9290 - val_lr: 1.0000e-06\n",
            "Epoch 37/100\n",
            "713/713 [==============================] - 23s 33ms/step - loss: 0.3506 - precision: 0.8825 - recall: 0.8635 - lr: 1.0000e-06 - val_loss: 0.1882 - val_precision: 0.9434 - val_recall: 0.9310 - val_lr: 1.0000e-06\n",
            "Epoch 38/100\n",
            "713/713 [==============================] - 23s 32ms/step - loss: 0.3458 - precision: 0.8843 - recall: 0.8656 - lr: 1.0000e-06 - val_loss: 0.1853 - val_precision: 0.9440 - val_recall: 0.9325 - val_lr: 1.0000e-06\n",
            "Epoch 39/100\n",
            "713/713 [==============================] - 23s 32ms/step - loss: 0.3385 - precision: 0.8863 - recall: 0.8678 - lr: 1.0000e-06 - val_loss: 0.1800 - val_precision: 0.9452 - val_recall: 0.9366 - val_lr: 1.0000e-06\n",
            "Epoch 40/100\n",
            "713/713 [==============================] - 23s 33ms/step - loss: 0.3346 - precision: 0.8893 - recall: 0.8725 - lr: 1.0000e-06 - val_loss: 0.1759 - val_precision: 0.9458 - val_recall: 0.9391 - val_lr: 1.0000e-06\n",
            "Epoch 41/100\n",
            "713/713 [==============================] - 24s 33ms/step - loss: 0.3274 - precision: 0.8914 - recall: 0.8745 - lr: 1.0000e-06 - val_loss: 0.1735 - val_precision: 0.9449 - val_recall: 0.9391 - val_lr: 1.0000e-06\n",
            "Epoch 42/100\n",
            "713/713 [==============================] - 23s 32ms/step - loss: 0.3207 - precision: 0.8913 - recall: 0.8750 - lr: 1.0000e-06 - val_loss: 0.1709 - val_precision: 0.9468 - val_recall: 0.9396 - val_lr: 1.0000e-06\n",
            "Epoch 43/100\n",
            "713/713 [==============================] - 23s 32ms/step - loss: 0.3180 - precision: 0.8943 - recall: 0.8775 - lr: 1.0000e-06 - val_loss: 0.1683 - val_precision: 0.9479 - val_recall: 0.9406 - val_lr: 1.0000e-06\n",
            "Epoch 44/100\n",
            "713/713 [==============================] - 23s 33ms/step - loss: 0.3127 - precision: 0.8958 - recall: 0.8813 - lr: 1.0000e-06 - val_loss: 0.1629 - val_precision: 0.9494 - val_recall: 0.9432 - val_lr: 1.0000e-06\n",
            "Epoch 45/100\n",
            "713/713 [==============================] - 23s 33ms/step - loss: 0.3037 - precision: 0.8979 - recall: 0.8830 - lr: 1.0000e-06 - val_loss: 0.1594 - val_precision: 0.9525 - val_recall: 0.9452 - val_lr: 1.0000e-06\n",
            "Epoch 46/100\n",
            "713/713 [==============================] - 23s 32ms/step - loss: 0.3017 - precision: 0.8996 - recall: 0.8846 - lr: 1.0000e-06 - val_loss: 0.1571 - val_precision: 0.9535 - val_recall: 0.9467 - val_lr: 1.0000e-06\n",
            "Epoch 47/100\n",
            "713/713 [==============================] - 23s 33ms/step - loss: 0.2987 - precision: 0.8997 - recall: 0.8868 - lr: 1.0000e-06 - val_loss: 0.1536 - val_precision: 0.9530 - val_recall: 0.9467 - val_lr: 1.0000e-06\n",
            "Epoch 48/100\n",
            "713/713 [==============================] - 23s 33ms/step - loss: 0.2945 - precision: 0.9013 - recall: 0.8866 - lr: 1.0000e-06 - val_loss: 0.1522 - val_precision: 0.9546 - val_recall: 0.9493 - val_lr: 1.0000e-06\n",
            "Epoch 49/100\n",
            "713/713 [==============================] - 23s 33ms/step - loss: 0.2898 - precision: 0.9043 - recall: 0.8911 - lr: 1.0000e-06 - val_loss: 0.1518 - val_precision: 0.9552 - val_recall: 0.9513 - val_lr: 1.0000e-06\n",
            "Epoch 50/100\n",
            "713/713 [==============================] - 23s 32ms/step - loss: 0.2869 - precision: 0.9052 - recall: 0.8919 - lr: 1.0000e-06 - val_loss: 0.1480 - val_precision: 0.9567 - val_recall: 0.9528 - val_lr: 1.0000e-06\n",
            "Epoch 51/100\n",
            "713/713 [==============================] - 23s 33ms/step - loss: 0.2846 - precision: 0.9063 - recall: 0.8931 - lr: 1.0000e-06 - val_loss: 0.1461 - val_precision: 0.9572 - val_recall: 0.9538 - val_lr: 1.0000e-06\n",
            "Epoch 52/100\n",
            "713/713 [==============================] - 23s 33ms/step - loss: 0.2792 - precision: 0.9076 - recall: 0.8951 - lr: 1.0000e-06 - val_loss: 0.1446 - val_precision: 0.9587 - val_recall: 0.9543 - val_lr: 1.0000e-06\n",
            "Epoch 53/100\n",
            "713/713 [==============================] - 23s 33ms/step - loss: 0.2759 - precision: 0.9074 - recall: 0.8946 - lr: 1.0000e-06 - val_loss: 0.1431 - val_precision: 0.9587 - val_recall: 0.9538 - val_lr: 1.0000e-06\n",
            "Epoch 54/100\n",
            "713/713 [==============================] - 23s 32ms/step - loss: 0.2690 - precision: 0.9111 - recall: 0.8989 - lr: 1.0000e-06 - val_loss: 0.1457 - val_precision: 0.9567 - val_recall: 0.9523 - val_lr: 1.0000e-06\n",
            "Epoch 55/100\n",
            "713/713 [==============================] - 24s 33ms/step - loss: 0.2655 - precision: 0.9131 - recall: 0.9010 - lr: 1.0000e-06 - val_loss: 0.1428 - val_precision: 0.9567 - val_recall: 0.9528 - val_lr: 1.0000e-06\n",
            "Epoch 56/100\n",
            "713/713 [==============================] - 23s 33ms/step - loss: 0.2626 - precision: 0.9128 - recall: 0.9009 - lr: 1.0000e-06 - val_loss: 0.1388 - val_precision: 0.9572 - val_recall: 0.9538 - val_lr: 1.0000e-06\n",
            "Epoch 57/100\n",
            "713/713 [==============================] - 23s 32ms/step - loss: 0.2610 - precision: 0.9140 - recall: 0.9017 - lr: 1.0000e-06 - val_loss: 0.1393 - val_precision: 0.9567 - val_recall: 0.9528 - val_lr: 1.0000e-06\n",
            "Epoch 58/100\n",
            "713/713 [==============================] - 23s 32ms/step - loss: 0.2610 - precision: 0.9142 - recall: 0.9027 - lr: 1.0000e-06 - val_loss: 0.1355 - val_precision: 0.9593 - val_recall: 0.9564 - val_lr: 1.0000e-06\n",
            "Epoch 59/100\n",
            "713/713 [==============================] - 24s 33ms/step - loss: 0.2555 - precision: 0.9157 - recall: 0.9048 - lr: 1.0000e-06 - val_loss: 0.1316 - val_precision: 0.9613 - val_recall: 0.9579 - val_lr: 1.0000e-06\n",
            "Epoch 60/100\n",
            "713/713 [==============================] - 23s 33ms/step - loss: 0.2531 - precision: 0.9175 - recall: 0.9060 - lr: 1.0000e-06 - val_loss: 0.1311 - val_precision: 0.9598 - val_recall: 0.9569 - val_lr: 1.0000e-06\n",
            "Epoch 61/100\n",
            "713/713 [==============================] - 23s 32ms/step - loss: 0.2480 - precision: 0.9178 - recall: 0.9070 - lr: 1.0000e-06 - val_loss: 0.1333 - val_precision: 0.9608 - val_recall: 0.9569 - val_lr: 1.0000e-06\n",
            "Epoch 62/100\n",
            "713/713 [==============================] - 23s 32ms/step - loss: 0.2441 - precision: 0.9183 - recall: 0.9070 - lr: 1.0000e-06 - val_loss: 0.1300 - val_precision: 0.9597 - val_recall: 0.9554 - val_lr: 1.0000e-06\n",
            "Epoch 63/100\n",
            "713/713 [==============================] - 24s 34ms/step - loss: 0.2454 - precision: 0.9198 - recall: 0.9091 - lr: 1.0000e-06 - val_loss: 0.1302 - val_precision: 0.9592 - val_recall: 0.9548 - val_lr: 1.0000e-06\n",
            "Epoch 64/100\n",
            "713/713 [==============================] - 23s 33ms/step - loss: 0.2435 - precision: 0.9199 - recall: 0.9091 - lr: 1.0000e-06 - val_loss: 0.1275 - val_precision: 0.9618 - val_recall: 0.9574 - val_lr: 1.0000e-06\n",
            "Epoch 65/100\n",
            "713/713 [==============================] - 23s 33ms/step - loss: 0.2389 - precision: 0.9214 - recall: 0.9103 - lr: 1.0000e-06 - val_loss: 0.1260 - val_precision: 0.9623 - val_recall: 0.9579 - val_lr: 1.0000e-06\n",
            "Epoch 66/100\n",
            "713/713 [==============================] - 23s 32ms/step - loss: 0.2371 - precision: 0.9216 - recall: 0.9118 - lr: 1.0000e-06 - val_loss: 0.1278 - val_precision: 0.9623 - val_recall: 0.9579 - val_lr: 1.0000e-06\n",
            "Epoch 67/100\n",
            "713/713 [==============================] - 24s 33ms/step - loss: 0.2331 - precision: 0.9230 - recall: 0.9135 - lr: 1.0000e-06 - val_loss: 0.1243 - val_precision: 0.9638 - val_recall: 0.9599 - val_lr: 1.0000e-06\n",
            "Epoch 68/100\n",
            "713/713 [==============================] - 23s 32ms/step - loss: 0.2299 - precision: 0.9245 - recall: 0.9149 - lr: 1.0000e-06 - val_loss: 0.1250 - val_precision: 0.9633 - val_recall: 0.9594 - val_lr: 1.0000e-06\n",
            "Epoch 69/100\n",
            "713/713 [==============================] - 23s 33ms/step - loss: 0.2278 - precision: 0.9252 - recall: 0.9162 - lr: 1.0000e-06 - val_loss: 0.1238 - val_precision: 0.9638 - val_recall: 0.9594 - val_lr: 1.0000e-06\n",
            "Epoch 70/100\n",
            "713/713 [==============================] - 23s 32ms/step - loss: 0.2269 - precision: 0.9261 - recall: 0.9164 - lr: 1.0000e-06 - val_loss: 0.1190 - val_precision: 0.9659 - val_recall: 0.9625 - val_lr: 1.0000e-06\n",
            "Epoch 71/100\n",
            "713/713 [==============================] - 24s 33ms/step - loss: 0.2243 - precision: 0.9273 - recall: 0.9185 - lr: 1.0000e-06 - val_loss: 0.1173 - val_precision: 0.9659 - val_recall: 0.9614 - val_lr: 1.0000e-06\n",
            "Epoch 72/100\n",
            "713/713 [==============================] - 23s 32ms/step - loss: 0.2197 - precision: 0.9282 - recall: 0.9194 - lr: 1.0000e-06 - val_loss: 0.1171 - val_precision: 0.9649 - val_recall: 0.9619 - val_lr: 1.0000e-06\n",
            "Epoch 73/100\n",
            "713/713 [==============================] - 23s 32ms/step - loss: 0.2202 - precision: 0.9275 - recall: 0.9187 - lr: 1.0000e-06 - val_loss: 0.1177 - val_precision: 0.9644 - val_recall: 0.9614 - val_lr: 1.0000e-06\n",
            "Epoch 74/100\n",
            "713/713 [==============================] - 23s 32ms/step - loss: 0.2169 - precision: 0.9286 - recall: 0.9196 - lr: 1.0000e-06 - val_loss: 0.1163 - val_precision: 0.9649 - val_recall: 0.9619 - val_lr: 1.0000e-06\n",
            "Epoch 75/100\n",
            "713/713 [==============================] - 23s 33ms/step - loss: 0.2133 - precision: 0.9296 - recall: 0.9208 - lr: 1.0000e-06 - val_loss: 0.1172 - val_precision: 0.9654 - val_recall: 0.9635 - val_lr: 1.0000e-06\n",
            "Epoch 76/100\n",
            "713/713 [==============================] - 23s 32ms/step - loss: 0.2139 - precision: 0.9289 - recall: 0.9199 - lr: 1.0000e-06 - val_loss: 0.1147 - val_precision: 0.9659 - val_recall: 0.9640 - val_lr: 1.0000e-06\n",
            "Epoch 77/100\n",
            "713/713 [==============================] - 23s 32ms/step - loss: 0.2117 - precision: 0.9311 - recall: 0.9220 - lr: 1.0000e-06 - val_loss: 0.1137 - val_precision: 0.9664 - val_recall: 0.9645 - val_lr: 1.0000e-06\n",
            "Epoch 78/100\n",
            "713/713 [==============================] - 23s 33ms/step - loss: 0.2090 - precision: 0.9324 - recall: 0.9241 - lr: 1.0000e-06 - val_loss: 0.1118 - val_precision: 0.9685 - val_recall: 0.9660 - val_lr: 1.0000e-06\n",
            "Epoch 79/100\n",
            "713/713 [==============================] - 23s 32ms/step - loss: 0.2058 - precision: 0.9327 - recall: 0.9244 - lr: 1.0000e-06 - val_loss: 0.1138 - val_precision: 0.9659 - val_recall: 0.9640 - val_lr: 1.0000e-06\n",
            "Epoch 80/100\n",
            "713/713 [==============================] - 23s 32ms/step - loss: 0.2065 - precision: 0.9333 - recall: 0.9256 - lr: 1.0000e-06 - val_loss: 0.1102 - val_precision: 0.9685 - val_recall: 0.9665 - val_lr: 1.0000e-06\n",
            "Epoch 81/100\n",
            "713/713 [==============================] - 23s 33ms/step - loss: 0.2049 - precision: 0.9327 - recall: 0.9251 - lr: 1.0000e-06 - val_loss: 0.1094 - val_precision: 0.9680 - val_recall: 0.9670 - val_lr: 1.0000e-06\n",
            "Epoch 82/100\n",
            "713/713 [==============================] - 24s 33ms/step - loss: 0.2011 - precision: 0.9359 - recall: 0.9273 - lr: 1.0000e-06 - val_loss: 0.1089 - val_precision: 0.9670 - val_recall: 0.9660 - val_lr: 1.0000e-06\n",
            "Epoch 83/100\n",
            "713/713 [==============================] - 23s 32ms/step - loss: 0.1988 - precision: 0.9355 - recall: 0.9277 - lr: 1.0000e-06 - val_loss: 0.1074 - val_precision: 0.9680 - val_recall: 0.9670 - val_lr: 1.0000e-06\n",
            "Epoch 84/100\n",
            "713/713 [==============================] - 23s 32ms/step - loss: 0.1999 - precision: 0.9344 - recall: 0.9269 - lr: 1.0000e-06 - val_loss: 0.1072 - val_precision: 0.9690 - val_recall: 0.9670 - val_lr: 1.0000e-06\n",
            "Epoch 85/100\n",
            "713/713 [==============================] - 23s 33ms/step - loss: 0.1986 - precision: 0.9360 - recall: 0.9281 - lr: 1.0000e-06 - val_loss: 0.1052 - val_precision: 0.9685 - val_recall: 0.9670 - val_lr: 1.0000e-06\n",
            "Epoch 86/100\n",
            "713/713 [==============================] - 24s 33ms/step - loss: 0.1925 - precision: 0.9360 - recall: 0.9288 - lr: 1.0000e-06 - val_loss: 0.1063 - val_precision: 0.9685 - val_recall: 0.9660 - val_lr: 1.0000e-06\n",
            "Epoch 87/100\n",
            "713/713 [==============================] - 23s 32ms/step - loss: 0.1936 - precision: 0.9381 - recall: 0.9313 - lr: 1.0000e-06 - val_loss: 0.1049 - val_precision: 0.9690 - val_recall: 0.9675 - val_lr: 1.0000e-06\n",
            "Epoch 88/100\n",
            "713/713 [==============================] - 23s 33ms/step - loss: 0.1926 - precision: 0.9374 - recall: 0.9302 - lr: 1.0000e-06 - val_loss: 0.1029 - val_precision: 0.9700 - val_recall: 0.9685 - val_lr: 1.0000e-06\n",
            "Epoch 89/100\n",
            "713/713 [==============================] - 24s 33ms/step - loss: 0.1896 - precision: 0.9387 - recall: 0.9310 - lr: 1.0000e-06 - val_loss: 0.1041 - val_precision: 0.9685 - val_recall: 0.9670 - val_lr: 1.0000e-06\n",
            "Epoch 90/100\n",
            "713/713 [==============================] - 23s 33ms/step - loss: 0.1913 - precision: 0.9372 - recall: 0.9304 - lr: 1.0000e-06 - val_loss: 0.1044 - val_precision: 0.9680 - val_recall: 0.9670 - val_lr: 1.0000e-06\n",
            "Epoch 91/100\n",
            "713/713 [==============================] - 22s 31ms/step - loss: 0.1895 - precision: 0.9380 - recall: 0.9314 - lr: 1.0000e-06 - val_loss: 0.1024 - val_precision: 0.9695 - val_recall: 0.9680 - val_lr: 1.0000e-06\n",
            "Epoch 92/100\n",
            "713/713 [==============================] - 23s 32ms/step - loss: 0.1858 - precision: 0.9396 - recall: 0.9332 - lr: 1.0000e-06 - val_loss: 0.1020 - val_precision: 0.9695 - val_recall: 0.9680 - val_lr: 1.0000e-06\n",
            "Epoch 93/100\n",
            "713/713 [==============================] - 23s 32ms/step - loss: 0.1863 - precision: 0.9397 - recall: 0.9331 - lr: 1.0000e-06 - val_loss: 0.1024 - val_precision: 0.9690 - val_recall: 0.9670 - val_lr: 1.0000e-06\n",
            "Epoch 94/100\n",
            "713/713 [==============================] - 23s 32ms/step - loss: 0.1868 - precision: 0.9401 - recall: 0.9338 - lr: 1.0000e-06 - val_loss: 0.1012 - val_precision: 0.9690 - val_recall: 0.9675 - val_lr: 1.0000e-06\n",
            "Epoch 95/100\n",
            "713/713 [==============================] - 22s 31ms/step - loss: 0.1835 - precision: 0.9407 - recall: 0.9341 - lr: 1.0000e-06 - val_loss: 0.1008 - val_precision: 0.9710 - val_recall: 0.9685 - val_lr: 1.0000e-06\n",
            "Epoch 96/100\n",
            "713/713 [==============================] - 23s 32ms/step - loss: 0.1815 - precision: 0.9419 - recall: 0.9351 - lr: 1.0000e-06 - val_loss: 0.0989 - val_precision: 0.9710 - val_recall: 0.9691 - val_lr: 1.0000e-06\n",
            "Epoch 97/100\n",
            "713/713 [==============================] - 23s 32ms/step - loss: 0.1807 - precision: 0.9418 - recall: 0.9355 - lr: 1.0000e-06 - val_loss: 0.0987 - val_precision: 0.9715 - val_recall: 0.9696 - val_lr: 1.0000e-06\n",
            "Epoch 98/100\n",
            "713/713 [==============================] - 23s 32ms/step - loss: 0.1800 - precision: 0.9420 - recall: 0.9355 - lr: 1.0000e-06 - val_loss: 0.1001 - val_precision: 0.9710 - val_recall: 0.9685 - val_lr: 1.0000e-06\n",
            "Epoch 99/100\n",
            "713/713 [==============================] - 22s 31ms/step - loss: 0.1810 - precision: 0.9418 - recall: 0.9354 - lr: 1.0000e-06 - val_loss: 0.0995 - val_precision: 0.9730 - val_recall: 0.9696 - val_lr: 1.0000e-06\n",
            "Epoch 100/100\n",
            "713/713 [==============================] - 23s 33ms/step - loss: 0.1794 - precision: 0.9414 - recall: 0.9352 - lr: 1.0000e-06 - val_loss: 0.0994 - val_precision: 0.9705 - val_recall: 0.9691 - val_lr: 1.0000e-06\n"
          ]
        }
      ],
      "source": [
        "import seaborn as sns\n",
        "\n",
        "def ResBs_Conv(block_input, num_filters): \n",
        "   \n",
        "    # 0. Filter Block input and BatchNormalization\n",
        "    block_input = keras.layers.Conv1D(num_filters, kernel_size=7, strides = 2,  padding = 'same')(block_input) \n",
        "    block_input = keras.layers.BatchNormalization()(block_input)\n",
        "\n",
        "    # 1. First Convolutional Layer\n",
        "    conv1 = keras.layers.Conv1D(filters=num_filters, kernel_size=7, padding= 'same')(block_input)\n",
        "    norm1 = keras.layers.BatchNormalization()(conv1)\n",
        "    relu1 = keras.layers.Activation('relu')(norm1)  \n",
        "    dropout = keras.layers.Dropout(0.2)(relu1)\n",
        "    \n",
        "    # 2. Second Convolutional Layer \n",
        "    conv2 = keras.layers.Conv1D(num_filters, kernel_size=7, padding= 'same')(dropout) #per avere concordanza\n",
        "    norm2 = keras.layers.BatchNormalization()(conv2)\n",
        "\n",
        "    # 3. Summing Layer (adding a residual connection)\n",
        "    sum = keras.layers.Add()([block_input, norm2])\n",
        "    \n",
        "    # 4. Activation Layer\n",
        "    relu2 = keras.layers.Activation('relu')(sum)\n",
        "    \n",
        "    return relu2 \n",
        "\n",
        "def ResBs_Identity(block_input, num_filters): \n",
        "\n",
        "    # 1. First Convolutional Layer\n",
        "    conv1 = keras.layers.Conv1D(filters=num_filters, kernel_size=7, padding= 'same')(block_input)\n",
        "    norm1 = keras.layers.BatchNormalization()(conv1)\n",
        "    relu1 = keras.layers.Activation('relu')(norm1)    \n",
        "    dropout = keras.layers.Dropout(0.2)(relu1)\n",
        "    \n",
        "    # 2. Second Convolutional Layer \n",
        "    conv2 = keras.layers.Conv1D(num_filters, kernel_size=7, padding= 'same')(dropout) #per avere concordanza\n",
        "    norm2 = keras.layers.BatchNormalization()(conv2)\n",
        "\n",
        "    # 3. Summing Layer (adding a residual connection)\n",
        "    sum = keras.layers.Add()([block_input, norm2])\n",
        "    \n",
        "    # 4. Activation Layer\n",
        "    relu2 = keras.layers.Activation('relu')(sum)\n",
        "    \n",
        "    return relu2 \n",
        "\n",
        "#N= number of blocks in resnet, ch = different channels, win_len = common lenght for ecg signals, classes=..\n",
        "def resnet(input_shape, N=6, custom_loss = None): \n",
        "    ecg_input = keras.layers.Input(shape=input_shape, name='ecg_signal') \n",
        "    ResNet = keras.layers.Conv1D(filters=64,kernel_size=15, padding = 'same')(ecg_input) \n",
        "    ResNet = keras.layers.BatchNormalization()(ResNet)\n",
        "    ResNet = keras.layers.Activation('relu')(ResNet)\n",
        "    ResNet = keras.layers.MaxPooling1D(pool_size=2, strides = 2)(ResNet)\n",
        "    \n",
        "    # B.5 ResBs (x8) blocks\n",
        "    # First two ResNet blocks are identity blocks \n",
        "    ResNet = ResBs_Identity(ResNet, 64)\n",
        "    ResNet = ResBs_Identity(ResNet, 64)\n",
        "\n",
        "    filters = 64\n",
        "    M= int((N -2 )/2)\n",
        "    for i in range(M): \n",
        "        filters = filters*2\n",
        "        # define N-th ResBs block\n",
        "        ResNet = ResBs_Conv(ResNet, filters)\n",
        "        ResNet = ResBs_Identity(ResNet, filters)\n",
        "    \n",
        "    ResNet = keras.layers.GlobalMaxPooling1D(name='gmp_layer')(ResNet)\n",
        "\n",
        "    # Sigmoid activation function on the last layer to retrieve all the combination, instead of softmax\n",
        "    ResNet = keras.layers.Dense(3, activation='softmax',  name='softmax_classifier')(ResNet)\n",
        "\n",
        "    # Finally the model is composed by connecting inputs to outputs: \n",
        "    model = keras.Model(inputs=[ecg_input],outputs=ResNet)\n",
        "    return model\n",
        "\n",
        "nn= resnet(x_train.shape[1:])\n",
        "\n",
        "callback = keras.callbacks.EarlyStopping(\n",
        "    monitor='val_loss', \n",
        "    patience=10,\n",
        "    mode=\"auto\"\n",
        ")\n",
        "\n",
        "batch_size = 64\n",
        "initial_learning_rate = 1e-6\n",
        "lr_schedule = tf.keras.optimizers.schedules.ExponentialDecay(\n",
        "    initial_learning_rate,\n",
        "    decay_steps=int(len(x_train)/batch_size),\n",
        "    decay_rate=0.85,\n",
        "    staircase=True)\n",
        "\n",
        "opt = keras.optimizers.Adam(learning_rate=1e-6)#lr_schedule)\n",
        "\n",
        "lr_metric = get_lr_metric(opt)\n",
        "nn.compile(\n",
        "    optimizer = opt,\n",
        "    loss = 'categorical_crossentropy',\n",
        "    metrics = ['Precision', 'Recall', lr_metric],\n",
        "    \n",
        ")\n",
        "\n",
        "\n",
        "history = nn.fit(\n",
        "    x = x_train,\n",
        "    y = y_train, \n",
        "    batch_size = batch_size,\n",
        "    steps_per_epoch=len(x_train)/batch_size,\n",
        "    validation_data=(x_valid, y_valid),\n",
        "    epochs = 100,\n",
        "    shuffle = True,\n",
        "    callbacks=[callback]\n",
        "\n",
        ").history\n"
      ]
    },
    {
      "cell_type": "code",
      "source": [
        "import seaborn as sns \n",
        "def plot_confusion_matrix(y_true, y_pred):\n",
        "  \"\"\"\n",
        "    :param ndarray y_true: contains the ground truth labels in the shape (n_samples,)\n",
        "    :param ndarray y_pred: contains the predicted labels in the shape (n_samples,)\n",
        "  \"\"\"\n",
        "  #y_true = np.argmax(y_true,axis=1) already 1dimensional\n",
        "  #y_pred = np.argmax(y_pred,axis=1)\n",
        "  \n",
        "  con_mat = tf.math.confusion_matrix(labels=y_true, predictions=y_pred).numpy()\n",
        "  con_mat_norm = np.around(con_mat.astype('float') / con_mat.sum(axis=1)[:, np.newaxis], decimals=2)\n",
        "  con_mat_df = pd.DataFrame(con_mat_norm,\n",
        "                  index = classes, \n",
        "                  columns = classes)\n",
        "  figure = plt.figure(figsize=(8, 8))\n",
        "  sns.heatmap(con_mat_df, annot=True,cmap=plt.cm.Blues)\n",
        "  plt.tight_layout()\n",
        "  plt.ylabel('True label')\n",
        "  plt.xlabel('Predicted label')\n",
        "  plt.show()\n",
        "  return con_mat"
      ],
      "metadata": {
        "id": "iCysz4PsQZRn"
      },
      "id": "iCysz4PsQZRn",
      "execution_count": 37,
      "outputs": []
    },
    {
      "cell_type": "code",
      "execution_count": 38,
      "id": "424b06c0",
      "metadata": {
        "id": "424b06c0",
        "colab": {
          "base_uri": "https://localhost:8080/",
          "height": 790
        },
        "outputId": "a1da0950-c432-41a6-dd26-7457e59fb969"
      },
      "outputs": [
        {
          "output_type": "stream",
          "name": "stderr",
          "text": [
            "  6%|████▍                                                                     | 1323/21898 [00:00<00:01, 13133.94it/s]"
          ]
        },
        {
          "output_type": "stream",
          "name": "stdout",
          "text": [
            "Making predictions on full validation set...\r"
          ]
        },
        {
          "output_type": "stream",
          "name": "stderr",
          "text": [
            "100%|█████████████████████████████████████████████████████████████████████████| 21898/21898 [00:01<00:00, 13514.76it/s]\n"
          ]
        },
        {
          "output_type": "stream",
          "name": "stdout",
          "text": [
            "              precision    recall  f1-score   support\n",
            "\n",
            "           0       1.00      0.96      0.98     20802\n",
            "           1       0.25      0.96      0.39       225\n",
            "           2       0.86      0.98      0.92       871\n",
            "\n",
            "    accuracy                           0.96     21898\n",
            "   macro avg       0.70      0.97      0.76     21898\n",
            "weighted avg       0.99      0.96      0.97     21898\n",
            "\n"
          ]
        },
        {
          "output_type": "display_data",
          "data": {
            "text/plain": [
              "<Figure size 576x576 with 2 Axes>"
            ],
            "image/png": "[encoded data removed]"
          },
          "metadata": {
            "needs_background": "light"
          }
        }
      ],
      "source": [
        "from sklearn.metrics import classification_report\n",
        "print(\"Making predictions on full validation set...\",end=\"\\r\")\n",
        "x_valid_full,y_valid_full = create_input(validation_patches_df_)\n",
        "y_pred= nn.predict(x_valid_full)\n",
        "y_pred=np.argmax(y_pred,axis=1)\n",
        "y_val_classes=np.argmax(y_valid_full, axis=1)\n",
        "print(classification_report(y_val_classes, y_pred))\n",
        "conf = plot_confusion_matrix(y_val_classes, y_pred)"
      ]
    },
    {
      "cell_type": "code",
      "source": [
        "plt.plot(history[\"loss\"], label=\"Training Loss\")\n",
        "plt.plot(history[\"val_loss\"], label=\"Validation Loss\")\n",
        "plt.legend()\n",
        "plt.show()"
      ],
      "metadata": {
        "colab": {
          "base_uri": "https://localhost:8080/",
          "height": 265
        },
        "id": "10vRiPCILFzh",
        "outputId": "9b8f87c8-196c-4417-dace-0186bd249edf"
      },
      "id": "10vRiPCILFzh",
      "execution_count": 39,
      "outputs": [
        {
          "output_type": "display_data",
          "data": {
            "text/plain": [
              "<Figure size 432x288 with 1 Axes>"
            ],
            "image/png": "[encoded data removed]"
          },
          "metadata": {
            "needs_background": "light"
          }
        }
      ]
    },
    {
      "cell_type": "code",
      "source": [
        "print(\"Making predictions on test set...\",end=\"\\r\")\n",
        "y_pred= nn.predict(x_test)\n",
        "\n",
        "y_pred=np.argmax(y_pred,axis=1)\n",
        "y_test_classes=np.argmax(y_test, axis=1)\n",
        "print(classification_report(y_test_classes, y_pred))\n",
        "conf = plot_confusion_matrix(y_test_classes, y_pred)"
      ],
      "metadata": {
        "colab": {
          "base_uri": "https://localhost:8080/",
          "height": 773
        },
        "id": "kHL4fPDNQqcL",
        "outputId": "4523dd07-003b-41a2-b833-4a30f3c6be5e"
      },
      "id": "kHL4fPDNQqcL",
      "execution_count": 40,
      "outputs": [
        {
          "output_type": "stream",
          "name": "stdout",
          "text": [
            "Making predictions on test set...\r              precision    recall  f1-score   support\n",
            "\n",
            "           0       1.00      0.94      0.97     21716\n",
            "           1       0.20      0.41      0.27       389\n",
            "           2       0.33      0.97      0.50       383\n",
            "\n",
            "    accuracy                           0.94     22488\n",
            "   macro avg       0.51      0.78      0.58     22488\n",
            "weighted avg       0.97      0.94      0.95     22488\n",
            "\n"
          ]
        },
        {
          "output_type": "display_data",
          "data": {
            "text/plain": [
              "<Figure size 576x576 with 2 Axes>"
            ],
            "image/png": "[encoded data removed]"
          },
          "metadata": {
            "needs_background": "light"
          }
        }
      ]
    },
    {
      "cell_type": "markdown",
      "source": [
        "<h2> Save and load model"
      ],
      "metadata": {
        "id": "NlQBI2sGFaJ0"
      },
      "id": "NlQBI2sGFaJ0"
    },
    {
      "cell_type": "code",
      "source": [
        "# convert the history.history dict to a pandas DataFrame:     \n",
        "hist_df = pd.DataFrame(history) \n",
        "net_name = 'ResNetV0'\n",
        "# save to csv: \n",
        "hist_csv_file = net_name +'_history.csv'\n",
        "with open(os.path.join(cwd,hist_csv_file), mode='w') as f:\n",
        "    hist_df.to_csv(f)\n",
        "nn.save_weights(os.path.join(cwd,net_name +'_weights.h5'))\n",
        "nn.save(os.path.join(cwd,net_name))"
      ],
      "metadata": {
        "id": "5hZvAhkiclSW"
      },
      "id": "5hZvAhkiclSW",
      "execution_count": null,
      "outputs": []
    },
    {
      "cell_type": "code",
      "source": [
        "nn= resnet(x_train.shape[1:])\n",
        "\n",
        "callback = keras.callbacks.EarlyStopping(\n",
        "    monitor='val_loss', \n",
        "    patience=10,\n",
        "    mode=\"auto\",\n",
        "    restore_best_weights=True,\n",
        "\n",
        ")\n",
        "\n",
        "\n",
        "initial_learning_rate = 1e-4\n",
        "lr_schedule = tf.keras.optimizers.schedules.ExponentialDecay(\n",
        "    initial_learning_rate,\n",
        "    decay_steps=int(len(x_train)/batch_size)*2,\n",
        "    decay_rate=0.85,\n",
        "    staircase=True)\n",
        "\n",
        "opt = keras.optimizers.Adam(learning_rate=lr_schedule)\n",
        "\n",
        "lr_metric = get_lr_metric(opt)\n",
        "nn.compile(\n",
        "    optimizer = opt,\n",
        "    loss = 'categorical_crossentropy',\n",
        "    metrics = ['Precision', 'Recall', lr_metric],\n",
        "    \n",
        ")\n",
        "\n",
        "nn.load_weights(os.path.join(cwd,net_name +'_weights.h5'))\n"
      ],
      "metadata": {
        "id": "LMkTbGU3FQe3"
      },
      "id": "LMkTbGU3FQe3",
      "execution_count": null,
      "outputs": []
    }
  ],
  "metadata": {
    "kernelspec": {
      "display_name": "tf-gpu",
      "language": "python",
      "name": "tf-gpu"
    },
    "language_info": {
      "codemirror_mode": {
        "name": "ipython",
        "version": 3
      },
      "file_extension": ".py",
      "mimetype": "text/x-python",
      "name": "python",
      "nbconvert_exporter": "python",
      "pygments_lexer": "ipython3",
      "version": "3.9.7"
    },
    "colab": {
      "name": "Copia di FinalResnetLSTM.ipynb",
      "provenance": [],
      "collapsed_sections": [],
      "include_colab_link": true
    },
    "accelerator": "GPU"
  },
  "nbformat": 4,
  "nbformat_minor": 5
}