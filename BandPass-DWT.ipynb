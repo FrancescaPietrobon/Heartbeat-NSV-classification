{
 "cells": [
  {
   "cell_type": "code",
   "execution_count": 34,
   "id": "a46523b8",
   "metadata": {},
   "outputs": [],
   "source": [
    "import os \n",
    "import zipfile \n",
    "from scipy.io import loadmat \n",
    "import pandas as pd\n",
    "import matplotlib.pyplot as plt \n",
    "import numpy as np\n",
    "import io\n",
    "from PIL import Image\n",
    "import tensorflow as tf \n",
    "from tensorflow import keras\n",
    "import sys\n",
    "from tqdm import tqdm\n",
    "import random\n",
    "from sklearn.model_selection import train_test_split\n",
    "import pywt \n",
    "\n",
    "\n",
    "SEED = 1\n",
    "tf.random.set_seed(SEED)\n",
    "np.random.seed(SEED)\n",
    "random.seed(SEED)\n",
    "os.environ['PYTHONHASHSEED'] = str(SEED)\n",
    "\n",
    "dataset_current_folder = \"training_set.zip\" # where the zip is\n",
    "dataset_folder = \"C://Users//simon//Desktop//AppliedAI-project\" # where I want the dataset - avoid the current folder as Git doesn't allow huge uploads\n",
    "\n",
    "with zipfile.ZipFile(dataset_current_folder, 'r') as zip: # extract the zip file into the desired folder \n",
    "    zip.extractall(dataset_folder)\n",
    "\n",
    "def load_data(sample_prefix, input_dir):    # everything is returned as a numpy array which is easier to manipulate\n",
    "    label_filepath = os.path.join(input_dir, sample_prefix + '_ann.mat')\n",
    "    peak_filepath = os.path.join(input_dir, sample_prefix + '_rpk.mat')\n",
    "    signal_filepath = os.path.join(input_dir, sample_prefix + '.mat')\n",
    "    if os.path.isfile(label_filepath):\n",
    "        mat_file = loadmat(label_filepath)\n",
    "        label = np.asarray(mat_file['labels'])\n",
    "    if os.path.isfile(peak_filepath):\n",
    "        mat_file = loadmat(peak_filepath)\n",
    "        peaks = np.array(mat_file['rpeaks'],dtype=np.int64)\n",
    "    if os.path.isfile(signal_filepath):\n",
    "        mat_file = loadmat(signal_filepath)\n",
    "        signal = np.asarray(mat_file['ecg'] )\n",
    "\n",
    "    return label, peaks, signal\n",
    "\n",
    "labels = list()             # labels \n",
    "ids = list()                # Id of samples \n",
    "rpeaks = list()             # detected peaks of the signal \n",
    "ecg_signals = list()        # .mat ecg signal \n",
    "frequencies = list()        # sample frequency of the ecg signal \n",
    "\n",
    "\n",
    "for f in os.listdir(dataset_folder):\n",
    "  if f.lower().endswith('.mat'):\n",
    "    id = f[:4]\n",
    "    if id not in ids:\n",
    "      ids.append(id)\n",
    "      sample_prefix = f[:8]\n",
    "      label, peak, signal = load_data(sample_prefix, dataset_folder)\n",
    "      labels.append(label)\n",
    "      rpeaks.append(peak)\n",
    "      ecg_signals.append(signal)\n",
    "      frequencies.append(int(sample_prefix[5:]))"
   ]
  },
  {
   "cell_type": "code",
   "execution_count": 35,
   "id": "89974a81",
   "metadata": {},
   "outputs": [
    {
     "name": "stderr",
     "output_type": "stream",
     "text": [
      "100%|██████████████████████████████████████████████████████████████████████████████| 105/105 [00:00<00:00, 1206.71it/s]\n"
     ]
    },
    {
     "data": {
      "text/html": [
       "<div>\n",
       "<style scoped>\n",
       "    .dataframe tbody tr th:only-of-type {\n",
       "        vertical-align: middle;\n",
       "    }\n",
       "\n",
       "    .dataframe tbody tr th {\n",
       "        vertical-align: top;\n",
       "    }\n",
       "\n",
       "    .dataframe thead th {\n",
       "        text-align: right;\n",
       "    }\n",
       "</style>\n",
       "<table border=\"1\" class=\"dataframe\">\n",
       "  <thead>\n",
       "    <tr style=\"text-align: right;\">\n",
       "      <th></th>\n",
       "      <th>sigId</th>\n",
       "      <th>ecg_lead_1</th>\n",
       "      <th>ecg_lead_2</th>\n",
       "      <th>peaks</th>\n",
       "      <th>frequencies</th>\n",
       "      <th>labels</th>\n",
       "    </tr>\n",
       "  </thead>\n",
       "  <tbody>\n",
       "    <tr>\n",
       "      <th>0</th>\n",
       "      <td>S001</td>\n",
       "      <td>[0.0, 0.04, 0.03, 0.0, 0.03, 0.09, 0.18, 0.14,...</td>\n",
       "      <td>[0.08, 0.07, 0.1, 0.06, 0.06, 0.03, 0.1, 0.21,...</td>\n",
       "      <td>[29, 110, 191, 272, 353, 433, 514, 595, 676, 7...</td>\n",
       "      <td>128</td>\n",
       "      <td>[N, N, N, N, N, N, N, N, N, N, N, N, N, N, N, ...</td>\n",
       "    </tr>\n",
       "    <tr>\n",
       "      <th>1</th>\n",
       "      <td>S002</td>\n",
       "      <td>[-0.035, -0.045, -0.025, -0.035, -0.045, -0.05...</td>\n",
       "      <td>[-0.095, -0.105, -0.095, -0.095, -0.115, -0.09...</td>\n",
       "      <td>[48, 153, 243, 352, 440, 547, 636, 742, 831, 9...</td>\n",
       "      <td>128</td>\n",
       "      <td>[N, N, N, N, S, N, S, N, S, N, S, N, S, N, S, ...</td>\n",
       "    </tr>\n",
       "    <tr>\n",
       "      <th>2</th>\n",
       "      <td>S003</td>\n",
       "      <td>[-0.56, -0.56, -0.55, -0.47, -0.53, -0.47, -0....</td>\n",
       "      <td>[0.43, 0.56, 0.6, 0.41, 0.54, 0.48, 0.56, 0.46...</td>\n",
       "      <td>[91, 209, 326, 394, 537, 653, 745, 872, 984, 1...</td>\n",
       "      <td>128</td>\n",
       "      <td>[N, N, N, S, N, N, S, N, N, S, N, N, N, N, N, ...</td>\n",
       "    </tr>\n",
       "    <tr>\n",
       "      <th>3</th>\n",
       "      <td>S004</td>\n",
       "      <td>[-0.46, -0.49, -0.52, -0.58, -0.62, -0.69, -0....</td>\n",
       "      <td>[0.56, 0.61, 0.66, 0.66, 0.63, 0.66, 0.59, 0.5...</td>\n",
       "      <td>[98, 223, 349, 474, 599, 726, 853, 980, 1116, ...</td>\n",
       "      <td>128</td>\n",
       "      <td>[N, N, N, N, N, N, N, N, N, N, N, N, N, N, N, ...</td>\n",
       "    </tr>\n",
       "    <tr>\n",
       "      <th>4</th>\n",
       "      <td>S005</td>\n",
       "      <td>[-0.27, -0.17, -0.13, -0.23, -0.18, -0.23, -0....</td>\n",
       "      <td>[-0.02, -0.04, -0.01, -0.01, -0.02, -0.06, 0.0...</td>\n",
       "      <td>[27, 127, 225, 324, 423, 523, 623, 722, 822, 9...</td>\n",
       "      <td>128</td>\n",
       "      <td>[N, N, N, N, N, N, N, N, N, N, N, N, N, N, N, ...</td>\n",
       "    </tr>\n",
       "  </tbody>\n",
       "</table>\n",
       "</div>"
      ],
      "text/plain": [
       "  sigId                                         ecg_lead_1  \\\n",
       "0  S001  [0.0, 0.04, 0.03, 0.0, 0.03, 0.09, 0.18, 0.14,...   \n",
       "1  S002  [-0.035, -0.045, -0.025, -0.035, -0.045, -0.05...   \n",
       "2  S003  [-0.56, -0.56, -0.55, -0.47, -0.53, -0.47, -0....   \n",
       "3  S004  [-0.46, -0.49, -0.52, -0.58, -0.62, -0.69, -0....   \n",
       "4  S005  [-0.27, -0.17, -0.13, -0.23, -0.18, -0.23, -0....   \n",
       "\n",
       "                                          ecg_lead_2  \\\n",
       "0  [0.08, 0.07, 0.1, 0.06, 0.06, 0.03, 0.1, 0.21,...   \n",
       "1  [-0.095, -0.105, -0.095, -0.095, -0.115, -0.09...   \n",
       "2  [0.43, 0.56, 0.6, 0.41, 0.54, 0.48, 0.56, 0.46...   \n",
       "3  [0.56, 0.61, 0.66, 0.66, 0.63, 0.66, 0.59, 0.5...   \n",
       "4  [-0.02, -0.04, -0.01, -0.01, -0.02, -0.06, 0.0...   \n",
       "\n",
       "                                               peaks frequencies  \\\n",
       "0  [29, 110, 191, 272, 353, 433, 514, 595, 676, 7...         128   \n",
       "1  [48, 153, 243, 352, 440, 547, 636, 742, 831, 9...         128   \n",
       "2  [91, 209, 326, 394, 537, 653, 745, 872, 984, 1...         128   \n",
       "3  [98, 223, 349, 474, 599, 726, 853, 980, 1116, ...         128   \n",
       "4  [27, 127, 225, 324, 423, 523, 623, 722, 822, 9...         128   \n",
       "\n",
       "                                              labels  \n",
       "0  [N, N, N, N, N, N, N, N, N, N, N, N, N, N, N, ...  \n",
       "1  [N, N, N, N, S, N, S, N, S, N, S, N, S, N, S, ...  \n",
       "2  [N, N, N, S, N, N, S, N, N, S, N, N, N, N, N, ...  \n",
       "3  [N, N, N, N, N, N, N, N, N, N, N, N, N, N, N, ...  \n",
       "4  [N, N, N, N, N, N, N, N, N, N, N, N, N, N, N, ...  "
      ]
     },
     "execution_count": 35,
     "metadata": {},
     "output_type": "execute_result"
    }
   ],
   "source": [
    "cols = [\"sigId\",\"ecg_lead_1\",\"ecg_lead_2\",\"peaks\",\"frequencies\",\"labels\"]\n",
    "\n",
    "# ecg signals is 105 rows [,,,,,]\n",
    "\n",
    "first_lead_signals = []\n",
    "second_lead_signals = []\n",
    "\n",
    "for signal in ecg_signals:\n",
    "    first_lead_signals.append(signal[:,0].tolist())    # converting the array to list as list of array is deprecated \n",
    "    second_lead_signals.append(signal[:,1].tolist())\n",
    "\n",
    "df = pd.DataFrame(data =[ids,first_lead_signals,second_lead_signals,rpeaks,frequencies,labels]).T\n",
    "df.columns = cols\n",
    "\n",
    "# transform peaks \n",
    "for id in tqdm(df.index.tolist()):\n",
    "    peaks = df.iloc[id]['peaks']\n",
    "    p_list = list()\n",
    "    for p in peaks:\n",
    "        p_list.append(p[0])\n",
    "    df.iloc[id]['peaks'] = np.asarray(p_list).astype(np.int64)\n",
    "\n",
    "df.head()"
   ]
  },
  {
   "cell_type": "code",
   "execution_count": 36,
   "id": "780c94a0",
   "metadata": {},
   "outputs": [
    {
     "name": "stderr",
     "output_type": "stream",
     "text": [
      "100%|██████████████████████████████████████████████████████████████████████████████████| 65/65 [00:08<00:00,  7.61it/s]\n"
     ]
    }
   ],
   "source": [
    "from scipy.signal import resample\n",
    "\n",
    "ids_128 = df[df['frequencies'] == 128].index.tolist() # 65 signals are sampled using fs = 128\n",
    "ids_250 = df[df['frequencies'] == 250].index.tolist() # 65 signals are sampled using fs = 128\n",
    "resampled_len =  len(df.iloc[ids_250[0]]['ecg_lead_1'])\n",
    "sampled_len = len(df.iloc[ids_128[0]]['ecg_lead_1'])\n",
    "\n",
    "for id in tqdm(ids_128):\n",
    "    row = df.iloc[id]\n",
    "    # first lead\n",
    "    signal = np.asarray(row['ecg_lead_1']).astype(np.float32)\n",
    "    resampled_1 = resample(signal,resampled_len)\n",
    "    \n",
    "    # second lead\n",
    "    \n",
    "    signal = np.asarray(row['ecg_lead_2']).astype(np.float32)\n",
    "    resampled_2 = resample(signal,resampled_len)\n",
    "    \n",
    "    df.iloc[id]['ecg_lead_1'] = resampled_1.tolist()\n",
    "    df.iloc[id]['ecg_lead_2'] = resampled_2.tolist()\n",
    "    \n",
    "    for i,p in enumerate(list(df.iloc[id]['peaks'])):\n",
    "        df.iloc[id]['peaks'][i] = int(resampled_len * p/sampled_len)\n"
   ]
  },
  {
   "cell_type": "code",
   "execution_count": 37,
   "id": "f3ed5074",
   "metadata": {},
   "outputs": [],
   "source": [
    "#Preprocessing used in practical lessons\n",
    "from scipy.signal import resample, butter, lfilter, iirnotch\n",
    "\n",
    "def notch_filter(cutoff, fs, q=30):\n",
    "    nyq = 0.5*fs\n",
    "    freq = cutoff/nyq\n",
    "    b, a = iirnotch(freq, q)\n",
    "    return b, a\n",
    "\n",
    "#def bandpass_filter(data, filter_order=5, lowcut = .5, highcut = 55, signal_freq=128):\n",
    "def bandpass_filter(data, filter_order=5, lowcut = 0.5, highcut = 30, signal_freq=250):\n",
    "        \"\"\"\n",
    "        Method responsible for creating and applying Butterworth filter.\n",
    "        :param deque data: raw data\n",
    "        :param float lowcut: filter lowcut frequency value\n",
    "        :param float highcut: filter highcut frequency value\n",
    "        :param int signal_freq: signal frequency in samples per second (Hz)\n",
    "        :param int filter_order: filter order\n",
    "        :return array: filtered data\n",
    "        \"\"\"\n",
    "        powerline = 60\n",
    "        nyquist_freq = 0.5 * signal_freq\n",
    "        low = lowcut / nyquist_freq\n",
    "        high = highcut / nyquist_freq\n",
    "        b, a = butter(filter_order, [low, high], btype=\"band\")\n",
    "        y = lfilter(b, a, data,zi = None)\n",
    "        #b,a = notch_filter(powerline,signal_freq)\n",
    "        #y = lfilter(b,a,y)\n",
    "        return y\n"
   ]
  },
  {
   "cell_type": "code",
   "execution_count": 38,
   "id": "5fcabc4e",
   "metadata": {},
   "outputs": [
    {
     "name": "stdout",
     "output_type": "stream",
     "text": [
      "['N', 'N', 'N', 'N', 'S', 'N', 'S', 'N']\n"
     ]
    },
    {
     "data": {
      "image/png": "[encoded data removed]",
      "text/plain": [
       "<Figure size 1332x756 with 2 Axes>"
      ]
     },
     "metadata": {
      "needs_background": "light"
     },
     "output_type": "display_data"
    }
   ],
   "source": [
    "# plot signal \n",
    "from scipy.fft import fft, fftfreq\n",
    "\n",
    "def plot_signal(df,id,length):\n",
    "    fig,axs = plt.subplots(2)\n",
    "    fig.set_size_inches(18.5, 10.5)\n",
    "    ax1 = axs[0]\n",
    "    ax2 = axs[1]\n",
    "    \n",
    "    \n",
    "    signal = df.iloc[id]\n",
    "    \n",
    "    first_lead = signal['ecg_lead_1'][:length]\n",
    "    second_lead = signal['ecg_lead_2'][:length]\n",
    "    \n",
    "    peaks_ = signal['peaks']\n",
    "    labels_ = signal['labels']\n",
    "    \n",
    "    x = list(range(length))\n",
    "    \n",
    "    ax1.plot(x,first_lead,color='blue')\n",
    "    ax2.plot(x,second_lead,color='blue')\n",
    "    \n",
    "    ax1.plot(x,bandpass_filter(first_lead),color='green')\n",
    "    ax2.plot(x,bandpass_filter(second_lead),color='green')\n",
    "\n",
    "\n",
    "    \n",
    "    peaks = list()\n",
    "    p_amplitudes_first = list()\n",
    "    p_amplitudes_second = list()\n",
    "    labels = list()\n",
    "    \n",
    "    for i,p in enumerate(peaks_):\n",
    "        if(p <= length):\n",
    "            peaks.append(p)\n",
    "            p_amplitudes_first.append(first_lead[p])\n",
    "            p_amplitudes_second.append(second_lead[p])\n",
    "            labels.append(labels_[i])\n",
    "        else:\n",
    "            break\n",
    "            \n",
    "    ax1.scatter(peaks,p_amplitudes_first,color='red')\n",
    "    ax2.scatter(peaks,p_amplitudes_second,color='red')\n",
    "    offset = 10\n",
    "    \n",
    "    for i, txt in enumerate(labels):\n",
    "        ax1.annotate(txt, (peaks[i]+offset, p_amplitudes_first[i]),size = 14)\n",
    "        ax2.annotate(txt, (peaks[i]+offset, p_amplitudes_second[i]),size = 14)\n",
    "    \n",
    "    print(labels)\n",
    "    plt.show()\n",
    "\n",
    "plot_signal(df,1,1500)"
   ]
  },
  {
   "cell_type": "code",
   "execution_count": 59,
   "id": "272ef9e5",
   "metadata": {},
   "outputs": [
    {
     "name": "stderr",
     "output_type": "stream",
     "text": [
      "100%|████████████████████████████████████████████████████████████████████████████████| 105/105 [00:07<00:00, 13.54it/s]\n"
     ]
    }
   ],
   "source": [
    "filtered_df = df.copy(deep= True)\n",
    "\n",
    "ids = filtered_df.index.tolist()\n",
    "\n",
    "for id_ in tqdm(ids):\n",
    "    \n",
    "    row = filtered_df.iloc[id_]\n",
    "    first = row['ecg_lead_1']\n",
    "    second = row['ecg_lead_2']\n",
    "    filtered_first = np.asarray(bandpass_filter(first))\n",
    "    filtered_second =  np.asarray(bandpass_filter(second))\n",
    "\n",
    "    filtered_df.iloc[id_]['ecg_lead_1'] = pd.Series(filtered_first)\n",
    "    filtered_df.iloc[id_]['ecg_lead_2'] = pd.Series(filtered_second)\n",
    "   \n"
   ]
  },
  {
   "cell_type": "code",
   "execution_count": 62,
   "id": "64528bc7",
   "metadata": {},
   "outputs": [
    {
     "name": "stderr",
     "output_type": "stream",
     "text": [
      "  2%|█▌                                                                                | 2/105 [00:00<00:17,  5.90it/s]"
     ]
    },
    {
     "name": "stdout",
     "output_type": "stream",
     "text": [
      "450000\n",
      "450000\n"
     ]
    },
    {
     "name": "stderr",
     "output_type": "stream",
     "text": [
      "  4%|███                                                                               | 4/105 [00:00<00:17,  5.82it/s]"
     ]
    },
    {
     "name": "stdout",
     "output_type": "stream",
     "text": [
      "450000\n",
      "450000\n"
     ]
    },
    {
     "name": "stderr",
     "output_type": "stream",
     "text": [
      "  6%|████▋                                                                             | 6/105 [00:01<00:17,  5.68it/s]"
     ]
    },
    {
     "name": "stdout",
     "output_type": "stream",
     "text": [
      "450000\n",
      "450000\n"
     ]
    },
    {
     "name": "stderr",
     "output_type": "stream",
     "text": [
      "  8%|██████▏                                                                           | 8/105 [00:01<00:17,  5.60it/s]"
     ]
    },
    {
     "name": "stdout",
     "output_type": "stream",
     "text": [
      "450000\n",
      "450000\n"
     ]
    },
    {
     "name": "stderr",
     "output_type": "stream",
     "text": [
      " 10%|███████▋                                                                         | 10/105 [00:01<00:16,  5.63it/s]"
     ]
    },
    {
     "name": "stdout",
     "output_type": "stream",
     "text": [
      "450000\n",
      "450000\n"
     ]
    },
    {
     "name": "stderr",
     "output_type": "stream",
     "text": [
      " 11%|█████████▎                                                                       | 12/105 [00:02<00:16,  5.61it/s]"
     ]
    },
    {
     "name": "stdout",
     "output_type": "stream",
     "text": [
      "450000\n",
      "450000\n"
     ]
    },
    {
     "name": "stderr",
     "output_type": "stream",
     "text": [
      " 13%|██████████▊                                                                      | 14/105 [00:02<00:16,  5.64it/s]"
     ]
    },
    {
     "name": "stdout",
     "output_type": "stream",
     "text": [
      "450000\n",
      "450000\n"
     ]
    },
    {
     "name": "stderr",
     "output_type": "stream",
     "text": [
      " 15%|████████████▎                                                                    | 16/105 [00:02<00:15,  5.82it/s]"
     ]
    },
    {
     "name": "stdout",
     "output_type": "stream",
     "text": [
      "450000\n",
      "450000\n"
     ]
    },
    {
     "name": "stderr",
     "output_type": "stream",
     "text": [
      " 17%|█████████████▉                                                                   | 18/105 [00:03<00:15,  5.70it/s]"
     ]
    },
    {
     "name": "stdout",
     "output_type": "stream",
     "text": [
      "450000\n",
      "450000\n"
     ]
    },
    {
     "name": "stderr",
     "output_type": "stream",
     "text": [
      " 19%|███████████████▍                                                                 | 20/105 [00:03<00:14,  5.74it/s]"
     ]
    },
    {
     "name": "stdout",
     "output_type": "stream",
     "text": [
      "450000\n",
      "450000\n"
     ]
    },
    {
     "name": "stderr",
     "output_type": "stream",
     "text": [
      " 21%|████████████████▉                                                                | 22/105 [00:03<00:14,  5.70it/s]"
     ]
    },
    {
     "name": "stdout",
     "output_type": "stream",
     "text": [
      "450000\n",
      "450000\n"
     ]
    },
    {
     "name": "stderr",
     "output_type": "stream",
     "text": [
      " 23%|██████████████████▌                                                              | 24/105 [00:04<00:14,  5.63it/s]"
     ]
    },
    {
     "name": "stdout",
     "output_type": "stream",
     "text": [
      "450000\n",
      "450000\n"
     ]
    },
    {
     "name": "stderr",
     "output_type": "stream",
     "text": [
      " 25%|████████████████████                                                             | 26/105 [00:04<00:14,  5.63it/s]"
     ]
    },
    {
     "name": "stdout",
     "output_type": "stream",
     "text": [
      "450000\n",
      "450000\n"
     ]
    },
    {
     "name": "stderr",
     "output_type": "stream",
     "text": [
      " 27%|█████████████████████▌                                                           | 28/105 [00:04<00:13,  5.70it/s]"
     ]
    },
    {
     "name": "stdout",
     "output_type": "stream",
     "text": [
      "450000\n",
      "450000\n"
     ]
    },
    {
     "name": "stderr",
     "output_type": "stream",
     "text": [
      " 29%|███████████████████████▏                                                         | 30/105 [00:05<00:13,  5.71it/s]"
     ]
    },
    {
     "name": "stdout",
     "output_type": "stream",
     "text": [
      "450000\n",
      "450000\n"
     ]
    },
    {
     "name": "stderr",
     "output_type": "stream",
     "text": [
      " 30%|████████████████████████▋                                                        | 32/105 [00:05<00:12,  5.71it/s]"
     ]
    },
    {
     "name": "stdout",
     "output_type": "stream",
     "text": [
      "450000\n",
      "450000\n"
     ]
    },
    {
     "name": "stderr",
     "output_type": "stream",
     "text": [
      " 32%|██████████████████████████▏                                                      | 34/105 [00:05<00:12,  5.66it/s]"
     ]
    },
    {
     "name": "stdout",
     "output_type": "stream",
     "text": [
      "450000\n",
      "450000\n"
     ]
    },
    {
     "name": "stderr",
     "output_type": "stream",
     "text": [
      " 34%|███████████████████████████▊                                                     | 36/105 [00:06<00:12,  5.57it/s]"
     ]
    },
    {
     "name": "stdout",
     "output_type": "stream",
     "text": [
      "450000\n",
      "450000\n"
     ]
    },
    {
     "name": "stderr",
     "output_type": "stream",
     "text": [
      " 36%|█████████████████████████████▎                                                   | 38/105 [00:06<00:11,  5.68it/s]"
     ]
    },
    {
     "name": "stdout",
     "output_type": "stream",
     "text": [
      "450000\n",
      "450000\n"
     ]
    },
    {
     "name": "stderr",
     "output_type": "stream",
     "text": [
      " 38%|██████████████████████████████▊                                                  | 40/105 [00:07<00:11,  5.56it/s]"
     ]
    },
    {
     "name": "stdout",
     "output_type": "stream",
     "text": [
      "450000\n",
      "450000\n"
     ]
    },
    {
     "name": "stderr",
     "output_type": "stream",
     "text": [
      " 40%|████████████████████████████████▍                                                | 42/105 [00:07<00:11,  5.52it/s]"
     ]
    },
    {
     "name": "stdout",
     "output_type": "stream",
     "text": [
      "450000\n",
      "450000\n"
     ]
    },
    {
     "name": "stderr",
     "output_type": "stream",
     "text": [
      " 42%|█████████████████████████████████▉                                               | 44/105 [00:07<00:10,  5.59it/s]"
     ]
    },
    {
     "name": "stdout",
     "output_type": "stream",
     "text": [
      "450000\n",
      "450000\n"
     ]
    },
    {
     "name": "stderr",
     "output_type": "stream",
     "text": [
      " 44%|███████████████████████████████████▍                                             | 46/105 [00:08<00:10,  5.56it/s]"
     ]
    },
    {
     "name": "stdout",
     "output_type": "stream",
     "text": [
      "450000\n",
      "450000\n"
     ]
    },
    {
     "name": "stderr",
     "output_type": "stream",
     "text": [
      " 46%|█████████████████████████████████████                                            | 48/105 [00:08<00:10,  5.55it/s]"
     ]
    },
    {
     "name": "stdout",
     "output_type": "stream",
     "text": [
      "450000\n",
      "450000\n"
     ]
    },
    {
     "name": "stderr",
     "output_type": "stream",
     "text": [
      " 48%|██████████████████████████████████████▌                                          | 50/105 [00:08<00:10,  5.47it/s]"
     ]
    },
    {
     "name": "stdout",
     "output_type": "stream",
     "text": [
      "450000\n",
      "450000\n"
     ]
    },
    {
     "name": "stderr",
     "output_type": "stream",
     "text": [
      " 50%|████████████████████████████████████████                                         | 52/105 [00:09<00:09,  5.30it/s]"
     ]
    },
    {
     "name": "stdout",
     "output_type": "stream",
     "text": [
      "450000\n",
      "450000\n"
     ]
    },
    {
     "name": "stderr",
     "output_type": "stream",
     "text": [
      " 51%|█████████████████████████████████████████▋                                       | 54/105 [00:09<00:09,  5.48it/s]"
     ]
    },
    {
     "name": "stdout",
     "output_type": "stream",
     "text": [
      "450000\n",
      "450000\n"
     ]
    },
    {
     "name": "stderr",
     "output_type": "stream",
     "text": [
      " 53%|███████████████████████████████████████████▏                                     | 56/105 [00:09<00:08,  5.46it/s]"
     ]
    },
    {
     "name": "stdout",
     "output_type": "stream",
     "text": [
      "450000\n",
      "450000\n"
     ]
    },
    {
     "name": "stderr",
     "output_type": "stream",
     "text": [
      " 55%|████████████████████████████████████████████▋                                    | 58/105 [00:10<00:08,  5.47it/s]"
     ]
    },
    {
     "name": "stdout",
     "output_type": "stream",
     "text": [
      "450000\n",
      "450000\n"
     ]
    },
    {
     "name": "stderr",
     "output_type": "stream",
     "text": [
      " 57%|██████████████████████████████████████████████▎                                  | 60/105 [00:10<00:08,  5.53it/s]"
     ]
    },
    {
     "name": "stdout",
     "output_type": "stream",
     "text": [
      "450000\n",
      "450000\n"
     ]
    },
    {
     "name": "stderr",
     "output_type": "stream",
     "text": [
      "\r",
      " 58%|███████████████████████████████████████████████                                  | 61/105 [00:10<00:07,  5.60it/s]"
     ]
    },
    {
     "name": "stdout",
     "output_type": "stream",
     "text": [
      "450000\n"
     ]
    },
    {
     "name": "stderr",
     "output_type": "stream",
     "text": [
      " 61%|█████████████████████████████████████████████████▎                               | 64/105 [00:11<00:07,  5.26it/s]"
     ]
    },
    {
     "name": "stdout",
     "output_type": "stream",
     "text": [
      "450000\n",
      "450000\n",
      "450000\n"
     ]
    },
    {
     "name": "stderr",
     "output_type": "stream",
     "text": [
      " 63%|██████████████████████████████████████████████████▉                              | 66/105 [00:11<00:07,  5.49it/s]"
     ]
    },
    {
     "name": "stdout",
     "output_type": "stream",
     "text": [
      "450000\n",
      "450000\n"
     ]
    },
    {
     "name": "stderr",
     "output_type": "stream",
     "text": [
      " 65%|████████████████████████████████████████████████████▍                            | 68/105 [00:12<00:06,  5.50it/s]"
     ]
    },
    {
     "name": "stdout",
     "output_type": "stream",
     "text": [
      "450000\n",
      "450000\n"
     ]
    },
    {
     "name": "stderr",
     "output_type": "stream",
     "text": [
      "\r",
      " 66%|█████████████████████████████████████████████████████▏                           | 69/105 [00:12<00:06,  5.35it/s]"
     ]
    },
    {
     "name": "stdout",
     "output_type": "stream",
     "text": [
      "450000\n"
     ]
    },
    {
     "name": "stderr",
     "output_type": "stream",
     "text": [
      "\r",
      " 67%|██████████████████████████████████████████████████████                           | 70/105 [00:12<00:06,  5.22it/s]"
     ]
    },
    {
     "name": "stdout",
     "output_type": "stream",
     "text": [
      "450000\n"
     ]
    },
    {
     "name": "stderr",
     "output_type": "stream",
     "text": [
      "\r",
      " 68%|██████████████████████████████████████████████████████▊                          | 71/105 [00:12<00:06,  4.98it/s]"
     ]
    },
    {
     "name": "stdout",
     "output_type": "stream",
     "text": [
      "450000\n"
     ]
    },
    {
     "name": "stderr",
     "output_type": "stream",
     "text": [
      "\r",
      " 69%|███████████████████████████████████████████████████████▌                         | 72/105 [00:13<00:06,  4.87it/s]"
     ]
    },
    {
     "name": "stdout",
     "output_type": "stream",
     "text": [
      "450000\n"
     ]
    },
    {
     "name": "stderr",
     "output_type": "stream",
     "text": [
      " 70%|█████████████████████████████████████████████████████████                        | 74/105 [00:13<00:06,  5.01it/s]"
     ]
    },
    {
     "name": "stdout",
     "output_type": "stream",
     "text": [
      "450000\n",
      "450000\n"
     ]
    },
    {
     "name": "stderr",
     "output_type": "stream",
     "text": [
      "\r",
      " 71%|█████████████████████████████████████████████████████████▊                       | 75/105 [00:13<00:05,  5.05it/s]"
     ]
    },
    {
     "name": "stdout",
     "output_type": "stream",
     "text": [
      "450000\n"
     ]
    },
    {
     "name": "stderr",
     "output_type": "stream",
     "text": [
      "\r",
      " 72%|██████████████████████████████████████████████████████████▋                      | 76/105 [00:13<00:05,  4.84it/s]"
     ]
    },
    {
     "name": "stdout",
     "output_type": "stream",
     "text": [
      "450000\n",
      "450000\n"
     ]
    },
    {
     "name": "stderr",
     "output_type": "stream",
     "text": [
      " 75%|████████████████████████████████████████████████████████████▉                    | 79/105 [00:14<00:05,  4.96it/s]"
     ]
    },
    {
     "name": "stdout",
     "output_type": "stream",
     "text": [
      "450000\n",
      "450000\n"
     ]
    },
    {
     "name": "stderr",
     "output_type": "stream",
     "text": [
      " 77%|██████████████████████████████████████████████████████████████▍                  | 81/105 [00:14<00:04,  5.16it/s]"
     ]
    },
    {
     "name": "stdout",
     "output_type": "stream",
     "text": [
      "450000\n",
      "450000\n"
     ]
    },
    {
     "name": "stderr",
     "output_type": "stream",
     "text": [
      "\r",
      " 78%|███████████████████████████████████████████████████████████████▎                 | 82/105 [00:14<00:04,  5.29it/s]"
     ]
    },
    {
     "name": "stdout",
     "output_type": "stream",
     "text": [
      "450000\n"
     ]
    },
    {
     "name": "stderr",
     "output_type": "stream",
     "text": [
      "\r",
      " 79%|████████████████████████████████████████████████████████████████                 | 83/105 [00:15<00:04,  5.06it/s]"
     ]
    },
    {
     "name": "stdout",
     "output_type": "stream",
     "text": [
      "450000\n"
     ]
    },
    {
     "name": "stderr",
     "output_type": "stream",
     "text": [
      " 81%|█████████████████████████████████████████████████████████████████▌               | 85/105 [00:15<00:04,  4.97it/s]"
     ]
    },
    {
     "name": "stdout",
     "output_type": "stream",
     "text": [
      "450000\n",
      "450000\n"
     ]
    },
    {
     "name": "stderr",
     "output_type": "stream",
     "text": [
      " 83%|███████████████████████████████████████████████████████████████████              | 87/105 [00:15<00:03,  5.27it/s]"
     ]
    },
    {
     "name": "stdout",
     "output_type": "stream",
     "text": [
      "450000\n",
      "450000\n"
     ]
    },
    {
     "name": "stderr",
     "output_type": "stream",
     "text": [
      " 85%|████████████████████████████████████████████████████████████████████▋            | 89/105 [00:16<00:02,  5.48it/s]"
     ]
    },
    {
     "name": "stdout",
     "output_type": "stream",
     "text": [
      "450000\n",
      "450000\n"
     ]
    },
    {
     "name": "stderr",
     "output_type": "stream",
     "text": [
      " 87%|██████████████████████████████████████████████████████████████████████▏          | 91/105 [00:16<00:02,  5.63it/s]"
     ]
    },
    {
     "name": "stdout",
     "output_type": "stream",
     "text": [
      "450000\n",
      "450000\n"
     ]
    },
    {
     "name": "stderr",
     "output_type": "stream",
     "text": [
      " 89%|███████████████████████████████████████████████████████████████████████▋         | 93/105 [00:17<00:02,  5.58it/s]"
     ]
    },
    {
     "name": "stdout",
     "output_type": "stream",
     "text": [
      "450000\n",
      "450000\n"
     ]
    },
    {
     "name": "stderr",
     "output_type": "stream",
     "text": [
      " 90%|█████████████████████████████████████████████████████████████████████████▎       | 95/105 [00:17<00:01,  5.72it/s]"
     ]
    },
    {
     "name": "stdout",
     "output_type": "stream",
     "text": [
      "450000\n",
      "450000\n"
     ]
    },
    {
     "name": "stderr",
     "output_type": "stream",
     "text": [
      " 92%|██████████████████████████████████████████████████████████████████████████▊      | 97/105 [00:17<00:01,  5.72it/s]"
     ]
    },
    {
     "name": "stdout",
     "output_type": "stream",
     "text": [
      "450000\n",
      "450000\n"
     ]
    },
    {
     "name": "stderr",
     "output_type": "stream",
     "text": [
      " 94%|████████████████████████████████████████████████████████████████████████████▎    | 99/105 [00:18<00:01,  5.70it/s]"
     ]
    },
    {
     "name": "stdout",
     "output_type": "stream",
     "text": [
      "450000\n",
      "450000\n"
     ]
    },
    {
     "name": "stderr",
     "output_type": "stream",
     "text": [
      " 96%|████████████████████████████████████████████████████████████████████████████▉   | 101/105 [00:18<00:00,  5.66it/s]"
     ]
    },
    {
     "name": "stdout",
     "output_type": "stream",
     "text": [
      "450000\n",
      "450000\n"
     ]
    },
    {
     "name": "stderr",
     "output_type": "stream",
     "text": [
      " 98%|██████████████████████████████████████████████████████████████████████████████▍ | 103/105 [00:18<00:00,  5.71it/s]"
     ]
    },
    {
     "name": "stdout",
     "output_type": "stream",
     "text": [
      "450000\n",
      "450000\n"
     ]
    },
    {
     "name": "stderr",
     "output_type": "stream",
     "text": [
      "100%|████████████████████████████████████████████████████████████████████████████████| 105/105 [00:19<00:00,  5.05it/s]"
     ]
    },
    {
     "name": "stdout",
     "output_type": "stream",
     "text": [
      "450000\n",
      "450000\n"
     ]
    },
    {
     "name": "stderr",
     "output_type": "stream",
     "text": [
      "100%|████████████████████████████████████████████████████████████████████████████████| 105/105 [00:19<00:00,  5.46it/s]\n"
     ]
    }
   ],
   "source": [
    "# scale data in the filtered dataset in a 10 s time window 250*10 samples \n",
    "\n",
    "fs = 250\n",
    "time_window = 10\n",
    "samples = fs * time_window \n",
    "\n",
    "for id in tqdm(filtered_df.index.tolist()):\n",
    "    row = filtered_df.loc[id]\n",
    "    first_lead = row['ecg_lead_1']\n",
    "    second_lead = row['ecg_lead_2']\n",
    "    l_ = len(first_lead)\n",
    "    scaled_1 = list()\n",
    "    scaled_2 = list()\n",
    "    \n",
    "    for i in range(int(l_/samples)):\n",
    "        to_scale_1 = first_lead[i*samples:i*samples+samples] \n",
    "        to_scale_2 = second_lead[i*samples:i*samples+samples]\n",
    "        \n",
    "        scaled_1 += list(hp.scale_data(to_scale_1,lower=0,upper=1))\n",
    "        scaled_2 += list(hp.scale_data(to_scale_2,lower=0,upper=1))\n",
    "    print(len(scaled_1))\n",
    "    filtered_df.loc[id]['ecg_lead_1'] = scaled_1\n",
    "    filtered_df.loc[id]['ecg_lead_2'] = scaled_2\n"
   ]
  },
  {
   "cell_type": "code",
   "execution_count": 63,
   "id": "9f7388e1",
   "metadata": {},
   "outputs": [
    {
     "name": "stderr",
     "output_type": "stream",
     "text": [
      "  0%|                                                                                          | 0/105 [00:00<?, ?it/s]C:\\Users\\simon\\AppData\\Local\\Temp/ipykernel_20848/1816920695.py:24: RuntimeWarning: Mean of empty slice.\n",
      "  RR_dict[sig_Id]['AVG_S_distance'] = RR_dict[sig_Id]['S_distances'].mean()\n",
      "100%|███████████████████████████████████████████████████████████████████████████████| 105/105 [00:00<00:00, 375.82it/s]\n"
     ]
    },
    {
     "data": {
      "text/html": [
       "<div>\n",
       "<style scoped>\n",
       "    .dataframe tbody tr th:only-of-type {\n",
       "        vertical-align: middle;\n",
       "    }\n",
       "\n",
       "    .dataframe tbody tr th {\n",
       "        vertical-align: top;\n",
       "    }\n",
       "\n",
       "    .dataframe thead th {\n",
       "        text-align: right;\n",
       "    }\n",
       "</style>\n",
       "<table border=\"1\" class=\"dataframe\">\n",
       "  <thead>\n",
       "    <tr style=\"text-align: right;\">\n",
       "      <th></th>\n",
       "      <th>RR_distances</th>\n",
       "      <th>S_distances</th>\n",
       "      <th>Avg_RR_distance</th>\n",
       "      <th>AVG_S_distance</th>\n",
       "    </tr>\n",
       "  </thead>\n",
       "  <tbody>\n",
       "    <tr>\n",
       "      <th>S114</th>\n",
       "      <td>[228, 228, 224, 218, 222, 222, 222, 220, 226, ...</td>\n",
       "      <td>[]</td>\n",
       "      <td>223.842278</td>\n",
       "      <td>NaN</td>\n",
       "    </tr>\n",
       "    <tr>\n",
       "      <th>S115</th>\n",
       "      <td>[222, 230, 156, 230, 240, 148, 232, 216, 210, ...</td>\n",
       "      <td>[144]</td>\n",
       "      <td>172.064542</td>\n",
       "      <td>144.000000</td>\n",
       "    </tr>\n",
       "    <tr>\n",
       "      <th>S116</th>\n",
       "      <td>[244, 242, 226, 226, 216, 216, 208, 196, 222, ...</td>\n",
       "      <td>[146]</td>\n",
       "      <td>227.509934</td>\n",
       "      <td>146.000000</td>\n",
       "    </tr>\n",
       "    <tr>\n",
       "      <th>S117</th>\n",
       "      <td>[238, 248, 244, 242, 246, 232, 248, 246, 246, ...</td>\n",
       "      <td>[232, 194, 180, 196, 192, 180, 178, 178, 174, ...</td>\n",
       "      <td>197.463626</td>\n",
       "      <td>163.209964</td>\n",
       "    </tr>\n",
       "    <tr>\n",
       "      <th>S118</th>\n",
       "      <td>[166, 164, 168, 158, 160, 166, 159, 162, 162, ...</td>\n",
       "      <td>[]</td>\n",
       "      <td>183.494896</td>\n",
       "      <td>NaN</td>\n",
       "    </tr>\n",
       "  </tbody>\n",
       "</table>\n",
       "</div>"
      ],
      "text/plain": [
       "                                           RR_distances  \\\n",
       "S114  [228, 228, 224, 218, 222, 222, 222, 220, 226, ...   \n",
       "S115  [222, 230, 156, 230, 240, 148, 232, 216, 210, ...   \n",
       "S116  [244, 242, 226, 226, 216, 216, 208, 196, 222, ...   \n",
       "S117  [238, 248, 244, 242, 246, 232, 248, 246, 246, ...   \n",
       "S118  [166, 164, 168, 158, 160, 166, 159, 162, 162, ...   \n",
       "\n",
       "                                            S_distances  Avg_RR_distance  \\\n",
       "S114                                                 []       223.842278   \n",
       "S115                                              [144]       172.064542   \n",
       "S116                                              [146]       227.509934   \n",
       "S117  [232, 194, 180, 196, 192, 180, 178, 178, 174, ...       197.463626   \n",
       "S118                                                 []       183.494896   \n",
       "\n",
       "      AVG_S_distance  \n",
       "S114             NaN  \n",
       "S115      144.000000  \n",
       "S116      146.000000  \n",
       "S117      163.209964  \n",
       "S118             NaN  "
      ]
     },
     "execution_count": 63,
     "metadata": {},
     "output_type": "execute_result"
    }
   ],
   "source": [
    "signal_ids = filtered_df.index.tolist()\n",
    "RR_dict = {}\n",
    "\n",
    "for id_ in tqdm(signal_ids):  \n",
    "  sig_Id = df.iloc[id_]['sigId']\n",
    "  RR_dict[sig_Id] = {}\n",
    "  RR_dict[sig_Id]['RR_distances'] = list()\n",
    "  RR_dict[sig_Id]['S_distances'] = list()\n",
    "  \n",
    "  peaks = df.iloc[id_]['peaks']\n",
    "  labels = df.iloc[id_]['labels']\n",
    "\n",
    "  for i,p in enumerate(peaks[1:-1]):\n",
    "    RR_distance = p-peaks[i]\n",
    "    if(RR_distance < 250): # discard outliers\n",
    "      RR_dict[sig_Id]['RR_distances'].append(RR_distance)\n",
    "      if(labels[i+1] == 'S'):\n",
    "        RR_dict[sig_Id]['S_distances'].append(RR_distance)\n",
    "\n",
    "  RR_dict[sig_Id]['RR_distances'] = np.asarray(RR_dict[sig_Id]['RR_distances'])\n",
    "  RR_dict[sig_Id]['S_distances'] = np.asarray(RR_dict[sig_Id]['S_distances'])\n",
    "\n",
    "  RR_dict[sig_Id]['Avg_RR_distance'] = RR_dict[sig_Id]['RR_distances'].mean()\n",
    "  RR_dict[sig_Id]['AVG_S_distance'] = RR_dict[sig_Id]['S_distances'].mean()\n",
    "\n",
    "\n",
    "RR_df = pd.DataFrame.from_dict(RR_dict,orient=\"index\")\n",
    "RR_df.tail()"
   ]
  },
  {
   "cell_type": "code",
   "execution_count": 64,
   "id": "66d20b37",
   "metadata": {},
   "outputs": [],
   "source": [
    "import heartpy as hp \n",
    "\n",
    "classes = np.array([\"N\",\"S\",\"V\"])\n",
    "\n",
    "patch_length = 400\n",
    "\n",
    "def convert_to_one_hot(label):\n",
    "    return np.array(classes == label,dtype=np.float32)\n",
    "\n",
    "def create_patch_dataset(df):\n",
    "    \n",
    "    dataset_dict = {}\n",
    "    ids = df['sigId']\n",
    "   \n",
    "    for id in tqdm(ids):\n",
    "        row = df[df['sigId'] == id]\n",
    "        sigId = row['sigId'].values[0]\n",
    "        peaks = row['peaks'].values[0]\n",
    "        first_lead_signal = row['ecg_lead_1'].values[0]\n",
    "        second_lead_signal = row['ecg_lead_2'].values[0]\n",
    "        labels = row['labels'].values[0]\n",
    "        \n",
    "        avg_RR = RR_df.loc[sigId]['Avg_RR_distance'] # T for the signal \n",
    "\n",
    "        for i,peak in enumerate(peaks):\n",
    "            stringIdx = str(sigId)+'_'+str(i)    \n",
    "            dataset_dict[stringIdx] = {}\n",
    "            dataset_dict[stringIdx][\"first_lead\"] = list()\n",
    "            dataset_dict[stringIdx][\"second_lead\"] = list()\n",
    "            \n",
    "            size = list(range(int(peak-(patch_length/2)),int(peak+patch_length/2)))\n",
    "\n",
    "            for s in size:\n",
    "                if(s < 0 or s >= len(first_lead_signal)):\n",
    "                    dataset_dict[stringIdx][\"first_lead\"].append(0.)\n",
    "                    dataset_dict[stringIdx][\"second_lead\"].append(0.)\n",
    "                else:\n",
    "                    dataset_dict[stringIdx][\"first_lead\"].append(first_lead_signal[s])\n",
    "                    dataset_dict[stringIdx][\"second_lead\"].append(second_lead_signal[s])\n",
    "            \n",
    "            first_lead = dataset_dict[stringIdx][\"first_lead\"][:]\n",
    "            second_lead = dataset_dict[stringIdx][\"second_lead\"][:]\n",
    "            \n",
    "            #dataset_dict[stringIdx][\"first_lead\"] = hp.enhance_peaks(first_lead, iterations=1)\n",
    "            #dataset_dict[stringIdx][\"second_lead\"] = hp.enhance_peaks(first_lead, iterations=1)\n",
    "            \n",
    "            dataset_dict[stringIdx][\"stringLabel\"] = labels[i]\n",
    "            dataset_dict[stringIdx][\"label\"] = convert_to_one_hot(labels[i])\n",
    "\n",
    "    dataset_df = pd.DataFrame.from_dict(dataset_dict,orient=\"index\")\n",
    "    return dataset_df\n"
   ]
  },
  {
   "cell_type": "code",
   "execution_count": 65,
   "id": "4ad011ee",
   "metadata": {},
   "outputs": [
    {
     "name": "stderr",
     "output_type": "stream",
     "text": [
      "100%|██████████████████████████████████████████████████████████████████████████████████| 84/84 [00:57<00:00,  1.47it/s]\n",
      "100%|██████████████████████████████████████████████████████████████████████████████████| 21/21 [00:05<00:00,  3.82it/s]\n"
     ]
    }
   ],
   "source": [
    "validation_percentage = 0.2\n",
    "training_df, validation_df = train_test_split(filtered_df,test_size = validation_percentage,random_state=SEED)\n",
    "\n",
    "training_patches_df_ = create_patch_dataset(training_df)\n",
    "validation_patches_df_ = create_patch_dataset(validation_df)"
   ]
  },
  {
   "cell_type": "code",
   "execution_count": 66,
   "id": "6005711d",
   "metadata": {},
   "outputs": [
    {
     "data": {
      "text/html": [
       "<div>\n",
       "<style scoped>\n",
       "    .dataframe tbody tr th:only-of-type {\n",
       "        vertical-align: middle;\n",
       "    }\n",
       "\n",
       "    .dataframe tbody tr th {\n",
       "        vertical-align: top;\n",
       "    }\n",
       "\n",
       "    .dataframe thead th {\n",
       "        text-align: right;\n",
       "    }\n",
       "</style>\n",
       "<table border=\"1\" class=\"dataframe\">\n",
       "  <thead>\n",
       "    <tr style=\"text-align: right;\">\n",
       "      <th></th>\n",
       "      <th>first_lead</th>\n",
       "      <th>second_lead</th>\n",
       "      <th>stringLabel</th>\n",
       "      <th>label</th>\n",
       "    </tr>\n",
       "  </thead>\n",
       "  <tbody>\n",
       "    <tr>\n",
       "      <th>S097_0</th>\n",
       "      <td>[0.0, 0.0, 0.0, 0.0, 0.0, 0.0, 0.0, 0.0, 0.0, ...</td>\n",
       "      <td>[0.0, 0.0, 0.0, 0.0, 0.0, 0.0, 0.0, 0.0, 0.0, ...</td>\n",
       "      <td>N</td>\n",
       "      <td>[1.0, 0.0, 0.0]</td>\n",
       "    </tr>\n",
       "    <tr>\n",
       "      <th>S097_1</th>\n",
       "      <td>[0.9580070239423568, 0.9044837476636258, 0.785...</td>\n",
       "      <td>[0.713288770919864, 0.8458495429006658, 0.9387...</td>\n",
       "      <td>N</td>\n",
       "      <td>[1.0, 0.0, 0.0]</td>\n",
       "    </tr>\n",
       "    <tr>\n",
       "      <th>S097_2</th>\n",
       "      <td>[0.7672940776207775, 0.7870035599502193, 0.799...</td>\n",
       "      <td>[0.2168754104759363, 0.22320038213098628, 0.23...</td>\n",
       "      <td>N</td>\n",
       "      <td>[1.0, 0.0, 0.0]</td>\n",
       "    </tr>\n",
       "    <tr>\n",
       "      <th>S097_3</th>\n",
       "      <td>[0.7011402691586823, 0.8031266876022192, 0.833...</td>\n",
       "      <td>[0.07939469693321582, 0.15298963418648673, 0.2...</td>\n",
       "      <td>N</td>\n",
       "      <td>[1.0, 0.0, 0.0]</td>\n",
       "    </tr>\n",
       "    <tr>\n",
       "      <th>S097_4</th>\n",
       "      <td>[0.03814290879468285, 0.0, 0.0898866660918213,...</td>\n",
       "      <td>[0.5283502311750367, 0.31129590244398064, 0.14...</td>\n",
       "      <td>N</td>\n",
       "      <td>[1.0, 0.0, 0.0]</td>\n",
       "    </tr>\n",
       "  </tbody>\n",
       "</table>\n",
       "</div>"
      ],
      "text/plain": [
       "                                               first_lead  \\\n",
       "S097_0  [0.0, 0.0, 0.0, 0.0, 0.0, 0.0, 0.0, 0.0, 0.0, ...   \n",
       "S097_1  [0.9580070239423568, 0.9044837476636258, 0.785...   \n",
       "S097_2  [0.7672940776207775, 0.7870035599502193, 0.799...   \n",
       "S097_3  [0.7011402691586823, 0.8031266876022192, 0.833...   \n",
       "S097_4  [0.03814290879468285, 0.0, 0.0898866660918213,...   \n",
       "\n",
       "                                              second_lead stringLabel  \\\n",
       "S097_0  [0.0, 0.0, 0.0, 0.0, 0.0, 0.0, 0.0, 0.0, 0.0, ...           N   \n",
       "S097_1  [0.713288770919864, 0.8458495429006658, 0.9387...           N   \n",
       "S097_2  [0.2168754104759363, 0.22320038213098628, 0.23...           N   \n",
       "S097_3  [0.07939469693321582, 0.15298963418648673, 0.2...           N   \n",
       "S097_4  [0.5283502311750367, 0.31129590244398064, 0.14...           N   \n",
       "\n",
       "                  label  \n",
       "S097_0  [1.0, 0.0, 0.0]  \n",
       "S097_1  [1.0, 0.0, 0.0]  \n",
       "S097_2  [1.0, 0.0, 0.0]  \n",
       "S097_3  [1.0, 0.0, 0.0]  \n",
       "S097_4  [1.0, 0.0, 0.0]  "
      ]
     },
     "execution_count": 66,
     "metadata": {},
     "output_type": "execute_result"
    }
   ],
   "source": [
    "training_patches_df_.head()"
   ]
  },
  {
   "cell_type": "code",
   "execution_count": 67,
   "id": "1e39cc15",
   "metadata": {},
   "outputs": [
    {
     "name": "stdout",
     "output_type": "stream",
     "text": [
      "['S097_139', 'S097_579', 'S097_680', 'S097_1487', 'S054_14', 'S054_17', 'S054_19', 'S054_23', 'S054_25', 'S054_29']\n"
     ]
    },
    {
     "data": {
      "image/png": "[encoded data removed]",
      "text/plain": [
       "<Figure size 432x288 with 1 Axes>"
      ]
     },
     "metadata": {
      "needs_background": "light"
     },
     "output_type": "display_data"
    },
    {
     "data": {
      "image/png": "[encoded data removed]",
      "text/plain": [
       "<Figure size 432x288 with 1 Axes>"
      ]
     },
     "metadata": {
      "needs_background": "light"
     },
     "output_type": "display_data"
    }
   ],
   "source": [
    "def plot_patch(id):\n",
    "    fig,ax = plt.subplots()\n",
    "    y1 = training_patches_df_.loc[id]['first_lead']\n",
    "    y2 = training_patches_df_.loc[id]['second_lead']\n",
    "    x = list(range(len(y1)))\n",
    "    ax.plot(x,y1,color='green')\n",
    "    plt.show()\n",
    "    \n",
    "ids_V = training_patches_df_.index[training_patches_df_['stringLabel'] == 'V'].tolist()\n",
    "ids_S = training_patches_df_.index[training_patches_df_['stringLabel'] == 'S'].tolist()\n",
    "ids_N = training_patches_df_.index[training_patches_df_['stringLabel'] == 'N'].tolist()\n",
    "print(ids_V[:10])\n",
    "plot_patch(ids_S[10])\n",
    "plot_patch(ids_N[90])\n"
   ]
  },
  {
   "cell_type": "code",
   "execution_count": 68,
   "id": "563be7d2",
   "metadata": {},
   "outputs": [
    {
     "data": {
      "text/html": [
       "<div>\n",
       "<style scoped>\n",
       "    .dataframe tbody tr th:only-of-type {\n",
       "        vertical-align: middle;\n",
       "    }\n",
       "\n",
       "    .dataframe tbody tr th {\n",
       "        vertical-align: top;\n",
       "    }\n",
       "\n",
       "    .dataframe thead th {\n",
       "        text-align: right;\n",
       "    }\n",
       "</style>\n",
       "<table border=\"1\" class=\"dataframe\">\n",
       "  <thead>\n",
       "    <tr style=\"text-align: right;\">\n",
       "      <th></th>\n",
       "      <th>first_lead</th>\n",
       "      <th>second_lead</th>\n",
       "      <th>stringLabel</th>\n",
       "      <th>label</th>\n",
       "    </tr>\n",
       "  </thead>\n",
       "  <tbody>\n",
       "    <tr>\n",
       "      <th>S097_0</th>\n",
       "      <td>[0.0, 0.0, 0.0, 0.0, 0.0, 0.0, 0.0, 0.0, 0.0, ...</td>\n",
       "      <td>[0.0, 0.0, 0.0, 0.0, 0.0, 0.0, 0.0, 0.0, 0.0, ...</td>\n",
       "      <td>N</td>\n",
       "      <td>[1.0, 0.0, 0.0]</td>\n",
       "    </tr>\n",
       "    <tr>\n",
       "      <th>S097_1</th>\n",
       "      <td>[0.9580070239423568, 0.9044837476636258, 0.785...</td>\n",
       "      <td>[0.713288770919864, 0.8458495429006658, 0.9387...</td>\n",
       "      <td>N</td>\n",
       "      <td>[1.0, 0.0, 0.0]</td>\n",
       "    </tr>\n",
       "    <tr>\n",
       "      <th>S097_2</th>\n",
       "      <td>[0.7672940776207775, 0.7870035599502193, 0.799...</td>\n",
       "      <td>[0.2168754104759363, 0.22320038213098628, 0.23...</td>\n",
       "      <td>N</td>\n",
       "      <td>[1.0, 0.0, 0.0]</td>\n",
       "    </tr>\n",
       "    <tr>\n",
       "      <th>S097_3</th>\n",
       "      <td>[0.7011402691586823, 0.8031266876022192, 0.833...</td>\n",
       "      <td>[0.07939469693321582, 0.15298963418648673, 0.2...</td>\n",
       "      <td>N</td>\n",
       "      <td>[1.0, 0.0, 0.0]</td>\n",
       "    </tr>\n",
       "    <tr>\n",
       "      <th>S097_4</th>\n",
       "      <td>[0.03814290879468285, 0.0, 0.0898866660918213,...</td>\n",
       "      <td>[0.5283502311750367, 0.31129590244398064, 0.14...</td>\n",
       "      <td>N</td>\n",
       "      <td>[1.0, 0.0, 0.0]</td>\n",
       "    </tr>\n",
       "  </tbody>\n",
       "</table>\n",
       "</div>"
      ],
      "text/plain": [
       "                                               first_lead  \\\n",
       "S097_0  [0.0, 0.0, 0.0, 0.0, 0.0, 0.0, 0.0, 0.0, 0.0, ...   \n",
       "S097_1  [0.9580070239423568, 0.9044837476636258, 0.785...   \n",
       "S097_2  [0.7672940776207775, 0.7870035599502193, 0.799...   \n",
       "S097_3  [0.7011402691586823, 0.8031266876022192, 0.833...   \n",
       "S097_4  [0.03814290879468285, 0.0, 0.0898866660918213,...   \n",
       "\n",
       "                                              second_lead stringLabel  \\\n",
       "S097_0  [0.0, 0.0, 0.0, 0.0, 0.0, 0.0, 0.0, 0.0, 0.0, ...           N   \n",
       "S097_1  [0.713288770919864, 0.8458495429006658, 0.9387...           N   \n",
       "S097_2  [0.2168754104759363, 0.22320038213098628, 0.23...           N   \n",
       "S097_3  [0.07939469693321582, 0.15298963418648673, 0.2...           N   \n",
       "S097_4  [0.5283502311750367, 0.31129590244398064, 0.14...           N   \n",
       "\n",
       "                  label  \n",
       "S097_0  [1.0, 0.0, 0.0]  \n",
       "S097_1  [1.0, 0.0, 0.0]  \n",
       "S097_2  [1.0, 0.0, 0.0]  \n",
       "S097_3  [1.0, 0.0, 0.0]  \n",
       "S097_4  [1.0, 0.0, 0.0]  "
      ]
     },
     "execution_count": 68,
     "metadata": {},
     "output_type": "execute_result"
    }
   ],
   "source": [
    "training_patches_df_.head()"
   ]
  },
  {
   "cell_type": "code",
   "execution_count": 69,
   "id": "db0175d8",
   "metadata": {},
   "outputs": [
    {
     "name": "stdout",
     "output_type": "stream",
     "text": [
      "How many training indx: 183323\n",
      "Balancing training...\n",
      "pre drop: 198588\n",
      "post drop:23825\n",
      "43609\n",
      "1091\n",
      "1048\n",
      "Balancing validation\n"
     ]
    },
    {
     "data": {
      "image/png": "[encoded data removed]",
      "text/plain": [
       "<Figure size 432x288 with 2 Axes>"
      ]
     },
     "metadata": {},
     "output_type": "display_data"
    }
   ],
   "source": [
    "#Balance training and validation sets \n",
    "training_patches_df = training_patches_df_.copy(deep=True)\n",
    "validation_patches_df = validation_patches_df_.copy(deep=True)\n",
    "\n",
    "training_df.head()\n",
    "\n",
    "training_patients = training_df['sigId']\n",
    "validation_patients = validation_df['sigId']\n",
    "\n",
    "# calculate percentage of heartbeats to drop \n",
    "\n",
    "num_n = len(training_patches_df[(training_patches_df['stringLabel']=='N')])\n",
    "num_s = len(training_patches_df[(training_patches_df['stringLabel']=='S')])\n",
    "num_v = len(training_patches_df[(training_patches_df['stringLabel']=='V')])\n",
    "to_drop = num_n - max(num_s,num_v)\n",
    "perc_to_drop_train = to_drop/(num_n)\n",
    "\n",
    "num_n = len(validation_patches_df[(validation_patches_df['stringLabel']=='N')])\n",
    "num_s = len(validation_patches_df[(validation_patches_df['stringLabel']=='S')])\n",
    "num_v = len(validation_patches_df[(validation_patches_df['stringLabel']=='V')])\n",
    "to_drop = num_n - max(num_s,num_v)\n",
    "perc_to_drop_valid = to_drop/(num_n)\n",
    "\n",
    "train_indexes = training_patches_df.index[training_patches_df['stringLabel'] == 'N'].tolist()\n",
    "valid_indexes = validation_patches_df.index[validation_patches_df['stringLabel'] == 'N'].tolist()\n",
    "\n",
    "print(f\"How many training indx: {len(train_indexes)}\")\n",
    "\n",
    "train_to_drop = list()\n",
    "valid_to_drop = list()\n",
    "lengths = list()\n",
    "dict_train = {}\n",
    "valid_train = {}\n",
    "\n",
    "print(\"Balancing training...\")\n",
    "\n",
    "for p in training_patients:\n",
    "    dict_train[p] = list()\n",
    "\n",
    "for hb in train_indexes:\n",
    "    dict_train[hb.split('_')[0]].append(hb)\n",
    "\n",
    "for p in dict_train:\n",
    "   random.shuffle(dict_train[p])\n",
    "\n",
    "for k in dict_train:\n",
    "    train_to_drop += dict_train[k][:int(len(dict_train[k]) * perc_to_drop_train)]\n",
    "\n",
    "print(f\"pre drop: {len(training_patches_df.index)}\")\n",
    "training_patches_df = training_patches_df.drop(train_to_drop)\n",
    "print(f\"post drop:{len(training_patches_df.index)}\")\n",
    "print(num_n)\n",
    "print(num_s)\n",
    "print(num_v)\n",
    "print(\"Balancing validation\")\n",
    "\n",
    "for p in validation_patients:\n",
    "    valid_train[p] = list()\n",
    "    \n",
    "for hb in valid_indexes:\n",
    "    valid_train[hb.split('_')[0]].append(hb)\n",
    "\n",
    "for p in valid_train:\n",
    "    random.shuffle(valid_train[p])\n",
    "\n",
    "for k in valid_train:\n",
    "    valid_to_drop += valid_train[k][:int(perc_to_drop_valid * len(valid_train[k]))]\n",
    "\n",
    "validation_balanced_patches_df = validation_patches_df.drop(valid_to_drop)\n",
    "\n",
    "\n",
    "training_labels = training_patches_df['stringLabel'].values\n",
    "validation_labels = validation_balanced_patches_df['stringLabel'].values\n",
    "\n",
    "classes = [\"N\",\"S\",\"V\"]\n",
    "\n",
    "training_counts = [0]*3\n",
    "validation_counts = [0]*3\n",
    "\n",
    "for l in training_labels:\n",
    "    training_counts[classes.index(l)] += 1\n",
    "for l in validation_labels:\n",
    "    validation_counts[classes.index(l)] += 1\n",
    "\n",
    "fig1, (ax1,ax2) = plt.subplots(1,2)\n",
    "\n",
    "ax1.pie(training_counts, explode=None, labels=classes, autopct='%1.1f%%',\n",
    "        shadow=False, startangle=90)\n",
    "ax1.axis('equal')  \n",
    "ax2.pie(validation_counts, explode=None, labels=classes, autopct='%1.1f%%',\n",
    "        shadow=False, startangle=90)\n",
    "ax2.axis('equal')  \n",
    "\n",
    "fig1.set_facecolor(\"white\")\n",
    "\n",
    "plt.show()\n"
   ]
  },
  {
   "cell_type": "code",
   "execution_count": 70,
   "id": "ba26da76",
   "metadata": {},
   "outputs": [],
   "source": [
    "def create_input(df):\n",
    "    \n",
    "    x = list()\n",
    "    y = list()\n",
    "    \n",
    "    for id in tqdm(df.index.tolist()):\n",
    "        row = df.loc[id]\n",
    "        x.append(np.transpose(np.asarray([row['first_lead'],row['second_lead']]).astype(np.float32)))\n",
    "        y.append(row['label'])\n",
    "\n",
    "    x = np.asarray(x).astype(np.float32)\n",
    "    y = np.asarray(y).astype(np.float32)\n",
    "    \n",
    "    return x,y"
   ]
  },
  {
   "cell_type": "code",
   "execution_count": 71,
   "id": "c761f625",
   "metadata": {},
   "outputs": [
    {
     "name": "stderr",
     "output_type": "stream",
     "text": [
      "100%|█████████████████████████████████████████████████████████████████████████| 23825/23825 [00:01<00:00, 14657.32it/s]\n",
      "100%|███████████████████████████████████████████████████████████████████████████| 3239/3239 [00:00<00:00, 13580.72it/s]\n",
      "100%|█████████████████████████████████████████████████████████████████████████| 45748/45748 [00:03<00:00, 14675.33it/s]\n"
     ]
    }
   ],
   "source": [
    "x_train,y_train = create_input(training_patches_df)\n",
    "x_valid,y_valid = create_input(validation_balanced_patches_df)\n",
    "x_test,y_test = create_input(validation_patches_df)"
   ]
  },
  {
   "cell_type": "code",
   "execution_count": null,
   "id": "2a1415c6",
   "metadata": {},
   "outputs": [
    {
     "name": "stdout",
     "output_type": "stream",
     "text": [
      "Epoch 1/100\n",
      "186/186 [==============================] - 158s 776ms/step - loss: 1.9117 - precision: 0.3606 - accuracy: 0.3587 - val_loss: 1.1591 - val_precision: 0.4831 - val_accuracy: 0.3362\n",
      "Epoch 2/100\n",
      "127/186 [===================>..........] - ETA: 44s - loss: 1.3607 - precision: 0.4326 - accuracy: 0.4189"
     ]
    }
   ],
   "source": [
    "import seaborn as sns\n",
    "from keras.utils.vis_utils import plot_model\n",
    "from math import gcd\n",
    "from sklearn.utils.class_weight import compute_class_weight\n",
    "\n",
    "batch_size = 128\n",
    "input_shape = x_train[0].shape\n",
    "\n",
    "def ResBs_Conv(block_input, num_filters): \n",
    "   \n",
    "    # 0. Filter Block input and BatchNormalization\n",
    "    block_input = keras.layers.Conv1D(num_filters, kernel_size=7, strides = 2,  padding = 'same')(block_input) \n",
    "    block_input = keras.layers.BatchNormalization()(block_input)\n",
    "\n",
    "    # 1. First Convolutional Layer\n",
    "    conv1 = keras.layers.Conv1D(filters=num_filters, kernel_size=7, padding= 'same')(block_input)\n",
    "    norm1 = keras.layers.BatchNormalization()(conv1)\n",
    "    relu1 = keras.layers.Activation('relu')(norm1)  \n",
    "    dropout = keras.layers.Dropout(0.2)(relu1)\n",
    "    \n",
    "    # 2. Second Convolutional Layer \n",
    "    conv2 = keras.layers.Conv1D(num_filters, kernel_size=7, padding= 'same')(dropout) #per avere concordanza\n",
    "    norm2 = keras.layers.BatchNormalization()(conv2)\n",
    "\n",
    "    # 3. Summing Layer (adding a residual connection)\n",
    "    sum = keras.layers.Add()([block_input, norm2])\n",
    "    \n",
    "    # 4. Activation Layer\n",
    "    relu2 = keras.layers.Activation('relu')(sum)\n",
    "    \n",
    "    return relu2 \n",
    "\n",
    "def ResBs_Identity(block_input, num_filters): \n",
    "\n",
    "    # 1. First Convolutional Layer\n",
    "    conv1 = keras.layers.Conv1D(filters=num_filters, kernel_size=7, padding= 'same')(block_input)\n",
    "    norm1 = keras.layers.BatchNormalization()(conv1)\n",
    "    relu1 = keras.layers.Activation('relu')(norm1)    \n",
    "    dropout = keras.layers.Dropout(0.2)(relu1)\n",
    "    \n",
    "    # 2. Second Convolutional Layer \n",
    "    conv2 = keras.layers.Conv1D(num_filters, kernel_size=7, padding= 'same')(dropout) #per avere concordanza\n",
    "    norm2 = keras.layers.BatchNormalization()(conv2)\n",
    "\n",
    "    # 3. Summing Layer (adding a residual connection)\n",
    "    sum = keras.layers.Add()([block_input, norm2])\n",
    "    \n",
    "    # 4. Activation Layer\n",
    "    relu2 = keras.layers.Activation('relu')(sum)\n",
    "    \n",
    "    return relu2 \n",
    "\n",
    "#N= number of blocks in resnet, ch = different channels, win_len = common lenght for ecg signals, classes=..\n",
    "def resnet(N=10, custom_loss = None): \n",
    "    ecg_input = keras.layers.Input(shape=input_shape, name='ecg_signal') \n",
    "    ResNet = keras.layers.Conv1D(filters=64,kernel_size=15, padding = 'same')(ecg_input) \n",
    "    ResNet = keras.layers.BatchNormalization()(ResNet)\n",
    "    ResNet = keras.layers.Activation('relu')(ResNet)\n",
    "    ResNet = keras.layers.MaxPooling1D(pool_size=2, strides = 2)(ResNet)\n",
    "    \n",
    "    # B.5 ResBs (x8) blocks\n",
    "    # First two ResNet blocks are identity blocks \n",
    "    ResNet = ResBs_Identity(ResNet, 64)\n",
    "    ResNet = ResBs_Identity(ResNet, 64)\n",
    "\n",
    "    filters = 64\n",
    "    M= int((N -2 )/2)\n",
    "    for i in range(M): \n",
    "        filters = filters*2\n",
    "        # define N-th ResBs block\n",
    "        ResNet = ResBs_Conv(ResNet, filters)\n",
    "        ResNet = ResBs_Identity(ResNet, filters)\n",
    "    \n",
    "    ResNet = keras.layers.GlobalMaxPooling1D(name='gmp_layer')(ResNet)\n",
    "    #Not necessary?\n",
    "    #ResNet = Flatten()(ResNet) \n",
    "\n",
    "    # Sigmoid activation function on the last layer to retrieve all the combination, instead of softmax\n",
    "    ResNet = keras.layers.Dense(3, activation='softmax',  name='softmax_classifier')(ResNet)\n",
    "\n",
    "    # Finally the model is composed by connecting inputs to outputs: \n",
    "    model = keras.Model(inputs=[ecg_input],outputs=ResNet)\n",
    "    return model\n",
    "\n",
    "nn= resnet()\n",
    "\n",
    "callback = keras.callbacks.EarlyStopping(\n",
    "    monitor='val_loss', \n",
    "    patience=10,\n",
    "    mode=\"auto\",\n",
    "    restore_best_weights=True,\n",
    "\n",
    ")\n",
    "\n",
    "es = keras.callbacks.EarlyStopping(\n",
    "    monitor='val_loss', patience=10,mode=\"auto\", restore_best_weights=True)\n",
    "pl= keras.callbacks.ReduceLROnPlateau(\n",
    "    monitor='val_loss',patience=4,factor=0.1,verbose=1,min_lr=1e-11)\n",
    "callbacks = [es]\n",
    "\n",
    "nn= resnet()\n",
    "\n",
    "\n",
    "\n",
    "learning_rate = 1e-6\n",
    "\n",
    "lr_schedule = keras.optimizers.schedules.ExponentialDecay(\n",
    "    initial_learning_rate=learning_rate,\n",
    "    decay_steps=10000,\n",
    "    decay_rate=0.75)\n",
    "\n",
    "optimizer = tf.keras.optimizers.Adam(\n",
    "    learning_rate=learning_rate,\n",
    "    name=\"Adam\",\n",
    ")\n",
    "\n",
    "\n",
    "nn.compile(\n",
    "    optimizer = optimizer,\n",
    "    loss = 'categorical_crossentropy',\n",
    "    metrics = ['Precision','accuracy'],\n",
    ")\n",
    "\n",
    "y_integers = np.argmax(y_train, axis=1)\n",
    "class_weights = compute_class_weight(\n",
    "                                            class_weight = 'balanced', \n",
    "                                            classes = np.unique(y_integers), \n",
    "                                            y = y_integers \n",
    "                                        )\n",
    "d_class_weights = dict(enumerate(class_weights))\n",
    "\n",
    "history = nn.fit(\n",
    "    x = x_train,\n",
    "    y = y_train, \n",
    "    batch_size = batch_size,\n",
    "    steps_per_epoch=len(x_train)/batch_size,\n",
    "    validation_data=(x_valid, y_valid),\n",
    "    epochs = 100,\n",
    "    shuffle = True,\n",
    "    callbacks=callbacks,\n",
    "    #class_weight = d_class_weights\n",
    ").history\n",
    "\n",
    "#validation_data=(X_val_filt, y_val),"
   ]
  },
  {
   "cell_type": "code",
   "execution_count": null,
   "id": "2404cc15",
   "metadata": {},
   "outputs": [],
   "source": [
    "\n",
    "\n",
    "# take also old samples to assess performances \n",
    "def plot_confusion_matrix(y_true, y_pred,normalized):\n",
    "    \"\"\"\n",
    "    :param ndarray y_true: contains the ground truth labels in the shape (n_samples,)\n",
    "    :param ndarray y_pred: contains the predicted labels in the shape (n_samples,)\n",
    "    \"\"\"\n",
    "    con_mat = tf.math.confusion_matrix(labels=y_val_classes, predictions=y_pred).numpy()\n",
    "    if (normalized):\n",
    "      con_mat_norm = np.around(con_mat.astype('float') / con_mat.sum(axis=1)[:, np.newaxis], decimals=2)\n",
    "      con_mat_df = pd.DataFrame(con_mat_norm,\n",
    "                      index = classes, \n",
    "                      columns = classes)\n",
    "    else:\n",
    "        con_mat_df = pd.DataFrame(con_mat,\n",
    "                      index = classes, \n",
    "                      columns = classes)\n",
    "    figure = plt.figure(figsize=(8, 8))\n",
    "    sns.heatmap(con_mat_df, annot=True,cmap=plt.cm.Blues)\n",
    "    plt.tight_layout()\n",
    "    plt.ylabel('True label')\n",
    "    plt.xlabel('Predicted label')\n",
    "    plt.show()\n",
    "    return con_mat\n",
    "\n",
    "\n",
    "print(\"Making predictions ...\",end=\"\\r\")\n",
    "\n",
    "y_pred= nn.predict(x_test)\n",
    "\n",
    "y_pred=np.argmax(y_pred,axis=1)\n",
    "y_val_classes=np.argmax(y_test, axis=1)\n",
    "\n",
    "conf = plot_confusion_matrix(y_val_classes, y_pred,0)\n",
    "conf = plot_confusion_matrix(y_val_classes, y_pred,1)"
   ]
  },
  {
   "cell_type": "code",
   "execution_count": null,
   "id": "7b51b935",
   "metadata": {},
   "outputs": [],
   "source": []
  },
  {
   "cell_type": "code",
   "execution_count": null,
   "id": "a9cab96c",
   "metadata": {},
   "outputs": [],
   "source": []
  },
  {
   "cell_type": "code",
   "execution_count": null,
   "id": "9704261f",
   "metadata": {},
   "outputs": [],
   "source": []
  }
 ],
 "metadata": {
  "kernelspec": {
   "display_name": "Python 3 (ipykernel)",
   "language": "python",
   "name": "python3"
  },
  "language_info": {
   "codemirror_mode": {
    "name": "ipython",
    "version": 3
   },
   "file_extension": ".py",
   "mimetype": "text/x-python",
   "name": "python",
   "nbconvert_exporter": "python",
   "pygments_lexer": "ipython3",
   "version": "3.9.7"
  }
 },
 "nbformat": 4,
 "nbformat_minor": 5
}
