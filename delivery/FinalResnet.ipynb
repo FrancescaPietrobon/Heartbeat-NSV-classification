{
  "cells": [
    {
      "cell_type": "markdown",
      "metadata": {
        "id": "view-in-github",
        "colab_type": "text"
      },
      "source": [
        "<a href=\"https://colab.research.google.com/github/simonetome/ApplieAI-Biomedicine-Masciulli-Pietrobon-Tome/blob/main/delivery/FinalResnet.ipynb\" target=\"_parent\"><img src=\"https://colab.research.google.com/assets/colab-badge.svg\" alt=\"Open In Colab\"/></a>"
      ]
    },
    {
      "cell_type": "code",
      "source": [
        "!pip install heartpy\n",
        "!pip install PyWavelets"
      ],
      "metadata": {
        "id": "l1CgC3jGsC2d"
      },
      "id": "l1CgC3jGsC2d",
      "execution_count": null,
      "outputs": []
    },
    {
      "cell_type": "code",
      "execution_count": null,
      "id": "7bfe12d7",
      "metadata": {
        "id": "7bfe12d7"
      },
      "outputs": [],
      "source": [
        "import os \n",
        "import zipfile \n",
        "from scipy.io import loadmat \n",
        "import pandas as pd\n",
        "import matplotlib.pyplot as plt \n",
        "import numpy as np\n",
        "import io\n",
        "from PIL import Image\n",
        "import tensorflow as tf \n",
        "from tensorflow import keras\n",
        "import sys\n",
        "from scipy.signal import resample, butter, lfilter, iirnotch\n",
        "from tqdm import tqdm\n",
        "import random\n",
        "from sklearn.model_selection import train_test_split\n",
        "import heartpy as hp\n",
        "from tensorflow.keras.callbacks import ModelCheckpoint,EarlyStopping,ReduceLROnPlateau\n",
        "import pywt as pw\n",
        "SEED = 123\n",
        "tf.random.set_seed(SEED)\n",
        "np.random.seed(SEED)\n",
        "random.seed(SEED)\n",
        "os.environ['PYTHONHASHSEED'] = str(SEED)"
      ]
    },
    {
      "cell_type": "code",
      "source": [
        "#IF Colab cloud GPU used -> Mount the My Drive folder and set cwd\n",
        "from google.colab import drive\n",
        "drive.mount('/content/drive')\n",
        "cwd = '/content/drive/My Drive/FinalAssignment'\n",
        "os.chdir(cwd)\n",
        "dataset_folder = os.path.join(cwd,'training_set_dir')"
      ],
      "metadata": {
        "colab": {
          "base_uri": "https://localhost:8080/"
        },
        "id": "iiM7KQvEsJjV",
        "outputId": "b1eb8829-11c2-4d95-98f2-de163dc55f1c"
      },
      "id": "iiM7KQvEsJjV",
      "execution_count": null,
      "outputs": [
        {
          "output_type": "stream",
          "name": "stdout",
          "text": [
            "Mounted at /content/drive\n"
          ]
        }
      ]
    },
    {
      "cell_type": "code",
      "execution_count": null,
      "id": "5fcdb248",
      "metadata": {
        "id": "5fcdb248"
      },
      "outputs": [],
      "source": [
        "#IF run locally\n",
        "dataset_current_folder = \"training_set.zip\" # where the zip is\n",
        "dataset_folder = \"C://Users//simon//Desktop//AppliedAI-project\" # where I want the dataset - avoid the current folder as Git doesn't allow huge uploads\n",
        "\n",
        "with zipfile.ZipFile(dataset_current_folder, 'r') as zip: # extract the zip file into the desired folder \n",
        "    zip.extractall(dataset_folder)"
      ]
    },
    {
      "cell_type": "code",
      "source": [
        "#IF local runtime used -> Set os.cwd as google drive volume , mounted locally\n",
        "os.chdir('G:\\Il mio Drive')\n",
        "cwd = os.getcwd()\n",
        "cwd = os.path.join(cwd,'Colab2022/AppliedAI/FinalAssignment')\n",
        "os.chdir(cwd)\n",
        "dataset_current_folder = \"training_set.zip\" # where the zip is\n",
        "dataset_folder = os.path.join(cwd,'training_set_dir')\n"
      ],
      "metadata": {
        "id": "HsPnFitKvg0j"
      },
      "id": "HsPnFitKvg0j",
      "execution_count": null,
      "outputs": []
    },
    {
      "cell_type": "code",
      "execution_count": null,
      "id": "26e300ba",
      "metadata": {
        "id": "26e300ba",
        "colab": {
          "base_uri": "https://localhost:8080/",
          "height": 223
        },
        "outputId": "e9b91ecf-6e9e-4313-ce46-11bdd8438b41"
      },
      "outputs": [
        {
          "output_type": "stream",
          "name": "stderr",
          "text": [
            "100%|██████████████████████████████████████████████████████████████████████████████| 105/105 [00:00<00:00, 1156.93it/s]\n"
          ]
        },
        {
          "output_type": "execute_result",
          "data": {
            "text/plain": [
              "  sigId                                         ecg_lead_1  \\\n",
              "0  S001  [0.0, 0.04, 0.03, 0.0, 0.03, 0.09, 0.18, 0.14,...   \n",
              "1  S002  [-0.035, -0.045, -0.025, -0.035, -0.045, -0.05...   \n",
              "2  S003  [-0.56, -0.56, -0.55, -0.47, -0.53, -0.47, -0....   \n",
              "3  S004  [-0.46, -0.49, -0.52, -0.58, -0.62, -0.69, -0....   \n",
              "4  S005  [-0.27, -0.17, -0.13, -0.23, -0.18, -0.23, -0....   \n",
              "\n",
              "                                          ecg_lead_2  \\\n",
              "0  [0.08, 0.07, 0.1, 0.06, 0.06, 0.03, 0.1, 0.21,...   \n",
              "1  [-0.095, -0.105, -0.095, -0.095, -0.115, -0.09...   \n",
              "2  [0.43, 0.56, 0.6, 0.41, 0.54, 0.48, 0.56, 0.46...   \n",
              "3  [0.56, 0.61, 0.66, 0.66, 0.63, 0.66, 0.59, 0.5...   \n",
              "4  [-0.02, -0.04, -0.01, -0.01, -0.02, -0.06, 0.0...   \n",
              "\n",
              "                                               peaks frequencies  \\\n",
              "0  [29, 110, 191, 272, 353, 433, 514, 595, 676, 7...         128   \n",
              "1  [48, 153, 243, 352, 440, 547, 636, 742, 831, 9...         128   \n",
              "2  [91, 209, 326, 394, 537, 653, 745, 872, 984, 1...         128   \n",
              "3  [98, 223, 349, 474, 599, 726, 853, 980, 1116, ...         128   \n",
              "4  [27, 127, 225, 324, 423, 523, 623, 722, 822, 9...         128   \n",
              "\n",
              "                                              labels  \n",
              "0  [N, N, N, N, N, N, N, N, N, N, N, N, N, N, N, ...  \n",
              "1  [N, N, N, N, S, N, S, N, S, N, S, N, S, N, S, ...  \n",
              "2  [N, N, N, S, N, N, S, N, N, S, N, N, N, N, N, ...  \n",
              "3  [N, N, N, N, N, N, N, N, N, N, N, N, N, N, N, ...  \n",
              "4  [N, N, N, N, N, N, N, N, N, N, N, N, N, N, N, ...  "
            ],
            "text/html": [
              "<div>\n",
              "<style scoped>\n",
              "    .dataframe tbody tr th:only-of-type {\n",
              "        vertical-align: middle;\n",
              "    }\n",
              "\n",
              "    .dataframe tbody tr th {\n",
              "        vertical-align: top;\n",
              "    }\n",
              "\n",
              "    .dataframe thead th {\n",
              "        text-align: right;\n",
              "    }\n",
              "</style>\n",
              "<table border=\"1\" class=\"dataframe\">\n",
              "  <thead>\n",
              "    <tr style=\"text-align: right;\">\n",
              "      <th></th>\n",
              "      <th>sigId</th>\n",
              "      <th>ecg_lead_1</th>\n",
              "      <th>ecg_lead_2</th>\n",
              "      <th>peaks</th>\n",
              "      <th>frequencies</th>\n",
              "      <th>labels</th>\n",
              "    </tr>\n",
              "  </thead>\n",
              "  <tbody>\n",
              "    <tr>\n",
              "      <th>0</th>\n",
              "      <td>S001</td>\n",
              "      <td>[0.0, 0.04, 0.03, 0.0, 0.03, 0.09, 0.18, 0.14,...</td>\n",
              "      <td>[0.08, 0.07, 0.1, 0.06, 0.06, 0.03, 0.1, 0.21,...</td>\n",
              "      <td>[29, 110, 191, 272, 353, 433, 514, 595, 676, 7...</td>\n",
              "      <td>128</td>\n",
              "      <td>[N, N, N, N, N, N, N, N, N, N, N, N, N, N, N, ...</td>\n",
              "    </tr>\n",
              "    <tr>\n",
              "      <th>1</th>\n",
              "      <td>S002</td>\n",
              "      <td>[-0.035, -0.045, -0.025, -0.035, -0.045, -0.05...</td>\n",
              "      <td>[-0.095, -0.105, -0.095, -0.095, -0.115, -0.09...</td>\n",
              "      <td>[48, 153, 243, 352, 440, 547, 636, 742, 831, 9...</td>\n",
              "      <td>128</td>\n",
              "      <td>[N, N, N, N, S, N, S, N, S, N, S, N, S, N, S, ...</td>\n",
              "    </tr>\n",
              "    <tr>\n",
              "      <th>2</th>\n",
              "      <td>S003</td>\n",
              "      <td>[-0.56, -0.56, -0.55, -0.47, -0.53, -0.47, -0....</td>\n",
              "      <td>[0.43, 0.56, 0.6, 0.41, 0.54, 0.48, 0.56, 0.46...</td>\n",
              "      <td>[91, 209, 326, 394, 537, 653, 745, 872, 984, 1...</td>\n",
              "      <td>128</td>\n",
              "      <td>[N, N, N, S, N, N, S, N, N, S, N, N, N, N, N, ...</td>\n",
              "    </tr>\n",
              "    <tr>\n",
              "      <th>3</th>\n",
              "      <td>S004</td>\n",
              "      <td>[-0.46, -0.49, -0.52, -0.58, -0.62, -0.69, -0....</td>\n",
              "      <td>[0.56, 0.61, 0.66, 0.66, 0.63, 0.66, 0.59, 0.5...</td>\n",
              "      <td>[98, 223, 349, 474, 599, 726, 853, 980, 1116, ...</td>\n",
              "      <td>128</td>\n",
              "      <td>[N, N, N, N, N, N, N, N, N, N, N, N, N, N, N, ...</td>\n",
              "    </tr>\n",
              "    <tr>\n",
              "      <th>4</th>\n",
              "      <td>S005</td>\n",
              "      <td>[-0.27, -0.17, -0.13, -0.23, -0.18, -0.23, -0....</td>\n",
              "      <td>[-0.02, -0.04, -0.01, -0.01, -0.02, -0.06, 0.0...</td>\n",
              "      <td>[27, 127, 225, 324, 423, 523, 623, 722, 822, 9...</td>\n",
              "      <td>128</td>\n",
              "      <td>[N, N, N, N, N, N, N, N, N, N, N, N, N, N, N, ...</td>\n",
              "    </tr>\n",
              "  </tbody>\n",
              "</table>\n",
              "</div>"
            ]
          },
          "metadata": {},
          "execution_count": 3
        }
      ],
      "source": [
        "def load_data(sample_prefix, input_dir):    # everything is returned as a numpy array which is easier to manipulate\n",
        "    label_filepath = os.path.join(input_dir, sample_prefix + '_ann.mat')\n",
        "    peak_filepath = os.path.join(input_dir, sample_prefix + '_rpk.mat')\n",
        "    signal_filepath = os.path.join(input_dir, sample_prefix + '.mat')\n",
        "    if os.path.isfile(label_filepath):\n",
        "        mat_file = loadmat(label_filepath)\n",
        "        label = np.asarray(mat_file['labels'])\n",
        "    if os.path.isfile(peak_filepath):\n",
        "        mat_file = loadmat(peak_filepath)\n",
        "        peaks = np.array(mat_file['rpeaks'],dtype=np.int64)\n",
        "    if os.path.isfile(signal_filepath):\n",
        "        mat_file = loadmat(signal_filepath)\n",
        "        signal = np.asarray(mat_file['ecg'] )\n",
        "\n",
        "    return label, peaks, signal\n",
        "\n",
        "\n",
        "labels = list()             # labels \n",
        "ids = list()                # Id of samples \n",
        "rpeaks = list()             # detected peaks of the signal \n",
        "ecg_signals = list()        # .mat ecg signal \n",
        "frequencies = list()        # sample frequency of the ecg signal \n",
        "\n",
        "\n",
        "for f in os.listdir(dataset_folder):\n",
        "  if f.lower().endswith('.mat'):\n",
        "    id = f[:4]\n",
        "    if id not in ids:\n",
        "      ids.append(id)\n",
        "      sample_prefix = f[:8]\n",
        "      label, peak, signal = load_data(sample_prefix, dataset_folder)\n",
        "      labels.append(label)\n",
        "      rpeaks.append(peak)\n",
        "      ecg_signals.append(signal)\n",
        "      frequencies.append(int(sample_prefix[5:]))\n",
        "cols = [\"sigId\",\"ecg_lead_1\",\"ecg_lead_2\",\"peaks\",\"frequencies\",\"labels\"]\n",
        "\n",
        "# ecg signals is 105 rows [,,,,,]\n",
        "\n",
        "first_lead_signals = []\n",
        "second_lead_signals = []\n",
        "\n",
        "for signal in ecg_signals:\n",
        "    first_lead_signals.append(signal[:,0].tolist())    # converting the array to list as list of array is deprecated \n",
        "    second_lead_signals.append(signal[:,1].tolist())\n",
        "\n",
        "df = pd.DataFrame(data =[ids,first_lead_signals,second_lead_signals,rpeaks,frequencies,labels]).T\n",
        "df.columns = cols\n",
        "\n",
        "# transform peaks \n",
        "for id in tqdm(df.index.tolist()):\n",
        "    peaks = df.iloc[id]['peaks']\n",
        "    p_list = list()\n",
        "    for p in peaks:\n",
        "        p_list.append(p[0])\n",
        "    df.iloc[id]['peaks'] = np.asarray(p_list).astype(np.int64)\n",
        "df = df.sort_values([\"sigId\"]).reset_index(drop=True)\n",
        "df.head()"
      ]
    },
    {
      "cell_type": "code",
      "execution_count": null,
      "id": "999717a8",
      "metadata": {
        "id": "999717a8",
        "outputId": "5b4b8b3b-e432-47bc-de6f-b09c2202b617",
        "colab": {
          "base_uri": "https://localhost:8080/"
        }
      },
      "outputs": [
        {
          "output_type": "stream",
          "name": "stderr",
          "text": [
            "100%|██████████████████████████████████████████████████████████████████████████████████| 40/40 [00:06<00:00,  6.37it/s]\n"
          ]
        }
      ],
      "source": [
        "# because of the curse of dimensionality --> undersampling \n",
        "\n",
        "from scipy.signal import resample\n",
        "\n",
        "ids_128 = df[df['frequencies'] == 128].index.tolist() # 65 signals are sampled using fs = 128\n",
        "ids_250 = df[df['frequencies'] == 250].index.tolist() # 65 signals are sampled using fs = 128\n",
        "sampled_len =  len(df.iloc[ids_250[0]]['ecg_lead_1'])\n",
        "resampled_len = len(df.iloc[ids_128[0]]['ecg_lead_1'])\n",
        "\n",
        "for id in tqdm(ids_250):\n",
        "    row = df.iloc[id]\n",
        "    # first lead\n",
        "    signal = np.asarray(row['ecg_lead_1']).astype(np.float32)\n",
        "    resampled_1 = resample(signal,resampled_len)\n",
        "    \n",
        "    # second lead\n",
        "    \n",
        "    signal = np.asarray(row['ecg_lead_2']).astype(np.float32)\n",
        "    resampled_2 = resample(signal,resampled_len)\n",
        "    \n",
        "    df.iloc[id]['ecg_lead_1'] = resampled_1.tolist()\n",
        "    df.iloc[id]['ecg_lead_2'] = resampled_2.tolist()\n",
        "    \n",
        "    for i,p in enumerate(list(df.iloc[id]['peaks'])):\n",
        "        df.iloc[id]['peaks'][i] = int(resampled_len * p/sampled_len)\n"
      ]
    },
    {
      "cell_type": "markdown",
      "metadata": {
        "id": "RJltVza9lkVw"
      },
      "source": [
        "<h2>Bandpass filtering"
      ],
      "id": "RJltVza9lkVw"
    },
    {
      "cell_type": "code",
      "source": [
        "#Preprocessing used in practical lessons\n",
        "from scipy.signal import resample, butter, lfilter, iirnotch\n",
        "\n",
        "def notch_filter(cutoff, fs, q=30):\n",
        "    nyq = 0.5*fs\n",
        "    freq = cutoff/nyq\n",
        "    b, a = iirnotch(freq, q)\n",
        "    return b, a\n",
        "\n",
        "\n",
        "def bandpass_filter(data, filter_order=6, lowcut = .8, highcut = 45, signal_freq=128):\n",
        "    \"\"\"\n",
        "    Method responsible for creating and applying Butterworth filter.\n",
        "    :param deque data: raw data\n",
        "    :param float lowcut: filter lowcut frequency value\n",
        "    :param float highcut: filter highcut frequency value\n",
        "    :param int signal_freq: signal frequency in samples per second (Hz)\n",
        "    :param int filter_order: filter order\n",
        "    :return array: filtered data\n",
        "    \"\"\"\n",
        "    powerline = 60\n",
        "    nyquist_freq = 0.5 * signal_freq\n",
        "    low = lowcut / nyquist_freq\n",
        "    high = highcut / nyquist_freq\n",
        "    b, a = butter(filter_order, [low, high], btype=\"band\")\n",
        "    y = lfilter(b, a, data,zi = None)\n",
        "    #b,a = notch_filter(powerline,signal_freq)\n",
        "    #y = lfilter(b,a,y)\n",
        "    return y\n",
        "\n",
        "\n",
        "\n",
        "filtered_df = df.copy(deep= True)\n",
        "\n",
        "ids = filtered_df.index.tolist()\n",
        "\n",
        "for id_ in tqdm(ids):\n",
        "    \n",
        "    row = filtered_df.iloc[id_]\n",
        "    first = row['ecg_lead_1']\n",
        "    second = row['ecg_lead_2']\n",
        "    filtered_first = np.asarray(bandpass_filter(first))\n",
        "    filtered_second =  np.asarray(bandpass_filter(second))\n",
        "\n",
        "    filtered_df.iloc[id_]['ecg_lead_1'] = pd.Series(filtered_first)\n",
        "    filtered_df.iloc[id_]['ecg_lead_2'] = pd.Series(filtered_second)"
      ],
      "metadata": {
        "id": "yyfwxPaQQlid",
        "colab": {
          "base_uri": "https://localhost:8080/"
        },
        "outputId": "ada03ea8-1c37-4db6-d78d-9d519242be23"
      },
      "id": "yyfwxPaQQlid",
      "execution_count": null,
      "outputs": [
        {
          "output_type": "stream",
          "name": "stderr",
          "text": [
            "100%|████████████████████████████████████████████████████████████████████████████████| 105/105 [00:02<00:00, 50.71it/s]\n"
          ]
        }
      ]
    },
    {
      "cell_type": "code",
      "execution_count": null,
      "id": "b8a6e546",
      "metadata": {
        "id": "b8a6e546",
        "outputId": "7c2ac8b3-8199-4823-e0d1-145f3f06f45b",
        "colab": {
          "base_uri": "https://localhost:8080/",
          "height": 1000
        }
      },
      "outputs": [
        {
          "output_type": "stream",
          "name": "stdout",
          "text": [
            "['N', 'N', 'S', 'N']\n"
          ]
        },
        {
          "output_type": "display_data",
          "data": {
            "text/plain": [
              "<Figure size 1332x756 with 2 Axes>"
            ],
            "image/png": "[encoded data removed]"
          },
          "metadata": {
            "needs_background": "light"
          }
        },
        {
          "output_type": "stream",
          "name": "stdout",
          "text": [
            "['N', 'N', 'S', 'N']\n"
          ]
        },
        {
          "output_type": "display_data",
          "data": {
            "text/plain": [
              "<Figure size 1332x756 with 2 Axes>"
            ],
            "image/png": "[encoded data removed]"
          },
          "metadata": {
            "needs_background": "light"
          }
        }
      ],
      "source": [
        "# plot signal \n",
        "from scipy.fft import fft, fftfreq\n",
        "\n",
        "def plot_signal(df,id,length):\n",
        "    fig,axs = plt.subplots(2)\n",
        "    fig.set_size_inches(18.5, 10.5)\n",
        "    ax1 = axs[0]\n",
        "    ax2 = axs[1]\n",
        "    \n",
        "    \n",
        "    signal = df.iloc[id]\n",
        "    \n",
        "    first_lead = signal['ecg_lead_1'][:length]\n",
        "    second_lead = signal['ecg_lead_2'][:length]\n",
        "    \n",
        "    peaks_ = signal['peaks']\n",
        "    labels_ = signal['labels']\n",
        "    \n",
        "    x = list(range(length))\n",
        "    \n",
        "    #ax1.plot(x,first_lead,color='blue')\n",
        "    #ax2.plot(x,second_lead,color='blue')\n",
        "    \n",
        "    ax1.plot(x,bandpass_filter(first_lead),color='green')\n",
        "    ax2.plot(x,bandpass_filter(second_lead),color='green')\n",
        "\n",
        "\n",
        "    \n",
        "    peaks = list()\n",
        "    p_amplitudes_first = list()\n",
        "    p_amplitudes_second = list()\n",
        "    labels = list()\n",
        "    \n",
        "    for i,p in enumerate(peaks_):\n",
        "        if(p <= length):\n",
        "            peaks.append(p)\n",
        "            p_amplitudes_first.append(first_lead[p])\n",
        "            p_amplitudes_second.append(second_lead[p])\n",
        "            labels.append(labels_[i])\n",
        "        else:\n",
        "            break\n",
        "            \n",
        "    ax1.scatter(peaks,p_amplitudes_first,color='red')\n",
        "    ax2.scatter(peaks,p_amplitudes_second,color='red')\n",
        "    offset = 10\n",
        "    \n",
        "    for i, txt in enumerate(labels):\n",
        "        ax1.annotate(txt, (peaks[i]+offset, p_amplitudes_first[i]),size = 14)\n",
        "        ax2.annotate(txt, (peaks[i]+offset, p_amplitudes_second[i]),size = 14)\n",
        "    \n",
        "    print(labels)\n",
        "    plt.show()\n",
        "\n",
        "plot_signal(df,50,400)\n",
        "plot_signal(filtered_df,50,400)"
      ]
    },
    {
      "cell_type": "markdown",
      "metadata": {
        "id": "GbEkpWlulkVx"
      },
      "source": [
        "<h2>Scaling to [0:1] in 10 seconds time window "
      ],
      "id": "GbEkpWlulkVx"
    },
    {
      "cell_type": "code",
      "source": [
        "import heartpy as hp\n",
        "\n",
        "fs = 128\n",
        "time_window = 10\n",
        "samples = fs * time_window ##\n",
        "\n",
        "for id in tqdm(filtered_df.index.tolist()):\n",
        "    row = filtered_df.loc[id]\n",
        "    first_lead = row['ecg_lead_1']\n",
        "    second_lead = row['ecg_lead_2']\n",
        "    l_ = len(first_lead)\n",
        "    scaled_1 = list()\n",
        "    scaled_2 = list()\n",
        "#    \n",
        "    for i in range(int(l_/samples)):\n",
        "        to_scale_1 = first_lead[i*samples:i*samples+samples] \n",
        "        to_scale_2 = second_lead[i*samples:i*samples+samples]\n",
        "#        \n",
        "        scaled_1 += list(hp.scale_data(to_scale_1,lower=0,upper=1))\n",
        "        scaled_2 += list(hp.scale_data(to_scale_2,lower=0,upper=1))\n",
        " ##   \n",
        "    filtered_df.loc[id]['ecg_lead_1'] = scaled_1\n",
        "    filtered_df.loc[id]['ecg_lead_2'] = scaled_2"
      ],
      "metadata": {
        "colab": {
          "base_uri": "https://localhost:8080/"
        },
        "id": "PUHZVzb7Opz7",
        "outputId": "efba6897-e9eb-44bb-805d-805aee4b4440"
      },
      "id": "PUHZVzb7Opz7",
      "execution_count": null,
      "outputs": [
        {
          "output_type": "stream",
          "name": "stderr",
          "text": [
            "100%|████████████████████████████████████████████████████████████████████████████████| 105/105 [00:19<00:00,  5.31it/s]\n"
          ]
        }
      ]
    },
    {
      "cell_type": "markdown",
      "metadata": {
        "id": "ivJyLPD2lkVy"
      },
      "source": [
        "<h2>Outliers detection and removal using zscore</h2>"
      ],
      "id": "ivJyLPD2lkVy"
    },
    {
      "cell_type": "code",
      "source": [
        "from scipy import stats\n",
        "\n",
        "# Function for the computation of rhythm data \n",
        "def get_2ECG_rhythmfeatures(data):\n",
        "  \n",
        "  #   mean\n",
        "  mean_lead = np.mean(data)\n",
        "\n",
        "  #   median\n",
        "  median_lead = np.median(data)\n",
        "\n",
        "  #   standard deviation\n",
        "  std_lead = np.std(data)\n",
        "\n",
        "  #   variance\n",
        "  var_lead = stats.tvar(data)\n",
        "\n",
        "  #   Skewness\n",
        "  skew_lead = stats.skew(data)\n",
        "\n",
        "  #   Kurtosis\n",
        "  kurt_lead = stats.kurtosis(data)\n",
        "\n",
        "  features = np.hstack([mean_lead,median_lead,std_lead,var_lead,skew_lead,kurt_lead])\n",
        "\n",
        "  return features\n",
        "#-------------------------------------------------------------------------------\n",
        "\n",
        "#Training\n",
        "\n",
        "features_rhythm_lead1 = list()\n",
        "features_rhythm_lead2 = list()\n",
        "\n",
        "\n",
        "for i in range(filtered_df.shape[0]):\n",
        "  tmp_lead1 = get_2ECG_rhythmfeatures(filtered_df['ecg_lead_1'][i])\n",
        "  features_rhythm_lead1.append(tmp_lead1)\n",
        "  tmp_lead2 = get_2ECG_rhythmfeatures(filtered_df['ecg_lead_2'][i])\n",
        "  features_rhythm_lead2.append(tmp_lead2)\n",
        "\n",
        "features_rhythm_lead1 = pd.DataFrame(features_rhythm_lead1, columns = ['mean_lead1', 'median_lead1', 'std_lead1', 'var_lead1', 'skew_lead1','kurt_lead1'])\n",
        "features_rhythm_lead2 = pd.DataFrame(features_rhythm_lead2, columns = ['mean_lead2', 'median_lead2', 'std_lead2', 'var_lead2', 'skew_lead2','kurt_lead2'])\n",
        "\n",
        "features_rhythm = pd.concat([features_rhythm_lead1, features_rhythm_lead2], axis=1)\n",
        "\n",
        "features = pd.DataFrame(features_rhythm, columns = ['mean_lead1', 'median_lead1', 'std_lead1', 'var_lead1', 'skew_lead1','kurt_lead1',\n",
        "                                                    'mean_lead2', 'median_lead2', 'std_lead2', 'var_lead2', 'skew_lead2','kurt_lead2'])\n",
        "display(features) "
      ],
      "metadata": {
        "colab": {
          "base_uri": "https://localhost:8080/",
          "height": 423
        },
        "id": "8Ccc6_SuSxUY",
        "outputId": "dfde3c65-33d4-42ca-f7d9-b3aa50dde8da"
      },
      "id": "8Ccc6_SuSxUY",
      "execution_count": null,
      "outputs": [
        {
          "output_type": "display_data",
          "data": {
            "text/plain": [
              "     mean_lead1  median_lead1  std_lead1  var_lead1  skew_lead1  kurt_lead1  \\\n",
              "0      0.476086      0.474618   0.128357   0.016476    0.065871    3.853435   \n",
              "1      0.309628      0.315643   0.118704   0.014091    2.242173   11.961672   \n",
              "2      0.462381      0.466913   0.122431   0.014989   -0.007802    2.618824   \n",
              "3      0.399816      0.366260   0.149092   0.022228    0.955791    1.976279   \n",
              "4      0.478230      0.488412   0.131123   0.017193   -0.046548    4.308083   \n",
              "..          ...           ...        ...        ...         ...         ...   \n",
              "100    0.394100      0.385903   0.132414   0.017534    0.582383    1.942821   \n",
              "101    0.437926      0.430825   0.127339   0.016215    0.479884    3.274700   \n",
              "102    0.345843      0.332378   0.115116   0.013252    1.653328    6.466284   \n",
              "103    0.514950      0.522097   0.098893   0.009780   -0.152302    9.197804   \n",
              "104    0.537678      0.539089   0.106207   0.011280   -0.579932    6.520010   \n",
              "\n",
              "     mean_lead2  median_lead2  std_lead2  var_lead2  skew_lead2  kurt_lead2  \n",
              "0      0.600828      0.613177   0.119664   0.014319   -1.328497    6.504245  \n",
              "1      0.662428      0.672944   0.144363   0.020841   -1.038713    3.939288  \n",
              "2      0.570732      0.586303   0.134329   0.018044   -0.788964    3.169306  \n",
              "3      0.658729      0.681179   0.162172   0.026300   -1.171663    1.827310  \n",
              "4      0.555436      0.561574   0.148968   0.022191   -0.156231    1.414820  \n",
              "..          ...           ...        ...        ...         ...         ...  \n",
              "100    0.426588      0.419286   0.116018   0.013460    0.446691    2.379165  \n",
              "101    0.444411      0.452348   0.126760   0.016068    0.327382    3.613294  \n",
              "102    0.403117      0.404505   0.114159   0.013032    0.996624    6.575469  \n",
              "103    0.461116      0.445006   0.129433   0.016753    0.508997    1.575390  \n",
              "104    0.659409      0.655174   0.129539   0.016781   -1.179600    6.316306  \n",
              "\n",
              "[105 rows x 12 columns]"
            ],
            "text/html": [
              "<div>\n",
              "<style scoped>\n",
              "    .dataframe tbody tr th:only-of-type {\n",
              "        vertical-align: middle;\n",
              "    }\n",
              "\n",
              "    .dataframe tbody tr th {\n",
              "        vertical-align: top;\n",
              "    }\n",
              "\n",
              "    .dataframe thead th {\n",
              "        text-align: right;\n",
              "    }\n",
              "</style>\n",
              "<table border=\"1\" class=\"dataframe\">\n",
              "  <thead>\n",
              "    <tr style=\"text-align: right;\">\n",
              "      <th></th>\n",
              "      <th>mean_lead1</th>\n",
              "      <th>median_lead1</th>\n",
              "      <th>std_lead1</th>\n",
              "      <th>var_lead1</th>\n",
              "      <th>skew_lead1</th>\n",
              "      <th>kurt_lead1</th>\n",
              "      <th>mean_lead2</th>\n",
              "      <th>median_lead2</th>\n",
              "      <th>std_lead2</th>\n",
              "      <th>var_lead2</th>\n",
              "      <th>skew_lead2</th>\n",
              "      <th>kurt_lead2</th>\n",
              "    </tr>\n",
              "  </thead>\n",
              "  <tbody>\n",
              "    <tr>\n",
              "      <th>0</th>\n",
              "      <td>0.476086</td>\n",
              "      <td>0.474618</td>\n",
              "      <td>0.128357</td>\n",
              "      <td>0.016476</td>\n",
              "      <td>0.065871</td>\n",
              "      <td>3.853435</td>\n",
              "      <td>0.600828</td>\n",
              "      <td>0.613177</td>\n",
              "      <td>0.119664</td>\n",
              "      <td>0.014319</td>\n",
              "      <td>-1.328497</td>\n",
              "      <td>6.504245</td>\n",
              "    </tr>\n",
              "    <tr>\n",
              "      <th>1</th>\n",
              "      <td>0.309628</td>\n",
              "      <td>0.315643</td>\n",
              "      <td>0.118704</td>\n",
              "      <td>0.014091</td>\n",
              "      <td>2.242173</td>\n",
              "      <td>11.961672</td>\n",
              "      <td>0.662428</td>\n",
              "      <td>0.672944</td>\n",
              "      <td>0.144363</td>\n",
              "      <td>0.020841</td>\n",
              "      <td>-1.038713</td>\n",
              "      <td>3.939288</td>\n",
              "    </tr>\n",
              "    <tr>\n",
              "      <th>2</th>\n",
              "      <td>0.462381</td>\n",
              "      <td>0.466913</td>\n",
              "      <td>0.122431</td>\n",
              "      <td>0.014989</td>\n",
              "      <td>-0.007802</td>\n",
              "      <td>2.618824</td>\n",
              "      <td>0.570732</td>\n",
              "      <td>0.586303</td>\n",
              "      <td>0.134329</td>\n",
              "      <td>0.018044</td>\n",
              "      <td>-0.788964</td>\n",
              "      <td>3.169306</td>\n",
              "    </tr>\n",
              "    <tr>\n",
              "      <th>3</th>\n",
              "      <td>0.399816</td>\n",
              "      <td>0.366260</td>\n",
              "      <td>0.149092</td>\n",
              "      <td>0.022228</td>\n",
              "      <td>0.955791</td>\n",
              "      <td>1.976279</td>\n",
              "      <td>0.658729</td>\n",
              "      <td>0.681179</td>\n",
              "      <td>0.162172</td>\n",
              "      <td>0.026300</td>\n",
              "      <td>-1.171663</td>\n",
              "      <td>1.827310</td>\n",
              "    </tr>\n",
              "    <tr>\n",
              "      <th>4</th>\n",
              "      <td>0.478230</td>\n",
              "      <td>0.488412</td>\n",
              "      <td>0.131123</td>\n",
              "      <td>0.017193</td>\n",
              "      <td>-0.046548</td>\n",
              "      <td>4.308083</td>\n",
              "      <td>0.555436</td>\n",
              "      <td>0.561574</td>\n",
              "      <td>0.148968</td>\n",
              "      <td>0.022191</td>\n",
              "      <td>-0.156231</td>\n",
              "      <td>1.414820</td>\n",
              "    </tr>\n",
              "    <tr>\n",
              "      <th>...</th>\n",
              "      <td>...</td>\n",
              "      <td>...</td>\n",
              "      <td>...</td>\n",
              "      <td>...</td>\n",
              "      <td>...</td>\n",
              "      <td>...</td>\n",
              "      <td>...</td>\n",
              "      <td>...</td>\n",
              "      <td>...</td>\n",
              "      <td>...</td>\n",
              "      <td>...</td>\n",
              "      <td>...</td>\n",
              "    </tr>\n",
              "    <tr>\n",
              "      <th>100</th>\n",
              "      <td>0.394100</td>\n",
              "      <td>0.385903</td>\n",
              "      <td>0.132414</td>\n",
              "      <td>0.017534</td>\n",
              "      <td>0.582383</td>\n",
              "      <td>1.942821</td>\n",
              "      <td>0.426588</td>\n",
              "      <td>0.419286</td>\n",
              "      <td>0.116018</td>\n",
              "      <td>0.013460</td>\n",
              "      <td>0.446691</td>\n",
              "      <td>2.379165</td>\n",
              "    </tr>\n",
              "    <tr>\n",
              "      <th>101</th>\n",
              "      <td>0.437926</td>\n",
              "      <td>0.430825</td>\n",
              "      <td>0.127339</td>\n",
              "      <td>0.016215</td>\n",
              "      <td>0.479884</td>\n",
              "      <td>3.274700</td>\n",
              "      <td>0.444411</td>\n",
              "      <td>0.452348</td>\n",
              "      <td>0.126760</td>\n",
              "      <td>0.016068</td>\n",
              "      <td>0.327382</td>\n",
              "      <td>3.613294</td>\n",
              "    </tr>\n",
              "    <tr>\n",
              "      <th>102</th>\n",
              "      <td>0.345843</td>\n",
              "      <td>0.332378</td>\n",
              "      <td>0.115116</td>\n",
              "      <td>0.013252</td>\n",
              "      <td>1.653328</td>\n",
              "      <td>6.466284</td>\n",
              "      <td>0.403117</td>\n",
              "      <td>0.404505</td>\n",
              "      <td>0.114159</td>\n",
              "      <td>0.013032</td>\n",
              "      <td>0.996624</td>\n",
              "      <td>6.575469</td>\n",
              "    </tr>\n",
              "    <tr>\n",
              "      <th>103</th>\n",
              "      <td>0.514950</td>\n",
              "      <td>0.522097</td>\n",
              "      <td>0.098893</td>\n",
              "      <td>0.009780</td>\n",
              "      <td>-0.152302</td>\n",
              "      <td>9.197804</td>\n",
              "      <td>0.461116</td>\n",
              "      <td>0.445006</td>\n",
              "      <td>0.129433</td>\n",
              "      <td>0.016753</td>\n",
              "      <td>0.508997</td>\n",
              "      <td>1.575390</td>\n",
              "    </tr>\n",
              "    <tr>\n",
              "      <th>104</th>\n",
              "      <td>0.537678</td>\n",
              "      <td>0.539089</td>\n",
              "      <td>0.106207</td>\n",
              "      <td>0.011280</td>\n",
              "      <td>-0.579932</td>\n",
              "      <td>6.520010</td>\n",
              "      <td>0.659409</td>\n",
              "      <td>0.655174</td>\n",
              "      <td>0.129539</td>\n",
              "      <td>0.016781</td>\n",
              "      <td>-1.179600</td>\n",
              "      <td>6.316306</td>\n",
              "    </tr>\n",
              "  </tbody>\n",
              "</table>\n",
              "<p>105 rows × 12 columns</p>\n",
              "</div>"
            ]
          },
          "metadata": {}
        }
      ]
    },
    {
      "cell_type": "code",
      "source": [
        "# Visualize data distribution for each feature\n",
        "for col in features.columns: \n",
        "      features.hist(column = col, bins = 50)"
      ],
      "metadata": {
        "colab": {
          "base_uri": "https://localhost:8080/",
          "height": 1000
        },
        "id": "IodQqzfpSz-L",
        "outputId": "31014d82-72f1-4b69-98b1-b4744bee9157"
      },
      "id": "IodQqzfpSz-L",
      "execution_count": null,
      "outputs": [
        {
          "output_type": "display_data",
          "data": {
            "text/plain": [
              "<Figure size 432x288 with 1 Axes>"
            ],
            "image/png": "[encoded data removed]"
          },
          "metadata": {
            "needs_background": "light"
          }
        },
        {
          "output_type": "display_data",
          "data": {
            "text/plain": [
              "<Figure size 432x288 with 1 Axes>"
            ],
            "image/png": "[encoded data removed]"
          },
          "metadata": {
            "needs_background": "light"
          }
        },
        {
          "output_type": "display_data",
          "data": {
            "text/plain": [
              "<Figure size 432x288 with 1 Axes>"
            ],
            "image/png": "[encoded data removed]"
          },
          "metadata": {
            "needs_background": "light"
          }
        },
        {
          "output_type": "display_data",
          "data": {
            "text/plain": [
              "<Figure size 432x288 with 1 Axes>"
            ],
            "image/png": "[encoded data removed]"
          },
          "metadata": {
            "needs_background": "light"
          }
        },
        {
          "output_type": "display_data",
          "data": {
            "text/plain": [
              "<Figure size 432x288 with 1 Axes>"
            ],
            "image/png": "[encoded data removed]"
          },
          "metadata": {
            "needs_background": "light"
          }
        },
        {
          "output_type": "display_data",
          "data": {
            "text/plain": [
              "<Figure size 432x288 with 1 Axes>"
            ],
            "image/png": "[encoded data removed]"
          },
          "metadata": {
            "needs_background": "light"
          }
        },
        {
          "output_type": "display_data",
          "data": {
            "text/plain": [
              "<Figure size 432x288 with 1 Axes>"
            ],
            "image/png": "[encoded data removed]"
          },
          "metadata": {
            "needs_background": "light"
          }
        },
        {
          "output_type": "display_data",
          "data": {
            "text/plain": [
              "<Figure size 432x288 with 1 Axes>"
            ],
            "image/png": "[encoded data removed]"
          },
          "metadata": {
            "needs_background": "light"
          }
        },
        {
          "output_type": "display_data",
          "data": {
            "text/plain": [
              "<Figure size 432x288 with 1 Axes>"
            ],
            "image/png": "[encoded data removed]"
          },
          "metadata": {
            "needs_background": "light"
          }
        },
        {
          "output_type": "display_data",
          "data": {
            "text/plain": [
              "<Figure size 432x288 with 1 Axes>"
            ],
            "image/png": "[encoded data removed]"
          },
          "metadata": {
            "needs_background": "light"
          }
        },
        {
          "output_type": "display_data",
          "data": {
            "text/plain": [
              "<Figure size 432x288 with 1 Axes>"
            ],
            "image/png": "[encoded data removed]"
          },
          "metadata": {
            "needs_background": "light"
          }
        },
        {
          "output_type": "display_data",
          "data": {
            "text/plain": [
              "<Figure size 432x288 with 1 Axes>"
            ],
            "image/png": "[encoded data removed]"
          },
          "metadata": {
            "needs_background": "light"
          }
        }
      ]
    },
    {
      "cell_type": "code",
      "source": [
        "def plot_outliersAnalysis(abs_zscores):\n",
        "  # number of outliers per subject \n",
        "  bool_zscores = (abs_zscores > 3).sum(axis=1)\n",
        "  bool_zscores.hist()\n",
        "  plt.title(\"Number of outliers per subject\")\n",
        "  plt.show()\n",
        "\n",
        "  # number of outliers per feature \n",
        "  bool_zscores = (abs_zscores > 3).sum(axis=0)\n",
        "  #bool_zscores.hist(bins = len(feature_list))\n",
        "  fig = plt.figure()\n",
        "  ax = fig.add_axes([0,0,1,1])\n",
        "\n",
        "  ax.bar(feature_list,bool_zscores)\n",
        "  plt.title(\"Number of outliers per feature\")\n",
        "  plt.xticks(np.arange(len(feature_list)), feature_list,rotation=90)\n",
        "  plt.show()\n",
        "  return"
      ],
      "metadata": {
        "id": "k_30FvRhS0in"
      },
      "id": "k_30FvRhS0in",
      "execution_count": null,
      "outputs": []
    },
    {
      "cell_type": "code",
      "source": [
        "# Perform z-scoring for outlier removal\n",
        "from scipy.stats import zscore\n",
        "import numpy as np\n",
        "\n",
        "feature_list = features.columns.tolist()\n",
        "print('Train subjects before outlier removal: ' + str(features.shape))\n",
        "\n",
        "# apply zscore\n",
        "zscore_features = features.apply(zscore, axis=0)\n",
        "\n",
        "# select all those values with zscore < -+ 3 and discard outliers \n",
        "abs_zscores = np.abs(zscore_features)\n",
        "filtered_entries = (abs_zscores < 3).all(axis=1)\n",
        "\n",
        "features_or = features[filtered_entries]\n",
        "\n",
        "print('Train subjects after outlier removal: ' + str(features_or.shape))\n",
        "\n",
        "\n",
        "plot_outliersAnalysis(abs_zscores)\n",
        "display(features_or)"
      ],
      "metadata": {
        "colab": {
          "base_uri": "https://localhost:8080/",
          "height": 1000
        },
        "id": "oCj4bYiRVsaQ",
        "outputId": "ecec38ef-03a4-439b-aeef-ccc838d640ac"
      },
      "id": "oCj4bYiRVsaQ",
      "execution_count": null,
      "outputs": [
        {
          "output_type": "stream",
          "name": "stdout",
          "text": [
            "Train subjects before outlier removal: (105, 12)\n",
            "Train subjects after outlier removal: (99, 12)\n"
          ]
        },
        {
          "output_type": "display_data",
          "data": {
            "text/plain": [
              "<Figure size 432x288 with 1 Axes>"
            ],
            "image/png": "[encoded data removed]"
          },
          "metadata": {
            "needs_background": "light"
          }
        },
        {
          "output_type": "display_data",
          "data": {
            "text/plain": [
              "<Figure size 432x288 with 1 Axes>"
            ],
            "image/png": "[encoded data removed]"
          },
          "metadata": {
            "needs_background": "light"
          }
        },
        {
          "output_type": "display_data",
          "data": {
            "text/plain": [
              "     mean_lead1  median_lead1  std_lead1  var_lead1  skew_lead1  kurt_lead1  \\\n",
              "0      0.476086      0.474618   0.128357   0.016476    0.065871    3.853435   \n",
              "1      0.309628      0.315643   0.118704   0.014091    2.242173   11.961672   \n",
              "2      0.462381      0.466913   0.122431   0.014989   -0.007802    2.618824   \n",
              "3      0.399816      0.366260   0.149092   0.022228    0.955791    1.976279   \n",
              "4      0.478230      0.488412   0.131123   0.017193   -0.046548    4.308083   \n",
              "..          ...           ...        ...        ...         ...         ...   \n",
              "100    0.394100      0.385903   0.132414   0.017534    0.582383    1.942821   \n",
              "101    0.437926      0.430825   0.127339   0.016215    0.479884    3.274700   \n",
              "102    0.345843      0.332378   0.115116   0.013252    1.653328    6.466284   \n",
              "103    0.514950      0.522097   0.098893   0.009780   -0.152302    9.197804   \n",
              "104    0.537678      0.539089   0.106207   0.011280   -0.579932    6.520010   \n",
              "\n",
              "     mean_lead2  median_lead2  std_lead2  var_lead2  skew_lead2  kurt_lead2  \n",
              "0      0.600828      0.613177   0.119664   0.014319   -1.328497    6.504245  \n",
              "1      0.662428      0.672944   0.144363   0.020841   -1.038713    3.939288  \n",
              "2      0.570732      0.586303   0.134329   0.018044   -0.788964    3.169306  \n",
              "3      0.658729      0.681179   0.162172   0.026300   -1.171663    1.827310  \n",
              "4      0.555436      0.561574   0.148968   0.022191   -0.156231    1.414820  \n",
              "..          ...           ...        ...        ...         ...         ...  \n",
              "100    0.426588      0.419286   0.116018   0.013460    0.446691    2.379165  \n",
              "101    0.444411      0.452348   0.126760   0.016068    0.327382    3.613294  \n",
              "102    0.403117      0.404505   0.114159   0.013032    0.996624    6.575469  \n",
              "103    0.461116      0.445006   0.129433   0.016753    0.508997    1.575390  \n",
              "104    0.659409      0.655174   0.129539   0.016781   -1.179600    6.316306  \n",
              "\n",
              "[99 rows x 12 columns]"
            ],
            "text/html": [
              "<div>\n",
              "<style scoped>\n",
              "    .dataframe tbody tr th:only-of-type {\n",
              "        vertical-align: middle;\n",
              "    }\n",
              "\n",
              "    .dataframe tbody tr th {\n",
              "        vertical-align: top;\n",
              "    }\n",
              "\n",
              "    .dataframe thead th {\n",
              "        text-align: right;\n",
              "    }\n",
              "</style>\n",
              "<table border=\"1\" class=\"dataframe\">\n",
              "  <thead>\n",
              "    <tr style=\"text-align: right;\">\n",
              "      <th></th>\n",
              "      <th>mean_lead1</th>\n",
              "      <th>median_lead1</th>\n",
              "      <th>std_lead1</th>\n",
              "      <th>var_lead1</th>\n",
              "      <th>skew_lead1</th>\n",
              "      <th>kurt_lead1</th>\n",
              "      <th>mean_lead2</th>\n",
              "      <th>median_lead2</th>\n",
              "      <th>std_lead2</th>\n",
              "      <th>var_lead2</th>\n",
              "      <th>skew_lead2</th>\n",
              "      <th>kurt_lead2</th>\n",
              "    </tr>\n",
              "  </thead>\n",
              "  <tbody>\n",
              "    <tr>\n",
              "      <th>0</th>\n",
              "      <td>0.476086</td>\n",
              "      <td>0.474618</td>\n",
              "      <td>0.128357</td>\n",
              "      <td>0.016476</td>\n",
              "      <td>0.065871</td>\n",
              "      <td>3.853435</td>\n",
              "      <td>0.600828</td>\n",
              "      <td>0.613177</td>\n",
              "      <td>0.119664</td>\n",
              "      <td>0.014319</td>\n",
              "      <td>-1.328497</td>\n",
              "      <td>6.504245</td>\n",
              "    </tr>\n",
              "    <tr>\n",
              "      <th>1</th>\n",
              "      <td>0.309628</td>\n",
              "      <td>0.315643</td>\n",
              "      <td>0.118704</td>\n",
              "      <td>0.014091</td>\n",
              "      <td>2.242173</td>\n",
              "      <td>11.961672</td>\n",
              "      <td>0.662428</td>\n",
              "      <td>0.672944</td>\n",
              "      <td>0.144363</td>\n",
              "      <td>0.020841</td>\n",
              "      <td>-1.038713</td>\n",
              "      <td>3.939288</td>\n",
              "    </tr>\n",
              "    <tr>\n",
              "      <th>2</th>\n",
              "      <td>0.462381</td>\n",
              "      <td>0.466913</td>\n",
              "      <td>0.122431</td>\n",
              "      <td>0.014989</td>\n",
              "      <td>-0.007802</td>\n",
              "      <td>2.618824</td>\n",
              "      <td>0.570732</td>\n",
              "      <td>0.586303</td>\n",
              "      <td>0.134329</td>\n",
              "      <td>0.018044</td>\n",
              "      <td>-0.788964</td>\n",
              "      <td>3.169306</td>\n",
              "    </tr>\n",
              "    <tr>\n",
              "      <th>3</th>\n",
              "      <td>0.399816</td>\n",
              "      <td>0.366260</td>\n",
              "      <td>0.149092</td>\n",
              "      <td>0.022228</td>\n",
              "      <td>0.955791</td>\n",
              "      <td>1.976279</td>\n",
              "      <td>0.658729</td>\n",
              "      <td>0.681179</td>\n",
              "      <td>0.162172</td>\n",
              "      <td>0.026300</td>\n",
              "      <td>-1.171663</td>\n",
              "      <td>1.827310</td>\n",
              "    </tr>\n",
              "    <tr>\n",
              "      <th>4</th>\n",
              "      <td>0.478230</td>\n",
              "      <td>0.488412</td>\n",
              "      <td>0.131123</td>\n",
              "      <td>0.017193</td>\n",
              "      <td>-0.046548</td>\n",
              "      <td>4.308083</td>\n",
              "      <td>0.555436</td>\n",
              "      <td>0.561574</td>\n",
              "      <td>0.148968</td>\n",
              "      <td>0.022191</td>\n",
              "      <td>-0.156231</td>\n",
              "      <td>1.414820</td>\n",
              "    </tr>\n",
              "    <tr>\n",
              "      <th>...</th>\n",
              "      <td>...</td>\n",
              "      <td>...</td>\n",
              "      <td>...</td>\n",
              "      <td>...</td>\n",
              "      <td>...</td>\n",
              "      <td>...</td>\n",
              "      <td>...</td>\n",
              "      <td>...</td>\n",
              "      <td>...</td>\n",
              "      <td>...</td>\n",
              "      <td>...</td>\n",
              "      <td>...</td>\n",
              "    </tr>\n",
              "    <tr>\n",
              "      <th>100</th>\n",
              "      <td>0.394100</td>\n",
              "      <td>0.385903</td>\n",
              "      <td>0.132414</td>\n",
              "      <td>0.017534</td>\n",
              "      <td>0.582383</td>\n",
              "      <td>1.942821</td>\n",
              "      <td>0.426588</td>\n",
              "      <td>0.419286</td>\n",
              "      <td>0.116018</td>\n",
              "      <td>0.013460</td>\n",
              "      <td>0.446691</td>\n",
              "      <td>2.379165</td>\n",
              "    </tr>\n",
              "    <tr>\n",
              "      <th>101</th>\n",
              "      <td>0.437926</td>\n",
              "      <td>0.430825</td>\n",
              "      <td>0.127339</td>\n",
              "      <td>0.016215</td>\n",
              "      <td>0.479884</td>\n",
              "      <td>3.274700</td>\n",
              "      <td>0.444411</td>\n",
              "      <td>0.452348</td>\n",
              "      <td>0.126760</td>\n",
              "      <td>0.016068</td>\n",
              "      <td>0.327382</td>\n",
              "      <td>3.613294</td>\n",
              "    </tr>\n",
              "    <tr>\n",
              "      <th>102</th>\n",
              "      <td>0.345843</td>\n",
              "      <td>0.332378</td>\n",
              "      <td>0.115116</td>\n",
              "      <td>0.013252</td>\n",
              "      <td>1.653328</td>\n",
              "      <td>6.466284</td>\n",
              "      <td>0.403117</td>\n",
              "      <td>0.404505</td>\n",
              "      <td>0.114159</td>\n",
              "      <td>0.013032</td>\n",
              "      <td>0.996624</td>\n",
              "      <td>6.575469</td>\n",
              "    </tr>\n",
              "    <tr>\n",
              "      <th>103</th>\n",
              "      <td>0.514950</td>\n",
              "      <td>0.522097</td>\n",
              "      <td>0.098893</td>\n",
              "      <td>0.009780</td>\n",
              "      <td>-0.152302</td>\n",
              "      <td>9.197804</td>\n",
              "      <td>0.461116</td>\n",
              "      <td>0.445006</td>\n",
              "      <td>0.129433</td>\n",
              "      <td>0.016753</td>\n",
              "      <td>0.508997</td>\n",
              "      <td>1.575390</td>\n",
              "    </tr>\n",
              "    <tr>\n",
              "      <th>104</th>\n",
              "      <td>0.537678</td>\n",
              "      <td>0.539089</td>\n",
              "      <td>0.106207</td>\n",
              "      <td>0.011280</td>\n",
              "      <td>-0.579932</td>\n",
              "      <td>6.520010</td>\n",
              "      <td>0.659409</td>\n",
              "      <td>0.655174</td>\n",
              "      <td>0.129539</td>\n",
              "      <td>0.016781</td>\n",
              "      <td>-1.179600</td>\n",
              "      <td>6.316306</td>\n",
              "    </tr>\n",
              "  </tbody>\n",
              "</table>\n",
              "<p>99 rows × 12 columns</p>\n",
              "</div>"
            ]
          },
          "metadata": {}
        }
      ]
    },
    {
      "cell_type": "code",
      "source": [
        "#Discard outliers\n",
        "filtered_df = filtered_df.loc[features_or.index]\n",
        "filtered_df"
      ],
      "metadata": {
        "colab": {
          "base_uri": "https://localhost:8080/",
          "height": 423
        },
        "id": "VNtC5w6AS4vl",
        "outputId": "97e43c5b-59c8-4326-b8e8-b98a447bb8bb"
      },
      "id": "VNtC5w6AS4vl",
      "execution_count": null,
      "outputs": [
        {
          "output_type": "execute_result",
          "data": {
            "text/plain": [
              "    sigId                                         ecg_lead_1  \\\n",
              "0    S001  [0.427699855785426, 0.42979683093201704, 0.436...   \n",
              "1    S002  [0.3024770812979047, 0.286324821493959, 0.2727...   \n",
              "2    S003  [0.35123236431628746, 0.26321594363699485, 0.1...   \n",
              "3    S004  [0.37546338896536174, 0.3048455742731015, 0.24...   \n",
              "4    S005  [0.44854563349413024, 0.41712121961947685, 0.4...   \n",
              "..    ...                                                ...   \n",
              "100  S114  [0.3867162013382826, 0.23555535525606763, 0.13...   \n",
              "101  S115  [0.5401708365558443, 0.5892531959523761, 0.628...   \n",
              "102  S116  [0.29321881561128876, 0.2485099913060024, 0.21...   \n",
              "103  S117  [0.5088599883882691, 0.5107169765553712, 0.496...   \n",
              "104  S118  [0.5172109033435791, 0.5738509584330151, 0.654...   \n",
              "\n",
              "                                            ecg_lead_2  \\\n",
              "0    [0.5323101063517586, 0.5490810754752513, 0.562...   \n",
              "1    [0.65682606494766, 0.6071142466616561, 0.56533...   \n",
              "2    [0.5773604250922746, 0.6526769431999565, 0.730...   \n",
              "3    [0.6897625131396476, 0.8119427073198969, 0.919...   \n",
              "4    [0.5060156788438364, 0.4987376768125404, 0.491...   \n",
              "..                                                 ...   \n",
              "100  [0.39987440613804004, 0.24801774199741874, 0.0...   \n",
              "101  [0.4824469217975686, 0.5604840985300757, 0.614...   \n",
              "102  [0.40266123678699095, 0.384544258378451, 0.363...   \n",
              "103  [0.4747395232704018, 0.6609601212448153, 0.677...   \n",
              "104  [0.6786699443479496, 0.7359087732548062, 0.782...   \n",
              "\n",
              "                                                 peaks frequencies  \\\n",
              "0    [29, 110, 191, 272, 353, 433, 514, 595, 676, 7...         128   \n",
              "1    [48, 153, 243, 352, 440, 547, 636, 742, 831, 9...         128   \n",
              "2    [91, 209, 326, 394, 537, 653, 745, 872, 984, 1...         128   \n",
              "3    [98, 223, 349, 474, 599, 726, 853, 980, 1116, ...         128   \n",
              "4    [27, 127, 225, 324, 423, 523, 623, 722, 822, 9...         128   \n",
              "..                                                 ...         ...   \n",
              "100  [79, 196, 312, 427, 539, 652, 766, 880, 992, 1...         250   \n",
              "101  [110, 223, 341, 421, 572, 690, 813, 889, 1041,...         250   \n",
              "102  [130, 273, 418, 559, 705, 848, 990, 1134, 1276...         250   \n",
              "103  [9, 151, 294, 441, 589, 734, 873, 1021, 1160, ...         250   \n",
              "104  [52, 137, 221, 307, 388, 470, 555, 636, 719, 8...         250   \n",
              "\n",
              "                                                labels  \n",
              "0    [N, N, N, N, N, N, N, N, N, N, N, N, N, N, N, ...  \n",
              "1    [N, N, N, N, S, N, S, N, S, N, S, N, S, N, S, ...  \n",
              "2    [N, N, N, S, N, N, S, N, N, S, N, N, N, N, N, ...  \n",
              "3    [N, N, N, N, N, N, N, N, N, N, N, N, N, N, N, ...  \n",
              "4    [N, N, N, N, N, N, N, N, N, N, N, N, N, N, N, ...  \n",
              "..                                                 ...  \n",
              "100  [N, N, N, N, N, N, N, N, N, N, N, N, N, N, N, ...  \n",
              "101  [N, N, N, V, N, N, N, V, N, N, N, N, N, N, N, ...  \n",
              "102  [N, N, N, N, N, N, N, N, N, N, N, N, N, N, N, ...  \n",
              "103  [N, N, N, N, N, N, N, N, N, N, N, N, N, N, N, ...  \n",
              "104  [N, N, N, N, N, N, N, N, N, N, N, N, N, N, N, ...  \n",
              "\n",
              "[99 rows x 6 columns]"
            ],
            "text/html": [
              "<div>\n",
              "<style scoped>\n",
              "    .dataframe tbody tr th:only-of-type {\n",
              "        vertical-align: middle;\n",
              "    }\n",
              "\n",
              "    .dataframe tbody tr th {\n",
              "        vertical-align: top;\n",
              "    }\n",
              "\n",
              "    .dataframe thead th {\n",
              "        text-align: right;\n",
              "    }\n",
              "</style>\n",
              "<table border=\"1\" class=\"dataframe\">\n",
              "  <thead>\n",
              "    <tr style=\"text-align: right;\">\n",
              "      <th></th>\n",
              "      <th>sigId</th>\n",
              "      <th>ecg_lead_1</th>\n",
              "      <th>ecg_lead_2</th>\n",
              "      <th>peaks</th>\n",
              "      <th>frequencies</th>\n",
              "      <th>labels</th>\n",
              "    </tr>\n",
              "  </thead>\n",
              "  <tbody>\n",
              "    <tr>\n",
              "      <th>0</th>\n",
              "      <td>S001</td>\n",
              "      <td>[0.427699855785426, 0.42979683093201704, 0.436...</td>\n",
              "      <td>[0.5323101063517586, 0.5490810754752513, 0.562...</td>\n",
              "      <td>[29, 110, 191, 272, 353, 433, 514, 595, 676, 7...</td>\n",
              "      <td>128</td>\n",
              "      <td>[N, N, N, N, N, N, N, N, N, N, N, N, N, N, N, ...</td>\n",
              "    </tr>\n",
              "    <tr>\n",
              "      <th>1</th>\n",
              "      <td>S002</td>\n",
              "      <td>[0.3024770812979047, 0.286324821493959, 0.2727...</td>\n",
              "      <td>[0.65682606494766, 0.6071142466616561, 0.56533...</td>\n",
              "      <td>[48, 153, 243, 352, 440, 547, 636, 742, 831, 9...</td>\n",
              "      <td>128</td>\n",
              "      <td>[N, N, N, N, S, N, S, N, S, N, S, N, S, N, S, ...</td>\n",
              "    </tr>\n",
              "    <tr>\n",
              "      <th>2</th>\n",
              "      <td>S003</td>\n",
              "      <td>[0.35123236431628746, 0.26321594363699485, 0.1...</td>\n",
              "      <td>[0.5773604250922746, 0.6526769431999565, 0.730...</td>\n",
              "      <td>[91, 209, 326, 394, 537, 653, 745, 872, 984, 1...</td>\n",
              "      <td>128</td>\n",
              "      <td>[N, N, N, S, N, N, S, N, N, S, N, N, N, N, N, ...</td>\n",
              "    </tr>\n",
              "    <tr>\n",
              "      <th>3</th>\n",
              "      <td>S004</td>\n",
              "      <td>[0.37546338896536174, 0.3048455742731015, 0.24...</td>\n",
              "      <td>[0.6897625131396476, 0.8119427073198969, 0.919...</td>\n",
              "      <td>[98, 223, 349, 474, 599, 726, 853, 980, 1116, ...</td>\n",
              "      <td>128</td>\n",
              "      <td>[N, N, N, N, N, N, N, N, N, N, N, N, N, N, N, ...</td>\n",
              "    </tr>\n",
              "    <tr>\n",
              "      <th>4</th>\n",
              "      <td>S005</td>\n",
              "      <td>[0.44854563349413024, 0.41712121961947685, 0.4...</td>\n",
              "      <td>[0.5060156788438364, 0.4987376768125404, 0.491...</td>\n",
              "      <td>[27, 127, 225, 324, 423, 523, 623, 722, 822, 9...</td>\n",
              "      <td>128</td>\n",
              "      <td>[N, N, N, N, N, N, N, N, N, N, N, N, N, N, N, ...</td>\n",
              "    </tr>\n",
              "    <tr>\n",
              "      <th>...</th>\n",
              "      <td>...</td>\n",
              "      <td>...</td>\n",
              "      <td>...</td>\n",
              "      <td>...</td>\n",
              "      <td>...</td>\n",
              "      <td>...</td>\n",
              "    </tr>\n",
              "    <tr>\n",
              "      <th>100</th>\n",
              "      <td>S114</td>\n",
              "      <td>[0.3867162013382826, 0.23555535525606763, 0.13...</td>\n",
              "      <td>[0.39987440613804004, 0.24801774199741874, 0.0...</td>\n",
              "      <td>[79, 196, 312, 427, 539, 652, 766, 880, 992, 1...</td>\n",
              "      <td>250</td>\n",
              "      <td>[N, N, N, N, N, N, N, N, N, N, N, N, N, N, N, ...</td>\n",
              "    </tr>\n",
              "    <tr>\n",
              "      <th>101</th>\n",
              "      <td>S115</td>\n",
              "      <td>[0.5401708365558443, 0.5892531959523761, 0.628...</td>\n",
              "      <td>[0.4824469217975686, 0.5604840985300757, 0.614...</td>\n",
              "      <td>[110, 223, 341, 421, 572, 690, 813, 889, 1041,...</td>\n",
              "      <td>250</td>\n",
              "      <td>[N, N, N, V, N, N, N, V, N, N, N, N, N, N, N, ...</td>\n",
              "    </tr>\n",
              "    <tr>\n",
              "      <th>102</th>\n",
              "      <td>S116</td>\n",
              "      <td>[0.29321881561128876, 0.2485099913060024, 0.21...</td>\n",
              "      <td>[0.40266123678699095, 0.384544258378451, 0.363...</td>\n",
              "      <td>[130, 273, 418, 559, 705, 848, 990, 1134, 1276...</td>\n",
              "      <td>250</td>\n",
              "      <td>[N, N, N, N, N, N, N, N, N, N, N, N, N, N, N, ...</td>\n",
              "    </tr>\n",
              "    <tr>\n",
              "      <th>103</th>\n",
              "      <td>S117</td>\n",
              "      <td>[0.5088599883882691, 0.5107169765553712, 0.496...</td>\n",
              "      <td>[0.4747395232704018, 0.6609601212448153, 0.677...</td>\n",
              "      <td>[9, 151, 294, 441, 589, 734, 873, 1021, 1160, ...</td>\n",
              "      <td>250</td>\n",
              "      <td>[N, N, N, N, N, N, N, N, N, N, N, N, N, N, N, ...</td>\n",
              "    </tr>\n",
              "    <tr>\n",
              "      <th>104</th>\n",
              "      <td>S118</td>\n",
              "      <td>[0.5172109033435791, 0.5738509584330151, 0.654...</td>\n",
              "      <td>[0.6786699443479496, 0.7359087732548062, 0.782...</td>\n",
              "      <td>[52, 137, 221, 307, 388, 470, 555, 636, 719, 8...</td>\n",
              "      <td>250</td>\n",
              "      <td>[N, N, N, N, N, N, N, N, N, N, N, N, N, N, N, ...</td>\n",
              "    </tr>\n",
              "  </tbody>\n",
              "</table>\n",
              "<p>99 rows × 6 columns</p>\n",
              "</div>"
            ]
          },
          "metadata": {},
          "execution_count": 11
        }
      ]
    },
    {
      "cell_type": "markdown",
      "metadata": {
        "id": "UkdEyLT2lkV0"
      },
      "source": [
        "<h2> RR distances analysis"
      ],
      "id": "UkdEyLT2lkV0"
    },
    {
      "cell_type": "code",
      "source": [
        "signal_ids = filtered_df.index.tolist()\n",
        "RR_dict = {}\n",
        "\n",
        "for id_ in tqdm(signal_ids):  \n",
        "  sig_Id = df.iloc[id_]['sigId']\n",
        "  RR_dict[sig_Id] = {}\n",
        "  RR_dict[sig_Id]['RR_distances'] = list()\n",
        "  RR_dict[sig_Id]['S_distances'] = list()\n",
        "  \n",
        "  peaks = df.iloc[id_]['peaks']\n",
        "  labels = df.iloc[id_]['labels']\n",
        "\n",
        "  for i,p in enumerate(peaks[1:-1]):\n",
        "    RR_distance = p-peaks[i]\n",
        "    if(RR_distance < 250): # discard outliers\n",
        "      RR_dict[sig_Id]['RR_distances'].append(RR_distance)\n",
        "      if(labels[i+1] == 'S'):\n",
        "        RR_dict[sig_Id]['S_distances'].append(RR_distance)\n",
        "\n",
        "  RR_dict[sig_Id]['RR_distances'] = np.asarray(RR_dict[sig_Id]['RR_distances'])\n",
        "  RR_dict[sig_Id]['S_distances'] = np.asarray(RR_dict[sig_Id]['S_distances'])\n",
        "\n",
        "  RR_dict[sig_Id]['Avg_RR_distance'] = RR_dict[sig_Id]['RR_distances'].mean()\n",
        "  RR_dict[sig_Id]['AVG_S_distance'] = RR_dict[sig_Id]['S_distances'].mean()\n",
        "\n",
        "\n",
        "RR_df = pd.DataFrame.from_dict(RR_dict,orient=\"index\")\n",
        "RR_df.tail()"
      ],
      "metadata": {
        "colab": {
          "base_uri": "https://localhost:8080/",
          "height": 258
        },
        "id": "NS4Hui7wOrZT",
        "outputId": "4d72f356-cbb4-4102-a0bf-3f8c4c40b9d0"
      },
      "id": "NS4Hui7wOrZT",
      "execution_count": null,
      "outputs": [
        {
          "output_type": "stream",
          "name": "stderr",
          "text": [
            "  0%|                                                                                           | 0/99 [00:00<?, ?it/s]<ipython-input-12-4695b0eb9ee0>:24: RuntimeWarning: Mean of empty slice.\n",
            "  RR_dict[sig_Id]['AVG_S_distance'] = RR_dict[sig_Id]['S_distances'].mean()\n",
            "100%|█████████████████████████████████████████████████████████████████████████████████| 99/99 [00:00<00:00, 380.32it/s]\n"
          ]
        },
        {
          "output_type": "execute_result",
          "data": {
            "text/plain": [
              "                                           RR_distances  \\\n",
              "S114  [117, 116, 115, 112, 113, 114, 114, 112, 116, ...   \n",
              "S115  [113, 118, 80, 151, 118, 123, 76, 152, 119, 11...   \n",
              "S116  [143, 145, 141, 146, 143, 142, 144, 142, 143, ...   \n",
              "S117  [142, 143, 147, 148, 145, 139, 148, 139, 140, ...   \n",
              "S118  [85, 84, 86, 81, 82, 85, 81, 83, 83, 82, 84, 8...   \n",
              "\n",
              "                                            S_distances  Avg_RR_distance  \\\n",
              "S114                                                 []       114.914745   \n",
              "S115                                               [73]        89.041006   \n",
              "S116                                               [75]       122.611082   \n",
              "S117  [119, 99, 92, 100, 99, 92, 91, 92, 89, 87, 82,...       106.363048   \n",
              "S118                                                 []        93.967755   \n",
              "\n",
              "      AVG_S_distance  \n",
              "S114             NaN  \n",
              "S115       73.000000  \n",
              "S116       75.000000  \n",
              "S117       83.558719  \n",
              "S118             NaN  "
            ],
            "text/html": [
              "<div>\n",
              "<style scoped>\n",
              "    .dataframe tbody tr th:only-of-type {\n",
              "        vertical-align: middle;\n",
              "    }\n",
              "\n",
              "    .dataframe tbody tr th {\n",
              "        vertical-align: top;\n",
              "    }\n",
              "\n",
              "    .dataframe thead th {\n",
              "        text-align: right;\n",
              "    }\n",
              "</style>\n",
              "<table border=\"1\" class=\"dataframe\">\n",
              "  <thead>\n",
              "    <tr style=\"text-align: right;\">\n",
              "      <th></th>\n",
              "      <th>RR_distances</th>\n",
              "      <th>S_distances</th>\n",
              "      <th>Avg_RR_distance</th>\n",
              "      <th>AVG_S_distance</th>\n",
              "    </tr>\n",
              "  </thead>\n",
              "  <tbody>\n",
              "    <tr>\n",
              "      <th>S114</th>\n",
              "      <td>[117, 116, 115, 112, 113, 114, 114, 112, 116, ...</td>\n",
              "      <td>[]</td>\n",
              "      <td>114.914745</td>\n",
              "      <td>NaN</td>\n",
              "    </tr>\n",
              "    <tr>\n",
              "      <th>S115</th>\n",
              "      <td>[113, 118, 80, 151, 118, 123, 76, 152, 119, 11...</td>\n",
              "      <td>[73]</td>\n",
              "      <td>89.041006</td>\n",
              "      <td>73.000000</td>\n",
              "    </tr>\n",
              "    <tr>\n",
              "      <th>S116</th>\n",
              "      <td>[143, 145, 141, 146, 143, 142, 144, 142, 143, ...</td>\n",
              "      <td>[75]</td>\n",
              "      <td>122.611082</td>\n",
              "      <td>75.000000</td>\n",
              "    </tr>\n",
              "    <tr>\n",
              "      <th>S117</th>\n",
              "      <td>[142, 143, 147, 148, 145, 139, 148, 139, 140, ...</td>\n",
              "      <td>[119, 99, 92, 100, 99, 92, 91, 92, 89, 87, 82,...</td>\n",
              "      <td>106.363048</td>\n",
              "      <td>83.558719</td>\n",
              "    </tr>\n",
              "    <tr>\n",
              "      <th>S118</th>\n",
              "      <td>[85, 84, 86, 81, 82, 85, 81, 83, 83, 82, 84, 8...</td>\n",
              "      <td>[]</td>\n",
              "      <td>93.967755</td>\n",
              "      <td>NaN</td>\n",
              "    </tr>\n",
              "  </tbody>\n",
              "</table>\n",
              "</div>"
            ]
          },
          "metadata": {},
          "execution_count": 12
        }
      ]
    },
    {
      "cell_type": "code",
      "source": [
        "import heartpy as hp \n",
        "\n",
        "classes = np.array([\"N\",\"S\",\"V\"])\n",
        "\n",
        "patch_length = 350 \n",
        "\n",
        "def convert_to_one_hot(label):\n",
        "    return np.array(classes == label,dtype=np.float32)\n",
        "\n",
        "def create_patch_dataset(df):\n",
        "    \n",
        "    dataset_dict = {}\n",
        "    ids = df['sigId']\n",
        "   \n",
        "    for id in tqdm(ids):\n",
        "        row = df[df['sigId'] == id]\n",
        "        sigId = row['sigId'].values[0]\n",
        "        peaks = row['peaks'].values[0]\n",
        "        first_lead_signal = row['ecg_lead_1'].values[0]\n",
        "        second_lead_signal = row['ecg_lead_2'].values[0]\n",
        "        labels = row['labels'].values[0]\n",
        "        avg_RR = RR_df.loc[sigId]['Avg_RR_distance'] # T for the signal \n",
        "\n",
        "        for i,peak in enumerate(peaks):\n",
        "            \n",
        "            stringIdx = str(sigId)+'_'+str(i)    \n",
        "            dataset_dict[stringIdx] = {}\n",
        "            dataset_dict[stringIdx][\"first_lead\"] = list()\n",
        "            dataset_dict[stringIdx][\"second_lead\"] = list()\n",
        "            size = list(range(int(peak-(avg_RR)),int(peak+avg_RR)))\n",
        "\n",
        "            for s in size:\n",
        "                if(s < 0 or s >= len(first_lead_signal)):\n",
        "                    dataset_dict[stringIdx][\"first_lead\"].append(0.5)\n",
        "                    dataset_dict[stringIdx][\"second_lead\"].append(0.5)\n",
        "                else:\n",
        "                    dataset_dict[stringIdx][\"first_lead\"].append(first_lead_signal[s])\n",
        "                    dataset_dict[stringIdx][\"second_lead\"].append(second_lead_signal[s])\n",
        "            \n",
        "            first_lead = dataset_dict[stringIdx][\"first_lead\"][:]\n",
        "            second_lead = dataset_dict[stringIdx][\"second_lead\"][:]\n",
        "            \n",
        "            first_lead = resample(first_lead,patch_length)\n",
        "            second_lead = resample(second_lead,patch_length)\n",
        "            \n",
        "            dataset_dict[stringIdx][\"first_lead\"] = first_lead[:]\n",
        "            dataset_dict[stringIdx][\"second_lead\"] = second_lead[:]\n",
        "            \n",
        "            #dataset_dict[stringIdx][\"dwt_1\"] = pywt.dwt(first_lead,'db4','constant')\n",
        "            #dataset_dict[stringIdx][\"dwt_2\"] = pywt.dwt(second_lead,'db4','constant')\n",
        "\n",
        "            #dataset_dict[stringIdx][\"dwt_1\"] = pywt.wavedec(first_lead, 'db3', level=2)\n",
        "            #dataset_dict[stringIdx][\"dwt_2\"] = pywt.wavedec(second_lead, 'db3', level=2)\n",
        "            \n",
        "            dataset_dict[stringIdx][\"stringLabel\"] = labels[i]\n",
        "            dataset_dict[stringIdx][\"label\"] = convert_to_one_hot(labels[i])\n",
        "\n",
        "    dataset_df = pd.DataFrame.from_dict(dataset_dict,orient=\"index\")\n",
        "    return dataset_df"
      ],
      "metadata": {
        "id": "cdZlQwFMe7IV"
      },
      "id": "cdZlQwFMe7IV",
      "execution_count": null,
      "outputs": []
    },
    {
      "cell_type": "markdown",
      "metadata": {
        "id": "p47oXLNolkV1"
      },
      "source": [
        "<h2> Split dataset by patient & creation of patches"
      ],
      "id": "p47oXLNolkV1"
    },
    {
      "cell_type": "code",
      "source": [
        "training_df, test_df_ = train_test_split(filtered_df,test_size = 0.2,random_state=SEED)\n",
        "validation_df, test_df = train_test_split(test_df_,test_size = 0.5,random_state=SEED)\n",
        "\n",
        "training_patches_df_ = create_patch_dataset(training_df)\n",
        "validation_patches_df_ = create_patch_dataset(validation_df)\n",
        "test_patches_df = create_patch_dataset(test_df)"
      ],
      "metadata": {
        "colab": {
          "base_uri": "https://localhost:8080/"
        },
        "id": "DXU_KOOr_wNW",
        "outputId": "fe209241-8274-494f-f371-e0bc2d591df1"
      },
      "id": "DXU_KOOr_wNW",
      "execution_count": null,
      "outputs": [
        {
          "output_type": "stream",
          "name": "stderr",
          "text": [
            "100%|██████████████████████████████████████████████████████████████████████████████████| 79/79 [00:30<00:00,  2.58it/s]\n",
            "100%|██████████████████████████████████████████████████████████████████████████████████| 10/10 [00:03<00:00,  2.69it/s]\n",
            "100%|██████████████████████████████████████████████████████████████████████████████████| 10/10 [00:03<00:00,  2.54it/s]\n"
          ]
        }
      ]
    },
    {
      "cell_type": "code",
      "source": [
        "validation_patches_df_[(validation_patches_df_['stringLabel']=='S')]"
      ],
      "metadata": {
        "id": "tkQWUJ9YmSrT",
        "colab": {
          "base_uri": "https://localhost:8080/",
          "height": 423
        },
        "outputId": "e9ffcda4-3015-414b-87e8-08bb140c97e0"
      },
      "id": "tkQWUJ9YmSrT",
      "execution_count": null,
      "outputs": [
        {
          "output_type": "execute_result",
          "data": {
            "text/plain": [
              "                                                  first_lead  \\\n",
              "S005_39    [0.44634743492784484, 0.45574934074250695, 0.4...   \n",
              "S005_42    [0.46924494858095656, 0.445565454105624, 0.480...   \n",
              "S005_56    [0.46216333469815524, 0.4272114754606019, 0.50...   \n",
              "S005_119   [0.4802166045905686, 0.518133956598698, 0.4620...   \n",
              "S005_278   [0.49069658178378833, 0.48633847518203455, 0.4...   \n",
              "...                                                      ...   \n",
              "S064_3059  [0.3693840793964351, 0.3715158489207078, 0.376...   \n",
              "S064_3081  [0.42305722467323575, 0.43669587261808046, 0.4...   \n",
              "S064_3082  [0.4463818914139637, 0.44013453447931494, 0.42...   \n",
              "S064_3102  [0.4522623807090756, 0.44918793074104496, 0.45...   \n",
              "S064_3103  [0.4763961535180943, 0.47971525424518247, 0.47...   \n",
              "\n",
              "                                                 second_lead stringLabel  \\\n",
              "S005_39    [0.4326370395512018, 0.4289402679555507, 0.449...           S   \n",
              "S005_42    [0.4729538917263638, 0.47205760789390167, 0.49...           S   \n",
              "S005_56    [0.4600667925696275, 0.47410492196856446, 0.43...           S   \n",
              "S005_119   [0.5158287865613439, 0.5316632639328572, 0.526...           S   \n",
              "S005_278   [0.5757272651198961, 0.5820692313824356, 0.578...           S   \n",
              "...                                                      ...         ...   \n",
              "S064_3059  [0.539421750570594, 0.5430524845331473, 0.5260...           S   \n",
              "S064_3081  [0.45102513771030994, 0.4271226490336186, 0.44...           S   \n",
              "S064_3082  [0.3790647322956545, 0.34281716422333675, 0.33...           S   \n",
              "S064_3102  [0.4116255877149023, 0.41887453726247, 0.45862...           S   \n",
              "S064_3103  [0.35908499455633125, 0.34488954347374423, 0.3...           S   \n",
              "\n",
              "                     label  \n",
              "S005_39    [0.0, 1.0, 0.0]  \n",
              "S005_42    [0.0, 1.0, 0.0]  \n",
              "S005_56    [0.0, 1.0, 0.0]  \n",
              "S005_119   [0.0, 1.0, 0.0]  \n",
              "S005_278   [0.0, 1.0, 0.0]  \n",
              "...                    ...  \n",
              "S064_3059  [0.0, 1.0, 0.0]  \n",
              "S064_3081  [0.0, 1.0, 0.0]  \n",
              "S064_3082  [0.0, 1.0, 0.0]  \n",
              "S064_3102  [0.0, 1.0, 0.0]  \n",
              "S064_3103  [0.0, 1.0, 0.0]  \n",
              "\n",
              "[1032 rows x 4 columns]"
            ],
            "text/html": [
              "<div>\n",
              "<style scoped>\n",
              "    .dataframe tbody tr th:only-of-type {\n",
              "        vertical-align: middle;\n",
              "    }\n",
              "\n",
              "    .dataframe tbody tr th {\n",
              "        vertical-align: top;\n",
              "    }\n",
              "\n",
              "    .dataframe thead th {\n",
              "        text-align: right;\n",
              "    }\n",
              "</style>\n",
              "<table border=\"1\" class=\"dataframe\">\n",
              "  <thead>\n",
              "    <tr style=\"text-align: right;\">\n",
              "      <th></th>\n",
              "      <th>first_lead</th>\n",
              "      <th>second_lead</th>\n",
              "      <th>stringLabel</th>\n",
              "      <th>label</th>\n",
              "    </tr>\n",
              "  </thead>\n",
              "  <tbody>\n",
              "    <tr>\n",
              "      <th>S005_39</th>\n",
              "      <td>[0.44634743492784484, 0.45574934074250695, 0.4...</td>\n",
              "      <td>[0.4326370395512018, 0.4289402679555507, 0.449...</td>\n",
              "      <td>S</td>\n",
              "      <td>[0.0, 1.0, 0.0]</td>\n",
              "    </tr>\n",
              "    <tr>\n",
              "      <th>S005_42</th>\n",
              "      <td>[0.46924494858095656, 0.445565454105624, 0.480...</td>\n",
              "      <td>[0.4729538917263638, 0.47205760789390167, 0.49...</td>\n",
              "      <td>S</td>\n",
              "      <td>[0.0, 1.0, 0.0]</td>\n",
              "    </tr>\n",
              "    <tr>\n",
              "      <th>S005_56</th>\n",
              "      <td>[0.46216333469815524, 0.4272114754606019, 0.50...</td>\n",
              "      <td>[0.4600667925696275, 0.47410492196856446, 0.43...</td>\n",
              "      <td>S</td>\n",
              "      <td>[0.0, 1.0, 0.0]</td>\n",
              "    </tr>\n",
              "    <tr>\n",
              "      <th>S005_119</th>\n",
              "      <td>[0.4802166045905686, 0.518133956598698, 0.4620...</td>\n",
              "      <td>[0.5158287865613439, 0.5316632639328572, 0.526...</td>\n",
              "      <td>S</td>\n",
              "      <td>[0.0, 1.0, 0.0]</td>\n",
              "    </tr>\n",
              "    <tr>\n",
              "      <th>S005_278</th>\n",
              "      <td>[0.49069658178378833, 0.48633847518203455, 0.4...</td>\n",
              "      <td>[0.5757272651198961, 0.5820692313824356, 0.578...</td>\n",
              "      <td>S</td>\n",
              "      <td>[0.0, 1.0, 0.0]</td>\n",
              "    </tr>\n",
              "    <tr>\n",
              "      <th>...</th>\n",
              "      <td>...</td>\n",
              "      <td>...</td>\n",
              "      <td>...</td>\n",
              "      <td>...</td>\n",
              "    </tr>\n",
              "    <tr>\n",
              "      <th>S064_3059</th>\n",
              "      <td>[0.3693840793964351, 0.3715158489207078, 0.376...</td>\n",
              "      <td>[0.539421750570594, 0.5430524845331473, 0.5260...</td>\n",
              "      <td>S</td>\n",
              "      <td>[0.0, 1.0, 0.0]</td>\n",
              "    </tr>\n",
              "    <tr>\n",
              "      <th>S064_3081</th>\n",
              "      <td>[0.42305722467323575, 0.43669587261808046, 0.4...</td>\n",
              "      <td>[0.45102513771030994, 0.4271226490336186, 0.44...</td>\n",
              "      <td>S</td>\n",
              "      <td>[0.0, 1.0, 0.0]</td>\n",
              "    </tr>\n",
              "    <tr>\n",
              "      <th>S064_3082</th>\n",
              "      <td>[0.4463818914139637, 0.44013453447931494, 0.42...</td>\n",
              "      <td>[0.3790647322956545, 0.34281716422333675, 0.33...</td>\n",
              "      <td>S</td>\n",
              "      <td>[0.0, 1.0, 0.0]</td>\n",
              "    </tr>\n",
              "    <tr>\n",
              "      <th>S064_3102</th>\n",
              "      <td>[0.4522623807090756, 0.44918793074104496, 0.45...</td>\n",
              "      <td>[0.4116255877149023, 0.41887453726247, 0.45862...</td>\n",
              "      <td>S</td>\n",
              "      <td>[0.0, 1.0, 0.0]</td>\n",
              "    </tr>\n",
              "    <tr>\n",
              "      <th>S064_3103</th>\n",
              "      <td>[0.4763961535180943, 0.47971525424518247, 0.47...</td>\n",
              "      <td>[0.35908499455633125, 0.34488954347374423, 0.3...</td>\n",
              "      <td>S</td>\n",
              "      <td>[0.0, 1.0, 0.0]</td>\n",
              "    </tr>\n",
              "  </tbody>\n",
              "</table>\n",
              "<p>1032 rows × 4 columns</p>\n",
              "</div>"
            ]
          },
          "metadata": {},
          "execution_count": 15
        }
      ]
    },
    {
      "cell_type": "code",
      "source": [
        "    signal = validation_patches_df_.loc[\"S064_18\"]\n",
        "    length = len(signal['first_lead'])\n",
        "    fig,ax1 = plt.subplots()\n",
        "    fig.set_size_inches(9, 6)\n",
        "  \n",
        "    \n",
        "    first_lead = signal['first_lead'][:length]\n",
        "    second_lead = signal['second_lead'][:length]\n",
        "    \n",
        "    x = list(range(length))\n",
        "    \n",
        "    ax1.plot(x,first_lead,color='blue')\n",
        "    \n",
        "    plt.show()"
      ],
      "metadata": {
        "id": "bgWAPSEixvGR",
        "outputId": "7609302d-b9ad-47bb-ae73-2881647a1ad8",
        "colab": {
          "base_uri": "https://localhost:8080/",
          "height": 374
        }
      },
      "id": "bgWAPSEixvGR",
      "execution_count": null,
      "outputs": [
        {
          "output_type": "display_data",
          "data": {
            "text/plain": [
              "<Figure size 648x432 with 1 Axes>"
            ],
            "image/png": "[encoded data removed]"
          },
          "metadata": {
            "needs_background": "light"
          }
        }
      ]
    },
    {
      "cell_type": "code",
      "source": [
        "    signal = validation_patches_df_.loc[\"S064_3059\"]\n",
        "    length = len(signal['first_lead'])\n",
        "    fig,ax1 = plt.subplots()\n",
        "    fig.set_size_inches(9, 6)\n",
        "  \n",
        "    \n",
        "    first_lead = signal['first_lead'][:length]\n",
        "    second_lead = signal['second_lead'][:length]\n",
        "    \n",
        "    x = list(range(length))\n",
        "    \n",
        "    ax1.plot(x,first_lead,color='blue')\n",
        "    \n",
        "    plt.show()"
      ],
      "metadata": {
        "colab": {
          "base_uri": "https://localhost:8080/",
          "height": 374
        },
        "id": "tlZvxtbv8ePE",
        "outputId": "d284b82c-15f7-49ce-946c-52bb39cc5a75"
      },
      "id": "tlZvxtbv8ePE",
      "execution_count": null,
      "outputs": [
        {
          "output_type": "display_data",
          "data": {
            "text/plain": [
              "<Figure size 648x432 with 1 Axes>"
            ],
            "image/png": "[encoded data removed]"
          },
          "metadata": {
            "needs_background": "light"
          }
        }
      ]
    },
    {
      "cell_type": "code",
      "source": [
        "validation_patches_df_[(validation_patches_df_['stringLabel']=='V')]"
      ],
      "metadata": {
        "id": "P2OtuXiuD6ie",
        "colab": {
          "base_uri": "https://localhost:8080/",
          "height": 423
        },
        "outputId": "7e2b668a-ea2d-49ad-af66-6834b6c6a85c"
      },
      "id": "P2OtuXiuD6ie",
      "execution_count": null,
      "outputs": [
        {
          "output_type": "execute_result",
          "data": {
            "text/plain": [
              "                                                  first_lead  \\\n",
              "S028_22    [0.5067651601068696, 0.5138383490106936, 0.522...   \n",
              "S028_117   [0.5442432865359362, 0.5505141506676328, 0.576...   \n",
              "S028_267   [0.6271705672961781, 0.632751889099944, 0.6254...   \n",
              "S028_313   [0.5651618383730267, 0.574601166275819, 0.5674...   \n",
              "S028_334   [0.5294385602352296, 0.5433975771395809, 0.536...   \n",
              "...                                                      ...   \n",
              "S064_3008  [0.5006293506165419, 0.4922692351939029, 0.500...   \n",
              "S064_3013  [0.5036539217627517, 0.5165183945573055, 0.520...   \n",
              "S064_3091  [0.47970845752733676, 0.46900455389510787, 0.4...   \n",
              "S064_3097  [0.4829839003910734, 0.4731752280979677, 0.475...   \n",
              "S064_3106  [0.48920752226861863, 0.47993426274887546, 0.4...   \n",
              "\n",
              "                                                 second_lead stringLabel  \\\n",
              "S028_22    [0.4079328182273008, 0.4105438575786206, 0.413...           V   \n",
              "S028_117   [0.42532743375567006, 0.4293411078942064, 0.42...           V   \n",
              "S028_267   [0.6596580674399328, 0.6580953292726184, 0.658...           V   \n",
              "S028_313   [0.4498977403803196, 0.4566914039749203, 0.449...           V   \n",
              "S028_334   [0.542671839222709, 0.5440166366631394, 0.5517...           V   \n",
              "...                                                      ...         ...   \n",
              "S064_3008  [0.3332966911127721, 0.3185728414544626, 0.332...           V   \n",
              "S064_3013  [0.29683941342150694, 0.27981803057013493, 0.2...           V   \n",
              "S064_3091  [0.392390416051287, 0.37801700721027737, 0.402...           V   \n",
              "S064_3097  [0.3391451281559017, 0.31972162932075016, 0.35...           V   \n",
              "S064_3106  [0.4037899405771514, 0.40116040869347136, 0.42...           V   \n",
              "\n",
              "                     label  \n",
              "S028_22    [0.0, 0.0, 1.0]  \n",
              "S028_117   [0.0, 0.0, 1.0]  \n",
              "S028_267   [0.0, 0.0, 1.0]  \n",
              "S028_313   [0.0, 0.0, 1.0]  \n",
              "S028_334   [0.0, 0.0, 1.0]  \n",
              "...                    ...  \n",
              "S064_3008  [0.0, 0.0, 1.0]  \n",
              "S064_3013  [0.0, 0.0, 1.0]  \n",
              "S064_3091  [0.0, 0.0, 1.0]  \n",
              "S064_3097  [0.0, 0.0, 1.0]  \n",
              "S064_3106  [0.0, 0.0, 1.0]  \n",
              "\n",
              "[1703 rows x 4 columns]"
            ],
            "text/html": [
              "<div>\n",
              "<style scoped>\n",
              "    .dataframe tbody tr th:only-of-type {\n",
              "        vertical-align: middle;\n",
              "    }\n",
              "\n",
              "    .dataframe tbody tr th {\n",
              "        vertical-align: top;\n",
              "    }\n",
              "\n",
              "    .dataframe thead th {\n",
              "        text-align: right;\n",
              "    }\n",
              "</style>\n",
              "<table border=\"1\" class=\"dataframe\">\n",
              "  <thead>\n",
              "    <tr style=\"text-align: right;\">\n",
              "      <th></th>\n",
              "      <th>first_lead</th>\n",
              "      <th>second_lead</th>\n",
              "      <th>stringLabel</th>\n",
              "      <th>label</th>\n",
              "    </tr>\n",
              "  </thead>\n",
              "  <tbody>\n",
              "    <tr>\n",
              "      <th>S028_22</th>\n",
              "      <td>[0.5067651601068696, 0.5138383490106936, 0.522...</td>\n",
              "      <td>[0.4079328182273008, 0.4105438575786206, 0.413...</td>\n",
              "      <td>V</td>\n",
              "      <td>[0.0, 0.0, 1.0]</td>\n",
              "    </tr>\n",
              "    <tr>\n",
              "      <th>S028_117</th>\n",
              "      <td>[0.5442432865359362, 0.5505141506676328, 0.576...</td>\n",
              "      <td>[0.42532743375567006, 0.4293411078942064, 0.42...</td>\n",
              "      <td>V</td>\n",
              "      <td>[0.0, 0.0, 1.0]</td>\n",
              "    </tr>\n",
              "    <tr>\n",
              "      <th>S028_267</th>\n",
              "      <td>[0.6271705672961781, 0.632751889099944, 0.6254...</td>\n",
              "      <td>[0.6596580674399328, 0.6580953292726184, 0.658...</td>\n",
              "      <td>V</td>\n",
              "      <td>[0.0, 0.0, 1.0]</td>\n",
              "    </tr>\n",
              "    <tr>\n",
              "      <th>S028_313</th>\n",
              "      <td>[0.5651618383730267, 0.574601166275819, 0.5674...</td>\n",
              "      <td>[0.4498977403803196, 0.4566914039749203, 0.449...</td>\n",
              "      <td>V</td>\n",
              "      <td>[0.0, 0.0, 1.0]</td>\n",
              "    </tr>\n",
              "    <tr>\n",
              "      <th>S028_334</th>\n",
              "      <td>[0.5294385602352296, 0.5433975771395809, 0.536...</td>\n",
              "      <td>[0.542671839222709, 0.5440166366631394, 0.5517...</td>\n",
              "      <td>V</td>\n",
              "      <td>[0.0, 0.0, 1.0]</td>\n",
              "    </tr>\n",
              "    <tr>\n",
              "      <th>...</th>\n",
              "      <td>...</td>\n",
              "      <td>...</td>\n",
              "      <td>...</td>\n",
              "      <td>...</td>\n",
              "    </tr>\n",
              "    <tr>\n",
              "      <th>S064_3008</th>\n",
              "      <td>[0.5006293506165419, 0.4922692351939029, 0.500...</td>\n",
              "      <td>[0.3332966911127721, 0.3185728414544626, 0.332...</td>\n",
              "      <td>V</td>\n",
              "      <td>[0.0, 0.0, 1.0]</td>\n",
              "    </tr>\n",
              "    <tr>\n",
              "      <th>S064_3013</th>\n",
              "      <td>[0.5036539217627517, 0.5165183945573055, 0.520...</td>\n",
              "      <td>[0.29683941342150694, 0.27981803057013493, 0.2...</td>\n",
              "      <td>V</td>\n",
              "      <td>[0.0, 0.0, 1.0]</td>\n",
              "    </tr>\n",
              "    <tr>\n",
              "      <th>S064_3091</th>\n",
              "      <td>[0.47970845752733676, 0.46900455389510787, 0.4...</td>\n",
              "      <td>[0.392390416051287, 0.37801700721027737, 0.402...</td>\n",
              "      <td>V</td>\n",
              "      <td>[0.0, 0.0, 1.0]</td>\n",
              "    </tr>\n",
              "    <tr>\n",
              "      <th>S064_3097</th>\n",
              "      <td>[0.4829839003910734, 0.4731752280979677, 0.475...</td>\n",
              "      <td>[0.3391451281559017, 0.31972162932075016, 0.35...</td>\n",
              "      <td>V</td>\n",
              "      <td>[0.0, 0.0, 1.0]</td>\n",
              "    </tr>\n",
              "    <tr>\n",
              "      <th>S064_3106</th>\n",
              "      <td>[0.48920752226861863, 0.47993426274887546, 0.4...</td>\n",
              "      <td>[0.4037899405771514, 0.40116040869347136, 0.42...</td>\n",
              "      <td>V</td>\n",
              "      <td>[0.0, 0.0, 1.0]</td>\n",
              "    </tr>\n",
              "  </tbody>\n",
              "</table>\n",
              "<p>1703 rows × 4 columns</p>\n",
              "</div>"
            ]
          },
          "metadata": {},
          "execution_count": 16
        }
      ]
    },
    {
      "cell_type": "code",
      "source": [
        "    signal = validation_patches_df_.loc[\"S064_3008\"]\n",
        "    length = len(signal['first_lead'])\n",
        "    fig,ax1 = plt.subplots()\n",
        "    fig.set_size_inches(9, 6)\n",
        "  \n",
        "    \n",
        "    first_lead = signal['first_lead'][:length]\n",
        "    second_lead = signal['second_lead'][:length]\n",
        "    \n",
        "    x = list(range(length))\n",
        "    \n",
        "    ax1.plot(x,first_lead,color='blue')\n",
        "    \n",
        "    plt.show()"
      ],
      "metadata": {
        "colab": {
          "base_uri": "https://localhost:8080/",
          "height": 374
        },
        "id": "HyQNLqpGEC5V",
        "outputId": "27e33772-c3d6-4126-d6ee-51702af1a830"
      },
      "id": "HyQNLqpGEC5V",
      "execution_count": null,
      "outputs": [
        {
          "output_type": "display_data",
          "data": {
            "text/plain": [
              "<Figure size 648x432 with 1 Axes>"
            ],
            "image/png": "[encoded data removed]"
          },
          "metadata": {
            "needs_background": "light"
          }
        }
      ]
    },
    {
      "cell_type": "code",
      "source": [
        "    signal = validation_patches_df_.loc[\"S064_3059\"]\n",
        "    length = len(signal['first_lead'])\n",
        "    fig,ax1 = plt.subplots()\n",
        "    fig.set_size_inches(9, 6)\n",
        "  \n",
        "    \n",
        "    first_lead = signal['first_lead'][:length]\n",
        "    second_lead = signal['second_lead'][:length]\n",
        "    \n",
        "    x = list(range(length))\n",
        "    \n",
        "    ax1.plot(x,first_lead,color='blue')\n",
        "    \n",
        "    plt.show()"
      ],
      "metadata": {
        "id": "-xdAeXMaxp--"
      },
      "id": "-xdAeXMaxp--",
      "execution_count": null,
      "outputs": []
    },
    {
      "cell_type": "markdown",
      "metadata": {
        "id": "1l2ufSgJlkV1"
      },
      "source": [
        "<h2> Drop and resampling "
      ],
      "id": "1l2ufSgJlkV1"
    },
    {
      "cell_type": "code",
      "execution_count": null,
      "id": "7b4fd24d",
      "metadata": {
        "id": "7b4fd24d",
        "colab": {
          "base_uri": "https://localhost:8080/",
          "height": 387
        },
        "outputId": "5bfa8585-c17c-498a-fabf-f829e01d78b0"
      },
      "outputs": [
        {
          "output_type": "stream",
          "name": "stdout",
          "text": [
            "How many training indx: 168940\n",
            "Balancing training...\n",
            "pre drop: 181313\n",
            "post drop:27358\n",
            "20924\n",
            "1032\n",
            "1703\n",
            "Balancing validation\n"
          ]
        },
        {
          "output_type": "display_data",
          "data": {
            "text/plain": [
              "<Figure size 432x288 with 2 Axes>"
            ],
            "image/png": "[encoded data removed]"
          },
          "metadata": {}
        }
      ],
      "source": [
        "training_patches_df = training_patches_df_.copy(deep=True)\n",
        "validation_patches_df = validation_patches_df_.copy(deep=True)\n",
        "\n",
        "training_df.head()\n",
        "\n",
        "training_patients = training_df['sigId']\n",
        "validation_patients = validation_df['sigId']\n",
        "\n",
        "# calculate percentage of heartbeats to drop \n",
        "\n",
        "num_n = len(training_patches_df[(training_patches_df['stringLabel']=='N')])\n",
        "num_s = len(training_patches_df[(training_patches_df['stringLabel']=='S')])\n",
        "num_v = len(training_patches_df[(training_patches_df['stringLabel']=='V')])\n",
        "to_drop = num_n - max(num_s,num_v) * 2\n",
        "perc_to_drop_train = to_drop/(num_n)\n",
        "\n",
        "num_n = len(validation_patches_df[(validation_patches_df['stringLabel']=='N')])\n",
        "num_s = len(validation_patches_df[(validation_patches_df['stringLabel']=='S')])\n",
        "num_v = len(validation_patches_df[(validation_patches_df['stringLabel']=='V')])\n",
        "to_drop = 0\n",
        "perc_to_drop_valid = 0\n",
        "\n",
        "train_indexes = training_patches_df.index[training_patches_df['stringLabel'] == 'N'].tolist()\n",
        "valid_indexes = validation_patches_df.index[validation_patches_df['stringLabel'] == 'N'].tolist()\n",
        "\n",
        "print(f\"How many training indx: {len(train_indexes)}\")\n",
        "\n",
        "train_to_drop = list()\n",
        "valid_to_drop = list()\n",
        "lengths = list()\n",
        "dict_train = {}\n",
        "valid_train = {}\n",
        "\n",
        "print(\"Balancing training...\")\n",
        "\n",
        "for p in training_patients:\n",
        "    dict_train[p] = list()\n",
        "\n",
        "for hb in train_indexes:\n",
        "    dict_train[hb.split('_')[0]].append(hb)\n",
        "\n",
        "for p in dict_train:\n",
        "   random.shuffle(dict_train[p])\n",
        "\n",
        "for k in dict_train:\n",
        "    train_to_drop += dict_train[k][:int(len(dict_train[k]) * perc_to_drop_train)]\n",
        "\n",
        "print(f\"pre drop: {len(training_patches_df.index)}\")\n",
        "training_patches_df = training_patches_df.drop(train_to_drop)\n",
        "print(f\"post drop:{len(training_patches_df.index)}\")\n",
        "print(num_n)\n",
        "print(num_s)\n",
        "print(num_v)\n",
        "print(\"Balancing validation\")\n",
        "\n",
        "for p in validation_patients:\n",
        "    valid_train[p] = list()\n",
        "    \n",
        "for hb in valid_indexes:\n",
        "    valid_train[hb.split('_')[0]].append(hb)\n",
        "\n",
        "for p in valid_train:\n",
        "    random.shuffle(valid_train[p])\n",
        "\n",
        "for k in valid_train:\n",
        "    valid_to_drop += valid_train[k][:int(perc_to_drop_valid * len(valid_train[k]))]\n",
        "\n",
        "validation_balanced_patches_df = validation_patches_df.drop(valid_to_drop)\n",
        "\n",
        "\n",
        "training_labels = training_patches_df['stringLabel'].values\n",
        "validation_labels = validation_balanced_patches_df['stringLabel'].values\n",
        "\n",
        "classes = [\"N\",\"S\",\"V\"]\n",
        "\n",
        "training_counts = [0]*3\n",
        "validation_counts = [0]*3\n",
        "\n",
        "for l in training_labels:\n",
        "    training_counts[classes.index(l)] += 1\n",
        "for l in validation_labels:\n",
        "    validation_counts[classes.index(l)] += 1\n",
        "\n",
        "fig1, (ax1,ax2) = plt.subplots(1,2)\n",
        "\n",
        "ax1.pie(training_counts, explode=None, labels=classes, autopct='%1.1f%%',\n",
        "        shadow=False, startangle=90)\n",
        "ax1.axis('equal')  \n",
        "ax2.pie(validation_counts, explode=None, labels=classes, autopct='%1.1f%%',\n",
        "        shadow=False, startangle=90)\n",
        "ax2.axis('equal')  \n",
        "\n",
        "fig1.set_facecolor(\"white\")\n",
        "\n",
        "plt.show()\n"
      ]
    },
    {
      "cell_type": "code",
      "source": [
        "# resample v and s\n",
        "from sklearn.utils import shuffle\n",
        "\n",
        "\n",
        "ids_S = training_patches_df.index[training_patches_df['stringLabel']=='S']\n",
        "ids_V = training_patches_df.index[training_patches_df['stringLabel']=='V']\n",
        "ids_N = training_patches_df.index[training_patches_df['stringLabel']=='N']\n",
        "\n",
        "to_add = {}\n",
        "\n",
        "to_resample_s = len(ids_N) - len(ids_S)\n",
        "to_resample_v = len(ids_N) - len(ids_V)\n",
        "\n",
        "for i in tqdm(range(to_resample_s)):\n",
        "    id = random.choice(ids_S)\n",
        "    row = training_patches_df.loc[id]\n",
        "    idx = id + '_' + str(i)\n",
        "    to_add[idx] = {}\n",
        "    to_add[idx]['first_lead'] = row['first_lead']\n",
        "    to_add[idx]['second_lead'] = row['second_lead']\n",
        "    to_add[idx]['stringLabel'] = row['stringLabel']\n",
        "    to_add[idx]['label'] = row['label']\n",
        "\n",
        "\n",
        "\n",
        "for i in tqdm(range(to_resample_v)):\n",
        "    id = random.choice(ids_V)\n",
        "    row = training_patches_df.loc[id]\n",
        "    idx = id + '_' + str(i)\n",
        "    to_add[idx] = {}\n",
        "    to_add[idx]['first_lead'] = row['first_lead']\n",
        "    to_add[idx]['second_lead'] = row['second_lead']\n",
        "    to_add[idx]['stringLabel'] = row['stringLabel']\n",
        "    to_add[idx]['label'] = row['label']\n",
        "\n",
        "\n",
        "to_add_df = pd.DataFrame.from_dict(to_add,orient=\"index\")\n",
        "training_patches_df = pd.concat([training_patches_df,to_add_df],axis=0) \n",
        "training_patches_df = shuffle(training_patches_df)\n"
      ],
      "metadata": {
        "colab": {
          "base_uri": "https://localhost:8080/"
        },
        "id": "pVLGB1qgKsDu",
        "outputId": "0552e091-4f4b-4ba3-bc96-db1ea7de936c"
      },
      "id": "pVLGB1qgKsDu",
      "execution_count": null,
      "outputs": [
        {
          "output_type": "stream",
          "name": "stderr",
          "text": [
            "100%|███████████████████████████████████████████████████████████████████████████| 7512/7512 [00:00<00:00, 15247.19it/s]\n",
            "100%|█████████████████████████████████████████████████████████████████████████| 10085/10085 [00:00<00:00, 16037.33it/s]\n"
          ]
        }
      ]
    },
    {
      "cell_type": "code",
      "source": [
        "\n",
        "training_labels = training_patches_df['stringLabel'].values\n",
        "validation_labels = validation_balanced_patches_df['stringLabel'].values\n",
        "\n",
        "classes = [\"N\",\"S\",\"V\"]\n",
        "\n",
        "training_counts = [0]*3\n",
        "validation_counts = [0]*3\n",
        "\n",
        "for l in training_labels:\n",
        "    training_counts[classes.index(l)] += 1\n",
        "for l in validation_labels:\n",
        "    validation_counts[classes.index(l)] += 1\n",
        "\n",
        "fig1, (ax1,ax2) = plt.subplots(1,2)\n",
        "\n",
        "ax1.pie(training_counts, explode=None, labels=classes, autopct='%1.1f%%',\n",
        "        shadow=False, startangle=90)\n",
        "ax1.axis('equal')  \n",
        "ax2.pie(validation_counts, explode=None, labels=classes, autopct='%1.1f%%',\n",
        "        shadow=False, startangle=90)\n",
        "ax2.axis('equal')  \n",
        "\n",
        "fig1.set_facecolor(\"white\")\n",
        "\n",
        "plt.show()"
      ],
      "metadata": {
        "colab": {
          "base_uri": "https://localhost:8080/",
          "height": 248
        },
        "id": "BkE1OjD-K5lE",
        "outputId": "732dc4ac-3ede-40e0-d964-d25f215bc106"
      },
      "id": "BkE1OjD-K5lE",
      "execution_count": null,
      "outputs": [
        {
          "output_type": "display_data",
          "data": {
            "text/plain": [
              "<Figure size 432x288 with 2 Axes>"
            ],
            "image/png": "[encoded data removed]"
          },
          "metadata": {}
        }
      ]
    },
    {
      "cell_type": "markdown",
      "source": [
        "<h2>Create input"
      ],
      "metadata": {
        "id": "oSls57EwCw-o"
      },
      "id": "oSls57EwCw-o"
    },
    {
      "cell_type": "code",
      "execution_count": null,
      "id": "61c04340",
      "metadata": {
        "id": "61c04340"
      },
      "outputs": [],
      "source": [
        "def create_input(df):\n",
        "    \n",
        "    x = list()\n",
        "    y = list()\n",
        "    \n",
        "    for id in tqdm(df.index.tolist()):\n",
        "        row = df.loc[id]\n",
        "        x.append(np.transpose(np.asarray([row['first_lead'],row['second_lead']]).astype(np.float32)))\n",
        "        y.append(row['label'])\n",
        "\n",
        "    x = np.asarray(x).astype(np.float32)\n",
        "    y = np.asarray(y).astype(np.float32)\n",
        "    \n",
        "    return x,y\n"
      ]
    },
    {
      "cell_type": "code",
      "execution_count": null,
      "id": "ca8d6b36",
      "metadata": {
        "id": "ca8d6b36",
        "outputId": "2a2d4d37-0b2f-41a4-a93e-96e419d3dbd6",
        "colab": {
          "base_uri": "https://localhost:8080/"
        }
      },
      "outputs": [
        {
          "output_type": "stream",
          "name": "stderr",
          "text": [
            "100%|█████████████████████████████████████████████████████████████████████████| 44955/44955 [00:02<00:00, 15030.09it/s]\n",
            "100%|█████████████████████████████████████████████████████████████████████████| 23659/23659 [00:01<00:00, 15334.38it/s]\n",
            "100%|█████████████████████████████████████████████████████████████████████████| 24866/24866 [00:01<00:00, 15165.76it/s]\n"
          ]
        }
      ],
      "source": [
        "x_train,y_train = create_input(training_patches_df)\n",
        "x_valid,y_valid = create_input(validation_balanced_patches_df)\n",
        "x_test,y_test = create_input(test_patches_df)"
      ]
    },
    {
      "cell_type": "code",
      "source": [
        "#metric to monitor lr \n",
        "def get_lr_metric(optimizer):\n",
        "    def lr(y_true, y_pred):\n",
        "        return optimizer._decayed_lr(tf.float32) # I use ._decayed_lr method instead of .lr\n",
        "    return lr"
      ],
      "metadata": {
        "id": "0g-fXU9Xv3cW"
      },
      "id": "0g-fXU9Xv3cW",
      "execution_count": null,
      "outputs": []
    },
    {
      "cell_type": "code",
      "execution_count": null,
      "id": "b9a0e25d",
      "metadata": {
        "id": "b9a0e25d"
      },
      "outputs": [],
      "source": [
        "import seaborn as sns\n",
        "\n",
        "def ResBs_Conv(block_input, num_filters): \n",
        "   \n",
        "    # 0. Filter Block input and BatchNormalization\n",
        "    block_input = keras.layers.Conv1D(num_filters, kernel_size=7, strides = 2,  padding = 'same')(block_input) \n",
        "    block_input = keras.layers.BatchNormalization()(block_input)\n",
        "\n",
        "    # 1. First Convolutional Layer\n",
        "    conv1 = keras.layers.Conv1D(filters=num_filters, kernel_size=7, padding= 'same')(block_input)\n",
        "    norm1 = keras.layers.BatchNormalization()(conv1)\n",
        "    relu1 = keras.layers.Activation('relu')(norm1)  \n",
        "    dropout = keras.layers.Dropout(0.2)(relu1)\n",
        "    \n",
        "    # 2. Second Convolutional Layer \n",
        "    conv2 = keras.layers.Conv1D(num_filters, kernel_size=7, padding= 'same')(dropout) #per avere concordanza\n",
        "    norm2 = keras.layers.BatchNormalization()(conv2)\n",
        "\n",
        "    # 3. Summing Layer (adding a residual connection)\n",
        "    sum = keras.layers.Add()([block_input, norm2])\n",
        "    \n",
        "    # 4. Activation Layer\n",
        "    relu2 = keras.layers.Activation('relu')(sum)\n",
        "    \n",
        "    return relu2 \n",
        "\n",
        "def ResBs_Identity(block_input, num_filters): \n",
        "\n",
        "    # 1. First Convolutional Layer\n",
        "    conv1 = keras.layers.Conv1D(filters=num_filters, kernel_size=7, padding= 'same')(block_input)\n",
        "    norm1 = keras.layers.BatchNormalization()(conv1)\n",
        "    relu1 = keras.layers.Activation('relu')(norm1)    \n",
        "    dropout = keras.layers.Dropout(0.2)(relu1)\n",
        "    \n",
        "    # 2. Second Convolutional Layer \n",
        "    conv2 = keras.layers.Conv1D(num_filters, kernel_size=7, padding= 'same')(dropout) #per avere concordanza\n",
        "    norm2 = keras.layers.BatchNormalization()(conv2)\n",
        "\n",
        "    # 3. Summing Layer (adding a residual connection)\n",
        "    sum = keras.layers.Add()([block_input, norm2])\n",
        "    \n",
        "    # 4. Activation Layer\n",
        "    relu2 = keras.layers.Activation('relu')(sum)\n",
        "    \n",
        "    return relu2 \n",
        "\n",
        "#N= number of blocks in resnet, ch = different channels, win_len = common lenght for ecg signals, classes=..\n",
        "def resnet(input_shape, N=6, custom_loss = None): \n",
        "    ecg_input = keras.layers.Input(shape=input_shape, name='ecg_signal') \n",
        "    ResNet = keras.layers.Conv1D(filters=64,kernel_size=15, padding = 'same')(ecg_input) \n",
        "    ResNet = keras.layers.BatchNormalization()(ResNet)\n",
        "    ResNet = keras.layers.Activation('relu')(ResNet)\n",
        "    ResNet = keras.layers.MaxPooling1D(pool_size=2, strides = 2)(ResNet)\n",
        "    \n",
        "    # B.5 ResBs (x8) blocks\n",
        "    # First two ResNet blocks are identity blocks \n",
        "    ResNet = ResBs_Identity(ResNet, 64)\n",
        "    ResNet = ResBs_Identity(ResNet, 64)\n",
        "\n",
        "    filters = 64\n",
        "    M= int((N -2 )/2)\n",
        "    for i in range(M): \n",
        "        filters = filters*2\n",
        "        # define N-th ResBs block\n",
        "        ResNet = ResBs_Conv(ResNet, filters)\n",
        "        ResNet = ResBs_Identity(ResNet, filters)\n",
        "    \n",
        "    ResNet = keras.layers.GlobalMaxPooling1D(name='gmp_layer')(ResNet)\n",
        "\n",
        "    # Sigmoid activation function on the last layer to retrieve all the combination, instead of softmax\n",
        "    ResNet = keras.layers.Dense(3, activation='softmax',  name='softmax_classifier')(ResNet)\n",
        "\n",
        "    # Finally the model is composed by connecting inputs to outputs: \n",
        "    model = keras.Model(inputs=[ecg_input],outputs=ResNet)\n",
        "    return model\n",
        "\n",
        "nn= resnet(x_train.shape[1:])\n",
        "\n",
        "callback = keras.callbacks.EarlyStopping(\n",
        "    monitor='val_loss', \n",
        "    patience=10,\n",
        "    mode=\"auto\"\n",
        ")\n",
        "\n",
        "batch_size = 128\n",
        "initial_learning_rate = 1e-5\n",
        "lr_schedule = tf.keras.optimizers.schedules.ExponentialDecay(\n",
        "    initial_learning_rate,\n",
        "    decay_steps=int(len(x_train)/batch_size),\n",
        "    decay_rate=0.85,\n",
        "    staircase=True)\n",
        "\n",
        "opt = keras.optimizers.Adam(learning_rate=1e-5)#lr_schedule)\n",
        "\n",
        "lr_metric = get_lr_metric(opt)\n",
        "nn.compile(\n",
        "    optimizer = opt,\n",
        "    loss = 'categorical_crossentropy',\n",
        "    metrics = ['Precision', 'Recall', lr_metric],\n",
        "    \n",
        ")\n",
        "\n",
        "\n",
        "history = nn.fit(\n",
        "    x = x_train,\n",
        "    y = y_train, \n",
        "    batch_size = batch_size,\n",
        "    steps_per_epoch=len(x_train)/batch_size,\n",
        "    validation_data=(x_valid, y_valid),\n",
        "    epochs = 100,\n",
        "    shuffle = True,\n",
        "    callbacks=[callback]\n",
        "\n",
        ").history\n"
      ]
    },
    {
      "cell_type": "code",
      "source": [
        "import seaborn as sns \n",
        "def plot_confusion_matrix(y_true, y_pred):\n",
        "  \"\"\"\n",
        "    :param ndarray y_true: contains the ground truth labels in the shape (n_samples,)\n",
        "    :param ndarray y_pred: contains the predicted labels in the shape (n_samples,)\n",
        "  \"\"\"\n",
        "  #y_true = np.argmax(y_true,axis=1) already 1dimensional\n",
        "  #y_pred = np.argmax(y_pred,axis=1)\n",
        "  \n",
        "  con_mat = tf.math.confusion_matrix(labels=y_true, predictions=y_pred).numpy()\n",
        "  con_mat_norm = np.around(con_mat.astype('float') / con_mat.sum(axis=1)[:, np.newaxis], decimals=2)\n",
        "  con_mat_df = pd.DataFrame(con_mat_norm,\n",
        "                  index = classes, \n",
        "                  columns = classes)\n",
        "  figure = plt.figure(figsize=(8, 8))\n",
        "  sns.heatmap(con_mat_df, annot=True,cmap=plt.cm.Blues)\n",
        "  plt.tight_layout()\n",
        "  plt.ylabel('True label')\n",
        "  plt.xlabel('Predicted label')\n",
        "  plt.show()\n",
        "  return con_mat"
      ],
      "metadata": {
        "id": "iCysz4PsQZRn"
      },
      "id": "iCysz4PsQZRn",
      "execution_count": null,
      "outputs": []
    },
    {
      "cell_type": "code",
      "execution_count": null,
      "id": "424b06c0",
      "metadata": {
        "id": "424b06c0"
      },
      "outputs": [],
      "source": [
        "from sklearn.metrics import classification_report\n",
        "print(\"Making predictions on full validation set...\",end=\"\\r\")\n",
        "y_pred= nn.predict(x_valid)\n",
        "y_pred=np.argmax(y_pred,axis=1)\n",
        "y_val_classes=np.argmax(y_valid, axis=1)\n",
        "print(classification_report(y_val_classes, y_pred))\n",
        "conf = plot_confusion_matrix(y_val_classes, y_pred)"
      ]
    },
    {
      "cell_type": "code",
      "source": [
        "plt.plot(history[\"loss\"], label=\"Training Loss\")\n",
        "plt.plot(history[\"val_loss\"], label=\"Validation Loss\")\n",
        "plt.legend()\n",
        "plt.show()"
      ],
      "metadata": {
        "id": "10vRiPCILFzh"
      },
      "id": "10vRiPCILFzh",
      "execution_count": null,
      "outputs": []
    },
    {
      "cell_type": "markdown",
      "source": [
        "<h2> Save and load model"
      ],
      "metadata": {
        "id": "NlQBI2sGFaJ0"
      },
      "id": "NlQBI2sGFaJ0"
    },
    {
      "cell_type": "code",
      "source": [
        "# convert the history.history dict to a pandas DataFrame:     \n",
        "hist_df = pd.DataFrame(history) \n",
        "net_name = 'ResNetV0'\n",
        "# save to csv: \n",
        "hist_csv_file = net_name +'_history.csv'\n",
        "with open(os.path.join(cwd,hist_csv_file), mode='w') as f:\n",
        "    hist_df.to_csv(f)\n",
        "nn.save_weights(os.path.join(cwd,net_name +'_weights.h5'))\n",
        "nn.save(os.path.join(cwd,net_name))"
      ],
      "metadata": {
        "id": "5hZvAhkiclSW"
      },
      "id": "5hZvAhkiclSW",
      "execution_count": null,
      "outputs": []
    },
    {
      "cell_type": "code",
      "source": [
        "nn= resnet(x_train.shape[1:])\n",
        "\n",
        "callback = keras.callbacks.EarlyStopping(\n",
        "    monitor='val_loss', \n",
        "    patience=10,\n",
        "    mode=\"auto\",\n",
        "    restore_best_weights=True,\n",
        "\n",
        ")\n",
        "\n",
        "\n",
        "initial_learning_rate = 1e-4\n",
        "lr_schedule = tf.keras.optimizers.schedules.ExponentialDecay(\n",
        "    initial_learning_rate,\n",
        "    decay_steps=int(len(x_train)/batch_size)*2,\n",
        "    decay_rate=0.85,\n",
        "    staircase=True)\n",
        "\n",
        "opt = keras.optimizers.Adam(learning_rate=lr_schedule)\n",
        "\n",
        "lr_metric = get_lr_metric(opt)\n",
        "nn.compile(\n",
        "    optimizer = opt,\n",
        "    loss = 'categorical_crossentropy',\n",
        "    metrics = ['Precision', 'Recall', lr_metric],\n",
        "    \n",
        ")\n",
        "\n",
        "nn.load_weights(os.path.join(cwd,net_name +'_weights.h5'))\n"
      ],
      "metadata": {
        "id": "LMkTbGU3FQe3"
      },
      "id": "LMkTbGU3FQe3",
      "execution_count": null,
      "outputs": []
    }
  ],
  "metadata": {
    "kernelspec": {
      "display_name": "tf-gpu",
      "language": "python",
      "name": "tf-gpu"
    },
    "language_info": {
      "codemirror_mode": {
        "name": "ipython",
        "version": 3
      },
      "file_extension": ".py",
      "mimetype": "text/x-python",
      "name": "python",
      "nbconvert_exporter": "python",
      "pygments_lexer": "ipython3",
      "version": "3.9.7"
    },
    "colab": {
      "name": "FinalResnet.ipynb",
      "provenance": [],
      "collapsed_sections": [],
      "include_colab_link": true
    },
    "accelerator": "GPU"
  },
  "nbformat": 4,
  "nbformat_minor": 5
}