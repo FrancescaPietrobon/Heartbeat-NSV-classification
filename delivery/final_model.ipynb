{
 "cells": [
  {
   "cell_type": "markdown",
   "metadata": {},
   "source": [
    "Notebook that contains the final model evaluation"
   ]
  },
  {
   "cell_type": "code",
   "execution_count": 4,
   "metadata": {},
   "outputs": [
    {
     "name": "stderr",
     "output_type": "stream",
     "text": [
      "100%|██████████| 105/105 [00:00<00:00, 1132.93it/s]\n"
     ]
    },
    {
     "data": {
      "text/html": [
       "<div>\n",
       "<style scoped>\n",
       "    .dataframe tbody tr th:only-of-type {\n",
       "        vertical-align: middle;\n",
       "    }\n",
       "\n",
       "    .dataframe tbody tr th {\n",
       "        vertical-align: top;\n",
       "    }\n",
       "\n",
       "    .dataframe thead th {\n",
       "        text-align: right;\n",
       "    }\n",
       "</style>\n",
       "<table border=\"1\" class=\"dataframe\">\n",
       "  <thead>\n",
       "    <tr style=\"text-align: right;\">\n",
       "      <th></th>\n",
       "      <th>sigId</th>\n",
       "      <th>ecg_lead_1</th>\n",
       "      <th>ecg_lead_2</th>\n",
       "      <th>peaks</th>\n",
       "      <th>frequencies</th>\n",
       "      <th>labels</th>\n",
       "    </tr>\n",
       "  </thead>\n",
       "  <tbody>\n",
       "    <tr>\n",
       "      <th>0</th>\n",
       "      <td>S001</td>\n",
       "      <td>[0.0, 0.04, 0.03, 0.0, 0.03, 0.09, 0.18, 0.14,...</td>\n",
       "      <td>[0.08, 0.07, 0.1, 0.06, 0.06, 0.03, 0.1, 0.21,...</td>\n",
       "      <td>[29, 110, 191, 272, 353, 433, 514, 595, 676, 7...</td>\n",
       "      <td>128</td>\n",
       "      <td>[N, N, N, N, N, N, N, N, N, N, N, N, N, N, N, ...</td>\n",
       "    </tr>\n",
       "    <tr>\n",
       "      <th>1</th>\n",
       "      <td>S002</td>\n",
       "      <td>[-0.035, -0.045, -0.025, -0.035, -0.045, -0.05...</td>\n",
       "      <td>[-0.095, -0.105, -0.095, -0.095, -0.115, -0.09...</td>\n",
       "      <td>[48, 153, 243, 352, 440, 547, 636, 742, 831, 9...</td>\n",
       "      <td>128</td>\n",
       "      <td>[N, N, N, N, S, N, S, N, S, N, S, N, S, N, S, ...</td>\n",
       "    </tr>\n",
       "    <tr>\n",
       "      <th>2</th>\n",
       "      <td>S003</td>\n",
       "      <td>[-0.56, -0.56, -0.55, -0.47, -0.53, -0.47, -0....</td>\n",
       "      <td>[0.43, 0.56, 0.6, 0.41, 0.54, 0.48, 0.56, 0.46...</td>\n",
       "      <td>[91, 209, 326, 394, 537, 653, 745, 872, 984, 1...</td>\n",
       "      <td>128</td>\n",
       "      <td>[N, N, N, S, N, N, S, N, N, S, N, N, N, N, N, ...</td>\n",
       "    </tr>\n",
       "    <tr>\n",
       "      <th>3</th>\n",
       "      <td>S004</td>\n",
       "      <td>[-0.46, -0.49, -0.52, -0.58, -0.62, -0.69, -0....</td>\n",
       "      <td>[0.56, 0.61, 0.66, 0.66, 0.63, 0.66, 0.59, 0.5...</td>\n",
       "      <td>[98, 223, 349, 474, 599, 726, 853, 980, 1116, ...</td>\n",
       "      <td>128</td>\n",
       "      <td>[N, N, N, N, N, N, N, N, N, N, N, N, N, N, N, ...</td>\n",
       "    </tr>\n",
       "    <tr>\n",
       "      <th>4</th>\n",
       "      <td>S005</td>\n",
       "      <td>[-0.27, -0.17, -0.13, -0.23, -0.18, -0.23, -0....</td>\n",
       "      <td>[-0.02, -0.04, -0.01, -0.01, -0.02, -0.06, 0.0...</td>\n",
       "      <td>[27, 127, 225, 324, 423, 523, 623, 722, 822, 9...</td>\n",
       "      <td>128</td>\n",
       "      <td>[N, N, N, N, N, N, N, N, N, N, N, N, N, N, N, ...</td>\n",
       "    </tr>\n",
       "  </tbody>\n",
       "</table>\n",
       "</div>"
      ],
      "text/plain": [
       "  sigId                                         ecg_lead_1  \\\n",
       "0  S001  [0.0, 0.04, 0.03, 0.0, 0.03, 0.09, 0.18, 0.14,...   \n",
       "1  S002  [-0.035, -0.045, -0.025, -0.035, -0.045, -0.05...   \n",
       "2  S003  [-0.56, -0.56, -0.55, -0.47, -0.53, -0.47, -0....   \n",
       "3  S004  [-0.46, -0.49, -0.52, -0.58, -0.62, -0.69, -0....   \n",
       "4  S005  [-0.27, -0.17, -0.13, -0.23, -0.18, -0.23, -0....   \n",
       "\n",
       "                                          ecg_lead_2  \\\n",
       "0  [0.08, 0.07, 0.1, 0.06, 0.06, 0.03, 0.1, 0.21,...   \n",
       "1  [-0.095, -0.105, -0.095, -0.095, -0.115, -0.09...   \n",
       "2  [0.43, 0.56, 0.6, 0.41, 0.54, 0.48, 0.56, 0.46...   \n",
       "3  [0.56, 0.61, 0.66, 0.66, 0.63, 0.66, 0.59, 0.5...   \n",
       "4  [-0.02, -0.04, -0.01, -0.01, -0.02, -0.06, 0.0...   \n",
       "\n",
       "                                               peaks frequencies  \\\n",
       "0  [29, 110, 191, 272, 353, 433, 514, 595, 676, 7...         128   \n",
       "1  [48, 153, 243, 352, 440, 547, 636, 742, 831, 9...         128   \n",
       "2  [91, 209, 326, 394, 537, 653, 745, 872, 984, 1...         128   \n",
       "3  [98, 223, 349, 474, 599, 726, 853, 980, 1116, ...         128   \n",
       "4  [27, 127, 225, 324, 423, 523, 623, 722, 822, 9...         128   \n",
       "\n",
       "                                              labels  \n",
       "0  [N, N, N, N, N, N, N, N, N, N, N, N, N, N, N, ...  \n",
       "1  [N, N, N, N, S, N, S, N, S, N, S, N, S, N, S, ...  \n",
       "2  [N, N, N, S, N, N, S, N, N, S, N, N, N, N, N, ...  \n",
       "3  [N, N, N, N, N, N, N, N, N, N, N, N, N, N, N, ...  \n",
       "4  [N, N, N, N, N, N, N, N, N, N, N, N, N, N, N, ...  "
      ]
     },
     "execution_count": 4,
     "metadata": {},
     "output_type": "execute_result"
    }
   ],
   "source": [
    "import os \n",
    "import zipfile \n",
    "from scipy.io import loadmat \n",
    "import pandas as pd\n",
    "import matplotlib.pyplot as plt \n",
    "import numpy as np\n",
    "import io\n",
    "from PIL import Image\n",
    "import tensorflow as tf \n",
    "from tensorflow import keras\n",
    "import sys\n",
    "from tqdm import tqdm\n",
    "import random\n",
    "from sklearn.model_selection import train_test_split\n",
    "import pywt \n",
    "\n",
    "\n",
    "SEED = 123\n",
    "os.environ['PYTHONHASHSEED'] = str(SEED)\n",
    "random.seed(SEED)\n",
    "np.random.seed(SEED)\n",
    "tf.random.set_seed(SEED)\n",
    "\n",
    "\n",
    "dataset_current_folder = \"../training_set.zip\" # where the zip is\n",
    "dataset_folder = \"C://Users//simon//Desktop//AppliedAI-project\" # where I want the dataset - avoid the current folder as Git doesn't allow huge uploads\n",
    "\n",
    "with zipfile.ZipFile(dataset_current_folder, 'r') as zip: # extract the zip file into the desired folder \n",
    "    zip.extractall(dataset_folder)\n",
    "\n",
    "def load_data(sample_prefix, input_dir):    # everything is returned as a numpy array which is easier to manipulate\n",
    "    label_filepath = os.path.join(input_dir, sample_prefix + '_ann.mat')\n",
    "    peak_filepath = os.path.join(input_dir, sample_prefix + '_rpk.mat')\n",
    "    signal_filepath = os.path.join(input_dir, sample_prefix + '.mat')\n",
    "    if os.path.isfile(label_filepath):\n",
    "        mat_file = loadmat(label_filepath)\n",
    "        label = np.asarray(mat_file['labels'])\n",
    "    if os.path.isfile(peak_filepath):\n",
    "        mat_file = loadmat(peak_filepath)\n",
    "        peaks = np.array(mat_file['rpeaks'],dtype=np.int64)\n",
    "    if os.path.isfile(signal_filepath):\n",
    "        mat_file = loadmat(signal_filepath)\n",
    "        signal = np.asarray(mat_file['ecg'] )\n",
    "\n",
    "    return label, peaks, signal\n",
    "\n",
    "\n",
    "labels = list()             # labels \n",
    "ids = list()                # Id of samples \n",
    "rpeaks = list()             # detected peaks of the signal \n",
    "ecg_signals = list()        # .mat ecg signal \n",
    "frequencies = list()        # sample frequency of the ecg signal \n",
    "\n",
    "\n",
    "for f in os.listdir(dataset_folder):\n",
    "  if f.lower().endswith('.mat'):\n",
    "    id = f[:4]\n",
    "    if id not in ids:\n",
    "      ids.append(id)\n",
    "      sample_prefix = f[:8]\n",
    "      label, peak, signal = load_data(sample_prefix, dataset_folder)\n",
    "      labels.append(label)\n",
    "      rpeaks.append(peak)\n",
    "      ecg_signals.append(signal)\n",
    "      frequencies.append(int(sample_prefix[5:]))\n",
    "cols = [\"sigId\",\"ecg_lead_1\",\"ecg_lead_2\",\"peaks\",\"frequencies\",\"labels\"]\n",
    "\n",
    "# ecg signals is 105 rows [,,,,,]\n",
    "\n",
    "first_lead_signals = []\n",
    "second_lead_signals = []\n",
    "\n",
    "for signal in ecg_signals:\n",
    "    first_lead_signals.append(signal[:,0].tolist())    # converting the array to list as list of array is deprecated \n",
    "    second_lead_signals.append(signal[:,1].tolist())\n",
    "\n",
    "df = pd.DataFrame(data =[ids,first_lead_signals,second_lead_signals,rpeaks,frequencies,labels]).T\n",
    "df.columns = cols\n",
    "\n",
    "# transform peaks \n",
    "for id in tqdm(df.index.tolist()):\n",
    "    peaks = df.iloc[id]['peaks']\n",
    "    p_list = list()\n",
    "    for p in peaks:\n",
    "        p_list.append(p[0])\n",
    "    df.iloc[id]['peaks'] = np.asarray(p_list).astype(np.int64)\n",
    "\n",
    "df.head()"
   ]
  },
  {
   "cell_type": "markdown",
   "metadata": {},
   "source": [
    "<h2>Downsampling "
   ]
  },
  {
   "cell_type": "code",
   "execution_count": 5,
   "metadata": {},
   "outputs": [
    {
     "name": "stderr",
     "output_type": "stream",
     "text": [
      "100%|██████████| 40/40 [00:04<00:00,  8.46it/s]\n"
     ]
    }
   ],
   "source": [
    "\n",
    "\n",
    "from scipy.signal import resample\n",
    "\n",
    "ids_128 = df[df['frequencies'] == 128].index.tolist() # 65 signals are sampled using fs = 128\n",
    "ids_250 = df[df['frequencies'] == 250].index.tolist() # 65 signals are sampled using fs = 128\n",
    "sampled_len =  len(df.iloc[ids_250[0]]['ecg_lead_1'])\n",
    "resampled_len = len(df.iloc[ids_128[0]]['ecg_lead_1'])\n",
    "\n",
    "for id in tqdm(ids_250):\n",
    "    row = df.iloc[id]\n",
    "    # first lead\n",
    "    signal = np.asarray(row['ecg_lead_1']).astype(np.float32)\n",
    "    resampled_1 = resample(signal,resampled_len)\n",
    "    \n",
    "    # second lead\n",
    "    \n",
    "    signal = np.asarray(row['ecg_lead_2']).astype(np.float32)\n",
    "    resampled_2 = resample(signal,resampled_len)\n",
    "    \n",
    "    df.iloc[id]['ecg_lead_1'] = resampled_1.tolist()\n",
    "    df.iloc[id]['ecg_lead_2'] = resampled_2.tolist()\n",
    "    \n",
    "    for i,p in enumerate(list(df.iloc[id]['peaks'])):\n",
    "        df.iloc[id]['peaks'][i] = int(resampled_len * p/sampled_len)\n"
   ]
  },
  {
   "cell_type": "markdown",
   "metadata": {},
   "source": [
    "<h2>Bandpass filtering"
   ]
  },
  {
   "cell_type": "code",
   "execution_count": 6,
   "metadata": {},
   "outputs": [
    {
     "name": "stderr",
     "output_type": "stream",
     "text": [
      "100%|██████████| 105/105 [00:02<00:00, 44.42it/s]\n"
     ]
    }
   ],
   "source": [
    "#Preprocessing used in practical lessons\n",
    "from scipy.signal import resample, butter, lfilter, iirnotch\n",
    "\n",
    "def notch_filter(cutoff, fs, q=30):\n",
    "    nyq = 0.5*fs\n",
    "    freq = cutoff/nyq\n",
    "    b, a = iirnotch(freq, q)\n",
    "    return b, a\n",
    "\n",
    "\n",
    "def bandpass_filter(data, filter_order=6, lowcut = .8, highcut = 45, signal_freq=128):\n",
    "    \"\"\"\n",
    "    Method responsible for creating and applying Butterworth filter.\n",
    "    :param deque data: raw data\n",
    "    :param float lowcut: filter lowcut frequency value\n",
    "    :param float highcut: filter highcut frequency value\n",
    "    :param int signal_freq: signal frequency in samples per second (Hz)\n",
    "    :param int filter_order: filter order\n",
    "    :return array: filtered data\n",
    "    \"\"\"\n",
    "    powerline = 60\n",
    "    nyquist_freq = 0.5 * signal_freq\n",
    "    low = lowcut / nyquist_freq\n",
    "    high = highcut / nyquist_freq\n",
    "    b, a = butter(filter_order, [low, high], btype=\"band\")\n",
    "    y = lfilter(b, a, data,zi = None)\n",
    "    #b,a = notch_filter(powerline,signal_freq)\n",
    "    #y = lfilter(b,a,y)\n",
    "    return y\n",
    "\n",
    "\n",
    "\n",
    "filtered_df = df.copy(deep= True)\n",
    "\n",
    "ids = filtered_df.index.tolist()\n",
    "\n",
    "for id_ in tqdm(ids):\n",
    "    \n",
    "    row = filtered_df.iloc[id_]\n",
    "    first = row['ecg_lead_1']\n",
    "    second = row['ecg_lead_2']\n",
    "    filtered_first = np.asarray(bandpass_filter(first))\n",
    "    filtered_second =  np.asarray(bandpass_filter(second))\n",
    "\n",
    "    filtered_df.iloc[id_]['ecg_lead_1'] = pd.Series(filtered_first)\n",
    "    filtered_df.iloc[id_]['ecg_lead_2'] = pd.Series(filtered_second)"
   ]
  },
  {
   "cell_type": "markdown",
   "metadata": {},
   "source": [
    "<h2>Scaling to [0:1] in 10 seconds time window "
   ]
  },
  {
   "cell_type": "code",
   "execution_count": 7,
   "metadata": {},
   "outputs": [
    {
     "name": "stderr",
     "output_type": "stream",
     "text": [
      "100%|██████████| 105/105 [00:15<00:00,  6.92it/s]\n"
     ]
    }
   ],
   "source": [
    "import heartpy as hp\n",
    "\n",
    "fs = 128\n",
    "time_window = 10\n",
    "samples = fs * time_window ##\n",
    "\n",
    "for id in tqdm(filtered_df.index.tolist()):\n",
    "    row = filtered_df.loc[id]\n",
    "    first_lead = row['ecg_lead_1']\n",
    "    second_lead = row['ecg_lead_2']\n",
    "    l_ = len(first_lead)\n",
    "    scaled_1 = list()\n",
    "    scaled_2 = list()\n",
    "#    \n",
    "    for i in range(int(l_/samples)):\n",
    "        to_scale_1 = first_lead[i*samples:i*samples+samples] \n",
    "        to_scale_2 = second_lead[i*samples:i*samples+samples]\n",
    "#        \n",
    "        scaled_1 += list(hp.scale_data(to_scale_1,lower=0,upper=1))\n",
    "        scaled_2 += list(hp.scale_data(to_scale_2,lower=0,upper=1))\n",
    " ##   \n",
    "    filtered_df.loc[id]['ecg_lead_1'] = scaled_1\n",
    "    filtered_df.loc[id]['ecg_lead_2'] = scaled_2"
   ]
  },
  {
   "cell_type": "markdown",
   "metadata": {},
   "source": [
    "<h2>Outliers detection and removal using zscore</h2>"
   ]
  },
  {
   "cell_type": "code",
   "execution_count": 8,
   "metadata": {},
   "outputs": [
    {
     "data": {
      "text/html": [
       "<div>\n",
       "<style scoped>\n",
       "    .dataframe tbody tr th:only-of-type {\n",
       "        vertical-align: middle;\n",
       "    }\n",
       "\n",
       "    .dataframe tbody tr th {\n",
       "        vertical-align: top;\n",
       "    }\n",
       "\n",
       "    .dataframe thead th {\n",
       "        text-align: right;\n",
       "    }\n",
       "</style>\n",
       "<table border=\"1\" class=\"dataframe\">\n",
       "  <thead>\n",
       "    <tr style=\"text-align: right;\">\n",
       "      <th></th>\n",
       "      <th>mean_lead1</th>\n",
       "      <th>median_lead1</th>\n",
       "      <th>std_lead1</th>\n",
       "      <th>var_lead1</th>\n",
       "      <th>skew_lead1</th>\n",
       "      <th>kurt_lead1</th>\n",
       "      <th>mean_lead2</th>\n",
       "      <th>median_lead2</th>\n",
       "      <th>std_lead2</th>\n",
       "      <th>var_lead2</th>\n",
       "      <th>skew_lead2</th>\n",
       "      <th>kurt_lead2</th>\n",
       "    </tr>\n",
       "  </thead>\n",
       "  <tbody>\n",
       "    <tr>\n",
       "      <th>0</th>\n",
       "      <td>0.476086</td>\n",
       "      <td>0.474618</td>\n",
       "      <td>0.128357</td>\n",
       "      <td>0.016476</td>\n",
       "      <td>0.065871</td>\n",
       "      <td>3.853435</td>\n",
       "      <td>0.600828</td>\n",
       "      <td>0.613177</td>\n",
       "      <td>0.119664</td>\n",
       "      <td>0.014319</td>\n",
       "      <td>-1.328497</td>\n",
       "      <td>6.504245</td>\n",
       "    </tr>\n",
       "    <tr>\n",
       "      <th>1</th>\n",
       "      <td>0.309628</td>\n",
       "      <td>0.315643</td>\n",
       "      <td>0.118704</td>\n",
       "      <td>0.014091</td>\n",
       "      <td>2.242173</td>\n",
       "      <td>11.961672</td>\n",
       "      <td>0.662428</td>\n",
       "      <td>0.672944</td>\n",
       "      <td>0.144363</td>\n",
       "      <td>0.020841</td>\n",
       "      <td>-1.038713</td>\n",
       "      <td>3.939288</td>\n",
       "    </tr>\n",
       "    <tr>\n",
       "      <th>2</th>\n",
       "      <td>0.462381</td>\n",
       "      <td>0.466913</td>\n",
       "      <td>0.122431</td>\n",
       "      <td>0.014989</td>\n",
       "      <td>-0.007802</td>\n",
       "      <td>2.618824</td>\n",
       "      <td>0.570732</td>\n",
       "      <td>0.586303</td>\n",
       "      <td>0.134329</td>\n",
       "      <td>0.018044</td>\n",
       "      <td>-0.788964</td>\n",
       "      <td>3.169306</td>\n",
       "    </tr>\n",
       "    <tr>\n",
       "      <th>3</th>\n",
       "      <td>0.399816</td>\n",
       "      <td>0.366260</td>\n",
       "      <td>0.149092</td>\n",
       "      <td>0.022228</td>\n",
       "      <td>0.955791</td>\n",
       "      <td>1.976279</td>\n",
       "      <td>0.658729</td>\n",
       "      <td>0.681179</td>\n",
       "      <td>0.162172</td>\n",
       "      <td>0.026300</td>\n",
       "      <td>-1.171663</td>\n",
       "      <td>1.827310</td>\n",
       "    </tr>\n",
       "    <tr>\n",
       "      <th>4</th>\n",
       "      <td>0.478230</td>\n",
       "      <td>0.488412</td>\n",
       "      <td>0.131123</td>\n",
       "      <td>0.017193</td>\n",
       "      <td>-0.046548</td>\n",
       "      <td>4.308083</td>\n",
       "      <td>0.555436</td>\n",
       "      <td>0.561574</td>\n",
       "      <td>0.148968</td>\n",
       "      <td>0.022191</td>\n",
       "      <td>-0.156231</td>\n",
       "      <td>1.414820</td>\n",
       "    </tr>\n",
       "    <tr>\n",
       "      <th>...</th>\n",
       "      <td>...</td>\n",
       "      <td>...</td>\n",
       "      <td>...</td>\n",
       "      <td>...</td>\n",
       "      <td>...</td>\n",
       "      <td>...</td>\n",
       "      <td>...</td>\n",
       "      <td>...</td>\n",
       "      <td>...</td>\n",
       "      <td>...</td>\n",
       "      <td>...</td>\n",
       "      <td>...</td>\n",
       "    </tr>\n",
       "    <tr>\n",
       "      <th>100</th>\n",
       "      <td>0.394100</td>\n",
       "      <td>0.385903</td>\n",
       "      <td>0.132414</td>\n",
       "      <td>0.017534</td>\n",
       "      <td>0.582383</td>\n",
       "      <td>1.942821</td>\n",
       "      <td>0.426588</td>\n",
       "      <td>0.419286</td>\n",
       "      <td>0.116018</td>\n",
       "      <td>0.013460</td>\n",
       "      <td>0.446691</td>\n",
       "      <td>2.379165</td>\n",
       "    </tr>\n",
       "    <tr>\n",
       "      <th>101</th>\n",
       "      <td>0.437926</td>\n",
       "      <td>0.430825</td>\n",
       "      <td>0.127339</td>\n",
       "      <td>0.016215</td>\n",
       "      <td>0.479884</td>\n",
       "      <td>3.274700</td>\n",
       "      <td>0.444411</td>\n",
       "      <td>0.452348</td>\n",
       "      <td>0.126760</td>\n",
       "      <td>0.016068</td>\n",
       "      <td>0.327382</td>\n",
       "      <td>3.613294</td>\n",
       "    </tr>\n",
       "    <tr>\n",
       "      <th>102</th>\n",
       "      <td>0.345843</td>\n",
       "      <td>0.332378</td>\n",
       "      <td>0.115116</td>\n",
       "      <td>0.013252</td>\n",
       "      <td>1.653328</td>\n",
       "      <td>6.466284</td>\n",
       "      <td>0.403117</td>\n",
       "      <td>0.404505</td>\n",
       "      <td>0.114159</td>\n",
       "      <td>0.013032</td>\n",
       "      <td>0.996624</td>\n",
       "      <td>6.575469</td>\n",
       "    </tr>\n",
       "    <tr>\n",
       "      <th>103</th>\n",
       "      <td>0.514950</td>\n",
       "      <td>0.522097</td>\n",
       "      <td>0.098893</td>\n",
       "      <td>0.009780</td>\n",
       "      <td>-0.152302</td>\n",
       "      <td>9.197804</td>\n",
       "      <td>0.461116</td>\n",
       "      <td>0.445006</td>\n",
       "      <td>0.129433</td>\n",
       "      <td>0.016753</td>\n",
       "      <td>0.508997</td>\n",
       "      <td>1.575390</td>\n",
       "    </tr>\n",
       "    <tr>\n",
       "      <th>104</th>\n",
       "      <td>0.537678</td>\n",
       "      <td>0.539089</td>\n",
       "      <td>0.106207</td>\n",
       "      <td>0.011280</td>\n",
       "      <td>-0.579932</td>\n",
       "      <td>6.520010</td>\n",
       "      <td>0.659409</td>\n",
       "      <td>0.655174</td>\n",
       "      <td>0.129539</td>\n",
       "      <td>0.016781</td>\n",
       "      <td>-1.179600</td>\n",
       "      <td>6.316306</td>\n",
       "    </tr>\n",
       "  </tbody>\n",
       "</table>\n",
       "<p>105 rows × 12 columns</p>\n",
       "</div>"
      ],
      "text/plain": [
       "     mean_lead1  median_lead1  std_lead1  var_lead1  skew_lead1  kurt_lead1  \\\n",
       "0      0.476086      0.474618   0.128357   0.016476    0.065871    3.853435   \n",
       "1      0.309628      0.315643   0.118704   0.014091    2.242173   11.961672   \n",
       "2      0.462381      0.466913   0.122431   0.014989   -0.007802    2.618824   \n",
       "3      0.399816      0.366260   0.149092   0.022228    0.955791    1.976279   \n",
       "4      0.478230      0.488412   0.131123   0.017193   -0.046548    4.308083   \n",
       "..          ...           ...        ...        ...         ...         ...   \n",
       "100    0.394100      0.385903   0.132414   0.017534    0.582383    1.942821   \n",
       "101    0.437926      0.430825   0.127339   0.016215    0.479884    3.274700   \n",
       "102    0.345843      0.332378   0.115116   0.013252    1.653328    6.466284   \n",
       "103    0.514950      0.522097   0.098893   0.009780   -0.152302    9.197804   \n",
       "104    0.537678      0.539089   0.106207   0.011280   -0.579932    6.520010   \n",
       "\n",
       "     mean_lead2  median_lead2  std_lead2  var_lead2  skew_lead2  kurt_lead2  \n",
       "0      0.600828      0.613177   0.119664   0.014319   -1.328497    6.504245  \n",
       "1      0.662428      0.672944   0.144363   0.020841   -1.038713    3.939288  \n",
       "2      0.570732      0.586303   0.134329   0.018044   -0.788964    3.169306  \n",
       "3      0.658729      0.681179   0.162172   0.026300   -1.171663    1.827310  \n",
       "4      0.555436      0.561574   0.148968   0.022191   -0.156231    1.414820  \n",
       "..          ...           ...        ...        ...         ...         ...  \n",
       "100    0.426588      0.419286   0.116018   0.013460    0.446691    2.379165  \n",
       "101    0.444411      0.452348   0.126760   0.016068    0.327382    3.613294  \n",
       "102    0.403117      0.404505   0.114159   0.013032    0.996624    6.575469  \n",
       "103    0.461116      0.445006   0.129433   0.016753    0.508997    1.575390  \n",
       "104    0.659409      0.655174   0.129539   0.016781   -1.179600    6.316306  \n",
       "\n",
       "[105 rows x 12 columns]"
      ]
     },
     "metadata": {},
     "output_type": "display_data"
    }
   ],
   "source": [
    "from scipy import stats\n",
    "\n",
    "# Function for the computation of rhythm data \n",
    "def get_2ECG_rhythmfeatures(data):\n",
    "  \n",
    "  #   mean\n",
    "  mean_lead = np.mean(data)\n",
    "\n",
    "  #   median\n",
    "  median_lead = np.median(data)\n",
    "\n",
    "  #   standard deviation\n",
    "  std_lead = np.std(data)\n",
    "\n",
    "  #   variance\n",
    "  var_lead = stats.tvar(data)\n",
    "\n",
    "  #   Skewness\n",
    "  skew_lead = stats.skew(data)\n",
    "\n",
    "  #   Kurtosis\n",
    "  kurt_lead = stats.kurtosis(data)\n",
    "\n",
    "  features = np.hstack([mean_lead,median_lead,std_lead,var_lead,skew_lead,kurt_lead])\n",
    "\n",
    "  return features\n",
    "#-------------------------------------------------------------------------------\n",
    "\n",
    "#Training\n",
    "\n",
    "features_rhythm_lead1 = list()\n",
    "features_rhythm_lead2 = list()\n",
    "\n",
    "\n",
    "for i in range(filtered_df.shape[0]):\n",
    "  tmp_lead1 = get_2ECG_rhythmfeatures(filtered_df['ecg_lead_1'][i])\n",
    "  features_rhythm_lead1.append(tmp_lead1)\n",
    "  tmp_lead2 = get_2ECG_rhythmfeatures(filtered_df['ecg_lead_2'][i])\n",
    "  features_rhythm_lead2.append(tmp_lead2)\n",
    "\n",
    "features_rhythm_lead1 = pd.DataFrame(features_rhythm_lead1, columns = ['mean_lead1', 'median_lead1', 'std_lead1', 'var_lead1', 'skew_lead1','kurt_lead1'])\n",
    "features_rhythm_lead2 = pd.DataFrame(features_rhythm_lead2, columns = ['mean_lead2', 'median_lead2', 'std_lead2', 'var_lead2', 'skew_lead2','kurt_lead2'])\n",
    "\n",
    "features_rhythm = pd.concat([features_rhythm_lead1, features_rhythm_lead2], axis=1)\n",
    "\n",
    "features = pd.DataFrame(features_rhythm, columns = ['mean_lead1', 'median_lead1', 'std_lead1', 'var_lead1', 'skew_lead1','kurt_lead1',\n",
    "                                                    'mean_lead2', 'median_lead2', 'std_lead2', 'var_lead2', 'skew_lead2','kurt_lead2'])\n",
    "display(features) "
   ]
  },
  {
   "cell_type": "code",
   "execution_count": 9,
   "metadata": {},
   "outputs": [],
   "source": [
    "def plot_outliersAnalysis(abs_zscores):\n",
    "  # number of outliers per subject \n",
    "  bool_zscores = (abs_zscores > 3).sum(axis=1)\n",
    "  bool_zscores.hist()\n",
    "  plt.title(\"Number of outliers per subject\")\n",
    "  plt.show()\n",
    "\n",
    "  # number of outliers per feature \n",
    "  bool_zscores = (abs_zscores > 3).sum(axis=0)\n",
    "  #bool_zscores.hist(bins = len(feature_list))\n",
    "  fig = plt.figure()\n",
    "  ax = fig.add_axes([0,0,1,1])\n",
    "\n",
    "  ax.bar(feature_list,bool_zscores)\n",
    "  plt.title(\"Number of outliers per feature\")\n",
    "  plt.xticks(np.arange(len(feature_list)), feature_list,rotation=90)\n",
    "  plt.show()\n",
    "  return"
   ]
  },
  {
   "cell_type": "code",
   "execution_count": 10,
   "metadata": {},
   "outputs": [
    {
     "name": "stdout",
     "output_type": "stream",
     "text": [
      "Train subjects before outlier removal: (105, 12)\n",
      "Train subjects after outlier removal: (99, 12)\n"
     ]
    },
    {
     "data": {
      "image/png": "[encoded data removed]",
      "text/plain": [
       "<Figure size 432x288 with 1 Axes>"
      ]
     },
     "metadata": {
      "needs_background": "light"
     },
     "output_type": "display_data"
    },
    {
     "data": {
      "image/png": "[encoded data removed]",
      "text/plain": [
       "<Figure size 432x288 with 1 Axes>"
      ]
     },
     "metadata": {
      "needs_background": "light"
     },
     "output_type": "display_data"
    },
    {
     "data": {
      "text/html": [
       "<div>\n",
       "<style scoped>\n",
       "    .dataframe tbody tr th:only-of-type {\n",
       "        vertical-align: middle;\n",
       "    }\n",
       "\n",
       "    .dataframe tbody tr th {\n",
       "        vertical-align: top;\n",
       "    }\n",
       "\n",
       "    .dataframe thead th {\n",
       "        text-align: right;\n",
       "    }\n",
       "</style>\n",
       "<table border=\"1\" class=\"dataframe\">\n",
       "  <thead>\n",
       "    <tr style=\"text-align: right;\">\n",
       "      <th></th>\n",
       "      <th>mean_lead1</th>\n",
       "      <th>median_lead1</th>\n",
       "      <th>std_lead1</th>\n",
       "      <th>var_lead1</th>\n",
       "      <th>skew_lead1</th>\n",
       "      <th>kurt_lead1</th>\n",
       "      <th>mean_lead2</th>\n",
       "      <th>median_lead2</th>\n",
       "      <th>std_lead2</th>\n",
       "      <th>var_lead2</th>\n",
       "      <th>skew_lead2</th>\n",
       "      <th>kurt_lead2</th>\n",
       "    </tr>\n",
       "  </thead>\n",
       "  <tbody>\n",
       "    <tr>\n",
       "      <th>0</th>\n",
       "      <td>0.476086</td>\n",
       "      <td>0.474618</td>\n",
       "      <td>0.128357</td>\n",
       "      <td>0.016476</td>\n",
       "      <td>0.065871</td>\n",
       "      <td>3.853435</td>\n",
       "      <td>0.600828</td>\n",
       "      <td>0.613177</td>\n",
       "      <td>0.119664</td>\n",
       "      <td>0.014319</td>\n",
       "      <td>-1.328497</td>\n",
       "      <td>6.504245</td>\n",
       "    </tr>\n",
       "    <tr>\n",
       "      <th>1</th>\n",
       "      <td>0.309628</td>\n",
       "      <td>0.315643</td>\n",
       "      <td>0.118704</td>\n",
       "      <td>0.014091</td>\n",
       "      <td>2.242173</td>\n",
       "      <td>11.961672</td>\n",
       "      <td>0.662428</td>\n",
       "      <td>0.672944</td>\n",
       "      <td>0.144363</td>\n",
       "      <td>0.020841</td>\n",
       "      <td>-1.038713</td>\n",
       "      <td>3.939288</td>\n",
       "    </tr>\n",
       "    <tr>\n",
       "      <th>2</th>\n",
       "      <td>0.462381</td>\n",
       "      <td>0.466913</td>\n",
       "      <td>0.122431</td>\n",
       "      <td>0.014989</td>\n",
       "      <td>-0.007802</td>\n",
       "      <td>2.618824</td>\n",
       "      <td>0.570732</td>\n",
       "      <td>0.586303</td>\n",
       "      <td>0.134329</td>\n",
       "      <td>0.018044</td>\n",
       "      <td>-0.788964</td>\n",
       "      <td>3.169306</td>\n",
       "    </tr>\n",
       "    <tr>\n",
       "      <th>3</th>\n",
       "      <td>0.399816</td>\n",
       "      <td>0.366260</td>\n",
       "      <td>0.149092</td>\n",
       "      <td>0.022228</td>\n",
       "      <td>0.955791</td>\n",
       "      <td>1.976279</td>\n",
       "      <td>0.658729</td>\n",
       "      <td>0.681179</td>\n",
       "      <td>0.162172</td>\n",
       "      <td>0.026300</td>\n",
       "      <td>-1.171663</td>\n",
       "      <td>1.827310</td>\n",
       "    </tr>\n",
       "    <tr>\n",
       "      <th>4</th>\n",
       "      <td>0.478230</td>\n",
       "      <td>0.488412</td>\n",
       "      <td>0.131123</td>\n",
       "      <td>0.017193</td>\n",
       "      <td>-0.046548</td>\n",
       "      <td>4.308083</td>\n",
       "      <td>0.555436</td>\n",
       "      <td>0.561574</td>\n",
       "      <td>0.148968</td>\n",
       "      <td>0.022191</td>\n",
       "      <td>-0.156231</td>\n",
       "      <td>1.414820</td>\n",
       "    </tr>\n",
       "    <tr>\n",
       "      <th>...</th>\n",
       "      <td>...</td>\n",
       "      <td>...</td>\n",
       "      <td>...</td>\n",
       "      <td>...</td>\n",
       "      <td>...</td>\n",
       "      <td>...</td>\n",
       "      <td>...</td>\n",
       "      <td>...</td>\n",
       "      <td>...</td>\n",
       "      <td>...</td>\n",
       "      <td>...</td>\n",
       "      <td>...</td>\n",
       "    </tr>\n",
       "    <tr>\n",
       "      <th>100</th>\n",
       "      <td>0.394100</td>\n",
       "      <td>0.385903</td>\n",
       "      <td>0.132414</td>\n",
       "      <td>0.017534</td>\n",
       "      <td>0.582383</td>\n",
       "      <td>1.942821</td>\n",
       "      <td>0.426588</td>\n",
       "      <td>0.419286</td>\n",
       "      <td>0.116018</td>\n",
       "      <td>0.013460</td>\n",
       "      <td>0.446691</td>\n",
       "      <td>2.379165</td>\n",
       "    </tr>\n",
       "    <tr>\n",
       "      <th>101</th>\n",
       "      <td>0.437926</td>\n",
       "      <td>0.430825</td>\n",
       "      <td>0.127339</td>\n",
       "      <td>0.016215</td>\n",
       "      <td>0.479884</td>\n",
       "      <td>3.274700</td>\n",
       "      <td>0.444411</td>\n",
       "      <td>0.452348</td>\n",
       "      <td>0.126760</td>\n",
       "      <td>0.016068</td>\n",
       "      <td>0.327382</td>\n",
       "      <td>3.613294</td>\n",
       "    </tr>\n",
       "    <tr>\n",
       "      <th>102</th>\n",
       "      <td>0.345843</td>\n",
       "      <td>0.332378</td>\n",
       "      <td>0.115116</td>\n",
       "      <td>0.013252</td>\n",
       "      <td>1.653328</td>\n",
       "      <td>6.466284</td>\n",
       "      <td>0.403117</td>\n",
       "      <td>0.404505</td>\n",
       "      <td>0.114159</td>\n",
       "      <td>0.013032</td>\n",
       "      <td>0.996624</td>\n",
       "      <td>6.575469</td>\n",
       "    </tr>\n",
       "    <tr>\n",
       "      <th>103</th>\n",
       "      <td>0.514950</td>\n",
       "      <td>0.522097</td>\n",
       "      <td>0.098893</td>\n",
       "      <td>0.009780</td>\n",
       "      <td>-0.152302</td>\n",
       "      <td>9.197804</td>\n",
       "      <td>0.461116</td>\n",
       "      <td>0.445006</td>\n",
       "      <td>0.129433</td>\n",
       "      <td>0.016753</td>\n",
       "      <td>0.508997</td>\n",
       "      <td>1.575390</td>\n",
       "    </tr>\n",
       "    <tr>\n",
       "      <th>104</th>\n",
       "      <td>0.537678</td>\n",
       "      <td>0.539089</td>\n",
       "      <td>0.106207</td>\n",
       "      <td>0.011280</td>\n",
       "      <td>-0.579932</td>\n",
       "      <td>6.520010</td>\n",
       "      <td>0.659409</td>\n",
       "      <td>0.655174</td>\n",
       "      <td>0.129539</td>\n",
       "      <td>0.016781</td>\n",
       "      <td>-1.179600</td>\n",
       "      <td>6.316306</td>\n",
       "    </tr>\n",
       "  </tbody>\n",
       "</table>\n",
       "<p>99 rows × 12 columns</p>\n",
       "</div>"
      ],
      "text/plain": [
       "     mean_lead1  median_lead1  std_lead1  var_lead1  skew_lead1  kurt_lead1  \\\n",
       "0      0.476086      0.474618   0.128357   0.016476    0.065871    3.853435   \n",
       "1      0.309628      0.315643   0.118704   0.014091    2.242173   11.961672   \n",
       "2      0.462381      0.466913   0.122431   0.014989   -0.007802    2.618824   \n",
       "3      0.399816      0.366260   0.149092   0.022228    0.955791    1.976279   \n",
       "4      0.478230      0.488412   0.131123   0.017193   -0.046548    4.308083   \n",
       "..          ...           ...        ...        ...         ...         ...   \n",
       "100    0.394100      0.385903   0.132414   0.017534    0.582383    1.942821   \n",
       "101    0.437926      0.430825   0.127339   0.016215    0.479884    3.274700   \n",
       "102    0.345843      0.332378   0.115116   0.013252    1.653328    6.466284   \n",
       "103    0.514950      0.522097   0.098893   0.009780   -0.152302    9.197804   \n",
       "104    0.537678      0.539089   0.106207   0.011280   -0.579932    6.520010   \n",
       "\n",
       "     mean_lead2  median_lead2  std_lead2  var_lead2  skew_lead2  kurt_lead2  \n",
       "0      0.600828      0.613177   0.119664   0.014319   -1.328497    6.504245  \n",
       "1      0.662428      0.672944   0.144363   0.020841   -1.038713    3.939288  \n",
       "2      0.570732      0.586303   0.134329   0.018044   -0.788964    3.169306  \n",
       "3      0.658729      0.681179   0.162172   0.026300   -1.171663    1.827310  \n",
       "4      0.555436      0.561574   0.148968   0.022191   -0.156231    1.414820  \n",
       "..          ...           ...        ...        ...         ...         ...  \n",
       "100    0.426588      0.419286   0.116018   0.013460    0.446691    2.379165  \n",
       "101    0.444411      0.452348   0.126760   0.016068    0.327382    3.613294  \n",
       "102    0.403117      0.404505   0.114159   0.013032    0.996624    6.575469  \n",
       "103    0.461116      0.445006   0.129433   0.016753    0.508997    1.575390  \n",
       "104    0.659409      0.655174   0.129539   0.016781   -1.179600    6.316306  \n",
       "\n",
       "[99 rows x 12 columns]"
      ]
     },
     "metadata": {},
     "output_type": "display_data"
    }
   ],
   "source": [
    "from scipy.stats import zscore\n",
    "import numpy as np\n",
    "\n",
    "feature_list = features.columns.tolist()\n",
    "print('Train subjects before outlier removal: ' + str(features.shape))\n",
    "\n",
    "# apply zscore\n",
    "zscore_features = features.apply(zscore, axis=0)\n",
    "\n",
    "# select all those values with zscore < -+ 3 and discard outliers \n",
    "abs_zscores = np.abs(zscore_features)\n",
    "filtered_entries = (abs_zscores < 3).all(axis=1)\n",
    "\n",
    "features_or = features[filtered_entries]\n",
    "\n",
    "print('Train subjects after outlier removal: ' + str(features_or.shape))\n",
    "\n",
    "\n",
    "plot_outliersAnalysis(abs_zscores)\n",
    "display(features_or)"
   ]
  },
  {
   "cell_type": "code",
   "execution_count": 11,
   "metadata": {},
   "outputs": [],
   "source": [
    "features_or.index\n",
    "filtered_df = filtered_df.loc[features_or.index]"
   ]
  },
  {
   "cell_type": "markdown",
   "metadata": {},
   "source": [
    "<h2> RR distances analysis"
   ]
  },
  {
   "cell_type": "code",
   "execution_count": 12,
   "metadata": {},
   "outputs": [
    {
     "name": "stderr",
     "output_type": "stream",
     "text": [
      "  0%|          | 0/99 [00:00<?, ?it/s]C:\\Users\\simon\\AppData\\Local\\Temp/ipykernel_24492/1816920695.py:24: RuntimeWarning: Mean of empty slice.\n",
      "  RR_dict[sig_Id]['AVG_S_distance'] = RR_dict[sig_Id]['S_distances'].mean()\n",
      "100%|██████████| 99/99 [00:00<00:00, 377.60it/s]\n"
     ]
    },
    {
     "data": {
      "text/html": [
       "<div>\n",
       "<style scoped>\n",
       "    .dataframe tbody tr th:only-of-type {\n",
       "        vertical-align: middle;\n",
       "    }\n",
       "\n",
       "    .dataframe tbody tr th {\n",
       "        vertical-align: top;\n",
       "    }\n",
       "\n",
       "    .dataframe thead th {\n",
       "        text-align: right;\n",
       "    }\n",
       "</style>\n",
       "<table border=\"1\" class=\"dataframe\">\n",
       "  <thead>\n",
       "    <tr style=\"text-align: right;\">\n",
       "      <th></th>\n",
       "      <th>RR_distances</th>\n",
       "      <th>S_distances</th>\n",
       "      <th>Avg_RR_distance</th>\n",
       "      <th>AVG_S_distance</th>\n",
       "    </tr>\n",
       "  </thead>\n",
       "  <tbody>\n",
       "    <tr>\n",
       "      <th>S114</th>\n",
       "      <td>[117, 116, 115, 112, 113, 114, 114, 112, 116, ...</td>\n",
       "      <td>[]</td>\n",
       "      <td>114.914745</td>\n",
       "      <td>NaN</td>\n",
       "    </tr>\n",
       "    <tr>\n",
       "      <th>S115</th>\n",
       "      <td>[113, 118, 80, 151, 118, 123, 76, 152, 119, 11...</td>\n",
       "      <td>[73]</td>\n",
       "      <td>89.041006</td>\n",
       "      <td>73.000000</td>\n",
       "    </tr>\n",
       "    <tr>\n",
       "      <th>S116</th>\n",
       "      <td>[143, 145, 141, 146, 143, 142, 144, 142, 143, ...</td>\n",
       "      <td>[75]</td>\n",
       "      <td>122.611082</td>\n",
       "      <td>75.000000</td>\n",
       "    </tr>\n",
       "    <tr>\n",
       "      <th>S117</th>\n",
       "      <td>[142, 143, 147, 148, 145, 139, 148, 139, 140, ...</td>\n",
       "      <td>[119, 99, 92, 100, 99, 92, 91, 92, 89, 87, 82,...</td>\n",
       "      <td>106.363048</td>\n",
       "      <td>83.558719</td>\n",
       "    </tr>\n",
       "    <tr>\n",
       "      <th>S118</th>\n",
       "      <td>[85, 84, 86, 81, 82, 85, 81, 83, 83, 82, 84, 8...</td>\n",
       "      <td>[]</td>\n",
       "      <td>93.967755</td>\n",
       "      <td>NaN</td>\n",
       "    </tr>\n",
       "  </tbody>\n",
       "</table>\n",
       "</div>"
      ],
      "text/plain": [
       "                                           RR_distances  \\\n",
       "S114  [117, 116, 115, 112, 113, 114, 114, 112, 116, ...   \n",
       "S115  [113, 118, 80, 151, 118, 123, 76, 152, 119, 11...   \n",
       "S116  [143, 145, 141, 146, 143, 142, 144, 142, 143, ...   \n",
       "S117  [142, 143, 147, 148, 145, 139, 148, 139, 140, ...   \n",
       "S118  [85, 84, 86, 81, 82, 85, 81, 83, 83, 82, 84, 8...   \n",
       "\n",
       "                                            S_distances  Avg_RR_distance  \\\n",
       "S114                                                 []       114.914745   \n",
       "S115                                               [73]        89.041006   \n",
       "S116                                               [75]       122.611082   \n",
       "S117  [119, 99, 92, 100, 99, 92, 91, 92, 89, 87, 82,...       106.363048   \n",
       "S118                                                 []        93.967755   \n",
       "\n",
       "      AVG_S_distance  \n",
       "S114             NaN  \n",
       "S115       73.000000  \n",
       "S116       75.000000  \n",
       "S117       83.558719  \n",
       "S118             NaN  "
      ]
     },
     "execution_count": 12,
     "metadata": {},
     "output_type": "execute_result"
    }
   ],
   "source": [
    "signal_ids = filtered_df.index.tolist()\n",
    "RR_dict = {}\n",
    "\n",
    "for id_ in tqdm(signal_ids):  \n",
    "  sig_Id = df.iloc[id_]['sigId']\n",
    "  RR_dict[sig_Id] = {}\n",
    "  RR_dict[sig_Id]['RR_distances'] = list()\n",
    "  RR_dict[sig_Id]['S_distances'] = list()\n",
    "  \n",
    "  peaks = df.iloc[id_]['peaks']\n",
    "  labels = df.iloc[id_]['labels']\n",
    "\n",
    "  for i,p in enumerate(peaks[1:-1]):\n",
    "    RR_distance = p-peaks[i]\n",
    "    if(RR_distance < 250): # discard outliers\n",
    "      RR_dict[sig_Id]['RR_distances'].append(RR_distance)\n",
    "      if(labels[i+1] == 'S'):\n",
    "        RR_dict[sig_Id]['S_distances'].append(RR_distance)\n",
    "\n",
    "  RR_dict[sig_Id]['RR_distances'] = np.asarray(RR_dict[sig_Id]['RR_distances'])\n",
    "  RR_dict[sig_Id]['S_distances'] = np.asarray(RR_dict[sig_Id]['S_distances'])\n",
    "\n",
    "  RR_dict[sig_Id]['Avg_RR_distance'] = RR_dict[sig_Id]['RR_distances'].mean()\n",
    "  RR_dict[sig_Id]['AVG_S_distance'] = RR_dict[sig_Id]['S_distances'].mean()\n",
    "\n",
    "\n",
    "RR_df = pd.DataFrame.from_dict(RR_dict,orient=\"index\")\n",
    "RR_df.tail()"
   ]
  },
  {
   "cell_type": "code",
   "execution_count": 13,
   "metadata": {},
   "outputs": [],
   "source": [
    "import heartpy as hp \n",
    "\n",
    "classes = np.array([\"N\",\"S\",\"V\"])\n",
    "\n",
    "patch_length = 350 \n",
    "\n",
    "def convert_to_one_hot(label):\n",
    "    return np.array(classes == label,dtype=np.float32)\n",
    "\n",
    "def create_patch_dataset(df):\n",
    "    \n",
    "    dataset_dict = {}\n",
    "    ids = df['sigId']\n",
    "   \n",
    "    for id in tqdm(ids):\n",
    "        row = df[df['sigId'] == id]\n",
    "        sigId = row['sigId'].values[0]\n",
    "        peaks = row['peaks'].values[0]\n",
    "        first_lead_signal = row['ecg_lead_1'].values[0]\n",
    "        second_lead_signal = row['ecg_lead_2'].values[0]\n",
    "        labels = row['labels'].values[0]\n",
    "        avg_RR = RR_df.loc[sigId]['Avg_RR_distance'] # T for the signal \n",
    "\n",
    "        for i,peak in enumerate(peaks):\n",
    "            \n",
    "            stringIdx = str(sigId)+'_'+str(i)    \n",
    "            dataset_dict[stringIdx] = {}\n",
    "            dataset_dict[stringIdx][\"first_lead\"] = list()\n",
    "            dataset_dict[stringIdx][\"second_lead\"] = list()\n",
    "            size = list(range(int(peak-(avg_RR)),int(peak+avg_RR)))\n",
    "\n",
    "            for s in size:\n",
    "                if(s < 0 or s >= len(first_lead_signal)):\n",
    "                    dataset_dict[stringIdx][\"first_lead\"].append(0.5)\n",
    "                    dataset_dict[stringIdx][\"second_lead\"].append(0.5)\n",
    "                else:\n",
    "                    dataset_dict[stringIdx][\"first_lead\"].append(first_lead_signal[s])\n",
    "                    dataset_dict[stringIdx][\"second_lead\"].append(second_lead_signal[s])\n",
    "            \n",
    "            first_lead = dataset_dict[stringIdx][\"first_lead\"][:]\n",
    "            second_lead = dataset_dict[stringIdx][\"second_lead\"][:]\n",
    "            \n",
    "            first_lead = resample(first_lead,patch_length)\n",
    "            second_lead = resample(second_lead,patch_length)\n",
    "            \n",
    "            dataset_dict[stringIdx][\"first_lead\"] = first_lead[:]\n",
    "            dataset_dict[stringIdx][\"second_lead\"] = second_lead[:]\n",
    "            \n",
    "            #dataset_dict[stringIdx][\"dwt_1\"] = pywt.dwt(first_lead,'db4','constant')\n",
    "            #dataset_dict[stringIdx][\"dwt_2\"] = pywt.dwt(second_lead,'db4','constant')\n",
    "\n",
    "            #dataset_dict[stringIdx][\"dwt_1\"] = pywt.wavedec(first_lead, 'db3', level=2)\n",
    "            #dataset_dict[stringIdx][\"dwt_2\"] = pywt.wavedec(second_lead, 'db3', level=2)\n",
    "            \n",
    "            dataset_dict[stringIdx][\"stringLabel\"] = labels[i]\n",
    "            dataset_dict[stringIdx][\"label\"] = convert_to_one_hot(labels[i])\n",
    "\n",
    "    dataset_df = pd.DataFrame.from_dict(dataset_dict,orient=\"index\")\n",
    "    return dataset_df"
   ]
  },
  {
   "cell_type": "markdown",
   "metadata": {},
   "source": [
    "<h2> Split dataset by patient & creation of patches"
   ]
  },
  {
   "cell_type": "code",
   "execution_count": 14,
   "metadata": {},
   "outputs": [
    {
     "name": "stderr",
     "output_type": "stream",
     "text": [
      "100%|██████████| 79/79 [00:27<00:00,  2.86it/s]\n",
      "100%|██████████| 10/10 [00:03<00:00,  3.14it/s]\n",
      "100%|██████████| 10/10 [00:03<00:00,  3.03it/s]\n"
     ]
    }
   ],
   "source": [
    "\n",
    "training_df, test_df_ = train_test_split(filtered_df,test_size = 0.2,random_state=SEED)\n",
    "validation_df, test_df = train_test_split(test_df_,test_size = 0.5,random_state=SEED)\n",
    "\n",
    "training_patches_df_ = create_patch_dataset(training_df)\n",
    "validation_patches_df = create_patch_dataset(validation_df)\n",
    "test_patches_df = create_patch_dataset(test_df)\n"
   ]
  },
  {
   "cell_type": "markdown",
   "metadata": {},
   "source": [
    "<h2> Drop and resampling "
   ]
  },
  {
   "cell_type": "code",
   "execution_count": 15,
   "metadata": {},
   "outputs": [
    {
     "name": "stdout",
     "output_type": "stream",
     "text": [
      "How many training indx: 168940\n",
      "Balancing training...\n",
      "pre drop: 181313\n",
      "post drop:27358\n",
      "168940\n",
      "7473\n",
      "4900\n",
      "Balancing validation\n"
     ]
    },
    {
     "data": {
      "image/png": "[encoded data removed]",
      "text/plain": [
       "<Figure size 432x288 with 2 Axes>"
      ]
     },
     "metadata": {},
     "output_type": "display_data"
    }
   ],
   "source": [
    "training_patches_df = training_patches_df_.copy(deep=True)\n",
    "\n",
    "training_patients = training_df['sigId']\n",
    "validation_patients = validation_df['sigId']\n",
    "\n",
    "# calculate percentage of heartbeats to drop \n",
    "\n",
    "num_n = len(training_patches_df[(training_patches_df['stringLabel']=='N')])\n",
    "num_s = len(training_patches_df[(training_patches_df['stringLabel']=='S')])\n",
    "num_v = len(training_patches_df[(training_patches_df['stringLabel']=='V')])\n",
    "to_drop = num_n - max(num_s,num_v) * 2\n",
    "perc_to_drop_train = to_drop/(num_n)\n",
    "\n",
    "train_indexes = training_patches_df.index[training_patches_df['stringLabel'] == 'N'].tolist()\n",
    "\n",
    "print(f\"How many training indx: {len(train_indexes)}\")\n",
    "\n",
    "train_to_drop = list()\n",
    "lengths = list()\n",
    "dict_train = {}\n",
    "\n",
    "print(\"Balancing training...\")\n",
    "\n",
    "for p in training_patients:\n",
    "    dict_train[p] = list()\n",
    "\n",
    "for hb in train_indexes:\n",
    "    dict_train[hb.split('_')[0]].append(hb)\n",
    "\n",
    "for p in dict_train:\n",
    "   random.shuffle(dict_train[p])\n",
    "\n",
    "for k in dict_train:\n",
    "    train_to_drop += dict_train[k][:int(len(dict_train[k]) * perc_to_drop_train)]\n",
    "\n",
    "print(f\"pre drop: {len(training_patches_df.index)}\")\n",
    "training_patches_df = training_patches_df.drop(train_to_drop)\n",
    "print(f\"post drop:{len(training_patches_df.index)}\")\n",
    "print(num_n)\n",
    "print(num_s)\n",
    "print(num_v)\n",
    "print(\"Balancing validation\")\n",
    "\n",
    "\n",
    "\n",
    "training_labels = training_patches_df['stringLabel'].values\n",
    "\n",
    "classes = [\"N\",\"S\",\"V\"]\n",
    "\n",
    "training_counts = [0]*3\n",
    "\n",
    "\n",
    "for l in training_labels:\n",
    "    training_counts[classes.index(l)] += 1\n",
    "\n",
    "\n",
    "fig1, (ax1,ax2) = plt.subplots(1,2)\n",
    "\n",
    "ax1.pie(training_counts, explode=None, labels=classes, autopct='%1.1f%%',\n",
    "        shadow=False, startangle=90)\n",
    "ax1.axis('equal')  \n",
    "\n",
    "fig1.set_facecolor(\"white\")\n",
    "\n",
    "plt.show()\n"
   ]
  },
  {
   "cell_type": "code",
   "execution_count": 16,
   "metadata": {},
   "outputs": [
    {
     "name": "stdout",
     "output_type": "stream",
     "text": [
      "S: 7473\n",
      "V: 4900\n",
      "N: 14985\n",
      "S to res\n",
      "7512\n",
      "V to res\n",
      "10085\n"
     ]
    },
    {
     "name": "stderr",
     "output_type": "stream",
     "text": [
      "100%|██████████| 7512/7512 [00:00<00:00, 18026.98it/s]\n",
      "100%|██████████| 10085/10085 [00:00<00:00, 19828.25it/s]"
     ]
    },
    {
     "name": "stdout",
     "output_type": "stream",
     "text": [
      "S: 14985\n",
      "V: 14985\n",
      "N: 14985\n"
     ]
    },
    {
     "name": "stderr",
     "output_type": "stream",
     "text": [
      "\n"
     ]
    }
   ],
   "source": [
    "# resample v and s\n",
    "from sklearn.utils import shuffle\n",
    "\n",
    "\n",
    "ids_S = training_patches_df.index[training_patches_df['stringLabel']=='S']\n",
    "ids_V = training_patches_df.index[training_patches_df['stringLabel']=='V']\n",
    "ids_N = training_patches_df.index[training_patches_df['stringLabel']=='N']\n",
    "\n",
    "print(f\"S: {len(ids_S)}\")\n",
    "print(f\"V: {len(ids_V)}\")\n",
    "print(f\"N: {len(ids_N)}\")\n",
    "\n",
    "to_add = {}\n",
    "\n",
    "to_resample_s = len(ids_N) - len(ids_S)\n",
    "to_resample_v = len(ids_N) - len(ids_V)\n",
    "\n",
    "print(\"S to res\")\n",
    "print(to_resample_s)\n",
    "print(\"V to res\")\n",
    "print(to_resample_v)\n",
    "\n",
    "for i in tqdm(range(to_resample_s)):\n",
    "    id = random.choice(ids_S)\n",
    "    row = training_patches_df.loc[id]\n",
    "    idx = id + '_' + str(i)\n",
    "    to_add[idx] = {}\n",
    "    to_add[idx]['first_lead'] = row['first_lead']\n",
    "    to_add[idx]['second_lead'] = row['second_lead']\n",
    "    to_add[idx]['stringLabel'] = row['stringLabel']\n",
    "    to_add[idx]['label'] = row['label']\n",
    "\n",
    "\n",
    "\n",
    "for i in tqdm(range(to_resample_v)):\n",
    "    id = random.choice(ids_V)\n",
    "    row = training_patches_df.loc[id]\n",
    "    idx = id + '_' + str(i)\n",
    "    to_add[idx] = {}\n",
    "    to_add[idx]['first_lead'] = row['first_lead']\n",
    "    to_add[idx]['second_lead'] = row['second_lead']\n",
    "    to_add[idx]['stringLabel'] = row['stringLabel']\n",
    "    to_add[idx]['label'] = row['label']\n",
    "\n",
    "\n",
    "to_add_df = pd.DataFrame.from_dict(to_add,orient=\"index\")\n",
    "training_patches_df = pd.concat([training_patches_df,to_add_df],axis=0) \n",
    "training_patches_df = shuffle(training_patches_df)\n",
    "\n",
    "ids_S = training_patches_df.index[training_patches_df['stringLabel']=='S']\n",
    "ids_V = training_patches_df.index[training_patches_df['stringLabel']=='V']\n",
    "ids_N = training_patches_df.index[training_patches_df['stringLabel']=='N']\n",
    "\n",
    "print(f\"S: {len(ids_S)}\")\n",
    "print(f\"V: {len(ids_V)}\")\n",
    "print(f\"N: {len(ids_N)}\")\n"
   ]
  },
  {
   "cell_type": "code",
   "execution_count": 17,
   "metadata": {},
   "outputs": [
    {
     "data": {
      "image/png": "[encoded data removed]",
      "text/plain": [
       "<Figure size 432x288 with 2 Axes>"
      ]
     },
     "metadata": {},
     "output_type": "display_data"
    }
   ],
   "source": [
    "\n",
    "training_labels = training_patches_df['stringLabel'].values\n",
    "\n",
    "classes = [\"N\",\"S\",\"V\"]\n",
    "\n",
    "training_counts = [0]*3\n",
    "\n",
    "for l in training_labels:\n",
    "    training_counts[classes.index(l)] += 1\n",
    "\n",
    "fig1, (ax1,ax2) = plt.subplots(1,2)\n",
    "\n",
    "ax1.pie(training_counts, explode=None, labels=classes, autopct='%1.1f%%',\n",
    "        shadow=False, startangle=90)\n",
    "ax1.axis('equal')   \n",
    "\n",
    "fig1.set_facecolor(\"white\")\n",
    "\n",
    "plt.show()"
   ]
  },
  {
   "cell_type": "code",
   "execution_count": 18,
   "metadata": {},
   "outputs": [],
   "source": [
    "def create_input(df):\n",
    "    \n",
    "    x = list()\n",
    "    y = list()\n",
    "    \n",
    "    for id in tqdm(df.index.tolist()):\n",
    "        row = df.loc[id]\n",
    "        x.append(np.transpose(np.asarray([row['first_lead'],row['second_lead']]).astype(np.float32)))\n",
    "        y.append(row['label'])\n",
    "\n",
    "    x = np.asarray(x).astype(np.float32)\n",
    "    y = np.asarray(y).astype(np.float32)\n",
    "    \n",
    "    return x,y\n"
   ]
  },
  {
   "cell_type": "code",
   "execution_count": 19,
   "metadata": {},
   "outputs": [
    {
     "name": "stderr",
     "output_type": "stream",
     "text": [
      "100%|██████████| 44955/44955 [00:02<00:00, 16444.72it/s]\n",
      "100%|██████████| 23659/23659 [00:01<00:00, 17247.59it/s]\n",
      "100%|██████████| 24866/24866 [00:01<00:00, 19829.79it/s]\n"
     ]
    }
   ],
   "source": [
    "x_train,y_train = create_input(training_patches_df)\n",
    "x_valid,y_valid = create_input(validation_patches_df)\n",
    "x_test,y_test = create_input(test_patches_df)"
   ]
  },
  {
   "cell_type": "code",
   "execution_count": 20,
   "metadata": {},
   "outputs": [],
   "source": [
    "def create_autoencoder_input(df):\n",
    "    x = list()\n",
    "    \n",
    "    for id in tqdm(df.index.tolist()):\n",
    "        row = df.loc[id]\n",
    "        x.append(np.transpose(np.asarray([row['first_lead']]).astype(np.float32)))\n",
    "\n",
    "    x = np.asarray(x).astype(np.float32)\n",
    "    \n",
    "    return x"
   ]
  },
  {
   "cell_type": "code",
   "execution_count": 21,
   "metadata": {},
   "outputs": [
    {
     "name": "stderr",
     "output_type": "stream",
     "text": [
      "100%|██████████| 44955/44955 [00:02<00:00, 21197.27it/s]\n",
      "100%|██████████| 23659/23659 [00:01<00:00, 21960.10it/s]\n"
     ]
    }
   ],
   "source": [
    "x_autoencoder = create_autoencoder_input(training_patches_df)\n",
    "x_valid_auto = create_autoencoder_input(validation_patches_df)"
   ]
  },
  {
   "cell_type": "code",
   "execution_count": 22,
   "metadata": {},
   "outputs": [
    {
     "data": {
      "image/png": "[encoded data removed]",
      "text/plain": [
       "<IPython.core.display.Image object>"
      ]
     },
     "execution_count": 22,
     "metadata": {},
     "output_type": "execute_result"
    }
   ],
   "source": [
    "import keras\n",
    "from keras import layers\n",
    "\n",
    "# This is the size of our encoded representations\n",
    "encoding_dim = 40 # 350/50 = 7 compression factor\n",
    "\n",
    "input_shape = x_autoencoder.shape[1]\n",
    "\n",
    "input = keras.Input(shape=input_shape,name='Input_layer')\n",
    "\n",
    "# encoding \n",
    "\n",
    "dense1 = layers.Dense(512,activation='relu',name='Hidden_1')(input)\n",
    "dropout1 = layers.Dropout(0.1,name='Dropout_1')(dense1)\n",
    "dense2 = layers.Dense(256,activation='relu',name='Hidden_2')(dropout1)\n",
    "\n",
    "encoded = layers.Dense(encoding_dim, activation='sigmoid',name='Encoded_input')(dense2)\n",
    "\n",
    "dense3 = layers.Dense(256,activation='relu',name='Hidden_3')(encoded)\n",
    "dropout2 = layers.Dropout(0.1,name='Dropout_2')(dense3)\n",
    "dense4 = layers.Dense(512,activation='relu',name='Hidden_4')(dropout2)\n",
    "\n",
    "# decoding\n",
    "\n",
    "decoded = layers.Dense(input_shape, activation='sigmoid',name='Decoded_input')(dense4)\n",
    "\n",
    "# This model maps an input to its reconstruction\n",
    "autoencoder = keras.Model(input, decoded)\n",
    "\n",
    "# This model maps an input to its encoded representation\n",
    "encoder = keras.Model(input, encoded)\n",
    "\n",
    "\n",
    "dot_img_file = 'autencoder.png'\n",
    "autoencoder.compile(optimizer=tf.keras.optimizers.Adam(learning_rate=0.0001), loss=\"mse\")\n",
    "#autoencoder.summary()\n",
    "\n",
    "\n",
    "tf.keras.utils.plot_model(autoencoder, to_file=dot_img_file, show_shapes=False)\n"
   ]
  },
  {
   "cell_type": "code",
   "execution_count": 23,
   "metadata": {},
   "outputs": [
    {
     "data": {
      "text/plain": [
       "<tensorflow.python.training.tracking.util.CheckpointLoadStatus at 0x203c0b659a0>"
      ]
     },
     "execution_count": 23,
     "metadata": {},
     "output_type": "execute_result"
    }
   ],
   "source": [
    "autoencoder.load_weights('./models/autoencoder/autoencoder_weights')\n"
   ]
  },
  {
   "cell_type": "code",
   "execution_count": 24,
   "metadata": {},
   "outputs": [],
   "source": [
    "def plot_sample(signal):\n",
    "    fig,ax = plt.subplots()\n",
    "    x = list(range(len(signal)))\n",
    "    ax.plot(x,signal)\n",
    "    plt.show()"
   ]
  },
  {
   "cell_type": "code",
   "execution_count": 25,
   "metadata": {},
   "outputs": [],
   "source": [
    "# try the autoencoder \n",
    "\n",
    "samples = x_autoencoder[:10000]"
   ]
  },
  {
   "cell_type": "code",
   "execution_count": 26,
   "metadata": {},
   "outputs": [],
   "source": [
    "\n",
    "decoded = autoencoder.predict(samples)\n",
    "encoded = encoder.predict(samples)\n"
   ]
  },
  {
   "cell_type": "code",
   "execution_count": 27,
   "metadata": {},
   "outputs": [
    {
     "data": {
      "image/png": "[encoded data removed]",
      "text/plain": [
       "<Figure size 432x288 with 1 Axes>"
      ]
     },
     "metadata": {
      "needs_background": "light"
     },
     "output_type": "display_data"
    },
    {
     "data": {
      "image/png": "[encoded data removed]",
      "text/plain": [
       "<Figure size 432x288 with 1 Axes>"
      ]
     },
     "metadata": {
      "needs_background": "light"
     },
     "output_type": "display_data"
    },
    {
     "data": {
      "image/png": "[encoded data removed]",
      "text/plain": [
       "<Figure size 432x288 with 1 Axes>"
      ]
     },
     "metadata": {
      "needs_background": "light"
     },
     "output_type": "display_data"
    }
   ],
   "source": [
    "id = 1000\n",
    "plot_sample(samples[id])\n",
    "plot_sample(decoded[id])\n",
    "plot_sample(encoded[id])"
   ]
  },
  {
   "cell_type": "code",
   "execution_count": 28,
   "metadata": {},
   "outputs": [],
   "source": [
    "def encode_input(encoder,x_input):\n",
    "    transformed = encoder.predict(x_input)\n",
    "    return np.array(transformed)\n",
    "\n",
    "\n",
    "x_encoded = encode_input(encoder,x_autoencoder)"
   ]
  },
  {
   "cell_type": "code",
   "execution_count": 29,
   "metadata": {},
   "outputs": [],
   "source": [
    "import seaborn as sns \n",
    "def plot_confusion_matrix(y_true, y_pred):\n",
    "  \"\"\"\n",
    "    :param ndarray y_true: contains the ground truth labels in the shape (n_samples,)\n",
    "    :param ndarray y_pred: contains the predicted labels in the shape (n_samples,)\n",
    "  \"\"\"\n",
    "  #y_true = np.argmax(y_true,axis=1) already 1dimensional\n",
    "  #y_pred = np.argmax(y_pred,axis=1)\n",
    "  \n",
    "  con_mat = tf.math.confusion_matrix(labels=y_true, predictions=y_pred).numpy()\n",
    "  con_mat_norm = np.around(con_mat.astype('float') / con_mat.sum(axis=1)[:, np.newaxis], decimals=2)\n",
    "  con_mat_df = pd.DataFrame(con_mat_norm,\n",
    "                  index = classes, \n",
    "                  columns = classes)\n",
    "  figure = plt.figure(figsize=(8, 8))\n",
    "  sns.heatmap(con_mat_df, annot=True,cmap=plt.cm.Blues)\n",
    "  plt.tight_layout()\n",
    "  plt.ylabel('True label')\n",
    "  plt.xlabel('Predicted label')\n",
    "  plt.show()"
   ]
  },
  {
   "cell_type": "code",
   "execution_count": 30,
   "metadata": {},
   "outputs": [],
   "source": [
    "def create_input(df):\n",
    "    \n",
    "    x = list()\n",
    "    y = list()\n",
    "    \n",
    "    for id in tqdm(df.index.tolist()):\n",
    "        row = df.loc[id]\n",
    "        x.append(np.transpose(np.asarray([row['first_lead']]).astype(np.float32)))\n",
    "        y.append(row['label'])\n",
    "\n",
    "    x = np.asarray(x).astype(np.float32)\n",
    "    y = np.asarray(y).astype(np.float32)\n",
    "    \n",
    "    return x,y"
   ]
  },
  {
   "cell_type": "code",
   "execution_count": 31,
   "metadata": {},
   "outputs": [
    {
     "name": "stderr",
     "output_type": "stream",
     "text": [
      "100%|██████████| 44955/44955 [00:02<00:00, 20400.77it/s]\n",
      "100%|██████████| 23659/23659 [00:01<00:00, 21791.82it/s]\n",
      "100%|██████████| 24866/24866 [00:01<00:00, 21517.42it/s]\n"
     ]
    },
    {
     "name": "stdout",
     "output_type": "stream",
     "text": [
      "(44955, 40)\n",
      "[1. 0. 0.]\n"
     ]
    }
   ],
   "source": [
    "from sklearn.svm import SVC\n",
    "import pickle\n",
    "\n",
    "x_train,y_train = create_input(training_patches_df)\n",
    "x_valid,y_valid = create_input(validation_patches_df)\n",
    "x_test,y_test = create_input(test_patches_df)\n",
    "\n",
    "\n",
    "x_train = encode_input(encoder,x_train)\n",
    "x_valid = encode_input(encoder,x_valid)\n",
    "x_test = encode_input(encoder,x_test)\n",
    "\n",
    "print(x_train.shape)\n",
    "print(y_train[0])\n",
    "\n",
    "y_train = np.argmax(y_train,axis=1)\n",
    "y_valid = np.argmax(y_valid,axis=1)\n",
    "y_test = np.argmax(y_test,axis=1)\n",
    "\n",
    "\n",
    "from sklearn.neighbors import KNeighborsClassifier\n",
    "\n",
    "path = os.path.join(os.getcwd(),\"models\",\"svc\")\n",
    "\n",
    "pkl_filename = \"svc.pkl\"\n",
    "\n",
    "with open(os.path.join(path,pkl_filename), 'rb') as file:\n",
    "    sv = pickle.load(file)\n"
   ]
  },
  {
   "cell_type": "markdown",
   "metadata": {},
   "source": [
    "Validation"
   ]
  },
  {
   "cell_type": "code",
   "execution_count": 32,
   "metadata": {},
   "outputs": [
    {
     "name": "stdout",
     "output_type": "stream",
     "text": [
      "              precision    recall  f1-score   support\n",
      "\n",
      "           0       0.99      0.94      0.97     20924\n",
      "           1       0.56      0.86      0.68      1032\n",
      "           2       0.70      0.92      0.79      1703\n",
      "\n",
      "    accuracy                           0.94     23659\n",
      "   macro avg       0.75      0.91      0.81     23659\n",
      "weighted avg       0.95      0.94      0.94     23659\n",
      "\n"
     ]
    }
   ],
   "source": [
    "from sklearn.metrics import classification_report\n",
    "y_pred = sv.predict(x_valid)\n",
    "print(classification_report(y_valid, y_pred))"
   ]
  },
  {
   "cell_type": "code",
   "execution_count": 33,
   "metadata": {},
   "outputs": [
    {
     "data": {
      "image/png": "[encoded data removed]",
      "text/plain": [
       "<Figure size 576x576 with 2 Axes>"
      ]
     },
     "metadata": {
      "needs_background": "light"
     },
     "output_type": "display_data"
    }
   ],
   "source": [
    "plot_confusion_matrix(y_valid,y_pred)"
   ]
  },
  {
   "cell_type": "markdown",
   "metadata": {},
   "source": [
    "Test set"
   ]
  },
  {
   "cell_type": "code",
   "execution_count": 34,
   "metadata": {},
   "outputs": [
    {
     "name": "stdout",
     "output_type": "stream",
     "text": [
      "              precision    recall  f1-score   support\n",
      "\n",
      "           0       1.00      0.96      0.98     23231\n",
      "           1       0.43      0.91      0.59       619\n",
      "           2       0.82      0.91      0.86      1016\n",
      "\n",
      "    accuracy                           0.96     24866\n",
      "   macro avg       0.75      0.93      0.81     24866\n",
      "weighted avg       0.98      0.96      0.97     24866\n",
      "\n"
     ]
    }
   ],
   "source": [
    "\n",
    "from sklearn.metrics import classification_report\n",
    "y_pred = sv.predict(x_test)\n",
    "print(classification_report(y_test, y_pred))"
   ]
  },
  {
   "cell_type": "code",
   "execution_count": 35,
   "metadata": {},
   "outputs": [
    {
     "data": {
      "image/png": "[encoded data removed]",
      "text/plain": [
       "<Figure size 576x576 with 2 Axes>"
      ]
     },
     "metadata": {
      "needs_background": "light"
     },
     "output_type": "display_data"
    }
   ],
   "source": [
    "plot_confusion_matrix(y_test,y_pred)"
   ]
  },
  {
   "cell_type": "code",
   "execution_count": null,
   "metadata": {},
   "outputs": [],
   "source": []
  }
 ],
 "metadata": {
  "interpreter": {
   "hash": "57032db1ad97fb6277226b3fe4aea1573f683021aa87982e2676dc61901b587a"
  },
  "kernelspec": {
   "display_name": "Python 3.9.7 64-bit ('tf-gpu': conda)",
   "language": "python",
   "name": "python3"
  },
  "language_info": {
   "codemirror_mode": {
    "name": "ipython",
    "version": 3
   },
   "file_extension": ".py",
   "mimetype": "text/x-python",
   "name": "python",
   "nbconvert_exporter": "python",
   "pygments_lexer": "ipython3",
   "version": "3.9.7"
  },
  "orig_nbformat": 4
 },
 "nbformat": 4,
 "nbformat_minor": 2
}
