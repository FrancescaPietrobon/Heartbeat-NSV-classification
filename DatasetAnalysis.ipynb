{
  "cells": [
    {
      "cell_type": "markdown",
      "metadata": {
        "id": "view-in-github",
        "colab_type": "text"
      },
      "source": [
        "<a href=\"https://colab.research.google.com/github/simonetome/ApplieAI-Biomedicine-Masciulli-Pietrobon-Tome/blob/main/DatasetAnalysis.ipynb\" target=\"_parent\"><img src=\"https://colab.research.google.com/assets/colab-badge.svg\" alt=\"Open In Colab\"/></a>"
      ]
    },
    {
      "cell_type": "markdown",
      "metadata": {
        "id": "fbff9da2"
      },
      "source": [
        "The aim of this notebook is to show performances augmenting samples of the imbalanced class with random gaussian noise of zero mean and variance 0.05 as suggested in DOI: 10.1155/2020/3215681"
      ],
      "id": "fbff9da2"
    },
    {
      "cell_type": "code",
      "execution_count": 1,
      "metadata": {
        "colab": {
          "base_uri": "https://localhost:8080/"
        },
        "id": "g5grLRnvgK1l",
        "outputId": "059cd969-3ce1-478d-e4b5-a73200c806e1"
      },
      "outputs": [
        {
          "output_type": "stream",
          "name": "stdout",
          "text": [
            "Collecting heartpy\n",
            "  Downloading heartpy-1.2.7-py3-none-any.whl (1.0 MB)\n",
            "\u001b[?25l\r\u001b[K     |▎                               | 10 kB 23.9 MB/s eta 0:00:01\r\u001b[K     |▋                               | 20 kB 26.7 MB/s eta 0:00:01\r\u001b[K     |█                               | 30 kB 28.6 MB/s eta 0:00:01\r\u001b[K     |█▎                              | 40 kB 30.7 MB/s eta 0:00:01\r\u001b[K     |█▋                              | 51 kB 16.9 MB/s eta 0:00:01\r\u001b[K     |██                              | 61 kB 14.3 MB/s eta 0:00:01\r\u001b[K     |██▎                             | 71 kB 11.6 MB/s eta 0:00:01\r\u001b[K     |██▋                             | 81 kB 12.6 MB/s eta 0:00:01\r\u001b[K     |███                             | 92 kB 10.4 MB/s eta 0:00:01\r\u001b[K     |███▎                            | 102 kB 10.0 MB/s eta 0:00:01\r\u001b[K     |███▋                            | 112 kB 10.0 MB/s eta 0:00:01\r\u001b[K     |████                            | 122 kB 10.0 MB/s eta 0:00:01\r\u001b[K     |████▎                           | 133 kB 10.0 MB/s eta 0:00:01\r\u001b[K     |████▋                           | 143 kB 10.0 MB/s eta 0:00:01\r\u001b[K     |█████                           | 153 kB 10.0 MB/s eta 0:00:01\r\u001b[K     |█████▎                          | 163 kB 10.0 MB/s eta 0:00:01\r\u001b[K     |█████▌                          | 174 kB 10.0 MB/s eta 0:00:01\r\u001b[K     |█████▉                          | 184 kB 10.0 MB/s eta 0:00:01\r\u001b[K     |██████▏                         | 194 kB 10.0 MB/s eta 0:00:01\r\u001b[K     |██████▌                         | 204 kB 10.0 MB/s eta 0:00:01\r\u001b[K     |██████▉                         | 215 kB 10.0 MB/s eta 0:00:01\r\u001b[K     |███████▏                        | 225 kB 10.0 MB/s eta 0:00:01\r\u001b[K     |███████▌                        | 235 kB 10.0 MB/s eta 0:00:01\r\u001b[K     |███████▉                        | 245 kB 10.0 MB/s eta 0:00:01\r\u001b[K     |████████▏                       | 256 kB 10.0 MB/s eta 0:00:01\r\u001b[K     |████████▌                       | 266 kB 10.0 MB/s eta 0:00:01\r\u001b[K     |████████▉                       | 276 kB 10.0 MB/s eta 0:00:01\r\u001b[K     |█████████▏                      | 286 kB 10.0 MB/s eta 0:00:01\r\u001b[K     |█████████▌                      | 296 kB 10.0 MB/s eta 0:00:01\r\u001b[K     |█████████▉                      | 307 kB 10.0 MB/s eta 0:00:01\r\u001b[K     |██████████▏                     | 317 kB 10.0 MB/s eta 0:00:01\r\u001b[K     |██████████▌                     | 327 kB 10.0 MB/s eta 0:00:01\r\u001b[K     |██████████▉                     | 337 kB 10.0 MB/s eta 0:00:01\r\u001b[K     |███████████                     | 348 kB 10.0 MB/s eta 0:00:01\r\u001b[K     |███████████▍                    | 358 kB 10.0 MB/s eta 0:00:01\r\u001b[K     |███████████▊                    | 368 kB 10.0 MB/s eta 0:00:01\r\u001b[K     |████████████                    | 378 kB 10.0 MB/s eta 0:00:01\r\u001b[K     |████████████▍                   | 389 kB 10.0 MB/s eta 0:00:01\r\u001b[K     |████████████▊                   | 399 kB 10.0 MB/s eta 0:00:01\r\u001b[K     |█████████████                   | 409 kB 10.0 MB/s eta 0:00:01\r\u001b[K     |█████████████▍                  | 419 kB 10.0 MB/s eta 0:00:01\r\u001b[K     |█████████████▊                  | 430 kB 10.0 MB/s eta 0:00:01\r\u001b[K     |██████████████                  | 440 kB 10.0 MB/s eta 0:00:01\r\u001b[K     |██████████████▍                 | 450 kB 10.0 MB/s eta 0:00:01\r\u001b[K     |██████████████▊                 | 460 kB 10.0 MB/s eta 0:00:01\r\u001b[K     |███████████████                 | 471 kB 10.0 MB/s eta 0:00:01\r\u001b[K     |███████████████▍                | 481 kB 10.0 MB/s eta 0:00:01\r\u001b[K     |███████████████▊                | 491 kB 10.0 MB/s eta 0:00:01\r\u001b[K     |████████████████                | 501 kB 10.0 MB/s eta 0:00:01\r\u001b[K     |████████████████▍               | 512 kB 10.0 MB/s eta 0:00:01\r\u001b[K     |████████████████▋               | 522 kB 10.0 MB/s eta 0:00:01\r\u001b[K     |█████████████████               | 532 kB 10.0 MB/s eta 0:00:01\r\u001b[K     |█████████████████▎              | 542 kB 10.0 MB/s eta 0:00:01\r\u001b[K     |█████████████████▋              | 552 kB 10.0 MB/s eta 0:00:01\r\u001b[K     |██████████████████              | 563 kB 10.0 MB/s eta 0:00:01\r\u001b[K     |██████████████████▎             | 573 kB 10.0 MB/s eta 0:00:01\r\u001b[K     |██████████████████▋             | 583 kB 10.0 MB/s eta 0:00:01\r\u001b[K     |███████████████████             | 593 kB 10.0 MB/s eta 0:00:01\r\u001b[K     |███████████████████▎            | 604 kB 10.0 MB/s eta 0:00:01\r\u001b[K     |███████████████████▋            | 614 kB 10.0 MB/s eta 0:00:01\r\u001b[K     |████████████████████            | 624 kB 10.0 MB/s eta 0:00:01\r\u001b[K     |████████████████████▎           | 634 kB 10.0 MB/s eta 0:00:01\r\u001b[K     |████████████████████▋           | 645 kB 10.0 MB/s eta 0:00:01\r\u001b[K     |█████████████████████           | 655 kB 10.0 MB/s eta 0:00:01\r\u001b[K     |█████████████████████▎          | 665 kB 10.0 MB/s eta 0:00:01\r\u001b[K     |█████████████████████▋          | 675 kB 10.0 MB/s eta 0:00:01\r\u001b[K     |██████████████████████          | 686 kB 10.0 MB/s eta 0:00:01\r\u001b[K     |██████████████████████▏         | 696 kB 10.0 MB/s eta 0:00:01\r\u001b[K     |██████████████████████▌         | 706 kB 10.0 MB/s eta 0:00:01\r\u001b[K     |██████████████████████▉         | 716 kB 10.0 MB/s eta 0:00:01\r\u001b[K     |███████████████████████▏        | 727 kB 10.0 MB/s eta 0:00:01\r\u001b[K     |███████████████████████▌        | 737 kB 10.0 MB/s eta 0:00:01\r\u001b[K     |███████████████████████▉        | 747 kB 10.0 MB/s eta 0:00:01\r\u001b[K     |████████████████████████▏       | 757 kB 10.0 MB/s eta 0:00:01\r\u001b[K     |████████████████████████▌       | 768 kB 10.0 MB/s eta 0:00:01\r\u001b[K     |████████████████████████▉       | 778 kB 10.0 MB/s eta 0:00:01\r\u001b[K     |█████████████████████████▏      | 788 kB 10.0 MB/s eta 0:00:01\r\u001b[K     |█████████████████████████▌      | 798 kB 10.0 MB/s eta 0:00:01\r\u001b[K     |█████████████████████████▉      | 808 kB 10.0 MB/s eta 0:00:01\r\u001b[K     |██████████████████████████▏     | 819 kB 10.0 MB/s eta 0:00:01\r\u001b[K     |██████████████████████████▌     | 829 kB 10.0 MB/s eta 0:00:01\r\u001b[K     |██████████████████████████▉     | 839 kB 10.0 MB/s eta 0:00:01\r\u001b[K     |███████████████████████████▏    | 849 kB 10.0 MB/s eta 0:00:01\r\u001b[K     |███████████████████████████▌    | 860 kB 10.0 MB/s eta 0:00:01\r\u001b[K     |███████████████████████████▊    | 870 kB 10.0 MB/s eta 0:00:01\r\u001b[K     |████████████████████████████    | 880 kB 10.0 MB/s eta 0:00:01\r\u001b[K     |████████████████████████████▍   | 890 kB 10.0 MB/s eta 0:00:01\r\u001b[K     |████████████████████████████▊   | 901 kB 10.0 MB/s eta 0:00:01\r\u001b[K     |█████████████████████████████   | 911 kB 10.0 MB/s eta 0:00:01\r\u001b[K     |█████████████████████████████▍  | 921 kB 10.0 MB/s eta 0:00:01\r\u001b[K     |█████████████████████████████▊  | 931 kB 10.0 MB/s eta 0:00:01\r\u001b[K     |██████████████████████████████  | 942 kB 10.0 MB/s eta 0:00:01\r\u001b[K     |██████████████████████████████▍ | 952 kB 10.0 MB/s eta 0:00:01\r\u001b[K     |██████████████████████████████▊ | 962 kB 10.0 MB/s eta 0:00:01\r\u001b[K     |███████████████████████████████ | 972 kB 10.0 MB/s eta 0:00:01\r\u001b[K     |███████████████████████████████▍| 983 kB 10.0 MB/s eta 0:00:01\r\u001b[K     |███████████████████████████████▊| 993 kB 10.0 MB/s eta 0:00:01\r\u001b[K     |████████████████████████████████| 1.0 MB 10.0 MB/s \n",
            "\u001b[?25hRequirement already satisfied: scipy in /usr/local/lib/python3.7/dist-packages (from heartpy) (1.4.1)\n",
            "Requirement already satisfied: matplotlib<=3.3.4 in /usr/local/lib/python3.7/dist-packages (from heartpy) (3.2.2)\n",
            "Requirement already satisfied: numpy>=1.17 in /usr/local/lib/python3.7/dist-packages (from heartpy) (1.19.5)\n",
            "Requirement already satisfied: pyparsing!=2.0.4,!=2.1.2,!=2.1.6,>=2.0.1 in /usr/local/lib/python3.7/dist-packages (from matplotlib<=3.3.4->heartpy) (3.0.6)\n",
            "Requirement already satisfied: python-dateutil>=2.1 in /usr/local/lib/python3.7/dist-packages (from matplotlib<=3.3.4->heartpy) (2.8.2)\n",
            "Requirement already satisfied: cycler>=0.10 in /usr/local/lib/python3.7/dist-packages (from matplotlib<=3.3.4->heartpy) (0.11.0)\n",
            "Requirement already satisfied: kiwisolver>=1.0.1 in /usr/local/lib/python3.7/dist-packages (from matplotlib<=3.3.4->heartpy) (1.3.2)\n",
            "Requirement already satisfied: six>=1.5 in /usr/local/lib/python3.7/dist-packages (from python-dateutil>=2.1->matplotlib<=3.3.4->heartpy) (1.15.0)\n",
            "Installing collected packages: heartpy\n",
            "Successfully installed heartpy-1.2.7\n"
          ]
        }
      ],
      "source": [
        "!pip install heartpy"
      ],
      "id": "g5grLRnvgK1l"
    },
    {
      "cell_type": "code",
      "execution_count": 2,
      "metadata": {
        "id": "7bfe12d7"
      },
      "outputs": [],
      "source": [
        "import os \n",
        "import zipfile \n",
        "from scipy.io import loadmat \n",
        "import pandas as pd\n",
        "import matplotlib.pyplot as plt \n",
        "import numpy as np\n",
        "import io\n",
        "from PIL import Image\n",
        "import tensorflow as tf \n",
        "from tensorflow import keras\n",
        "import sys\n",
        "from tqdm import tqdm\n",
        "import random\n",
        "from sklearn.model_selection import train_test_split\n",
        "import heartpy as hp\n",
        "\n",
        "SEED = 1\n",
        "tf.random.set_seed(SEED)\n",
        "np.random.seed(SEED)\n",
        "random.seed(SEED)\n",
        "os.environ['PYTHONHASHSEED'] = str(SEED)"
      ],
      "id": "7bfe12d7"
    },
    {
      "cell_type": "code",
      "execution_count": 2,
      "metadata": {
        "id": "8_0Gd7nKgIDg"
      },
      "outputs": [],
      "source": [
        ""
      ],
      "id": "8_0Gd7nKgIDg"
    },
    {
      "cell_type": "code",
      "execution_count": 3,
      "metadata": {
        "colab": {
          "base_uri": "https://localhost:8080/"
        },
        "id": "KVjoajrg0KAM",
        "outputId": "bcbcd604-b526-44dc-c1e3-afa002513408"
      },
      "outputs": [
        {
          "output_type": "stream",
          "name": "stdout",
          "text": [
            "Mounted at /gdrive\n"
          ]
        }
      ],
      "source": [
        "COLAB = 1\n",
        "\n",
        "if COLAB:\n",
        "  from google.colab import drive\n",
        "  drive.mount('/gdrive',force_remount=True)\n",
        "  dataset_current_folder = os.path.join(os.getcwd(),'../gdrive/MyDrive/training_set.zip')\n",
        "  dataset_folder = os.path.join(os.getcwd(),'AppliedAI_training_set')\n",
        "  if not os.path.exists(dataset_folder):\n",
        "    os.mkdir(dataset_folder)\n",
        "  with zipfile.ZipFile(dataset_current_folder, 'r') as zip: # extract the zip file into the desired folder \n",
        "    zip.extractall(dataset_folder)\n",
        "else:\n",
        "  dataset_current_folder = \"training_set.zip\" # where the zip is\n",
        "  dataset_folder = \"C://Users//simon//Desktop//AppliedAI-project\" # where I want the dataset - avoid the current folder as Git doesn't allow huge uploads\n",
        "\n",
        "  with zipfile.ZipFile(dataset_current_folder, 'r') as zip: # extract the zip file into the desired folder \n",
        "      zip.extractall(dataset_folder)"
      ],
      "id": "KVjoajrg0KAM"
    },
    {
      "cell_type": "code",
      "execution_count": 4,
      "metadata": {
        "id": "26e300ba"
      },
      "outputs": [],
      "source": [
        "def load_data(sample_prefix, input_dir):    # everything is returned as a numpy array which is easier to manipulate\n",
        "    label_filepath = os.path.join(input_dir, sample_prefix + '_ann.mat')\n",
        "    peak_filepath = os.path.join(input_dir, sample_prefix + '_rpk.mat')\n",
        "    signal_filepath = os.path.join(input_dir, sample_prefix + '.mat')\n",
        "    if os.path.isfile(label_filepath):\n",
        "        mat_file = loadmat(label_filepath)\n",
        "        label = np.asarray(mat_file['labels'])\n",
        "    if os.path.isfile(peak_filepath):\n",
        "        mat_file = loadmat(peak_filepath)\n",
        "        peaks = np.array(mat_file['rpeaks'],dtype=np.int64)\n",
        "    if os.path.isfile(signal_filepath):\n",
        "        mat_file = loadmat(signal_filepath)\n",
        "        signal = np.asarray(mat_file['ecg'] )\n",
        "\n",
        "    return label, peaks, signal\n",
        "\n",
        "labels = list()             # labels \n",
        "ids = list()                # Id of samples \n",
        "rpeaks = list()             # detected peaks of the signal \n",
        "ecg_signals = list()        # .mat ecg signal \n",
        "frequencies = list()        # sample frequency of the ecg signal \n",
        "\n",
        "\n",
        "for f in os.listdir(dataset_folder):\n",
        "  if f.lower().endswith('.mat'):\n",
        "    id = f[:4]\n",
        "    if id not in ids:\n",
        "      ids.append(id)\n",
        "      sample_prefix = f[:8]\n",
        "      label, peak, signal = load_data(sample_prefix, dataset_folder)\n",
        "      labels.append(label)\n",
        "      rpeaks.append(peak)\n",
        "      ecg_signals.append(signal)\n",
        "      frequencies.append(int(sample_prefix[5:]))\n"
      ],
      "id": "26e300ba"
    },
    {
      "cell_type": "code",
      "execution_count": 5,
      "metadata": {
        "colab": {
          "base_uri": "https://localhost:8080/",
          "height": 224
        },
        "id": "d704c9dd",
        "outputId": "98bcdfa8-0f78-44a0-ba53-01d975107bd8"
      },
      "outputs": [
        {
          "output_type": "stream",
          "name": "stderr",
          "text": [
            "100%|██████████| 105/105 [00:00<00:00, 657.57it/s]\n"
          ]
        },
        {
          "output_type": "execute_result",
          "data": {
            "text/html": [
              "\n",
              "  <div id=\"df-a8262152-48ad-4567-ac67-8d0e06295728\">\n",
              "    <div class=\"colab-df-container\">\n",
              "      <div>\n",
              "<style scoped>\n",
              "    .dataframe tbody tr th:only-of-type {\n",
              "        vertical-align: middle;\n",
              "    }\n",
              "\n",
              "    .dataframe tbody tr th {\n",
              "        vertical-align: top;\n",
              "    }\n",
              "\n",
              "    .dataframe thead th {\n",
              "        text-align: right;\n",
              "    }\n",
              "</style>\n",
              "<table border=\"1\" class=\"dataframe\">\n",
              "  <thead>\n",
              "    <tr style=\"text-align: right;\">\n",
              "      <th></th>\n",
              "      <th>sigId</th>\n",
              "      <th>ecg_lead_1</th>\n",
              "      <th>ecg_lead_2</th>\n",
              "      <th>peaks</th>\n",
              "      <th>frequencies</th>\n",
              "      <th>labels</th>\n",
              "    </tr>\n",
              "  </thead>\n",
              "  <tbody>\n",
              "    <tr>\n",
              "      <th>0</th>\n",
              "      <td>S081</td>\n",
              "      <td>[-0.345, -0.36, -0.375, -0.395, -0.41, -0.405,...</td>\n",
              "      <td>[-0.175, -0.155, -0.14, -0.13, -0.125, -0.125,...</td>\n",
              "      <td>[129, 267, 405, 539, 675, 809, 943, 1081, 1217...</td>\n",
              "      <td>250</td>\n",
              "      <td>[N, N, N, N, N, N, N, N, N, N, N, N, N, N, N, ...</td>\n",
              "    </tr>\n",
              "    <tr>\n",
              "      <th>1</th>\n",
              "      <td>S031</td>\n",
              "      <td>[-2.255, -1.85, -1.22, -0.89, -0.755, -0.715, ...</td>\n",
              "      <td>[-2.05, -1.535, -1.11, -0.685, -0.42, -0.365, ...</td>\n",
              "      <td>[102, 203, 305, 404, 506, 609, 713, 816, 920, ...</td>\n",
              "      <td>128</td>\n",
              "      <td>[N, N, N, N, N, N, N, N, N, N, N, V, N, N, N, ...</td>\n",
              "    </tr>\n",
              "    <tr>\n",
              "      <th>2</th>\n",
              "      <td>S095</td>\n",
              "      <td>[-0.045, -0.075, -0.09, -0.085, -0.09, -0.095,...</td>\n",
              "      <td>[0.855, 0.815, 0.78, 0.765, 0.755, 0.735, 0.71...</td>\n",
              "      <td>[27, 133, 319, 473, 635, 791, 953, 1111, 1265,...</td>\n",
              "      <td>250</td>\n",
              "      <td>[N, N, N, N, N, N, N, N, N, N, N, N, S, N, N, ...</td>\n",
              "    </tr>\n",
              "    <tr>\n",
              "      <th>3</th>\n",
              "      <td>S028</td>\n",
              "      <td>[0.06, 0.07, 0.11, 0.1, 0.14, 0.12, 0.17, 0.21...</td>\n",
              "      <td>[0.28, 0.31, 0.33, 0.37, 0.41, 0.42, 0.47, 0.5...</td>\n",
              "      <td>[106, 235, 363, 491, 620, 748, 869, 988, 1108,...</td>\n",
              "      <td>128</td>\n",
              "      <td>[N, N, N, N, N, N, N, N, N, N, N, N, N, N, N, ...</td>\n",
              "    </tr>\n",
              "    <tr>\n",
              "      <th>4</th>\n",
              "      <td>S061</td>\n",
              "      <td>[-0.64, -1.28, -1.57, -1.45, -0.91, -0.5, -0.2...</td>\n",
              "      <td>[-0.64, -1.23, -0.94, -0.42, -0.14, 0.03, 0.07...</td>\n",
              "      <td>[119, 239, 354, 469, 584, 699, 814, 929, 1046,...</td>\n",
              "      <td>128</td>\n",
              "      <td>[N, N, N, N, N, N, N, N, N, N, N, N, N, N, N, ...</td>\n",
              "    </tr>\n",
              "  </tbody>\n",
              "</table>\n",
              "</div>\n",
              "      <button class=\"colab-df-convert\" onclick=\"convertToInteractive('df-a8262152-48ad-4567-ac67-8d0e06295728')\"\n",
              "              title=\"Convert this dataframe to an interactive table.\"\n",
              "              style=\"display:none;\">\n",
              "        \n",
              "  <svg xmlns=\"http://www.w3.org/2000/svg\" height=\"24px\"viewBox=\"0 0 24 24\"\n",
              "       width=\"24px\">\n",
              "    <path d=\"M0 0h24v24H0V0z\" fill=\"none\"/>\n",
              "    <path d=\"M18.56 5.44l.94 2.06.94-2.06 2.06-.94-2.06-.94-.94-2.06-.94 2.06-2.06.94zm-11 1L8.5 8.5l.94-2.06 2.06-.94-2.06-.94L8.5 2.5l-.94 2.06-2.06.94zm10 10l.94 2.06.94-2.06 2.06-.94-2.06-.94-.94-2.06-.94 2.06-2.06.94z\"/><path d=\"M17.41 7.96l-1.37-1.37c-.4-.4-.92-.59-1.43-.59-.52 0-1.04.2-1.43.59L10.3 9.45l-7.72 7.72c-.78.78-.78 2.05 0 2.83L4 21.41c.39.39.9.59 1.41.59.51 0 1.02-.2 1.41-.59l7.78-7.78 2.81-2.81c.8-.78.8-2.07 0-2.86zM5.41 20L4 18.59l7.72-7.72 1.47 1.35L5.41 20z\"/>\n",
              "  </svg>\n",
              "      </button>\n",
              "      \n",
              "  <style>\n",
              "    .colab-df-container {\n",
              "      display:flex;\n",
              "      flex-wrap:wrap;\n",
              "      gap: 12px;\n",
              "    }\n",
              "\n",
              "    .colab-df-convert {\n",
              "      background-color: #E8F0FE;\n",
              "      border: none;\n",
              "      border-radius: 50%;\n",
              "      cursor: pointer;\n",
              "      display: none;\n",
              "      fill: #1967D2;\n",
              "      height: 32px;\n",
              "      padding: 0 0 0 0;\n",
              "      width: 32px;\n",
              "    }\n",
              "\n",
              "    .colab-df-convert:hover {\n",
              "      background-color: #E2EBFA;\n",
              "      box-shadow: 0px 1px 2px rgba(60, 64, 67, 0.3), 0px 1px 3px 1px rgba(60, 64, 67, 0.15);\n",
              "      fill: #174EA6;\n",
              "    }\n",
              "\n",
              "    [theme=dark] .colab-df-convert {\n",
              "      background-color: #3B4455;\n",
              "      fill: #D2E3FC;\n",
              "    }\n",
              "\n",
              "    [theme=dark] .colab-df-convert:hover {\n",
              "      background-color: #434B5C;\n",
              "      box-shadow: 0px 1px 3px 1px rgba(0, 0, 0, 0.15);\n",
              "      filter: drop-shadow(0px 1px 2px rgba(0, 0, 0, 0.3));\n",
              "      fill: #FFFFFF;\n",
              "    }\n",
              "  </style>\n",
              "\n",
              "      <script>\n",
              "        const buttonEl =\n",
              "          document.querySelector('#df-a8262152-48ad-4567-ac67-8d0e06295728 button.colab-df-convert');\n",
              "        buttonEl.style.display =\n",
              "          google.colab.kernel.accessAllowed ? 'block' : 'none';\n",
              "\n",
              "        async function convertToInteractive(key) {\n",
              "          const element = document.querySelector('#df-a8262152-48ad-4567-ac67-8d0e06295728');\n",
              "          const dataTable =\n",
              "            await google.colab.kernel.invokeFunction('convertToInteractive',\n",
              "                                                     [key], {});\n",
              "          if (!dataTable) return;\n",
              "\n",
              "          const docLinkHtml = 'Like what you see? Visit the ' +\n",
              "            '<a target=\"_blank\" href=https://colab.research.google.com/notebooks/data_table.ipynb>data table notebook</a>'\n",
              "            + ' to learn more about interactive tables.';\n",
              "          element.innerHTML = '';\n",
              "          dataTable['output_type'] = 'display_data';\n",
              "          await google.colab.output.renderOutput(dataTable, element);\n",
              "          const docLink = document.createElement('div');\n",
              "          docLink.innerHTML = docLinkHtml;\n",
              "          element.appendChild(docLink);\n",
              "        }\n",
              "      </script>\n",
              "    </div>\n",
              "  </div>\n",
              "  "
            ],
            "text/plain": [
              "  sigId  ...                                             labels\n",
              "0  S081  ...  [N, N, N, N, N, N, N, N, N, N, N, N, N, N, N, ...\n",
              "1  S031  ...  [N, N, N, N, N, N, N, N, N, N, N, V, N, N, N, ...\n",
              "2  S095  ...  [N, N, N, N, N, N, N, N, N, N, N, N, S, N, N, ...\n",
              "3  S028  ...  [N, N, N, N, N, N, N, N, N, N, N, N, N, N, N, ...\n",
              "4  S061  ...  [N, N, N, N, N, N, N, N, N, N, N, N, N, N, N, ...\n",
              "\n",
              "[5 rows x 6 columns]"
            ]
          },
          "metadata": {},
          "execution_count": 5
        }
      ],
      "source": [
        "cols = [\"sigId\",\"ecg_lead_1\",\"ecg_lead_2\",\"peaks\",\"frequencies\",\"labels\"]\n",
        "\n",
        "# ecg signals is 105 rows [,,,,,]\n",
        "\n",
        "first_lead_signals = []\n",
        "second_lead_signals = []\n",
        "\n",
        "for signal in ecg_signals:\n",
        "    first_lead_signals.append(signal[:,0].tolist())    # converting the array to list as list of array is deprecated \n",
        "    second_lead_signals.append(signal[:,1].tolist())\n",
        "\n",
        "df = pd.DataFrame(data =[ids,first_lead_signals,second_lead_signals,rpeaks,frequencies,labels]).T\n",
        "df.columns = cols\n",
        "\n",
        "# transform peaks \n",
        "for id in tqdm(df.index.tolist()):\n",
        "    peaks = df.iloc[id]['peaks']\n",
        "    p_list = list()\n",
        "    for p in peaks:\n",
        "        p_list.append(p[0])\n",
        "    df.iloc[id]['peaks'] = np.asarray(p_list).astype(np.int64)\n",
        "\n",
        "df.head()"
      ],
      "id": "d704c9dd"
    },
    {
      "cell_type": "code",
      "execution_count": 6,
      "metadata": {
        "colab": {
          "base_uri": "https://localhost:8080/",
          "height": 224
        },
        "id": "999717a8",
        "outputId": "b4cd0b6c-c878-444f-c812-25f96b9ce8b2"
      },
      "outputs": [
        {
          "output_type": "stream",
          "name": "stderr",
          "text": [
            "100%|██████████| 65/65 [00:18<00:00,  3.57it/s]\n"
          ]
        },
        {
          "output_type": "execute_result",
          "data": {
            "text/html": [
              "\n",
              "  <div id=\"df-e3904eaa-6f32-4263-9890-355592497fc9\">\n",
              "    <div class=\"colab-df-container\">\n",
              "      <div>\n",
              "<style scoped>\n",
              "    .dataframe tbody tr th:only-of-type {\n",
              "        vertical-align: middle;\n",
              "    }\n",
              "\n",
              "    .dataframe tbody tr th {\n",
              "        vertical-align: top;\n",
              "    }\n",
              "\n",
              "    .dataframe thead th {\n",
              "        text-align: right;\n",
              "    }\n",
              "</style>\n",
              "<table border=\"1\" class=\"dataframe\">\n",
              "  <thead>\n",
              "    <tr style=\"text-align: right;\">\n",
              "      <th></th>\n",
              "      <th>sigId</th>\n",
              "      <th>ecg_lead_1</th>\n",
              "      <th>ecg_lead_2</th>\n",
              "      <th>peaks</th>\n",
              "      <th>frequencies</th>\n",
              "      <th>labels</th>\n",
              "    </tr>\n",
              "  </thead>\n",
              "  <tbody>\n",
              "    <tr>\n",
              "      <th>0</th>\n",
              "      <td>S081</td>\n",
              "      <td>[-0.345, -0.36, -0.375, -0.395, -0.41, -0.405,...</td>\n",
              "      <td>[-0.175, -0.155, -0.14, -0.13, -0.125, -0.125,...</td>\n",
              "      <td>[129, 267, 405, 539, 675, 809, 943, 1081, 1217...</td>\n",
              "      <td>250</td>\n",
              "      <td>[N, N, N, N, N, N, N, N, N, N, N, N, N, N, N, ...</td>\n",
              "    </tr>\n",
              "    <tr>\n",
              "      <th>1</th>\n",
              "      <td>S031</td>\n",
              "      <td>[-2.255000114440918, -2.402578353881836, -1.81...</td>\n",
              "      <td>[-2.049999952316284, -2.0768494606018066, -1.5...</td>\n",
              "      <td>[199, 396, 595, 789, 988, 1189, 1392, 1593, 17...</td>\n",
              "      <td>128</td>\n",
              "      <td>[N, N, N, N, N, N, N, N, N, N, N, V, N, N, N, ...</td>\n",
              "    </tr>\n",
              "    <tr>\n",
              "      <th>2</th>\n",
              "      <td>S095</td>\n",
              "      <td>[-0.045, -0.075, -0.09, -0.085, -0.09, -0.095,...</td>\n",
              "      <td>[0.855, 0.815, 0.78, 0.765, 0.755, 0.735, 0.71...</td>\n",
              "      <td>[27, 133, 319, 473, 635, 791, 953, 1111, 1265,...</td>\n",
              "      <td>250</td>\n",
              "      <td>[N, N, N, N, N, N, N, N, N, N, N, N, S, N, N, ...</td>\n",
              "    </tr>\n",
              "    <tr>\n",
              "      <th>3</th>\n",
              "      <td>S028</td>\n",
              "      <td>[0.059999968856573105, 0.06322155892848969, 0....</td>\n",
              "      <td>[0.2800000309944153, 0.30699029564857483, 0.31...</td>\n",
              "      <td>[207, 458, 708, 958, 1210, 1460, 1697, 1929, 2...</td>\n",
              "      <td>128</td>\n",
              "      <td>[N, N, N, N, N, N, N, N, N, N, N, N, N, N, N, ...</td>\n",
              "    </tr>\n",
              "    <tr>\n",
              "      <th>4</th>\n",
              "      <td>S061</td>\n",
              "      <td>[-0.6400001645088196, -1.0121804475784302, -1....</td>\n",
              "      <td>[-0.64000004529953, -1.0695645809173584, -1.23...</td>\n",
              "      <td>[232, 466, 691, 916, 1140, 1365, 1589, 1814, 2...</td>\n",
              "      <td>128</td>\n",
              "      <td>[N, N, N, N, N, N, N, N, N, N, N, N, N, N, N, ...</td>\n",
              "    </tr>\n",
              "  </tbody>\n",
              "</table>\n",
              "</div>\n",
              "      <button class=\"colab-df-convert\" onclick=\"convertToInteractive('df-e3904eaa-6f32-4263-9890-355592497fc9')\"\n",
              "              title=\"Convert this dataframe to an interactive table.\"\n",
              "              style=\"display:none;\">\n",
              "        \n",
              "  <svg xmlns=\"http://www.w3.org/2000/svg\" height=\"24px\"viewBox=\"0 0 24 24\"\n",
              "       width=\"24px\">\n",
              "    <path d=\"M0 0h24v24H0V0z\" fill=\"none\"/>\n",
              "    <path d=\"M18.56 5.44l.94 2.06.94-2.06 2.06-.94-2.06-.94-.94-2.06-.94 2.06-2.06.94zm-11 1L8.5 8.5l.94-2.06 2.06-.94-2.06-.94L8.5 2.5l-.94 2.06-2.06.94zm10 10l.94 2.06.94-2.06 2.06-.94-2.06-.94-.94-2.06-.94 2.06-2.06.94z\"/><path d=\"M17.41 7.96l-1.37-1.37c-.4-.4-.92-.59-1.43-.59-.52 0-1.04.2-1.43.59L10.3 9.45l-7.72 7.72c-.78.78-.78 2.05 0 2.83L4 21.41c.39.39.9.59 1.41.59.51 0 1.02-.2 1.41-.59l7.78-7.78 2.81-2.81c.8-.78.8-2.07 0-2.86zM5.41 20L4 18.59l7.72-7.72 1.47 1.35L5.41 20z\"/>\n",
              "  </svg>\n",
              "      </button>\n",
              "      \n",
              "  <style>\n",
              "    .colab-df-container {\n",
              "      display:flex;\n",
              "      flex-wrap:wrap;\n",
              "      gap: 12px;\n",
              "    }\n",
              "\n",
              "    .colab-df-convert {\n",
              "      background-color: #E8F0FE;\n",
              "      border: none;\n",
              "      border-radius: 50%;\n",
              "      cursor: pointer;\n",
              "      display: none;\n",
              "      fill: #1967D2;\n",
              "      height: 32px;\n",
              "      padding: 0 0 0 0;\n",
              "      width: 32px;\n",
              "    }\n",
              "\n",
              "    .colab-df-convert:hover {\n",
              "      background-color: #E2EBFA;\n",
              "      box-shadow: 0px 1px 2px rgba(60, 64, 67, 0.3), 0px 1px 3px 1px rgba(60, 64, 67, 0.15);\n",
              "      fill: #174EA6;\n",
              "    }\n",
              "\n",
              "    [theme=dark] .colab-df-convert {\n",
              "      background-color: #3B4455;\n",
              "      fill: #D2E3FC;\n",
              "    }\n",
              "\n",
              "    [theme=dark] .colab-df-convert:hover {\n",
              "      background-color: #434B5C;\n",
              "      box-shadow: 0px 1px 3px 1px rgba(0, 0, 0, 0.15);\n",
              "      filter: drop-shadow(0px 1px 2px rgba(0, 0, 0, 0.3));\n",
              "      fill: #FFFFFF;\n",
              "    }\n",
              "  </style>\n",
              "\n",
              "      <script>\n",
              "        const buttonEl =\n",
              "          document.querySelector('#df-e3904eaa-6f32-4263-9890-355592497fc9 button.colab-df-convert');\n",
              "        buttonEl.style.display =\n",
              "          google.colab.kernel.accessAllowed ? 'block' : 'none';\n",
              "\n",
              "        async function convertToInteractive(key) {\n",
              "          const element = document.querySelector('#df-e3904eaa-6f32-4263-9890-355592497fc9');\n",
              "          const dataTable =\n",
              "            await google.colab.kernel.invokeFunction('convertToInteractive',\n",
              "                                                     [key], {});\n",
              "          if (!dataTable) return;\n",
              "\n",
              "          const docLinkHtml = 'Like what you see? Visit the ' +\n",
              "            '<a target=\"_blank\" href=https://colab.research.google.com/notebooks/data_table.ipynb>data table notebook</a>'\n",
              "            + ' to learn more about interactive tables.';\n",
              "          element.innerHTML = '';\n",
              "          dataTable['output_type'] = 'display_data';\n",
              "          await google.colab.output.renderOutput(dataTable, element);\n",
              "          const docLink = document.createElement('div');\n",
              "          docLink.innerHTML = docLinkHtml;\n",
              "          element.appendChild(docLink);\n",
              "        }\n",
              "      </script>\n",
              "    </div>\n",
              "  </div>\n",
              "  "
            ],
            "text/plain": [
              "  sigId  ...                                             labels\n",
              "0  S081  ...  [N, N, N, N, N, N, N, N, N, N, N, N, N, N, N, ...\n",
              "1  S031  ...  [N, N, N, N, N, N, N, N, N, N, N, V, N, N, N, ...\n",
              "2  S095  ...  [N, N, N, N, N, N, N, N, N, N, N, N, S, N, N, ...\n",
              "3  S028  ...  [N, N, N, N, N, N, N, N, N, N, N, N, N, N, N, ...\n",
              "4  S061  ...  [N, N, N, N, N, N, N, N, N, N, N, N, N, N, N, ...\n",
              "\n",
              "[5 rows x 6 columns]"
            ]
          },
          "metadata": {},
          "execution_count": 6
        }
      ],
      "source": [
        "# upsampling the signal \n",
        "\n",
        "from scipy.signal import resample\n",
        "\n",
        "ids_128 = df[df['frequencies'] == 128].index.tolist() \n",
        "ids_250 = df[df['frequencies'] == 250].index.tolist() \n",
        "resampled_len =  len(df.iloc[ids_250[0]]['ecg_lead_1'])\n",
        "sampled_len = len(df.iloc[ids_128[0]]['ecg_lead_1'])\n",
        "\n",
        "for id in tqdm(ids_128):\n",
        "    row = df.iloc[id]\n",
        "    # first lead\n",
        "    signal = np.asarray(row['ecg_lead_1']).astype(np.float32)\n",
        "    resampled_1 = resample(signal,resampled_len)\n",
        "    \n",
        "    # second lead\n",
        "    \n",
        "    signal = np.asarray(row['ecg_lead_2']).astype(np.float32)\n",
        "    resampled_2 = resample(signal,resampled_len)\n",
        "    \n",
        "    df.iloc[id]['ecg_lead_1'] = resampled_1.tolist()\n",
        "    df.iloc[id]['ecg_lead_2'] = resampled_2.tolist()\n",
        "    \n",
        "    for i,p in enumerate(list(df.iloc[id]['peaks'])):\n",
        "        df.iloc[id]['peaks'][i] = int(resampled_len * p/sampled_len)\n",
        "\n",
        "df.head()"
      ],
      "id": "999717a8"
    },
    {
      "cell_type": "code",
      "execution_count": 6,
      "metadata": {
        "id": "b8a6e546"
      },
      "outputs": [],
      "source": [
        "\n"
      ],
      "id": "b8a6e546"
    },
    {
      "cell_type": "code",
      "execution_count": 20,
      "metadata": {
        "colab": {
          "base_uri": "https://localhost:8080/",
          "height": 243
        },
        "id": "nmxYBU-hidhA",
        "outputId": "3812246a-10b9-4530-8dbc-627dfcb5c036"
      },
      "outputs": [
        {
          "output_type": "stream",
          "name": "stderr",
          "text": [
            "  0%|          | 0/105 [00:00<?, ?it/s]/usr/local/lib/python3.7/dist-packages/ipykernel_launcher.py:27: RuntimeWarning: Mean of empty slice.\n",
            "100%|██████████| 105/105 [00:00<00:00, 279.08it/s]\n"
          ]
        },
        {
          "output_type": "execute_result",
          "data": {
            "text/html": [
              "\n",
              "  <div id=\"df-bdec7234-8c2f-4a3c-ab98-12f6c98f6657\">\n",
              "    <div class=\"colab-df-container\">\n",
              "      <div>\n",
              "<style scoped>\n",
              "    .dataframe tbody tr th:only-of-type {\n",
              "        vertical-align: middle;\n",
              "    }\n",
              "\n",
              "    .dataframe tbody tr th {\n",
              "        vertical-align: top;\n",
              "    }\n",
              "\n",
              "    .dataframe thead th {\n",
              "        text-align: right;\n",
              "    }\n",
              "</style>\n",
              "<table border=\"1\" class=\"dataframe\">\n",
              "  <thead>\n",
              "    <tr style=\"text-align: right;\">\n",
              "      <th></th>\n",
              "      <th>RR_distances</th>\n",
              "      <th>S_distances</th>\n",
              "      <th>Avg_RR_distance</th>\n",
              "      <th>AVG_S_distance</th>\n",
              "    </tr>\n",
              "  </thead>\n",
              "  <tbody>\n",
              "    <tr>\n",
              "      <th>S114</th>\n",
              "      <td>[228, 228, 224, 218, 222, 222, 222, 220, 226, ...</td>\n",
              "      <td>[]</td>\n",
              "      <td>223.842278</td>\n",
              "      <td>NaN</td>\n",
              "    </tr>\n",
              "    <tr>\n",
              "      <th>S051</th>\n",
              "      <td>[195, 133, 235, 203, 199, 201, 199, 196, 193, ...</td>\n",
              "      <td>[133, 133, 123, 133, 133, 133, 123, 123, 121, ...</td>\n",
              "      <td>191.254259</td>\n",
              "      <td>128.659459</td>\n",
              "    </tr>\n",
              "    <tr>\n",
              "      <th>S039</th>\n",
              "      <td>[198, 205, 199, 201, 203, 166, 246, 196, 201, ...</td>\n",
              "      <td>[156, 154, 96, 150, 131, 149, 159, 147, 160, 1...</td>\n",
              "      <td>199.413889</td>\n",
              "      <td>147.520833</td>\n",
              "    </tr>\n",
              "    <tr>\n",
              "      <th>S021</th>\n",
              "      <td>[205, 209, 211, 207, 209, 207, 209, 211, 207, ...</td>\n",
              "      <td>[136, 144, 147, 166, 125, 125, 150, 130, 137, ...</td>\n",
              "      <td>228.897594</td>\n",
              "      <td>144.756098</td>\n",
              "    </tr>\n",
              "    <tr>\n",
              "      <th>S099</th>\n",
              "      <td>[151, 148, 149, 142, 145, 144, 145, 140, 143, ...</td>\n",
              "      <td>[]</td>\n",
              "      <td>154.356113</td>\n",
              "      <td>NaN</td>\n",
              "    </tr>\n",
              "  </tbody>\n",
              "</table>\n",
              "</div>\n",
              "      <button class=\"colab-df-convert\" onclick=\"convertToInteractive('df-bdec7234-8c2f-4a3c-ab98-12f6c98f6657')\"\n",
              "              title=\"Convert this dataframe to an interactive table.\"\n",
              "              style=\"display:none;\">\n",
              "        \n",
              "  <svg xmlns=\"http://www.w3.org/2000/svg\" height=\"24px\"viewBox=\"0 0 24 24\"\n",
              "       width=\"24px\">\n",
              "    <path d=\"M0 0h24v24H0V0z\" fill=\"none\"/>\n",
              "    <path d=\"M18.56 5.44l.94 2.06.94-2.06 2.06-.94-2.06-.94-.94-2.06-.94 2.06-2.06.94zm-11 1L8.5 8.5l.94-2.06 2.06-.94-2.06-.94L8.5 2.5l-.94 2.06-2.06.94zm10 10l.94 2.06.94-2.06 2.06-.94-2.06-.94-.94-2.06-.94 2.06-2.06.94z\"/><path d=\"M17.41 7.96l-1.37-1.37c-.4-.4-.92-.59-1.43-.59-.52 0-1.04.2-1.43.59L10.3 9.45l-7.72 7.72c-.78.78-.78 2.05 0 2.83L4 21.41c.39.39.9.59 1.41.59.51 0 1.02-.2 1.41-.59l7.78-7.78 2.81-2.81c.8-.78.8-2.07 0-2.86zM5.41 20L4 18.59l7.72-7.72 1.47 1.35L5.41 20z\"/>\n",
              "  </svg>\n",
              "      </button>\n",
              "      \n",
              "  <style>\n",
              "    .colab-df-container {\n",
              "      display:flex;\n",
              "      flex-wrap:wrap;\n",
              "      gap: 12px;\n",
              "    }\n",
              "\n",
              "    .colab-df-convert {\n",
              "      background-color: #E8F0FE;\n",
              "      border: none;\n",
              "      border-radius: 50%;\n",
              "      cursor: pointer;\n",
              "      display: none;\n",
              "      fill: #1967D2;\n",
              "      height: 32px;\n",
              "      padding: 0 0 0 0;\n",
              "      width: 32px;\n",
              "    }\n",
              "\n",
              "    .colab-df-convert:hover {\n",
              "      background-color: #E2EBFA;\n",
              "      box-shadow: 0px 1px 2px rgba(60, 64, 67, 0.3), 0px 1px 3px 1px rgba(60, 64, 67, 0.15);\n",
              "      fill: #174EA6;\n",
              "    }\n",
              "\n",
              "    [theme=dark] .colab-df-convert {\n",
              "      background-color: #3B4455;\n",
              "      fill: #D2E3FC;\n",
              "    }\n",
              "\n",
              "    [theme=dark] .colab-df-convert:hover {\n",
              "      background-color: #434B5C;\n",
              "      box-shadow: 0px 1px 3px 1px rgba(0, 0, 0, 0.15);\n",
              "      filter: drop-shadow(0px 1px 2px rgba(0, 0, 0, 0.3));\n",
              "      fill: #FFFFFF;\n",
              "    }\n",
              "  </style>\n",
              "\n",
              "      <script>\n",
              "        const buttonEl =\n",
              "          document.querySelector('#df-bdec7234-8c2f-4a3c-ab98-12f6c98f6657 button.colab-df-convert');\n",
              "        buttonEl.style.display =\n",
              "          google.colab.kernel.accessAllowed ? 'block' : 'none';\n",
              "\n",
              "        async function convertToInteractive(key) {\n",
              "          const element = document.querySelector('#df-bdec7234-8c2f-4a3c-ab98-12f6c98f6657');\n",
              "          const dataTable =\n",
              "            await google.colab.kernel.invokeFunction('convertToInteractive',\n",
              "                                                     [key], {});\n",
              "          if (!dataTable) return;\n",
              "\n",
              "          const docLinkHtml = 'Like what you see? Visit the ' +\n",
              "            '<a target=\"_blank\" href=https://colab.research.google.com/notebooks/data_table.ipynb>data table notebook</a>'\n",
              "            + ' to learn more about interactive tables.';\n",
              "          element.innerHTML = '';\n",
              "          dataTable['output_type'] = 'display_data';\n",
              "          await google.colab.output.renderOutput(dataTable, element);\n",
              "          const docLink = document.createElement('div');\n",
              "          docLink.innerHTML = docLinkHtml;\n",
              "          element.appendChild(docLink);\n",
              "        }\n",
              "      </script>\n",
              "    </div>\n",
              "  </div>\n",
              "  "
            ],
            "text/plain": [
              "                                           RR_distances  ... AVG_S_distance\n",
              "S114  [228, 228, 224, 218, 222, 222, 222, 220, 226, ...  ...            NaN\n",
              "S051  [195, 133, 235, 203, 199, 201, 199, 196, 193, ...  ...     128.659459\n",
              "S039  [198, 205, 199, 201, 203, 166, 246, 196, 201, ...  ...     147.520833\n",
              "S021  [205, 209, 211, 207, 209, 207, 209, 211, 207, ...  ...     144.756098\n",
              "S099  [151, 148, 149, 142, 145, 144, 145, 140, 143, ...  ...            NaN\n",
              "\n",
              "[5 rows x 4 columns]"
            ]
          },
          "metadata": {},
          "execution_count": 20
        }
      ],
      "source": [
        "# analysis of RR distance RR[1] = distance between peak 1 and peak 0 (not defined for the first peak)\n",
        "# do that for each signal and check significative differences for each peak label \n",
        "\n",
        "signal_ids = df.index.tolist()\n",
        "RR_dict = {}\n",
        "\n",
        "for id_ in tqdm(signal_ids):  \n",
        "  sig_Id = df.iloc[id_]['sigId']\n",
        "  RR_dict[sig_Id] = {}\n",
        "  RR_dict[sig_Id]['RR_distances'] = list()\n",
        "  RR_dict[sig_Id]['S_distances'] = list()\n",
        "  \n",
        "  peaks = df.iloc[id_]['peaks']\n",
        "  labels = df.iloc[id_]['labels']\n",
        "\n",
        "  for i,p in enumerate(peaks[1:-1]):\n",
        "    RR_distance = p-peaks[i]\n",
        "    if(RR_distance < 250): # discard outliers\n",
        "      RR_dict[sig_Id]['RR_distances'].append(RR_distance)\n",
        "      if(labels[i+1] == 'S'):\n",
        "        RR_dict[sig_Id]['S_distances'].append(RR_distance)\n",
        "\n",
        "  RR_dict[sig_Id]['RR_distances'] = np.asarray(RR_dict[sig_Id]['RR_distances'])\n",
        "  RR_dict[sig_Id]['S_distances'] = np.asarray(RR_dict[sig_Id]['S_distances'])\n",
        "\n",
        "  RR_dict[sig_Id]['Avg_RR_distance'] = RR_dict[sig_Id]['RR_distances'].mean()\n",
        "  RR_dict[sig_Id]['AVG_S_distance'] = RR_dict[sig_Id]['S_distances'].mean()\n",
        "\n",
        "\n",
        "RR_df = pd.DataFrame.from_dict(RR_dict,orient=\"index\")\n",
        "RR_df.tail()"
      ],
      "id": "nmxYBU-hidhA"
    },
    {
      "cell_type": "markdown",
      "source": [
        "# plot distribution for the RR distances using 250 Hz upsampling"
      ],
      "metadata": {
        "id": "twSHL9KcCwfZ"
      },
      "id": "twSHL9KcCwfZ"
    },
    {
      "cell_type": "code",
      "execution_count": 48,
      "metadata": {
        "colab": {
          "base_uri": "https://localhost:8080/",
          "height": 294
        },
        "id": "hBI304ajnGwk",
        "outputId": "79e299a0-1622-49db-8a09-f6bab6024cd1"
      },
      "outputs": [
        {
          "output_type": "display_data",
          "data": {
            "image/png": "[encoded data removed]",
            "text/plain": [
              "<Figure size 432x288 with 1 Axes>"
            ]
          },
          "metadata": {
            "needs_background": "light"
          }
        }
      ],
      "source": [
        "import seaborn as sns \n",
        "import matplotlib.mlab as mlab\n",
        "import matplotlib.pyplot as plt\n",
        "\n",
        "def to_seconds(samples):\n",
        "  fs = 250\n",
        "  return samples/fs\n",
        "\n",
        "avg_rrs = RR_df['Avg_RR_distance'].values.tolist()\n",
        "\n",
        "for i,rr in enumerate(avg_rrs):\n",
        "  avg_rrs[i] = to_seconds(rr)\n",
        "\n",
        "num_bins = 15\n",
        "n, bins, patches = plt.hist(avg_rrs, num_bins,facecolor='green', alpha=0.7)\n",
        "plt.title(r'Distribution of RR distances')\n",
        "plt.xlabel('Signal average RR period')\n",
        "plt.ylabel('Counts')\n",
        "plt.subplots_adjust(left=0.15)\n",
        "plt.show()\n",
        "\n",
        "\n"
      ],
      "id": "hBI304ajnGwk"
    },
    {
      "cell_type": "markdown",
      "source": [
        "# Amplitude analysis "
      ],
      "metadata": {
        "id": "cwgq3txnXOzq"
      },
      "id": "cwgq3txnXOzq"
    },
    {
      "cell_type": "code",
      "source": [
        "first_leads = list()\n",
        "second_leads = list()\n",
        "\n",
        "for id in df.index.tolist():\n",
        "  row = df.iloc[id]\n",
        "  first_leads += row['ecg_lead_1']\n",
        "  second_leads += row['ecg_lead_2']  \n",
        "\n",
        "\n"
      ],
      "metadata": {
        "colab": {
          "base_uri": "https://localhost:8080/",
          "height": 302
        },
        "id": "gEZQzY42XOnU",
        "outputId": "79ff160f-13e2-4f38-81b6-af54bdd9e715"
      },
      "id": "gEZQzY42XOnU",
      "execution_count": 103,
      "outputs": [
        {
          "output_type": "display_data",
          "data": {
            "image/png": "[encoded data removed]",
            "text/plain": [
              "<Figure size 432x288 with 2 Axes>"
            ]
          },
          "metadata": {
            "needs_background": "light"
          }
        }
      ]
    },
    {
      "cell_type": "code",
      "source": [
        "num_bins = 40\n",
        "fig,(ax1, ax2) = plt.subplots(1, 2, figsize=(9, 6),sharey='all')\n",
        "ax1.hist(first_leads, num_bins,facecolor='green', alpha=0.6)\n",
        "ax2.hist(second_leads, num_bins,facecolor='blue', alpha=0.6)\n",
        "ax1.set_xlabel('Samples amplitudes first lead')\n",
        "ax2.set_xlabel('Samples amplitudes second lead')\n",
        "ax1.set_ylabel('Counts')\n",
        "plt.subplots_adjust(left=0.15)\n",
        "plt.show()"
      ],
      "metadata": {
        "colab": {
          "base_uri": "https://localhost:8080/",
          "height": 406
        },
        "id": "Ga8SP2ouY9Nf",
        "outputId": "88e2afd6-ccb9-4e9f-c157-45d737f58407"
      },
      "id": "Ga8SP2ouY9Nf",
      "execution_count": 110,
      "outputs": [
        {
          "output_type": "display_data",
          "data": {
            "image/png": "[encoded data removed]",
            "text/plain": [
              "<Figure size 648x432 with 2 Axes>"
            ]
          },
          "metadata": {
            "needs_background": "light"
          }
        }
      ]
    },
    {
      "cell_type": "markdown",
      "source": [
        "#Class unbalance problem "
      ],
      "metadata": {
        "id": "Sez9DAiyHUkG"
      },
      "id": "Sez9DAiyHUkG"
    },
    {
      "cell_type": "code",
      "execution_count": 127,
      "metadata": {
        "colab": {
          "base_uri": "https://localhost:8080/",
          "height": 375
        },
        "id": "ugrjALze19py",
        "outputId": "2cabc512-e380-42b6-afe2-e952a97ebfc6"
      },
      "outputs": [
        {
          "output_type": "stream",
          "name": "stdout",
          "text": [
            "N: 226932\n",
            "S: 9609\n",
            "V: 7795\n"
          ]
        },
        {
          "output_type": "display_data",
          "data": {
            "image/png": "[encoded data removed]",
            "text/plain": [
              "<Figure size 720x360 with 2 Axes>"
            ]
          },
          "metadata": {}
        }
      ],
      "source": [
        "from matplotlib.patches import ConnectionPatch\n",
        "\n",
        "font = {'family' : 'normal',\n",
        "        'size'   : 12}\n",
        "#'weight' : 'bold',\n",
        "plt.rc('font', **font)\n",
        "\n",
        "\n",
        "pielabels = [\"Normal\", \"Abnormal\"]\n",
        "classes = [\"N\",\"S\",\"V\"]\n",
        "counts = [0,0,0]\n",
        "\n",
        "for id in df.index.tolist():\n",
        "  row = df.iloc[id]\n",
        "  labels = row['labels']\n",
        "  for l in labels:\n",
        "    counts[classes.index(l)] += 1\n",
        "\n",
        "print(f\"N: {counts[0]}\")\n",
        "print(f\"S: {counts[1]}\")\n",
        "print(f\"V: {counts[2]}\")\n",
        "\n",
        "fig, (ax1, ax2) = plt.subplots(1, 2, figsize=(10, 5))\n",
        "explode = (0.05 , 0)\n",
        "\n",
        "ax1.pie([counts[0],counts[1]+counts[2]], explode=explode, labels=pielabels, autopct='%1.1f%%',\n",
        "        shadow=False, startangle = 35)\n",
        "ax1.axis('equal')  # Equal aspect ratio ensures that pie is drawn as a circle.\n",
        "\n",
        "\n",
        "\n",
        "\n",
        "\n",
        "\n",
        "xpos = 0\n",
        "bottom = 0\n",
        "\n",
        "total_anormal = counts[1]+counts[2]\n",
        "ratios = [counts[1]/total_anormal, counts[2]/total_anormal]\n",
        "\n",
        "width = .2\n",
        "colors = [[24/255, 186/255, 67/255], [172/255, 89/255, 255/255]]\n",
        "\n",
        "\n",
        "\n",
        "\n",
        "for j in range(len(ratios)):\n",
        "    height = ratios[j]\n",
        "    ax2.bar(xpos, height, width, bottom=bottom, color=colors[j])\n",
        "    ypos = bottom + ax2.patches[j].get_height() / 2\n",
        "    bottom += height\n",
        "    ax2.text(xpos, ypos, \"%d%%\" % (ax2.patches[j].get_height() * 100),\n",
        "             ha='center')\n",
        "\n",
        "ax2.set_title('Abnormal beats')\n",
        "ax2.legend(('V - PVC','S - PAC'))\n",
        "ax2.axis('off')\n",
        "ax2.set_xlim(- 2.5 * width, 2.5 * width)\n",
        "\n",
        "# use ConnectionPatch to draw lines between the two plots\n",
        "# get the wedge data\n",
        "theta2, theta1 = ax1.patches[0].theta1, ax1.patches[0].theta2\n",
        "center, r = ax1.patches[0].center, ax1.patches[0].r\n",
        "bar_height = sum([item.get_height() for item in ax2.patches])\n",
        "\n",
        "# draw top connecting line\n",
        "x = r * np.cos(np.pi / 180 * theta2) + center[0]\n",
        "y = r * np.sin(np.pi / 180 * theta2) + center[1]\n",
        "con = ConnectionPatch(xyA=(-width / 2, bar_height), coordsA=ax2.transData,\n",
        "                      xyB=(x, y), coordsB=ax1.transData)\n",
        "con.set_color([0, 0, 0])\n",
        "con.set_linewidth(4)\n",
        "ax2.add_artist(con)\n",
        "\n",
        "# draw bottom connecting line\n",
        "x = r * np.cos(np.pi / 180 * theta1) + center[0]\n",
        "y = r * np.sin(np.pi / 180 * theta1) + center[1]\n",
        "con = ConnectionPatch(xyA=(-width / 2, 0), coordsA=ax2.transData,\n",
        "                      xyB=(x, y), coordsB=ax1.transData,shrinkA=1)\n",
        "con.set_color([0, 0, 0])\n",
        "ax2.add_artist(con)\n",
        "con.set_linewidth(4)\n",
        "\n",
        "fig.set_facecolor(\"white\")\n",
        "plt.show()"
      ],
      "id": "ugrjALze19py"
    },
    {
      "cell_type": "code",
      "execution_count": 8,
      "metadata": {
        "id": "fc5a69f6"
      },
      "outputs": [],
      "source": [
        "\n"
      ],
      "id": "fc5a69f6"
    },
    {
      "cell_type": "code",
      "execution_count": 8,
      "metadata": {
        "id": "3c9f9d6d"
      },
      "outputs": [],
      "source": [
        ""
      ],
      "id": "3c9f9d6d"
    },
    {
      "cell_type": "code",
      "execution_count": 8,
      "metadata": {
        "id": "c72505bf"
      },
      "outputs": [],
      "source": [
        ""
      ],
      "id": "c72505bf"
    },
    {
      "cell_type": "code",
      "execution_count": 8,
      "metadata": {
        "id": "c8d17eac"
      },
      "outputs": [],
      "source": [
        ""
      ],
      "id": "c8d17eac"
    },
    {
      "cell_type": "code",
      "execution_count": 8,
      "metadata": {
        "id": "AdEtDIUZ_A72"
      },
      "outputs": [],
      "source": [
        ""
      ],
      "id": "AdEtDIUZ_A72"
    },
    {
      "cell_type": "code",
      "execution_count": 8,
      "metadata": {
        "id": "7b4fd24d"
      },
      "outputs": [],
      "source": [
        "\n"
      ],
      "id": "7b4fd24d"
    },
    {
      "cell_type": "markdown",
      "metadata": {
        "id": "534d0d5e"
      },
      "source": [
        "Data augmentation"
      ],
      "id": "534d0d5e"
    },
    {
      "cell_type": "code",
      "execution_count": 8,
      "metadata": {
        "id": "0ddf11ae"
      },
      "outputs": [],
      "source": [
        ""
      ],
      "id": "0ddf11ae"
    },
    {
      "cell_type": "code",
      "execution_count": 8,
      "metadata": {
        "id": "3cb230b9"
      },
      "outputs": [],
      "source": [
        ""
      ],
      "id": "3cb230b9"
    },
    {
      "cell_type": "code",
      "execution_count": 8,
      "metadata": {
        "id": "82219e74"
      },
      "outputs": [],
      "source": [
        ""
      ],
      "id": "82219e74"
    },
    {
      "cell_type": "code",
      "execution_count": 8,
      "metadata": {
        "id": "32d25b80"
      },
      "outputs": [],
      "source": [
        "\n"
      ],
      "id": "32d25b80"
    },
    {
      "cell_type": "code",
      "execution_count": 48,
      "metadata": {
        "id": "fd6e662e"
      },
      "outputs": [],
      "source": [
        "\n"
      ],
      "id": "fd6e662e"
    },
    {
      "cell_type": "code",
      "execution_count": null,
      "metadata": {
        "id": "61c04340"
      },
      "outputs": [],
      "source": [
        ""
      ],
      "id": "61c04340"
    },
    {
      "cell_type": "code",
      "execution_count": null,
      "metadata": {
        "id": "5bd0bc74"
      },
      "outputs": [],
      "source": [
        ""
      ],
      "id": "5bd0bc74"
    },
    {
      "cell_type": "code",
      "execution_count": null,
      "metadata": {
        "id": "ca8d6b36"
      },
      "outputs": [],
      "source": [
        ""
      ],
      "id": "ca8d6b36"
    },
    {
      "cell_type": "code",
      "execution_count": null,
      "metadata": {
        "id": "b9a0e25d"
      },
      "outputs": [],
      "source": [
        ""
      ],
      "id": "b9a0e25d"
    },
    {
      "cell_type": "code",
      "execution_count": null,
      "metadata": {
        "id": "424b06c0"
      },
      "outputs": [],
      "source": [
        ""
      ],
      "id": "424b06c0"
    },
    {
      "cell_type": "code",
      "execution_count": null,
      "metadata": {
        "id": "352d223e"
      },
      "outputs": [],
      "source": [
        ""
      ],
      "id": "352d223e"
    },
    {
      "cell_type": "code",
      "execution_count": null,
      "metadata": {
        "id": "aa5e38ac"
      },
      "outputs": [],
      "source": [
        ""
      ],
      "id": "aa5e38ac"
    }
  ],
  "metadata": {
    "colab": {
      "name": "DatasetAnalysis.ipynb",
      "provenance": [],
      "collapsed_sections": [],
      "include_colab_link": true
    },
    "kernelspec": {
      "display_name": "tf-gpu",
      "language": "python",
      "name": "tf-gpu"
    },
    "language_info": {
      "codemirror_mode": {
        "name": "ipython",
        "version": 3
      },
      "file_extension": ".py",
      "mimetype": "text/x-python",
      "name": "python",
      "nbconvert_exporter": "python",
      "pygments_lexer": "ipython3",
      "version": "3.9.7"
    }
  },
  "nbformat": 4,
  "nbformat_minor": 5
}