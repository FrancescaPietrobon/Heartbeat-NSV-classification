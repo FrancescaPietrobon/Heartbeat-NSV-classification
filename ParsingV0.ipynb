{
  "nbformat": 4,
  "nbformat_minor": 0,
  "metadata": {
    "colab": {
      "name": "Copia di AppliedAIParsingV0.ipynb",
      "provenance": [],
      "authorship_tag": "ABX9TyOPmGtlpV+fJffIBZ8IgIBB",
      "include_colab_link": true
    },
    "kernelspec": {
      "name": "python3",
      "display_name": "Python 3"
    },
    "language_info": {
      "name": "python"
    }
  },
  "cells": [
    {
      "cell_type": "markdown",
      "metadata": {
        "id": "view-in-github",
        "colab_type": "text"
      },
      "source": [
        "<a href=\"https://colab.research.google.com/github/simonetome/ApplieAI-Biomedicine-Masciulli-Pietrobon-Tome/blob/main/ParsingV0.ipynb\" target=\"_parent\"><img src=\"https://colab.research.google.com/assets/colab-badge.svg\" alt=\"Open In Colab\"/></a>"
      ]
    },
    {
      "cell_type": "code",
      "source": [
        "import os\n",
        "import tensorflow as tf\n",
        "import numpy as np\n",
        "from scipy.io import loadmat\n",
        "import matplotlib.pyplot as plt\n",
        "\n",
        "\n",
        "\n"
      ],
      "metadata": {
        "id": "1sSh7fvPP70k"
      },
      "execution_count": 1,
      "outputs": []
    },
    {
      "cell_type": "code",
      "execution_count": null,
      "metadata": {
        "colab": {
          "base_uri": "https://localhost:8080/"
        },
        "id": "Tq_ZXI6pOLZT",
        "outputId": "36ee5e1f-9962-4987-fe8e-b6733dd394da"
      },
      "outputs": [
        {
          "output_type": "execute_result",
          "data": {
            "text/plain": [
              "[PhysicalDevice(name='/physical_device:GPU:0', device_type='GPU')]"
            ]
          },
          "metadata": {},
          "execution_count": 2
        }
      ],
      "source": [
        "#Test if GPU is available for tensorflow\n",
        "tf.config.list_physical_devices('GPU')"
      ]
    },
    {
      "cell_type": "code",
      "source": [
        "#IF local runtime used -> Set os.cwd as google drive volume , mounted locally\n",
        "os.chdir('G:\\Il mio Drive')\n",
        "cwd = os.getcwd()\n",
        "cwd = os.path.join(cwd,'Colab2022/AppliedAI/FinalAssignment')\n",
        "os.chdir(cwd)\n",
        "os.listdir(cwd)"
      ],
      "metadata": {
        "colab": {
          "base_uri": "https://localhost:8080/"
        },
        "id": "YwzOBlxzPKhE",
        "outputId": "d37f9b4a-f700-493d-dbfb-c00c5188c450"
      },
      "execution_count": null,
      "outputs": [
        {
          "output_type": "execute_result",
          "data": {
            "text/plain": [
              "['training_set.zip', 'training_set_dir', 'desktop.ini']"
            ]
          },
          "metadata": {},
          "execution_count": 5
        }
      ]
    },
    {
      "cell_type": "code",
      "source": [
        "#IF Colab cloud GPU used -> Mount the My Drive folder and set cwd\n",
        "from google.colab import drive\n",
        "drive.mount('/content/drive')\n",
        "cwd = '/content/drive/My Drive/FinalAssignment'\n",
        "os.chdir(cwd)"
      ],
      "metadata": {
        "id": "WY0EozhNPOEK",
        "colab": {
          "base_uri": "https://localhost:8080/"
        },
        "outputId": "9e909406-ae65-4463-99ff-a196b80c49c1"
      },
      "execution_count": 5,
      "outputs": [
        {
          "output_type": "stream",
          "name": "stdout",
          "text": [
            "Mounted at /content/drive\n"
          ]
        },
        {
          "output_type": "execute_result",
          "data": {
            "text/plain": [
              "['training_set.zip', 'training_set_dir']"
            ]
          },
          "metadata": {},
          "execution_count": 5
        }
      ]
    },
    {
      "cell_type": "code",
      "source": [
        "def load_data(sample_prefix, input_dir):\n",
        "  label_filepath = os.path.join(input_dir, sample_prefix + '_ann.mat')\n",
        "  peak_filepath = os.path.join(input_dir, sample_prefix + '_rpk.mat')\n",
        "  signal_filepath = os.path.join(input_dir, sample_prefix + '.mat')\n",
        "  if os.path.isfile(label_filepath):\n",
        "    mat_file = loadmat(label_filepath)\n",
        "    label = np.asarray(mat_file['labels'])\n",
        "  if os.path.isfile(peak_filepath):\n",
        "    mat_file = loadmat(peak_filepath)\n",
        "    peak = np.asarray(mat_file['rpeaks'])\n",
        "  if os.path.isfile(signal_filepath):\n",
        "    mat_file = loadmat(signal_filepath)\n",
        "    signal = np.asarray(mat_file['ecg'] )\n",
        "\n",
        "  return label, peak, signal\n",
        "\n",
        " "
      ],
      "metadata": {
        "id": "XzdG3yHvR6LE"
      },
      "execution_count": 6,
      "outputs": []
    },
    {
      "cell_type": "code",
      "source": [
        "x = 'S095_250_rpk.mat'\n",
        "y = x[:8]\n",
        "y = int(y[5:])\n",
        "print(y)"
      ],
      "metadata": {
        "colab": {
          "base_uri": "https://localhost:8080/"
        },
        "id": "Q09jBkbMjwHR",
        "outputId": "c60cd1a9-3786-4dbc-e9cd-9d18f8c7b7cd"
      },
      "execution_count": null,
      "outputs": [
        {
          "output_type": "stream",
          "name": "stdout",
          "text": [
            "250\n"
          ]
        }
      ]
    },
    {
      "cell_type": "code",
      "source": [
        "input_dir = os.path.join(cwd, 'training_set_dir')\n",
        "labels = list()\n",
        "ids = list()\n",
        "rpeaks = list()\n",
        "ecg_signals = list()\n",
        "frequencies = list()\n",
        "\n",
        "\n",
        "for f in os.listdir(input_dir):\n",
        "  if f.lower().endswith('.mat'):\n",
        "    id = f[:4]\n",
        "    if id not in ids:\n",
        "      ids.append(id)\n",
        "      sample_prefix = f[:8]\n",
        "      label, peak, signal = load_data(sample_prefix, input_dir)\n",
        "      labels.append(label)\n",
        "      rpeaks.append(peak)\n",
        "      ecg_signals.append(signal)\n",
        "      frequencies.append(int(sample_prefix[5:]))\n",
        "    \n",
        "\n",
        "\n",
        "#print(ids)\n",
        "#print(labels)\n",
        "#print(rpeaks)\n",
        "#print(ecg_signals)\n",
        "print(len(ids))\n",
        "print(len(labels))\n",
        "print(len(rpeaks))\n",
        "print(len(ecg_signals))\n",
        "print(len(frequencies))\n",
        "\n",
        "\n"
      ],
      "metadata": {
        "id": "GDLq6NnJTTDr",
        "colab": {
          "base_uri": "https://localhost:8080/"
        },
        "outputId": "92deed1f-dfa0-4ff3-cdae-f9a5c9fdc0f3"
      },
      "execution_count": 7,
      "outputs": [
        {
          "output_type": "stream",
          "name": "stdout",
          "text": [
            "105\n",
            "105\n",
            "105\n",
            "105\n",
            "105\n"
          ]
        }
      ]
    },
    {
      "cell_type": "code",
      "source": [
        ""
      ],
      "metadata": {
        "id": "ZdEaTgMe_nFv"
      },
      "execution_count": null,
      "outputs": []
    },
    {
      "cell_type": "code",
      "source": [
        ""
      ],
      "metadata": {
        "id": "1IRvUy0jTEl0"
      },
      "execution_count": null,
      "outputs": []
    }
  ]
}