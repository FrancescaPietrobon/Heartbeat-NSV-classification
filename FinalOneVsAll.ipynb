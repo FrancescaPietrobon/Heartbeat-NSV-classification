{
  "cells": [
    {
      "cell_type": "markdown",
      "metadata": {
        "id": "view-in-github"
      },
      "source": [
        "<a href=\"https://colab.research.google.com/github/simonetome/ApplieAI-Biomedicine-Masciulli-Pietrobon-Tome/blob/main/FinalResnet.ipynb\" target=\"_parent\"><img src=\"https://colab.research.google.com/assets/colab-badge.svg\" alt=\"Open In Colab\"/></a>"
      ],
      "id": "view-in-github"
    },
    {
      "cell_type": "code",
      "source": [
        "!pip install heartpy\n",
        "!pip install PyWavelets"
      ],
      "metadata": {
        "id": "l1CgC3jGsC2d",
        "colab": {
          "base_uri": "https://localhost:8080/"
        },
        "outputId": "66bd8b8f-f837-4924-85d0-3aa6db44bb61"
      },
      "id": "l1CgC3jGsC2d",
      "execution_count": 1,
      "outputs": [
        {
          "output_type": "stream",
          "name": "stdout",
          "text": [
            "Requirement already satisfied: heartpy in /usr/local/lib/python3.7/dist-packages (1.2.7)\n",
            "Requirement already satisfied: scipy in /usr/local/lib/python3.7/dist-packages (from heartpy) (1.4.1)\n",
            "Requirement already satisfied: numpy>=1.17 in /usr/local/lib/python3.7/dist-packages (from heartpy) (1.19.5)\n",
            "Requirement already satisfied: matplotlib<=3.3.4 in /usr/local/lib/python3.7/dist-packages (from heartpy) (3.2.2)\n",
            "Requirement already satisfied: python-dateutil>=2.1 in /usr/local/lib/python3.7/dist-packages (from matplotlib<=3.3.4->heartpy) (2.8.2)\n",
            "Requirement already satisfied: cycler>=0.10 in /usr/local/lib/python3.7/dist-packages (from matplotlib<=3.3.4->heartpy) (0.11.0)\n",
            "Requirement already satisfied: kiwisolver>=1.0.1 in /usr/local/lib/python3.7/dist-packages (from matplotlib<=3.3.4->heartpy) (1.3.2)\n",
            "Requirement already satisfied: pyparsing!=2.0.4,!=2.1.2,!=2.1.6,>=2.0.1 in /usr/local/lib/python3.7/dist-packages (from matplotlib<=3.3.4->heartpy) (3.0.6)\n",
            "Requirement already satisfied: six>=1.5 in /usr/local/lib/python3.7/dist-packages (from python-dateutil>=2.1->matplotlib<=3.3.4->heartpy) (1.15.0)\n",
            "Requirement already satisfied: PyWavelets in /usr/local/lib/python3.7/dist-packages (1.2.0)\n",
            "Requirement already satisfied: numpy>=1.17.3 in /usr/local/lib/python3.7/dist-packages (from PyWavelets) (1.19.5)\n"
          ]
        }
      ]
    },
    {
      "cell_type": "code",
      "execution_count": 2,
      "id": "7bfe12d7",
      "metadata": {
        "id": "7bfe12d7"
      },
      "outputs": [],
      "source": [
        "import os \n",
        "import zipfile \n",
        "from scipy.io import loadmat \n",
        "import pandas as pd\n",
        "import matplotlib.pyplot as plt \n",
        "import numpy as np\n",
        "import io\n",
        "from PIL import Image\n",
        "import tensorflow as tf \n",
        "from tensorflow import keras\n",
        "import sys\n",
        "from scipy.signal import resample, butter, lfilter, iirnotch\n",
        "from tqdm import tqdm\n",
        "import random\n",
        "from sklearn.model_selection import train_test_split\n",
        "import heartpy as hp\n",
        "from tensorflow.keras.callbacks import ModelCheckpoint,EarlyStopping,ReduceLROnPlateau\n",
        "import pywt as pw\n",
        "SEED = 123\n",
        "tf.random.set_seed(SEED)\n",
        "np.random.seed(SEED)\n",
        "random.seed(SEED)\n",
        "os.environ['PYTHONHASHSEED'] = str(SEED)"
      ]
    },
    {
      "cell_type": "code",
      "source": [
        "#IF Colab cloud GPU used -> Mount the My Drive folder and set cwd\n",
        "from google.colab import drive\n",
        "drive.mount('/content/drive')\n",
        "cwd = '/content/drive/My Drive/FinalAssignment'\n",
        "os.chdir(cwd)\n",
        "dataset_folder = os.path.join(cwd,'training_set_dir')\n",
        "dataset_current_folder = \"training_set.zip\" # where the zip is\n",
        "\n",
        "with zipfile.ZipFile(dataset_current_folder, 'r') as zip: # extract the zip file into the desired folder \n",
        "    zip.extractall(dataset_folder)"
      ],
      "metadata": {
        "colab": {
          "base_uri": "https://localhost:8080/"
        },
        "id": "iiM7KQvEsJjV",
        "outputId": "617e1cc6-8161-4fc5-e323-045e3dfd57ae"
      },
      "id": "iiM7KQvEsJjV",
      "execution_count": 3,
      "outputs": [
        {
          "output_type": "stream",
          "name": "stdout",
          "text": [
            "Drive already mounted at /content/drive; to attempt to forcibly remount, call drive.mount(\"/content/drive\", force_remount=True).\n"
          ]
        }
      ]
    },
    {
      "cell_type": "code",
      "execution_count": 4,
      "id": "5fcdb248",
      "metadata": {
        "id": "5fcdb248",
        "colab": {
          "base_uri": "https://localhost:8080/",
          "height": 73
        },
        "outputId": "ceb10b95-c801-4c5b-9ca3-2e2bfa6a837d"
      },
      "outputs": [
        {
          "output_type": "execute_result",
          "data": {
            "application/vnd.google.colaboratory.intrinsic+json": {
              "type": "string"
            },
            "text/plain": [
              "'\\n#IF run locally\\ndataset_current_folder = \"training_set.zip\" # where the zip is\\ndataset_folder = \"C://Users//simon//Desktop//AppliedAI-project\" # where I want the dataset - avoid the current folder as Git doesn\\'t allow huge uploads\\n\\nwith zipfile.ZipFile(dataset_current_folder, \\'r\\') as zip: # extract the zip file into the desired folder \\n    zip.extractall(dataset_folder)\\n'"
            ]
          },
          "metadata": {},
          "execution_count": 4
        }
      ],
      "source": [
        "'''\n",
        "#IF run locally\n",
        "dataset_current_folder = \"training_set.zip\" # where the zip is\n",
        "dataset_folder = \"C://Users//simon//Desktop//AppliedAI-project\" # where I want the dataset - avoid the current folder as Git doesn't allow huge uploads\n",
        "\n",
        "with zipfile.ZipFile(dataset_current_folder, 'r') as zip: # extract the zip file into the desired folder \n",
        "    zip.extractall(dataset_folder)\n",
        "'''"
      ]
    },
    {
      "cell_type": "code",
      "source": [
        "'''\n",
        "#IF local runtime used -> Set os.cwd as google drive volume , mounted locally\n",
        "os.chdir('G:\\Il mio Drive')\n",
        "cwd = os.getcwd()\n",
        "cwd = os.path.join(cwd,'Colab2022/AppliedAI/FinalAssignment')\n",
        "os.chdir(cwd)\n",
        "dataset_folder = os.path.join(cwd,'training_set_dir')\n",
        "'''"
      ],
      "metadata": {
        "id": "HsPnFitKvg0j",
        "colab": {
          "base_uri": "https://localhost:8080/",
          "height": 55
        },
        "outputId": "b8c5e13f-50b5-4dcd-b6fa-28690b97ab96"
      },
      "id": "HsPnFitKvg0j",
      "execution_count": 5,
      "outputs": [
        {
          "output_type": "execute_result",
          "data": {
            "application/vnd.google.colaboratory.intrinsic+json": {
              "type": "string"
            },
            "text/plain": [
              "\"\\n#IF local runtime used -> Set os.cwd as google drive volume , mounted locally\\nos.chdir('G:\\\\Il mio Drive')\\ncwd = os.getcwd()\\ncwd = os.path.join(cwd,'Colab2022/AppliedAI/FinalAssignment')\\nos.chdir(cwd)\\ndataset_folder = os.path.join(cwd,'training_set_dir')\\n\""
            ]
          },
          "metadata": {},
          "execution_count": 5
        }
      ]
    },
    {
      "cell_type": "code",
      "execution_count": 6,
      "id": "26e300ba",
      "metadata": {
        "id": "26e300ba",
        "colab": {
          "base_uri": "https://localhost:8080/",
          "height": 268
        },
        "outputId": "648aef8b-d5e1-4357-8d4c-8e7b93c87f07"
      },
      "outputs": [
        {
          "output_type": "stream",
          "name": "stderr",
          "text": [
            "100%|██████████| 105/105 [00:00<00:00, 553.32it/s]\n"
          ]
        },
        {
          "output_type": "execute_result",
          "data": {
            "text/html": [
              "\n",
              "  <div id=\"df-4b756014-2427-4640-a963-74338bee7857\">\n",
              "    <div class=\"colab-df-container\">\n",
              "      <div>\n",
              "<style scoped>\n",
              "    .dataframe tbody tr th:only-of-type {\n",
              "        vertical-align: middle;\n",
              "    }\n",
              "\n",
              "    .dataframe tbody tr th {\n",
              "        vertical-align: top;\n",
              "    }\n",
              "\n",
              "    .dataframe thead th {\n",
              "        text-align: right;\n",
              "    }\n",
              "</style>\n",
              "<table border=\"1\" class=\"dataframe\">\n",
              "  <thead>\n",
              "    <tr style=\"text-align: right;\">\n",
              "      <th></th>\n",
              "      <th>sigId</th>\n",
              "      <th>ecg_lead_1</th>\n",
              "      <th>ecg_lead_2</th>\n",
              "      <th>peaks</th>\n",
              "      <th>frequencies</th>\n",
              "      <th>labels</th>\n",
              "    </tr>\n",
              "  </thead>\n",
              "  <tbody>\n",
              "    <tr>\n",
              "      <th>0</th>\n",
              "      <td>S001</td>\n",
              "      <td>[0.0, 0.04, 0.03, 0.0, 0.03, 0.09, 0.18, 0.14,...</td>\n",
              "      <td>[0.08, 0.07, 0.1, 0.06, 0.06, 0.03, 0.1, 0.21,...</td>\n",
              "      <td>[29, 110, 191, 272, 353, 433, 514, 595, 676, 7...</td>\n",
              "      <td>128</td>\n",
              "      <td>[N, N, N, N, N, N, N, N, N, N, N, N, N, N, N, ...</td>\n",
              "    </tr>\n",
              "    <tr>\n",
              "      <th>1</th>\n",
              "      <td>S002</td>\n",
              "      <td>[-0.035, -0.045, -0.025, -0.035, -0.045, -0.05...</td>\n",
              "      <td>[-0.095, -0.105, -0.095, -0.095, -0.115, -0.09...</td>\n",
              "      <td>[48, 153, 243, 352, 440, 547, 636, 742, 831, 9...</td>\n",
              "      <td>128</td>\n",
              "      <td>[N, N, N, N, S, N, S, N, S, N, S, N, S, N, S, ...</td>\n",
              "    </tr>\n",
              "    <tr>\n",
              "      <th>2</th>\n",
              "      <td>S003</td>\n",
              "      <td>[-0.56, -0.56, -0.55, -0.47, -0.53, -0.47, -0....</td>\n",
              "      <td>[0.43, 0.56, 0.6, 0.41, 0.54, 0.48, 0.56, 0.46...</td>\n",
              "      <td>[91, 209, 326, 394, 537, 653, 745, 872, 984, 1...</td>\n",
              "      <td>128</td>\n",
              "      <td>[N, N, N, S, N, N, S, N, N, S, N, N, N, N, N, ...</td>\n",
              "    </tr>\n",
              "    <tr>\n",
              "      <th>3</th>\n",
              "      <td>S004</td>\n",
              "      <td>[-0.46, -0.49, -0.52, -0.58, -0.62, -0.69, -0....</td>\n",
              "      <td>[0.56, 0.61, 0.66, 0.66, 0.63, 0.66, 0.59, 0.5...</td>\n",
              "      <td>[98, 223, 349, 474, 599, 726, 853, 980, 1116, ...</td>\n",
              "      <td>128</td>\n",
              "      <td>[N, N, N, N, N, N, N, N, N, N, N, N, N, N, N, ...</td>\n",
              "    </tr>\n",
              "    <tr>\n",
              "      <th>4</th>\n",
              "      <td>S005</td>\n",
              "      <td>[-0.27, -0.17, -0.13, -0.23, -0.18, -0.23, -0....</td>\n",
              "      <td>[-0.02, -0.04, -0.01, -0.01, -0.02, -0.06, 0.0...</td>\n",
              "      <td>[27, 127, 225, 324, 423, 523, 623, 722, 822, 9...</td>\n",
              "      <td>128</td>\n",
              "      <td>[N, N, N, N, N, N, N, N, N, N, N, N, N, N, N, ...</td>\n",
              "    </tr>\n",
              "  </tbody>\n",
              "</table>\n",
              "</div>\n",
              "      <button class=\"colab-df-convert\" onclick=\"convertToInteractive('df-4b756014-2427-4640-a963-74338bee7857')\"\n",
              "              title=\"Convert this dataframe to an interactive table.\"\n",
              "              style=\"display:none;\">\n",
              "        \n",
              "  <svg xmlns=\"http://www.w3.org/2000/svg\" height=\"24px\"viewBox=\"0 0 24 24\"\n",
              "       width=\"24px\">\n",
              "    <path d=\"M0 0h24v24H0V0z\" fill=\"none\"/>\n",
              "    <path d=\"M18.56 5.44l.94 2.06.94-2.06 2.06-.94-2.06-.94-.94-2.06-.94 2.06-2.06.94zm-11 1L8.5 8.5l.94-2.06 2.06-.94-2.06-.94L8.5 2.5l-.94 2.06-2.06.94zm10 10l.94 2.06.94-2.06 2.06-.94-2.06-.94-.94-2.06-.94 2.06-2.06.94z\"/><path d=\"M17.41 7.96l-1.37-1.37c-.4-.4-.92-.59-1.43-.59-.52 0-1.04.2-1.43.59L10.3 9.45l-7.72 7.72c-.78.78-.78 2.05 0 2.83L4 21.41c.39.39.9.59 1.41.59.51 0 1.02-.2 1.41-.59l7.78-7.78 2.81-2.81c.8-.78.8-2.07 0-2.86zM5.41 20L4 18.59l7.72-7.72 1.47 1.35L5.41 20z\"/>\n",
              "  </svg>\n",
              "      </button>\n",
              "      \n",
              "  <style>\n",
              "    .colab-df-container {\n",
              "      display:flex;\n",
              "      flex-wrap:wrap;\n",
              "      gap: 12px;\n",
              "    }\n",
              "\n",
              "    .colab-df-convert {\n",
              "      background-color: #E8F0FE;\n",
              "      border: none;\n",
              "      border-radius: 50%;\n",
              "      cursor: pointer;\n",
              "      display: none;\n",
              "      fill: #1967D2;\n",
              "      height: 32px;\n",
              "      padding: 0 0 0 0;\n",
              "      width: 32px;\n",
              "    }\n",
              "\n",
              "    .colab-df-convert:hover {\n",
              "      background-color: #E2EBFA;\n",
              "      box-shadow: 0px 1px 2px rgba(60, 64, 67, 0.3), 0px 1px 3px 1px rgba(60, 64, 67, 0.15);\n",
              "      fill: #174EA6;\n",
              "    }\n",
              "\n",
              "    [theme=dark] .colab-df-convert {\n",
              "      background-color: #3B4455;\n",
              "      fill: #D2E3FC;\n",
              "    }\n",
              "\n",
              "    [theme=dark] .colab-df-convert:hover {\n",
              "      background-color: #434B5C;\n",
              "      box-shadow: 0px 1px 3px 1px rgba(0, 0, 0, 0.15);\n",
              "      filter: drop-shadow(0px 1px 2px rgba(0, 0, 0, 0.3));\n",
              "      fill: #FFFFFF;\n",
              "    }\n",
              "  </style>\n",
              "\n",
              "      <script>\n",
              "        const buttonEl =\n",
              "          document.querySelector('#df-4b756014-2427-4640-a963-74338bee7857 button.colab-df-convert');\n",
              "        buttonEl.style.display =\n",
              "          google.colab.kernel.accessAllowed ? 'block' : 'none';\n",
              "\n",
              "        async function convertToInteractive(key) {\n",
              "          const element = document.querySelector('#df-4b756014-2427-4640-a963-74338bee7857');\n",
              "          const dataTable =\n",
              "            await google.colab.kernel.invokeFunction('convertToInteractive',\n",
              "                                                     [key], {});\n",
              "          if (!dataTable) return;\n",
              "\n",
              "          const docLinkHtml = 'Like what you see? Visit the ' +\n",
              "            '<a target=\"_blank\" href=https://colab.research.google.com/notebooks/data_table.ipynb>data table notebook</a>'\n",
              "            + ' to learn more about interactive tables.';\n",
              "          element.innerHTML = '';\n",
              "          dataTable['output_type'] = 'display_data';\n",
              "          await google.colab.output.renderOutput(dataTable, element);\n",
              "          const docLink = document.createElement('div');\n",
              "          docLink.innerHTML = docLinkHtml;\n",
              "          element.appendChild(docLink);\n",
              "        }\n",
              "      </script>\n",
              "    </div>\n",
              "  </div>\n",
              "  "
            ],
            "text/plain": [
              "  sigId  ...                                             labels\n",
              "0  S001  ...  [N, N, N, N, N, N, N, N, N, N, N, N, N, N, N, ...\n",
              "1  S002  ...  [N, N, N, N, S, N, S, N, S, N, S, N, S, N, S, ...\n",
              "2  S003  ...  [N, N, N, S, N, N, S, N, N, S, N, N, N, N, N, ...\n",
              "3  S004  ...  [N, N, N, N, N, N, N, N, N, N, N, N, N, N, N, ...\n",
              "4  S005  ...  [N, N, N, N, N, N, N, N, N, N, N, N, N, N, N, ...\n",
              "\n",
              "[5 rows x 6 columns]"
            ]
          },
          "metadata": {},
          "execution_count": 6
        }
      ],
      "source": [
        "def load_data(sample_prefix, input_dir):    # everything is returned as a numpy array which is easier to manipulate\n",
        "    label_filepath = os.path.join(input_dir, sample_prefix + '_ann.mat')\n",
        "    peak_filepath = os.path.join(input_dir, sample_prefix + '_rpk.mat')\n",
        "    signal_filepath = os.path.join(input_dir, sample_prefix + '.mat')\n",
        "    if os.path.isfile(label_filepath):\n",
        "        mat_file = loadmat(label_filepath)\n",
        "        label = np.asarray(mat_file['labels'])\n",
        "    if os.path.isfile(peak_filepath):\n",
        "        mat_file = loadmat(peak_filepath)\n",
        "        peaks = np.array(mat_file['rpeaks'],dtype=np.int64)\n",
        "    if os.path.isfile(signal_filepath):\n",
        "        mat_file = loadmat(signal_filepath)\n",
        "        signal = np.asarray(mat_file['ecg'] )\n",
        "\n",
        "    return label, peaks, signal\n",
        "\n",
        "\n",
        "labels = list()             # labels \n",
        "ids = list()                # Id of samples \n",
        "rpeaks = list()             # detected peaks of the signal \n",
        "ecg_signals = list()        # .mat ecg signal \n",
        "frequencies = list()        # sample frequency of the ecg signal \n",
        "\n",
        "\n",
        "for f in os.listdir(dataset_folder):\n",
        "  if f.lower().endswith('.mat'):\n",
        "    id = f[:4]\n",
        "    if id not in ids:\n",
        "      ids.append(id)\n",
        "      sample_prefix = f[:8]\n",
        "      label, peak, signal = load_data(sample_prefix, dataset_folder)\n",
        "      labels.append(label)\n",
        "      rpeaks.append(peak)\n",
        "      ecg_signals.append(signal)\n",
        "      frequencies.append(int(sample_prefix[5:]))\n",
        "cols = [\"sigId\",\"ecg_lead_1\",\"ecg_lead_2\",\"peaks\",\"frequencies\",\"labels\"]\n",
        "\n",
        "# ecg signals is 105 rows [,,,,,]\n",
        "\n",
        "first_lead_signals = []\n",
        "second_lead_signals = []\n",
        "\n",
        "for signal in ecg_signals:\n",
        "    first_lead_signals.append(signal[:,0].tolist())    # converting the array to list as list of array is deprecated \n",
        "    second_lead_signals.append(signal[:,1].tolist())\n",
        "\n",
        "df = pd.DataFrame(data =[ids,first_lead_signals,second_lead_signals,rpeaks,frequencies,labels]).T\n",
        "df.columns = cols\n",
        "\n",
        "# transform peaks \n",
        "for id in tqdm(df.index.tolist()):\n",
        "    peaks = df.iloc[id]['peaks']\n",
        "    p_list = list()\n",
        "    for p in peaks:\n",
        "        p_list.append(p[0])\n",
        "    df.iloc[id]['peaks'] = np.asarray(p_list).astype(np.int64)\n",
        "\n",
        "df.head()"
      ]
    },
    {
      "cell_type": "code",
      "execution_count": 7,
      "id": "999717a8",
      "metadata": {
        "id": "999717a8",
        "outputId": "01d68729-108d-45c4-f698-6b42987780db",
        "colab": {
          "base_uri": "https://localhost:8080/"
        }
      },
      "outputs": [
        {
          "output_type": "stream",
          "name": "stderr",
          "text": [
            "100%|██████████| 40/40 [00:16<00:00,  2.42it/s]\n"
          ]
        }
      ],
      "source": [
        "# because of the curse of dimensionality --> undersampling \n",
        "\n",
        "from scipy.signal import resample\n",
        "\n",
        "ids_128 = df[df['frequencies'] == 128].index.tolist() # 65 signals are sampled using fs = 128\n",
        "ids_250 = df[df['frequencies'] == 250].index.tolist() # 65 signals are sampled using fs = 128\n",
        "sampled_len =  len(df.iloc[ids_250[0]]['ecg_lead_1'])\n",
        "resampled_len = len(df.iloc[ids_128[0]]['ecg_lead_1'])\n",
        "\n",
        "for id in tqdm(ids_250):\n",
        "    row = df.iloc[id]\n",
        "    # first lead\n",
        "    signal = np.asarray(row['ecg_lead_1']).astype(np.float32)\n",
        "    resampled_1 = resample(signal,resampled_len)\n",
        "    \n",
        "    # second lead\n",
        "    \n",
        "    signal = np.asarray(row['ecg_lead_2']).astype(np.float32)\n",
        "    resampled_2 = resample(signal,resampled_len)\n",
        "    \n",
        "    df.iloc[id]['ecg_lead_1'] = resampled_1.tolist()\n",
        "    df.iloc[id]['ecg_lead_2'] = resampled_2.tolist()\n",
        "    \n",
        "    for i,p in enumerate(list(df.iloc[id]['peaks'])):\n",
        "        df.iloc[id]['peaks'][i] = int(resampled_len * p/sampled_len)\n"
      ]
    },
    {
      "cell_type": "markdown",
      "metadata": {
        "id": "RJltVza9lkVw"
      },
      "source": [
        "<h2>Bandpass filtering"
      ],
      "id": "RJltVza9lkVw"
    },
    {
      "cell_type": "code",
      "source": [
        "#Preprocessing used in practical lessons\n",
        "from scipy.signal import resample, butter, lfilter, iirnotch\n",
        "\n",
        "def notch_filter(cutoff, fs, q=30):\n",
        "    nyq = 0.5*fs\n",
        "    freq = cutoff/nyq\n",
        "    b, a = iirnotch(freq, q)\n",
        "    return b, a\n",
        "\n",
        "\n",
        "def bandpass_filter(data, filter_order=6, lowcut = .8, highcut = 45, signal_freq=128):\n",
        "    \"\"\"\n",
        "    Method responsible for creating and applying Butterworth filter.\n",
        "    :param deque data: raw data\n",
        "    :param float lowcut: filter lowcut frequency value\n",
        "    :param float highcut: filter highcut frequency value\n",
        "    :param int signal_freq: signal frequency in samples per second (Hz)\n",
        "    :param int filter_order: filter order\n",
        "    :return array: filtered data\n",
        "    \"\"\"\n",
        "    powerline = 60\n",
        "    nyquist_freq = 0.5 * signal_freq\n",
        "    low = lowcut / nyquist_freq\n",
        "    high = highcut / nyquist_freq\n",
        "    b, a = butter(filter_order, [low, high], btype=\"band\")\n",
        "    y = lfilter(b, a, data,zi = None)\n",
        "    #b,a = notch_filter(powerline,signal_freq)\n",
        "    #y = lfilter(b,a,y)\n",
        "    return y\n",
        "\n",
        "\n",
        "\n",
        "filtered_df = df.copy(deep= True)\n",
        "\n",
        "ids = filtered_df.index.tolist()\n",
        "\n",
        "for id_ in tqdm(ids):\n",
        "    \n",
        "    row = filtered_df.iloc[id_]\n",
        "    first = row['ecg_lead_1']\n",
        "    second = row['ecg_lead_2']\n",
        "    filtered_first = np.asarray(bandpass_filter(first))\n",
        "    filtered_second =  np.asarray(bandpass_filter(second))\n",
        "\n",
        "    filtered_df.iloc[id_]['ecg_lead_1'] = pd.Series(filtered_first)\n",
        "    filtered_df.iloc[id_]['ecg_lead_2'] = pd.Series(filtered_second)"
      ],
      "metadata": {
        "id": "yyfwxPaQQlid",
        "colab": {
          "base_uri": "https://localhost:8080/"
        },
        "outputId": "631559e6-0582-46a4-ce49-b19bb6ee12f9"
      },
      "id": "yyfwxPaQQlid",
      "execution_count": 8,
      "outputs": [
        {
          "output_type": "stream",
          "name": "stderr",
          "text": [
            "100%|██████████| 105/105 [00:03<00:00, 26.82it/s]\n"
          ]
        }
      ]
    },
    {
      "cell_type": "code",
      "execution_count": 9,
      "id": "b8a6e546",
      "metadata": {
        "id": "b8a6e546",
        "outputId": "59523f9e-0503-409e-f0e1-7ade499489b5",
        "colab": {
          "base_uri": "https://localhost:8080/",
          "height": 1000
        }
      },
      "outputs": [
        {
          "output_type": "stream",
          "name": "stdout",
          "text": [
            "['N', 'N', 'S', 'N']\n"
          ]
        },
        {
          "output_type": "display_data",
          "data": {
            "image/png": "[encoded data removed]",
            "text/plain": [
              "<Figure size 1332x756 with 2 Axes>"
            ]
          },
          "metadata": {
            "needs_background": "light"
          }
        },
        {
          "output_type": "stream",
          "name": "stdout",
          "text": [
            "['N', 'N', 'S', 'N']\n"
          ]
        },
        {
          "output_type": "display_data",
          "data": {
            "image/png": "[encoded data removed]",
            "text/plain": [
              "<Figure size 1332x756 with 2 Axes>"
            ]
          },
          "metadata": {
            "needs_background": "light"
          }
        }
      ],
      "source": [
        "# plot signal \n",
        "from scipy.fft import fft, fftfreq\n",
        "\n",
        "def plot_signal(df,id,length):\n",
        "    fig,axs = plt.subplots(2)\n",
        "    fig.set_size_inches(18.5, 10.5)\n",
        "    ax1 = axs[0]\n",
        "    ax2 = axs[1]\n",
        "    \n",
        "    \n",
        "    signal = df.iloc[id]\n",
        "    \n",
        "    first_lead = signal['ecg_lead_1'][:length]\n",
        "    second_lead = signal['ecg_lead_2'][:length]\n",
        "    \n",
        "    peaks_ = signal['peaks']\n",
        "    labels_ = signal['labels']\n",
        "    \n",
        "    x = list(range(length))\n",
        "    \n",
        "    #ax1.plot(x,first_lead,color='blue')\n",
        "    #ax2.plot(x,second_lead,color='blue')\n",
        "    \n",
        "    ax1.plot(x,bandpass_filter(first_lead),color='green')\n",
        "    ax2.plot(x,bandpass_filter(second_lead),color='green')\n",
        "\n",
        "\n",
        "    \n",
        "    peaks = list()\n",
        "    p_amplitudes_first = list()\n",
        "    p_amplitudes_second = list()\n",
        "    labels = list()\n",
        "    \n",
        "    for i,p in enumerate(peaks_):\n",
        "        if(p <= length):\n",
        "            peaks.append(p)\n",
        "            p_amplitudes_first.append(first_lead[p])\n",
        "            p_amplitudes_second.append(second_lead[p])\n",
        "            labels.append(labels_[i])\n",
        "        else:\n",
        "            break\n",
        "            \n",
        "    ax1.scatter(peaks,p_amplitudes_first,color='red')\n",
        "    ax2.scatter(peaks,p_amplitudes_second,color='red')\n",
        "    offset = 10\n",
        "    \n",
        "    for i, txt in enumerate(labels):\n",
        "        ax1.annotate(txt, (peaks[i]+offset, p_amplitudes_first[i]),size = 14)\n",
        "        ax2.annotate(txt, (peaks[i]+offset, p_amplitudes_second[i]),size = 14)\n",
        "    \n",
        "    print(labels)\n",
        "    plt.show()\n",
        "\n",
        "plot_signal(df,50,400)\n",
        "plot_signal(filtered_df,50,400)"
      ]
    },
    {
      "cell_type": "markdown",
      "metadata": {
        "id": "GbEkpWlulkVx"
      },
      "source": [
        "<h2>Scaling to [0:1] in 10 seconds time window "
      ],
      "id": "GbEkpWlulkVx"
    },
    {
      "cell_type": "code",
      "source": [
        "import heartpy as hp\n",
        "\n",
        "fs = 128\n",
        "time_window = 10\n",
        "samples = fs * time_window ##\n",
        "\n",
        "for id in tqdm(filtered_df.index.tolist()):\n",
        "    row = filtered_df.loc[id]\n",
        "    first_lead = row['ecg_lead_1']\n",
        "    second_lead = row['ecg_lead_2']\n",
        "    l_ = len(first_lead)\n",
        "    scaled_1 = list()\n",
        "    scaled_2 = list()\n",
        "#    \n",
        "    for i in range(int(l_/samples)):\n",
        "        to_scale_1 = first_lead[i*samples:i*samples+samples] \n",
        "        to_scale_2 = second_lead[i*samples:i*samples+samples]\n",
        "#        \n",
        "        scaled_1 += list(hp.scale_data(to_scale_1,lower=0,upper=1))\n",
        "        scaled_2 += list(hp.scale_data(to_scale_2,lower=0,upper=1))\n",
        " ##   \n",
        "    filtered_df.loc[id]['ecg_lead_1'] = scaled_1\n",
        "    filtered_df.loc[id]['ecg_lead_2'] = scaled_2"
      ],
      "metadata": {
        "colab": {
          "base_uri": "https://localhost:8080/"
        },
        "id": "PUHZVzb7Opz7",
        "outputId": "4017bc02-5a19-4c91-ba41-952fe625ec49"
      },
      "id": "PUHZVzb7Opz7",
      "execution_count": 10,
      "outputs": [
        {
          "output_type": "stream",
          "name": "stderr",
          "text": [
            "100%|██████████| 105/105 [00:59<00:00,  1.75it/s]\n"
          ]
        }
      ]
    },
    {
      "cell_type": "markdown",
      "metadata": {
        "id": "ivJyLPD2lkVy"
      },
      "source": [
        "<h2>Outliers detection and removal using zscore</h2>"
      ],
      "id": "ivJyLPD2lkVy"
    },
    {
      "cell_type": "code",
      "source": [
        "from scipy import stats\n",
        "\n",
        "# Function for the computation of rhythm data \n",
        "def get_2ECG_rhythmfeatures(data):\n",
        "  \n",
        "  #   mean\n",
        "  mean_lead = np.mean(data)\n",
        "\n",
        "  #   median\n",
        "  median_lead = np.median(data)\n",
        "\n",
        "  #   standard deviation\n",
        "  std_lead = np.std(data)\n",
        "\n",
        "  #   variance\n",
        "  var_lead = stats.tvar(data)\n",
        "\n",
        "  #   Skewness\n",
        "  skew_lead = stats.skew(data)\n",
        "\n",
        "  #   Kurtosis\n",
        "  kurt_lead = stats.kurtosis(data)\n",
        "\n",
        "  features = np.hstack([mean_lead,median_lead,std_lead,var_lead,skew_lead,kurt_lead])\n",
        "\n",
        "  return features\n",
        "#-------------------------------------------------------------------------------\n",
        "\n",
        "#Training\n",
        "\n",
        "features_rhythm_lead1 = list()\n",
        "features_rhythm_lead2 = list()\n",
        "\n",
        "\n",
        "for i in range(filtered_df.shape[0]):\n",
        "  tmp_lead1 = get_2ECG_rhythmfeatures(filtered_df['ecg_lead_1'][i])\n",
        "  features_rhythm_lead1.append(tmp_lead1)\n",
        "  tmp_lead2 = get_2ECG_rhythmfeatures(filtered_df['ecg_lead_2'][i])\n",
        "  features_rhythm_lead2.append(tmp_lead2)\n",
        "\n",
        "features_rhythm_lead1 = pd.DataFrame(features_rhythm_lead1, columns = ['mean_lead1', 'median_lead1', 'std_lead1', 'var_lead1', 'skew_lead1','kurt_lead1'])\n",
        "features_rhythm_lead2 = pd.DataFrame(features_rhythm_lead2, columns = ['mean_lead2', 'median_lead2', 'std_lead2', 'var_lead2', 'skew_lead2','kurt_lead2'])\n",
        "\n",
        "features_rhythm = pd.concat([features_rhythm_lead1, features_rhythm_lead2], axis=1)\n",
        "\n",
        "features = pd.DataFrame(features_rhythm, columns = ['mean_lead1', 'median_lead1', 'std_lead1', 'var_lead1', 'skew_lead1','kurt_lead1',\n",
        "                                                    'mean_lead2', 'median_lead2', 'std_lead2', 'var_lead2', 'skew_lead2','kurt_lead2'])\n",
        "display(features) "
      ],
      "metadata": {
        "colab": {
          "base_uri": "https://localhost:8080/",
          "height": 423
        },
        "id": "8Ccc6_SuSxUY",
        "outputId": "84be8eae-7781-4382-b748-60c874dbc38d"
      },
      "id": "8Ccc6_SuSxUY",
      "execution_count": 11,
      "outputs": [
        {
          "output_type": "display_data",
          "data": {
            "text/html": [
              "\n",
              "  <div id=\"df-418aff6c-2970-4df7-a9ce-e8181636b4b8\">\n",
              "    <div class=\"colab-df-container\">\n",
              "      <div>\n",
              "<style scoped>\n",
              "    .dataframe tbody tr th:only-of-type {\n",
              "        vertical-align: middle;\n",
              "    }\n",
              "\n",
              "    .dataframe tbody tr th {\n",
              "        vertical-align: top;\n",
              "    }\n",
              "\n",
              "    .dataframe thead th {\n",
              "        text-align: right;\n",
              "    }\n",
              "</style>\n",
              "<table border=\"1\" class=\"dataframe\">\n",
              "  <thead>\n",
              "    <tr style=\"text-align: right;\">\n",
              "      <th></th>\n",
              "      <th>mean_lead1</th>\n",
              "      <th>median_lead1</th>\n",
              "      <th>std_lead1</th>\n",
              "      <th>var_lead1</th>\n",
              "      <th>skew_lead1</th>\n",
              "      <th>kurt_lead1</th>\n",
              "      <th>mean_lead2</th>\n",
              "      <th>median_lead2</th>\n",
              "      <th>std_lead2</th>\n",
              "      <th>var_lead2</th>\n",
              "      <th>skew_lead2</th>\n",
              "      <th>kurt_lead2</th>\n",
              "    </tr>\n",
              "  </thead>\n",
              "  <tbody>\n",
              "    <tr>\n",
              "      <th>0</th>\n",
              "      <td>0.476086</td>\n",
              "      <td>0.474618</td>\n",
              "      <td>0.128357</td>\n",
              "      <td>0.016476</td>\n",
              "      <td>0.065871</td>\n",
              "      <td>3.853435</td>\n",
              "      <td>0.600828</td>\n",
              "      <td>0.613177</td>\n",
              "      <td>0.119664</td>\n",
              "      <td>0.014319</td>\n",
              "      <td>-1.328497</td>\n",
              "      <td>6.504245</td>\n",
              "    </tr>\n",
              "    <tr>\n",
              "      <th>1</th>\n",
              "      <td>0.309628</td>\n",
              "      <td>0.315643</td>\n",
              "      <td>0.118704</td>\n",
              "      <td>0.014091</td>\n",
              "      <td>2.242173</td>\n",
              "      <td>11.961672</td>\n",
              "      <td>0.662428</td>\n",
              "      <td>0.672944</td>\n",
              "      <td>0.144363</td>\n",
              "      <td>0.020841</td>\n",
              "      <td>-1.038713</td>\n",
              "      <td>3.939288</td>\n",
              "    </tr>\n",
              "    <tr>\n",
              "      <th>2</th>\n",
              "      <td>0.462381</td>\n",
              "      <td>0.466913</td>\n",
              "      <td>0.122431</td>\n",
              "      <td>0.014989</td>\n",
              "      <td>-0.007802</td>\n",
              "      <td>2.618824</td>\n",
              "      <td>0.570732</td>\n",
              "      <td>0.586303</td>\n",
              "      <td>0.134329</td>\n",
              "      <td>0.018044</td>\n",
              "      <td>-0.788964</td>\n",
              "      <td>3.169306</td>\n",
              "    </tr>\n",
              "    <tr>\n",
              "      <th>3</th>\n",
              "      <td>0.399816</td>\n",
              "      <td>0.366260</td>\n",
              "      <td>0.149092</td>\n",
              "      <td>0.022228</td>\n",
              "      <td>0.955791</td>\n",
              "      <td>1.976279</td>\n",
              "      <td>0.658729</td>\n",
              "      <td>0.681179</td>\n",
              "      <td>0.162172</td>\n",
              "      <td>0.026300</td>\n",
              "      <td>-1.171663</td>\n",
              "      <td>1.827310</td>\n",
              "    </tr>\n",
              "    <tr>\n",
              "      <th>4</th>\n",
              "      <td>0.478230</td>\n",
              "      <td>0.488412</td>\n",
              "      <td>0.131123</td>\n",
              "      <td>0.017193</td>\n",
              "      <td>-0.046548</td>\n",
              "      <td>4.308083</td>\n",
              "      <td>0.555436</td>\n",
              "      <td>0.561574</td>\n",
              "      <td>0.148968</td>\n",
              "      <td>0.022191</td>\n",
              "      <td>-0.156231</td>\n",
              "      <td>1.414820</td>\n",
              "    </tr>\n",
              "    <tr>\n",
              "      <th>...</th>\n",
              "      <td>...</td>\n",
              "      <td>...</td>\n",
              "      <td>...</td>\n",
              "      <td>...</td>\n",
              "      <td>...</td>\n",
              "      <td>...</td>\n",
              "      <td>...</td>\n",
              "      <td>...</td>\n",
              "      <td>...</td>\n",
              "      <td>...</td>\n",
              "      <td>...</td>\n",
              "      <td>...</td>\n",
              "    </tr>\n",
              "    <tr>\n",
              "      <th>100</th>\n",
              "      <td>0.394100</td>\n",
              "      <td>0.385903</td>\n",
              "      <td>0.132414</td>\n",
              "      <td>0.017534</td>\n",
              "      <td>0.582383</td>\n",
              "      <td>1.942821</td>\n",
              "      <td>0.426588</td>\n",
              "      <td>0.419286</td>\n",
              "      <td>0.116018</td>\n",
              "      <td>0.013460</td>\n",
              "      <td>0.446691</td>\n",
              "      <td>2.379165</td>\n",
              "    </tr>\n",
              "    <tr>\n",
              "      <th>101</th>\n",
              "      <td>0.437926</td>\n",
              "      <td>0.430825</td>\n",
              "      <td>0.127339</td>\n",
              "      <td>0.016215</td>\n",
              "      <td>0.479884</td>\n",
              "      <td>3.274700</td>\n",
              "      <td>0.444411</td>\n",
              "      <td>0.452348</td>\n",
              "      <td>0.126760</td>\n",
              "      <td>0.016068</td>\n",
              "      <td>0.327382</td>\n",
              "      <td>3.613294</td>\n",
              "    </tr>\n",
              "    <tr>\n",
              "      <th>102</th>\n",
              "      <td>0.345843</td>\n",
              "      <td>0.332378</td>\n",
              "      <td>0.115116</td>\n",
              "      <td>0.013252</td>\n",
              "      <td>1.653328</td>\n",
              "      <td>6.466284</td>\n",
              "      <td>0.403117</td>\n",
              "      <td>0.404505</td>\n",
              "      <td>0.114159</td>\n",
              "      <td>0.013032</td>\n",
              "      <td>0.996624</td>\n",
              "      <td>6.575470</td>\n",
              "    </tr>\n",
              "    <tr>\n",
              "      <th>103</th>\n",
              "      <td>0.514950</td>\n",
              "      <td>0.522097</td>\n",
              "      <td>0.098893</td>\n",
              "      <td>0.009780</td>\n",
              "      <td>-0.152302</td>\n",
              "      <td>9.197804</td>\n",
              "      <td>0.461116</td>\n",
              "      <td>0.445006</td>\n",
              "      <td>0.129433</td>\n",
              "      <td>0.016753</td>\n",
              "      <td>0.508997</td>\n",
              "      <td>1.575390</td>\n",
              "    </tr>\n",
              "    <tr>\n",
              "      <th>104</th>\n",
              "      <td>0.537678</td>\n",
              "      <td>0.539089</td>\n",
              "      <td>0.106207</td>\n",
              "      <td>0.011280</td>\n",
              "      <td>-0.579932</td>\n",
              "      <td>6.520011</td>\n",
              "      <td>0.659409</td>\n",
              "      <td>0.655174</td>\n",
              "      <td>0.129539</td>\n",
              "      <td>0.016781</td>\n",
              "      <td>-1.179600</td>\n",
              "      <td>6.316306</td>\n",
              "    </tr>\n",
              "  </tbody>\n",
              "</table>\n",
              "<p>105 rows × 12 columns</p>\n",
              "</div>\n",
              "      <button class=\"colab-df-convert\" onclick=\"convertToInteractive('df-418aff6c-2970-4df7-a9ce-e8181636b4b8')\"\n",
              "              title=\"Convert this dataframe to an interactive table.\"\n",
              "              style=\"display:none;\">\n",
              "        \n",
              "  <svg xmlns=\"http://www.w3.org/2000/svg\" height=\"24px\"viewBox=\"0 0 24 24\"\n",
              "       width=\"24px\">\n",
              "    <path d=\"M0 0h24v24H0V0z\" fill=\"none\"/>\n",
              "    <path d=\"M18.56 5.44l.94 2.06.94-2.06 2.06-.94-2.06-.94-.94-2.06-.94 2.06-2.06.94zm-11 1L8.5 8.5l.94-2.06 2.06-.94-2.06-.94L8.5 2.5l-.94 2.06-2.06.94zm10 10l.94 2.06.94-2.06 2.06-.94-2.06-.94-.94-2.06-.94 2.06-2.06.94z\"/><path d=\"M17.41 7.96l-1.37-1.37c-.4-.4-.92-.59-1.43-.59-.52 0-1.04.2-1.43.59L10.3 9.45l-7.72 7.72c-.78.78-.78 2.05 0 2.83L4 21.41c.39.39.9.59 1.41.59.51 0 1.02-.2 1.41-.59l7.78-7.78 2.81-2.81c.8-.78.8-2.07 0-2.86zM5.41 20L4 18.59l7.72-7.72 1.47 1.35L5.41 20z\"/>\n",
              "  </svg>\n",
              "      </button>\n",
              "      \n",
              "  <style>\n",
              "    .colab-df-container {\n",
              "      display:flex;\n",
              "      flex-wrap:wrap;\n",
              "      gap: 12px;\n",
              "    }\n",
              "\n",
              "    .colab-df-convert {\n",
              "      background-color: #E8F0FE;\n",
              "      border: none;\n",
              "      border-radius: 50%;\n",
              "      cursor: pointer;\n",
              "      display: none;\n",
              "      fill: #1967D2;\n",
              "      height: 32px;\n",
              "      padding: 0 0 0 0;\n",
              "      width: 32px;\n",
              "    }\n",
              "\n",
              "    .colab-df-convert:hover {\n",
              "      background-color: #E2EBFA;\n",
              "      box-shadow: 0px 1px 2px rgba(60, 64, 67, 0.3), 0px 1px 3px 1px rgba(60, 64, 67, 0.15);\n",
              "      fill: #174EA6;\n",
              "    }\n",
              "\n",
              "    [theme=dark] .colab-df-convert {\n",
              "      background-color: #3B4455;\n",
              "      fill: #D2E3FC;\n",
              "    }\n",
              "\n",
              "    [theme=dark] .colab-df-convert:hover {\n",
              "      background-color: #434B5C;\n",
              "      box-shadow: 0px 1px 3px 1px rgba(0, 0, 0, 0.15);\n",
              "      filter: drop-shadow(0px 1px 2px rgba(0, 0, 0, 0.3));\n",
              "      fill: #FFFFFF;\n",
              "    }\n",
              "  </style>\n",
              "\n",
              "      <script>\n",
              "        const buttonEl =\n",
              "          document.querySelector('#df-418aff6c-2970-4df7-a9ce-e8181636b4b8 button.colab-df-convert');\n",
              "        buttonEl.style.display =\n",
              "          google.colab.kernel.accessAllowed ? 'block' : 'none';\n",
              "\n",
              "        async function convertToInteractive(key) {\n",
              "          const element = document.querySelector('#df-418aff6c-2970-4df7-a9ce-e8181636b4b8');\n",
              "          const dataTable =\n",
              "            await google.colab.kernel.invokeFunction('convertToInteractive',\n",
              "                                                     [key], {});\n",
              "          if (!dataTable) return;\n",
              "\n",
              "          const docLinkHtml = 'Like what you see? Visit the ' +\n",
              "            '<a target=\"_blank\" href=https://colab.research.google.com/notebooks/data_table.ipynb>data table notebook</a>'\n",
              "            + ' to learn more about interactive tables.';\n",
              "          element.innerHTML = '';\n",
              "          dataTable['output_type'] = 'display_data';\n",
              "          await google.colab.output.renderOutput(dataTable, element);\n",
              "          const docLink = document.createElement('div');\n",
              "          docLink.innerHTML = docLinkHtml;\n",
              "          element.appendChild(docLink);\n",
              "        }\n",
              "      </script>\n",
              "    </div>\n",
              "  </div>\n",
              "  "
            ],
            "text/plain": [
              "     mean_lead1  median_lead1  std_lead1  ...  var_lead2  skew_lead2  kurt_lead2\n",
              "0      0.476086      0.474618   0.128357  ...   0.014319   -1.328497    6.504245\n",
              "1      0.309628      0.315643   0.118704  ...   0.020841   -1.038713    3.939288\n",
              "2      0.462381      0.466913   0.122431  ...   0.018044   -0.788964    3.169306\n",
              "3      0.399816      0.366260   0.149092  ...   0.026300   -1.171663    1.827310\n",
              "4      0.478230      0.488412   0.131123  ...   0.022191   -0.156231    1.414820\n",
              "..          ...           ...        ...  ...        ...         ...         ...\n",
              "100    0.394100      0.385903   0.132414  ...   0.013460    0.446691    2.379165\n",
              "101    0.437926      0.430825   0.127339  ...   0.016068    0.327382    3.613294\n",
              "102    0.345843      0.332378   0.115116  ...   0.013032    0.996624    6.575470\n",
              "103    0.514950      0.522097   0.098893  ...   0.016753    0.508997    1.575390\n",
              "104    0.537678      0.539089   0.106207  ...   0.016781   -1.179600    6.316306\n",
              "\n",
              "[105 rows x 12 columns]"
            ]
          },
          "metadata": {}
        }
      ]
    },
    {
      "cell_type": "code",
      "source": [
        "# Visualize data distribution for each feature\n",
        "for col in features.columns: \n",
        "      features.hist(column = col, bins = 50)"
      ],
      "metadata": {
        "colab": {
          "base_uri": "https://localhost:8080/",
          "height": 1000
        },
        "id": "IodQqzfpSz-L",
        "outputId": "87921d5b-7f8e-4d1c-9b47-8e227ac2680a"
      },
      "id": "IodQqzfpSz-L",
      "execution_count": 12,
      "outputs": [
        {
          "output_type": "display_data",
          "data": {
            "image/png": "[encoded data removed]",
            "text/plain": [
              "<Figure size 432x288 with 1 Axes>"
            ]
          },
          "metadata": {
            "needs_background": "light"
          }
        },
        {
          "output_type": "display_data",
          "data": {
            "image/png": "[encoded data removed]",
            "text/plain": [
              "<Figure size 432x288 with 1 Axes>"
            ]
          },
          "metadata": {
            "needs_background": "light"
          }
        },
        {
          "output_type": "display_data",
          "data": {
            "image/png": "[encoded data removed]",
            "text/plain": [
              "<Figure size 432x288 with 1 Axes>"
            ]
          },
          "metadata": {
            "needs_background": "light"
          }
        },
        {
          "output_type": "display_data",
          "data": {
            "image/png": "[encoded data removed]",
            "text/plain": [
              "<Figure size 432x288 with 1 Axes>"
            ]
          },
          "metadata": {
            "needs_background": "light"
          }
        },
        {
          "output_type": "display_data",
          "data": {
            "image/png": "[encoded data removed]",
            "text/plain": [
              "<Figure size 432x288 with 1 Axes>"
            ]
          },
          "metadata": {
            "needs_background": "light"
          }
        },
        {
          "output_type": "display_data",
          "data": {
            "image/png": "[encoded data removed]",
            "text/plain": [
              "<Figure size 432x288 with 1 Axes>"
            ]
          },
          "metadata": {
            "needs_background": "light"
          }
        },
        {
          "output_type": "display_data",
          "data": {
            "image/png": "[encoded data removed]",
            "text/plain": [
              "<Figure size 432x288 with 1 Axes>"
            ]
          },
          "metadata": {
            "needs_background": "light"
          }
        },
        {
          "output_type": "display_data",
          "data": {
            "image/png": "[encoded data removed]",
            "text/plain": [
              "<Figure size 432x288 with 1 Axes>"
            ]
          },
          "metadata": {
            "needs_background": "light"
          }
        },
        {
          "output_type": "display_data",
          "data": {
            "image/png": "[encoded data removed]",
            "text/plain": [
              "<Figure size 432x288 with 1 Axes>"
            ]
          },
          "metadata": {
            "needs_background": "light"
          }
        },
        {
          "output_type": "display_data",
          "data": {
            "image/png": "[encoded data removed]",
            "text/plain": [
              "<Figure size 432x288 with 1 Axes>"
            ]
          },
          "metadata": {
            "needs_background": "light"
          }
        },
        {
          "output_type": "display_data",
          "data": {
            "image/png": "[encoded data removed]",
            "text/plain": [
              "<Figure size 432x288 with 1 Axes>"
            ]
          },
          "metadata": {
            "needs_background": "light"
          }
        },
        {
          "output_type": "display_data",
          "data": {
            "image/png": "[encoded data removed]",
            "text/plain": [
              "<Figure size 432x288 with 1 Axes>"
            ]
          },
          "metadata": {
            "needs_background": "light"
          }
        }
      ]
    },
    {
      "cell_type": "code",
      "source": [
        "def plot_outliersAnalysis(abs_zscores):\n",
        "  # number of outliers per subject \n",
        "  bool_zscores = (abs_zscores > 3).sum(axis=1)\n",
        "  bool_zscores.hist()\n",
        "  plt.title(\"Number of outliers per subject\")\n",
        "  plt.show()\n",
        "\n",
        "  # number of outliers per feature \n",
        "  bool_zscores = (abs_zscores > 3).sum(axis=0)\n",
        "  #bool_zscores.hist(bins = len(feature_list))\n",
        "  fig = plt.figure()\n",
        "  ax = fig.add_axes([0,0,1,1])\n",
        "\n",
        "  ax.bar(feature_list,bool_zscores)\n",
        "  plt.title(\"Number of outliers per feature\")\n",
        "  plt.xticks(np.arange(len(feature_list)), feature_list,rotation=90)\n",
        "  plt.show()\n",
        "  return"
      ],
      "metadata": {
        "id": "k_30FvRhS0in"
      },
      "id": "k_30FvRhS0in",
      "execution_count": 13,
      "outputs": []
    },
    {
      "cell_type": "code",
      "source": [
        "# Perform z-scoring for outlier removal\n",
        "from scipy.stats import zscore\n",
        "import numpy as np\n",
        "\n",
        "feature_list = features.columns.tolist()\n",
        "print('Train subjects before outlier removal: ' + str(features.shape))\n",
        "\n",
        "# apply zscore\n",
        "zscore_features = features.apply(zscore, axis=0)\n",
        "\n",
        "# select all those values with zscore < -+ 3 and discard outliers \n",
        "abs_zscores = np.abs(zscore_features)\n",
        "filtered_entries = (abs_zscores < 3).all(axis=1)\n",
        "\n",
        "features_or = features[filtered_entries]\n",
        "\n",
        "print('Train subjects after outlier removal: ' + str(features_or.shape))\n",
        "\n",
        "\n",
        "plot_outliersAnalysis(abs_zscores)\n",
        "display(features_or)"
      ],
      "metadata": {
        "colab": {
          "base_uri": "https://localhost:8080/",
          "height": 1000
        },
        "id": "oCj4bYiRVsaQ",
        "outputId": "2cd89344-d4a3-4dee-ec96-ca9a0b834cfa"
      },
      "id": "oCj4bYiRVsaQ",
      "execution_count": 14,
      "outputs": [
        {
          "output_type": "stream",
          "name": "stdout",
          "text": [
            "Train subjects before outlier removal: (105, 12)\n",
            "Train subjects after outlier removal: (99, 12)\n"
          ]
        },
        {
          "output_type": "display_data",
          "data": {
            "image/png": "[encoded data removed]",
            "text/plain": [
              "<Figure size 432x288 with 1 Axes>"
            ]
          },
          "metadata": {
            "needs_background": "light"
          }
        },
        {
          "output_type": "display_data",
          "data": {
            "image/png": "[encoded data removed]",
            "text/plain": [
              "<Figure size 432x288 with 1 Axes>"
            ]
          },
          "metadata": {
            "needs_background": "light"
          }
        },
        {
          "output_type": "display_data",
          "data": {
            "text/html": [
              "\n",
              "  <div id=\"df-6cf88475-06ed-43a5-98b2-4567d236b8d0\">\n",
              "    <div class=\"colab-df-container\">\n",
              "      <div>\n",
              "<style scoped>\n",
              "    .dataframe tbody tr th:only-of-type {\n",
              "        vertical-align: middle;\n",
              "    }\n",
              "\n",
              "    .dataframe tbody tr th {\n",
              "        vertical-align: top;\n",
              "    }\n",
              "\n",
              "    .dataframe thead th {\n",
              "        text-align: right;\n",
              "    }\n",
              "</style>\n",
              "<table border=\"1\" class=\"dataframe\">\n",
              "  <thead>\n",
              "    <tr style=\"text-align: right;\">\n",
              "      <th></th>\n",
              "      <th>mean_lead1</th>\n",
              "      <th>median_lead1</th>\n",
              "      <th>std_lead1</th>\n",
              "      <th>var_lead1</th>\n",
              "      <th>skew_lead1</th>\n",
              "      <th>kurt_lead1</th>\n",
              "      <th>mean_lead2</th>\n",
              "      <th>median_lead2</th>\n",
              "      <th>std_lead2</th>\n",
              "      <th>var_lead2</th>\n",
              "      <th>skew_lead2</th>\n",
              "      <th>kurt_lead2</th>\n",
              "    </tr>\n",
              "  </thead>\n",
              "  <tbody>\n",
              "    <tr>\n",
              "      <th>0</th>\n",
              "      <td>0.476086</td>\n",
              "      <td>0.474618</td>\n",
              "      <td>0.128357</td>\n",
              "      <td>0.016476</td>\n",
              "      <td>0.065871</td>\n",
              "      <td>3.853435</td>\n",
              "      <td>0.600828</td>\n",
              "      <td>0.613177</td>\n",
              "      <td>0.119664</td>\n",
              "      <td>0.014319</td>\n",
              "      <td>-1.328497</td>\n",
              "      <td>6.504245</td>\n",
              "    </tr>\n",
              "    <tr>\n",
              "      <th>1</th>\n",
              "      <td>0.309628</td>\n",
              "      <td>0.315643</td>\n",
              "      <td>0.118704</td>\n",
              "      <td>0.014091</td>\n",
              "      <td>2.242173</td>\n",
              "      <td>11.961672</td>\n",
              "      <td>0.662428</td>\n",
              "      <td>0.672944</td>\n",
              "      <td>0.144363</td>\n",
              "      <td>0.020841</td>\n",
              "      <td>-1.038713</td>\n",
              "      <td>3.939288</td>\n",
              "    </tr>\n",
              "    <tr>\n",
              "      <th>2</th>\n",
              "      <td>0.462381</td>\n",
              "      <td>0.466913</td>\n",
              "      <td>0.122431</td>\n",
              "      <td>0.014989</td>\n",
              "      <td>-0.007802</td>\n",
              "      <td>2.618824</td>\n",
              "      <td>0.570732</td>\n",
              "      <td>0.586303</td>\n",
              "      <td>0.134329</td>\n",
              "      <td>0.018044</td>\n",
              "      <td>-0.788964</td>\n",
              "      <td>3.169306</td>\n",
              "    </tr>\n",
              "    <tr>\n",
              "      <th>3</th>\n",
              "      <td>0.399816</td>\n",
              "      <td>0.366260</td>\n",
              "      <td>0.149092</td>\n",
              "      <td>0.022228</td>\n",
              "      <td>0.955791</td>\n",
              "      <td>1.976279</td>\n",
              "      <td>0.658729</td>\n",
              "      <td>0.681179</td>\n",
              "      <td>0.162172</td>\n",
              "      <td>0.026300</td>\n",
              "      <td>-1.171663</td>\n",
              "      <td>1.827310</td>\n",
              "    </tr>\n",
              "    <tr>\n",
              "      <th>4</th>\n",
              "      <td>0.478230</td>\n",
              "      <td>0.488412</td>\n",
              "      <td>0.131123</td>\n",
              "      <td>0.017193</td>\n",
              "      <td>-0.046548</td>\n",
              "      <td>4.308083</td>\n",
              "      <td>0.555436</td>\n",
              "      <td>0.561574</td>\n",
              "      <td>0.148968</td>\n",
              "      <td>0.022191</td>\n",
              "      <td>-0.156231</td>\n",
              "      <td>1.414820</td>\n",
              "    </tr>\n",
              "    <tr>\n",
              "      <th>...</th>\n",
              "      <td>...</td>\n",
              "      <td>...</td>\n",
              "      <td>...</td>\n",
              "      <td>...</td>\n",
              "      <td>...</td>\n",
              "      <td>...</td>\n",
              "      <td>...</td>\n",
              "      <td>...</td>\n",
              "      <td>...</td>\n",
              "      <td>...</td>\n",
              "      <td>...</td>\n",
              "      <td>...</td>\n",
              "    </tr>\n",
              "    <tr>\n",
              "      <th>100</th>\n",
              "      <td>0.394100</td>\n",
              "      <td>0.385903</td>\n",
              "      <td>0.132414</td>\n",
              "      <td>0.017534</td>\n",
              "      <td>0.582383</td>\n",
              "      <td>1.942821</td>\n",
              "      <td>0.426588</td>\n",
              "      <td>0.419286</td>\n",
              "      <td>0.116018</td>\n",
              "      <td>0.013460</td>\n",
              "      <td>0.446691</td>\n",
              "      <td>2.379165</td>\n",
              "    </tr>\n",
              "    <tr>\n",
              "      <th>101</th>\n",
              "      <td>0.437926</td>\n",
              "      <td>0.430825</td>\n",
              "      <td>0.127339</td>\n",
              "      <td>0.016215</td>\n",
              "      <td>0.479884</td>\n",
              "      <td>3.274700</td>\n",
              "      <td>0.444411</td>\n",
              "      <td>0.452348</td>\n",
              "      <td>0.126760</td>\n",
              "      <td>0.016068</td>\n",
              "      <td>0.327382</td>\n",
              "      <td>3.613294</td>\n",
              "    </tr>\n",
              "    <tr>\n",
              "      <th>102</th>\n",
              "      <td>0.345843</td>\n",
              "      <td>0.332378</td>\n",
              "      <td>0.115116</td>\n",
              "      <td>0.013252</td>\n",
              "      <td>1.653328</td>\n",
              "      <td>6.466284</td>\n",
              "      <td>0.403117</td>\n",
              "      <td>0.404505</td>\n",
              "      <td>0.114159</td>\n",
              "      <td>0.013032</td>\n",
              "      <td>0.996624</td>\n",
              "      <td>6.575470</td>\n",
              "    </tr>\n",
              "    <tr>\n",
              "      <th>103</th>\n",
              "      <td>0.514950</td>\n",
              "      <td>0.522097</td>\n",
              "      <td>0.098893</td>\n",
              "      <td>0.009780</td>\n",
              "      <td>-0.152302</td>\n",
              "      <td>9.197804</td>\n",
              "      <td>0.461116</td>\n",
              "      <td>0.445006</td>\n",
              "      <td>0.129433</td>\n",
              "      <td>0.016753</td>\n",
              "      <td>0.508997</td>\n",
              "      <td>1.575390</td>\n",
              "    </tr>\n",
              "    <tr>\n",
              "      <th>104</th>\n",
              "      <td>0.537678</td>\n",
              "      <td>0.539089</td>\n",
              "      <td>0.106207</td>\n",
              "      <td>0.011280</td>\n",
              "      <td>-0.579932</td>\n",
              "      <td>6.520011</td>\n",
              "      <td>0.659409</td>\n",
              "      <td>0.655174</td>\n",
              "      <td>0.129539</td>\n",
              "      <td>0.016781</td>\n",
              "      <td>-1.179600</td>\n",
              "      <td>6.316306</td>\n",
              "    </tr>\n",
              "  </tbody>\n",
              "</table>\n",
              "<p>99 rows × 12 columns</p>\n",
              "</div>\n",
              "      <button class=\"colab-df-convert\" onclick=\"convertToInteractive('df-6cf88475-06ed-43a5-98b2-4567d236b8d0')\"\n",
              "              title=\"Convert this dataframe to an interactive table.\"\n",
              "              style=\"display:none;\">\n",
              "        \n",
              "  <svg xmlns=\"http://www.w3.org/2000/svg\" height=\"24px\"viewBox=\"0 0 24 24\"\n",
              "       width=\"24px\">\n",
              "    <path d=\"M0 0h24v24H0V0z\" fill=\"none\"/>\n",
              "    <path d=\"M18.56 5.44l.94 2.06.94-2.06 2.06-.94-2.06-.94-.94-2.06-.94 2.06-2.06.94zm-11 1L8.5 8.5l.94-2.06 2.06-.94-2.06-.94L8.5 2.5l-.94 2.06-2.06.94zm10 10l.94 2.06.94-2.06 2.06-.94-2.06-.94-.94-2.06-.94 2.06-2.06.94z\"/><path d=\"M17.41 7.96l-1.37-1.37c-.4-.4-.92-.59-1.43-.59-.52 0-1.04.2-1.43.59L10.3 9.45l-7.72 7.72c-.78.78-.78 2.05 0 2.83L4 21.41c.39.39.9.59 1.41.59.51 0 1.02-.2 1.41-.59l7.78-7.78 2.81-2.81c.8-.78.8-2.07 0-2.86zM5.41 20L4 18.59l7.72-7.72 1.47 1.35L5.41 20z\"/>\n",
              "  </svg>\n",
              "      </button>\n",
              "      \n",
              "  <style>\n",
              "    .colab-df-container {\n",
              "      display:flex;\n",
              "      flex-wrap:wrap;\n",
              "      gap: 12px;\n",
              "    }\n",
              "\n",
              "    .colab-df-convert {\n",
              "      background-color: #E8F0FE;\n",
              "      border: none;\n",
              "      border-radius: 50%;\n",
              "      cursor: pointer;\n",
              "      display: none;\n",
              "      fill: #1967D2;\n",
              "      height: 32px;\n",
              "      padding: 0 0 0 0;\n",
              "      width: 32px;\n",
              "    }\n",
              "\n",
              "    .colab-df-convert:hover {\n",
              "      background-color: #E2EBFA;\n",
              "      box-shadow: 0px 1px 2px rgba(60, 64, 67, 0.3), 0px 1px 3px 1px rgba(60, 64, 67, 0.15);\n",
              "      fill: #174EA6;\n",
              "    }\n",
              "\n",
              "    [theme=dark] .colab-df-convert {\n",
              "      background-color: #3B4455;\n",
              "      fill: #D2E3FC;\n",
              "    }\n",
              "\n",
              "    [theme=dark] .colab-df-convert:hover {\n",
              "      background-color: #434B5C;\n",
              "      box-shadow: 0px 1px 3px 1px rgba(0, 0, 0, 0.15);\n",
              "      filter: drop-shadow(0px 1px 2px rgba(0, 0, 0, 0.3));\n",
              "      fill: #FFFFFF;\n",
              "    }\n",
              "  </style>\n",
              "\n",
              "      <script>\n",
              "        const buttonEl =\n",
              "          document.querySelector('#df-6cf88475-06ed-43a5-98b2-4567d236b8d0 button.colab-df-convert');\n",
              "        buttonEl.style.display =\n",
              "          google.colab.kernel.accessAllowed ? 'block' : 'none';\n",
              "\n",
              "        async function convertToInteractive(key) {\n",
              "          const element = document.querySelector('#df-6cf88475-06ed-43a5-98b2-4567d236b8d0');\n",
              "          const dataTable =\n",
              "            await google.colab.kernel.invokeFunction('convertToInteractive',\n",
              "                                                     [key], {});\n",
              "          if (!dataTable) return;\n",
              "\n",
              "          const docLinkHtml = 'Like what you see? Visit the ' +\n",
              "            '<a target=\"_blank\" href=https://colab.research.google.com/notebooks/data_table.ipynb>data table notebook</a>'\n",
              "            + ' to learn more about interactive tables.';\n",
              "          element.innerHTML = '';\n",
              "          dataTable['output_type'] = 'display_data';\n",
              "          await google.colab.output.renderOutput(dataTable, element);\n",
              "          const docLink = document.createElement('div');\n",
              "          docLink.innerHTML = docLinkHtml;\n",
              "          element.appendChild(docLink);\n",
              "        }\n",
              "      </script>\n",
              "    </div>\n",
              "  </div>\n",
              "  "
            ],
            "text/plain": [
              "     mean_lead1  median_lead1  std_lead1  ...  var_lead2  skew_lead2  kurt_lead2\n",
              "0      0.476086      0.474618   0.128357  ...   0.014319   -1.328497    6.504245\n",
              "1      0.309628      0.315643   0.118704  ...   0.020841   -1.038713    3.939288\n",
              "2      0.462381      0.466913   0.122431  ...   0.018044   -0.788964    3.169306\n",
              "3      0.399816      0.366260   0.149092  ...   0.026300   -1.171663    1.827310\n",
              "4      0.478230      0.488412   0.131123  ...   0.022191   -0.156231    1.414820\n",
              "..          ...           ...        ...  ...        ...         ...         ...\n",
              "100    0.394100      0.385903   0.132414  ...   0.013460    0.446691    2.379165\n",
              "101    0.437926      0.430825   0.127339  ...   0.016068    0.327382    3.613294\n",
              "102    0.345843      0.332378   0.115116  ...   0.013032    0.996624    6.575470\n",
              "103    0.514950      0.522097   0.098893  ...   0.016753    0.508997    1.575390\n",
              "104    0.537678      0.539089   0.106207  ...   0.016781   -1.179600    6.316306\n",
              "\n",
              "[99 rows x 12 columns]"
            ]
          },
          "metadata": {}
        }
      ]
    },
    {
      "cell_type": "code",
      "source": [
        "#Discard outliers\n",
        "filtered_df = filtered_df.loc[features_or.index]\n",
        "filtered_df"
      ],
      "metadata": {
        "colab": {
          "base_uri": "https://localhost:8080/",
          "height": 640
        },
        "id": "VNtC5w6AS4vl",
        "outputId": "63f188af-59d3-4c4b-af6e-93d9f99dbb9d"
      },
      "id": "VNtC5w6AS4vl",
      "execution_count": 15,
      "outputs": [
        {
          "output_type": "execute_result",
          "data": {
            "text/html": [
              "\n",
              "  <div id=\"df-a47eba8c-2cd0-46d9-8724-e4217c8e162d\">\n",
              "    <div class=\"colab-df-container\">\n",
              "      <div>\n",
              "<style scoped>\n",
              "    .dataframe tbody tr th:only-of-type {\n",
              "        vertical-align: middle;\n",
              "    }\n",
              "\n",
              "    .dataframe tbody tr th {\n",
              "        vertical-align: top;\n",
              "    }\n",
              "\n",
              "    .dataframe thead th {\n",
              "        text-align: right;\n",
              "    }\n",
              "</style>\n",
              "<table border=\"1\" class=\"dataframe\">\n",
              "  <thead>\n",
              "    <tr style=\"text-align: right;\">\n",
              "      <th></th>\n",
              "      <th>sigId</th>\n",
              "      <th>ecg_lead_1</th>\n",
              "      <th>ecg_lead_2</th>\n",
              "      <th>peaks</th>\n",
              "      <th>frequencies</th>\n",
              "      <th>labels</th>\n",
              "    </tr>\n",
              "  </thead>\n",
              "  <tbody>\n",
              "    <tr>\n",
              "      <th>0</th>\n",
              "      <td>S001</td>\n",
              "      <td>[0.4276998551489322, 0.4297968302978747, 0.436...</td>\n",
              "      <td>[0.532310106303565, 0.5490810754251085, 0.5625...</td>\n",
              "      <td>[29, 110, 191, 272, 353, 433, 514, 595, 676, 7...</td>\n",
              "      <td>128</td>\n",
              "      <td>[N, N, N, N, N, N, N, N, N, N, N, N, N, N, N, ...</td>\n",
              "    </tr>\n",
              "    <tr>\n",
              "      <th>1</th>\n",
              "      <td>S002</td>\n",
              "      <td>[0.30247707914113764, 0.2863248193262056, 0.27...</td>\n",
              "      <td>[0.6568260643541631, 0.6071142459863523, 0.565...</td>\n",
              "      <td>[48, 153, 243, 352, 440, 547, 636, 742, 831, 9...</td>\n",
              "      <td>128</td>\n",
              "      <td>[N, N, N, N, S, N, S, N, S, N, S, N, S, N, S, ...</td>\n",
              "    </tr>\n",
              "    <tr>\n",
              "      <th>2</th>\n",
              "      <td>S003</td>\n",
              "      <td>[0.3512323646878618, 0.26321594364695433, 0.19...</td>\n",
              "      <td>[0.5773604271206335, 0.6526769458531666, 0.730...</td>\n",
              "      <td>[91, 209, 326, 394, 537, 653, 745, 872, 984, 1...</td>\n",
              "      <td>128</td>\n",
              "      <td>[N, N, N, S, N, N, S, N, N, S, N, N, N, N, N, ...</td>\n",
              "    </tr>\n",
              "    <tr>\n",
              "      <th>3</th>\n",
              "      <td>S004</td>\n",
              "      <td>[0.37546339057539513, 0.30484557586177713, 0.2...</td>\n",
              "      <td>[0.6897625095147278, 0.8119427029099721, 0.919...</td>\n",
              "      <td>[98, 223, 349, 474, 599, 726, 853, 980, 1116, ...</td>\n",
              "      <td>128</td>\n",
              "      <td>[N, N, N, N, N, N, N, N, N, N, N, N, N, N, N, ...</td>\n",
              "    </tr>\n",
              "    <tr>\n",
              "      <th>4</th>\n",
              "      <td>S005</td>\n",
              "      <td>[0.44854563084679466, 0.4171212169476861, 0.40...</td>\n",
              "      <td>[0.5060156800184847, 0.49873767797029817, 0.49...</td>\n",
              "      <td>[27, 127, 225, 324, 423, 523, 623, 722, 822, 9...</td>\n",
              "      <td>128</td>\n",
              "      <td>[N, N, N, N, N, N, N, N, N, N, N, N, N, N, N, ...</td>\n",
              "    </tr>\n",
              "    <tr>\n",
              "      <th>...</th>\n",
              "      <td>...</td>\n",
              "      <td>...</td>\n",
              "      <td>...</td>\n",
              "      <td>...</td>\n",
              "      <td>...</td>\n",
              "      <td>...</td>\n",
              "    </tr>\n",
              "    <tr>\n",
              "      <th>100</th>\n",
              "      <td>S114</td>\n",
              "      <td>[0.3867161984104746, 0.2355553526715274, 0.137...</td>\n",
              "      <td>[0.39987440384672607, 0.24801773930726578, 0.0...</td>\n",
              "      <td>[79, 196, 312, 427, 539, 652, 766, 880, 992, 1...</td>\n",
              "      <td>250</td>\n",
              "      <td>[N, N, N, N, N, N, N, N, N, N, N, N, N, N, N, ...</td>\n",
              "    </tr>\n",
              "    <tr>\n",
              "      <th>101</th>\n",
              "      <td>S115</td>\n",
              "      <td>[0.5401708356443994, 0.5892531949519814, 0.628...</td>\n",
              "      <td>[0.482446921258743, 0.5604840979852065, 0.6144...</td>\n",
              "      <td>[110, 223, 341, 421, 572, 690, 813, 889, 1041,...</td>\n",
              "      <td>250</td>\n",
              "      <td>[N, N, N, V, N, N, N, V, N, N, N, N, N, N, N, ...</td>\n",
              "    </tr>\n",
              "    <tr>\n",
              "      <th>102</th>\n",
              "      <td>S116</td>\n",
              "      <td>[0.2932188167995345, 0.24850999229693066, 0.21...</td>\n",
              "      <td>[0.40266123819723953, 0.3845442598460282, 0.36...</td>\n",
              "      <td>[130, 273, 418, 559, 705, 848, 990, 1134, 1276...</td>\n",
              "      <td>250</td>\n",
              "      <td>[N, N, N, N, N, N, N, N, N, N, N, N, N, N, N, ...</td>\n",
              "    </tr>\n",
              "    <tr>\n",
              "      <th>103</th>\n",
              "      <td>S117</td>\n",
              "      <td>[0.5088599856075186, 0.510716973774107, 0.4964...</td>\n",
              "      <td>[0.4747395255742389, 0.6609601221105585, 0.677...</td>\n",
              "      <td>[9, 151, 294, 441, 589, 734, 873, 1021, 1160, ...</td>\n",
              "      <td>250</td>\n",
              "      <td>[N, N, N, N, N, N, N, N, N, N, N, N, N, N, N, ...</td>\n",
              "    </tr>\n",
              "    <tr>\n",
              "      <th>104</th>\n",
              "      <td>S118</td>\n",
              "      <td>[0.5172109024314657, 0.5738509575206392, 0.654...</td>\n",
              "      <td>[0.6786699453483106, 0.7359087742666479, 0.782...</td>\n",
              "      <td>[52, 137, 221, 307, 388, 470, 555, 636, 719, 8...</td>\n",
              "      <td>250</td>\n",
              "      <td>[N, N, N, N, N, N, N, N, N, N, N, N, N, N, N, ...</td>\n",
              "    </tr>\n",
              "  </tbody>\n",
              "</table>\n",
              "<p>99 rows × 6 columns</p>\n",
              "</div>\n",
              "      <button class=\"colab-df-convert\" onclick=\"convertToInteractive('df-a47eba8c-2cd0-46d9-8724-e4217c8e162d')\"\n",
              "              title=\"Convert this dataframe to an interactive table.\"\n",
              "              style=\"display:none;\">\n",
              "        \n",
              "  <svg xmlns=\"http://www.w3.org/2000/svg\" height=\"24px\"viewBox=\"0 0 24 24\"\n",
              "       width=\"24px\">\n",
              "    <path d=\"M0 0h24v24H0V0z\" fill=\"none\"/>\n",
              "    <path d=\"M18.56 5.44l.94 2.06.94-2.06 2.06-.94-2.06-.94-.94-2.06-.94 2.06-2.06.94zm-11 1L8.5 8.5l.94-2.06 2.06-.94-2.06-.94L8.5 2.5l-.94 2.06-2.06.94zm10 10l.94 2.06.94-2.06 2.06-.94-2.06-.94-.94-2.06-.94 2.06-2.06.94z\"/><path d=\"M17.41 7.96l-1.37-1.37c-.4-.4-.92-.59-1.43-.59-.52 0-1.04.2-1.43.59L10.3 9.45l-7.72 7.72c-.78.78-.78 2.05 0 2.83L4 21.41c.39.39.9.59 1.41.59.51 0 1.02-.2 1.41-.59l7.78-7.78 2.81-2.81c.8-.78.8-2.07 0-2.86zM5.41 20L4 18.59l7.72-7.72 1.47 1.35L5.41 20z\"/>\n",
              "  </svg>\n",
              "      </button>\n",
              "      \n",
              "  <style>\n",
              "    .colab-df-container {\n",
              "      display:flex;\n",
              "      flex-wrap:wrap;\n",
              "      gap: 12px;\n",
              "    }\n",
              "\n",
              "    .colab-df-convert {\n",
              "      background-color: #E8F0FE;\n",
              "      border: none;\n",
              "      border-radius: 50%;\n",
              "      cursor: pointer;\n",
              "      display: none;\n",
              "      fill: #1967D2;\n",
              "      height: 32px;\n",
              "      padding: 0 0 0 0;\n",
              "      width: 32px;\n",
              "    }\n",
              "\n",
              "    .colab-df-convert:hover {\n",
              "      background-color: #E2EBFA;\n",
              "      box-shadow: 0px 1px 2px rgba(60, 64, 67, 0.3), 0px 1px 3px 1px rgba(60, 64, 67, 0.15);\n",
              "      fill: #174EA6;\n",
              "    }\n",
              "\n",
              "    [theme=dark] .colab-df-convert {\n",
              "      background-color: #3B4455;\n",
              "      fill: #D2E3FC;\n",
              "    }\n",
              "\n",
              "    [theme=dark] .colab-df-convert:hover {\n",
              "      background-color: #434B5C;\n",
              "      box-shadow: 0px 1px 3px 1px rgba(0, 0, 0, 0.15);\n",
              "      filter: drop-shadow(0px 1px 2px rgba(0, 0, 0, 0.3));\n",
              "      fill: #FFFFFF;\n",
              "    }\n",
              "  </style>\n",
              "\n",
              "      <script>\n",
              "        const buttonEl =\n",
              "          document.querySelector('#df-a47eba8c-2cd0-46d9-8724-e4217c8e162d button.colab-df-convert');\n",
              "        buttonEl.style.display =\n",
              "          google.colab.kernel.accessAllowed ? 'block' : 'none';\n",
              "\n",
              "        async function convertToInteractive(key) {\n",
              "          const element = document.querySelector('#df-a47eba8c-2cd0-46d9-8724-e4217c8e162d');\n",
              "          const dataTable =\n",
              "            await google.colab.kernel.invokeFunction('convertToInteractive',\n",
              "                                                     [key], {});\n",
              "          if (!dataTable) return;\n",
              "\n",
              "          const docLinkHtml = 'Like what you see? Visit the ' +\n",
              "            '<a target=\"_blank\" href=https://colab.research.google.com/notebooks/data_table.ipynb>data table notebook</a>'\n",
              "            + ' to learn more about interactive tables.';\n",
              "          element.innerHTML = '';\n",
              "          dataTable['output_type'] = 'display_data';\n",
              "          await google.colab.output.renderOutput(dataTable, element);\n",
              "          const docLink = document.createElement('div');\n",
              "          docLink.innerHTML = docLinkHtml;\n",
              "          element.appendChild(docLink);\n",
              "        }\n",
              "      </script>\n",
              "    </div>\n",
              "  </div>\n",
              "  "
            ],
            "text/plain": [
              "    sigId  ...                                             labels\n",
              "0    S001  ...  [N, N, N, N, N, N, N, N, N, N, N, N, N, N, N, ...\n",
              "1    S002  ...  [N, N, N, N, S, N, S, N, S, N, S, N, S, N, S, ...\n",
              "2    S003  ...  [N, N, N, S, N, N, S, N, N, S, N, N, N, N, N, ...\n",
              "3    S004  ...  [N, N, N, N, N, N, N, N, N, N, N, N, N, N, N, ...\n",
              "4    S005  ...  [N, N, N, N, N, N, N, N, N, N, N, N, N, N, N, ...\n",
              "..    ...  ...                                                ...\n",
              "100  S114  ...  [N, N, N, N, N, N, N, N, N, N, N, N, N, N, N, ...\n",
              "101  S115  ...  [N, N, N, V, N, N, N, V, N, N, N, N, N, N, N, ...\n",
              "102  S116  ...  [N, N, N, N, N, N, N, N, N, N, N, N, N, N, N, ...\n",
              "103  S117  ...  [N, N, N, N, N, N, N, N, N, N, N, N, N, N, N, ...\n",
              "104  S118  ...  [N, N, N, N, N, N, N, N, N, N, N, N, N, N, N, ...\n",
              "\n",
              "[99 rows x 6 columns]"
            ]
          },
          "metadata": {},
          "execution_count": 15
        }
      ]
    },
    {
      "cell_type": "markdown",
      "metadata": {
        "id": "UkdEyLT2lkV0"
      },
      "source": [
        "<h2> RR distances analysis"
      ],
      "id": "UkdEyLT2lkV0"
    },
    {
      "cell_type": "code",
      "source": [
        "signal_ids = filtered_df.index.tolist()\n",
        "RR_dict = {}\n",
        "\n",
        "for id_ in tqdm(signal_ids):  \n",
        "  sig_Id = df.iloc[id_]['sigId']\n",
        "  RR_dict[sig_Id] = {}\n",
        "  RR_dict[sig_Id]['RR_distances'] = list()\n",
        "  RR_dict[sig_Id]['S_distances'] = list()\n",
        "  \n",
        "  peaks = df.iloc[id_]['peaks']\n",
        "  labels = df.iloc[id_]['labels']\n",
        "\n",
        "  for i,p in enumerate(peaks[1:-1]):\n",
        "    RR_distance = p-peaks[i]\n",
        "    if(RR_distance < 250): # discard outliers\n",
        "      RR_dict[sig_Id]['RR_distances'].append(RR_distance)\n",
        "      if(labels[i+1] == 'S'):\n",
        "        RR_dict[sig_Id]['S_distances'].append(RR_distance)\n",
        "\n",
        "  RR_dict[sig_Id]['RR_distances'] = np.asarray(RR_dict[sig_Id]['RR_distances'])\n",
        "  RR_dict[sig_Id]['S_distances'] = np.asarray(RR_dict[sig_Id]['S_distances'])\n",
        "\n",
        "  RR_dict[sig_Id]['Avg_RR_distance'] = RR_dict[sig_Id]['RR_distances'].mean()\n",
        "  RR_dict[sig_Id]['AVG_S_distance'] = RR_dict[sig_Id]['S_distances'].mean()\n",
        "\n",
        "\n",
        "RR_df = pd.DataFrame.from_dict(RR_dict,orient=\"index\")\n",
        "RR_df.tail()"
      ],
      "metadata": {
        "colab": {
          "base_uri": "https://localhost:8080/",
          "height": 244
        },
        "id": "NS4Hui7wOrZT",
        "outputId": "053d466c-5355-4945-8e9a-55bb56373a38"
      },
      "id": "NS4Hui7wOrZT",
      "execution_count": 16,
      "outputs": [
        {
          "output_type": "stream",
          "name": "stderr",
          "text": [
            "  0%|          | 0/99 [00:00<?, ?it/s]/usr/local/lib/python3.7/dist-packages/ipykernel_launcher.py:24: RuntimeWarning: Mean of empty slice.\n",
            "100%|██████████| 99/99 [00:00<00:00, 216.96it/s]\n"
          ]
        },
        {
          "output_type": "execute_result",
          "data": {
            "text/html": [
              "\n",
              "  <div id=\"df-015cb6fb-2bf0-42c0-b8fe-8817d482c3bb\">\n",
              "    <div class=\"colab-df-container\">\n",
              "      <div>\n",
              "<style scoped>\n",
              "    .dataframe tbody tr th:only-of-type {\n",
              "        vertical-align: middle;\n",
              "    }\n",
              "\n",
              "    .dataframe tbody tr th {\n",
              "        vertical-align: top;\n",
              "    }\n",
              "\n",
              "    .dataframe thead th {\n",
              "        text-align: right;\n",
              "    }\n",
              "</style>\n",
              "<table border=\"1\" class=\"dataframe\">\n",
              "  <thead>\n",
              "    <tr style=\"text-align: right;\">\n",
              "      <th></th>\n",
              "      <th>RR_distances</th>\n",
              "      <th>S_distances</th>\n",
              "      <th>Avg_RR_distance</th>\n",
              "      <th>AVG_S_distance</th>\n",
              "    </tr>\n",
              "  </thead>\n",
              "  <tbody>\n",
              "    <tr>\n",
              "      <th>S114</th>\n",
              "      <td>[117, 116, 115, 112, 113, 114, 114, 112, 116, ...</td>\n",
              "      <td>[]</td>\n",
              "      <td>114.914745</td>\n",
              "      <td>NaN</td>\n",
              "    </tr>\n",
              "    <tr>\n",
              "      <th>S115</th>\n",
              "      <td>[113, 118, 80, 151, 118, 123, 76, 152, 119, 11...</td>\n",
              "      <td>[73]</td>\n",
              "      <td>89.041006</td>\n",
              "      <td>73.000000</td>\n",
              "    </tr>\n",
              "    <tr>\n",
              "      <th>S116</th>\n",
              "      <td>[143, 145, 141, 146, 143, 142, 144, 142, 143, ...</td>\n",
              "      <td>[75]</td>\n",
              "      <td>122.611082</td>\n",
              "      <td>75.000000</td>\n",
              "    </tr>\n",
              "    <tr>\n",
              "      <th>S117</th>\n",
              "      <td>[142, 143, 147, 148, 145, 139, 148, 139, 140, ...</td>\n",
              "      <td>[119, 99, 92, 100, 99, 92, 91, 92, 89, 87, 82,...</td>\n",
              "      <td>106.363048</td>\n",
              "      <td>83.558719</td>\n",
              "    </tr>\n",
              "    <tr>\n",
              "      <th>S118</th>\n",
              "      <td>[85, 84, 86, 81, 82, 85, 81, 83, 83, 82, 84, 8...</td>\n",
              "      <td>[]</td>\n",
              "      <td>93.967755</td>\n",
              "      <td>NaN</td>\n",
              "    </tr>\n",
              "  </tbody>\n",
              "</table>\n",
              "</div>\n",
              "      <button class=\"colab-df-convert\" onclick=\"convertToInteractive('df-015cb6fb-2bf0-42c0-b8fe-8817d482c3bb')\"\n",
              "              title=\"Convert this dataframe to an interactive table.\"\n",
              "              style=\"display:none;\">\n",
              "        \n",
              "  <svg xmlns=\"http://www.w3.org/2000/svg\" height=\"24px\"viewBox=\"0 0 24 24\"\n",
              "       width=\"24px\">\n",
              "    <path d=\"M0 0h24v24H0V0z\" fill=\"none\"/>\n",
              "    <path d=\"M18.56 5.44l.94 2.06.94-2.06 2.06-.94-2.06-.94-.94-2.06-.94 2.06-2.06.94zm-11 1L8.5 8.5l.94-2.06 2.06-.94-2.06-.94L8.5 2.5l-.94 2.06-2.06.94zm10 10l.94 2.06.94-2.06 2.06-.94-2.06-.94-.94-2.06-.94 2.06-2.06.94z\"/><path d=\"M17.41 7.96l-1.37-1.37c-.4-.4-.92-.59-1.43-.59-.52 0-1.04.2-1.43.59L10.3 9.45l-7.72 7.72c-.78.78-.78 2.05 0 2.83L4 21.41c.39.39.9.59 1.41.59.51 0 1.02-.2 1.41-.59l7.78-7.78 2.81-2.81c.8-.78.8-2.07 0-2.86zM5.41 20L4 18.59l7.72-7.72 1.47 1.35L5.41 20z\"/>\n",
              "  </svg>\n",
              "      </button>\n",
              "      \n",
              "  <style>\n",
              "    .colab-df-container {\n",
              "      display:flex;\n",
              "      flex-wrap:wrap;\n",
              "      gap: 12px;\n",
              "    }\n",
              "\n",
              "    .colab-df-convert {\n",
              "      background-color: #E8F0FE;\n",
              "      border: none;\n",
              "      border-radius: 50%;\n",
              "      cursor: pointer;\n",
              "      display: none;\n",
              "      fill: #1967D2;\n",
              "      height: 32px;\n",
              "      padding: 0 0 0 0;\n",
              "      width: 32px;\n",
              "    }\n",
              "\n",
              "    .colab-df-convert:hover {\n",
              "      background-color: #E2EBFA;\n",
              "      box-shadow: 0px 1px 2px rgba(60, 64, 67, 0.3), 0px 1px 3px 1px rgba(60, 64, 67, 0.15);\n",
              "      fill: #174EA6;\n",
              "    }\n",
              "\n",
              "    [theme=dark] .colab-df-convert {\n",
              "      background-color: #3B4455;\n",
              "      fill: #D2E3FC;\n",
              "    }\n",
              "\n",
              "    [theme=dark] .colab-df-convert:hover {\n",
              "      background-color: #434B5C;\n",
              "      box-shadow: 0px 1px 3px 1px rgba(0, 0, 0, 0.15);\n",
              "      filter: drop-shadow(0px 1px 2px rgba(0, 0, 0, 0.3));\n",
              "      fill: #FFFFFF;\n",
              "    }\n",
              "  </style>\n",
              "\n",
              "      <script>\n",
              "        const buttonEl =\n",
              "          document.querySelector('#df-015cb6fb-2bf0-42c0-b8fe-8817d482c3bb button.colab-df-convert');\n",
              "        buttonEl.style.display =\n",
              "          google.colab.kernel.accessAllowed ? 'block' : 'none';\n",
              "\n",
              "        async function convertToInteractive(key) {\n",
              "          const element = document.querySelector('#df-015cb6fb-2bf0-42c0-b8fe-8817d482c3bb');\n",
              "          const dataTable =\n",
              "            await google.colab.kernel.invokeFunction('convertToInteractive',\n",
              "                                                     [key], {});\n",
              "          if (!dataTable) return;\n",
              "\n",
              "          const docLinkHtml = 'Like what you see? Visit the ' +\n",
              "            '<a target=\"_blank\" href=https://colab.research.google.com/notebooks/data_table.ipynb>data table notebook</a>'\n",
              "            + ' to learn more about interactive tables.';\n",
              "          element.innerHTML = '';\n",
              "          dataTable['output_type'] = 'display_data';\n",
              "          await google.colab.output.renderOutput(dataTable, element);\n",
              "          const docLink = document.createElement('div');\n",
              "          docLink.innerHTML = docLinkHtml;\n",
              "          element.appendChild(docLink);\n",
              "        }\n",
              "      </script>\n",
              "    </div>\n",
              "  </div>\n",
              "  "
            ],
            "text/plain": [
              "                                           RR_distances  ... AVG_S_distance\n",
              "S114  [117, 116, 115, 112, 113, 114, 114, 112, 116, ...  ...            NaN\n",
              "S115  [113, 118, 80, 151, 118, 123, 76, 152, 119, 11...  ...      73.000000\n",
              "S116  [143, 145, 141, 146, 143, 142, 144, 142, 143, ...  ...      75.000000\n",
              "S117  [142, 143, 147, 148, 145, 139, 148, 139, 140, ...  ...      83.558719\n",
              "S118  [85, 84, 86, 81, 82, 85, 81, 83, 83, 82, 84, 8...  ...            NaN\n",
              "\n",
              "[5 rows x 4 columns]"
            ]
          },
          "metadata": {},
          "execution_count": 16
        }
      ]
    },
    {
      "cell_type": "code",
      "source": [
        "import heartpy as hp \n",
        "\n",
        "classes = np.array([\"N\",\"S\",\"V\"])\n",
        "\n",
        "patch_length = 350 \n",
        "\n",
        "def convert_to_one_hot(label):\n",
        "    return np.array(classes == label,dtype=np.float32)\n",
        "\n",
        "def create_patch_dataset(df):\n",
        "    \n",
        "    dataset_dict = {}\n",
        "    ids = df['sigId']\n",
        "   \n",
        "    for id in tqdm(ids):\n",
        "        row = df[df['sigId'] == id]\n",
        "        sigId = row['sigId'].values[0]\n",
        "        peaks = row['peaks'].values[0]\n",
        "        first_lead_signal = row['ecg_lead_1'].values[0]\n",
        "        second_lead_signal = row['ecg_lead_2'].values[0]\n",
        "        labels = row['labels'].values[0]\n",
        "        avg_RR = RR_df.loc[sigId]['Avg_RR_distance'] # T for the signal \n",
        "\n",
        "        for i,peak in enumerate(peaks):\n",
        "            \n",
        "            stringIdx = str(sigId)+'_'+str(i)    \n",
        "            dataset_dict[stringIdx] = {}\n",
        "            dataset_dict[stringIdx][\"first_lead\"] = list()\n",
        "            dataset_dict[stringIdx][\"second_lead\"] = list()\n",
        "            size = list(range(int(peak-(avg_RR)),int(peak+avg_RR)))\n",
        "\n",
        "            for s in size:\n",
        "                if(s < 0 or s >= len(first_lead_signal)):\n",
        "                    dataset_dict[stringIdx][\"first_lead\"].append(0.5)\n",
        "                    dataset_dict[stringIdx][\"second_lead\"].append(0.5)\n",
        "                else:\n",
        "                    dataset_dict[stringIdx][\"first_lead\"].append(first_lead_signal[s])\n",
        "                    dataset_dict[stringIdx][\"second_lead\"].append(second_lead_signal[s])\n",
        "            \n",
        "            first_lead = dataset_dict[stringIdx][\"first_lead\"][:]\n",
        "            second_lead = dataset_dict[stringIdx][\"second_lead\"][:]\n",
        "            \n",
        "            first_lead = resample(first_lead,patch_length)\n",
        "            second_lead = resample(second_lead,patch_length)\n",
        "            \n",
        "            dataset_dict[stringIdx][\"first_lead\"] = first_lead[:]\n",
        "            dataset_dict[stringIdx][\"second_lead\"] = second_lead[:]\n",
        "            \n",
        "            #dataset_dict[stringIdx][\"dwt_1\"] = pywt.dwt(first_lead,'db4','constant')\n",
        "            #dataset_dict[stringIdx][\"dwt_2\"] = pywt.dwt(second_lead,'db4','constant')\n",
        "\n",
        "            #dataset_dict[stringIdx][\"dwt_1\"] = pywt.wavedec(first_lead, 'db3', level=2)\n",
        "            #dataset_dict[stringIdx][\"dwt_2\"] = pywt.wavedec(second_lead, 'db3', level=2)\n",
        "            \n",
        "            dataset_dict[stringIdx][\"stringLabel\"] = labels[i]\n",
        "            dataset_dict[stringIdx][\"label\"] = convert_to_one_hot(labels[i])\n",
        "\n",
        "    dataset_df = pd.DataFrame.from_dict(dataset_dict,orient=\"index\")\n",
        "    return dataset_df"
      ],
      "metadata": {
        "id": "cdZlQwFMe7IV"
      },
      "id": "cdZlQwFMe7IV",
      "execution_count": 17,
      "outputs": []
    },
    {
      "cell_type": "markdown",
      "metadata": {
        "id": "p47oXLNolkV1"
      },
      "source": [
        "<h2> Split dataset by patient & creation of patches"
      ],
      "id": "p47oXLNolkV1"
    },
    {
      "cell_type": "code",
      "source": [
        "training_df, test_df_ = train_test_split(filtered_df,test_size = 0.2,random_state=SEED)\n",
        "validation_df, test_df = train_test_split(test_df_,test_size = 0.5,random_state=SEED)\n",
        "\n",
        "training_patches_df_ = create_patch_dataset(training_df)\n",
        "validation_patches_df_ = create_patch_dataset(validation_df)\n",
        "test_patches_df = create_patch_dataset(test_df)"
      ],
      "metadata": {
        "colab": {
          "base_uri": "https://localhost:8080/"
        },
        "id": "DXU_KOOr_wNW",
        "outputId": "0121a4b8-d5b6-4a60-ec8c-1dc19e475fba"
      },
      "id": "DXU_KOOr_wNW",
      "execution_count": 18,
      "outputs": [
        {
          "output_type": "stream",
          "name": "stderr",
          "text": [
            "100%|██████████| 79/79 [00:59<00:00,  1.33it/s]\n",
            "100%|██████████| 10/10 [00:08<00:00,  1.18it/s]\n",
            "100%|██████████| 10/10 [00:07<00:00,  1.31it/s]\n"
          ]
        }
      ]
    },
    {
      "cell_type": "code",
      "source": [
        "validation_patches_df_[(validation_patches_df_['stringLabel']=='S')]"
      ],
      "metadata": {
        "id": "tkQWUJ9YmSrT",
        "colab": {
          "base_uri": "https://localhost:8080/",
          "height": 423
        },
        "outputId": "57b71812-efe1-4988-dbeb-a2b3f193af39"
      },
      "id": "tkQWUJ9YmSrT",
      "execution_count": 19,
      "outputs": [
        {
          "output_type": "execute_result",
          "data": {
            "text/html": [
              "\n",
              "  <div id=\"df-615afff3-b846-431e-80e9-e4ba19eb720f\">\n",
              "    <div class=\"colab-df-container\">\n",
              "      <div>\n",
              "<style scoped>\n",
              "    .dataframe tbody tr th:only-of-type {\n",
              "        vertical-align: middle;\n",
              "    }\n",
              "\n",
              "    .dataframe tbody tr th {\n",
              "        vertical-align: top;\n",
              "    }\n",
              "\n",
              "    .dataframe thead th {\n",
              "        text-align: right;\n",
              "    }\n",
              "</style>\n",
              "<table border=\"1\" class=\"dataframe\">\n",
              "  <thead>\n",
              "    <tr style=\"text-align: right;\">\n",
              "      <th></th>\n",
              "      <th>first_lead</th>\n",
              "      <th>second_lead</th>\n",
              "      <th>stringLabel</th>\n",
              "      <th>label</th>\n",
              "    </tr>\n",
              "  </thead>\n",
              "  <tbody>\n",
              "    <tr>\n",
              "      <th>S005_39</th>\n",
              "      <td>[0.4463474336263962, 0.4557493391500907, 0.461...</td>\n",
              "      <td>[0.4326370371108029, 0.4289402647396885, 0.449...</td>\n",
              "      <td>S</td>\n",
              "      <td>[0.0, 1.0, 0.0]</td>\n",
              "    </tr>\n",
              "    <tr>\n",
              "      <th>S005_42</th>\n",
              "      <td>[0.4692449475206276, 0.44556545258078634, 0.48...</td>\n",
              "      <td>[0.4729538900982039, 0.47205760555841686, 0.49...</td>\n",
              "      <td>S</td>\n",
              "      <td>[0.0, 1.0, 0.0]</td>\n",
              "    </tr>\n",
              "    <tr>\n",
              "      <th>S005_56</th>\n",
              "      <td>[0.4621633346927982, 0.4272114754631793, 0.500...</td>\n",
              "      <td>[0.4600667928098441, 0.4741049224285525, 0.438...</td>\n",
              "      <td>S</td>\n",
              "      <td>[0.0, 1.0, 0.0]</td>\n",
              "    </tr>\n",
              "    <tr>\n",
              "      <th>S005_119</th>\n",
              "      <td>[0.48021660373305003, 0.5181339555858254, 0.46...</td>\n",
              "      <td>[0.5158287892597505, 0.5316632671367056, 0.526...</td>\n",
              "      <td>S</td>\n",
              "      <td>[0.0, 1.0, 0.0]</td>\n",
              "    </tr>\n",
              "    <tr>\n",
              "      <th>S005_278</th>\n",
              "      <td>[0.4906965792794459, 0.4863384727437226, 0.473...</td>\n",
              "      <td>[0.5757272740965887, 0.5820692405648992, 0.578...</td>\n",
              "      <td>S</td>\n",
              "      <td>[0.0, 1.0, 0.0]</td>\n",
              "    </tr>\n",
              "    <tr>\n",
              "      <th>...</th>\n",
              "      <td>...</td>\n",
              "      <td>...</td>\n",
              "      <td>...</td>\n",
              "      <td>...</td>\n",
              "    </tr>\n",
              "    <tr>\n",
              "      <th>S064_3059</th>\n",
              "      <td>[0.3693840785186533, 0.37151584791021114, 0.37...</td>\n",
              "      <td>[0.5394217494213223, 0.543052483404949, 0.5260...</td>\n",
              "      <td>S</td>\n",
              "      <td>[0.0, 1.0, 0.0]</td>\n",
              "    </tr>\n",
              "    <tr>\n",
              "      <th>S064_3081</th>\n",
              "      <td>[0.4230572239043309, 0.4366958716495918, 0.411...</td>\n",
              "      <td>[0.4510251392245645, 0.42712265057551313, 0.44...</td>\n",
              "      <td>S</td>\n",
              "      <td>[0.0, 1.0, 0.0]</td>\n",
              "    </tr>\n",
              "    <tr>\n",
              "      <th>S064_3082</th>\n",
              "      <td>[0.44638189159873387, 0.4401345348253622, 0.42...</td>\n",
              "      <td>[0.3790647327767259, 0.342817164539148, 0.3337...</td>\n",
              "      <td>S</td>\n",
              "      <td>[0.0, 1.0, 0.0]</td>\n",
              "    </tr>\n",
              "    <tr>\n",
              "      <th>S064_3102</th>\n",
              "      <td>[0.45226238011228737, 0.44918793016293523, 0.4...</td>\n",
              "      <td>[0.4116255847162849, 0.4188745340184911, 0.458...</td>\n",
              "      <td>S</td>\n",
              "      <td>[0.0, 1.0, 0.0]</td>\n",
              "    </tr>\n",
              "    <tr>\n",
              "      <th>S064_3103</th>\n",
              "      <td>[0.4763961481950001, 0.4797152486900815, 0.479...</td>\n",
              "      <td>[0.3590849918562143, 0.34488954080847883, 0.36...</td>\n",
              "      <td>S</td>\n",
              "      <td>[0.0, 1.0, 0.0]</td>\n",
              "    </tr>\n",
              "  </tbody>\n",
              "</table>\n",
              "<p>1032 rows × 4 columns</p>\n",
              "</div>\n",
              "      <button class=\"colab-df-convert\" onclick=\"convertToInteractive('df-615afff3-b846-431e-80e9-e4ba19eb720f')\"\n",
              "              title=\"Convert this dataframe to an interactive table.\"\n",
              "              style=\"display:none;\">\n",
              "        \n",
              "  <svg xmlns=\"http://www.w3.org/2000/svg\" height=\"24px\"viewBox=\"0 0 24 24\"\n",
              "       width=\"24px\">\n",
              "    <path d=\"M0 0h24v24H0V0z\" fill=\"none\"/>\n",
              "    <path d=\"M18.56 5.44l.94 2.06.94-2.06 2.06-.94-2.06-.94-.94-2.06-.94 2.06-2.06.94zm-11 1L8.5 8.5l.94-2.06 2.06-.94-2.06-.94L8.5 2.5l-.94 2.06-2.06.94zm10 10l.94 2.06.94-2.06 2.06-.94-2.06-.94-.94-2.06-.94 2.06-2.06.94z\"/><path d=\"M17.41 7.96l-1.37-1.37c-.4-.4-.92-.59-1.43-.59-.52 0-1.04.2-1.43.59L10.3 9.45l-7.72 7.72c-.78.78-.78 2.05 0 2.83L4 21.41c.39.39.9.59 1.41.59.51 0 1.02-.2 1.41-.59l7.78-7.78 2.81-2.81c.8-.78.8-2.07 0-2.86zM5.41 20L4 18.59l7.72-7.72 1.47 1.35L5.41 20z\"/>\n",
              "  </svg>\n",
              "      </button>\n",
              "      \n",
              "  <style>\n",
              "    .colab-df-container {\n",
              "      display:flex;\n",
              "      flex-wrap:wrap;\n",
              "      gap: 12px;\n",
              "    }\n",
              "\n",
              "    .colab-df-convert {\n",
              "      background-color: #E8F0FE;\n",
              "      border: none;\n",
              "      border-radius: 50%;\n",
              "      cursor: pointer;\n",
              "      display: none;\n",
              "      fill: #1967D2;\n",
              "      height: 32px;\n",
              "      padding: 0 0 0 0;\n",
              "      width: 32px;\n",
              "    }\n",
              "\n",
              "    .colab-df-convert:hover {\n",
              "      background-color: #E2EBFA;\n",
              "      box-shadow: 0px 1px 2px rgba(60, 64, 67, 0.3), 0px 1px 3px 1px rgba(60, 64, 67, 0.15);\n",
              "      fill: #174EA6;\n",
              "    }\n",
              "\n",
              "    [theme=dark] .colab-df-convert {\n",
              "      background-color: #3B4455;\n",
              "      fill: #D2E3FC;\n",
              "    }\n",
              "\n",
              "    [theme=dark] .colab-df-convert:hover {\n",
              "      background-color: #434B5C;\n",
              "      box-shadow: 0px 1px 3px 1px rgba(0, 0, 0, 0.15);\n",
              "      filter: drop-shadow(0px 1px 2px rgba(0, 0, 0, 0.3));\n",
              "      fill: #FFFFFF;\n",
              "    }\n",
              "  </style>\n",
              "\n",
              "      <script>\n",
              "        const buttonEl =\n",
              "          document.querySelector('#df-615afff3-b846-431e-80e9-e4ba19eb720f button.colab-df-convert');\n",
              "        buttonEl.style.display =\n",
              "          google.colab.kernel.accessAllowed ? 'block' : 'none';\n",
              "\n",
              "        async function convertToInteractive(key) {\n",
              "          const element = document.querySelector('#df-615afff3-b846-431e-80e9-e4ba19eb720f');\n",
              "          const dataTable =\n",
              "            await google.colab.kernel.invokeFunction('convertToInteractive',\n",
              "                                                     [key], {});\n",
              "          if (!dataTable) return;\n",
              "\n",
              "          const docLinkHtml = 'Like what you see? Visit the ' +\n",
              "            '<a target=\"_blank\" href=https://colab.research.google.com/notebooks/data_table.ipynb>data table notebook</a>'\n",
              "            + ' to learn more about interactive tables.';\n",
              "          element.innerHTML = '';\n",
              "          dataTable['output_type'] = 'display_data';\n",
              "          await google.colab.output.renderOutput(dataTable, element);\n",
              "          const docLink = document.createElement('div');\n",
              "          docLink.innerHTML = docLinkHtml;\n",
              "          element.appendChild(docLink);\n",
              "        }\n",
              "      </script>\n",
              "    </div>\n",
              "  </div>\n",
              "  "
            ],
            "text/plain": [
              "                                                  first_lead  ...            label\n",
              "S005_39    [0.4463474336263962, 0.4557493391500907, 0.461...  ...  [0.0, 1.0, 0.0]\n",
              "S005_42    [0.4692449475206276, 0.44556545258078634, 0.48...  ...  [0.0, 1.0, 0.0]\n",
              "S005_56    [0.4621633346927982, 0.4272114754631793, 0.500...  ...  [0.0, 1.0, 0.0]\n",
              "S005_119   [0.48021660373305003, 0.5181339555858254, 0.46...  ...  [0.0, 1.0, 0.0]\n",
              "S005_278   [0.4906965792794459, 0.4863384727437226, 0.473...  ...  [0.0, 1.0, 0.0]\n",
              "...                                                      ...  ...              ...\n",
              "S064_3059  [0.3693840785186533, 0.37151584791021114, 0.37...  ...  [0.0, 1.0, 0.0]\n",
              "S064_3081  [0.4230572239043309, 0.4366958716495918, 0.411...  ...  [0.0, 1.0, 0.0]\n",
              "S064_3082  [0.44638189159873387, 0.4401345348253622, 0.42...  ...  [0.0, 1.0, 0.0]\n",
              "S064_3102  [0.45226238011228737, 0.44918793016293523, 0.4...  ...  [0.0, 1.0, 0.0]\n",
              "S064_3103  [0.4763961481950001, 0.4797152486900815, 0.479...  ...  [0.0, 1.0, 0.0]\n",
              "\n",
              "[1032 rows x 4 columns]"
            ]
          },
          "metadata": {},
          "execution_count": 19
        }
      ]
    },
    {
      "cell_type": "code",
      "source": [
        "    signal = validation_patches_df_.loc[\"S064_3059\"]\n",
        "    length = len(signal['first_lead'])\n",
        "    fig,axs = plt.subplots(2)\n",
        "    fig.set_size_inches(18.5, 10.5)\n",
        "    ax1 = axs[0]\n",
        "    ax2 = axs[1]\n",
        "  \n",
        "    \n",
        "    first_lead = signal['first_lead'][:length]\n",
        "    second_lead = signal['second_lead'][:length]\n",
        "    \n",
        "    x = list(range(length))\n",
        "    \n",
        "    ax1.plot(x,first_lead)\n",
        "    ax2.plot(x,second_lead)\n",
        "    \n",
        "    plt.show()"
      ],
      "metadata": {
        "colab": {
          "base_uri": "https://localhost:8080/",
          "height": 619
        },
        "id": "tlZvxtbv8ePE",
        "outputId": "3047ac9b-bb85-4a4b-a519-4fdb60ca47ca"
      },
      "id": "tlZvxtbv8ePE",
      "execution_count": 20,
      "outputs": [
        {
          "output_type": "display_data",
          "data": {
            "image/png": "[encoded data removed]",
            "text/plain": [
              "<Figure size 1332x756 with 2 Axes>"
            ]
          },
          "metadata": {
            "needs_background": "light"
          }
        }
      ]
    },
    {
      "cell_type": "code",
      "source": [
        "validation_patches_df_[(validation_patches_df_['stringLabel']=='V')]"
      ],
      "metadata": {
        "id": "P2OtuXiuD6ie",
        "colab": {
          "base_uri": "https://localhost:8080/",
          "height": 423
        },
        "outputId": "25df6342-df4b-4988-e26d-2ec31c90f5f4"
      },
      "id": "P2OtuXiuD6ie",
      "execution_count": 21,
      "outputs": [
        {
          "output_type": "execute_result",
          "data": {
            "text/html": [
              "\n",
              "  <div id=\"df-de7553b3-edf7-42f4-82b6-34d0c87e3b44\">\n",
              "    <div class=\"colab-df-container\">\n",
              "      <div>\n",
              "<style scoped>\n",
              "    .dataframe tbody tr th:only-of-type {\n",
              "        vertical-align: middle;\n",
              "    }\n",
              "\n",
              "    .dataframe tbody tr th {\n",
              "        vertical-align: top;\n",
              "    }\n",
              "\n",
              "    .dataframe thead th {\n",
              "        text-align: right;\n",
              "    }\n",
              "</style>\n",
              "<table border=\"1\" class=\"dataframe\">\n",
              "  <thead>\n",
              "    <tr style=\"text-align: right;\">\n",
              "      <th></th>\n",
              "      <th>first_lead</th>\n",
              "      <th>second_lead</th>\n",
              "      <th>stringLabel</th>\n",
              "      <th>label</th>\n",
              "    </tr>\n",
              "  </thead>\n",
              "  <tbody>\n",
              "    <tr>\n",
              "      <th>S028_22</th>\n",
              "      <td>[0.5067651556531894, 0.5138383442651376, 0.522...</td>\n",
              "      <td>[0.40793282010527804, 0.41054385921702913, 0.4...</td>\n",
              "      <td>V</td>\n",
              "      <td>[0.0, 0.0, 1.0]</td>\n",
              "    </tr>\n",
              "    <tr>\n",
              "      <th>S028_117</th>\n",
              "      <td>[0.5442432844786468, 0.550514148720906, 0.5761...</td>\n",
              "      <td>[0.4253274360313075, 0.42934110996140745, 0.42...</td>\n",
              "      <td>V</td>\n",
              "      <td>[0.0, 0.0, 1.0]</td>\n",
              "    </tr>\n",
              "    <tr>\n",
              "      <th>S028_267</th>\n",
              "      <td>[0.6271705672202565, 0.6327518889381447, 0.625...</td>\n",
              "      <td>[0.6596580631343364, 0.6580953250805055, 0.658...</td>\n",
              "      <td>V</td>\n",
              "      <td>[0.0, 0.0, 1.0]</td>\n",
              "    </tr>\n",
              "    <tr>\n",
              "      <th>S028_313</th>\n",
              "      <td>[0.5651618361532128, 0.5746011639294005, 0.567...</td>\n",
              "      <td>[0.4498977398274356, 0.45669140321091484, 0.44...</td>\n",
              "      <td>V</td>\n",
              "      <td>[0.0, 0.0, 1.0]</td>\n",
              "    </tr>\n",
              "    <tr>\n",
              "      <th>S028_334</th>\n",
              "      <td>[0.5294385589017899, 0.5433975763042678, 0.536...</td>\n",
              "      <td>[0.5426718443165235, 0.5440166426426345, 0.551...</td>\n",
              "      <td>V</td>\n",
              "      <td>[0.0, 0.0, 1.0]</td>\n",
              "    </tr>\n",
              "    <tr>\n",
              "      <th>...</th>\n",
              "      <td>...</td>\n",
              "      <td>...</td>\n",
              "      <td>...</td>\n",
              "      <td>...</td>\n",
              "    </tr>\n",
              "    <tr>\n",
              "      <th>S064_3008</th>\n",
              "      <td>[0.5006293496851453, 0.49226923428529706, 0.50...</td>\n",
              "      <td>[0.3332966872143271, 0.3185728376004523, 0.332...</td>\n",
              "      <td>V</td>\n",
              "      <td>[0.0, 0.0, 1.0]</td>\n",
              "    </tr>\n",
              "    <tr>\n",
              "      <th>S064_3013</th>\n",
              "      <td>[0.503653923599582, 0.5165183964353227, 0.5204...</td>\n",
              "      <td>[0.2968394072316792, 0.27981802403945183, 0.26...</td>\n",
              "      <td>V</td>\n",
              "      <td>[0.0, 0.0, 1.0]</td>\n",
              "    </tr>\n",
              "    <tr>\n",
              "      <th>S064_3091</th>\n",
              "      <td>[0.47970845507487564, 0.46900455145114267, 0.4...</td>\n",
              "      <td>[0.39239041579390294, 0.37801700705836605, 0.4...</td>\n",
              "      <td>V</td>\n",
              "      <td>[0.0, 0.0, 1.0]</td>\n",
              "    </tr>\n",
              "    <tr>\n",
              "      <th>S064_3097</th>\n",
              "      <td>[0.4829838960577496, 0.4731752236148085, 0.475...</td>\n",
              "      <td>[0.33914512911601646, 0.3197216305338219, 0.35...</td>\n",
              "      <td>V</td>\n",
              "      <td>[0.0, 0.0, 1.0]</td>\n",
              "    </tr>\n",
              "    <tr>\n",
              "      <th>S064_3106</th>\n",
              "      <td>[0.489207518518916, 0.47993425908531484, 0.485...</td>\n",
              "      <td>[0.4037899409437056, 0.40116040951974125, 0.42...</td>\n",
              "      <td>V</td>\n",
              "      <td>[0.0, 0.0, 1.0]</td>\n",
              "    </tr>\n",
              "  </tbody>\n",
              "</table>\n",
              "<p>1703 rows × 4 columns</p>\n",
              "</div>\n",
              "      <button class=\"colab-df-convert\" onclick=\"convertToInteractive('df-de7553b3-edf7-42f4-82b6-34d0c87e3b44')\"\n",
              "              title=\"Convert this dataframe to an interactive table.\"\n",
              "              style=\"display:none;\">\n",
              "        \n",
              "  <svg xmlns=\"http://www.w3.org/2000/svg\" height=\"24px\"viewBox=\"0 0 24 24\"\n",
              "       width=\"24px\">\n",
              "    <path d=\"M0 0h24v24H0V0z\" fill=\"none\"/>\n",
              "    <path d=\"M18.56 5.44l.94 2.06.94-2.06 2.06-.94-2.06-.94-.94-2.06-.94 2.06-2.06.94zm-11 1L8.5 8.5l.94-2.06 2.06-.94-2.06-.94L8.5 2.5l-.94 2.06-2.06.94zm10 10l.94 2.06.94-2.06 2.06-.94-2.06-.94-.94-2.06-.94 2.06-2.06.94z\"/><path d=\"M17.41 7.96l-1.37-1.37c-.4-.4-.92-.59-1.43-.59-.52 0-1.04.2-1.43.59L10.3 9.45l-7.72 7.72c-.78.78-.78 2.05 0 2.83L4 21.41c.39.39.9.59 1.41.59.51 0 1.02-.2 1.41-.59l7.78-7.78 2.81-2.81c.8-.78.8-2.07 0-2.86zM5.41 20L4 18.59l7.72-7.72 1.47 1.35L5.41 20z\"/>\n",
              "  </svg>\n",
              "      </button>\n",
              "      \n",
              "  <style>\n",
              "    .colab-df-container {\n",
              "      display:flex;\n",
              "      flex-wrap:wrap;\n",
              "      gap: 12px;\n",
              "    }\n",
              "\n",
              "    .colab-df-convert {\n",
              "      background-color: #E8F0FE;\n",
              "      border: none;\n",
              "      border-radius: 50%;\n",
              "      cursor: pointer;\n",
              "      display: none;\n",
              "      fill: #1967D2;\n",
              "      height: 32px;\n",
              "      padding: 0 0 0 0;\n",
              "      width: 32px;\n",
              "    }\n",
              "\n",
              "    .colab-df-convert:hover {\n",
              "      background-color: #E2EBFA;\n",
              "      box-shadow: 0px 1px 2px rgba(60, 64, 67, 0.3), 0px 1px 3px 1px rgba(60, 64, 67, 0.15);\n",
              "      fill: #174EA6;\n",
              "    }\n",
              "\n",
              "    [theme=dark] .colab-df-convert {\n",
              "      background-color: #3B4455;\n",
              "      fill: #D2E3FC;\n",
              "    }\n",
              "\n",
              "    [theme=dark] .colab-df-convert:hover {\n",
              "      background-color: #434B5C;\n",
              "      box-shadow: 0px 1px 3px 1px rgba(0, 0, 0, 0.15);\n",
              "      filter: drop-shadow(0px 1px 2px rgba(0, 0, 0, 0.3));\n",
              "      fill: #FFFFFF;\n",
              "    }\n",
              "  </style>\n",
              "\n",
              "      <script>\n",
              "        const buttonEl =\n",
              "          document.querySelector('#df-de7553b3-edf7-42f4-82b6-34d0c87e3b44 button.colab-df-convert');\n",
              "        buttonEl.style.display =\n",
              "          google.colab.kernel.accessAllowed ? 'block' : 'none';\n",
              "\n",
              "        async function convertToInteractive(key) {\n",
              "          const element = document.querySelector('#df-de7553b3-edf7-42f4-82b6-34d0c87e3b44');\n",
              "          const dataTable =\n",
              "            await google.colab.kernel.invokeFunction('convertToInteractive',\n",
              "                                                     [key], {});\n",
              "          if (!dataTable) return;\n",
              "\n",
              "          const docLinkHtml = 'Like what you see? Visit the ' +\n",
              "            '<a target=\"_blank\" href=https://colab.research.google.com/notebooks/data_table.ipynb>data table notebook</a>'\n",
              "            + ' to learn more about interactive tables.';\n",
              "          element.innerHTML = '';\n",
              "          dataTable['output_type'] = 'display_data';\n",
              "          await google.colab.output.renderOutput(dataTable, element);\n",
              "          const docLink = document.createElement('div');\n",
              "          docLink.innerHTML = docLinkHtml;\n",
              "          element.appendChild(docLink);\n",
              "        }\n",
              "      </script>\n",
              "    </div>\n",
              "  </div>\n",
              "  "
            ],
            "text/plain": [
              "                                                  first_lead  ...            label\n",
              "S028_22    [0.5067651556531894, 0.5138383442651376, 0.522...  ...  [0.0, 0.0, 1.0]\n",
              "S028_117   [0.5442432844786468, 0.550514148720906, 0.5761...  ...  [0.0, 0.0, 1.0]\n",
              "S028_267   [0.6271705672202565, 0.6327518889381447, 0.625...  ...  [0.0, 0.0, 1.0]\n",
              "S028_313   [0.5651618361532128, 0.5746011639294005, 0.567...  ...  [0.0, 0.0, 1.0]\n",
              "S028_334   [0.5294385589017899, 0.5433975763042678, 0.536...  ...  [0.0, 0.0, 1.0]\n",
              "...                                                      ...  ...              ...\n",
              "S064_3008  [0.5006293496851453, 0.49226923428529706, 0.50...  ...  [0.0, 0.0, 1.0]\n",
              "S064_3013  [0.503653923599582, 0.5165183964353227, 0.5204...  ...  [0.0, 0.0, 1.0]\n",
              "S064_3091  [0.47970845507487564, 0.46900455145114267, 0.4...  ...  [0.0, 0.0, 1.0]\n",
              "S064_3097  [0.4829838960577496, 0.4731752236148085, 0.475...  ...  [0.0, 0.0, 1.0]\n",
              "S064_3106  [0.489207518518916, 0.47993425908531484, 0.485...  ...  [0.0, 0.0, 1.0]\n",
              "\n",
              "[1703 rows x 4 columns]"
            ]
          },
          "metadata": {},
          "execution_count": 21
        }
      ]
    },
    {
      "cell_type": "code",
      "source": [
        "    signal = validation_patches_df_.loc[\"S064_3008\"]\n",
        "    length = len(signal['first_lead'])\n",
        "    fig,axs = plt.subplots(2)\n",
        "    fig.set_size_inches(18.5, 10.5)\n",
        "    ax1 = axs[0]\n",
        "    ax2 = axs[1]\n",
        "  \n",
        "    \n",
        "    first_lead = signal['first_lead'][:length]\n",
        "    second_lead = signal['second_lead'][:length]\n",
        "    \n",
        "    x = list(range(length))\n",
        "    \n",
        "    ax1.plot(x,first_lead)\n",
        "    ax2.plot(x,second_lead)\n",
        "    \n",
        "    plt.show()"
      ],
      "metadata": {
        "colab": {
          "base_uri": "https://localhost:8080/",
          "height": 619
        },
        "id": "HyQNLqpGEC5V",
        "outputId": "a4e11955-da3a-4fab-f119-593576ae1eb6"
      },
      "id": "HyQNLqpGEC5V",
      "execution_count": 22,
      "outputs": [
        {
          "output_type": "display_data",
          "data": {
            "image/png": "[encoded data removed]",
            "text/plain": [
              "<Figure size 1332x756 with 2 Axes>"
            ]
          },
          "metadata": {
            "needs_background": "light"
          }
        }
      ]
    },
    {
      "cell_type": "markdown",
      "metadata": {
        "id": "1l2ufSgJlkV1"
      },
      "source": [
        "<h2> Drop and resampling "
      ],
      "id": "1l2ufSgJlkV1"
    },
    {
      "cell_type": "code",
      "execution_count": 23,
      "id": "7b4fd24d",
      "metadata": {
        "id": "7b4fd24d",
        "colab": {
          "base_uri": "https://localhost:8080/",
          "height": 399
        },
        "outputId": "1b5898da-fef9-470a-8b9a-9afebe76148f"
      },
      "outputs": [
        {
          "output_type": "stream",
          "name": "stdout",
          "text": [
            "How many training indx: 168940\n",
            "Balancing training...\n",
            "pre drop: 181313\n",
            "post drop:27358\n",
            "20924\n",
            "1032\n",
            "1703\n",
            "Balancing validation\n"
          ]
        },
        {
          "output_type": "display_data",
          "data": {
            "image/png": "[encoded data removed]",
            "text/plain": [
              "<Figure size 432x288 with 2 Axes>"
            ]
          },
          "metadata": {}
        }
      ],
      "source": [
        "training_patches_df = training_patches_df_.copy(deep=True)\n",
        "validation_patches_df = validation_patches_df_.copy(deep=True)\n",
        "\n",
        "training_df.head()\n",
        "\n",
        "training_patients = training_df['sigId']\n",
        "validation_patients = validation_df['sigId']\n",
        "\n",
        "# calculate percentage of heartbeats to drop \n",
        "\n",
        "num_n = len(training_patches_df[(training_patches_df['stringLabel']=='N')])\n",
        "num_s = len(training_patches_df[(training_patches_df['stringLabel']=='S')])\n",
        "num_v = len(training_patches_df[(training_patches_df['stringLabel']=='V')])\n",
        "to_drop = num_n - max(num_s,num_v) * 2\n",
        "perc_to_drop_train = to_drop/(num_n)\n",
        "\n",
        "num_n = len(validation_patches_df[(validation_patches_df['stringLabel']=='N')])\n",
        "num_s = len(validation_patches_df[(validation_patches_df['stringLabel']=='S')])\n",
        "num_v = len(validation_patches_df[(validation_patches_df['stringLabel']=='V')])\n",
        "to_drop = num_n - max(num_s,num_v)\n",
        "perc_to_drop_valid = to_drop/(num_n)\n",
        "\n",
        "train_indexes = training_patches_df.index[training_patches_df['stringLabel'] == 'N'].tolist()\n",
        "valid_indexes = validation_patches_df.index[validation_patches_df['stringLabel'] == 'N'].tolist()\n",
        "\n",
        "print(f\"How many training indx: {len(train_indexes)}\")\n",
        "\n",
        "train_to_drop = list()\n",
        "valid_to_drop = list()\n",
        "lengths = list()\n",
        "dict_train = {}\n",
        "valid_train = {}\n",
        "\n",
        "print(\"Balancing training...\")\n",
        "\n",
        "for p in training_patients:\n",
        "    dict_train[p] = list()\n",
        "\n",
        "for hb in train_indexes:\n",
        "    dict_train[hb.split('_')[0]].append(hb)\n",
        "\n",
        "for p in dict_train:\n",
        "   random.shuffle(dict_train[p])\n",
        "\n",
        "for k in dict_train:\n",
        "    train_to_drop += dict_train[k][:int(len(dict_train[k]) * perc_to_drop_train)]\n",
        "\n",
        "print(f\"pre drop: {len(training_patches_df.index)}\")\n",
        "training_patches_df = training_patches_df.drop(train_to_drop)\n",
        "print(f\"post drop:{len(training_patches_df.index)}\")\n",
        "print(num_n)\n",
        "print(num_s)\n",
        "print(num_v)\n",
        "print(\"Balancing validation\")\n",
        "\n",
        "for p in validation_patients:\n",
        "    valid_train[p] = list()\n",
        "    \n",
        "for hb in valid_indexes:\n",
        "    valid_train[hb.split('_')[0]].append(hb)\n",
        "\n",
        "for p in valid_train:\n",
        "    random.shuffle(valid_train[p])\n",
        "\n",
        "for k in valid_train:\n",
        "    valid_to_drop += valid_train[k][:int(perc_to_drop_valid * len(valid_train[k]))]\n",
        "\n",
        "validation_balanced_patches_df = validation_patches_df.drop(valid_to_drop)\n",
        "\n",
        "\n",
        "training_labels = training_patches_df['stringLabel'].values\n",
        "validation_labels = validation_balanced_patches_df['stringLabel'].values\n",
        "\n",
        "classes = [\"N\",\"S\",\"V\"]\n",
        "\n",
        "training_counts = [0]*3\n",
        "validation_counts = [0]*3\n",
        "\n",
        "for l in training_labels:\n",
        "    training_counts[classes.index(l)] += 1\n",
        "for l in validation_labels:\n",
        "    validation_counts[classes.index(l)] += 1\n",
        "\n",
        "fig1, (ax1,ax2) = plt.subplots(1,2)\n",
        "\n",
        "ax1.pie(training_counts, explode=None, labels=classes, autopct='%1.1f%%',\n",
        "        shadow=False, startangle=90)\n",
        "ax1.axis('equal')  \n",
        "ax2.pie(validation_counts, explode=None, labels=classes, autopct='%1.1f%%',\n",
        "        shadow=False, startangle=90)\n",
        "ax2.axis('equal')  \n",
        "\n",
        "fig1.set_facecolor(\"white\")\n",
        "\n",
        "plt.show()\n"
      ]
    },
    {
      "cell_type": "code",
      "source": [
        "# resample v and s\n",
        "from sklearn.utils import shuffle\n",
        "\n",
        "\n",
        "ids_S = training_patches_df.index[training_patches_df['stringLabel']=='S']\n",
        "ids_V = training_patches_df.index[training_patches_df['stringLabel']=='V']\n",
        "ids_N = training_patches_df.index[training_patches_df['stringLabel']=='N']\n",
        "\n",
        "to_add = {}\n",
        "\n",
        "to_resample_s = len(ids_N) - len(ids_S)\n",
        "to_resample_v = len(ids_N) - len(ids_V)\n",
        "\n",
        "for i in tqdm(range(to_resample_s)):\n",
        "    id = random.choice(ids_S)\n",
        "    row = training_patches_df.loc[id]\n",
        "    idx = id + '_' + str(i)\n",
        "    to_add[idx] = {}\n",
        "    to_add[idx]['first_lead'] = row['first_lead']\n",
        "    to_add[idx]['second_lead'] = row['second_lead']\n",
        "    to_add[idx]['stringLabel'] = row['stringLabel']\n",
        "    to_add[idx]['label'] = row['label']\n",
        "\n",
        "\n",
        "\n",
        "for i in tqdm(range(to_resample_v)):\n",
        "    id = random.choice(ids_V)\n",
        "    row = training_patches_df.loc[id]\n",
        "    idx = id + '_i'\n",
        "    to_add[idx] = {}\n",
        "    to_add[idx]['first_lead'] = row['first_lead']\n",
        "    to_add[idx]['second_lead'] = row['second_lead']\n",
        "    to_add[idx]['stringLabel'] = row['stringLabel']\n",
        "    to_add[idx]['label'] = row['label']\n",
        "\n",
        "\n",
        "to_add_df = pd.DataFrame.from_dict(to_add,orient=\"index\")\n",
        "training_patches_df = pd.concat([training_patches_df,to_add_df],axis=0) \n",
        "training_patches_df = shuffle(training_patches_df)\n"
      ],
      "metadata": {
        "colab": {
          "base_uri": "https://localhost:8080/"
        },
        "id": "pVLGB1qgKsDu",
        "outputId": "5b4c0e5c-d4ee-4ef0-ca92-76566ba97cea"
      },
      "id": "pVLGB1qgKsDu",
      "execution_count": 24,
      "outputs": [
        {
          "output_type": "stream",
          "name": "stderr",
          "text": [
            "100%|██████████| 7512/7512 [00:01<00:00, 5182.04it/s]\n",
            "100%|██████████| 10085/10085 [00:01<00:00, 5466.76it/s]\n"
          ]
        }
      ]
    },
    {
      "cell_type": "code",
      "source": [
        "\n",
        "training_labels = training_patches_df['stringLabel'].values\n",
        "validation_labels = validation_balanced_patches_df['stringLabel'].values\n",
        "\n",
        "classes = [\"N\",\"S\",\"V\"]\n",
        "\n",
        "training_counts = [0]*3\n",
        "validation_counts = [0]*3\n",
        "\n",
        "for l in training_labels:\n",
        "    training_counts[classes.index(l)] += 1\n",
        "for l in validation_labels:\n",
        "    validation_counts[classes.index(l)] += 1\n",
        "\n",
        "fig1, (ax1,ax2) = plt.subplots(1,2)\n",
        "\n",
        "ax1.pie(training_counts, explode=None, labels=classes, autopct='%1.1f%%',\n",
        "        shadow=False, startangle=90)\n",
        "ax1.axis('equal')  \n",
        "ax2.pie(validation_counts, explode=None, labels=classes, autopct='%1.1f%%',\n",
        "        shadow=False, startangle=90)\n",
        "ax2.axis('equal')  \n",
        "\n",
        "fig1.set_facecolor(\"white\")\n",
        "\n",
        "plt.show()"
      ],
      "metadata": {
        "colab": {
          "base_uri": "https://localhost:8080/",
          "height": 247
        },
        "id": "BkE1OjD-K5lE",
        "outputId": "d5c0f24a-a5c3-434b-ff35-2bbaf82b546b"
      },
      "id": "BkE1OjD-K5lE",
      "execution_count": 25,
      "outputs": [
        {
          "output_type": "display_data",
          "data": {
            "image/png": "[encoded data removed]",
            "text/plain": [
              "<Figure size 432x288 with 2 Axes>"
            ]
          },
          "metadata": {}
        }
      ]
    },
    {
      "cell_type": "markdown",
      "source": [
        "<h2>Create input"
      ],
      "metadata": {
        "id": "oSls57EwCw-o"
      },
      "id": "oSls57EwCw-o"
    },
    {
      "cell_type": "code",
      "execution_count": 26,
      "id": "61c04340",
      "metadata": {
        "id": "61c04340"
      },
      "outputs": [],
      "source": [
        "def create_input(df,step):\n",
        "    \n",
        "    x = list()\n",
        "    y = list()\n",
        "    \n",
        "    for id in tqdm(df.index.tolist()):\n",
        "        row = df.loc[id]\n",
        "        x.append(np.transpose(np.asarray([row['first_lead'],row['second_lead']]).astype(np.float32)))\n",
        "        if step == 1:\n",
        "          y.append(row['stringLabel']!='N')\n",
        "        elif step == 2:\n",
        "          y.append(row['stringLabel']!='S')\n",
        "        else:\n",
        "          if row['stringLabel'] == 'N':\n",
        "            y.append(0)\n",
        "          elif row['stringLabel'] == 'S':\n",
        "            y.append(1)\n",
        "          else:\n",
        "            y.append(2)\n",
        "\n",
        "    x = np.asarray(x).astype(np.float32)\n",
        "    y = np.asarray(y).astype(np.float32)\n",
        "    \n",
        "\n",
        "    return x,y"
      ]
    },
    {
      "cell_type": "code",
      "execution_count": 27,
      "id": "ca8d6b36",
      "metadata": {
        "id": "ca8d6b36",
        "outputId": "aa11bdd2-fcc3-4d56-e6d6-ce1f7cedf06a",
        "colab": {
          "base_uri": "https://localhost:8080/"
        }
      },
      "outputs": [
        {
          "output_type": "stream",
          "name": "stderr",
          "text": [
            "100%|██████████| 39146/39146 [00:08<00:00, 4697.54it/s]\n",
            "100%|██████████| 4443/4443 [00:00<00:00, 4891.86it/s]\n",
            "100%|██████████| 24866/24866 [00:05<00:00, 4536.82it/s]\n"
          ]
        }
      ],
      "source": [
        "x_train,y_train = create_input(training_patches_df, 1)\n",
        "x_valid,y_valid = create_input(validation_balanced_patches_df, 1)\n",
        "x_test,y_test = create_input(test_patches_df,1)"
      ]
    },
    {
      "cell_type": "code",
      "source": [
        "from sklearn.utils.class_weight import compute_class_weight\n",
        "timesteps = 350 #patch size\n",
        "channels_num = 2\n",
        "\n",
        "input = keras.layers.Input(shape=(timesteps, channels_num))\n",
        "\n",
        "conv1 = keras.layers.Conv1D(filters=32,kernel_size=25,activation=\"relu\")(input)\n",
        "maxPool1 = keras.layers.MaxPool1D(pool_size=2)(conv1)\n",
        "dropout1 = keras.layers.Dropout(0.05)(maxPool1)\n",
        "conv2 = keras.layers.Conv1D(filters=64,kernel_size=12,activation=\"relu\")(dropout1)\n",
        "maxPool2 = keras.layers.MaxPool1D(pool_size=2)(conv2)\n",
        "dropout2 = keras.layers.Dropout(0.1)(maxPool2)\n",
        "conv3 = keras.layers.Conv1D(filters=128,kernel_size=9,activation=\"relu\")(dropout2)\n",
        "maxPool3 = keras.layers.MaxPool1D(pool_size=2)(conv3)\n",
        "dropout3 = keras.layers.Dropout(0.15)(maxPool3)\n",
        "lstm1 = keras.layers.LSTM(64, return_sequences=True)(dropout3)\n",
        "lstm2 = keras.layers.LSTM(64, return_sequences=False)(lstm1)\n",
        "output = keras.layers.Dense(1, activation=tf.nn.sigmoid)(lstm2)\n",
        "model_NvsRest = keras.models.Model(inputs=input, outputs=output)\n",
        "\n",
        "model_NvsRest.summary()\n",
        "\n",
        "callback = keras.callbacks.EarlyStopping(monitor='val_loss', patience=10,mode=\"auto\", restore_best_weights=True)\n",
        "\n",
        "batch_size = 128\n",
        "learning_rate = 1e-5\n",
        "model_NvsRest.compile(\n",
        "    optimizer = keras.optimizers.Adam(learning_rate=learning_rate),\n",
        "    loss = 'binary_crossentropy',\n",
        "    metrics = ['accuracy'],\n",
        "    \n",
        ")\n",
        "\n",
        "class_weights = compute_class_weight(\n",
        "                                            class_weight = 'balanced', \n",
        "                                            classes = y_train, \n",
        "                                            y = y_train\n",
        "                                        )\n",
        "d_class_weights = dict(enumerate(class_weights))\n",
        "\n",
        "history = model_NvsRest.fit(\n",
        "    x = x_train,\n",
        "    y = y_train, \n",
        "    batch_size = batch_size,\n",
        "    steps_per_epoch=len(x_train)/batch_size,\n",
        "    validation_data=(x_valid, y_valid),\n",
        "    epochs = 50,\n",
        "    shuffle = True,\n",
        "    callbacks=[callback],\n",
        "    class_weight = d_class_weights\n",
        ").history\n"
      ],
      "metadata": {
        "id": "0g-fXU9Xv3cW",
        "colab": {
          "base_uri": "https://localhost:8080/"
        },
        "outputId": "47962a81-5eff-4af5-9f37-2033075148b7"
      },
      "id": "0g-fXU9Xv3cW",
      "execution_count": 28,
      "outputs": [
        {
          "output_type": "stream",
          "name": "stdout",
          "text": [
            "Model: \"model\"\n",
            "_________________________________________________________________\n",
            " Layer (type)                Output Shape              Param #   \n",
            "=================================================================\n",
            " input_1 (InputLayer)        [(None, 350, 2)]          0         \n",
            "                                                                 \n",
            " conv1d (Conv1D)             (None, 326, 32)           1632      \n",
            "                                                                 \n",
            " max_pooling1d (MaxPooling1D  (None, 163, 32)          0         \n",
            " )                                                               \n",
            "                                                                 \n",
            " dropout (Dropout)           (None, 163, 32)           0         \n",
            "                                                                 \n",
            " conv1d_1 (Conv1D)           (None, 152, 64)           24640     \n",
            "                                                                 \n",
            " max_pooling1d_1 (MaxPooling  (None, 76, 64)           0         \n",
            " 1D)                                                             \n",
            "                                                                 \n",
            " dropout_1 (Dropout)         (None, 76, 64)            0         \n",
            "                                                                 \n",
            " conv1d_2 (Conv1D)           (None, 68, 128)           73856     \n",
            "                                                                 \n",
            " max_pooling1d_2 (MaxPooling  (None, 34, 128)          0         \n",
            " 1D)                                                             \n",
            "                                                                 \n",
            " dropout_2 (Dropout)         (None, 34, 128)           0         \n",
            "                                                                 \n",
            " lstm (LSTM)                 (None, 34, 64)            49408     \n",
            "                                                                 \n",
            " lstm_1 (LSTM)               (None, 64)                33024     \n",
            "                                                                 \n",
            " dense (Dense)               (None, 1)                 65        \n",
            "                                                                 \n",
            "=================================================================\n",
            "Total params: 182,625\n",
            "Trainable params: 182,625\n",
            "Non-trainable params: 0\n",
            "_________________________________________________________________\n",
            "Epoch 1/50\n",
            "305/305 [==============================] - 20s 40ms/step - loss: 0.8709 - accuracy: 0.6101 - val_loss: 0.6606 - val_accuracy: 0.6156\n",
            "Epoch 2/50\n",
            "305/305 [==============================] - 10s 31ms/step - loss: 0.8541 - accuracy: 0.6172 - val_loss: 0.6609 - val_accuracy: 0.6156\n",
            "Epoch 3/50\n",
            "305/305 [==============================] - 10s 31ms/step - loss: 0.8328 - accuracy: 0.6238 - val_loss: 0.6714 - val_accuracy: 0.5843\n",
            "Epoch 4/50\n",
            "305/305 [==============================] - 9s 31ms/step - loss: 0.7534 - accuracy: 0.7088 - val_loss: 0.9121 - val_accuracy: 0.4083\n",
            "Epoch 5/50\n",
            "305/305 [==============================] - 9s 31ms/step - loss: 0.6176 - accuracy: 0.7897 - val_loss: 0.9979 - val_accuracy: 0.4369\n",
            "Epoch 6/50\n",
            "305/305 [==============================] - 9s 31ms/step - loss: 0.5461 - accuracy: 0.8241 - val_loss: 0.7356 - val_accuracy: 0.6050\n",
            "Epoch 7/50\n",
            "305/305 [==============================] - 9s 31ms/step - loss: 0.5127 - accuracy: 0.8392 - val_loss: 0.6485 - val_accuracy: 0.6786\n",
            "Epoch 8/50\n",
            "305/305 [==============================] - 10s 32ms/step - loss: 0.4924 - accuracy: 0.8458 - val_loss: 0.6245 - val_accuracy: 0.6973\n",
            "Epoch 9/50\n",
            "305/305 [==============================] - 9s 31ms/step - loss: 0.4725 - accuracy: 0.8546 - val_loss: 0.6015 - val_accuracy: 0.7135\n",
            "Epoch 10/50\n",
            "305/305 [==============================] - 9s 31ms/step - loss: 0.4644 - accuracy: 0.8569 - val_loss: 0.4831 - val_accuracy: 0.7621\n",
            "Epoch 11/50\n",
            "305/305 [==============================] - 9s 30ms/step - loss: 0.4478 - accuracy: 0.8643 - val_loss: 0.4949 - val_accuracy: 0.7603\n",
            "Epoch 12/50\n",
            "305/305 [==============================] - 9s 30ms/step - loss: 0.4409 - accuracy: 0.8682 - val_loss: 0.5039 - val_accuracy: 0.7533\n",
            "Epoch 13/50\n",
            "305/305 [==============================] - 9s 30ms/step - loss: 0.4327 - accuracy: 0.8703 - val_loss: 0.4257 - val_accuracy: 0.7875\n",
            "Epoch 14/50\n",
            "305/305 [==============================] - 9s 31ms/step - loss: 0.4228 - accuracy: 0.8740 - val_loss: 0.3969 - val_accuracy: 0.8013\n",
            "Epoch 15/50\n",
            "305/305 [==============================] - 9s 30ms/step - loss: 0.4178 - accuracy: 0.8769 - val_loss: 0.3581 - val_accuracy: 0.8206\n",
            "Epoch 16/50\n",
            "305/305 [==============================] - 9s 30ms/step - loss: 0.4084 - accuracy: 0.8814 - val_loss: 0.2961 - val_accuracy: 0.8917\n",
            "Epoch 17/50\n",
            "305/305 [==============================] - 9s 30ms/step - loss: 0.4046 - accuracy: 0.8834 - val_loss: 0.3412 - val_accuracy: 0.8348\n",
            "Epoch 18/50\n",
            "305/305 [==============================] - 9s 30ms/step - loss: 0.3969 - accuracy: 0.8859 - val_loss: 0.3179 - val_accuracy: 0.8668\n",
            "Epoch 19/50\n",
            "305/305 [==============================] - 9s 30ms/step - loss: 0.3919 - accuracy: 0.8868 - val_loss: 0.2974 - val_accuracy: 0.8951\n",
            "Epoch 20/50\n",
            "305/305 [==============================] - 9s 30ms/step - loss: 0.3829 - accuracy: 0.8911 - val_loss: 0.3027 - val_accuracy: 0.8899\n",
            "Epoch 21/50\n",
            "305/305 [==============================] - 9s 30ms/step - loss: 0.3789 - accuracy: 0.8930 - val_loss: 0.2646 - val_accuracy: 0.9084\n",
            "Epoch 22/50\n",
            "305/305 [==============================] - 9s 30ms/step - loss: 0.3729 - accuracy: 0.8951 - val_loss: 0.2530 - val_accuracy: 0.9109\n",
            "Epoch 23/50\n",
            "305/305 [==============================] - 9s 30ms/step - loss: 0.3663 - accuracy: 0.8973 - val_loss: 0.2470 - val_accuracy: 0.9136\n",
            "Epoch 24/50\n",
            "305/305 [==============================] - 9s 31ms/step - loss: 0.3619 - accuracy: 0.8987 - val_loss: 0.2440 - val_accuracy: 0.9154\n",
            "Epoch 25/50\n",
            "305/305 [==============================] - 9s 30ms/step - loss: 0.3543 - accuracy: 0.9009 - val_loss: 0.2255 - val_accuracy: 0.9187\n",
            "Epoch 26/50\n",
            "305/305 [==============================] - 9s 31ms/step - loss: 0.3515 - accuracy: 0.9028 - val_loss: 0.2227 - val_accuracy: 0.9185\n",
            "Epoch 27/50\n",
            "305/305 [==============================] - 9s 30ms/step - loss: 0.3472 - accuracy: 0.9043 - val_loss: 0.2259 - val_accuracy: 0.9181\n",
            "Epoch 28/50\n",
            "305/305 [==============================] - 9s 30ms/step - loss: 0.3412 - accuracy: 0.9063 - val_loss: 0.2172 - val_accuracy: 0.9248\n",
            "Epoch 29/50\n",
            "305/305 [==============================] - 9s 30ms/step - loss: 0.3371 - accuracy: 0.9070 - val_loss: 0.2152 - val_accuracy: 0.9260\n",
            "Epoch 30/50\n",
            "305/305 [==============================] - 9s 30ms/step - loss: 0.3306 - accuracy: 0.9100 - val_loss: 0.2072 - val_accuracy: 0.9246\n",
            "Epoch 31/50\n",
            "305/305 [==============================] - 9s 30ms/step - loss: 0.3289 - accuracy: 0.9096 - val_loss: 0.2028 - val_accuracy: 0.9269\n",
            "Epoch 32/50\n",
            "305/305 [==============================] - 9s 30ms/step - loss: 0.3236 - accuracy: 0.9117 - val_loss: 0.2049 - val_accuracy: 0.9280\n",
            "Epoch 33/50\n",
            "305/305 [==============================] - 9s 30ms/step - loss: 0.3199 - accuracy: 0.9116 - val_loss: 0.1981 - val_accuracy: 0.9293\n",
            "Epoch 34/50\n",
            "305/305 [==============================] - 9s 30ms/step - loss: 0.3159 - accuracy: 0.9132 - val_loss: 0.1930 - val_accuracy: 0.9311\n",
            "Epoch 35/50\n",
            "305/305 [==============================] - 9s 30ms/step - loss: 0.3129 - accuracy: 0.9153 - val_loss: 0.1959 - val_accuracy: 0.9305\n",
            "Epoch 36/50\n",
            "305/305 [==============================] - 9s 30ms/step - loss: 0.3096 - accuracy: 0.9148 - val_loss: 0.1966 - val_accuracy: 0.9309\n",
            "Epoch 37/50\n",
            "305/305 [==============================] - 9s 30ms/step - loss: 0.3066 - accuracy: 0.9162 - val_loss: 0.1845 - val_accuracy: 0.9341\n",
            "Epoch 38/50\n",
            "305/305 [==============================] - 9s 30ms/step - loss: 0.3036 - accuracy: 0.9185 - val_loss: 0.1948 - val_accuracy: 0.9343\n",
            "Epoch 39/50\n",
            "305/305 [==============================] - 9s 30ms/step - loss: 0.3007 - accuracy: 0.9183 - val_loss: 0.1793 - val_accuracy: 0.9381\n",
            "Epoch 40/50\n",
            "305/305 [==============================] - 9s 30ms/step - loss: 0.3019 - accuracy: 0.9182 - val_loss: 0.1848 - val_accuracy: 0.9377\n",
            "Epoch 41/50\n",
            "305/305 [==============================] - 10s 31ms/step - loss: 0.2958 - accuracy: 0.9201 - val_loss: 0.1785 - val_accuracy: 0.9370\n",
            "Epoch 42/50\n",
            "305/305 [==============================] - 9s 30ms/step - loss: 0.2946 - accuracy: 0.9205 - val_loss: 0.1794 - val_accuracy: 0.9399\n",
            "Epoch 43/50\n",
            "305/305 [==============================] - 9s 30ms/step - loss: 0.2921 - accuracy: 0.9220 - val_loss: 0.1712 - val_accuracy: 0.9404\n",
            "Epoch 44/50\n",
            "305/305 [==============================] - 9s 30ms/step - loss: 0.2889 - accuracy: 0.9223 - val_loss: 0.1864 - val_accuracy: 0.9379\n",
            "Epoch 45/50\n",
            "305/305 [==============================] - 9s 30ms/step - loss: 0.2847 - accuracy: 0.9238 - val_loss: 0.1712 - val_accuracy: 0.9422\n",
            "Epoch 46/50\n",
            "305/305 [==============================] - 9s 30ms/step - loss: 0.2853 - accuracy: 0.9240 - val_loss: 0.1850 - val_accuracy: 0.9363\n",
            "Epoch 47/50\n",
            "305/305 [==============================] - 9s 30ms/step - loss: 0.2816 - accuracy: 0.9250 - val_loss: 0.2049 - val_accuracy: 0.9291\n",
            "Epoch 48/50\n",
            "305/305 [==============================] - 9s 30ms/step - loss: 0.2800 - accuracy: 0.9254 - val_loss: 0.1839 - val_accuracy: 0.9359\n",
            "Epoch 49/50\n",
            "305/305 [==============================] - 9s 30ms/step - loss: 0.2760 - accuracy: 0.9278 - val_loss: 0.1822 - val_accuracy: 0.9372\n",
            "Epoch 50/50\n",
            "305/305 [==============================] - 9s 30ms/step - loss: 0.2757 - accuracy: 0.9269 - val_loss: 0.1688 - val_accuracy: 0.9413\n"
          ]
        }
      ]
    },
    {
      "cell_type": "code",
      "execution_count": 29,
      "id": "424b06c0",
      "metadata": {
        "id": "424b06c0",
        "colab": {
          "base_uri": "https://localhost:8080/",
          "height": 598
        },
        "outputId": "32841864-bb3d-4030-9818-86c4318f25a7"
      },
      "outputs": [
        {
          "output_type": "stream",
          "name": "stdout",
          "text": [
            "Making predictions ...\r"
          ]
        },
        {
          "output_type": "display_data",
          "data": {
            "image/png": "[encoded data removed]",
            "text/plain": [
              "<Figure size 576x576 with 2 Axes>"
            ]
          },
          "metadata": {
            "needs_background": "light"
          }
        }
      ],
      "source": [
        "import seaborn as sns \n",
        "def plot_confusion_matrix(y_true, y_pred):\n",
        "  \"\"\"\n",
        "    :param ndarray y_true: contains the ground truth labels in the shape (n_samples,)\n",
        "    :param ndarray y_pred: contains the predicted labels in the shape (n_samples,)\n",
        "  \"\"\"\n",
        "  con_mat = tf.math.confusion_matrix(labels=np.squeeze(y_true), predictions=np.rint(np.squeeze(y_pred))).numpy()\n",
        "  con_mat_norm = np.around(con_mat.astype('float') / con_mat.sum(axis=1)[:, np.newaxis], decimals=2)\n",
        "  con_mat_df = pd.DataFrame(con_mat_norm,\n",
        "                  index = classes, \n",
        "                  columns = classes)\n",
        "  figure = plt.figure(figsize=(8, 8))\n",
        "  sns.heatmap(con_mat_df, annot=True,cmap=plt.cm.Blues)\n",
        "  plt.tight_layout()\n",
        "  plt.ylabel('True label')\n",
        "  plt.xlabel('Predicted label')\n",
        "  plt.show()\n",
        "\n",
        "classes = ['N', 'Rest']\n",
        "print(\"Making predictions ...\",end=\"\\r\")\n",
        "y_pred= model_NvsRest.predict(x_test)\n",
        "\n",
        "plot_confusion_matrix(y_test, y_pred)"
      ]
    },
    {
      "cell_type": "code",
      "source": [
        "plt.plot(history[\"loss\"], label=\"Training Loss\")\n",
        "plt.plot(history[\"val_loss\"], label=\"Validation Loss\")\n",
        "plt.legend()\n",
        "plt.show()"
      ],
      "metadata": {
        "colab": {
          "base_uri": "https://localhost:8080/",
          "height": 265
        },
        "id": "Sdh6LFFkIQV8",
        "outputId": "39c32dd5-ac1e-410e-8b7d-183ccd8f5d08"
      },
      "id": "Sdh6LFFkIQV8",
      "execution_count": 30,
      "outputs": [
        {
          "output_type": "display_data",
          "data": {
            "image/png": "[encoded data removed]",
            "text/plain": [
              "<Figure size 432x288 with 1 Axes>"
            ]
          },
          "metadata": {
            "needs_background": "light"
          }
        }
      ]
    },
    {
      "cell_type": "code",
      "source": [
        "classes = np.array([\"S\",\"V\"])\n",
        "training_patches_df_red = training_patches_df[training_patches_df['stringLabel']!='N']\n",
        "validation_patches_df_red = validation_balanced_patches_df[validation_balanced_patches_df['stringLabel']!='N']"
      ],
      "metadata": {
        "id": "87KZoJN4H-71"
      },
      "id": "87KZoJN4H-71",
      "execution_count": 31,
      "outputs": []
    },
    {
      "cell_type": "code",
      "source": [
        "x_train,y_train = create_input(training_patches_df_red, step=2)\n",
        "x_valid,y_valid = create_input(validation_patches_df_red, step=2)\n",
        "x_test,y_test = create_input(test_patches_df,step=2)"
      ],
      "metadata": {
        "colab": {
          "base_uri": "https://localhost:8080/"
        },
        "id": "J3Fq7OdLIX8z",
        "outputId": "96980260-64bc-4f46-b31f-a1b37e2dc0a3"
      },
      "id": "J3Fq7OdLIX8z",
      "execution_count": 32,
      "outputs": [
        {
          "output_type": "stream",
          "name": "stderr",
          "text": [
            "100%|██████████| 24161/24161 [00:05<00:00, 4525.34it/s]\n",
            "100%|██████████| 2735/2735 [00:00<00:00, 4668.15it/s]\n",
            "100%|██████████| 24866/24866 [00:05<00:00, 4707.78it/s]\n"
          ]
        }
      ]
    },
    {
      "cell_type": "code",
      "source": [
        "from sklearn.utils.class_weight import compute_class_weight\n",
        "timesteps = 350 #patch size\n",
        "channels_num = 2\n",
        "\n",
        "input = keras.layers.Input(shape=(timesteps, channels_num))\n",
        "\n",
        "conv1 = keras.layers.Conv1D(filters=32,kernel_size=25,activation=\"relu\")(input)\n",
        "maxPool1 = keras.layers.MaxPool1D(pool_size=2)(conv1)\n",
        "dropout1 = keras.layers.Dropout(0.05)(maxPool1)\n",
        "conv2 = keras.layers.Conv1D(filters=64,kernel_size=12,activation=\"relu\")(dropout1)\n",
        "maxPool2 = keras.layers.MaxPool1D(pool_size=2)(conv2)\n",
        "dropout2 = keras.layers.Dropout(0.1)(maxPool2)\n",
        "conv3 = keras.layers.Conv1D(filters=128,kernel_size=9,activation=\"relu\")(dropout2)\n",
        "maxPool3 = keras.layers.MaxPool1D(pool_size=2)(conv3)\n",
        "dropout3 = keras.layers.Dropout(0.15)(maxPool3)\n",
        "lstm1 = keras.layers.LSTM(64, return_sequences=True)(dropout3)\n",
        "lstm2 = keras.layers.LSTM(64, return_sequences=False)(lstm1)\n",
        "output = keras.layers.Dense(1, activation=tf.nn.sigmoid)(lstm2)\n",
        "model_SvsV = keras.models.Model(inputs=input, outputs=output)\n",
        "\n",
        "model_SvsV.summary()\n",
        "\n",
        "callback = keras.callbacks.EarlyStopping(monitor='val_loss', patience=10,mode=\"auto\", restore_best_weights=True)\n",
        "\n",
        "batch_size = 128\n",
        "learning_rate = 1e-5\n",
        "model_SvsV.compile(\n",
        "    optimizer = keras.optimizers.Adam(learning_rate=learning_rate),\n",
        "    loss = 'binary_crossentropy',\n",
        "    metrics = ['accuracy'],\n",
        "    \n",
        ")\n",
        "\n",
        "class_weights = compute_class_weight(\n",
        "                                            class_weight = 'balanced', \n",
        "                                            classes = y_train, \n",
        "                                            y = y_train\n",
        "                                        )\n",
        "d_class_weights = dict(enumerate(class_weights))\n",
        "\n",
        "history_2 = model_SvsV.fit(\n",
        "    x = x_train,\n",
        "    y = y_train, \n",
        "    batch_size = batch_size,\n",
        "    steps_per_epoch=len(x_train)/batch_size,\n",
        "    validation_data=(x_valid, y_valid),\n",
        "    epochs = 50,\n",
        "    shuffle = True,\n",
        "    callbacks=[callback],\n",
        "    class_weight = d_class_weights\n",
        ").history\n"
      ],
      "metadata": {
        "colab": {
          "base_uri": "https://localhost:8080/"
        },
        "id": "iVIuMQyGIdhE",
        "outputId": "21e37088-9932-4d53-adfb-f51639313475"
      },
      "id": "iVIuMQyGIdhE",
      "execution_count": 33,
      "outputs": [
        {
          "output_type": "stream",
          "name": "stdout",
          "text": [
            "Model: \"model_1\"\n",
            "_________________________________________________________________\n",
            " Layer (type)                Output Shape              Param #   \n",
            "=================================================================\n",
            " input_2 (InputLayer)        [(None, 350, 2)]          0         \n",
            "                                                                 \n",
            " conv1d_3 (Conv1D)           (None, 326, 32)           1632      \n",
            "                                                                 \n",
            " max_pooling1d_3 (MaxPooling  (None, 163, 32)          0         \n",
            " 1D)                                                             \n",
            "                                                                 \n",
            " dropout_3 (Dropout)         (None, 163, 32)           0         \n",
            "                                                                 \n",
            " conv1d_4 (Conv1D)           (None, 152, 64)           24640     \n",
            "                                                                 \n",
            " max_pooling1d_4 (MaxPooling  (None, 76, 64)           0         \n",
            " 1D)                                                             \n",
            "                                                                 \n",
            " dropout_4 (Dropout)         (None, 76, 64)            0         \n",
            "                                                                 \n",
            " conv1d_5 (Conv1D)           (None, 68, 128)           73856     \n",
            "                                                                 \n",
            " max_pooling1d_5 (MaxPooling  (None, 34, 128)          0         \n",
            " 1D)                                                             \n",
            "                                                                 \n",
            " dropout_5 (Dropout)         (None, 34, 128)           0         \n",
            "                                                                 \n",
            " lstm_2 (LSTM)               (None, 34, 64)            49408     \n",
            "                                                                 \n",
            " lstm_3 (LSTM)               (None, 64)                33024     \n",
            "                                                                 \n",
            " dense_1 (Dense)             (None, 1)                 65        \n",
            "                                                                 \n",
            "=================================================================\n",
            "Total params: 182,625\n",
            "Trainable params: 182,625\n",
            "Non-trainable params: 0\n",
            "_________________________________________________________________\n",
            "Epoch 1/50\n",
            "188/188 [==============================] - 15s 48ms/step - loss: 0.7113 - accuracy: 0.6202 - val_loss: 0.8648 - val_accuracy: 0.3773\n",
            "Epoch 2/50\n",
            "188/188 [==============================] - 6s 31ms/step - loss: 0.6638 - accuracy: 0.6202 - val_loss: 0.8963 - val_accuracy: 0.3773\n",
            "Epoch 3/50\n",
            "188/188 [==============================] - 6s 30ms/step - loss: 0.6552 - accuracy: 0.6202 - val_loss: 0.9042 - val_accuracy: 0.3773\n",
            "Epoch 4/50\n",
            "188/188 [==============================] - 6s 30ms/step - loss: 0.6392 - accuracy: 0.6202 - val_loss: 0.9198 - val_accuracy: 0.3773\n",
            "Epoch 5/50\n",
            "188/188 [==============================] - 6s 30ms/step - loss: 0.6065 - accuracy: 0.6249 - val_loss: 0.9535 - val_accuracy: 0.3799\n",
            "Epoch 6/50\n",
            "188/188 [==============================] - 6s 30ms/step - loss: 0.5604 - accuracy: 0.6842 - val_loss: 0.9810 - val_accuracy: 0.4976\n",
            "Epoch 7/50\n",
            "188/188 [==============================] - 6s 30ms/step - loss: 0.5146 - accuracy: 0.7373 - val_loss: 0.9716 - val_accuracy: 0.5364\n",
            "Epoch 8/50\n",
            "188/188 [==============================] - 6s 30ms/step - loss: 0.4717 - accuracy: 0.7704 - val_loss: 0.6426 - val_accuracy: 0.6424\n",
            "Epoch 9/50\n",
            "188/188 [==============================] - 6s 30ms/step - loss: 0.4359 - accuracy: 0.7952 - val_loss: 0.6169 - val_accuracy: 0.6592\n",
            "Epoch 10/50\n",
            "188/188 [==============================] - 6s 30ms/step - loss: 0.4047 - accuracy: 0.8158 - val_loss: 0.5097 - val_accuracy: 0.7400\n",
            "Epoch 11/50\n",
            "188/188 [==============================] - 6s 30ms/step - loss: 0.3806 - accuracy: 0.8276 - val_loss: 0.4683 - val_accuracy: 0.7744\n",
            "Epoch 12/50\n",
            "188/188 [==============================] - 6s 31ms/step - loss: 0.3657 - accuracy: 0.8380 - val_loss: 0.3850 - val_accuracy: 0.8285\n",
            "Epoch 13/50\n",
            "188/188 [==============================] - 6s 30ms/step - loss: 0.3517 - accuracy: 0.8458 - val_loss: 0.3568 - val_accuracy: 0.8410\n",
            "Epoch 14/50\n",
            "188/188 [==============================] - 6s 30ms/step - loss: 0.3376 - accuracy: 0.8552 - val_loss: 0.3140 - val_accuracy: 0.8607\n",
            "Epoch 15/50\n",
            "188/188 [==============================] - 6s 30ms/step - loss: 0.3268 - accuracy: 0.8603 - val_loss: 0.3506 - val_accuracy: 0.8362\n",
            "Epoch 16/50\n",
            "188/188 [==============================] - 6s 30ms/step - loss: 0.3204 - accuracy: 0.8633 - val_loss: 0.2913 - val_accuracy: 0.8746\n",
            "Epoch 17/50\n",
            "188/188 [==============================] - 6s 30ms/step - loss: 0.3145 - accuracy: 0.8660 - val_loss: 0.3007 - val_accuracy: 0.8629\n",
            "Epoch 18/50\n",
            "188/188 [==============================] - 6s 30ms/step - loss: 0.3056 - accuracy: 0.8714 - val_loss: 0.2870 - val_accuracy: 0.8728\n",
            "Epoch 19/50\n",
            "188/188 [==============================] - 6s 30ms/step - loss: 0.2997 - accuracy: 0.8743 - val_loss: 0.2666 - val_accuracy: 0.8980\n",
            "Epoch 20/50\n",
            "188/188 [==============================] - 6s 30ms/step - loss: 0.2905 - accuracy: 0.8796 - val_loss: 0.2524 - val_accuracy: 0.9101\n",
            "Epoch 21/50\n",
            "188/188 [==============================] - 6s 31ms/step - loss: 0.2863 - accuracy: 0.8801 - val_loss: 0.2772 - val_accuracy: 0.8845\n",
            "Epoch 22/50\n",
            "188/188 [==============================] - 6s 30ms/step - loss: 0.2809 - accuracy: 0.8842 - val_loss: 0.2521 - val_accuracy: 0.9064\n",
            "Epoch 23/50\n",
            "188/188 [==============================] - 6s 30ms/step - loss: 0.2733 - accuracy: 0.8849 - val_loss: 0.2576 - val_accuracy: 0.9049\n",
            "Epoch 24/50\n",
            "188/188 [==============================] - 6s 30ms/step - loss: 0.2680 - accuracy: 0.8894 - val_loss: 0.2509 - val_accuracy: 0.9086\n",
            "Epoch 25/50\n",
            "188/188 [==============================] - 6s 30ms/step - loss: 0.2593 - accuracy: 0.8931 - val_loss: 0.2446 - val_accuracy: 0.9126\n",
            "Epoch 26/50\n",
            "188/188 [==============================] - 6s 30ms/step - loss: 0.2574 - accuracy: 0.8940 - val_loss: 0.2411 - val_accuracy: 0.9163\n",
            "Epoch 27/50\n",
            "188/188 [==============================] - 6s 30ms/step - loss: 0.2509 - accuracy: 0.8944 - val_loss: 0.2402 - val_accuracy: 0.9177\n",
            "Epoch 28/50\n",
            "188/188 [==============================] - 6s 30ms/step - loss: 0.2426 - accuracy: 0.8984 - val_loss: 0.2351 - val_accuracy: 0.9152\n",
            "Epoch 29/50\n",
            "188/188 [==============================] - 6s 30ms/step - loss: 0.2400 - accuracy: 0.9029 - val_loss: 0.2272 - val_accuracy: 0.9177\n",
            "Epoch 30/50\n",
            "188/188 [==============================] - 6s 30ms/step - loss: 0.2347 - accuracy: 0.9032 - val_loss: 0.2337 - val_accuracy: 0.9097\n",
            "Epoch 31/50\n",
            "188/188 [==============================] - 6s 30ms/step - loss: 0.2305 - accuracy: 0.9047 - val_loss: 0.2351 - val_accuracy: 0.9104\n",
            "Epoch 32/50\n",
            "188/188 [==============================] - 6s 30ms/step - loss: 0.2264 - accuracy: 0.9077 - val_loss: 0.2304 - val_accuracy: 0.9112\n",
            "Epoch 33/50\n",
            "188/188 [==============================] - 6s 30ms/step - loss: 0.2209 - accuracy: 0.9108 - val_loss: 0.2315 - val_accuracy: 0.9042\n",
            "Epoch 34/50\n",
            "188/188 [==============================] - 6s 30ms/step - loss: 0.2176 - accuracy: 0.9120 - val_loss: 0.2320 - val_accuracy: 0.9119\n",
            "Epoch 35/50\n",
            "188/188 [==============================] - 6s 30ms/step - loss: 0.2160 - accuracy: 0.9142 - val_loss: 0.2297 - val_accuracy: 0.9049\n",
            "Epoch 36/50\n",
            "188/188 [==============================] - 6s 30ms/step - loss: 0.2129 - accuracy: 0.9147 - val_loss: 0.2191 - val_accuracy: 0.9181\n",
            "Epoch 37/50\n",
            "188/188 [==============================] - 6s 30ms/step - loss: 0.2078 - accuracy: 0.9171 - val_loss: 0.2222 - val_accuracy: 0.9133\n",
            "Epoch 38/50\n",
            "188/188 [==============================] - 6s 30ms/step - loss: 0.2045 - accuracy: 0.9184 - val_loss: 0.2211 - val_accuracy: 0.9130\n",
            "Epoch 39/50\n",
            "188/188 [==============================] - 6s 30ms/step - loss: 0.2045 - accuracy: 0.9189 - val_loss: 0.2274 - val_accuracy: 0.9082\n",
            "Epoch 40/50\n",
            "188/188 [==============================] - 6s 30ms/step - loss: 0.2028 - accuracy: 0.9192 - val_loss: 0.2208 - val_accuracy: 0.9130\n",
            "Epoch 41/50\n",
            "188/188 [==============================] - 6s 31ms/step - loss: 0.1979 - accuracy: 0.9216 - val_loss: 0.2145 - val_accuracy: 0.9199\n",
            "Epoch 42/50\n",
            "188/188 [==============================] - 6s 30ms/step - loss: 0.1951 - accuracy: 0.9231 - val_loss: 0.2289 - val_accuracy: 0.9075\n",
            "Epoch 43/50\n",
            "188/188 [==============================] - 6s 31ms/step - loss: 0.1949 - accuracy: 0.9222 - val_loss: 0.2109 - val_accuracy: 0.9218\n",
            "Epoch 44/50\n",
            "188/188 [==============================] - 6s 30ms/step - loss: 0.1917 - accuracy: 0.9267 - val_loss: 0.2146 - val_accuracy: 0.9166\n",
            "Epoch 45/50\n",
            "188/188 [==============================] - 6s 30ms/step - loss: 0.1906 - accuracy: 0.9255 - val_loss: 0.2127 - val_accuracy: 0.9247\n",
            "Epoch 46/50\n",
            "188/188 [==============================] - 6s 30ms/step - loss: 0.1877 - accuracy: 0.9266 - val_loss: 0.2110 - val_accuracy: 0.9166\n",
            "Epoch 47/50\n",
            "188/188 [==============================] - 6s 30ms/step - loss: 0.1864 - accuracy: 0.9274 - val_loss: 0.2132 - val_accuracy: 0.9141\n",
            "Epoch 48/50\n",
            "188/188 [==============================] - 6s 30ms/step - loss: 0.1815 - accuracy: 0.9295 - val_loss: 0.2068 - val_accuracy: 0.9210\n",
            "Epoch 49/50\n",
            "188/188 [==============================] - 6s 30ms/step - loss: 0.1820 - accuracy: 0.9289 - val_loss: 0.2072 - val_accuracy: 0.9207\n",
            "Epoch 50/50\n",
            "188/188 [==============================] - 6s 30ms/step - loss: 0.1808 - accuracy: 0.9295 - val_loss: 0.2069 - val_accuracy: 0.9148\n"
          ]
        }
      ]
    },
    {
      "cell_type": "code",
      "source": [
        "print(\"Making predictions ...\",end=\"\\r\")\n",
        "y_pred= model_SvsV.predict(x_test)\n",
        "\n",
        "plot_confusion_matrix(y_test, y_pred)"
      ],
      "metadata": {
        "colab": {
          "base_uri": "https://localhost:8080/",
          "height": 598
        },
        "id": "aI6l0VJTMLx8",
        "outputId": "ea53c0dc-47ad-4e05-9483-e5cf6cd0a48e"
      },
      "id": "aI6l0VJTMLx8",
      "execution_count": 34,
      "outputs": [
        {
          "output_type": "stream",
          "name": "stdout",
          "text": [
            "Making predictions ...\r"
          ]
        },
        {
          "output_type": "display_data",
          "data": {
            "image/png": "[encoded data removed]",
            "text/plain": [
              "<Figure size 576x576 with 2 Axes>"
            ]
          },
          "metadata": {
            "needs_background": "light"
          }
        }
      ]
    },
    {
      "cell_type": "code",
      "source": [
        "plt.plot(history_2[\"loss\"], label=\"Training Loss\")\n",
        "plt.plot(history_2[\"val_loss\"], label=\"Validation Loss\")\n",
        "plt.legend()\n",
        "plt.show()"
      ],
      "metadata": {
        "colab": {
          "base_uri": "https://localhost:8080/",
          "height": 265
        },
        "id": "10vRiPCILFzh",
        "outputId": "8c7457f9-a61a-4f57-e56d-7f381c4858f6"
      },
      "id": "10vRiPCILFzh",
      "execution_count": 35,
      "outputs": [
        {
          "output_type": "display_data",
          "data": {
            "image/png": "[encoded data removed]",
            "text/plain": [
              "<Figure size 432x288 with 1 Axes>"
            ]
          },
          "metadata": {
            "needs_background": "light"
          }
        }
      ]
    },
    {
      "cell_type": "code",
      "source": [
        "x_test,y_test = create_input(test_patches_df,step=3)\n",
        "\n",
        "pred_NvsRest = model_NvsRest.predict(x_test)\n",
        "pred_fin = np.rint(np.squeeze(pred_NvsRest))\n",
        "\n",
        "x_test_SvsV = x_test[pred_fin == 1]\n",
        "\n",
        "y_pred = model_SvsV.predict(x_test_SvsV)\n",
        "pred_SvsV = np.rint(np.squeeze(y_pred))\n",
        "\n",
        "k = 0;\n",
        "for i in range(len(pred_fin)):\n",
        "  if pred_fin[i] == 1:\n",
        "    if pred_SvsV[k] == 0:\n",
        "      pred_fin[i] = 1\n",
        "    else:\n",
        "      pred_fin[i] = 2\n",
        "    k += 1;\n",
        "\n",
        "classes = [\"N\",\"S\",\"V\"]\n"
      ],
      "metadata": {
        "colab": {
          "base_uri": "https://localhost:8080/"
        },
        "id": "2vb7aVB-IlK9",
        "outputId": "674ba1ed-ca13-4886-e891-0b68a7b345a6"
      },
      "id": "2vb7aVB-IlK9",
      "execution_count": 36,
      "outputs": [
        {
          "output_type": "stream",
          "name": "stderr",
          "text": [
            "100%|██████████| 24866/24866 [00:05<00:00, 4415.86it/s]\n"
          ]
        }
      ]
    },
    {
      "cell_type": "code",
      "source": [
        "import seaborn as sns \n",
        "def plot_confusion_matrix(y_true, y_pred):\n",
        "  \"\"\"\n",
        "    :param ndarray y_true: contains the ground truth labels in the shape (n_samples,)\n",
        "    :param ndarray y_pred: contains the predicted labels in the shape (n_samples,)\n",
        "  \"\"\"\n",
        "  #y_true = np.argmax(y_true,axis=1) already 1dimensional\n",
        "  #y_pred = np.argmax(y_pred,axis=1)\n",
        "  \n",
        "  con_mat = tf.math.confusion_matrix(labels=y_true, predictions=y_pred).numpy()\n",
        "  con_mat_norm = np.around(con_mat.astype('float') / con_mat.sum(axis=1)[:, np.newaxis], decimals=2)\n",
        "  con_mat_df = pd.DataFrame(con_mat_norm,\n",
        "                  index = classes, \n",
        "                  columns = classes)\n",
        "  figure = plt.figure(figsize=(8, 8))\n",
        "  sns.heatmap(con_mat_df, annot=True,cmap=plt.cm.Blues)\n",
        "  plt.tight_layout()\n",
        "  plt.ylabel('True label')\n",
        "  plt.xlabel('Predicted label')\n",
        "  plt.show()\n",
        "  return con_mat\n",
        "\n",
        "conf = plot_confusion_matrix(y_test, pred_fin)"
      ],
      "metadata": {
        "colab": {
          "base_uri": "https://localhost:8080/",
          "height": 598
        },
        "id": "33_HTOhqVtbP",
        "outputId": "0bb4c2ee-18e3-4a6e-9c3b-f11921e1e66c"
      },
      "id": "33_HTOhqVtbP",
      "execution_count": 37,
      "outputs": [
        {
          "output_type": "display_data",
          "data": {
            "image/png": "[encoded data removed]",
            "text/plain": [
              "<Figure size 576x576 with 2 Axes>"
            ]
          },
          "metadata": {
            "needs_background": "light"
          }
        }
      ]
    },
    {
      "cell_type": "code",
      "execution_count": 39,
      "id": "352d223e",
      "metadata": {
        "id": "352d223e",
        "colab": {
          "base_uri": "https://localhost:8080/",
          "height": 807
        },
        "outputId": "46700c25-4847-4ee5-cb74-5f1de7f09d48"
      },
      "outputs": [
        {
          "output_type": "stream",
          "name": "stdout",
          "text": [
            "Making predictions on full validation set...\r"
          ]
        },
        {
          "output_type": "stream",
          "name": "stderr",
          "text": [
            "100%|██████████| 23659/23659 [00:05<00:00, 4483.90it/s]\n"
          ]
        },
        {
          "output_type": "stream",
          "name": "stdout",
          "text": [
            "              precision    recall  f1-score   support\n",
            "\n",
            "         0.0       1.00      0.89      0.94     20924\n",
            "         1.0       0.29      0.81      0.42      1032\n",
            "         2.0       0.77      0.95      0.85      1703\n",
            "\n",
            "    accuracy                           0.89     23659\n",
            "   macro avg       0.68      0.88      0.74     23659\n",
            "weighted avg       0.95      0.89      0.91     23659\n",
            "\n"
          ]
        },
        {
          "output_type": "display_data",
          "data": {
            "image/png": "[encoded data removed]",
            "text/plain": [
              "<Figure size 576x576 with 2 Axes>"
            ]
          },
          "metadata": {
            "needs_background": "light"
          }
        }
      ],
      "source": [
        "from sklearn.metrics import classification_report\n",
        "print(\"Making predictions on full validation set...\",end=\"\\r\")\n",
        "x_valid_full,y_valid_full = create_input(validation_patches_df_, 3)\n",
        "\n",
        "pred_NvsRest = model_NvsRest.predict(x_valid_full)\n",
        "pred_fin = np.rint(np.squeeze(pred_NvsRest))\n",
        "\n",
        "x_valid_full_SvsV = x_valid_full[pred_fin == 1]\n",
        "\n",
        "y_pred = model_SvsV.predict(x_valid_full_SvsV)\n",
        "pred_SvsV = np.rint(np.squeeze(y_pred))\n",
        "\n",
        "k = 0;\n",
        "for i in range(len(pred_fin)):\n",
        "  if pred_fin[i] == 1:\n",
        "    if pred_SvsV[k] == 0:\n",
        "      pred_fin[i] = 1\n",
        "    else:\n",
        "      pred_fin[i] = 2\n",
        "    k += 1;\n",
        "\n",
        "print(classification_report(y_valid_full, pred_fin))    \n",
        "conf = plot_confusion_matrix(y_valid_full, pred_fin)\n"
      ]
    },
    {
      "cell_type": "code",
      "source": [
        "from sklearn.metrics import classification_report\n",
        "print(\"Making predictions on full test set...\",end=\"\\r\")\n",
        "\n",
        "pred_NvsRest = model_NvsRest.predict(x_test)\n",
        "pred_fin = np.rint(np.squeeze(pred_NvsRest))\n",
        "\n",
        "x_test_SvsV = x_test[pred_fin == 1]\n",
        "\n",
        "y_pred = model_SvsV.predict(x_test_SvsV)\n",
        "pred_SvsV = np.rint(np.squeeze(y_pred))\n",
        "\n",
        "k = 0;\n",
        "for i in range(len(pred_fin)):\n",
        "  if pred_fin[i] == 1:\n",
        "    if pred_SvsV[k] == 0:\n",
        "      pred_fin[i] = 1\n",
        "    else:\n",
        "      pred_fin[i] = 2\n",
        "    k += 1;\n",
        "\n",
        "print(classification_report(y_test, pred_fin))    \n",
        "conf = plot_confusion_matrix(y_test, pred_fin)"
      ],
      "metadata": {
        "colab": {
          "base_uri": "https://localhost:8080/",
          "height": 787
        },
        "id": "qx2pZOVEZmOL",
        "outputId": "350c9ce2-59d5-49e9-8bae-caef0f73455c"
      },
      "id": "qx2pZOVEZmOL",
      "execution_count": 40,
      "outputs": [
        {
          "output_type": "stream",
          "name": "stdout",
          "text": [
            "Making predictions on full validation set...\r              precision    recall  f1-score   support\n",
            "\n",
            "         0.0       1.00      0.88      0.94     23231\n",
            "         1.0       0.22      0.86      0.35       619\n",
            "         2.0       0.45      0.82      0.58      1016\n",
            "\n",
            "    accuracy                           0.88     24866\n",
            "   macro avg       0.55      0.85      0.62     24866\n",
            "weighted avg       0.96      0.88      0.91     24866\n",
            "\n"
          ]
        },
        {
          "output_type": "display_data",
          "data": {
            "image/png": "[encoded data removed]",
            "text/plain": [
              "<Figure size 576x576 with 2 Axes>"
            ]
          },
          "metadata": {
            "needs_background": "light"
          }
        }
      ]
    },
    {
      "cell_type": "markdown",
      "source": [
        "<h2> Save and load model"
      ],
      "metadata": {
        "id": "NlQBI2sGFaJ0"
      },
      "id": "NlQBI2sGFaJ0"
    },
    {
      "cell_type": "code",
      "source": [
        "# convert the history.history dict to a pandas DataFrame:     \n",
        "hist_df = pd.DataFrame(history) \n",
        "net_name = 'OneVsAll_RVsRest'\n",
        "# save to csv: \n",
        "hist_csv_file = net_name +'_history.csv'\n",
        "with open(os.path.join(cwd,hist_csv_file), mode='w') as f:\n",
        "    hist_df.to_csv(f)\n",
        "model_NvsRest.save_weights(os.path.join(cwd,net_name +'_weights.h5'))\n",
        "model_NvsRest.save(os.path.join(cwd,net_name))"
      ],
      "metadata": {
        "id": "5hZvAhkiclSW",
        "colab": {
          "base_uri": "https://localhost:8080/"
        },
        "outputId": "a67e28c0-f35f-4af2-f474-5148f3f4d90e"
      },
      "id": "5hZvAhkiclSW",
      "execution_count": 45,
      "outputs": [
        {
          "output_type": "stream",
          "name": "stderr",
          "text": [
            "WARNING:absl:Found untraced functions such as lstm_cell_layer_call_fn, lstm_cell_layer_call_and_return_conditional_losses, lstm_cell_1_layer_call_fn, lstm_cell_1_layer_call_and_return_conditional_losses, lstm_cell_layer_call_fn while saving (showing 5 of 10). These functions will not be directly callable after loading.\n"
          ]
        },
        {
          "output_type": "stream",
          "name": "stdout",
          "text": [
            "INFO:tensorflow:Assets written to: /content/drive/My Drive/FinalAssignment/OneVsAll_RVsRest/assets\n"
          ]
        },
        {
          "output_type": "stream",
          "name": "stderr",
          "text": [
            "INFO:tensorflow:Assets written to: /content/drive/My Drive/FinalAssignment/OneVsAll_RVsRest/assets\n",
            "WARNING:absl:<keras.layers.recurrent.LSTMCell object at 0x7fdfe2e1d890> has the same name 'LSTMCell' as a built-in Keras object. Consider renaming <class 'keras.layers.recurrent.LSTMCell'> to avoid naming conflicts when loading with `tf.keras.models.load_model`. If renaming is not possible, pass the object in the `custom_objects` parameter of the load function.\n",
            "WARNING:absl:<keras.layers.recurrent.LSTMCell object at 0x7fdfe34ccc10> has the same name 'LSTMCell' as a built-in Keras object. Consider renaming <class 'keras.layers.recurrent.LSTMCell'> to avoid naming conflicts when loading with `tf.keras.models.load_model`. If renaming is not possible, pass the object in the `custom_objects` parameter of the load function.\n"
          ]
        }
      ]
    },
    {
      "cell_type": "code",
      "source": [
        "# convert the history.history dict to a pandas DataFrame:     \n",
        "hist_df = pd.DataFrame(history) \n",
        "net_name = 'OneVsAll_SVsV'\n",
        "# save to csv: \n",
        "hist_csv_file = net_name +'_history.csv'\n",
        "with open(os.path.join(cwd,hist_csv_file), mode='w') as f:\n",
        "    hist_df.to_csv(f)\n",
        "model_SvsV.save_weights(os.path.join(cwd,net_name +'_weights.h5'))\n",
        "model_SvsV.save(os.path.join(cwd,net_name))"
      ],
      "metadata": {
        "colab": {
          "base_uri": "https://localhost:8080/"
        },
        "id": "9wUIhh6wMbyB",
        "outputId": "0268d3da-791f-4ea4-a8f9-a8093a1e8624"
      },
      "id": "9wUIhh6wMbyB",
      "execution_count": 46,
      "outputs": [
        {
          "output_type": "stream",
          "name": "stderr",
          "text": [
            "WARNING:absl:Found untraced functions such as lstm_cell_2_layer_call_fn, lstm_cell_2_layer_call_and_return_conditional_losses, lstm_cell_3_layer_call_fn, lstm_cell_3_layer_call_and_return_conditional_losses, lstm_cell_2_layer_call_fn while saving (showing 5 of 10). These functions will not be directly callable after loading.\n"
          ]
        },
        {
          "output_type": "stream",
          "name": "stdout",
          "text": [
            "INFO:tensorflow:Assets written to: /content/drive/My Drive/FinalAssignment/OneVsAll_SVsV/assets\n"
          ]
        },
        {
          "output_type": "stream",
          "name": "stderr",
          "text": [
            "INFO:tensorflow:Assets written to: /content/drive/My Drive/FinalAssignment/OneVsAll_SVsV/assets\n",
            "WARNING:absl:<keras.layers.recurrent.LSTMCell object at 0x7fe038519750> has the same name 'LSTMCell' as a built-in Keras object. Consider renaming <class 'keras.layers.recurrent.LSTMCell'> to avoid naming conflicts when loading with `tf.keras.models.load_model`. If renaming is not possible, pass the object in the `custom_objects` parameter of the load function.\n",
            "WARNING:absl:<keras.layers.recurrent.LSTMCell object at 0x7fe0353fac10> has the same name 'LSTMCell' as a built-in Keras object. Consider renaming <class 'keras.layers.recurrent.LSTMCell'> to avoid naming conflicts when loading with `tf.keras.models.load_model`. If renaming is not possible, pass the object in the `custom_objects` parameter of the load function.\n"
          ]
        }
      ]
    }
  ],
  "metadata": {
    "kernelspec": {
      "display_name": "tf-gpu",
      "language": "python",
      "name": "tf-gpu"
    },
    "language_info": {
      "codemirror_mode": {
        "name": "ipython",
        "version": 3
      },
      "file_extension": ".py",
      "mimetype": "text/x-python",
      "name": "python",
      "nbconvert_exporter": "python",
      "pygments_lexer": "ipython3",
      "version": "3.9.7"
    },
    "colab": {
      "name": "FinalOneVsAll.ipynb",
      "provenance": [],
      "collapsed_sections": []
    },
    "accelerator": "GPU"
  },
  "nbformat": 4,
  "nbformat_minor": 5
}