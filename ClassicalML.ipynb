{
 "cells": [
  {
   "cell_type": "code",
   "execution_count": 1,
   "id": "f48fb0cf",
   "metadata": {},
   "outputs": [],
   "source": [
    "import os \n",
    "import zipfile \n",
    "from scipy.io import loadmat \n",
    "import pandas as pd\n",
    "import matplotlib.pyplot as plt \n",
    "import numpy as np\n",
    "import io\n",
    "from PIL import Image\n",
    "import tensorflow as tf \n",
    "from tensorflow import keras\n",
    "import sys\n",
    "from tqdm import tqdm\n",
    "import random\n",
    "from sklearn.model_selection import train_test_split\n",
    "import pywt \n",
    "\n",
    "\n",
    "SEED = 1\n",
    "tf.random.set_seed(SEED)\n",
    "np.random.seed(SEED)\n",
    "random.seed(SEED)\n",
    "os.environ['PYTHONHASHSEED'] = str(SEED)\n",
    "\n",
    "dataset_current_folder = \"training_set.zip\" # where the zip is\n",
    "dataset_folder = \"C://Users//simon//Desktop//AppliedAI-project\" # where I want the dataset - avoid the current folder as Git doesn't allow huge uploads\n",
    "\n",
    "with zipfile.ZipFile(dataset_current_folder, 'r') as zip: # extract the zip file into the desired folder \n",
    "    zip.extractall(dataset_folder)\n",
    "\n",
    "def load_data(sample_prefix, input_dir):    # everything is returned as a numpy array which is easier to manipulate\n",
    "    label_filepath = os.path.join(input_dir, sample_prefix + '_ann.mat')\n",
    "    peak_filepath = os.path.join(input_dir, sample_prefix + '_rpk.mat')\n",
    "    signal_filepath = os.path.join(input_dir, sample_prefix + '.mat')\n",
    "    if os.path.isfile(label_filepath):\n",
    "        mat_file = loadmat(label_filepath)\n",
    "        label = np.asarray(mat_file['labels'])\n",
    "    if os.path.isfile(peak_filepath):\n",
    "        mat_file = loadmat(peak_filepath)\n",
    "        peaks = np.array(mat_file['rpeaks'],dtype=np.int64)\n",
    "    if os.path.isfile(signal_filepath):\n",
    "        mat_file = loadmat(signal_filepath)\n",
    "        signal = np.asarray(mat_file['ecg'] )\n",
    "\n",
    "    return label, peaks, signal\n",
    "\n",
    "labels = list()             # labels \n",
    "ids = list()                # Id of samples \n",
    "rpeaks = list()             # detected peaks of the signal \n",
    "ecg_signals = list()        # .mat ecg signal \n",
    "frequencies = list()        # sample frequency of the ecg signal \n",
    "\n",
    "\n",
    "for f in os.listdir(dataset_folder):\n",
    "  if f.lower().endswith('.mat'):\n",
    "    id = f[:4]\n",
    "    if id not in ids:\n",
    "      ids.append(id)\n",
    "      sample_prefix = f[:8]\n",
    "      label, peak, signal = load_data(sample_prefix, dataset_folder)\n",
    "      labels.append(label)\n",
    "      rpeaks.append(peak)\n",
    "      ecg_signals.append(signal)\n",
    "      frequencies.append(int(sample_prefix[5:]))"
   ]
  },
  {
   "cell_type": "code",
   "execution_count": 2,
   "id": "5ae3aada",
   "metadata": {},
   "outputs": [
    {
     "name": "stderr",
     "output_type": "stream",
     "text": [
      "100%|██████████████████████████████████████████████████████████████████████████████| 105/105 [00:00<00:00, 1191.64it/s]\n"
     ]
    },
    {
     "data": {
      "text/html": [
       "<div>\n",
       "<style scoped>\n",
       "    .dataframe tbody tr th:only-of-type {\n",
       "        vertical-align: middle;\n",
       "    }\n",
       "\n",
       "    .dataframe tbody tr th {\n",
       "        vertical-align: top;\n",
       "    }\n",
       "\n",
       "    .dataframe thead th {\n",
       "        text-align: right;\n",
       "    }\n",
       "</style>\n",
       "<table border=\"1\" class=\"dataframe\">\n",
       "  <thead>\n",
       "    <tr style=\"text-align: right;\">\n",
       "      <th></th>\n",
       "      <th>sigId</th>\n",
       "      <th>ecg_lead_1</th>\n",
       "      <th>ecg_lead_2</th>\n",
       "      <th>peaks</th>\n",
       "      <th>frequencies</th>\n",
       "      <th>labels</th>\n",
       "    </tr>\n",
       "  </thead>\n",
       "  <tbody>\n",
       "    <tr>\n",
       "      <th>0</th>\n",
       "      <td>S001</td>\n",
       "      <td>[0.0, 0.04, 0.03, 0.0, 0.03, 0.09, 0.18, 0.14,...</td>\n",
       "      <td>[0.08, 0.07, 0.1, 0.06, 0.06, 0.03, 0.1, 0.21,...</td>\n",
       "      <td>[29, 110, 191, 272, 353, 433, 514, 595, 676, 7...</td>\n",
       "      <td>128</td>\n",
       "      <td>[N, N, N, N, N, N, N, N, N, N, N, N, N, N, N, ...</td>\n",
       "    </tr>\n",
       "    <tr>\n",
       "      <th>1</th>\n",
       "      <td>S002</td>\n",
       "      <td>[-0.035, -0.045, -0.025, -0.035, -0.045, -0.05...</td>\n",
       "      <td>[-0.095, -0.105, -0.095, -0.095, -0.115, -0.09...</td>\n",
       "      <td>[48, 153, 243, 352, 440, 547, 636, 742, 831, 9...</td>\n",
       "      <td>128</td>\n",
       "      <td>[N, N, N, N, S, N, S, N, S, N, S, N, S, N, S, ...</td>\n",
       "    </tr>\n",
       "    <tr>\n",
       "      <th>2</th>\n",
       "      <td>S003</td>\n",
       "      <td>[-0.56, -0.56, -0.55, -0.47, -0.53, -0.47, -0....</td>\n",
       "      <td>[0.43, 0.56, 0.6, 0.41, 0.54, 0.48, 0.56, 0.46...</td>\n",
       "      <td>[91, 209, 326, 394, 537, 653, 745, 872, 984, 1...</td>\n",
       "      <td>128</td>\n",
       "      <td>[N, N, N, S, N, N, S, N, N, S, N, N, N, N, N, ...</td>\n",
       "    </tr>\n",
       "    <tr>\n",
       "      <th>3</th>\n",
       "      <td>S004</td>\n",
       "      <td>[-0.46, -0.49, -0.52, -0.58, -0.62, -0.69, -0....</td>\n",
       "      <td>[0.56, 0.61, 0.66, 0.66, 0.63, 0.66, 0.59, 0.5...</td>\n",
       "      <td>[98, 223, 349, 474, 599, 726, 853, 980, 1116, ...</td>\n",
       "      <td>128</td>\n",
       "      <td>[N, N, N, N, N, N, N, N, N, N, N, N, N, N, N, ...</td>\n",
       "    </tr>\n",
       "    <tr>\n",
       "      <th>4</th>\n",
       "      <td>S005</td>\n",
       "      <td>[-0.27, -0.17, -0.13, -0.23, -0.18, -0.23, -0....</td>\n",
       "      <td>[-0.02, -0.04, -0.01, -0.01, -0.02, -0.06, 0.0...</td>\n",
       "      <td>[27, 127, 225, 324, 423, 523, 623, 722, 822, 9...</td>\n",
       "      <td>128</td>\n",
       "      <td>[N, N, N, N, N, N, N, N, N, N, N, N, N, N, N, ...</td>\n",
       "    </tr>\n",
       "  </tbody>\n",
       "</table>\n",
       "</div>"
      ],
      "text/plain": [
       "  sigId                                         ecg_lead_1  \\\n",
       "0  S001  [0.0, 0.04, 0.03, 0.0, 0.03, 0.09, 0.18, 0.14,...   \n",
       "1  S002  [-0.035, -0.045, -0.025, -0.035, -0.045, -0.05...   \n",
       "2  S003  [-0.56, -0.56, -0.55, -0.47, -0.53, -0.47, -0....   \n",
       "3  S004  [-0.46, -0.49, -0.52, -0.58, -0.62, -0.69, -0....   \n",
       "4  S005  [-0.27, -0.17, -0.13, -0.23, -0.18, -0.23, -0....   \n",
       "\n",
       "                                          ecg_lead_2  \\\n",
       "0  [0.08, 0.07, 0.1, 0.06, 0.06, 0.03, 0.1, 0.21,...   \n",
       "1  [-0.095, -0.105, -0.095, -0.095, -0.115, -0.09...   \n",
       "2  [0.43, 0.56, 0.6, 0.41, 0.54, 0.48, 0.56, 0.46...   \n",
       "3  [0.56, 0.61, 0.66, 0.66, 0.63, 0.66, 0.59, 0.5...   \n",
       "4  [-0.02, -0.04, -0.01, -0.01, -0.02, -0.06, 0.0...   \n",
       "\n",
       "                                               peaks frequencies  \\\n",
       "0  [29, 110, 191, 272, 353, 433, 514, 595, 676, 7...         128   \n",
       "1  [48, 153, 243, 352, 440, 547, 636, 742, 831, 9...         128   \n",
       "2  [91, 209, 326, 394, 537, 653, 745, 872, 984, 1...         128   \n",
       "3  [98, 223, 349, 474, 599, 726, 853, 980, 1116, ...         128   \n",
       "4  [27, 127, 225, 324, 423, 523, 623, 722, 822, 9...         128   \n",
       "\n",
       "                                              labels  \n",
       "0  [N, N, N, N, N, N, N, N, N, N, N, N, N, N, N, ...  \n",
       "1  [N, N, N, N, S, N, S, N, S, N, S, N, S, N, S, ...  \n",
       "2  [N, N, N, S, N, N, S, N, N, S, N, N, N, N, N, ...  \n",
       "3  [N, N, N, N, N, N, N, N, N, N, N, N, N, N, N, ...  \n",
       "4  [N, N, N, N, N, N, N, N, N, N, N, N, N, N, N, ...  "
      ]
     },
     "execution_count": 2,
     "metadata": {},
     "output_type": "execute_result"
    }
   ],
   "source": [
    "cols = [\"sigId\",\"ecg_lead_1\",\"ecg_lead_2\",\"peaks\",\"frequencies\",\"labels\"]\n",
    "\n",
    "# ecg signals is 105 rows [,,,,,]\n",
    "\n",
    "first_lead_signals = []\n",
    "second_lead_signals = []\n",
    "\n",
    "for signal in ecg_signals:\n",
    "    first_lead_signals.append(signal[:,0].tolist())    # converting the array to list as list of array is deprecated \n",
    "    second_lead_signals.append(signal[:,1].tolist())\n",
    "\n",
    "df = pd.DataFrame(data =[ids,first_lead_signals,second_lead_signals,rpeaks,frequencies,labels]).T\n",
    "df.columns = cols\n",
    "\n",
    "# transform peaks \n",
    "for id in tqdm(df.index.tolist()):\n",
    "    peaks = df.iloc[id]['peaks']\n",
    "    p_list = list()\n",
    "    for p in peaks:\n",
    "        p_list.append(p[0])\n",
    "    df.iloc[id]['peaks'] = np.asarray(p_list).astype(np.int64)\n",
    "\n",
    "df.head()"
   ]
  },
  {
   "cell_type": "code",
   "execution_count": 3,
   "id": "040cbb92",
   "metadata": {},
   "outputs": [
    {
     "name": "stderr",
     "output_type": "stream",
     "text": [
      "100%|██████████████████████████████████████████████████████████████████████████████████| 40/40 [00:04<00:00,  8.07it/s]\n"
     ]
    }
   ],
   "source": [
    "# because of te curse of dimensionality --> undersampling \n",
    "\n",
    "from scipy.signal import resample\n",
    "\n",
    "ids_128 = df[df['frequencies'] == 128].index.tolist() # 65 signals are sampled using fs = 128\n",
    "ids_250 = df[df['frequencies'] == 250].index.tolist() # 65 signals are sampled using fs = 128\n",
    "sampled_len =  len(df.iloc[ids_250[0]]['ecg_lead_1'])\n",
    "resampled_len = len(df.iloc[ids_128[0]]['ecg_lead_1'])\n",
    "\n",
    "for id in tqdm(ids_250):\n",
    "    row = df.iloc[id]\n",
    "    # first lead\n",
    "    signal = np.asarray(row['ecg_lead_1']).astype(np.float32)\n",
    "    resampled_1 = resample(signal,resampled_len)\n",
    "    \n",
    "    # second lead\n",
    "    \n",
    "    signal = np.asarray(row['ecg_lead_2']).astype(np.float32)\n",
    "    resampled_2 = resample(signal,resampled_len)\n",
    "    \n",
    "    df.iloc[id]['ecg_lead_1'] = resampled_1.tolist()\n",
    "    df.iloc[id]['ecg_lead_2'] = resampled_2.tolist()\n",
    "    \n",
    "    for i,p in enumerate(list(df.iloc[id]['peaks'])):\n",
    "        df.iloc[id]['peaks'][i] = int(resampled_len * p/sampled_len)\n"
   ]
  },
  {
   "cell_type": "code",
   "execution_count": 4,
   "id": "5da79526",
   "metadata": {},
   "outputs": [],
   "source": [
    "#Preprocessing used in practical lessons\n",
    "from scipy.signal import resample, butter, lfilter, iirnotch\n",
    "\n",
    "def notch_filter(cutoff, fs, q=30):\n",
    "    nyq = 0.5*fs\n",
    "    freq = cutoff/nyq\n",
    "    b, a = iirnotch(freq, q)\n",
    "    return b, a\n",
    "\n",
    "#def bandpass_filter(data, filter_order=5, lowcut = .5, highcut = 55, signal_freq=128):\n",
    "def bandpass_filter(data, filter_order=6, lowcut = 1, highcut = 45, signal_freq=128):\n",
    "        \"\"\"\n",
    "        Method responsible for creating and applying Butterworth filter.\n",
    "        :param deque data: raw data\n",
    "        :param float lowcut: filter lowcut frequency value\n",
    "        :param float highcut: filter highcut frequency value\n",
    "        :param int signal_freq: signal frequency in samples per second (Hz)\n",
    "        :param int filter_order: filter order\n",
    "        :return array: filtered data\n",
    "        \"\"\"\n",
    "        powerline = 60\n",
    "        nyquist_freq = 0.5 * signal_freq\n",
    "        low = lowcut / nyquist_freq\n",
    "        high = highcut / nyquist_freq\n",
    "        b, a = butter(filter_order, [low, high], btype=\"band\")\n",
    "        y = lfilter(b, a, data,zi = None)\n",
    "        #b,a = notch_filter(powerline,signal_freq)\n",
    "        #y = lfilter(b,a,y)\n",
    "        return y\n"
   ]
  },
  {
   "cell_type": "code",
   "execution_count": 5,
   "id": "e9f858a0",
   "metadata": {},
   "outputs": [
    {
     "name": "stdout",
     "output_type": "stream",
     "text": [
      "['N', 'N', 'S', 'N']\n"
     ]
    },
    {
     "data": {
      "image/png": "[encoded data removed]",
      "text/plain": [
       "<Figure size 1332x756 with 2 Axes>"
      ]
     },
     "metadata": {
      "needs_background": "light"
     },
     "output_type": "display_data"
    }
   ],
   "source": [
    "# plot signal \n",
    "from scipy.fft import fft, fftfreq\n",
    "\n",
    "def plot_signal(df,id,length):\n",
    "    fig,axs = plt.subplots(2)\n",
    "    fig.set_size_inches(18.5, 10.5)\n",
    "    ax1 = axs[0]\n",
    "    ax2 = axs[1]\n",
    "    \n",
    "    \n",
    "    signal = df.iloc[id]\n",
    "    \n",
    "    first_lead = signal['ecg_lead_1'][:length]\n",
    "    second_lead = signal['ecg_lead_2'][:length]\n",
    "    \n",
    "    peaks_ = signal['peaks']\n",
    "    labels_ = signal['labels']\n",
    "    \n",
    "    x = list(range(length))\n",
    "    \n",
    "    #ax1.plot(x,first_lead,color='blue')\n",
    "    #ax2.plot(x,second_lead,color='blue')\n",
    "    \n",
    "    ax1.plot(x,bandpass_filter(first_lead),color='green')\n",
    "    ax2.plot(x,bandpass_filter(second_lead),color='green')\n",
    "\n",
    "\n",
    "    \n",
    "    peaks = list()\n",
    "    p_amplitudes_first = list()\n",
    "    p_amplitudes_second = list()\n",
    "    labels = list()\n",
    "    \n",
    "    for i,p in enumerate(peaks_):\n",
    "        if(p <= length):\n",
    "            peaks.append(p)\n",
    "            p_amplitudes_first.append(first_lead[p])\n",
    "            p_amplitudes_second.append(second_lead[p])\n",
    "            labels.append(labels_[i])\n",
    "        else:\n",
    "            break\n",
    "            \n",
    "    ax1.scatter(peaks,p_amplitudes_first,color='red')\n",
    "    ax2.scatter(peaks,p_amplitudes_second,color='red')\n",
    "    offset = 10\n",
    "    \n",
    "    for i, txt in enumerate(labels):\n",
    "        ax1.annotate(txt, (peaks[i]+offset, p_amplitudes_first[i]),size = 14)\n",
    "        ax2.annotate(txt, (peaks[i]+offset, p_amplitudes_second[i]),size = 14)\n",
    "    \n",
    "    print(labels)\n",
    "    plt.show()\n",
    "\n",
    "plot_signal(df,50,400)"
   ]
  },
  {
   "cell_type": "code",
   "execution_count": 6,
   "id": "228e02e9",
   "metadata": {},
   "outputs": [
    {
     "name": "stderr",
     "output_type": "stream",
     "text": [
      "100%|████████████████████████████████████████████████████████████████████████████████| 105/105 [00:01<00:00, 54.26it/s]\n"
     ]
    }
   ],
   "source": [
    "filtered_df = df.copy(deep= True)\n",
    "\n",
    "ids = filtered_df.index.tolist()\n",
    "\n",
    "for id_ in tqdm(ids):\n",
    "    \n",
    "    row = filtered_df.iloc[id_]\n",
    "    first = row['ecg_lead_1']\n",
    "    second = row['ecg_lead_2']\n",
    "    filtered_first = np.asarray(bandpass_filter(first))\n",
    "    filtered_second =  np.asarray(bandpass_filter(second))\n",
    "\n",
    "    filtered_df.iloc[id_]['ecg_lead_1'] = pd.Series(filtered_first)\n",
    "    filtered_df.iloc[id_]['ecg_lead_2'] = pd.Series(filtered_second)\n",
    "   "
   ]
  },
  {
   "cell_type": "code",
   "execution_count": 7,
   "id": "553de6e4",
   "metadata": {},
   "outputs": [
    {
     "name": "stderr",
     "output_type": "stream",
     "text": [
      "100%|████████████████████████████████████████████████████████████████████████████████| 105/105 [00:15<00:00,  6.93it/s]\n"
     ]
    }
   ],
   "source": [
    "import heartpy as hp\n",
    "\n",
    "fs = 128\n",
    "time_window = 10\n",
    "samples = fs * time_window ##\n",
    "\n",
    "for id in tqdm(filtered_df.index.tolist()):\n",
    "    row = filtered_df.loc[id]\n",
    "    first_lead = row['ecg_lead_1']\n",
    "    second_lead = row['ecg_lead_2']\n",
    "    l_ = len(first_lead)\n",
    "    scaled_1 = list()\n",
    "    scaled_2 = list()\n",
    "#    \n",
    "    for i in range(int(l_/samples)):\n",
    "        to_scale_1 = first_lead[i*samples:i*samples+samples] \n",
    "        to_scale_2 = second_lead[i*samples:i*samples+samples]\n",
    "#        \n",
    "        scaled_1 += list(hp.scale_data(to_scale_1,lower=-1,upper=1))\n",
    "        scaled_2 += list(hp.scale_data(to_scale_2,lower=-1,upper=1))\n",
    " ##   \n",
    "    filtered_df.loc[id]['ecg_lead_1'] = scaled_1\n",
    "    filtered_df.loc[id]['ecg_lead_2'] = scaled_2"
   ]
  },
  {
   "cell_type": "code",
   "execution_count": 10,
   "id": "ac0d49d9",
   "metadata": {},
   "outputs": [
    {
     "name": "stderr",
     "output_type": "stream",
     "text": [
      "  0%|                                                                                          | 0/105 [00:00<?, ?it/s]C:\\Users\\simon\\AppData\\Local\\Temp/ipykernel_18372/1816920695.py:24: RuntimeWarning: Mean of empty slice.\n",
      "  RR_dict[sig_Id]['AVG_S_distance'] = RR_dict[sig_Id]['S_distances'].mean()\n",
      "100%|███████████████████████████████████████████████████████████████████████████████| 105/105 [00:00<00:00, 392.28it/s]\n"
     ]
    },
    {
     "data": {
      "text/html": [
       "<div>\n",
       "<style scoped>\n",
       "    .dataframe tbody tr th:only-of-type {\n",
       "        vertical-align: middle;\n",
       "    }\n",
       "\n",
       "    .dataframe tbody tr th {\n",
       "        vertical-align: top;\n",
       "    }\n",
       "\n",
       "    .dataframe thead th {\n",
       "        text-align: right;\n",
       "    }\n",
       "</style>\n",
       "<table border=\"1\" class=\"dataframe\">\n",
       "  <thead>\n",
       "    <tr style=\"text-align: right;\">\n",
       "      <th></th>\n",
       "      <th>RR_distances</th>\n",
       "      <th>S_distances</th>\n",
       "      <th>Avg_RR_distance</th>\n",
       "      <th>AVG_S_distance</th>\n",
       "    </tr>\n",
       "  </thead>\n",
       "  <tbody>\n",
       "    <tr>\n",
       "      <th>S114</th>\n",
       "      <td>[117, 116, 115, 112, 113, 114, 114, 112, 116, ...</td>\n",
       "      <td>[]</td>\n",
       "      <td>114.914745</td>\n",
       "      <td>NaN</td>\n",
       "    </tr>\n",
       "    <tr>\n",
       "      <th>S115</th>\n",
       "      <td>[113, 118, 80, 151, 118, 123, 76, 152, 119, 11...</td>\n",
       "      <td>[73]</td>\n",
       "      <td>89.041006</td>\n",
       "      <td>73.000000</td>\n",
       "    </tr>\n",
       "    <tr>\n",
       "      <th>S116</th>\n",
       "      <td>[143, 145, 141, 146, 143, 142, 144, 142, 143, ...</td>\n",
       "      <td>[75]</td>\n",
       "      <td>122.611082</td>\n",
       "      <td>75.000000</td>\n",
       "    </tr>\n",
       "    <tr>\n",
       "      <th>S117</th>\n",
       "      <td>[142, 143, 147, 148, 145, 139, 148, 139, 140, ...</td>\n",
       "      <td>[119, 99, 92, 100, 99, 92, 91, 92, 89, 87, 82,...</td>\n",
       "      <td>106.363048</td>\n",
       "      <td>83.558719</td>\n",
       "    </tr>\n",
       "    <tr>\n",
       "      <th>S118</th>\n",
       "      <td>[85, 84, 86, 81, 82, 85, 81, 83, 83, 82, 84, 8...</td>\n",
       "      <td>[]</td>\n",
       "      <td>93.967755</td>\n",
       "      <td>NaN</td>\n",
       "    </tr>\n",
       "  </tbody>\n",
       "</table>\n",
       "</div>"
      ],
      "text/plain": [
       "                                           RR_distances  \\\n",
       "S114  [117, 116, 115, 112, 113, 114, 114, 112, 116, ...   \n",
       "S115  [113, 118, 80, 151, 118, 123, 76, 152, 119, 11...   \n",
       "S116  [143, 145, 141, 146, 143, 142, 144, 142, 143, ...   \n",
       "S117  [142, 143, 147, 148, 145, 139, 148, 139, 140, ...   \n",
       "S118  [85, 84, 86, 81, 82, 85, 81, 83, 83, 82, 84, 8...   \n",
       "\n",
       "                                            S_distances  Avg_RR_distance  \\\n",
       "S114                                                 []       114.914745   \n",
       "S115                                               [73]        89.041006   \n",
       "S116                                               [75]       122.611082   \n",
       "S117  [119, 99, 92, 100, 99, 92, 91, 92, 89, 87, 82,...       106.363048   \n",
       "S118                                                 []        93.967755   \n",
       "\n",
       "      AVG_S_distance  \n",
       "S114             NaN  \n",
       "S115       73.000000  \n",
       "S116       75.000000  \n",
       "S117       83.558719  \n",
       "S118             NaN  "
      ]
     },
     "execution_count": 10,
     "metadata": {},
     "output_type": "execute_result"
    }
   ],
   "source": [
    "signal_ids = filtered_df.index.tolist()\n",
    "RR_dict = {}\n",
    "\n",
    "for id_ in tqdm(signal_ids):  \n",
    "  sig_Id = df.iloc[id_]['sigId']\n",
    "  RR_dict[sig_Id] = {}\n",
    "  RR_dict[sig_Id]['RR_distances'] = list()\n",
    "  RR_dict[sig_Id]['S_distances'] = list()\n",
    "  \n",
    "  peaks = df.iloc[id_]['peaks']\n",
    "  labels = df.iloc[id_]['labels']\n",
    "\n",
    "  for i,p in enumerate(peaks[1:-1]):\n",
    "    RR_distance = p-peaks[i]\n",
    "    if(RR_distance < 250): # discard outliers\n",
    "      RR_dict[sig_Id]['RR_distances'].append(RR_distance)\n",
    "      if(labels[i+1] == 'S'):\n",
    "        RR_dict[sig_Id]['S_distances'].append(RR_distance)\n",
    "\n",
    "  RR_dict[sig_Id]['RR_distances'] = np.asarray(RR_dict[sig_Id]['RR_distances'])\n",
    "  RR_dict[sig_Id]['S_distances'] = np.asarray(RR_dict[sig_Id]['S_distances'])\n",
    "\n",
    "  RR_dict[sig_Id]['Avg_RR_distance'] = RR_dict[sig_Id]['RR_distances'].mean()\n",
    "  RR_dict[sig_Id]['AVG_S_distance'] = RR_dict[sig_Id]['S_distances'].mean()\n",
    "\n",
    "\n",
    "RR_df = pd.DataFrame.from_dict(RR_dict,orient=\"index\")\n",
    "RR_df.tail()"
   ]
  },
  {
   "cell_type": "code",
   "execution_count": 14,
   "id": "c19c5bcb",
   "metadata": {},
   "outputs": [],
   "source": [
    "import heartpy as hp \n",
    "\n",
    "classes = np.array([\"N\",\"S\",\"V\"])\n",
    "\n",
    "patch_length = 350 \n",
    "\n",
    "def convert_to_one_hot(label):\n",
    "    return np.array(classes == label,dtype=np.float32)\n",
    "\n",
    "def create_patch_dataset(df):\n",
    "    \n",
    "    dataset_dict = {}\n",
    "    ids = df['sigId']\n",
    "   \n",
    "    for id in tqdm(ids):\n",
    "        row = df[df['sigId'] == id]\n",
    "        sigId = row['sigId'].values[0]\n",
    "        peaks = row['peaks'].values[0]\n",
    "        first_lead_signal = row['ecg_lead_1'].values[0]\n",
    "        second_lead_signal = row['ecg_lead_2'].values[0]\n",
    "        labels = row['labels'].values[0]\n",
    "        avg_RR = RR_df.loc[sigId]['Avg_RR_distance'] # T for the signal \n",
    "\n",
    "        for i,peak in enumerate(peaks):\n",
    "            \n",
    "            stringIdx = str(sigId)+'_'+str(i)    \n",
    "            dataset_dict[stringIdx] = {}\n",
    "            dataset_dict[stringIdx][\"first_lead\"] = list()\n",
    "            dataset_dict[stringIdx][\"second_lead\"] = list()\n",
    "            size = list(range(int(peak-(avg_RR)),int(peak+avg_RR)))\n",
    "\n",
    "            for s in size:\n",
    "                if(s < 0 or s >= len(first_lead_signal)):\n",
    "                    dataset_dict[stringIdx][\"first_lead\"].append(0.)\n",
    "                    dataset_dict[stringIdx][\"second_lead\"].append(0.)\n",
    "                else:\n",
    "                    dataset_dict[stringIdx][\"first_lead\"].append(first_lead_signal[s])\n",
    "                    dataset_dict[stringIdx][\"second_lead\"].append(second_lead_signal[s])\n",
    "            \n",
    "            first_lead = dataset_dict[stringIdx][\"first_lead\"][:]\n",
    "            second_lead = dataset_dict[stringIdx][\"second_lead\"][:]\n",
    "            \n",
    "            first_lead = resample(first_lead,patch_length)\n",
    "            second_lead = resample(second_lead,patch_length)\n",
    "            \n",
    "            dataset_dict[stringIdx][\"first_lead\"] = first_lead[:]\n",
    "            dataset_dict[stringIdx][\"second_lead\"] = second_lead[:]\n",
    "            \n",
    "            dataset_dict[stringIdx][\"dwt_1\"] = pywt.dwt(first_lead,'db4','constant')\n",
    "            dataset_dict[stringIdx][\"dwt_2\"] = pywt.dwt(second_lead,'db4','constant')\n",
    "            \n",
    "            dataset_dict[stringIdx][\"stringLabel\"] = labels[i]\n",
    "            dataset_dict[stringIdx][\"label\"] = convert_to_one_hot(labels[i])\n",
    "\n",
    "    dataset_df = pd.DataFrame.from_dict(dataset_dict,orient=\"index\")\n",
    "    return dataset_df\n"
   ]
  },
  {
   "cell_type": "code",
   "execution_count": 15,
   "id": "1703e639",
   "metadata": {},
   "outputs": [
    {
     "name": "stderr",
     "output_type": "stream",
     "text": [
      "100%|██████████████████████████████████████████████████████████████████████████████████| 84/84 [00:35<00:00,  2.39it/s]\n",
      "100%|██████████████████████████████████████████████████████████████████████████████████| 21/21 [00:08<00:00,  2.39it/s]\n"
     ]
    }
   ],
   "source": [
    "validation_percentage = 0.2\n",
    "training_df, validation_df = train_test_split(filtered_df,test_size = validation_percentage,random_state=SEED)\n",
    "\n",
    "training_patches_df_ = create_patch_dataset(training_df)\n",
    "validation_patches_df_ = create_patch_dataset(validation_df)"
   ]
  },
  {
   "cell_type": "code",
   "execution_count": 19,
   "id": "c68c6aa4",
   "metadata": {},
   "outputs": [
    {
     "name": "stdout",
     "output_type": "stream",
     "text": [
      "['S097_139', 'S097_579', 'S097_680', 'S097_1487', 'S054_14', 'S054_17', 'S054_19', 'S054_23', 'S054_25', 'S054_29']\n"
     ]
    },
    {
     "data": {
      "image/png": "[encoded data removed]",
      "text/plain": [
       "<Figure size 432x288 with 1 Axes>"
      ]
     },
     "metadata": {
      "needs_background": "light"
     },
     "output_type": "display_data"
    },
    {
     "data": {
      "image/png": "[encoded data removed]",
      "text/plain": [
       "<Figure size 432x288 with 1 Axes>"
      ]
     },
     "metadata": {
      "needs_background": "light"
     },
     "output_type": "display_data"
    },
    {
     "data": {
      "image/png": "[encoded data removed]",
      "text/plain": [
       "<Figure size 432x288 with 1 Axes>"
      ]
     },
     "metadata": {
      "needs_background": "light"
     },
     "output_type": "display_data"
    }
   ],
   "source": [
    "def plot_patch(id):\n",
    "    fig,ax = plt.subplots()\n",
    "    y1 = training_patches_df_.loc[id]['first_lead']\n",
    "    y2 = training_patches_df_.loc[id]['second_lead']\n",
    "    x = list(range(len(y1)))\n",
    "    ax.plot(x,y1,color='green')\n",
    "    plt.show()\n",
    "    \n",
    "ids_V = training_patches_df_.index[training_patches_df_['stringLabel'] == 'V'].tolist()\n",
    "ids_S = training_patches_df_.index[training_patches_df_['stringLabel'] == 'S'].tolist()\n",
    "ids_N = training_patches_df_.index[training_patches_df_['stringLabel'] == 'N'].tolist()\n",
    "print(ids_V[:10])\n",
    "plot_patch(ids_S[10])\n",
    "plot_patch(ids_N[222])\n",
    "plot_patch(ids_V[222])\n"
   ]
  },
  {
   "cell_type": "code",
   "execution_count": 20,
   "id": "16823e23",
   "metadata": {},
   "outputs": [
    {
     "name": "stdout",
     "output_type": "stream",
     "text": [
      "How many training indx: 183323\n",
      "Balancing training...\n",
      "pre drop: 198588\n",
      "post drop:23825\n",
      "43609\n",
      "1091\n",
      "1048\n",
      "Balancing validation\n"
     ]
    },
    {
     "data": {
      "image/png": "[encoded data removed]",
      "text/plain": [
       "<Figure size 432x288 with 2 Axes>"
      ]
     },
     "metadata": {},
     "output_type": "display_data"
    }
   ],
   "source": [
    "training_patches_df = training_patches_df_.copy(deep=True)\n",
    "validation_patches_df = validation_patches_df_.copy(deep=True)\n",
    "\n",
    "training_df.head()\n",
    "\n",
    "training_patients = training_df['sigId']\n",
    "validation_patients = validation_df['sigId']\n",
    "\n",
    "# calculate percentage of heartbeats to drop \n",
    "\n",
    "num_n = len(training_patches_df[(training_patches_df['stringLabel']=='N')])\n",
    "num_s = len(training_patches_df[(training_patches_df['stringLabel']=='S')])\n",
    "num_v = len(training_patches_df[(training_patches_df['stringLabel']=='V')])\n",
    "to_drop = num_n - max(num_s,num_v)\n",
    "perc_to_drop_train = to_drop/(num_n)\n",
    "\n",
    "num_n = len(validation_patches_df[(validation_patches_df['stringLabel']=='N')])\n",
    "num_s = len(validation_patches_df[(validation_patches_df['stringLabel']=='S')])\n",
    "num_v = len(validation_patches_df[(validation_patches_df['stringLabel']=='V')])\n",
    "to_drop = num_n - max(num_s,num_v)\n",
    "perc_to_drop_valid = to_drop/(num_n)\n",
    "\n",
    "train_indexes = training_patches_df.index[training_patches_df['stringLabel'] == 'N'].tolist()\n",
    "valid_indexes = validation_patches_df.index[validation_patches_df['stringLabel'] == 'N'].tolist()\n",
    "\n",
    "print(f\"How many training indx: {len(train_indexes)}\")\n",
    "\n",
    "train_to_drop = list()\n",
    "valid_to_drop = list()\n",
    "lengths = list()\n",
    "dict_train = {}\n",
    "valid_train = {}\n",
    "\n",
    "print(\"Balancing training...\")\n",
    "\n",
    "for p in training_patients:\n",
    "    dict_train[p] = list()\n",
    "\n",
    "for hb in train_indexes:\n",
    "    dict_train[hb.split('_')[0]].append(hb)\n",
    "\n",
    "for p in dict_train:\n",
    "   random.shuffle(dict_train[p])\n",
    "\n",
    "for k in dict_train:\n",
    "    train_to_drop += dict_train[k][:int(len(dict_train[k]) * perc_to_drop_train)]\n",
    "\n",
    "print(f\"pre drop: {len(training_patches_df.index)}\")\n",
    "training_patches_df = training_patches_df.drop(train_to_drop)\n",
    "print(f\"post drop:{len(training_patches_df.index)}\")\n",
    "print(num_n)\n",
    "print(num_s)\n",
    "print(num_v)\n",
    "print(\"Balancing validation\")\n",
    "\n",
    "for p in validation_patients:\n",
    "    valid_train[p] = list()\n",
    "    \n",
    "for hb in valid_indexes:\n",
    "    valid_train[hb.split('_')[0]].append(hb)\n",
    "\n",
    "for p in valid_train:\n",
    "    random.shuffle(valid_train[p])\n",
    "\n",
    "for k in valid_train:\n",
    "    valid_to_drop += valid_train[k][:int(perc_to_drop_valid * len(valid_train[k]))]\n",
    "\n",
    "validation_balanced_patches_df = validation_patches_df.drop(valid_to_drop)\n",
    "\n",
    "\n",
    "training_labels = training_patches_df['stringLabel'].values\n",
    "validation_labels = validation_balanced_patches_df['stringLabel'].values\n",
    "\n",
    "classes = [\"N\",\"S\",\"V\"]\n",
    "\n",
    "training_counts = [0]*3\n",
    "validation_counts = [0]*3\n",
    "\n",
    "for l in training_labels:\n",
    "    training_counts[classes.index(l)] += 1\n",
    "for l in validation_labels:\n",
    "    validation_counts[classes.index(l)] += 1\n",
    "\n",
    "fig1, (ax1,ax2) = plt.subplots(1,2)\n",
    "\n",
    "ax1.pie(training_counts, explode=None, labels=classes, autopct='%1.1f%%',\n",
    "        shadow=False, startangle=90)\n",
    "ax1.axis('equal')  \n",
    "ax2.pie(validation_counts, explode=None, labels=classes, autopct='%1.1f%%',\n",
    "        shadow=False, startangle=90)\n",
    "ax2.axis('equal')  \n",
    "\n",
    "fig1.set_facecolor(\"white\")\n",
    "\n",
    "plt.show()\n"
   ]
  },
  {
   "cell_type": "code",
   "execution_count": 21,
   "id": "58dbcf42",
   "metadata": {},
   "outputs": [],
   "source": [
    "def create_input(df):\n",
    "    \n",
    "    x = list()\n",
    "    y = list()\n",
    "    \n",
    "    for id in tqdm(df.index.tolist()):\n",
    "        row = df.loc[id]\n",
    "        x.append(np.transpose(np.asarray([row['first_lead'],row['second_lead']]).astype(np.float32)))\n",
    "        y.append(row['label'])\n",
    "\n",
    "    x = np.asarray(x).astype(np.float32)\n",
    "    y = np.asarray(y).astype(np.float32)\n",
    "    \n",
    "    return x,y\n",
    "\n",
    "def create_input_DWT(df):\n",
    "    \n",
    "    x = list()\n",
    "    y = list()\n",
    "    \n",
    "    for id in tqdm(df.index.tolist()):\n",
    "        row = df.loc[id]\n",
    "        x.append(np.transpose(np.asarray([row['dwt_1'][0],row['dwt_2'][0]]).astype(np.float32)))\n",
    "        y.append(row['label'])\n",
    "\n",
    "    x = np.asarray(x).astype(np.float32)\n",
    "    y = np.asarray(y).astype(np.float32)\n",
    "    \n",
    "    return x,y"
   ]
  },
  {
   "cell_type": "code",
   "execution_count": 22,
   "id": "ea6b820e",
   "metadata": {},
   "outputs": [
    {
     "name": "stderr",
     "output_type": "stream",
     "text": [
      "100%|█████████████████████████████████████████████████████████████████████████| 23825/23825 [00:01<00:00, 18993.70it/s]\n",
      "100%|███████████████████████████████████████████████████████████████████████████| 3239/3239 [00:00<00:00, 19898.37it/s]\n",
      "100%|█████████████████████████████████████████████████████████████████████████| 45748/45748 [00:02<00:00, 19141.52it/s]\n"
     ]
    }
   ],
   "source": [
    "x_train,y_train = create_input(training_patches_df)\n",
    "x_valid,y_valid = create_input(validation_balanced_patches_df)\n",
    "x_test,y_test = create_input(validation_patches_df)"
   ]
  },
  {
   "cell_type": "code",
   "execution_count": 23,
   "id": "e7a94224",
   "metadata": {},
   "outputs": [
    {
     "name": "stdout",
     "output_type": "stream",
     "text": [
      "training ...\r",
      "KNN trained\n",
      "Scoring:\n"
     ]
    },
    {
     "data": {
      "text/plain": [
       "0.9385328320363732"
      ]
     },
     "execution_count": 23,
     "metadata": {},
     "output_type": "execute_result"
    }
   ],
   "source": [
    "from sklearn.neighbors import KNeighborsClassifier\n",
    "\n",
    "KNN = KNeighborsClassifier(n_neighbors=10,weights='distance',)\n",
    "print(\"training ...\",end=\"\\r\")\n",
    "KNN.fit(x_train[:,:,0],y_train)\n",
    "print(\"KNN trained\",end=\"\\n\")\n",
    "print(\"Scoring:\")\n",
    "KNN.score(x_test[:,:,0],y_test)"
   ]
  },
  {
   "cell_type": "code",
   "execution_count": 24,
   "id": "431f900d",
   "metadata": {},
   "outputs": [
    {
     "name": "stdout",
     "output_type": "stream",
     "text": [
      "              precision    recall  f1-score   support\n",
      "\n",
      "           0       1.00      0.95      0.97     43609\n",
      "           1       0.35      0.73      0.47      1091\n",
      "           2       0.50      0.87      0.64      1048\n",
      "\n",
      "   micro avg       0.94      0.94      0.94     45748\n",
      "   macro avg       0.62      0.85      0.69     45748\n",
      "weighted avg       0.97      0.94      0.95     45748\n",
      " samples avg       0.94      0.94      0.94     45748\n",
      "\n"
     ]
    },
    {
     "name": "stderr",
     "output_type": "stream",
     "text": [
      "C:\\Users\\simon\\anaconda3\\envs\\tf-gpu\\lib\\site-packages\\sklearn\\metrics\\_classification.py:1308: UndefinedMetricWarning: Precision and F-score are ill-defined and being set to 0.0 in samples with no predicted labels. Use `zero_division` parameter to control this behavior.\n",
      "  _warn_prf(average, modifier, msg_start, len(result))\n"
     ]
    }
   ],
   "source": [
    "from sklearn.metrics import classification_report\n",
    "\n",
    "#evaluate\n",
    "y_pred = KNN.predict(x_test[:,:,0])\n",
    "print(classification_report(y_test, y_pred))"
   ]
  },
  {
   "cell_type": "code",
   "execution_count": 25,
   "id": "a35763ca",
   "metadata": {},
   "outputs": [
    {
     "name": "stdout",
     "output_type": "stream",
     "text": [
      "N - S - V\n",
      "[37304, 4863, 1442]\n",
      "[361, 598, 132]\n",
      "[188, 511, 349]\n",
      "N - S - V\n",
      "[0.8554197528033204, 0.11151367836914398, 0.0330665688275356]\n",
      "[0.3308890925756187, 0.5481209899175069, 0.12098991750687443]\n",
      "[0.17938931297709923, 0.48759541984732824, 0.3330152671755725]\n"
     ]
    }
   ],
   "source": [
    "def confusion_matrix(model, x_test, y_test):\n",
    "    conf = [[0,0,0], # first index = true label \n",
    "            [0,0,0], # second index = predicted label\n",
    "            [0,0,0]]\n",
    "    \n",
    "    y_pred = model.predict(x_test[:,:,1])\n",
    "    \n",
    "    for i,y_p in enumerate(y_pred):\n",
    "        y_t = y_test[i]\n",
    "        true_label = np.argmax(y_t)\n",
    "        predicted_label = np.argmax(y_p)\n",
    "        conf[true_label][predicted_label] += 1\n",
    "    \n",
    "    print(\"N - S - V\")\n",
    "    print(conf[0])\n",
    "    print(conf[1])\n",
    "    print(conf[2])\n",
    "    \n",
    "    conf_rel = [[0,0,0], # first index = true label \n",
    "                [0,0,0], # second index = predicted label\n",
    "                [0,0,0]]\n",
    "    \n",
    "    tot_N = sum(conf[0])\n",
    "    tot_S = sum(conf[1])\n",
    "    tot_V = sum(conf[2])\n",
    "    \n",
    "    for i in range(3):\n",
    "        conf_rel[0][i] = conf[0][i] / tot_N\n",
    "        conf_rel[1][i] = conf[1][i] / tot_S\n",
    "        conf_rel[2][i] = conf[2][i] / tot_V\n",
    "    \n",
    "    print(\"N - S - V\")\n",
    "    print(conf_rel[0])\n",
    "    print(conf_rel[1])\n",
    "    print(conf_rel[2])\n",
    "    \n",
    "confusion_matrix(KNN,x_test,y_test)  \n",
    "    "
   ]
  },
  {
   "cell_type": "code",
   "execution_count": 26,
   "id": "561eb0b8",
   "metadata": {},
   "outputs": [
    {
     "name": "stderr",
     "output_type": "stream",
     "text": [
      "100%|█████████████████████████████████████████████████████████████████████████| 23825/23825 [00:01<00:00, 20031.24it/s]\n",
      "100%|███████████████████████████████████████████████████████████████████████████| 3239/3239 [00:00<00:00, 20263.09it/s]\n",
      "100%|█████████████████████████████████████████████████████████████████████████| 45748/45748 [00:02<00:00, 20608.05it/s]\n"
     ]
    },
    {
     "name": "stdout",
     "output_type": "stream",
     "text": [
      "training ...\r",
      "KNN trained\n",
      "Scoring:\n"
     ]
    },
    {
     "data": {
      "text/plain": [
       "0.8505711639394875"
      ]
     },
     "execution_count": 26,
     "metadata": {},
     "output_type": "execute_result"
    }
   ],
   "source": [
    "x_train,y_train = create_input_DWT(training_patches_df)\n",
    "x_valid,y_valid = create_input_DWT(validation_balanced_patches_df)\n",
    "x_test,y_test = create_input_DWT(validation_patches_df)\n",
    "\n",
    "from sklearn.neighbors import KNeighborsClassifier\n",
    "\n",
    "KNN = KNeighborsClassifier(n_neighbors=10,weights='distance',)\n",
    "print(\"training ...\",end=\"\\r\")\n",
    "KNN.fit(x_train[:,:,0],y_train)\n",
    "print(\"KNN trained\",end=\"\\n\")\n",
    "print(\"Scoring:\")\n",
    "KNN.score(x_valid[:,:,0],y_valid)"
   ]
  },
  {
   "cell_type": "code",
   "execution_count": 27,
   "id": "8ba03a55",
   "metadata": {},
   "outputs": [
    {
     "name": "stdout",
     "output_type": "stream",
     "text": [
      "              precision    recall  f1-score   support\n",
      "\n",
      "           0       1.00      0.94      0.97     43609\n",
      "           1       0.35      0.74      0.47      1091\n",
      "           2       0.50      0.87      0.64      1048\n",
      "\n",
      "   micro avg       0.94      0.94      0.94     45748\n",
      "   macro avg       0.62      0.85      0.69     45748\n",
      "weighted avg       0.97      0.94      0.95     45748\n",
      " samples avg       0.94      0.94      0.94     45748\n",
      "\n"
     ]
    },
    {
     "name": "stderr",
     "output_type": "stream",
     "text": [
      "C:\\Users\\simon\\anaconda3\\envs\\tf-gpu\\lib\\site-packages\\sklearn\\metrics\\_classification.py:1308: UndefinedMetricWarning: Precision and F-score are ill-defined and being set to 0.0 in samples with no predicted labels. Use `zero_division` parameter to control this behavior.\n",
      "  _warn_prf(average, modifier, msg_start, len(result))\n"
     ]
    }
   ],
   "source": [
    "from sklearn.metrics import classification_report\n",
    "\n",
    "\n",
    "#evaluate\n",
    "y_pred = KNN.predict(x_test[:,:,0])\n",
    "print(classification_report(y_test, y_pred))"
   ]
  },
  {
   "cell_type": "code",
   "execution_count": 28,
   "id": "d4a3391a",
   "metadata": {},
   "outputs": [
    {
     "ename": "KeyboardInterrupt",
     "evalue": "",
     "output_type": "error",
     "traceback": [
      "\u001b[1;31m---------------------------------------------------------------------------\u001b[0m",
      "\u001b[1;31mKeyboardInterrupt\u001b[0m                         Traceback (most recent call last)",
      "\u001b[1;32m~\\AppData\\Local\\Temp/ipykernel_18372/1548481832.py\u001b[0m in \u001b[0;36m<module>\u001b[1;34m\u001b[0m\n\u001b[0;32m     30\u001b[0m )\n\u001b[0;32m     31\u001b[0m \u001b[1;33m\u001b[0m\u001b[0m\n\u001b[1;32m---> 32\u001b[1;33m \u001b[0mtsf\u001b[0m\u001b[1;33m.\u001b[0m\u001b[0mfit\u001b[0m\u001b[1;33m(\u001b[0m\u001b[0mx_train\u001b[0m\u001b[1;33m[\u001b[0m\u001b[1;33m:\u001b[0m\u001b[1;33m,\u001b[0m\u001b[1;33m:\u001b[0m\u001b[1;33m,\u001b[0m\u001b[1;36m0\u001b[0m\u001b[1;33m]\u001b[0m\u001b[1;33m,\u001b[0m \u001b[0my_train\u001b[0m\u001b[1;33m)\u001b[0m\u001b[1;33m\u001b[0m\u001b[1;33m\u001b[0m\u001b[0m\n\u001b[0m\u001b[0;32m     33\u001b[0m \u001b[1;33m\u001b[0m\u001b[0m\n\u001b[0;32m     34\u001b[0m \u001b[0mtsf\u001b[0m\u001b[1;33m.\u001b[0m\u001b[0mscore\u001b[0m\u001b[1;33m(\u001b[0m\u001b[0mx_test\u001b[0m\u001b[1;33m[\u001b[0m\u001b[1;33m:\u001b[0m\u001b[1;33m,\u001b[0m\u001b[1;33m:\u001b[0m\u001b[1;33m,\u001b[0m\u001b[1;36m0\u001b[0m\u001b[1;33m]\u001b[0m\u001b[1;33m,\u001b[0m \u001b[0my_test\u001b[0m\u001b[1;33m)\u001b[0m\u001b[1;33m\u001b[0m\u001b[1;33m\u001b[0m\u001b[0m\n",
      "\u001b[1;32m~\\anaconda3\\envs\\tf-gpu\\lib\\site-packages\\sktime\\series_as_features\\base\\estimators\\_ensemble.py\u001b[0m in \u001b[0;36mfit\u001b[1;34m(self, X, y, sample_weight)\u001b[0m\n\u001b[0;32m    238\u001b[0m             \u001b[1;31m# However, in this case,for fitting pipelines in parallel,\u001b[0m\u001b[1;33m\u001b[0m\u001b[1;33m\u001b[0m\u001b[0m\n\u001b[0;32m    239\u001b[0m             \u001b[1;31m# multiprocessing is more efficient.\u001b[0m\u001b[1;33m\u001b[0m\u001b[1;33m\u001b[0m\u001b[0m\n\u001b[1;32m--> 240\u001b[1;33m             trees = Parallel(n_jobs=self.n_jobs, verbose=self.verbose)(\n\u001b[0m\u001b[0;32m    241\u001b[0m                 delayed(_parallel_build_trees)(\n\u001b[0;32m    242\u001b[0m                     \u001b[0mt\u001b[0m\u001b[1;33m,\u001b[0m\u001b[1;33m\u001b[0m\u001b[1;33m\u001b[0m\u001b[0m\n",
      "\u001b[1;32m~\\anaconda3\\envs\\tf-gpu\\lib\\site-packages\\joblib\\parallel.py\u001b[0m in \u001b[0;36m__call__\u001b[1;34m(self, iterable)\u001b[0m\n\u001b[0;32m   1054\u001b[0m \u001b[1;33m\u001b[0m\u001b[0m\n\u001b[0;32m   1055\u001b[0m             \u001b[1;32mwith\u001b[0m \u001b[0mself\u001b[0m\u001b[1;33m.\u001b[0m\u001b[0m_backend\u001b[0m\u001b[1;33m.\u001b[0m\u001b[0mretrieval_context\u001b[0m\u001b[1;33m(\u001b[0m\u001b[1;33m)\u001b[0m\u001b[1;33m:\u001b[0m\u001b[1;33m\u001b[0m\u001b[1;33m\u001b[0m\u001b[0m\n\u001b[1;32m-> 1056\u001b[1;33m                 \u001b[0mself\u001b[0m\u001b[1;33m.\u001b[0m\u001b[0mretrieve\u001b[0m\u001b[1;33m(\u001b[0m\u001b[1;33m)\u001b[0m\u001b[1;33m\u001b[0m\u001b[1;33m\u001b[0m\u001b[0m\n\u001b[0m\u001b[0;32m   1057\u001b[0m             \u001b[1;31m# Make sure that we get a last message telling us we are done\u001b[0m\u001b[1;33m\u001b[0m\u001b[1;33m\u001b[0m\u001b[0m\n\u001b[0;32m   1058\u001b[0m             \u001b[0melapsed_time\u001b[0m \u001b[1;33m=\u001b[0m \u001b[0mtime\u001b[0m\u001b[1;33m.\u001b[0m\u001b[0mtime\u001b[0m\u001b[1;33m(\u001b[0m\u001b[1;33m)\u001b[0m \u001b[1;33m-\u001b[0m \u001b[0mself\u001b[0m\u001b[1;33m.\u001b[0m\u001b[0m_start_time\u001b[0m\u001b[1;33m\u001b[0m\u001b[1;33m\u001b[0m\u001b[0m\n",
      "\u001b[1;32m~\\anaconda3\\envs\\tf-gpu\\lib\\site-packages\\joblib\\parallel.py\u001b[0m in \u001b[0;36mretrieve\u001b[1;34m(self)\u001b[0m\n\u001b[0;32m    933\u001b[0m             \u001b[1;32mtry\u001b[0m\u001b[1;33m:\u001b[0m\u001b[1;33m\u001b[0m\u001b[1;33m\u001b[0m\u001b[0m\n\u001b[0;32m    934\u001b[0m                 \u001b[1;32mif\u001b[0m \u001b[0mgetattr\u001b[0m\u001b[1;33m(\u001b[0m\u001b[0mself\u001b[0m\u001b[1;33m.\u001b[0m\u001b[0m_backend\u001b[0m\u001b[1;33m,\u001b[0m \u001b[1;34m'supports_timeout'\u001b[0m\u001b[1;33m,\u001b[0m \u001b[1;32mFalse\u001b[0m\u001b[1;33m)\u001b[0m\u001b[1;33m:\u001b[0m\u001b[1;33m\u001b[0m\u001b[1;33m\u001b[0m\u001b[0m\n\u001b[1;32m--> 935\u001b[1;33m                     \u001b[0mself\u001b[0m\u001b[1;33m.\u001b[0m\u001b[0m_output\u001b[0m\u001b[1;33m.\u001b[0m\u001b[0mextend\u001b[0m\u001b[1;33m(\u001b[0m\u001b[0mjob\u001b[0m\u001b[1;33m.\u001b[0m\u001b[0mget\u001b[0m\u001b[1;33m(\u001b[0m\u001b[0mtimeout\u001b[0m\u001b[1;33m=\u001b[0m\u001b[0mself\u001b[0m\u001b[1;33m.\u001b[0m\u001b[0mtimeout\u001b[0m\u001b[1;33m)\u001b[0m\u001b[1;33m)\u001b[0m\u001b[1;33m\u001b[0m\u001b[1;33m\u001b[0m\u001b[0m\n\u001b[0m\u001b[0;32m    936\u001b[0m                 \u001b[1;32melse\u001b[0m\u001b[1;33m:\u001b[0m\u001b[1;33m\u001b[0m\u001b[1;33m\u001b[0m\u001b[0m\n\u001b[0;32m    937\u001b[0m                     \u001b[0mself\u001b[0m\u001b[1;33m.\u001b[0m\u001b[0m_output\u001b[0m\u001b[1;33m.\u001b[0m\u001b[0mextend\u001b[0m\u001b[1;33m(\u001b[0m\u001b[0mjob\u001b[0m\u001b[1;33m.\u001b[0m\u001b[0mget\u001b[0m\u001b[1;33m(\u001b[0m\u001b[1;33m)\u001b[0m\u001b[1;33m)\u001b[0m\u001b[1;33m\u001b[0m\u001b[1;33m\u001b[0m\u001b[0m\n",
      "\u001b[1;32m~\\anaconda3\\envs\\tf-gpu\\lib\\site-packages\\joblib\\_parallel_backends.py\u001b[0m in \u001b[0;36mwrap_future_result\u001b[1;34m(future, timeout)\u001b[0m\n\u001b[0;32m    540\u001b[0m         AsyncResults.get from multiprocessing.\"\"\"\n\u001b[0;32m    541\u001b[0m         \u001b[1;32mtry\u001b[0m\u001b[1;33m:\u001b[0m\u001b[1;33m\u001b[0m\u001b[1;33m\u001b[0m\u001b[0m\n\u001b[1;32m--> 542\u001b[1;33m             \u001b[1;32mreturn\u001b[0m \u001b[0mfuture\u001b[0m\u001b[1;33m.\u001b[0m\u001b[0mresult\u001b[0m\u001b[1;33m(\u001b[0m\u001b[0mtimeout\u001b[0m\u001b[1;33m=\u001b[0m\u001b[0mtimeout\u001b[0m\u001b[1;33m)\u001b[0m\u001b[1;33m\u001b[0m\u001b[1;33m\u001b[0m\u001b[0m\n\u001b[0m\u001b[0;32m    543\u001b[0m         \u001b[1;32mexcept\u001b[0m \u001b[0mCfTimeoutError\u001b[0m \u001b[1;32mas\u001b[0m \u001b[0me\u001b[0m\u001b[1;33m:\u001b[0m\u001b[1;33m\u001b[0m\u001b[1;33m\u001b[0m\u001b[0m\n\u001b[0;32m    544\u001b[0m             \u001b[1;32mraise\u001b[0m \u001b[0mTimeoutError\u001b[0m \u001b[1;32mfrom\u001b[0m \u001b[0me\u001b[0m\u001b[1;33m\u001b[0m\u001b[1;33m\u001b[0m\u001b[0m\n",
      "\u001b[1;32m~\\anaconda3\\envs\\tf-gpu\\lib\\concurrent\\futures\\_base.py\u001b[0m in \u001b[0;36mresult\u001b[1;34m(self, timeout)\u001b[0m\n\u001b[0;32m    438\u001b[0m                     \u001b[1;32mreturn\u001b[0m \u001b[0mself\u001b[0m\u001b[1;33m.\u001b[0m\u001b[0m__get_result\u001b[0m\u001b[1;33m(\u001b[0m\u001b[1;33m)\u001b[0m\u001b[1;33m\u001b[0m\u001b[1;33m\u001b[0m\u001b[0m\n\u001b[0;32m    439\u001b[0m \u001b[1;33m\u001b[0m\u001b[0m\n\u001b[1;32m--> 440\u001b[1;33m                 \u001b[0mself\u001b[0m\u001b[1;33m.\u001b[0m\u001b[0m_condition\u001b[0m\u001b[1;33m.\u001b[0m\u001b[0mwait\u001b[0m\u001b[1;33m(\u001b[0m\u001b[0mtimeout\u001b[0m\u001b[1;33m)\u001b[0m\u001b[1;33m\u001b[0m\u001b[1;33m\u001b[0m\u001b[0m\n\u001b[0m\u001b[0;32m    441\u001b[0m \u001b[1;33m\u001b[0m\u001b[0m\n\u001b[0;32m    442\u001b[0m                 \u001b[1;32mif\u001b[0m \u001b[0mself\u001b[0m\u001b[1;33m.\u001b[0m\u001b[0m_state\u001b[0m \u001b[1;32min\u001b[0m \u001b[1;33m[\u001b[0m\u001b[0mCANCELLED\u001b[0m\u001b[1;33m,\u001b[0m \u001b[0mCANCELLED_AND_NOTIFIED\u001b[0m\u001b[1;33m]\u001b[0m\u001b[1;33m:\u001b[0m\u001b[1;33m\u001b[0m\u001b[1;33m\u001b[0m\u001b[0m\n",
      "\u001b[1;32m~\\anaconda3\\envs\\tf-gpu\\lib\\threading.py\u001b[0m in \u001b[0;36mwait\u001b[1;34m(self, timeout)\u001b[0m\n\u001b[0;32m    310\u001b[0m         \u001b[1;32mtry\u001b[0m\u001b[1;33m:\u001b[0m    \u001b[1;31m# restore state no matter what (e.g., KeyboardInterrupt)\u001b[0m\u001b[1;33m\u001b[0m\u001b[1;33m\u001b[0m\u001b[0m\n\u001b[0;32m    311\u001b[0m             \u001b[1;32mif\u001b[0m \u001b[0mtimeout\u001b[0m \u001b[1;32mis\u001b[0m \u001b[1;32mNone\u001b[0m\u001b[1;33m:\u001b[0m\u001b[1;33m\u001b[0m\u001b[1;33m\u001b[0m\u001b[0m\n\u001b[1;32m--> 312\u001b[1;33m                 \u001b[0mwaiter\u001b[0m\u001b[1;33m.\u001b[0m\u001b[0macquire\u001b[0m\u001b[1;33m(\u001b[0m\u001b[1;33m)\u001b[0m\u001b[1;33m\u001b[0m\u001b[1;33m\u001b[0m\u001b[0m\n\u001b[0m\u001b[0;32m    313\u001b[0m                 \u001b[0mgotit\u001b[0m \u001b[1;33m=\u001b[0m \u001b[1;32mTrue\u001b[0m\u001b[1;33m\u001b[0m\u001b[1;33m\u001b[0m\u001b[0m\n\u001b[0;32m    314\u001b[0m             \u001b[1;32melse\u001b[0m\u001b[1;33m:\u001b[0m\u001b[1;33m\u001b[0m\u001b[1;33m\u001b[0m\u001b[0m\n",
      "\u001b[1;31mKeyboardInterrupt\u001b[0m: "
     ]
    }
   ],
   "source": [
    "from sklearn.metrics import accuracy_score\n",
    "from sklearn.model_selection import train_test_split\n",
    "from sklearn.pipeline import Pipeline\n",
    "from sklearn.tree import DecisionTreeClassifier\n",
    "\n",
    "from sktime.classification.compose import ComposableTimeSeriesForestClassifier\n",
    "from sktime.datasets import load_arrow_head\n",
    "from sktime.utils.slope_and_trend import _slope\n",
    "\n",
    "from sktime.transformations.panel.summarize import RandomIntervalFeatureExtractor\n",
    "\n",
    "steps = [\n",
    "    (\n",
    "        \"extract\",\n",
    "        RandomIntervalFeatureExtractor(\n",
    "            n_intervals=\"sqrt\", features=[np.mean, np.std, _slope]\n",
    "        ),\n",
    "    ),\n",
    "    (\"clf\", DecisionTreeClassifier()),\n",
    "]\n",
    "time_series_tree = Pipeline(steps)\n",
    "\n",
    "tsf = ComposableTimeSeriesForestClassifier(\n",
    "    estimator=time_series_tree,\n",
    "    n_estimators=500,\n",
    "    bootstrap=True,\n",
    "    oob_score=False,\n",
    "    random_state=SEED,\n",
    "    n_jobs=-1,\n",
    ")\n",
    "\n",
    "tsf.fit(x_train[:,:,0], y_train)\n",
    "\n",
    "tsf.score(x_test[:,:,0], y_test)"
   ]
  },
  {
   "cell_type": "code",
   "execution_count": 27,
   "id": "becb47ec",
   "metadata": {},
   "outputs": [
    {
     "name": "stdout",
     "output_type": "stream",
     "text": [
      "              precision    recall  f1-score   support\n",
      "\n",
      "           0       1.00      0.77      0.87     43609\n",
      "           1       0.17      0.73      0.27      1091\n",
      "           2       0.66      0.88      0.75      1048\n",
      "\n",
      "   micro avg       0.88      0.77      0.82     45748\n",
      "   macro avg       0.61      0.79      0.63     45748\n",
      "weighted avg       0.97      0.77      0.85     45748\n",
      " samples avg       0.77      0.77      0.77     45748\n",
      "\n",
      "[[[ 2051    88]\n",
      "  [ 9984 33625]]\n",
      "\n",
      " [[40622  4035]\n",
      "  [  292   799]]\n",
      "\n",
      " [[44217   483]\n",
      "  [  129   919]]]\n"
     ]
    },
    {
     "name": "stderr",
     "output_type": "stream",
     "text": [
      "C:\\Users\\simon\\anaconda3\\envs\\tf-gpu\\lib\\site-packages\\sklearn\\metrics\\_classification.py:1308: UndefinedMetricWarning: Precision and F-score are ill-defined and being set to 0.0 in samples with no predicted labels. Use `zero_division` parameter to control this behavior.\n",
      "  _warn_prf(average, modifier, msg_start, len(result))\n"
     ]
    }
   ],
   "source": [
    "from sklearn.metrics import multilabel_confusion_matrix\n",
    "\n",
    "y_pred = tsf.predict(x_test[:,:,0])\n",
    "print(classification_report(y_test, y_pred))\n",
    "print(multilabel_confusion_matrix(y_test, y_pred))"
   ]
  },
  {
   "cell_type": "code",
   "execution_count": 29,
   "id": "5c603c36",
   "metadata": {},
   "outputs": [
    {
     "name": "stderr",
     "output_type": "stream",
     "text": [
      "100%|█████████████████████████████████████████████████████████████████████████| 23825/23825 [00:01<00:00, 20479.71it/s]\n",
      "100%|███████████████████████████████████████████████████████████████████████████| 3239/3239 [00:00<00:00, 20495.02it/s]\n",
      "100%|█████████████████████████████████████████████████████████████████████████| 45748/45748 [00:02<00:00, 20682.04it/s]\n"
     ]
    },
    {
     "name": "stdout",
     "output_type": "stream",
     "text": [
      "training ...\r"
     ]
    },
    {
     "ename": "ValueError",
     "evalue": "y should be a 1d array, got an array of shape (23825, 3) instead.",
     "output_type": "error",
     "traceback": [
      "\u001b[1;31m---------------------------------------------------------------------------\u001b[0m",
      "\u001b[1;31mValueError\u001b[0m                                Traceback (most recent call last)",
      "\u001b[1;32m~\\AppData\\Local\\Temp/ipykernel_18372/719960427.py\u001b[0m in \u001b[0;36m<module>\u001b[1;34m\u001b[0m\n\u001b[0;32m     15\u001b[0m \u001b[1;33m\u001b[0m\u001b[0m\n\u001b[0;32m     16\u001b[0m \u001b[0mprint\u001b[0m\u001b[1;33m(\u001b[0m\u001b[1;34m\"training ...\"\u001b[0m\u001b[1;33m,\u001b[0m\u001b[0mend\u001b[0m\u001b[1;33m=\u001b[0m\u001b[1;34m\"\\r\"\u001b[0m\u001b[1;33m)\u001b[0m\u001b[1;33m\u001b[0m\u001b[1;33m\u001b[0m\u001b[0m\n\u001b[1;32m---> 17\u001b[1;33m \u001b[0msv\u001b[0m\u001b[1;33m.\u001b[0m\u001b[0mfit\u001b[0m\u001b[1;33m(\u001b[0m\u001b[0mx_train\u001b[0m\u001b[1;33m[\u001b[0m\u001b[1;33m:\u001b[0m\u001b[1;33m,\u001b[0m\u001b[1;33m:\u001b[0m\u001b[1;33m,\u001b[0m\u001b[1;36m0\u001b[0m\u001b[1;33m]\u001b[0m\u001b[1;33m,\u001b[0m\u001b[0my_train\u001b[0m\u001b[1;33m)\u001b[0m\u001b[1;33m\u001b[0m\u001b[1;33m\u001b[0m\u001b[0m\n\u001b[0m\u001b[0;32m     18\u001b[0m \u001b[0mprint\u001b[0m\u001b[1;33m(\u001b[0m\u001b[1;34m\"KNN trained\"\u001b[0m\u001b[1;33m,\u001b[0m\u001b[0mend\u001b[0m\u001b[1;33m=\u001b[0m\u001b[1;34m\"\\n\"\u001b[0m\u001b[1;33m)\u001b[0m\u001b[1;33m\u001b[0m\u001b[1;33m\u001b[0m\u001b[0m\n\u001b[0;32m     19\u001b[0m \u001b[0mprint\u001b[0m\u001b[1;33m(\u001b[0m\u001b[1;34m\"Scoring:\"\u001b[0m\u001b[1;33m)\u001b[0m\u001b[1;33m\u001b[0m\u001b[1;33m\u001b[0m\u001b[0m\n",
      "\u001b[1;32m~\\anaconda3\\envs\\tf-gpu\\lib\\site-packages\\sklearn\\svm\\_base.py\u001b[0m in \u001b[0;36mfit\u001b[1;34m(self, X, y, sample_weight)\u001b[0m\n\u001b[0;32m    188\u001b[0m             \u001b[0mcheck_consistent_length\u001b[0m\u001b[1;33m(\u001b[0m\u001b[0mX\u001b[0m\u001b[1;33m,\u001b[0m \u001b[0my\u001b[0m\u001b[1;33m)\u001b[0m\u001b[1;33m\u001b[0m\u001b[1;33m\u001b[0m\u001b[0m\n\u001b[0;32m    189\u001b[0m         \u001b[1;32melse\u001b[0m\u001b[1;33m:\u001b[0m\u001b[1;33m\u001b[0m\u001b[1;33m\u001b[0m\u001b[0m\n\u001b[1;32m--> 190\u001b[1;33m             X, y = self._validate_data(\n\u001b[0m\u001b[0;32m    191\u001b[0m                 \u001b[0mX\u001b[0m\u001b[1;33m,\u001b[0m\u001b[1;33m\u001b[0m\u001b[1;33m\u001b[0m\u001b[0m\n\u001b[0;32m    192\u001b[0m                 \u001b[0my\u001b[0m\u001b[1;33m,\u001b[0m\u001b[1;33m\u001b[0m\u001b[1;33m\u001b[0m\u001b[0m\n",
      "\u001b[1;32m~\\anaconda3\\envs\\tf-gpu\\lib\\site-packages\\sklearn\\base.py\u001b[0m in \u001b[0;36m_validate_data\u001b[1;34m(self, X, y, reset, validate_separately, **check_params)\u001b[0m\n\u001b[0;32m    574\u001b[0m                 \u001b[0my\u001b[0m \u001b[1;33m=\u001b[0m \u001b[0mcheck_array\u001b[0m\u001b[1;33m(\u001b[0m\u001b[0my\u001b[0m\u001b[1;33m,\u001b[0m \u001b[1;33m**\u001b[0m\u001b[0mcheck_y_params\u001b[0m\u001b[1;33m)\u001b[0m\u001b[1;33m\u001b[0m\u001b[1;33m\u001b[0m\u001b[0m\n\u001b[0;32m    575\u001b[0m             \u001b[1;32melse\u001b[0m\u001b[1;33m:\u001b[0m\u001b[1;33m\u001b[0m\u001b[1;33m\u001b[0m\u001b[0m\n\u001b[1;32m--> 576\u001b[1;33m                 \u001b[0mX\u001b[0m\u001b[1;33m,\u001b[0m \u001b[0my\u001b[0m \u001b[1;33m=\u001b[0m \u001b[0mcheck_X_y\u001b[0m\u001b[1;33m(\u001b[0m\u001b[0mX\u001b[0m\u001b[1;33m,\u001b[0m \u001b[0my\u001b[0m\u001b[1;33m,\u001b[0m \u001b[1;33m**\u001b[0m\u001b[0mcheck_params\u001b[0m\u001b[1;33m)\u001b[0m\u001b[1;33m\u001b[0m\u001b[1;33m\u001b[0m\u001b[0m\n\u001b[0m\u001b[0;32m    577\u001b[0m             \u001b[0mout\u001b[0m \u001b[1;33m=\u001b[0m \u001b[0mX\u001b[0m\u001b[1;33m,\u001b[0m \u001b[0my\u001b[0m\u001b[1;33m\u001b[0m\u001b[1;33m\u001b[0m\u001b[0m\n\u001b[0;32m    578\u001b[0m \u001b[1;33m\u001b[0m\u001b[0m\n",
      "\u001b[1;32m~\\anaconda3\\envs\\tf-gpu\\lib\\site-packages\\sklearn\\utils\\validation.py\u001b[0m in \u001b[0;36mcheck_X_y\u001b[1;34m(X, y, accept_sparse, accept_large_sparse, dtype, order, copy, force_all_finite, ensure_2d, allow_nd, multi_output, ensure_min_samples, ensure_min_features, y_numeric, estimator)\u001b[0m\n\u001b[0;32m    969\u001b[0m     )\n\u001b[0;32m    970\u001b[0m \u001b[1;33m\u001b[0m\u001b[0m\n\u001b[1;32m--> 971\u001b[1;33m     \u001b[0my\u001b[0m \u001b[1;33m=\u001b[0m \u001b[0m_check_y\u001b[0m\u001b[1;33m(\u001b[0m\u001b[0my\u001b[0m\u001b[1;33m,\u001b[0m \u001b[0mmulti_output\u001b[0m\u001b[1;33m=\u001b[0m\u001b[0mmulti_output\u001b[0m\u001b[1;33m,\u001b[0m \u001b[0my_numeric\u001b[0m\u001b[1;33m=\u001b[0m\u001b[0my_numeric\u001b[0m\u001b[1;33m)\u001b[0m\u001b[1;33m\u001b[0m\u001b[1;33m\u001b[0m\u001b[0m\n\u001b[0m\u001b[0;32m    972\u001b[0m \u001b[1;33m\u001b[0m\u001b[0m\n\u001b[0;32m    973\u001b[0m     \u001b[0mcheck_consistent_length\u001b[0m\u001b[1;33m(\u001b[0m\u001b[0mX\u001b[0m\u001b[1;33m,\u001b[0m \u001b[0my\u001b[0m\u001b[1;33m)\u001b[0m\u001b[1;33m\u001b[0m\u001b[1;33m\u001b[0m\u001b[0m\n",
      "\u001b[1;32m~\\anaconda3\\envs\\tf-gpu\\lib\\site-packages\\sklearn\\utils\\validation.py\u001b[0m in \u001b[0;36m_check_y\u001b[1;34m(y, multi_output, y_numeric)\u001b[0m\n\u001b[0;32m    983\u001b[0m         )\n\u001b[0;32m    984\u001b[0m     \u001b[1;32melse\u001b[0m\u001b[1;33m:\u001b[0m\u001b[1;33m\u001b[0m\u001b[1;33m\u001b[0m\u001b[0m\n\u001b[1;32m--> 985\u001b[1;33m         \u001b[0my\u001b[0m \u001b[1;33m=\u001b[0m \u001b[0mcolumn_or_1d\u001b[0m\u001b[1;33m(\u001b[0m\u001b[0my\u001b[0m\u001b[1;33m,\u001b[0m \u001b[0mwarn\u001b[0m\u001b[1;33m=\u001b[0m\u001b[1;32mTrue\u001b[0m\u001b[1;33m)\u001b[0m\u001b[1;33m\u001b[0m\u001b[1;33m\u001b[0m\u001b[0m\n\u001b[0m\u001b[0;32m    986\u001b[0m         \u001b[0m_assert_all_finite\u001b[0m\u001b[1;33m(\u001b[0m\u001b[0my\u001b[0m\u001b[1;33m)\u001b[0m\u001b[1;33m\u001b[0m\u001b[1;33m\u001b[0m\u001b[0m\n\u001b[0;32m    987\u001b[0m         \u001b[0m_ensure_no_complex_data\u001b[0m\u001b[1;33m(\u001b[0m\u001b[0my\u001b[0m\u001b[1;33m)\u001b[0m\u001b[1;33m\u001b[0m\u001b[1;33m\u001b[0m\u001b[0m\n",
      "\u001b[1;32m~\\anaconda3\\envs\\tf-gpu\\lib\\site-packages\\sklearn\\utils\\validation.py\u001b[0m in \u001b[0;36mcolumn_or_1d\u001b[1;34m(y, warn)\u001b[0m\n\u001b[0;32m   1022\u001b[0m         \u001b[1;32mreturn\u001b[0m \u001b[0mnp\u001b[0m\u001b[1;33m.\u001b[0m\u001b[0mravel\u001b[0m\u001b[1;33m(\u001b[0m\u001b[0my\u001b[0m\u001b[1;33m)\u001b[0m\u001b[1;33m\u001b[0m\u001b[1;33m\u001b[0m\u001b[0m\n\u001b[0;32m   1023\u001b[0m \u001b[1;33m\u001b[0m\u001b[0m\n\u001b[1;32m-> 1024\u001b[1;33m     raise ValueError(\n\u001b[0m\u001b[0;32m   1025\u001b[0m         \u001b[1;34m\"y should be a 1d array, got an array of shape {} instead.\"\u001b[0m\u001b[1;33m.\u001b[0m\u001b[0mformat\u001b[0m\u001b[1;33m(\u001b[0m\u001b[0mshape\u001b[0m\u001b[1;33m)\u001b[0m\u001b[1;33m\u001b[0m\u001b[1;33m\u001b[0m\u001b[0m\n\u001b[0;32m   1026\u001b[0m     )\n",
      "\u001b[1;31mValueError\u001b[0m: y should be a 1d array, got an array of shape (23825, 3) instead."
     ]
    }
   ],
   "source": [
    "from sklearn.svm import SVC\n",
    "\n",
    "x_train,y_train = create_input_DWT(training_patches_df)\n",
    "x_valid,y_valid = create_input_DWT(validation_balanced_patches_df)\n",
    "x_test,y_test = create_input_DWT(validation_patches_df)\n",
    "\n",
    "from sklearn.neighbors import KNeighborsClassifier\n",
    "\n",
    "sv = SVC(C=1.0, kernel='rbf', degree=3, \n",
    "         gamma='scale', coef0=0.0, shrinking=True, \n",
    "         probability=False, tol=0.001, cache_size=200, \n",
    "         class_weight=None, verbose=False, max_iter=- 1, \n",
    "         decision_function_shape='ovr', break_ties=False, \n",
    "         random_state=None)\n",
    "\n",
    "print(\"training ...\",end=\"\\r\")\n",
    "sv.fit(x_train[:,:,0],y_train)\n",
    "print(\"KNN trained\",end=\"\\n\")\n",
    "print(\"Scoring:\")\n",
    "sv.score(x_valid[:,:,0],y_valid)\n",
    "\n",
    "\n",
    "y_pred = sv.predict(x_test[:,:,0])\n",
    "print(classification_report(y_test, y_pred))"
   ]
  },
  {
   "cell_type": "code",
   "execution_count": null,
   "id": "04d81ed1",
   "metadata": {},
   "outputs": [],
   "source": []
  }
 ],
 "metadata": {
  "kernelspec": {
   "display_name": "tf-gpu",
   "language": "python",
   "name": "tf-gpu"
  },
  "language_info": {
   "codemirror_mode": {
    "name": "ipython",
    "version": 3
   },
   "file_extension": ".py",
   "mimetype": "text/x-python",
   "name": "python",
   "nbconvert_exporter": "python",
   "pygments_lexer": "ipython3",
   "version": "3.9.7"
  }
 },
 "nbformat": 4,
 "nbformat_minor": 5
}
