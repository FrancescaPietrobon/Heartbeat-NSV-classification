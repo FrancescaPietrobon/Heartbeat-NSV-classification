{
  "nbformat": 4,
  "nbformat_minor": 0,
  "metadata": {
    "colab": {
      "name": "Copia di Copia di OneVsAll.ipynb",
      "provenance": [],
      "collapsed_sections": []
    },
    "kernelspec": {
      "name": "python3",
      "display_name": "Python 3"
    },
    "language_info": {
      "name": "python"
    },
    "accelerator": "GPU"
  },
  "cells": [
    {
      "cell_type": "code",
      "source": [
        "import os\n",
        "import tensorflow as tf\n",
        "from tensorflow import keras\n",
        "import random\n",
        "import numpy as np\n",
        "import matplotlib.pyplot as plt\n",
        "\n",
        "\n",
        "from keras import layers, Sequential\n",
        "from keras.layers import Input, Add, Dense, Activation, ZeroPadding1D, Flatten, Conv1D, MaxPooling1D, GlobalMaxPooling1D, Dropout\n",
        "from keras.models import Model\n",
        "from keras.preprocessing.sequence import pad_sequences\n",
        "\n",
        "\n",
        "import pandas as pd\n",
        "from scipy.signal import butter, lfilter\n",
        "from scipy import stats\n",
        "from scipy.io import loadmat\n",
        "\n",
        "#import heartpy as hp\n",
        "\n",
        "from sklearn.preprocessing import MaxAbsScaler, StandardScaler\n",
        "from sklearn.model_selection import StratifiedKFold\n",
        "from sklearn.ensemble import RandomForestClassifier\n",
        "from sklearn.utils import compute_class_weight\n",
        "from sklearn.model_selection import train_test_split\n",
        "from sklearn import svm\n",
        "from sklearn.metrics import ConfusionMatrixDisplay\n",
        "from sklearn.metrics import confusion_matrix\n",
        "from sklearn.metrics import classification_report\n",
        "\n",
        "\n",
        "import seaborn as sns\n",
        "\n",
        "\n",
        "import math\n",
        "import random\n",
        "import zipfile  \n",
        "import io\n",
        "from PIL import Image"
      ],
      "metadata": {
        "id": "prMbEDazdWD4"
      },
      "execution_count": null,
      "outputs": []
    },
    {
      "cell_type": "code",
      "source": [
        "SEED = 4224\n",
        "tf.random.set_seed(SEED)\n",
        "np.random.seed(SEED)\n",
        "random.seed(SEED)\n",
        "os.environ['PYTHONHASHSEED'] = str(SEED)"
      ],
      "metadata": {
        "id": "HHVmuq1NdWHu"
      },
      "execution_count": null,
      "outputs": []
    },
    {
      "cell_type": "code",
      "source": [
        "from google.colab import drive\n",
        "drive.mount('/content/drive')\n",
        "cwd = '/content/drive/My Drive/FinalAssignment'\n",
        "os.chdir(cwd)\n",
        "dataset_folder = os.path.join(cwd,'training_set_dir')"
      ],
      "metadata": {
        "colab": {
          "base_uri": "https://localhost:8080/"
        },
        "id": "X4kfRflCdWKP",
        "outputId": "0abb32af-577b-4ea3-d25a-15c830a8bec9"
      },
      "execution_count": null,
      "outputs": [
        {
          "output_type": "stream",
          "name": "stdout",
          "text": [
            "Drive already mounted at /content/drive; to attempt to forcibly remount, call drive.mount(\"/content/drive\", force_remount=True).\n"
          ]
        }
      ]
    },
    {
      "cell_type": "code",
      "source": [
        "#IF local runtime used -> Set os.cwd as google drive volume , mounted locally\n",
        "os.chdir('G:\\Il mio Drive')\n",
        "cwd = os.getcwd()\n",
        "cwd = os.path.join(cwd,'Colab2022/AppliedAI/FinalAssignment')\n",
        "os.chdir(cwd)\n",
        "dataset_folder = os.path.join(cwd,'training_set_dir')"
      ],
      "metadata": {
        "id": "aPkLk_uMQgSO"
      },
      "execution_count": null,
      "outputs": []
    },
    {
      "cell_type": "code",
      "source": [
        "def load_data(sample_prefix, input_dir):    # everything is returned as a numpy array which is easier to manipulate\n",
        "  label_filepath = os.path.join(input_dir, sample_prefix + '_ann.mat')\n",
        "  peak_filepath = os.path.join(input_dir, sample_prefix + '_rpk.mat')\n",
        "  signal_filepath = os.path.join(input_dir, sample_prefix + '.mat')\n",
        "  if os.path.isfile(label_filepath):\n",
        "    mat_file = loadmat(label_filepath)\n",
        "    label = np.asarray(mat_file['labels'])\n",
        "  if os.path.isfile(peak_filepath):\n",
        "    mat_file = loadmat(peak_filepath)\n",
        "    peak = np.asarray(mat_file['rpeaks'])\n",
        "  if os.path.isfile(signal_filepath):\n",
        "    mat_file = loadmat(signal_filepath)\n",
        "    signal = np.asarray(mat_file['ecg'] )\n",
        "\n",
        "  return label, peak, signal\n",
        "\n",
        "  \n",
        "labels = list()             # labels \n",
        "ids = list()                # Id of samples \n",
        "rpeaks = list()             # detected peaks of the signal \n",
        "ecg_signals = list()        # .mat ecg signal \n",
        "frequencies = list()        # sample frequency of the ecg signal \n",
        "\n",
        "\n",
        "for f in os.listdir(dataset_folder):\n",
        "  if f.lower().endswith('.mat'):\n",
        "    id = f[:4]\n",
        "    if id not in ids:\n",
        "      ids.append(id)\n",
        "      sample_prefix = f[:8]\n",
        "      label, peak, signal = load_data(sample_prefix, dataset_folder)\n",
        "      labels.append(label)\n",
        "      rpeaks.append(peak)\n",
        "      ecg_signals.append(signal)\n",
        "      frequencies.append(int(sample_prefix[5:]))\n",
        "\n",
        "print(len(rpeaks))\n",
        "print(len(rpeaks[0]))"
      ],
      "metadata": {
        "colab": {
          "base_uri": "https://localhost:8080/"
        },
        "id": "Db3TeR-xdWM3",
        "outputId": "df49b953-6052-45de-edc9-8b1baca03f8a"
      },
      "execution_count": null,
      "outputs": [
        {
          "output_type": "stream",
          "name": "stdout",
          "text": [
            "105\n",
            "2731\n"
          ]
        }
      ]
    },
    {
      "cell_type": "code",
      "source": [
        "cols = [\"sigId\",\"ecg_lead_1\",\"ecg_lead_2\",\"peaks\",\"frequencies\",\"labels\"]\n",
        "\n",
        "# ecg signals is 105 rows [,,,,,]\n",
        "\n",
        "first_lead_signals = []\n",
        "second_lead_signals = []\n",
        "\n",
        "for signal in ecg_signals:\n",
        "    first_lead_signals.append(signal[:,0].tolist())    # converting the array to list as list of array is deprecated \n",
        "    second_lead_signals.append(signal[:,1].tolist())\n",
        "\n",
        "df = pd.DataFrame(data =[ids,first_lead_signals,second_lead_signals,rpeaks,frequencies,labels]).T\n",
        "df.columns = cols\n",
        "df"
      ],
      "metadata": {
        "colab": {
          "base_uri": "https://localhost:8080/",
          "height": 423
        },
        "id": "gIf4FYjXdWPf",
        "outputId": "a929adee-1c25-45f6-82aa-788b1d4a6ada"
      },
      "execution_count": null,
      "outputs": [
        {
          "output_type": "execute_result",
          "data": {
            "text/plain": [
              "    sigId                                         ecg_lead_1  \\\n",
              "0    S010  [1.56, 0.92, 0.28, -0.36, -0.29, -0.2, -0.19, ...   \n",
              "1    S009  [0.27, 0.57, 0.36, -0.28, -0.39, -0.32, -0.37,...   \n",
              "2    S008  [0.405, 0.42, 0.415, 0.43, 0.415, 0.41, 0.445,...   \n",
              "3    S007  [0.145, 0.125, 0.145, 0.145, 0.145, 0.145, 0.1...   \n",
              "4    S006  [0.33, 0.31, 0.32, 0.28, 0.25, 0.22, 0.15, 0.1...   \n",
              "..    ...                                                ...   \n",
              "100  S110  [0.065, 0.03, 0.01, 0.01, 0.01, 0.015, 0.035, ...   \n",
              "101  S107  [0.275, 0.275, 0.275, 0.28, 0.285, 0.305, 0.32...   \n",
              "102  S108  [0.105, 0.1, 0.1, 0.1, 0.1, 0.1, 0.1, 0.1, 0.1...   \n",
              "103  S109  [0.19, 0.195, 0.22, 0.25, 0.25, 0.255, 0.245, ...   \n",
              "104  S106  [-0.03, -0.015, 0.0, 0.0, 0.005, 0.03, 0.055, ...   \n",
              "\n",
              "                                            ecg_lead_2  \\\n",
              "0    [-5.12, -4.485, -3.85, -3.215, -2.58, -1.945, ...   \n",
              "1    [-0.43, -0.93, -1.48, -1.36, -0.82, -0.36, -0....   \n",
              "2    [-0.32, -0.345, -0.325, -0.37, -0.385, -0.42, ...   \n",
              "3    [-0.635, -0.745, -0.735, -0.695, -0.685, -0.68...   \n",
              "4    [0.27, 0.24, 0.23, 0.18, 0.16, 0.14, 0.09, 0.0...   \n",
              "..                                                 ...   \n",
              "100  [0.035, 0.03, 0.025, 0.01, -0.005, -0.01, -0.0...   \n",
              "101  [0.405, 0.42, 0.435, 0.445, 0.455, 0.465, 0.47...   \n",
              "102  [0.115, 0.115, 0.115, 0.115, 0.115, 0.115, 0.1...   \n",
              "103  [-0.01, -0.015, -0.025, -0.045, -0.04, -0.05, ...   \n",
              "104  [-0.115, -0.09, -0.07, -0.06, -0.045, -0.045, ...   \n",
              "\n",
              "                                                 peaks frequencies  \\\n",
              "0    [[96], [169], [268], [360], [427], [539], [634...         128   \n",
              "1    [[105], [205], [262], [410], [510], [611], [66...         128   \n",
              "2    [[71], [153], [232], [280], [367], [419], [537...         128   \n",
              "3    [[49], [129], [216], [298], [380], [466], [550...         128   \n",
              "4    [[67], [170], [278], [386], [492], [602], [662...         128   \n",
              "..                                                 ...         ...   \n",
              "100  [[113], [259], [473], [615], [793], [961], [11...         250   \n",
              "101  [[209], [449], [681], [913], [1145], [1373], [...         250   \n",
              "102  [[354], [543], [739], [934], [1129], [1327], [...         250   \n",
              "103  [[55], [269], [497], [729], [963], [1203], [14...         250   \n",
              "104  [[127], [293], [461], [626], [790], [954], [11...         250   \n",
              "\n",
              "                                                labels  \n",
              "0    [N, V, N, N, V, N, N, V, N, N, V, N, N, V, N, ...  \n",
              "1    [N, N, V, N, N, N, V, N, N, N, V, N, N, N, V, ...  \n",
              "2    [N, N, N, S, N, S, N, N, S, N, N, S, N, V, N, ...  \n",
              "3    [N, N, N, N, N, N, N, N, N, N, N, N, N, N, N, ...  \n",
              "4    [N, N, N, N, N, N, V, N, V, N, V, N, V, N, V, ...  \n",
              "..                                                 ...  \n",
              "100  [N, N, N, N, N, N, N, N, N, N, N, N, N, N, N, ...  \n",
              "101  [N, N, N, N, N, N, N, N, N, N, N, N, N, N, N, ...  \n",
              "102  [N, N, N, N, N, N, N, N, N, N, N, N, N, N, N, ...  \n",
              "103  [N, N, N, N, N, N, N, N, N, N, N, N, N, N, N, ...  \n",
              "104  [N, N, N, N, N, N, N, N, N, N, N, N, N, N, N, ...  \n",
              "\n",
              "[105 rows x 6 columns]"
            ],
            "text/html": [
              "<div>\n",
              "<style scoped>\n",
              "    .dataframe tbody tr th:only-of-type {\n",
              "        vertical-align: middle;\n",
              "    }\n",
              "\n",
              "    .dataframe tbody tr th {\n",
              "        vertical-align: top;\n",
              "    }\n",
              "\n",
              "    .dataframe thead th {\n",
              "        text-align: right;\n",
              "    }\n",
              "</style>\n",
              "<table border=\"1\" class=\"dataframe\">\n",
              "  <thead>\n",
              "    <tr style=\"text-align: right;\">\n",
              "      <th></th>\n",
              "      <th>sigId</th>\n",
              "      <th>ecg_lead_1</th>\n",
              "      <th>ecg_lead_2</th>\n",
              "      <th>peaks</th>\n",
              "      <th>frequencies</th>\n",
              "      <th>labels</th>\n",
              "    </tr>\n",
              "  </thead>\n",
              "  <tbody>\n",
              "    <tr>\n",
              "      <th>0</th>\n",
              "      <td>S010</td>\n",
              "      <td>[1.56, 0.92, 0.28, -0.36, -0.29, -0.2, -0.19, ...</td>\n",
              "      <td>[-5.12, -4.485, -3.85, -3.215, -2.58, -1.945, ...</td>\n",
              "      <td>[[96], [169], [268], [360], [427], [539], [634...</td>\n",
              "      <td>128</td>\n",
              "      <td>[N, V, N, N, V, N, N, V, N, N, V, N, N, V, N, ...</td>\n",
              "    </tr>\n",
              "    <tr>\n",
              "      <th>1</th>\n",
              "      <td>S009</td>\n",
              "      <td>[0.27, 0.57, 0.36, -0.28, -0.39, -0.32, -0.37,...</td>\n",
              "      <td>[-0.43, -0.93, -1.48, -1.36, -0.82, -0.36, -0....</td>\n",
              "      <td>[[105], [205], [262], [410], [510], [611], [66...</td>\n",
              "      <td>128</td>\n",
              "      <td>[N, N, V, N, N, N, V, N, N, N, V, N, N, N, V, ...</td>\n",
              "    </tr>\n",
              "    <tr>\n",
              "      <th>2</th>\n",
              "      <td>S008</td>\n",
              "      <td>[0.405, 0.42, 0.415, 0.43, 0.415, 0.41, 0.445,...</td>\n",
              "      <td>[-0.32, -0.345, -0.325, -0.37, -0.385, -0.42, ...</td>\n",
              "      <td>[[71], [153], [232], [280], [367], [419], [537...</td>\n",
              "      <td>128</td>\n",
              "      <td>[N, N, N, S, N, S, N, N, S, N, N, S, N, V, N, ...</td>\n",
              "    </tr>\n",
              "    <tr>\n",
              "      <th>3</th>\n",
              "      <td>S007</td>\n",
              "      <td>[0.145, 0.125, 0.145, 0.145, 0.145, 0.145, 0.1...</td>\n",
              "      <td>[-0.635, -0.745, -0.735, -0.695, -0.685, -0.68...</td>\n",
              "      <td>[[49], [129], [216], [298], [380], [466], [550...</td>\n",
              "      <td>128</td>\n",
              "      <td>[N, N, N, N, N, N, N, N, N, N, N, N, N, N, N, ...</td>\n",
              "    </tr>\n",
              "    <tr>\n",
              "      <th>4</th>\n",
              "      <td>S006</td>\n",
              "      <td>[0.33, 0.31, 0.32, 0.28, 0.25, 0.22, 0.15, 0.1...</td>\n",
              "      <td>[0.27, 0.24, 0.23, 0.18, 0.16, 0.14, 0.09, 0.0...</td>\n",
              "      <td>[[67], [170], [278], [386], [492], [602], [662...</td>\n",
              "      <td>128</td>\n",
              "      <td>[N, N, N, N, N, N, V, N, V, N, V, N, V, N, V, ...</td>\n",
              "    </tr>\n",
              "    <tr>\n",
              "      <th>...</th>\n",
              "      <td>...</td>\n",
              "      <td>...</td>\n",
              "      <td>...</td>\n",
              "      <td>...</td>\n",
              "      <td>...</td>\n",
              "      <td>...</td>\n",
              "    </tr>\n",
              "    <tr>\n",
              "      <th>100</th>\n",
              "      <td>S110</td>\n",
              "      <td>[0.065, 0.03, 0.01, 0.01, 0.01, 0.015, 0.035, ...</td>\n",
              "      <td>[0.035, 0.03, 0.025, 0.01, -0.005, -0.01, -0.0...</td>\n",
              "      <td>[[113], [259], [473], [615], [793], [961], [11...</td>\n",
              "      <td>250</td>\n",
              "      <td>[N, N, N, N, N, N, N, N, N, N, N, N, N, N, N, ...</td>\n",
              "    </tr>\n",
              "    <tr>\n",
              "      <th>101</th>\n",
              "      <td>S107</td>\n",
              "      <td>[0.275, 0.275, 0.275, 0.28, 0.285, 0.305, 0.32...</td>\n",
              "      <td>[0.405, 0.42, 0.435, 0.445, 0.455, 0.465, 0.47...</td>\n",
              "      <td>[[209], [449], [681], [913], [1145], [1373], [...</td>\n",
              "      <td>250</td>\n",
              "      <td>[N, N, N, N, N, N, N, N, N, N, N, N, N, N, N, ...</td>\n",
              "    </tr>\n",
              "    <tr>\n",
              "      <th>102</th>\n",
              "      <td>S108</td>\n",
              "      <td>[0.105, 0.1, 0.1, 0.1, 0.1, 0.1, 0.1, 0.1, 0.1...</td>\n",
              "      <td>[0.115, 0.115, 0.115, 0.115, 0.115, 0.115, 0.1...</td>\n",
              "      <td>[[354], [543], [739], [934], [1129], [1327], [...</td>\n",
              "      <td>250</td>\n",
              "      <td>[N, N, N, N, N, N, N, N, N, N, N, N, N, N, N, ...</td>\n",
              "    </tr>\n",
              "    <tr>\n",
              "      <th>103</th>\n",
              "      <td>S109</td>\n",
              "      <td>[0.19, 0.195, 0.22, 0.25, 0.25, 0.255, 0.245, ...</td>\n",
              "      <td>[-0.01, -0.015, -0.025, -0.045, -0.04, -0.05, ...</td>\n",
              "      <td>[[55], [269], [497], [729], [963], [1203], [14...</td>\n",
              "      <td>250</td>\n",
              "      <td>[N, N, N, N, N, N, N, N, N, N, N, N, N, N, N, ...</td>\n",
              "    </tr>\n",
              "    <tr>\n",
              "      <th>104</th>\n",
              "      <td>S106</td>\n",
              "      <td>[-0.03, -0.015, 0.0, 0.0, 0.005, 0.03, 0.055, ...</td>\n",
              "      <td>[-0.115, -0.09, -0.07, -0.06, -0.045, -0.045, ...</td>\n",
              "      <td>[[127], [293], [461], [626], [790], [954], [11...</td>\n",
              "      <td>250</td>\n",
              "      <td>[N, N, N, N, N, N, N, N, N, N, N, N, N, N, N, ...</td>\n",
              "    </tr>\n",
              "  </tbody>\n",
              "</table>\n",
              "<p>105 rows × 6 columns</p>\n",
              "</div>"
            ]
          },
          "metadata": {},
          "execution_count": 8
        }
      ]
    },
    {
      "cell_type": "code",
      "source": [
        "def convert_one_vs_rest(label):\n",
        "  df = np.zeros(len(label))\n",
        "  for i in range(len(label)):\n",
        "    if label[i] == 'S':\n",
        "      df[i] = 1\n",
        "    elif label[i] == 'V':\n",
        "      df[i] = 2\n",
        "  return df\n",
        "\n",
        "convert_one_vs_rest(labels[3])"
      ],
      "metadata": {
        "colab": {
          "base_uri": "https://localhost:8080/"
        },
        "id": "3neKQuXMSube",
        "outputId": "7d90380d-577b-4e4d-9d62-15cd74cd4cc4"
      },
      "execution_count": null,
      "outputs": [
        {
          "output_type": "execute_result",
          "data": {
            "text/plain": [
              "array([0., 0., 0., ..., 0., 0., 0.])"
            ]
          },
          "metadata": {},
          "execution_count": 9
        }
      ]
    },
    {
      "cell_type": "code",
      "source": [
        "# dataset needs to be created because we need to classify beats and not the entire signal \n",
        "\n",
        "dataset = dict()\n",
        "length = 510    # length of each signal, centered at the considered peak\n",
        "counter = 0\n",
        "\n",
        "\n",
        "for l,id in enumerate(ids):\n",
        "    print(f\"{l}/{len(ids)}\",end='\\r')\n",
        "    for i,peak in enumerate(rpeaks[l]):\n",
        "        \n",
        "        dataset[id+\"_\"+str(i)] = {}\n",
        "        dataset[id+\"_\"+str(i)][\"first_lead\"] = list()\n",
        "        dataset[id+\"_\"+str(i)][\"second_lead\"] = list()\n",
        "\n",
        "        for s in range(int(peak-length/2),int(peak+length/2)):\n",
        "\n",
        "            if(s < 0 or s >= len(first_lead_signals[l])):   # padding with 0\n",
        "                dataset[id+\"_\"+str(i)][\"first_lead\"].append(0.) \n",
        "                dataset[id+\"_\"+str(i)][\"second_lead\"].append(0.) \n",
        "            else:\n",
        "                dataset[id+\"_\"+str(i)][\"first_lead\"].append(first_lead_signals[l][s])\n",
        "                dataset[id+\"_\"+str(i)][\"second_lead\"].append(first_lead_signals[l][s])\n",
        "\n",
        "        dataset[id+\"_\"+str(i)][\"stringLabel\"] = labels[l][i]\n",
        "        dataset[id+\"_\"+str(i)][\"label\"] = convert_one_vs_rest(labels[l][i])\n",
        "    \n",
        "print(\"complete\")\n",
        "\n",
        "dataset_df = pd.DataFrame.from_dict(dataset,orient=\"index\") # create the dataframe from dictionary \n",
        "\n",
        "dataset_df"
      ],
      "metadata": {
        "colab": {
          "base_uri": "https://localhost:8080/",
          "height": 441
        },
        "id": "3zE3bLhUTJp5",
        "outputId": "54c9059e-083f-4ef9-dc5d-7ca055c1d387"
      },
      "execution_count": null,
      "outputs": [
        {
          "output_type": "stream",
          "name": "stdout",
          "text": [
            "complete\n"
          ]
        },
        {
          "output_type": "execute_result",
          "data": {
            "text/plain": [
              "                                                 first_lead  \\\n",
              "S010_0    [0.0, 0.0, 0.0, 0.0, 0.0, 0.0, 0.0, 0.0, 0.0, ...   \n",
              "S010_1    [0.0, 0.0, 0.0, 0.0, 0.0, 0.0, 0.0, 0.0, 0.0, ...   \n",
              "S010_2    [-0.26, -0.27, -0.19, -0.39, -0.08, -0.39, -0....   \n",
              "S010_3    [-0.49, -0.38, -0.35, -0.32, -0.41, -0.23, -0....   \n",
              "S010_4    [0.925, 0.285, -0.355, -0.6, -0.5, -0.6, -0.84...   \n",
              "...                                                     ...   \n",
              "S106_586  [0.52, 0.485, 0.44, 0.4, 0.36, 0.345, 0.33, 0....   \n",
              "S106_587  [0.43, 0.445, 0.445, 0.435, 0.425, 0.405, 0.38...   \n",
              "S106_588  [0.295, 0.325, 0.355, 0.37, 0.355, 0.335, 0.31...   \n",
              "S106_589  [0.53, 0.535, 0.52, 0.505, 0.475, 0.435, 0.38,...   \n",
              "S106_590  [0.525, 0.495, 0.46, 0.42, 0.38, 0.35, 0.32, 0...   \n",
              "\n",
              "                                                second_lead stringLabel  label  \n",
              "S010_0    [0.0, 0.0, 0.0, 0.0, 0.0, 0.0, 0.0, 0.0, 0.0, ...           N  [0.0]  \n",
              "S010_1    [0.0, 0.0, 0.0, 0.0, 0.0, 0.0, 0.0, 0.0, 0.0, ...           V  [2.0]  \n",
              "S010_2    [-0.26, -0.27, -0.19, -0.39, -0.08, -0.39, -0....           N  [0.0]  \n",
              "S010_3    [-0.49, -0.38, -0.35, -0.32, -0.41, -0.23, -0....           N  [0.0]  \n",
              "S010_4    [0.925, 0.285, -0.355, -0.6, -0.5, -0.6, -0.84...           V  [2.0]  \n",
              "...                                                     ...         ...    ...  \n",
              "S106_586  [0.52, 0.485, 0.44, 0.4, 0.36, 0.345, 0.33, 0....           N  [0.0]  \n",
              "S106_587  [0.43, 0.445, 0.445, 0.435, 0.425, 0.405, 0.38...           N  [0.0]  \n",
              "S106_588  [0.295, 0.325, 0.355, 0.37, 0.355, 0.335, 0.31...           N  [0.0]  \n",
              "S106_589  [0.53, 0.535, 0.52, 0.505, 0.475, 0.435, 0.38,...           N  [0.0]  \n",
              "S106_590  [0.525, 0.495, 0.46, 0.42, 0.38, 0.35, 0.32, 0...           N  [0.0]  \n",
              "\n",
              "[244336 rows x 4 columns]"
            ],
            "text/html": [
              "<div>\n",
              "<style scoped>\n",
              "    .dataframe tbody tr th:only-of-type {\n",
              "        vertical-align: middle;\n",
              "    }\n",
              "\n",
              "    .dataframe tbody tr th {\n",
              "        vertical-align: top;\n",
              "    }\n",
              "\n",
              "    .dataframe thead th {\n",
              "        text-align: right;\n",
              "    }\n",
              "</style>\n",
              "<table border=\"1\" class=\"dataframe\">\n",
              "  <thead>\n",
              "    <tr style=\"text-align: right;\">\n",
              "      <th></th>\n",
              "      <th>first_lead</th>\n",
              "      <th>second_lead</th>\n",
              "      <th>stringLabel</th>\n",
              "      <th>label</th>\n",
              "    </tr>\n",
              "  </thead>\n",
              "  <tbody>\n",
              "    <tr>\n",
              "      <th>S010_0</th>\n",
              "      <td>[0.0, 0.0, 0.0, 0.0, 0.0, 0.0, 0.0, 0.0, 0.0, ...</td>\n",
              "      <td>[0.0, 0.0, 0.0, 0.0, 0.0, 0.0, 0.0, 0.0, 0.0, ...</td>\n",
              "      <td>N</td>\n",
              "      <td>[0.0]</td>\n",
              "    </tr>\n",
              "    <tr>\n",
              "      <th>S010_1</th>\n",
              "      <td>[0.0, 0.0, 0.0, 0.0, 0.0, 0.0, 0.0, 0.0, 0.0, ...</td>\n",
              "      <td>[0.0, 0.0, 0.0, 0.0, 0.0, 0.0, 0.0, 0.0, 0.0, ...</td>\n",
              "      <td>V</td>\n",
              "      <td>[2.0]</td>\n",
              "    </tr>\n",
              "    <tr>\n",
              "      <th>S010_2</th>\n",
              "      <td>[-0.26, -0.27, -0.19, -0.39, -0.08, -0.39, -0....</td>\n",
              "      <td>[-0.26, -0.27, -0.19, -0.39, -0.08, -0.39, -0....</td>\n",
              "      <td>N</td>\n",
              "      <td>[0.0]</td>\n",
              "    </tr>\n",
              "    <tr>\n",
              "      <th>S010_3</th>\n",
              "      <td>[-0.49, -0.38, -0.35, -0.32, -0.41, -0.23, -0....</td>\n",
              "      <td>[-0.49, -0.38, -0.35, -0.32, -0.41, -0.23, -0....</td>\n",
              "      <td>N</td>\n",
              "      <td>[0.0]</td>\n",
              "    </tr>\n",
              "    <tr>\n",
              "      <th>S010_4</th>\n",
              "      <td>[0.925, 0.285, -0.355, -0.6, -0.5, -0.6, -0.84...</td>\n",
              "      <td>[0.925, 0.285, -0.355, -0.6, -0.5, -0.6, -0.84...</td>\n",
              "      <td>V</td>\n",
              "      <td>[2.0]</td>\n",
              "    </tr>\n",
              "    <tr>\n",
              "      <th>...</th>\n",
              "      <td>...</td>\n",
              "      <td>...</td>\n",
              "      <td>...</td>\n",
              "      <td>...</td>\n",
              "    </tr>\n",
              "    <tr>\n",
              "      <th>S106_586</th>\n",
              "      <td>[0.52, 0.485, 0.44, 0.4, 0.36, 0.345, 0.33, 0....</td>\n",
              "      <td>[0.52, 0.485, 0.44, 0.4, 0.36, 0.345, 0.33, 0....</td>\n",
              "      <td>N</td>\n",
              "      <td>[0.0]</td>\n",
              "    </tr>\n",
              "    <tr>\n",
              "      <th>S106_587</th>\n",
              "      <td>[0.43, 0.445, 0.445, 0.435, 0.425, 0.405, 0.38...</td>\n",
              "      <td>[0.43, 0.445, 0.445, 0.435, 0.425, 0.405, 0.38...</td>\n",
              "      <td>N</td>\n",
              "      <td>[0.0]</td>\n",
              "    </tr>\n",
              "    <tr>\n",
              "      <th>S106_588</th>\n",
              "      <td>[0.295, 0.325, 0.355, 0.37, 0.355, 0.335, 0.31...</td>\n",
              "      <td>[0.295, 0.325, 0.355, 0.37, 0.355, 0.335, 0.31...</td>\n",
              "      <td>N</td>\n",
              "      <td>[0.0]</td>\n",
              "    </tr>\n",
              "    <tr>\n",
              "      <th>S106_589</th>\n",
              "      <td>[0.53, 0.535, 0.52, 0.505, 0.475, 0.435, 0.38,...</td>\n",
              "      <td>[0.53, 0.535, 0.52, 0.505, 0.475, 0.435, 0.38,...</td>\n",
              "      <td>N</td>\n",
              "      <td>[0.0]</td>\n",
              "    </tr>\n",
              "    <tr>\n",
              "      <th>S106_590</th>\n",
              "      <td>[0.525, 0.495, 0.46, 0.42, 0.38, 0.35, 0.32, 0...</td>\n",
              "      <td>[0.525, 0.495, 0.46, 0.42, 0.38, 0.35, 0.32, 0...</td>\n",
              "      <td>N</td>\n",
              "      <td>[0.0]</td>\n",
              "    </tr>\n",
              "  </tbody>\n",
              "</table>\n",
              "<p>244336 rows × 4 columns</p>\n",
              "</div>"
            ]
          },
          "metadata": {},
          "execution_count": 10
        }
      ]
    },
    {
      "cell_type": "code",
      "source": [
        "dataset_df = dataset_df[:125000]\n",
        "\n",
        "ids_n = dataset_df.index[dataset_df['stringLabel'] == 'N'].tolist() \n",
        "ids_v = dataset_df.index[dataset_df['stringLabel'] == 'V'].tolist() \n",
        "ids_s = dataset_df.index[dataset_df['stringLabel'] == 'S'].tolist() \n",
        "\n",
        "print(f\"N: {len(ids_n)}\")\n",
        "print(f\"V: {len(ids_v)}\")\n",
        "print(f\"S: {len(ids_s)}\")\n",
        "\n",
        "classes = [\"N\",\"S\",\"V\"]\n",
        "counts = [len(ids_n),len(ids_s),len(ids_v)]\n",
        "\n",
        "fig1, ax1 = plt.subplots()\n",
        "ax1.pie(counts, explode=None, labels=classes, autopct='%1.1f%%',\n",
        "        shadow=False, startangle=90)\n",
        "ax1.axis('equal')  # Equal aspect ratio ensures that pie is drawn as a circle.\n",
        "fig1.set_facecolor(\"white\")\n",
        "plt.show()"
      ],
      "metadata": {
        "colab": {
          "base_uri": "https://localhost:8080/",
          "height": 304
        },
        "id": "txzrfLLLb1_J",
        "outputId": "73dca88b-bb1e-42cb-b2ba-914e39608d49"
      },
      "execution_count": null,
      "outputs": [
        {
          "output_type": "stream",
          "name": "stdout",
          "text": [
            "N: 110848\n",
            "V: 6107\n",
            "S: 8045\n"
          ]
        },
        {
          "output_type": "display_data",
          "data": {
            "image/png": "[encoded data removed]",
            "text/plain": [
              "<Figure size 432x288 with 1 Axes>"
            ]
          },
          "metadata": {}
        }
      ]
    },
    {
      "cell_type": "code",
      "source": [
        "ids_n = dataset_df.index[dataset_df['label'] == 0].tolist() \n",
        "ids_v = dataset_df.index[dataset_df['label'] == 2].tolist() \n",
        "ids_s = dataset_df.index[dataset_df['label'] == 1].tolist() \n",
        "\n",
        "print(f\"N: {len(ids_n)}\")\n",
        "print(f\"V: {len(ids_v)}\")\n",
        "print(f\"S: {len(ids_s)}\")\n",
        "\n",
        "classes = [\"N\",\"S\",\"V\"]\n",
        "counts = [len(ids_n),len(ids_s),len(ids_v)]\n",
        "\n",
        "fig1, ax1 = plt.subplots()\n",
        "ax1.pie(counts, explode=None, labels=classes, autopct='%1.1f%%',\n",
        "        shadow=False, startangle=90)\n",
        "ax1.axis('equal')  # Equal aspect ratio ensures that pie is drawn as a circle.\n",
        "fig1.set_facecolor(\"white\")\n",
        "plt.show()"
      ],
      "metadata": {
        "colab": {
          "base_uri": "https://localhost:8080/",
          "height": 304
        },
        "id": "39oXyxPlW0I8",
        "outputId": "19683009-691c-46f6-c8ef-e1d29bd911e6"
      },
      "execution_count": null,
      "outputs": [
        {
          "output_type": "stream",
          "name": "stdout",
          "text": [
            "N: 110848\n",
            "V: 6107\n",
            "S: 8045\n"
          ]
        },
        {
          "output_type": "display_data",
          "data": {
            "image/png": "[encoded data removed]",
            "text/plain": [
              "<Figure size 432x288 with 1 Axes>"
            ]
          },
          "metadata": {}
        }
      ]
    },
    {
      "cell_type": "code",
      "source": [
        "from sklearn.model_selection import train_test_split\n",
        "\n",
        "test_percentage = 0.2\n",
        "\n",
        "train_val_df, test_df = train_test_split(dataset_df, test_size=test_percentage)"
      ],
      "metadata": {
        "id": "81H9ac90l5za"
      },
      "execution_count": null,
      "outputs": []
    },
    {
      "cell_type": "code",
      "source": [
        "validation_percentage = 0.2\n",
        "\n",
        "train_df, validation_df = train_test_split(train_val_df, test_size=validation_percentage)\n",
        "\n",
        "# Training set\n",
        "\n",
        "x_train_ = train_df[['first_lead','second_lead']].values\n",
        "\n",
        "x_train_first_lead = list()\n",
        "x_train_second_lead = list()\n",
        "\n",
        "for k in x_train_:\n",
        "  x_train_first_lead.append(np.array(k[0]).astype(np.float32))\n",
        "  x_train_second_lead.append(np.array(k[1]).astype(np.float32))\n",
        "x_train_first_lead = np.asarray(x_train_first_lead).astype(np.float32)\n",
        "x_train_second_lead = np.asarray(x_train_second_lead).astype(np.float32)\n",
        "\n",
        "x_train = np.zeros((x_train_first_lead.shape[0], x_train_first_lead.shape[1], 2))\n",
        "x_train[:,:,0] = x_train_first_lead\n",
        "x_train[:,:,1] = x_train_second_lead\n",
        "\n",
        "y_train = train_df['label'].values.tolist()\n",
        "y_train = np.asarray(y_train).astype(np.float32)\n",
        "y_train[y_train==2] = 1\n",
        "\n",
        "\n",
        "# Validation set\n",
        "\n",
        "x_valid_ = validation_df[['first_lead','second_lead']].values\n",
        "\n",
        "x_valid_first_lead = list()\n",
        "x_valid_second_lead = list()\n",
        "\n",
        "for k in x_valid_:\n",
        "  x_valid_first_lead.append(np.array(k[0]).astype(np.float32))\n",
        "  x_valid_second_lead.append(np.array(k[1]).astype(np.float32))\n",
        "x_valid_first_lead = np.asarray(x_valid_first_lead).astype(np.float32)\n",
        "x_valid_second_lead = np.asarray(x_valid_second_lead).astype(np.float32)\n",
        "\n",
        "x_valid = np.zeros((x_valid_first_lead.shape[0], x_valid_first_lead.shape[1], 2))\n",
        "x_valid[:,:,0] = x_valid_first_lead\n",
        "x_valid[:,:,1] = x_valid_second_lead\n",
        "\n",
        "y_valid = validation_df['label'].values.tolist()\n",
        "y_valid = np.asarray(y_valid).astype(np.float32)\n",
        "y_valid[y_valid==2] = 1\n",
        "\n",
        "print(f\"samples available for training: {len(x_train)}\")\n",
        "print(f\"samples available for validation: {len(x_valid)}\")"
      ],
      "metadata": {
        "colab": {
          "base_uri": "https://localhost:8080/"
        },
        "id": "vAd307VZMIqM",
        "outputId": "1e04dd52-c0b0-473c-910b-878eae0a89cf"
      },
      "execution_count": null,
      "outputs": [
        {
          "output_type": "stream",
          "name": "stdout",
          "text": [
            "samples available for training: 156374\n",
            "samples available for validation: 39094\n"
          ]
        }
      ]
    },
    {
      "cell_type": "code",
      "source": [
        "# count classes for training\n",
        "\n",
        "ids_n = train_df.index[train_df['stringLabel'] == 'N'].tolist() \n",
        "ids_rest = train_df.index[train_df['stringLabel'] != 'N'].tolist() \n",
        "\n",
        "print(f\"N: {len(ids_n)}\")\n",
        "print(f\"V: {len(ids_rest)}\")\n",
        "\n",
        "classes = [\"N\",\"Rest\"]\n",
        "counts = [len(ids_n),len(ids_rest)]\n",
        "\n",
        "fig1, ax1 = plt.subplots()\n",
        "ax1.pie(counts, explode=None, labels=classes, autopct='%1.1f%%',\n",
        "        shadow=False, startangle=90)\n",
        "ax1.axis('equal')  # Equal aspect ratio ensures that pie is drawn as a circle.\n",
        "fig1.set_facecolor(\"white\")\n",
        "plt.show()"
      ],
      "metadata": {
        "colab": {
          "base_uri": "https://localhost:8080/",
          "height": 283
        },
        "id": "2aYjSr9ecp9X",
        "outputId": "6c0a986e-560b-45a5-af1f-0ab49d69293a"
      },
      "execution_count": null,
      "outputs": [
        {
          "output_type": "stream",
          "name": "stdout",
          "text": [
            "N: 71018\n",
            "V: 8982\n"
          ]
        },
        {
          "output_type": "display_data",
          "data": {
            "image/png": "[encoded data removed]",
            "text/plain": [
              "<Figure size 432x288 with 1 Axes>"
            ]
          },
          "metadata": {}
        }
      ]
    },
    {
      "cell_type": "code",
      "source": [
        "# count classes for validation\n",
        "\n",
        "ids_n = validation_df.index[validation_df['stringLabel'] == 'N'].tolist() \n",
        "ids_rest = validation_df.index[validation_df['stringLabel'] != 'N'].tolist() \n",
        "\n",
        "print(f\"N: {len(ids_n)}\")\n",
        "print(f\"V: {len(ids_rest)}\")\n",
        "\n",
        "classes = [\"N\",\"Rest\"]\n",
        "counts = [len(ids_n),len(ids_rest)]\n",
        "\n",
        "fig1, ax1 = plt.subplots()\n",
        "ax1.pie(counts, explode=None, labels=classes, autopct='%1.1f%%',\n",
        "        shadow=False, startangle=90)\n",
        "ax1.axis('equal')  # Equal aspect ratio ensures that pie is drawn as a circle.\n",
        "fig1.set_facecolor(\"white\")\n",
        "plt.show()"
      ],
      "metadata": {
        "colab": {
          "base_uri": "https://localhost:8080/",
          "height": 286
        },
        "id": "cF2QhryBcqvX",
        "outputId": "d41ac09f-50dc-498c-b042-60f5c8a8d11d"
      },
      "execution_count": null,
      "outputs": [
        {
          "output_type": "stream",
          "name": "stdout",
          "text": [
            "N: 36350\n",
            "V: 2744\n"
          ]
        },
        {
          "output_type": "display_data",
          "data": {
            "text/plain": [
              "<Figure size 432x288 with 1 Axes>"
            ],
            "image/png": "[encoded data removed]"
          },
          "metadata": {}
        }
      ]
    },
    {
      "cell_type": "code",
      "source": [
        "def plot_confusion_matrix(y_true, y_pred):\n",
        "  \"\"\"\n",
        "    :param ndarray y_true: contains the ground truth labels in the shape (n_samples,)\n",
        "    :param ndarray y_pred: contains the predicted labels in the shape (n_samples,)\n",
        "  \"\"\"\n",
        "  con_mat = tf.math.confusion_matrix(labels=np.squeeze(y_true), predictions=np.rint(np.squeeze(y_pred))).numpy()\n",
        "  con_mat_norm = np.around(con_mat.astype('float') / con_mat.sum(axis=1)[:, np.newaxis], decimals=2)\n",
        "  con_mat_df = pd.DataFrame(con_mat_norm,\n",
        "                  index = classes, \n",
        "                  columns = classes)\n",
        "  figure = plt.figure(figsize=(8, 8))\n",
        "  sns.heatmap(con_mat_df, annot=True,cmap=plt.cm.Blues)\n",
        "  plt.tight_layout()\n",
        "  plt.ylabel('True label')\n",
        "  plt.xlabel('Predicted label')\n",
        "  plt.show()"
      ],
      "metadata": {
        "id": "fR6vyQJ5d_Ye"
      },
      "execution_count": null,
      "outputs": []
    },
    {
      "cell_type": "markdown",
      "source": [
        "# Models"
      ],
      "metadata": {
        "id": "zkjG7BpQeCBW"
      }
    },
    {
      "cell_type": "markdown",
      "source": [
        "### N vs Rest"
      ],
      "metadata": {
        "id": "EZNQotzyXMDD"
      }
    },
    {
      "cell_type": "code",
      "source": [
        "timesteps = length\n",
        "channels_num = 2\n",
        "\n",
        "input = keras.layers.Input(shape=(timesteps, channels_num))\n",
        "\n",
        "conv1 = keras.layers.Conv1D(filters=32,kernel_size=25,activation=\"relu\")(input)\n",
        "maxPool1 = keras.layers.MaxPool1D(pool_size=2)(conv1)\n",
        "dropout1 = keras.layers.Dropout(0.05)(maxPool1)\n",
        "conv2 = keras.layers.Conv1D(filters=64,kernel_size=12,activation=\"relu\")(dropout1)\n",
        "maxPool2 = keras.layers.MaxPool1D(pool_size=2)(conv2)\n",
        "dropout2 = keras.layers.Dropout(0.1)(maxPool2)\n",
        "conv3 = keras.layers.Conv1D(filters=128,kernel_size=9,activation=\"relu\")(dropout2)\n",
        "maxPool3 = keras.layers.MaxPool1D(pool_size=2)(conv3)\n",
        "dropout3 = keras.layers.Dropout(0.15)(maxPool3)\n",
        "lstm1 = keras.layers.LSTM(64, return_sequences=True)(dropout3)\n",
        "lstm2 = keras.layers.LSTM(64, return_sequences=False)(lstm1)\n",
        "output = keras.layers.Dense(1, activation=tf.nn.sigmoid)(lstm2)\n",
        "model = keras.models.Model(inputs=input, outputs=output)\n",
        "\n",
        "model.summary()"
      ],
      "metadata": {
        "colab": {
          "base_uri": "https://localhost:8080/"
        },
        "id": "1h1MehtkeDMm",
        "outputId": "ec2f7c4c-5877-47cc-c965-4929dad463ba"
      },
      "execution_count": null,
      "outputs": [
        {
          "output_type": "stream",
          "name": "stdout",
          "text": [
            "Model: \"model\"\n",
            "_________________________________________________________________\n",
            " Layer (type)                Output Shape              Param #   \n",
            "=================================================================\n",
            " input_1 (InputLayer)        [(None, 510, 2)]          0         \n",
            "                                                                 \n",
            " conv1d (Conv1D)             (None, 486, 32)           1632      \n",
            "                                                                 \n",
            " max_pooling1d (MaxPooling1D  (None, 243, 32)          0         \n",
            " )                                                               \n",
            "                                                                 \n",
            " dropout (Dropout)           (None, 243, 32)           0         \n",
            "                                                                 \n",
            " conv1d_1 (Conv1D)           (None, 232, 64)           24640     \n",
            "                                                                 \n",
            " max_pooling1d_1 (MaxPooling  (None, 116, 64)          0         \n",
            " 1D)                                                             \n",
            "                                                                 \n",
            " dropout_1 (Dropout)         (None, 116, 64)           0         \n",
            "                                                                 \n",
            " conv1d_2 (Conv1D)           (None, 108, 128)          73856     \n",
            "                                                                 \n",
            " max_pooling1d_2 (MaxPooling  (None, 54, 128)          0         \n",
            " 1D)                                                             \n",
            "                                                                 \n",
            " dropout_2 (Dropout)         (None, 54, 128)           0         \n",
            "                                                                 \n",
            " lstm (LSTM)                 (None, 54, 64)            49408     \n",
            "                                                                 \n",
            " lstm_1 (LSTM)               (None, 64)                33024     \n",
            "                                                                 \n",
            " dense (Dense)               (None, 1)                 65        \n",
            "                                                                 \n",
            "=================================================================\n",
            "Total params: 182,625\n",
            "Trainable params: 182,625\n",
            "Non-trainable params: 0\n",
            "_________________________________________________________________\n"
          ]
        }
      ]
    },
    {
      "cell_type": "code",
      "source": [
        "callback = keras.callbacks.EarlyStopping(monitor='val_loss', patience=10,mode=\"auto\", restore_best_weights=True)\n",
        "\n",
        "batch_size = 128\n",
        "learning_rate = 1e-7\n",
        "model.compile(\n",
        "    optimizer = 'adam',\n",
        "    loss = 'binary_crossentropy',\n",
        "    metrics = ['accuracy'],\n",
        "    \n",
        ")\n",
        "\n",
        "history = model.fit(\n",
        "    x = x_train,\n",
        "    y = y_train, \n",
        "    batch_size = batch_size,\n",
        "    steps_per_epoch=len(x_train)/batch_size,\n",
        "    validation_data=(x_valid, y_valid),\n",
        "    epochs = 50,\n",
        "    shuffle = True,\n",
        "    callbacks=[callback],\n",
        ").history\n",
        "\n",
        "\n",
        "y_pred = model.predict(x_valid)\n",
        "\n",
        "plot_confusion_matrix(y_valid, y_pred)"
      ],
      "metadata": {
        "colab": {
          "base_uri": "https://localhost:8080/",
          "height": 772
        },
        "id": "LJLUo590rR7R",
        "outputId": "ce31cc39-60c9-4a59-c700-c4033be6e695"
      },
      "execution_count": null,
      "outputs": [
        {
          "output_type": "stream",
          "name": "stdout",
          "text": [
            "Epoch 1/50\n",
            "1221/1221 [==============================] - 27s 21ms/step - loss: 0.0226 - accuracy: 0.9915 - val_loss: 0.0310 - val_accuracy: 0.9903\n",
            "Epoch 2/50\n",
            "1221/1221 [==============================] - 24s 20ms/step - loss: 0.0216 - accuracy: 0.9919 - val_loss: 0.0316 - val_accuracy: 0.9900\n",
            "Epoch 3/50\n",
            "1221/1221 [==============================] - 24s 20ms/step - loss: 0.0210 - accuracy: 0.9921 - val_loss: 0.0299 - val_accuracy: 0.9900\n",
            "Epoch 4/50\n",
            "1221/1221 [==============================] - 24s 20ms/step - loss: 0.0202 - accuracy: 0.9924 - val_loss: 0.0310 - val_accuracy: 0.9903\n",
            "Epoch 5/50\n",
            "1221/1221 [==============================] - 24s 20ms/step - loss: 0.0208 - accuracy: 0.9921 - val_loss: 0.0309 - val_accuracy: 0.9897\n",
            "Epoch 6/50\n",
            "1221/1221 [==============================] - 25s 20ms/step - loss: 0.0205 - accuracy: 0.9922 - val_loss: 0.0323 - val_accuracy: 0.9902\n",
            "Epoch 7/50\n",
            "1221/1221 [==============================] - 24s 20ms/step - loss: 0.0196 - accuracy: 0.9928 - val_loss: 0.0301 - val_accuracy: 0.9897\n",
            "Epoch 8/50\n",
            "1221/1221 [==============================] - 24s 20ms/step - loss: 0.0190 - accuracy: 0.9931 - val_loss: 0.0310 - val_accuracy: 0.9899\n",
            "Epoch 9/50\n",
            "1221/1221 [==============================] - 24s 20ms/step - loss: 0.0188 - accuracy: 0.9929 - val_loss: 0.0334 - val_accuracy: 0.9893\n",
            "Epoch 10/50\n",
            "1221/1221 [==============================] - 25s 20ms/step - loss: 0.0182 - accuracy: 0.9932 - val_loss: 0.0313 - val_accuracy: 0.9904\n",
            "Epoch 11/50\n",
            "1221/1221 [==============================] - 24s 20ms/step - loss: 0.0180 - accuracy: 0.9932 - val_loss: 0.0320 - val_accuracy: 0.9897\n",
            "Epoch 12/50\n",
            "1221/1221 [==============================] - 24s 20ms/step - loss: 0.0174 - accuracy: 0.9935 - val_loss: 0.0324 - val_accuracy: 0.9901\n",
            "Epoch 13/50\n",
            "1221/1221 [==============================] - 24s 20ms/step - loss: 0.0167 - accuracy: 0.9937 - val_loss: 0.0356 - val_accuracy: 0.9891\n"
          ]
        },
        {
          "output_type": "error",
          "ename": "NameError",
          "evalue": "ignored",
          "traceback": [
            "\u001b[1;31m---------------------------------------------------------------------------\u001b[0m",
            "\u001b[1;31mNameError\u001b[0m                                 Traceback (most recent call last)",
            "\u001b[1;32m<ipython-input-16-e68541a886a4>\u001b[0m in \u001b[0;36m<module>\u001b[1;34m\u001b[0m\n\u001b[0;32m     24\u001b[0m \u001b[0my_pred\u001b[0m \u001b[1;33m=\u001b[0m \u001b[0mmodel\u001b[0m\u001b[1;33m.\u001b[0m\u001b[0mpredict\u001b[0m\u001b[1;33m(\u001b[0m\u001b[0mx_valid\u001b[0m\u001b[1;33m)\u001b[0m\u001b[1;33m\u001b[0m\u001b[1;33m\u001b[0m\u001b[0m\n\u001b[0;32m     25\u001b[0m \u001b[1;33m\u001b[0m\u001b[0m\n\u001b[1;32m---> 26\u001b[1;33m \u001b[0mplot_confusion_matrix\u001b[0m\u001b[1;33m(\u001b[0m\u001b[0my_valid\u001b[0m\u001b[1;33m,\u001b[0m \u001b[0my_pred\u001b[0m\u001b[1;33m)\u001b[0m\u001b[1;33m\u001b[0m\u001b[1;33m\u001b[0m\u001b[0m\n\u001b[0m",
            "\u001b[1;32m<ipython-input-13-9ef3d969d09a>\u001b[0m in \u001b[0;36mplot_confusion_matrix\u001b[1;34m(y_true, y_pred)\u001b[0m\n\u001b[0;32m      7\u001b[0m   \u001b[0mcon_mat_norm\u001b[0m \u001b[1;33m=\u001b[0m \u001b[0mnp\u001b[0m\u001b[1;33m.\u001b[0m\u001b[0maround\u001b[0m\u001b[1;33m(\u001b[0m\u001b[0mcon_mat\u001b[0m\u001b[1;33m.\u001b[0m\u001b[0mastype\u001b[0m\u001b[1;33m(\u001b[0m\u001b[1;34m'float'\u001b[0m\u001b[1;33m)\u001b[0m \u001b[1;33m/\u001b[0m \u001b[0mcon_mat\u001b[0m\u001b[1;33m.\u001b[0m\u001b[0msum\u001b[0m\u001b[1;33m(\u001b[0m\u001b[0maxis\u001b[0m\u001b[1;33m=\u001b[0m\u001b[1;36m1\u001b[0m\u001b[1;33m)\u001b[0m\u001b[1;33m[\u001b[0m\u001b[1;33m:\u001b[0m\u001b[1;33m,\u001b[0m \u001b[0mnp\u001b[0m\u001b[1;33m.\u001b[0m\u001b[0mnewaxis\u001b[0m\u001b[1;33m]\u001b[0m\u001b[1;33m,\u001b[0m \u001b[0mdecimals\u001b[0m\u001b[1;33m=\u001b[0m\u001b[1;36m2\u001b[0m\u001b[1;33m)\u001b[0m\u001b[1;33m\u001b[0m\u001b[1;33m\u001b[0m\u001b[0m\n\u001b[0;32m      8\u001b[0m   con_mat_df = pd.DataFrame(con_mat_norm,\n\u001b[1;32m----> 9\u001b[1;33m                   \u001b[0mindex\u001b[0m \u001b[1;33m=\u001b[0m \u001b[0mclasses\u001b[0m\u001b[1;33m,\u001b[0m\u001b[1;33m\u001b[0m\u001b[1;33m\u001b[0m\u001b[0m\n\u001b[0m\u001b[0;32m     10\u001b[0m                   columns = classes)\n\u001b[0;32m     11\u001b[0m   \u001b[0mfigure\u001b[0m \u001b[1;33m=\u001b[0m \u001b[0mplt\u001b[0m\u001b[1;33m.\u001b[0m\u001b[0mfigure\u001b[0m\u001b[1;33m(\u001b[0m\u001b[0mfigsize\u001b[0m\u001b[1;33m=\u001b[0m\u001b[1;33m(\u001b[0m\u001b[1;36m8\u001b[0m\u001b[1;33m,\u001b[0m \u001b[1;36m8\u001b[0m\u001b[1;33m)\u001b[0m\u001b[1;33m)\u001b[0m\u001b[1;33m\u001b[0m\u001b[1;33m\u001b[0m\u001b[0m\n",
            "\u001b[1;31mNameError\u001b[0m: name 'classes' is not defined"
          ]
        }
      ]
    },
    {
      "cell_type": "code",
      "source": [
        "y_pred = model.predict(x_valid)\n",
        "\n",
        "plot_confusion_matrix(y_valid, y_pred)"
      ],
      "metadata": {
        "id": "_tRyq8mjU8BX",
        "outputId": "c981420d-be39-4d8a-8f81-7249be6aa459",
        "colab": {
          "base_uri": "https://localhost:8080/",
          "height": 599
        }
      },
      "execution_count": null,
      "outputs": [
        {
          "output_type": "display_data",
          "data": {
            "text/plain": [
              "<Figure size 576x576 with 2 Axes>"
            ],
            "image/png": "[encoded data removed]"
          },
          "metadata": {
            "needs_background": "light"
          }
        }
      ]
    },
    {
      "cell_type": "code",
      "source": [
        "tf.math.confusion_matrix(labels=np.squeeze(y_valid), predictions=np.rint(np.squeeze(y_pred))).numpy()"
      ],
      "metadata": {
        "colab": {
          "base_uri": "https://localhost:8080/"
        },
        "id": "LwSA3FqJuAne",
        "outputId": "fb4660fc-19e1-4912-d005-af09af2ab0a5"
      },
      "execution_count": null,
      "outputs": [
        {
          "output_type": "execute_result",
          "data": {
            "text/plain": [
              "array([[17617,   112],\n",
              "       [  203,  2068]], dtype=int32)"
            ]
          },
          "metadata": {},
          "execution_count": 18
        }
      ]
    },
    {
      "cell_type": "code",
      "source": [
        "eval = model.evaluate(x=x_valid,y=y_valid,batch_size = 1)"
      ],
      "metadata": {
        "id": "9F0EeK1meiH_",
        "colab": {
          "base_uri": "https://localhost:8080/"
        },
        "outputId": "522366da-5b55-487e-fdf9-cde0abb863ae"
      },
      "execution_count": null,
      "outputs": [
        {
          "output_type": "stream",
          "name": "stdout",
          "text": [
            "39094/39094 [==============================] - 266s 7ms/step - loss: 0.0299 - accuracy: 0.9900\n"
          ]
        }
      ]
    },
    {
      "cell_type": "code",
      "source": [
        "fig,(ax1,ax2) = plt.subplots(1,2)\n",
        "\n",
        "x = range(len(history['loss']))\n",
        "# loss\n",
        "y_train = history['loss']\n",
        "y_valid = history['val_loss']\n",
        "ax2.set_title(\"Loss\")\n",
        "ax1.plot(x,y_train,label=\"training\")\n",
        "ax1.plot(x,y_valid,label=\"validation\")\n",
        "ax1.legend()\n",
        "# accuracy \n",
        "y_train = history['accuracy']\n",
        "y_valid = history['val_accuracy']\n",
        "ax2.set_title(\"Accuracy\")\n",
        "ax2.plot(x,y_train,label=\"training\")\n",
        "ax2.plot(x,y_valid,label=\"validation\")\n",
        "ax2.legend()\n",
        "\n",
        "fig.set_size_inches(18.5, 10.5)\n",
        "plt.show()"
      ],
      "metadata": {
        "id": "Iwjy4OlieiK-",
        "colab": {
          "base_uri": "https://localhost:8080/",
          "height": 635
        },
        "outputId": "6e42e72c-bbe7-41cd-f5f7-68e971d7b861"
      },
      "execution_count": null,
      "outputs": [
        {
          "output_type": "display_data",
          "data": {
            "text/plain": [
              "<Figure size 1332x756 with 2 Axes>"
            ],
            "image/png": "[encoded data removed]"
          },
          "metadata": {
            "needs_background": "light"
          }
        }
      ]
    },
    {
      "cell_type": "markdown",
      "source": [
        "### S vs V (discarding N)"
      ],
      "metadata": {
        "id": "PegBNED5XQ-7"
      }
    },
    {
      "cell_type": "code",
      "source": [
        "x_ = train_val_df[['first_lead','second_lead']].values\n",
        "\n",
        "x_first_lead = list()\n",
        "x_second_lead = list()\n",
        "\n",
        "for k in x_:\n",
        "  x_first_lead.append(np.array(k[0]).astype(np.float32))\n",
        "  x_second_lead.append(np.array(k[1]).astype(np.float32))\n",
        "x_first_lead = np.asarray(x_first_lead).astype(np.float32)\n",
        "x_second_lead = np.asarray(x_second_lead).astype(np.float32)\n",
        "\n",
        "x = np.zeros((x_first_lead.shape[0], x_first_lead.shape[1], 2))\n",
        "x[:,:,0] = x_first_lead\n",
        "x[:,:,1] = x_second_lead\n",
        "\n",
        "y = train_val_df['label'].values.tolist()\n",
        "y = np.asarray(y).astype(np.int)"
      ],
      "metadata": {
        "id": "fYAuKiNgH9vx"
      },
      "execution_count": null,
      "outputs": []
    },
    {
      "cell_type": "code",
      "source": [
        "np.histogram(y)"
      ],
      "metadata": {
        "colab": {
          "base_uri": "https://localhost:8080/"
        },
        "id": "6DAGx81BaOJO",
        "outputId": "316dc57c-ec42-437a-caf4-eb91e7ca466b"
      },
      "execution_count": null,
      "outputs": [
        {
          "output_type": "execute_result",
          "data": {
            "text/plain": [
              "(array([88747,     0,     0,     0,     0,  6391,     0,     0,     0,\n",
              "         4862]),\n",
              " array([0. , 0.2, 0.4, 0.6, 0.8, 1. , 1.2, 1.4, 1.6, 1.8, 2. ]))"
            ]
          },
          "metadata": {},
          "execution_count": 22
        }
      ]
    },
    {
      "cell_type": "code",
      "source": [
        "# eval = model.evaluate(x=x,y=y,batch_size = 1)"
      ],
      "metadata": {
        "id": "KXIolFYoL3q0"
      },
      "execution_count": null,
      "outputs": []
    },
    {
      "cell_type": "code",
      "source": [
        "y_red = y[y!=0] # Remove 'N' and consider the rest\n",
        "\n",
        "len(y_red)"
      ],
      "metadata": {
        "colab": {
          "base_uri": "https://localhost:8080/"
        },
        "id": "DT-aUxWvOwMJ",
        "outputId": "c858d5bc-3162-48de-cd16-04e212ad531b"
      },
      "execution_count": null,
      "outputs": [
        {
          "output_type": "execute_result",
          "data": {
            "text/plain": [
              "13933"
            ]
          },
          "metadata": {},
          "execution_count": 22
        }
      ]
    },
    {
      "cell_type": "code",
      "source": [
        "np.histogram(y)"
      ],
      "metadata": {
        "colab": {
          "base_uri": "https://localhost:8080/"
        },
        "id": "lDi5KIN7dzzL",
        "outputId": "8c8c0781-758d-4abf-90d5-c5420bb76a4b"
      },
      "execution_count": null,
      "outputs": [
        {
          "output_type": "execute_result",
          "data": {
            "text/plain": [
              "(array([88747,     0,     0,     0,     0,  6391,     0,     0,     0,\n",
              "         4862]),\n",
              " array([0. , 0.2, 0.4, 0.6, 0.8, 1. , 1.2, 1.4, 1.6, 1.8, 2. ]))"
            ]
          },
          "metadata": {},
          "execution_count": 25
        }
      ]
    },
    {
      "cell_type": "code",
      "source": [
        "x_red = x[np.squeeze(y)!=0]\n",
        "x_red.shape"
      ],
      "metadata": {
        "colab": {
          "base_uri": "https://localhost:8080/"
        },
        "id": "qCFX_fe-Nmd5",
        "outputId": "36289a2d-884b-4a75-ab83-c1f6ab73941e"
      },
      "execution_count": null,
      "outputs": [
        {
          "output_type": "execute_result",
          "data": {
            "text/plain": [
              "(13933, 510, 2)"
            ]
          },
          "metadata": {},
          "execution_count": 23
        }
      ]
    },
    {
      "cell_type": "code",
      "source": [
        "validation_percentage = 0.2\n",
        "\n",
        "x_red_train, x_red_valid, y_red_train, y_red_valid = train_test_split(x_red, y_red, test_size=validation_percentage)\n",
        "\n",
        "print(f\"samples available for training: {len(x_red_train)}\")\n",
        "print(f\"samples available for validation: {len(x_red_valid)}\")"
      ],
      "metadata": {
        "colab": {
          "base_uri": "https://localhost:8080/"
        },
        "id": "nHJ447ZcPgjR",
        "outputId": "77cd99c4-7953-4025-9455-1bc919c25cf7"
      },
      "execution_count": null,
      "outputs": [
        {
          "output_type": "stream",
          "name": "stdout",
          "text": [
            "samples available for training: 11146\n",
            "samples available for validation: 2787\n"
          ]
        }
      ]
    },
    {
      "cell_type": "code",
      "source": [
        "# count classes for training\n",
        "\n",
        "ids_s = x_red_train[y_red_train == 1].tolist() \n",
        "ids_v = x_red_train[y_red_train == 2].tolist() \n",
        "\n",
        "print(f\"S: {len(ids_s)}\")\n",
        "print(f\"V: {len(ids_v)}\")\n",
        "\n",
        "classes = [\"S\",\"V\"]\n",
        "counts = [len(ids_s),len(ids_v)]\n",
        "\n",
        "fig1, ax1 = plt.subplots()\n",
        "ax1.pie(counts, explode=None, labels=classes, autopct='%1.1f%%',\n",
        "        shadow=False, startangle=90)\n",
        "ax1.axis('equal')  # Equal aspect ratio ensures that pie is drawn as a circle.\n",
        "fig1.set_facecolor(\"white\")\n",
        "plt.show()"
      ],
      "metadata": {
        "colab": {
          "base_uri": "https://localhost:8080/",
          "height": 282
        },
        "id": "C5x2F0Aa27rW",
        "outputId": "23c6b0f1-f88d-4ccc-debd-a955c64ba7fe"
      },
      "execution_count": null,
      "outputs": [
        {
          "output_type": "stream",
          "name": "stdout",
          "text": [
            "S: 6209\n",
            "V: 4937\n"
          ]
        },
        {
          "output_type": "display_data",
          "data": {
            "text/plain": [
              "<Figure size 432x288 with 1 Axes>"
            ],
            "image/png": "[encoded data removed]"
          },
          "metadata": {}
        }
      ]
    },
    {
      "cell_type": "code",
      "source": [
        "# count classes for validation\n",
        "\n",
        "ids_s = x_red_train[y_red_train == 1].tolist() \n",
        "ids_v = x_red_train[y_red_train == 2].tolist() \n",
        "\n",
        "print(f\"S: {len(ids_s)}\")\n",
        "print(f\"V: {len(ids_v)}\")\n",
        "\n",
        "classes = [\"S\",\"V\"]\n",
        "counts = [len(ids_s),len(ids_v)]\n",
        "\n",
        "fig1, ax1 = plt.subplots()\n",
        "ax1.pie(counts, explode=None, labels=classes, autopct='%1.1f%%',\n",
        "        shadow=False, startangle=90)\n",
        "ax1.axis('equal')  # Equal aspect ratio ensures that pie is drawn as a circle.\n",
        "fig1.set_facecolor(\"white\")\n",
        "plt.show()"
      ],
      "metadata": {
        "colab": {
          "base_uri": "https://localhost:8080/",
          "height": 282
        },
        "id": "aBxli4s73LV2",
        "outputId": "ad53e688-b096-40fb-bafa-8360d5ca31c3"
      },
      "execution_count": null,
      "outputs": [
        {
          "output_type": "stream",
          "name": "stdout",
          "text": [
            "S: 6209\n",
            "V: 4937\n"
          ]
        },
        {
          "output_type": "display_data",
          "data": {
            "text/plain": [
              "<Figure size 432x288 with 1 Axes>"
            ],
            "image/png": "[encoded data removed]"
          },
          "metadata": {}
        }
      ]
    },
    {
      "cell_type": "code",
      "source": [
        "y_red_train[y_red_train==2] = 3\n",
        "y_red_valid[y_red_valid==2] = 3\n",
        "\n",
        "y_red_train[y_red_train==1] = 0\n",
        "y_red_valid[y_red_valid==1] = 0\n",
        "y_red_train[y_red_train==3] = 1\n",
        "y_red_valid[y_red_valid==3] = 1"
      ],
      "metadata": {
        "id": "gKOu6fbahhxL"
      },
      "execution_count": null,
      "outputs": []
    },
    {
      "cell_type": "code",
      "source": [
        "np.histogram(y_red_train)"
      ],
      "metadata": {
        "colab": {
          "base_uri": "https://localhost:8080/"
        },
        "id": "42rr2pKGi_4R",
        "outputId": "7deea09c-b059-43f2-d935-aff2b53f94e1"
      },
      "execution_count": null,
      "outputs": [
        {
          "output_type": "execute_result",
          "data": {
            "text/plain": [
              "(array([5109,    0,    0,    0,    0,    0,    0,    0,    0, 3893]),\n",
              " array([0. , 0.1, 0.2, 0.3, 0.4, 0.5, 0.6, 0.7, 0.8, 0.9, 1. ]))"
            ]
          },
          "metadata": {},
          "execution_count": 31
        }
      ]
    },
    {
      "cell_type": "code",
      "source": [
        "timesteps = length\n",
        "channels_num = 2\n",
        "\n",
        "input = keras.layers.Input(shape=(timesteps, channels_num))\n",
        "\n",
        "conv1 = keras.layers.Conv1D(filters=32,kernel_size=25,activation=\"relu\")(input)\n",
        "maxPool1 = keras.layers.MaxPool1D(pool_size=2)(conv1)\n",
        "dropout1 = keras.layers.Dropout(0.05)(maxPool1)\n",
        "conv2 = keras.layers.Conv1D(filters=64,kernel_size=12,activation=\"relu\")(dropout1)\n",
        "maxPool2 = keras.layers.MaxPool1D(pool_size=2)(conv2)\n",
        "dropout2 = keras.layers.Dropout(0.1)(maxPool2)\n",
        "conv3 = keras.layers.Conv1D(filters=128,kernel_size=9,activation=\"relu\")(dropout2)\n",
        "maxPool3 = keras.layers.MaxPool1D(pool_size=2)(conv3)\n",
        "dropout3 = keras.layers.Dropout(0.15)(maxPool3)\n",
        "lstm1 = keras.layers.LSTM(64, return_sequences=True)(dropout3)\n",
        "lstm2 = keras.layers.LSTM(64, return_sequences=False)(lstm1)\n",
        "output = keras.layers.Dense(1, activation=tf.nn.sigmoid)(lstm2)\n",
        "model_red = keras.models.Model(inputs=input, outputs=output)\n",
        "\n",
        "model_red.summary()"
      ],
      "metadata": {
        "colab": {
          "base_uri": "https://localhost:8080/"
        },
        "id": "57XAjJM9ivZm",
        "outputId": "6cff7592-66ce-442e-a2fe-a7267e67008e"
      },
      "execution_count": null,
      "outputs": [
        {
          "output_type": "stream",
          "name": "stdout",
          "text": [
            "Model: \"model_1\"\n",
            "_________________________________________________________________\n",
            " Layer (type)                Output Shape              Param #   \n",
            "=================================================================\n",
            " input_2 (InputLayer)        [(None, 510, 2)]          0         \n",
            "                                                                 \n",
            " conv1d_3 (Conv1D)           (None, 486, 32)           1632      \n",
            "                                                                 \n",
            " max_pooling1d_3 (MaxPooling  (None, 243, 32)          0         \n",
            " 1D)                                                             \n",
            "                                                                 \n",
            " dropout_3 (Dropout)         (None, 243, 32)           0         \n",
            "                                                                 \n",
            " conv1d_4 (Conv1D)           (None, 232, 64)           24640     \n",
            "                                                                 \n",
            " max_pooling1d_4 (MaxPooling  (None, 116, 64)          0         \n",
            " 1D)                                                             \n",
            "                                                                 \n",
            " dropout_4 (Dropout)         (None, 116, 64)           0         \n",
            "                                                                 \n",
            " conv1d_5 (Conv1D)           (None, 108, 128)          73856     \n",
            "                                                                 \n",
            " max_pooling1d_5 (MaxPooling  (None, 54, 128)          0         \n",
            " 1D)                                                             \n",
            "                                                                 \n",
            " dropout_5 (Dropout)         (None, 54, 128)           0         \n",
            "                                                                 \n",
            " lstm_2 (LSTM)               (None, 54, 64)            49408     \n",
            "                                                                 \n",
            " lstm_3 (LSTM)               (None, 64)                33024     \n",
            "                                                                 \n",
            " dense_1 (Dense)             (None, 1)                 65        \n",
            "                                                                 \n",
            "=================================================================\n",
            "Total params: 182,625\n",
            "Trainable params: 182,625\n",
            "Non-trainable params: 0\n",
            "_________________________________________________________________\n"
          ]
        }
      ]
    },
    {
      "cell_type": "code",
      "source": [
        "callback = keras.callbacks.EarlyStopping(monitor='val_loss', patience=10,mode=\"auto\", restore_best_weights=True)\n",
        "\n",
        "batch_size = 128\n",
        "learning_rate = 1e-12\n",
        "model_red.compile(\n",
        "    optimizer = 'adam',\n",
        "    loss = 'binary_crossentropy',\n",
        "    metrics = ['accuracy'],\n",
        "    \n",
        ")\n",
        "\n",
        "history2 = model_red.fit(\n",
        "    x = x_red_train,\n",
        "    y = y_red_train, \n",
        "    batch_size = batch_size,\n",
        "    steps_per_epoch=len(x_red_train)/batch_size,\n",
        "    validation_data=(x_red_valid, y_red_valid),\n",
        "    epochs = 100,\n",
        "    shuffle = True,\n",
        "    callbacks=[callback],\n",
        ").history\n",
        "\n",
        "\n",
        "y_red_pred = model_red.predict(x_red_valid)\n",
        "\n",
        "plot_confusion_matrix(y_red_valid, y_red_pred)"
      ],
      "metadata": {
        "colab": {
          "base_uri": "https://localhost:8080/",
          "height": 1000
        },
        "id": "DlzxmGSgYGRe",
        "outputId": "6a6d5c8d-5c01-4502-f7f2-e05068e6a86d"
      },
      "execution_count": null,
      "outputs": [
        {
          "output_type": "stream",
          "name": "stdout",
          "text": [
            "Epoch 1/100\n",
            "87/87 [==============================] - 19s 175ms/step - loss: 0.1923 - accuracy: 0.9325 - val_loss: 0.1852 - val_accuracy: 0.9257\n",
            "Epoch 2/100\n",
            "87/87 [==============================] - 14s 167ms/step - loss: 0.1655 - accuracy: 0.9411 - val_loss: 0.1648 - val_accuracy: 0.9455\n",
            "Epoch 3/100\n",
            "87/87 [==============================] - 14s 167ms/step - loss: 0.1582 - accuracy: 0.9465 - val_loss: 0.1533 - val_accuracy: 0.9447\n",
            "Epoch 4/100\n",
            "87/87 [==============================] - 14s 167ms/step - loss: 0.1403 - accuracy: 0.9507 - val_loss: 0.1478 - val_accuracy: 0.9537\n",
            "Epoch 5/100\n",
            "87/87 [==============================] - 14s 166ms/step - loss: 0.1293 - accuracy: 0.9553 - val_loss: 0.1294 - val_accuracy: 0.9569\n",
            "Epoch 6/100\n",
            "87/87 [==============================] - 14s 168ms/step - loss: 0.1170 - accuracy: 0.9585 - val_loss: 0.1285 - val_accuracy: 0.9534\n",
            "Epoch 7/100\n",
            "87/87 [==============================] - 15s 168ms/step - loss: 0.1079 - accuracy: 0.9608 - val_loss: 0.1215 - val_accuracy: 0.9641\n",
            "Epoch 8/100\n",
            "87/87 [==============================] - 14s 166ms/step - loss: 0.0973 - accuracy: 0.9675 - val_loss: 0.2175 - val_accuracy: 0.9261\n",
            "Epoch 9/100\n",
            "87/87 [==============================] - 15s 168ms/step - loss: 0.1100 - accuracy: 0.9612 - val_loss: 0.1147 - val_accuracy: 0.9627\n",
            "Epoch 10/100\n",
            "87/87 [==============================] - 14s 168ms/step - loss: 0.0885 - accuracy: 0.9692 - val_loss: 0.1169 - val_accuracy: 0.9620\n",
            "Epoch 11/100\n",
            "87/87 [==============================] - 14s 166ms/step - loss: 0.0927 - accuracy: 0.9685 - val_loss: 0.1248 - val_accuracy: 0.9591\n",
            "Epoch 12/100\n",
            "87/87 [==============================] - 14s 165ms/step - loss: 0.0768 - accuracy: 0.9734 - val_loss: 0.1095 - val_accuracy: 0.9663\n",
            "Epoch 13/100\n",
            "87/87 [==============================] - 14s 167ms/step - loss: 0.0743 - accuracy: 0.9742 - val_loss: 0.1252 - val_accuracy: 0.9605\n",
            "Epoch 14/100\n",
            "87/87 [==============================] - 14s 167ms/step - loss: 0.0703 - accuracy: 0.9744 - val_loss: 0.1072 - val_accuracy: 0.9691\n",
            "Epoch 15/100\n",
            "87/87 [==============================] - 14s 167ms/step - loss: 0.0723 - accuracy: 0.9743 - val_loss: 0.1221 - val_accuracy: 0.9652\n",
            "Epoch 16/100\n",
            "87/87 [==============================] - 14s 167ms/step - loss: 0.0766 - accuracy: 0.9734 - val_loss: 0.1202 - val_accuracy: 0.9616\n",
            "Epoch 17/100\n",
            "87/87 [==============================] - 14s 167ms/step - loss: 0.0655 - accuracy: 0.9769 - val_loss: 0.1330 - val_accuracy: 0.9562\n",
            "Epoch 18/100\n",
            "87/87 [==============================] - 14s 166ms/step - loss: 0.0651 - accuracy: 0.9769 - val_loss: 0.1124 - val_accuracy: 0.9652\n",
            "Epoch 19/100\n",
            "87/87 [==============================] - 15s 170ms/step - loss: 0.0549 - accuracy: 0.9805 - val_loss: 0.1264 - val_accuracy: 0.9587\n",
            "Epoch 20/100\n",
            "87/87 [==============================] - 13s 150ms/step - loss: 0.0574 - accuracy: 0.9795 - val_loss: 0.1057 - val_accuracy: 0.9645\n",
            "Epoch 21/100\n",
            "87/87 [==============================] - 15s 170ms/step - loss: 0.0763 - accuracy: 0.9731 - val_loss: 0.1203 - val_accuracy: 0.9648\n",
            "Epoch 22/100\n",
            "87/87 [==============================] - 15s 169ms/step - loss: 0.0565 - accuracy: 0.9786 - val_loss: 0.1076 - val_accuracy: 0.9656\n",
            "Epoch 23/100\n",
            "87/87 [==============================] - 15s 170ms/step - loss: 0.0483 - accuracy: 0.9811 - val_loss: 0.1243 - val_accuracy: 0.9645\n",
            "Epoch 24/100\n",
            "87/87 [==============================] - 15s 169ms/step - loss: 0.0506 - accuracy: 0.9825 - val_loss: 0.1202 - val_accuracy: 0.9634\n",
            "Epoch 25/100\n",
            "87/87 [==============================] - 14s 168ms/step - loss: 0.0488 - accuracy: 0.9810 - val_loss: 0.1073 - val_accuracy: 0.9688\n",
            "Epoch 26/100\n",
            "87/87 [==============================] - 15s 169ms/step - loss: 0.0429 - accuracy: 0.9843 - val_loss: 0.1065 - val_accuracy: 0.9706\n",
            "Epoch 27/100\n",
            "87/87 [==============================] - 15s 169ms/step - loss: 0.0517 - accuracy: 0.9813 - val_loss: 0.1083 - val_accuracy: 0.9670\n",
            "Epoch 28/100\n",
            "87/87 [==============================] - 15s 170ms/step - loss: 0.0432 - accuracy: 0.9844 - val_loss: 0.1220 - val_accuracy: 0.9598\n",
            "Epoch 29/100\n",
            "87/87 [==============================] - 14s 167ms/step - loss: 0.0445 - accuracy: 0.9827 - val_loss: 0.1119 - val_accuracy: 0.9691\n",
            "Epoch 30/100\n",
            "87/87 [==============================] - 15s 170ms/step - loss: 0.0436 - accuracy: 0.9834 - val_loss: 0.1137 - val_accuracy: 0.9652\n"
          ]
        },
        {
          "output_type": "display_data",
          "data": {
            "text/plain": [
              "<Figure size 576x576 with 2 Axes>"
            ],
            "image/png": "[encoded data removed]"
          },
          "metadata": {
            "needs_background": "light"
          }
        }
      ]
    },
    {
      "cell_type": "code",
      "source": [
        "tf.math.confusion_matrix(labels=np.squeeze(y_red_valid), predictions=np.rint(np.squeeze(y_red_pred))).numpy()"
      ],
      "metadata": {
        "colab": {
          "base_uri": "https://localhost:8080/"
        },
        "id": "08sXWIey0E3Q",
        "outputId": "e93e56f1-2aa7-4a3f-b078-ff6a0f6068f2"
      },
      "execution_count": null,
      "outputs": [
        {
          "output_type": "execute_result",
          "data": {
            "text/plain": [
              "array([[1256,   26],\n",
              "       [  42,  927]], dtype=int32)"
            ]
          },
          "metadata": {},
          "execution_count": 34
        }
      ]
    },
    {
      "cell_type": "code",
      "source": [
        "eval = model_red.evaluate(x=x_red_valid,y=y_red_valid,batch_size = 1)"
      ],
      "metadata": {
        "colab": {
          "base_uri": "https://localhost:8080/"
        },
        "id": "fjnNwtny0I0f",
        "outputId": "1189fa65-73f6-424a-984d-76077e8c4262"
      },
      "execution_count": null,
      "outputs": [
        {
          "output_type": "stream",
          "name": "stdout",
          "text": [
            "2787/2787 [==============================] - 30s 6ms/step - loss: 0.1057 - accuracy: 0.9645\n"
          ]
        }
      ]
    },
    {
      "cell_type": "code",
      "source": [
        "fig,(ax1,ax2) = plt.subplots(1,2)\n",
        "\n",
        "x = range(len(history2['loss']))\n",
        "# loss\n",
        "y_train = history2['loss']\n",
        "y_valid = history2['val_loss']\n",
        "ax2.set_title(\"Loss\")\n",
        "ax1.plot(x,y_train,label=\"training\")\n",
        "ax1.plot(x,y_valid,label=\"validation\")\n",
        "ax1.legend()\n",
        "# accuracy \n",
        "y_train = history2['accuracy']\n",
        "y_valid = history2['val_accuracy']\n",
        "ax2.set_title(\"Accuracy\")\n",
        "ax2.plot(x,y_train,label=\"training\")\n",
        "ax2.plot(x,y_valid,label=\"validation\")\n",
        "ax2.legend()\n",
        "\n",
        "fig.set_size_inches(18.5, 10.5)\n",
        "plt.show()"
      ],
      "metadata": {
        "colab": {
          "base_uri": "https://localhost:8080/",
          "height": 635
        },
        "id": "sLwYOsL00Mu_",
        "outputId": "27395345-985f-44f6-adce-4a830fd25b7f"
      },
      "execution_count": null,
      "outputs": [
        {
          "output_type": "display_data",
          "data": {
            "text/plain": [
              "<Figure size 1332x756 with 2 Axes>"
            ],
            "image/png": "[encoded data removed]"
          },
          "metadata": {
            "needs_background": "light"
          }
        }
      ]
    },
    {
      "cell_type": "code",
      "source": [
        "# Test set\n",
        "\n",
        "x_test_ = test_df[['first_lead','second_lead']].values\n",
        "\n",
        "x_test_first_lead = list()\n",
        "x_test_second_lead = list()\n",
        "\n",
        "for k in x_test_:\n",
        "  x_test_first_lead.append(np.array(k[0]).astype(np.float32))\n",
        "  x_test_second_lead.append(np.array(k[1]).astype(np.float32))\n",
        "x_test_first_lead = np.asarray(x_test_first_lead).astype(np.float32)\n",
        "x_test_second_lead = np.asarray(x_test_second_lead).astype(np.float32)\n",
        "\n",
        "x_test = np.zeros((x_test_first_lead.shape[0], x_test_first_lead.shape[1], 2))\n",
        "x_test[:,:,0] = x_test_first_lead\n",
        "x_test[:,:,1] = x_test_second_lead\n",
        "\n",
        "y_test = test_df['label'].values.tolist()\n",
        "y_test = np.asarray(y_test).astype(np.float32)"
      ],
      "metadata": {
        "id": "gS4tNGz3qHfX"
      },
      "execution_count": null,
      "outputs": []
    },
    {
      "cell_type": "code",
      "source": [
        "x_test.shape"
      ],
      "metadata": {
        "colab": {
          "base_uri": "https://localhost:8080/"
        },
        "id": "mDEDKX_Wqddv",
        "outputId": "c0a4831e-8f5b-425f-ddcd-d4fb7e0ffc86"
      },
      "execution_count": null,
      "outputs": [
        {
          "output_type": "execute_result",
          "data": {
            "text/plain": [
              "(25000, 510, 2)"
            ]
          },
          "metadata": {},
          "execution_count": 38
        }
      ]
    },
    {
      "cell_type": "code",
      "source": [
        "y_test.shape"
      ],
      "metadata": {
        "colab": {
          "base_uri": "https://localhost:8080/"
        },
        "id": "jmLHumGWqfX9",
        "outputId": "fe7185cf-a579-48dd-e339-9772b7894012"
      },
      "execution_count": null,
      "outputs": [
        {
          "output_type": "execute_result",
          "data": {
            "text/plain": [
              "(25000, 1)"
            ]
          },
          "metadata": {},
          "execution_count": 39
        }
      ]
    },
    {
      "cell_type": "code",
      "source": [
        "y_test_1 = y_test.copy()\n",
        "y_test_1[y_test_1==2] = 1"
      ],
      "metadata": {
        "id": "CDYTS_mwpm2U"
      },
      "execution_count": null,
      "outputs": []
    },
    {
      "cell_type": "code",
      "source": [
        "y_test_pred_1 = model.predict(x_test)\n",
        "\n",
        "plot_confusion_matrix(y_test_1, y_test_pred_1)"
      ],
      "metadata": {
        "colab": {
          "base_uri": "https://localhost:8080/",
          "height": 599
        },
        "id": "sh6N3Iw7renw",
        "outputId": "dca5e8c5-f6f6-4b39-85df-c5b521040027"
      },
      "execution_count": null,
      "outputs": [
        {
          "output_type": "display_data",
          "data": {
            "text/plain": [
              "<Figure size 576x576 with 2 Axes>"
            ],
            "image/png": "[encoded data removed]"
          },
          "metadata": {
            "needs_background": "light"
          }
        }
      ]
    },
    {
      "cell_type": "code",
      "source": [
        "tf.math.confusion_matrix(labels=np.squeeze(y_test_1), predictions=np.rint(np.squeeze(y_test_pred_1))).numpy()"
      ],
      "metadata": {
        "colab": {
          "base_uri": "https://localhost:8080/"
        },
        "id": "mj9t617Gr6W5",
        "outputId": "5e8628f7-17d5-437c-cfe5-e66bcd22bc90"
      },
      "execution_count": null,
      "outputs": [
        {
          "output_type": "execute_result",
          "data": {
            "text/plain": [
              "array([[21976,   125],\n",
              "       [  274,  2625]], dtype=int32)"
            ]
          },
          "metadata": {},
          "execution_count": 42
        }
      ]
    },
    {
      "cell_type": "code",
      "source": [
        "eval_model1 = model.evaluate(x=x_test,y=y_test_1,batch_size = 1)"
      ],
      "metadata": {
        "colab": {
          "base_uri": "https://localhost:8080/"
        },
        "id": "D6lmG8wnpdlO",
        "outputId": "5515388f-8fba-4f6d-d3ad-0d514ed51905"
      },
      "execution_count": null,
      "outputs": [
        {
          "output_type": "stream",
          "name": "stdout",
          "text": [
            "48868/48868 [==============================] - 329s 6ms/step - loss: 0.0301 - accuracy: 0.9898\n"
          ]
        }
      ]
    },
    {
      "cell_type": "code",
      "source": [
        "y_test_pred_1 = np.rint(np.squeeze(y_test_pred_1))"
      ],
      "metadata": {
        "id": "BeauVMm0vpRm"
      },
      "execution_count": null,
      "outputs": []
    },
    {
      "cell_type": "code",
      "source": [
        "x_test_2 = x_test[y_test_pred_1!=0]\n",
        "y_test_2 = y_test[y_test_pred_1!=0]"
      ],
      "metadata": {
        "id": "1kwzrunFv1JJ"
      },
      "execution_count": null,
      "outputs": []
    },
    {
      "cell_type": "code",
      "source": [
        "x_test_2.shape"
      ],
      "metadata": {
        "colab": {
          "base_uri": "https://localhost:8080/"
        },
        "id": "foaPGEYrwKDq",
        "outputId": "5faa7397-8d4f-4150-8db4-e891ab573701"
      },
      "execution_count": null,
      "outputs": [
        {
          "output_type": "execute_result",
          "data": {
            "text/plain": [
              "(2750, 510, 2)"
            ]
          },
          "metadata": {},
          "execution_count": 46
        }
      ]
    },
    {
      "cell_type": "code",
      "source": [
        "y_test_2.shape"
      ],
      "metadata": {
        "colab": {
          "base_uri": "https://localhost:8080/"
        },
        "id": "7DqTSYaewKJT",
        "outputId": "177d5ed0-3718-43cf-ff7b-e86fa1fb1c67"
      },
      "execution_count": null,
      "outputs": [
        {
          "output_type": "execute_result",
          "data": {
            "text/plain": [
              "(2750, 1)"
            ]
          },
          "metadata": {},
          "execution_count": 47
        }
      ]
    },
    {
      "cell_type": "code",
      "source": [
        "y_test_2[y_test_2==2] = 3\n",
        "\n",
        "y_test_2[y_test_2==1] = 0\n",
        "y_test_2[y_test_2==3] = 1"
      ],
      "metadata": {
        "id": "qioayDNLyFGs"
      },
      "execution_count": null,
      "outputs": []
    },
    {
      "cell_type": "code",
      "source": [
        "y_test_pred_2 = model_red.predict(x_test_2)\n",
        "\n",
        "plot_confusion_matrix(y_test_2, y_test_pred_2)"
      ],
      "metadata": {
        "colab": {
          "base_uri": "https://localhost:8080/",
          "height": 599
        },
        "id": "H2o7POcQx0eB",
        "outputId": "b9ee3bf8-0aee-4b55-8ef6-eda87fd841fc"
      },
      "execution_count": null,
      "outputs": [
        {
          "output_type": "display_data",
          "data": {
            "text/plain": [
              "<Figure size 576x576 with 2 Axes>"
            ],
            "image/png": "[encoded data removed]"
          },
          "metadata": {
            "needs_background": "light"
          }
        }
      ]
    },
    {
      "cell_type": "code",
      "source": [
        "tf.math.confusion_matrix(labels=np.squeeze(y_test_2), predictions=np.rint(np.squeeze(y_test_pred_2))).numpy()"
      ],
      "metadata": {
        "colab": {
          "base_uri": "https://localhost:8080/"
        },
        "id": "CWgxvwNHx0g8",
        "outputId": "c2ffa018-ccac-4bc7-e12b-2c38b792a91a"
      },
      "execution_count": null,
      "outputs": [
        {
          "output_type": "execute_result",
          "data": {
            "text/plain": [
              "array([[1697,   82],\n",
              "       [  52, 1508]])"
            ]
          },
          "metadata": {},
          "execution_count": 42
        }
      ]
    },
    {
      "cell_type": "code",
      "source": [
        "eval_model2 = model_red.evaluate(x=x_test_2,y=y_test_2,batch_size = 1)"
      ],
      "metadata": {
        "colab": {
          "base_uri": "https://localhost:8080/"
        },
        "id": "GbY043MDx0ki",
        "outputId": "25db9f96-5e59-4ec2-a4b6-3e8e45bcf000"
      },
      "execution_count": null,
      "outputs": [
        {
          "output_type": "stream",
          "name": "stdout",
          "text": [
            "2295/3339 [===================>..........] - ETA: 5s - loss: 0.1300 - accuracy: 0.9608"
          ]
        }
      ]
    }
  ]
}