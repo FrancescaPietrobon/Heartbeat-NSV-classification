{
  "nbformat": 4,
  "nbformat_minor": 0,
  "metadata": {
    "colab": {
      "name": "Copia di Copia di OneVsAll.ipynb",
      "provenance": [],
      "collapsed_sections": []
    },
    "kernelspec": {
      "name": "python3",
      "display_name": "Python 3"
    },
    "language_info": {
      "name": "python"
    },
    "accelerator": "GPU"
  },
  "cells": [
    {
      "cell_type": "code",
      "source": [
        "import os\n",
        "import tensorflow as tf\n",
        "from tensorflow import keras\n",
        "import random\n",
        "import numpy as np\n",
        "import matplotlib.pyplot as plt\n",
        "\n",
        "\n",
        "from keras import layers, Sequential\n",
        "from keras.layers import Input, Add, Dense, Activation, ZeroPadding1D, Flatten, Conv1D, MaxPooling1D, GlobalMaxPooling1D, Dropout\n",
        "from keras.models import Model\n",
        "from keras.preprocessing.sequence import pad_sequences\n",
        "\n",
        "\n",
        "import pandas as pd\n",
        "from scipy.signal import butter, lfilter\n",
        "from scipy import stats\n",
        "from scipy.io import loadmat\n",
        "\n",
        "#import heartpy as hp\n",
        "\n",
        "from sklearn.preprocessing import MaxAbsScaler, StandardScaler\n",
        "from sklearn.model_selection import StratifiedKFold\n",
        "from sklearn.ensemble import RandomForestClassifier\n",
        "from sklearn.utils import compute_class_weight\n",
        "from sklearn.model_selection import train_test_split\n",
        "from sklearn import svm\n",
        "from sklearn.metrics import ConfusionMatrixDisplay\n",
        "from sklearn.metrics import confusion_matrix\n",
        "from sklearn.metrics import classification_report\n",
        "\n",
        "\n",
        "import seaborn as sns\n",
        "\n",
        "\n",
        "import math\n",
        "import random\n",
        "import zipfile  \n",
        "import io\n",
        "from PIL import Image"
      ],
      "metadata": {
        "id": "prMbEDazdWD4"
      },
      "execution_count": 1,
      "outputs": []
    },
    {
      "cell_type": "code",
      "source": [
        "SEED = 4224\n",
        "tf.random.set_seed(SEED)\n",
        "np.random.seed(SEED)\n",
        "random.seed(SEED)\n",
        "os.environ['PYTHONHASHSEED'] = str(SEED)"
      ],
      "metadata": {
        "id": "HHVmuq1NdWHu"
      },
      "execution_count": 2,
      "outputs": []
    },
    {
      "cell_type": "code",
      "source": [
        "from google.colab import drive\n",
        "drive.mount('/content/drive')\n",
        "cwd = '/content/drive/My Drive/FinalAssignment'\n",
        "os.chdir(cwd)\n",
        "dataset_folder = os.path.join(cwd,'training_set_dir')"
      ],
      "metadata": {
        "colab": {
          "base_uri": "https://localhost:8080/"
        },
        "id": "X4kfRflCdWKP",
        "outputId": "0abb32af-577b-4ea3-d25a-15c830a8bec9"
      },
      "execution_count": 3,
      "outputs": [
        {
          "output_type": "stream",
          "name": "stdout",
          "text": [
            "Drive already mounted at /content/drive; to attempt to forcibly remount, call drive.mount(\"/content/drive\", force_remount=True).\n"
          ]
        }
      ]
    },
    {
      "cell_type": "code",
      "source": [
        "def load_data(sample_prefix, input_dir):    # everything is returned as a numpy array which is easier to manipulate\n",
        "  label_filepath = os.path.join(input_dir, sample_prefix + '_ann.mat')\n",
        "  peak_filepath = os.path.join(input_dir, sample_prefix + '_rpk.mat')\n",
        "  signal_filepath = os.path.join(input_dir, sample_prefix + '.mat')\n",
        "  if os.path.isfile(label_filepath):\n",
        "    mat_file = loadmat(label_filepath)\n",
        "    label = np.asarray(mat_file['labels'])\n",
        "  if os.path.isfile(peak_filepath):\n",
        "    mat_file = loadmat(peak_filepath)\n",
        "    peak = np.asarray(mat_file['rpeaks'])\n",
        "  if os.path.isfile(signal_filepath):\n",
        "    mat_file = loadmat(signal_filepath)\n",
        "    signal = np.asarray(mat_file['ecg'] )\n",
        "\n",
        "  return label, peak, signal\n",
        "\n",
        "  \n",
        "labels = list()             # labels \n",
        "ids = list()                # Id of samples \n",
        "rpeaks = list()             # detected peaks of the signal \n",
        "ecg_signals = list()        # .mat ecg signal \n",
        "frequencies = list()        # sample frequency of the ecg signal \n",
        "\n",
        "\n",
        "for f in os.listdir(dataset_folder):\n",
        "  if f.lower().endswith('.mat'):\n",
        "    id = f[:4]\n",
        "    if id not in ids:\n",
        "      ids.append(id)\n",
        "      sample_prefix = f[:8]\n",
        "      label, peak, signal = load_data(sample_prefix, dataset_folder)\n",
        "      labels.append(label)\n",
        "      rpeaks.append(peak)\n",
        "      ecg_signals.append(signal)\n",
        "      frequencies.append(int(sample_prefix[5:]))\n",
        "\n",
        "print(len(rpeaks))\n",
        "print(len(rpeaks[0]))"
      ],
      "metadata": {
        "colab": {
          "base_uri": "https://localhost:8080/"
        },
        "id": "Db3TeR-xdWM3",
        "outputId": "f54a4315-561f-4013-81af-98cc7741eee2"
      },
      "execution_count": 4,
      "outputs": [
        {
          "output_type": "stream",
          "name": "stdout",
          "text": [
            "105\n",
            "2851\n"
          ]
        }
      ]
    },
    {
      "cell_type": "code",
      "source": [
        "cols = [\"sigId\",\"ecg_lead_1\",\"ecg_lead_2\",\"peaks\",\"frequencies\",\"labels\"]\n",
        "\n",
        "# ecg signals is 105 rows [,,,,,]\n",
        "\n",
        "first_lead_signals = []\n",
        "second_lead_signals = []\n",
        "\n",
        "for signal in ecg_signals:\n",
        "    first_lead_signals.append(signal[:,0].tolist())    # converting the array to list as list of array is deprecated \n",
        "    second_lead_signals.append(signal[:,1].tolist())\n",
        "\n",
        "df = pd.DataFrame(data =[ids,first_lead_signals,second_lead_signals,rpeaks,frequencies,labels]).T\n",
        "df.columns = cols\n",
        "df"
      ],
      "metadata": {
        "colab": {
          "base_uri": "https://localhost:8080/",
          "height": 424
        },
        "id": "gIf4FYjXdWPf",
        "outputId": "bed5d5d8-0615-4823-80ed-ab024a975f07"
      },
      "execution_count": 5,
      "outputs": [
        {
          "output_type": "execute_result",
          "data": {
            "text/html": [
              "\n",
              "  <div id=\"df-3d3e3da7-254a-40a6-b81c-38c15aff79de\">\n",
              "    <div class=\"colab-df-container\">\n",
              "      <div>\n",
              "<style scoped>\n",
              "    .dataframe tbody tr th:only-of-type {\n",
              "        vertical-align: middle;\n",
              "    }\n",
              "\n",
              "    .dataframe tbody tr th {\n",
              "        vertical-align: top;\n",
              "    }\n",
              "\n",
              "    .dataframe thead th {\n",
              "        text-align: right;\n",
              "    }\n",
              "</style>\n",
              "<table border=\"1\" class=\"dataframe\">\n",
              "  <thead>\n",
              "    <tr style=\"text-align: right;\">\n",
              "      <th></th>\n",
              "      <th>sigId</th>\n",
              "      <th>ecg_lead_1</th>\n",
              "      <th>ecg_lead_2</th>\n",
              "      <th>peaks</th>\n",
              "      <th>frequencies</th>\n",
              "      <th>labels</th>\n",
              "    </tr>\n",
              "  </thead>\n",
              "  <tbody>\n",
              "    <tr>\n",
              "      <th>0</th>\n",
              "      <td>S001</td>\n",
              "      <td>[0.0, 0.04, 0.03, 0.0, 0.03, 0.09, 0.18, 0.14,...</td>\n",
              "      <td>[0.08, 0.07, 0.1, 0.06, 0.06, 0.03, 0.1, 0.21,...</td>\n",
              "      <td>[[29], [110], [191], [272], [353], [433], [514...</td>\n",
              "      <td>128</td>\n",
              "      <td>[N, N, N, N, N, N, N, N, N, N, N, N, N, N, N, ...</td>\n",
              "    </tr>\n",
              "    <tr>\n",
              "      <th>1</th>\n",
              "      <td>S002</td>\n",
              "      <td>[-0.035, -0.045, -0.025, -0.035, -0.045, -0.05...</td>\n",
              "      <td>[-0.095, -0.105, -0.095, -0.095, -0.115, -0.09...</td>\n",
              "      <td>[[48], [153], [243], [352], [440], [547], [636...</td>\n",
              "      <td>128</td>\n",
              "      <td>[N, N, N, N, S, N, S, N, S, N, S, N, S, N, S, ...</td>\n",
              "    </tr>\n",
              "    <tr>\n",
              "      <th>2</th>\n",
              "      <td>S003</td>\n",
              "      <td>[-0.56, -0.56, -0.55, -0.47, -0.53, -0.47, -0....</td>\n",
              "      <td>[0.43, 0.56, 0.6, 0.41, 0.54, 0.48, 0.56, 0.46...</td>\n",
              "      <td>[[91], [209], [326], [394], [537], [653], [745...</td>\n",
              "      <td>128</td>\n",
              "      <td>[N, N, N, S, N, N, S, N, N, S, N, N, N, N, N, ...</td>\n",
              "    </tr>\n",
              "    <tr>\n",
              "      <th>3</th>\n",
              "      <td>S004</td>\n",
              "      <td>[-0.46, -0.49, -0.52, -0.58, -0.62, -0.69, -0....</td>\n",
              "      <td>[0.56, 0.61, 0.66, 0.66, 0.63, 0.66, 0.59, 0.5...</td>\n",
              "      <td>[[98], [223], [349], [474], [599], [726], [853...</td>\n",
              "      <td>128</td>\n",
              "      <td>[N, N, N, N, N, N, N, N, N, N, N, N, N, N, N, ...</td>\n",
              "    </tr>\n",
              "    <tr>\n",
              "      <th>4</th>\n",
              "      <td>S005</td>\n",
              "      <td>[-0.27, -0.17, -0.13, -0.23, -0.18, -0.23, -0....</td>\n",
              "      <td>[-0.02, -0.04, -0.01, -0.01, -0.02, -0.06, 0.0...</td>\n",
              "      <td>[[27], [127], [225], [324], [423], [523], [623...</td>\n",
              "      <td>128</td>\n",
              "      <td>[N, N, N, N, N, N, N, N, N, N, N, N, N, N, N, ...</td>\n",
              "    </tr>\n",
              "    <tr>\n",
              "      <th>...</th>\n",
              "      <td>...</td>\n",
              "      <td>...</td>\n",
              "      <td>...</td>\n",
              "      <td>...</td>\n",
              "      <td>...</td>\n",
              "      <td>...</td>\n",
              "    </tr>\n",
              "    <tr>\n",
              "      <th>100</th>\n",
              "      <td>S114</td>\n",
              "      <td>[-0.22, -0.225, -0.23, -0.22, -0.185, -0.155, ...</td>\n",
              "      <td>[-0.86, -0.905, -0.94, -0.975, -1.0, -1.025, -...</td>\n",
              "      <td>[[155], [383], [611], [835], [1053], [1275], [...</td>\n",
              "      <td>250</td>\n",
              "      <td>[N, N, N, N, N, N, N, N, N, N, N, N, N, N, N, ...</td>\n",
              "    </tr>\n",
              "    <tr>\n",
              "      <th>101</th>\n",
              "      <td>S115</td>\n",
              "      <td>[0.385, 0.35, 0.31, 0.285, 0.265, 0.25, 0.225,...</td>\n",
              "      <td>[0.515, 0.45, 0.38, 0.33, 0.3, 0.28, 0.25, 0.2...</td>\n",
              "      <td>[[215], [437], [667], [823], [1119], [1349], [...</td>\n",
              "      <td>250</td>\n",
              "      <td>[N, N, N, V, N, N, N, V, N, N, N, N, N, N, N, ...</td>\n",
              "    </tr>\n",
              "    <tr>\n",
              "      <th>102</th>\n",
              "      <td>S116</td>\n",
              "      <td>[-0.12, -0.12, -0.12, -0.125, -0.12, -0.115, -...</td>\n",
              "      <td>[-0.1, -0.105, -0.11, -0.125, -0.135, -0.13, -...</td>\n",
              "      <td>[[255], [535], [817], [1093], [1377], [1657], ...</td>\n",
              "      <td>250</td>\n",
              "      <td>[N, N, N, N, N, N, N, N, N, N, N, N, N, N, N, ...</td>\n",
              "    </tr>\n",
              "    <tr>\n",
              "      <th>103</th>\n",
              "      <td>S117</td>\n",
              "      <td>[-0.045, -0.045, -0.045, -0.045, -0.045, -0.04...</td>\n",
              "      <td>[0.175, 0.185, 0.18, 0.175, 0.175, 0.175, 0.17...</td>\n",
              "      <td>[[19], [295], [575], [863], [1151], [1435], [1...</td>\n",
              "      <td>250</td>\n",
              "      <td>[N, N, N, N, N, N, N, N, N, N, N, N, N, N, N, ...</td>\n",
              "    </tr>\n",
              "    <tr>\n",
              "      <th>104</th>\n",
              "      <td>S118</td>\n",
              "      <td>[0.28, 0.335, 0.39, 0.395, 0.395, 0.385, 0.375...</td>\n",
              "      <td>[0.23, 0.22, 0.21, 0.205, 0.195, 0.175, 0.155,...</td>\n",
              "      <td>[[102], [268], [432], [600], [758], [918], [10...</td>\n",
              "      <td>250</td>\n",
              "      <td>[N, N, N, N, N, N, N, N, N, N, N, N, N, N, N, ...</td>\n",
              "    </tr>\n",
              "  </tbody>\n",
              "</table>\n",
              "<p>105 rows × 6 columns</p>\n",
              "</div>\n",
              "      <button class=\"colab-df-convert\" onclick=\"convertToInteractive('df-3d3e3da7-254a-40a6-b81c-38c15aff79de')\"\n",
              "              title=\"Convert this dataframe to an interactive table.\"\n",
              "              style=\"display:none;\">\n",
              "        \n",
              "  <svg xmlns=\"http://www.w3.org/2000/svg\" height=\"24px\"viewBox=\"0 0 24 24\"\n",
              "       width=\"24px\">\n",
              "    <path d=\"M0 0h24v24H0V0z\" fill=\"none\"/>\n",
              "    <path d=\"M18.56 5.44l.94 2.06.94-2.06 2.06-.94-2.06-.94-.94-2.06-.94 2.06-2.06.94zm-11 1L8.5 8.5l.94-2.06 2.06-.94-2.06-.94L8.5 2.5l-.94 2.06-2.06.94zm10 10l.94 2.06.94-2.06 2.06-.94-2.06-.94-.94-2.06-.94 2.06-2.06.94z\"/><path d=\"M17.41 7.96l-1.37-1.37c-.4-.4-.92-.59-1.43-.59-.52 0-1.04.2-1.43.59L10.3 9.45l-7.72 7.72c-.78.78-.78 2.05 0 2.83L4 21.41c.39.39.9.59 1.41.59.51 0 1.02-.2 1.41-.59l7.78-7.78 2.81-2.81c.8-.78.8-2.07 0-2.86zM5.41 20L4 18.59l7.72-7.72 1.47 1.35L5.41 20z\"/>\n",
              "  </svg>\n",
              "      </button>\n",
              "      \n",
              "  <style>\n",
              "    .colab-df-container {\n",
              "      display:flex;\n",
              "      flex-wrap:wrap;\n",
              "      gap: 12px;\n",
              "    }\n",
              "\n",
              "    .colab-df-convert {\n",
              "      background-color: #E8F0FE;\n",
              "      border: none;\n",
              "      border-radius: 50%;\n",
              "      cursor: pointer;\n",
              "      display: none;\n",
              "      fill: #1967D2;\n",
              "      height: 32px;\n",
              "      padding: 0 0 0 0;\n",
              "      width: 32px;\n",
              "    }\n",
              "\n",
              "    .colab-df-convert:hover {\n",
              "      background-color: #E2EBFA;\n",
              "      box-shadow: 0px 1px 2px rgba(60, 64, 67, 0.3), 0px 1px 3px 1px rgba(60, 64, 67, 0.15);\n",
              "      fill: #174EA6;\n",
              "    }\n",
              "\n",
              "    [theme=dark] .colab-df-convert {\n",
              "      background-color: #3B4455;\n",
              "      fill: #D2E3FC;\n",
              "    }\n",
              "\n",
              "    [theme=dark] .colab-df-convert:hover {\n",
              "      background-color: #434B5C;\n",
              "      box-shadow: 0px 1px 3px 1px rgba(0, 0, 0, 0.15);\n",
              "      filter: drop-shadow(0px 1px 2px rgba(0, 0, 0, 0.3));\n",
              "      fill: #FFFFFF;\n",
              "    }\n",
              "  </style>\n",
              "\n",
              "      <script>\n",
              "        const buttonEl =\n",
              "          document.querySelector('#df-3d3e3da7-254a-40a6-b81c-38c15aff79de button.colab-df-convert');\n",
              "        buttonEl.style.display =\n",
              "          google.colab.kernel.accessAllowed ? 'block' : 'none';\n",
              "\n",
              "        async function convertToInteractive(key) {\n",
              "          const element = document.querySelector('#df-3d3e3da7-254a-40a6-b81c-38c15aff79de');\n",
              "          const dataTable =\n",
              "            await google.colab.kernel.invokeFunction('convertToInteractive',\n",
              "                                                     [key], {});\n",
              "          if (!dataTable) return;\n",
              "\n",
              "          const docLinkHtml = 'Like what you see? Visit the ' +\n",
              "            '<a target=\"_blank\" href=https://colab.research.google.com/notebooks/data_table.ipynb>data table notebook</a>'\n",
              "            + ' to learn more about interactive tables.';\n",
              "          element.innerHTML = '';\n",
              "          dataTable['output_type'] = 'display_data';\n",
              "          await google.colab.output.renderOutput(dataTable, element);\n",
              "          const docLink = document.createElement('div');\n",
              "          docLink.innerHTML = docLinkHtml;\n",
              "          element.appendChild(docLink);\n",
              "        }\n",
              "      </script>\n",
              "    </div>\n",
              "  </div>\n",
              "  "
            ],
            "text/plain": [
              "    sigId  ...                                             labels\n",
              "0    S001  ...  [N, N, N, N, N, N, N, N, N, N, N, N, N, N, N, ...\n",
              "1    S002  ...  [N, N, N, N, S, N, S, N, S, N, S, N, S, N, S, ...\n",
              "2    S003  ...  [N, N, N, S, N, N, S, N, N, S, N, N, N, N, N, ...\n",
              "3    S004  ...  [N, N, N, N, N, N, N, N, N, N, N, N, N, N, N, ...\n",
              "4    S005  ...  [N, N, N, N, N, N, N, N, N, N, N, N, N, N, N, ...\n",
              "..    ...  ...                                                ...\n",
              "100  S114  ...  [N, N, N, N, N, N, N, N, N, N, N, N, N, N, N, ...\n",
              "101  S115  ...  [N, N, N, V, N, N, N, V, N, N, N, N, N, N, N, ...\n",
              "102  S116  ...  [N, N, N, N, N, N, N, N, N, N, N, N, N, N, N, ...\n",
              "103  S117  ...  [N, N, N, N, N, N, N, N, N, N, N, N, N, N, N, ...\n",
              "104  S118  ...  [N, N, N, N, N, N, N, N, N, N, N, N, N, N, N, ...\n",
              "\n",
              "[105 rows x 6 columns]"
            ]
          },
          "metadata": {},
          "execution_count": 5
        }
      ]
    },
    {
      "cell_type": "code",
      "source": [
        "def convert_one_vs_rest(label):\n",
        "  df = np.zeros(len(label))\n",
        "  for i in range(len(label)):\n",
        "    if label[i] == 'S':\n",
        "      df[i] = 1\n",
        "    elif label[i] == 'V':\n",
        "      df[i] = 2\n",
        "  return df\n",
        "\n",
        "convert_one_vs_rest(labels[3])"
      ],
      "metadata": {
        "colab": {
          "base_uri": "https://localhost:8080/"
        },
        "id": "3neKQuXMSube",
        "outputId": "b77ec3a9-8077-4086-bb35-07fb56cfd820"
      },
      "execution_count": 6,
      "outputs": [
        {
          "output_type": "execute_result",
          "data": {
            "text/plain": [
              "array([0., 0., 0., ..., 0., 0., 0.])"
            ]
          },
          "metadata": {},
          "execution_count": 6
        }
      ]
    },
    {
      "cell_type": "code",
      "source": [
        "# dataset needs to be created because we need to classify beats and not the entire signal \n",
        "\n",
        "dataset = dict()\n",
        "length = 510    # length of each signal, centered at the considered peak\n",
        "counter = 0\n",
        "\n",
        "\n",
        "for l,id in enumerate(ids):\n",
        "    print(f\"{l}/{len(ids)}\",end='\\r')\n",
        "    for i,peak in enumerate(rpeaks[l]):\n",
        "        \n",
        "        dataset[id+\"_\"+str(i)] = {}\n",
        "        dataset[id+\"_\"+str(i)][\"first_lead\"] = list()\n",
        "        dataset[id+\"_\"+str(i)][\"second_lead\"] = list()\n",
        "\n",
        "        for s in range(int(peak-length/2),int(peak+length/2)):\n",
        "\n",
        "            if(s < 0 or s >= len(first_lead_signals[l])):   # padding with 0\n",
        "                dataset[id+\"_\"+str(i)][\"first_lead\"].append(0.) \n",
        "                dataset[id+\"_\"+str(i)][\"second_lead\"].append(0.) \n",
        "            else:\n",
        "                dataset[id+\"_\"+str(i)][\"first_lead\"].append(first_lead_signals[l][s])\n",
        "                dataset[id+\"_\"+str(i)][\"second_lead\"].append(first_lead_signals[l][s])\n",
        "\n",
        "        dataset[id+\"_\"+str(i)][\"stringLabel\"] = labels[l][i]\n",
        "        dataset[id+\"_\"+str(i)][\"label\"] = convert_one_vs_rest(labels[l][i])\n",
        "    \n",
        "print(\"complete\")\n",
        "\n",
        "dataset_df = pd.DataFrame.from_dict(dataset,orient=\"index\") # create the dataframe from dictionary \n",
        "\n",
        "dataset_df"
      ],
      "metadata": {
        "colab": {
          "base_uri": "https://localhost:8080/",
          "height": 441
        },
        "id": "3zE3bLhUTJp5",
        "outputId": "302855b0-eb0e-432c-b0aa-0e70a3c6a8d7"
      },
      "execution_count": 7,
      "outputs": [
        {
          "output_type": "stream",
          "name": "stdout",
          "text": [
            "complete\n"
          ]
        },
        {
          "output_type": "execute_result",
          "data": {
            "text/html": [
              "\n",
              "  <div id=\"df-8aa719aa-c611-4167-972a-68be92cdb7be\">\n",
              "    <div class=\"colab-df-container\">\n",
              "      <div>\n",
              "<style scoped>\n",
              "    .dataframe tbody tr th:only-of-type {\n",
              "        vertical-align: middle;\n",
              "    }\n",
              "\n",
              "    .dataframe tbody tr th {\n",
              "        vertical-align: top;\n",
              "    }\n",
              "\n",
              "    .dataframe thead th {\n",
              "        text-align: right;\n",
              "    }\n",
              "</style>\n",
              "<table border=\"1\" class=\"dataframe\">\n",
              "  <thead>\n",
              "    <tr style=\"text-align: right;\">\n",
              "      <th></th>\n",
              "      <th>first_lead</th>\n",
              "      <th>second_lead</th>\n",
              "      <th>stringLabel</th>\n",
              "      <th>label</th>\n",
              "    </tr>\n",
              "  </thead>\n",
              "  <tbody>\n",
              "    <tr>\n",
              "      <th>S001_0</th>\n",
              "      <td>[0.0, 0.0, 0.0, 0.0, 0.0, 0.0, 0.0, 0.0, 0.0, ...</td>\n",
              "      <td>[0.0, 0.0, 0.0, 0.0, 0.0, 0.0, 0.0, 0.0, 0.0, ...</td>\n",
              "      <td>N</td>\n",
              "      <td>[0.0]</td>\n",
              "    </tr>\n",
              "    <tr>\n",
              "      <th>S001_1</th>\n",
              "      <td>[0.0, 0.0, 0.0, 0.0, 0.0, 0.0, 0.0, 0.0, 0.0, ...</td>\n",
              "      <td>[0.0, 0.0, 0.0, 0.0, 0.0, 0.0, 0.0, 0.0, 0.0, ...</td>\n",
              "      <td>N</td>\n",
              "      <td>[0.0]</td>\n",
              "    </tr>\n",
              "    <tr>\n",
              "      <th>S001_2</th>\n",
              "      <td>[0.0, 0.0, 0.0, 0.0, 0.0, 0.0, 0.0, 0.0, 0.0, ...</td>\n",
              "      <td>[0.0, 0.0, 0.0, 0.0, 0.0, 0.0, 0.0, 0.0, 0.0, ...</td>\n",
              "      <td>N</td>\n",
              "      <td>[0.0]</td>\n",
              "    </tr>\n",
              "    <tr>\n",
              "      <th>S001_3</th>\n",
              "      <td>[-0.1, -0.14, -0.14, -0.12, -0.13, -0.08, -0.1...</td>\n",
              "      <td>[-0.1, -0.14, -0.14, -0.12, -0.13, -0.08, -0.1...</td>\n",
              "      <td>N</td>\n",
              "      <td>[0.0]</td>\n",
              "    </tr>\n",
              "    <tr>\n",
              "      <th>S001_4</th>\n",
              "      <td>[-0.05, -0.08, -0.07, -0.08, -0.05, -0.07, -0....</td>\n",
              "      <td>[-0.05, -0.08, -0.07, -0.08, -0.05, -0.07, -0....</td>\n",
              "      <td>N</td>\n",
              "      <td>[0.0]</td>\n",
              "    </tr>\n",
              "    <tr>\n",
              "      <th>...</th>\n",
              "      <td>...</td>\n",
              "      <td>...</td>\n",
              "      <td>...</td>\n",
              "      <td>...</td>\n",
              "    </tr>\n",
              "    <tr>\n",
              "      <th>S118_2447</th>\n",
              "      <td>[0.04, 0.02, 0.005, 0.0, 0.005, 0.005, 0.005, ...</td>\n",
              "      <td>[0.04, 0.02, 0.005, 0.0, 0.005, 0.005, 0.005, ...</td>\n",
              "      <td>N</td>\n",
              "      <td>[0.0]</td>\n",
              "    </tr>\n",
              "    <tr>\n",
              "      <th>S118_2448</th>\n",
              "      <td>[0.005, 0.0, -0.005, -0.015, -0.025, -0.035, -...</td>\n",
              "      <td>[0.005, 0.0, -0.005, -0.015, -0.025, -0.035, -...</td>\n",
              "      <td>N</td>\n",
              "      <td>[0.0]</td>\n",
              "    </tr>\n",
              "    <tr>\n",
              "      <th>S118_2449</th>\n",
              "      <td>[-0.02, -0.035, -0.035, -0.04, -0.05, -0.055, ...</td>\n",
              "      <td>[-0.02, -0.035, -0.035, -0.04, -0.05, -0.055, ...</td>\n",
              "      <td>N</td>\n",
              "      <td>[0.0]</td>\n",
              "    </tr>\n",
              "    <tr>\n",
              "      <th>S118_2450</th>\n",
              "      <td>[-0.075, -0.055, -0.065, -0.085, -0.075, -0.07...</td>\n",
              "      <td>[-0.075, -0.055, -0.065, -0.085, -0.075, -0.07...</td>\n",
              "      <td>N</td>\n",
              "      <td>[0.0]</td>\n",
              "    </tr>\n",
              "    <tr>\n",
              "      <th>S118_2451</th>\n",
              "      <td>[0.04, 0.01, 0.0, -0.01, -0.02, -0.03, -0.035,...</td>\n",
              "      <td>[0.04, 0.01, 0.0, -0.01, -0.02, -0.03, -0.035,...</td>\n",
              "      <td>N</td>\n",
              "      <td>[0.0]</td>\n",
              "    </tr>\n",
              "  </tbody>\n",
              "</table>\n",
              "<p>244336 rows × 4 columns</p>\n",
              "</div>\n",
              "      <button class=\"colab-df-convert\" onclick=\"convertToInteractive('df-8aa719aa-c611-4167-972a-68be92cdb7be')\"\n",
              "              title=\"Convert this dataframe to an interactive table.\"\n",
              "              style=\"display:none;\">\n",
              "        \n",
              "  <svg xmlns=\"http://www.w3.org/2000/svg\" height=\"24px\"viewBox=\"0 0 24 24\"\n",
              "       width=\"24px\">\n",
              "    <path d=\"M0 0h24v24H0V0z\" fill=\"none\"/>\n",
              "    <path d=\"M18.56 5.44l.94 2.06.94-2.06 2.06-.94-2.06-.94-.94-2.06-.94 2.06-2.06.94zm-11 1L8.5 8.5l.94-2.06 2.06-.94-2.06-.94L8.5 2.5l-.94 2.06-2.06.94zm10 10l.94 2.06.94-2.06 2.06-.94-2.06-.94-.94-2.06-.94 2.06-2.06.94z\"/><path d=\"M17.41 7.96l-1.37-1.37c-.4-.4-.92-.59-1.43-.59-.52 0-1.04.2-1.43.59L10.3 9.45l-7.72 7.72c-.78.78-.78 2.05 0 2.83L4 21.41c.39.39.9.59 1.41.59.51 0 1.02-.2 1.41-.59l7.78-7.78 2.81-2.81c.8-.78.8-2.07 0-2.86zM5.41 20L4 18.59l7.72-7.72 1.47 1.35L5.41 20z\"/>\n",
              "  </svg>\n",
              "      </button>\n",
              "      \n",
              "  <style>\n",
              "    .colab-df-container {\n",
              "      display:flex;\n",
              "      flex-wrap:wrap;\n",
              "      gap: 12px;\n",
              "    }\n",
              "\n",
              "    .colab-df-convert {\n",
              "      background-color: #E8F0FE;\n",
              "      border: none;\n",
              "      border-radius: 50%;\n",
              "      cursor: pointer;\n",
              "      display: none;\n",
              "      fill: #1967D2;\n",
              "      height: 32px;\n",
              "      padding: 0 0 0 0;\n",
              "      width: 32px;\n",
              "    }\n",
              "\n",
              "    .colab-df-convert:hover {\n",
              "      background-color: #E2EBFA;\n",
              "      box-shadow: 0px 1px 2px rgba(60, 64, 67, 0.3), 0px 1px 3px 1px rgba(60, 64, 67, 0.15);\n",
              "      fill: #174EA6;\n",
              "    }\n",
              "\n",
              "    [theme=dark] .colab-df-convert {\n",
              "      background-color: #3B4455;\n",
              "      fill: #D2E3FC;\n",
              "    }\n",
              "\n",
              "    [theme=dark] .colab-df-convert:hover {\n",
              "      background-color: #434B5C;\n",
              "      box-shadow: 0px 1px 3px 1px rgba(0, 0, 0, 0.15);\n",
              "      filter: drop-shadow(0px 1px 2px rgba(0, 0, 0, 0.3));\n",
              "      fill: #FFFFFF;\n",
              "    }\n",
              "  </style>\n",
              "\n",
              "      <script>\n",
              "        const buttonEl =\n",
              "          document.querySelector('#df-8aa719aa-c611-4167-972a-68be92cdb7be button.colab-df-convert');\n",
              "        buttonEl.style.display =\n",
              "          google.colab.kernel.accessAllowed ? 'block' : 'none';\n",
              "\n",
              "        async function convertToInteractive(key) {\n",
              "          const element = document.querySelector('#df-8aa719aa-c611-4167-972a-68be92cdb7be');\n",
              "          const dataTable =\n",
              "            await google.colab.kernel.invokeFunction('convertToInteractive',\n",
              "                                                     [key], {});\n",
              "          if (!dataTable) return;\n",
              "\n",
              "          const docLinkHtml = 'Like what you see? Visit the ' +\n",
              "            '<a target=\"_blank\" href=https://colab.research.google.com/notebooks/data_table.ipynb>data table notebook</a>'\n",
              "            + ' to learn more about interactive tables.';\n",
              "          element.innerHTML = '';\n",
              "          dataTable['output_type'] = 'display_data';\n",
              "          await google.colab.output.renderOutput(dataTable, element);\n",
              "          const docLink = document.createElement('div');\n",
              "          docLink.innerHTML = docLinkHtml;\n",
              "          element.appendChild(docLink);\n",
              "        }\n",
              "      </script>\n",
              "    </div>\n",
              "  </div>\n",
              "  "
            ],
            "text/plain": [
              "                                                  first_lead  ...  label\n",
              "S001_0     [0.0, 0.0, 0.0, 0.0, 0.0, 0.0, 0.0, 0.0, 0.0, ...  ...  [0.0]\n",
              "S001_1     [0.0, 0.0, 0.0, 0.0, 0.0, 0.0, 0.0, 0.0, 0.0, ...  ...  [0.0]\n",
              "S001_2     [0.0, 0.0, 0.0, 0.0, 0.0, 0.0, 0.0, 0.0, 0.0, ...  ...  [0.0]\n",
              "S001_3     [-0.1, -0.14, -0.14, -0.12, -0.13, -0.08, -0.1...  ...  [0.0]\n",
              "S001_4     [-0.05, -0.08, -0.07, -0.08, -0.05, -0.07, -0....  ...  [0.0]\n",
              "...                                                      ...  ...    ...\n",
              "S118_2447  [0.04, 0.02, 0.005, 0.0, 0.005, 0.005, 0.005, ...  ...  [0.0]\n",
              "S118_2448  [0.005, 0.0, -0.005, -0.015, -0.025, -0.035, -...  ...  [0.0]\n",
              "S118_2449  [-0.02, -0.035, -0.035, -0.04, -0.05, -0.055, ...  ...  [0.0]\n",
              "S118_2450  [-0.075, -0.055, -0.065, -0.085, -0.075, -0.07...  ...  [0.0]\n",
              "S118_2451  [0.04, 0.01, 0.0, -0.01, -0.02, -0.03, -0.035,...  ...  [0.0]\n",
              "\n",
              "[244336 rows x 4 columns]"
            ]
          },
          "metadata": {},
          "execution_count": 7
        }
      ]
    },
    {
      "cell_type": "code",
      "source": [
        "dataset_df = dataset_df[:125000]\n",
        "\n",
        "ids_n = dataset_df.index[dataset_df['stringLabel'] == 'N'].tolist() \n",
        "ids_v = dataset_df.index[dataset_df['stringLabel'] == 'V'].tolist() \n",
        "ids_s = dataset_df.index[dataset_df['stringLabel'] == 'S'].tolist() \n",
        "\n",
        "print(f\"N: {len(ids_n)}\")\n",
        "print(f\"V: {len(ids_v)}\")\n",
        "print(f\"S: {len(ids_s)}\")\n",
        "\n",
        "classes = [\"N\",\"S\",\"V\"]\n",
        "counts = [len(ids_n),len(ids_s),len(ids_v)]\n",
        "\n",
        "fig1, ax1 = plt.subplots()\n",
        "ax1.pie(counts, explode=None, labels=classes, autopct='%1.1f%%',\n",
        "        shadow=False, startangle=90)\n",
        "ax1.axis('equal')  # Equal aspect ratio ensures that pie is drawn as a circle.\n",
        "fig1.set_facecolor(\"white\")\n",
        "plt.show()"
      ],
      "metadata": {
        "colab": {
          "base_uri": "https://localhost:8080/",
          "height": 304
        },
        "id": "txzrfLLLb1_J",
        "outputId": "73dca88b-bb1e-42cb-b2ba-914e39608d49"
      },
      "execution_count": 8,
      "outputs": [
        {
          "output_type": "stream",
          "name": "stdout",
          "text": [
            "N: 110848\n",
            "V: 6107\n",
            "S: 8045\n"
          ]
        },
        {
          "output_type": "display_data",
          "data": {
            "image/png": "[encoded data removed]",
            "text/plain": [
              "<Figure size 432x288 with 1 Axes>"
            ]
          },
          "metadata": {}
        }
      ]
    },
    {
      "cell_type": "code",
      "source": [
        "ids_n = dataset_df.index[dataset_df['label'] == 0].tolist() \n",
        "ids_v = dataset_df.index[dataset_df['label'] == 2].tolist() \n",
        "ids_s = dataset_df.index[dataset_df['label'] == 1].tolist() \n",
        "\n",
        "print(f\"N: {len(ids_n)}\")\n",
        "print(f\"V: {len(ids_v)}\")\n",
        "print(f\"S: {len(ids_s)}\")\n",
        "\n",
        "classes = [\"N\",\"S\",\"V\"]\n",
        "counts = [len(ids_n),len(ids_s),len(ids_v)]\n",
        "\n",
        "fig1, ax1 = plt.subplots()\n",
        "ax1.pie(counts, explode=None, labels=classes, autopct='%1.1f%%',\n",
        "        shadow=False, startangle=90)\n",
        "ax1.axis('equal')  # Equal aspect ratio ensures that pie is drawn as a circle.\n",
        "fig1.set_facecolor(\"white\")\n",
        "plt.show()"
      ],
      "metadata": {
        "colab": {
          "base_uri": "https://localhost:8080/",
          "height": 304
        },
        "id": "39oXyxPlW0I8",
        "outputId": "19683009-691c-46f6-c8ef-e1d29bd911e6"
      },
      "execution_count": 9,
      "outputs": [
        {
          "output_type": "stream",
          "name": "stdout",
          "text": [
            "N: 110848\n",
            "V: 6107\n",
            "S: 8045\n"
          ]
        },
        {
          "output_type": "display_data",
          "data": {
            "image/png": "[encoded data removed]",
            "text/plain": [
              "<Figure size 432x288 with 1 Axes>"
            ]
          },
          "metadata": {}
        }
      ]
    },
    {
      "cell_type": "code",
      "source": [
        "from sklearn.model_selection import train_test_split\n",
        "\n",
        "test_percentage = 0.2\n",
        "\n",
        "train_val_df, test_df = train_test_split(dataset_df, test_size=test_percentage)"
      ],
      "metadata": {
        "id": "81H9ac90l5za"
      },
      "execution_count": 10,
      "outputs": []
    },
    {
      "cell_type": "code",
      "source": [
        "validation_percentage = 0.2\n",
        "\n",
        "train_df, validation_df = train_test_split(train_val_df, test_size=validation_percentage)\n",
        "\n",
        "# Training set\n",
        "\n",
        "x_train_ = train_df[['first_lead','second_lead']].values\n",
        "\n",
        "x_train_first_lead = list()\n",
        "x_train_second_lead = list()\n",
        "\n",
        "for k in x_train_:\n",
        "  x_train_first_lead.append(np.array(k[0]).astype(np.float32))\n",
        "  x_train_second_lead.append(np.array(k[1]).astype(np.float32))\n",
        "x_train_first_lead = np.asarray(x_train_first_lead).astype(np.float32)\n",
        "x_train_second_lead = np.asarray(x_train_second_lead).astype(np.float32)\n",
        "\n",
        "x_train = np.zeros((x_train_first_lead.shape[0], x_train_first_lead.shape[1], 2))\n",
        "x_train[:,:,0] = x_train_first_lead\n",
        "x_train[:,:,1] = x_train_second_lead\n",
        "\n",
        "y_train = train_df['label'].values.tolist()\n",
        "y_train = np.asarray(y_train).astype(np.float32)\n",
        "y_train[y_train==2] = 1\n",
        "\n",
        "\n",
        "# Validation set\n",
        "\n",
        "x_valid_ = validation_df[['first_lead','second_lead']].values\n",
        "\n",
        "x_valid_first_lead = list()\n",
        "x_valid_second_lead = list()\n",
        "\n",
        "for k in x_valid_:\n",
        "  x_valid_first_lead.append(np.array(k[0]).astype(np.float32))\n",
        "  x_valid_second_lead.append(np.array(k[1]).astype(np.float32))\n",
        "x_valid_first_lead = np.asarray(x_valid_first_lead).astype(np.float32)\n",
        "x_valid_second_lead = np.asarray(x_valid_second_lead).astype(np.float32)\n",
        "\n",
        "x_valid = np.zeros((x_valid_first_lead.shape[0], x_valid_first_lead.shape[1], 2))\n",
        "x_valid[:,:,0] = x_valid_first_lead\n",
        "x_valid[:,:,1] = x_valid_second_lead\n",
        "\n",
        "y_valid = validation_df['label'].values.tolist()\n",
        "y_valid = np.asarray(y_valid).astype(np.float32)\n",
        "y_valid[y_valid==2] = 1\n",
        "\n",
        "print(f\"samples available for training: {len(x_train)}\")\n",
        "print(f\"samples available for validation: {len(x_valid)}\")"
      ],
      "metadata": {
        "colab": {
          "base_uri": "https://localhost:8080/"
        },
        "id": "vAd307VZMIqM",
        "outputId": "be01c33e-6f2b-44b9-c6f5-481f254547bd"
      },
      "execution_count": 11,
      "outputs": [
        {
          "output_type": "stream",
          "name": "stdout",
          "text": [
            "samples available for training: 80000\n",
            "samples available for validation: 20000\n"
          ]
        }
      ]
    },
    {
      "cell_type": "code",
      "source": [
        "# count classes for training\n",
        "\n",
        "ids_n = train_df.index[train_df['stringLabel'] == 'N'].tolist() \n",
        "ids_rest = train_df.index[train_df['stringLabel'] != 'N'].tolist() \n",
        "\n",
        "print(f\"N: {len(ids_n)}\")\n",
        "print(f\"V: {len(ids_rest)}\")\n",
        "\n",
        "classes = [\"N\",\"Rest\"]\n",
        "counts = [len(ids_n),len(ids_rest)]\n",
        "\n",
        "fig1, ax1 = plt.subplots()\n",
        "ax1.pie(counts, explode=None, labels=classes, autopct='%1.1f%%',\n",
        "        shadow=False, startangle=90)\n",
        "ax1.axis('equal')  # Equal aspect ratio ensures that pie is drawn as a circle.\n",
        "fig1.set_facecolor(\"white\")\n",
        "plt.show()"
      ],
      "metadata": {
        "colab": {
          "base_uri": "https://localhost:8080/",
          "height": 283
        },
        "id": "2aYjSr9ecp9X",
        "outputId": "6c0a986e-560b-45a5-af1f-0ab49d69293a"
      },
      "execution_count": 13,
      "outputs": [
        {
          "output_type": "stream",
          "name": "stdout",
          "text": [
            "N: 71018\n",
            "V: 8982\n"
          ]
        },
        {
          "output_type": "display_data",
          "data": {
            "image/png": "[encoded data removed]",
            "text/plain": [
              "<Figure size 432x288 with 1 Axes>"
            ]
          },
          "metadata": {}
        }
      ]
    },
    {
      "cell_type": "code",
      "source": [
        "# count classes for validation\n",
        "\n",
        "ids_n = validation_df.index[validation_df['stringLabel'] == 'N'].tolist() \n",
        "ids_rest = validation_df.index[validation_df['stringLabel'] != 'N'].tolist() \n",
        "\n",
        "print(f\"N: {len(ids_n)}\")\n",
        "print(f\"V: {len(ids_rest)}\")\n",
        "\n",
        "classes = [\"N\",\"Rest\"]\n",
        "counts = [len(ids_n),len(ids_rest)]\n",
        "\n",
        "fig1, ax1 = plt.subplots()\n",
        "ax1.pie(counts, explode=None, labels=classes, autopct='%1.1f%%',\n",
        "        shadow=False, startangle=90)\n",
        "ax1.axis('equal')  # Equal aspect ratio ensures that pie is drawn as a circle.\n",
        "fig1.set_facecolor(\"white\")\n",
        "plt.show()"
      ],
      "metadata": {
        "colab": {
          "base_uri": "https://localhost:8080/",
          "height": 283
        },
        "id": "cF2QhryBcqvX",
        "outputId": "7ece8fde-9b44-4673-d8e3-2c37db96bab7"
      },
      "execution_count": 14,
      "outputs": [
        {
          "output_type": "stream",
          "name": "stdout",
          "text": [
            "N: 17729\n",
            "V: 2271\n"
          ]
        },
        {
          "output_type": "display_data",
          "data": {
            "image/png": "[encoded data removed]",
            "text/plain": [
              "<Figure size 432x288 with 1 Axes>"
            ]
          },
          "metadata": {}
        }
      ]
    },
    {
      "cell_type": "code",
      "source": [
        "def plot_confusion_matrix(y_true, y_pred):\n",
        "  \"\"\"\n",
        "    :param ndarray y_true: contains the ground truth labels in the shape (n_samples,)\n",
        "    :param ndarray y_pred: contains the predicted labels in the shape (n_samples,)\n",
        "  \"\"\"\n",
        "  con_mat = tf.math.confusion_matrix(labels=np.squeeze(y_true), predictions=np.rint(np.squeeze(y_pred))).numpy()\n",
        "  con_mat_norm = np.around(con_mat.astype('float') / con_mat.sum(axis=1)[:, np.newaxis], decimals=2)\n",
        "  con_mat_df = pd.DataFrame(con_mat_norm,\n",
        "                  index = classes, \n",
        "                  columns = classes)\n",
        "  figure = plt.figure(figsize=(8, 8))\n",
        "  sns.heatmap(con_mat_df, annot=True,cmap=plt.cm.Blues)\n",
        "  plt.tight_layout()\n",
        "  plt.ylabel('True label')\n",
        "  plt.xlabel('Predicted label')\n",
        "  plt.show()"
      ],
      "metadata": {
        "id": "fR6vyQJ5d_Ye"
      },
      "execution_count": 15,
      "outputs": []
    },
    {
      "cell_type": "markdown",
      "source": [
        "# Models"
      ],
      "metadata": {
        "id": "zkjG7BpQeCBW"
      }
    },
    {
      "cell_type": "markdown",
      "source": [
        "### N vs Rest"
      ],
      "metadata": {
        "id": "EZNQotzyXMDD"
      }
    },
    {
      "cell_type": "code",
      "source": [
        "timesteps = length\n",
        "channels_num = 2\n",
        "\n",
        "input = keras.layers.Input(shape=(timesteps, channels_num))\n",
        "\n",
        "conv1 = keras.layers.Conv1D(filters=32,kernel_size=25,activation=\"relu\")(input)\n",
        "maxPool1 = keras.layers.MaxPool1D(pool_size=2)(conv1)\n",
        "dropout1 = keras.layers.Dropout(0.05)(maxPool1)\n",
        "conv2 = keras.layers.Conv1D(filters=64,kernel_size=12,activation=\"relu\")(dropout1)\n",
        "maxPool2 = keras.layers.MaxPool1D(pool_size=2)(conv2)\n",
        "dropout2 = keras.layers.Dropout(0.1)(maxPool2)\n",
        "conv3 = keras.layers.Conv1D(filters=128,kernel_size=9,activation=\"relu\")(dropout2)\n",
        "maxPool3 = keras.layers.MaxPool1D(pool_size=2)(conv3)\n",
        "dropout3 = keras.layers.Dropout(0.15)(maxPool3)\n",
        "lstm1 = keras.layers.LSTM(64, return_sequences=True)(dropout3)\n",
        "lstm2 = keras.layers.LSTM(64, return_sequences=False)(lstm1)\n",
        "output = keras.layers.Dense(1, activation=tf.nn.sigmoid)(lstm2)\n",
        "model = keras.models.Model(inputs=input, outputs=output)\n",
        "\n",
        "model.summary()"
      ],
      "metadata": {
        "colab": {
          "base_uri": "https://localhost:8080/"
        },
        "id": "1h1MehtkeDMm",
        "outputId": "ab8f3091-475a-4b78-a99b-98ac33aa2527"
      },
      "execution_count": 16,
      "outputs": [
        {
          "output_type": "stream",
          "name": "stdout",
          "text": [
            "Model: \"model\"\n",
            "_________________________________________________________________\n",
            " Layer (type)                Output Shape              Param #   \n",
            "=================================================================\n",
            " input_1 (InputLayer)        [(None, 510, 2)]          0         \n",
            "                                                                 \n",
            " conv1d (Conv1D)             (None, 486, 32)           1632      \n",
            "                                                                 \n",
            " max_pooling1d (MaxPooling1D  (None, 243, 32)          0         \n",
            " )                                                               \n",
            "                                                                 \n",
            " dropout (Dropout)           (None, 243, 32)           0         \n",
            "                                                                 \n",
            " conv1d_1 (Conv1D)           (None, 232, 64)           24640     \n",
            "                                                                 \n",
            " max_pooling1d_1 (MaxPooling  (None, 116, 64)          0         \n",
            " 1D)                                                             \n",
            "                                                                 \n",
            " dropout_1 (Dropout)         (None, 116, 64)           0         \n",
            "                                                                 \n",
            " conv1d_2 (Conv1D)           (None, 108, 128)          73856     \n",
            "                                                                 \n",
            " max_pooling1d_2 (MaxPooling  (None, 54, 128)          0         \n",
            " 1D)                                                             \n",
            "                                                                 \n",
            " dropout_2 (Dropout)         (None, 54, 128)           0         \n",
            "                                                                 \n",
            " lstm (LSTM)                 (None, 54, 64)            49408     \n",
            "                                                                 \n",
            " lstm_1 (LSTM)               (None, 64)                33024     \n",
            "                                                                 \n",
            " dense (Dense)               (None, 1)                 65        \n",
            "                                                                 \n",
            "=================================================================\n",
            "Total params: 182,625\n",
            "Trainable params: 182,625\n",
            "Non-trainable params: 0\n",
            "_________________________________________________________________\n"
          ]
        }
      ]
    },
    {
      "cell_type": "code",
      "source": [
        "callback = keras.callbacks.EarlyStopping(monitor='val_loss', patience=10,mode=\"auto\")\n",
        "\n",
        "batch_size = 128\n",
        "learning_rate = 1e-7\n",
        "model.compile(\n",
        "    optimizer = 'adam',\n",
        "    loss = 'binary_crossentropy',\n",
        "    metrics = ['accuracy'],\n",
        "    \n",
        ")\n",
        "\n",
        "history = model.fit(\n",
        "    x = x_train,\n",
        "    y = y_train, \n",
        "    batch_size = batch_size,\n",
        "    steps_per_epoch=len(x_train)/batch_size,\n",
        "    validation_data=(x_valid, y_valid),\n",
        "    epochs = 50,\n",
        "    shuffle = True,\n",
        "    callbacks=[callback],\n",
        ").history\n",
        "\n",
        "\n",
        "y_pred = model.predict(x_valid)\n",
        "\n",
        "plot_confusion_matrix(y_valid, y_pred)"
      ],
      "metadata": {
        "colab": {
          "base_uri": "https://localhost:8080/",
          "height": 1000
        },
        "id": "LJLUo590rR7R",
        "outputId": "466a6f07-ceb5-48ec-b58a-881a24112ffc"
      },
      "execution_count": 17,
      "outputs": [
        {
          "output_type": "stream",
          "name": "stdout",
          "text": [
            "Epoch 1/50\n",
            "625/625 [==============================] - 43s 47ms/step - loss: 0.2333 - accuracy: 0.9225 - val_loss: 0.1103 - val_accuracy: 0.9622\n",
            "Epoch 2/50\n",
            "625/625 [==============================] - 28s 44ms/step - loss: 0.0911 - accuracy: 0.9689 - val_loss: 0.0822 - val_accuracy: 0.9708\n",
            "Epoch 3/50\n",
            "625/625 [==============================] - 28s 44ms/step - loss: 0.0714 - accuracy: 0.9747 - val_loss: 0.0630 - val_accuracy: 0.9794\n",
            "Epoch 4/50\n",
            "625/625 [==============================] - 28s 44ms/step - loss: 0.0643 - accuracy: 0.9775 - val_loss: 0.0650 - val_accuracy: 0.9766\n",
            "Epoch 5/50\n",
            "625/625 [==============================] - 28s 44ms/step - loss: 0.0600 - accuracy: 0.9787 - val_loss: 0.0576 - val_accuracy: 0.9802\n",
            "Epoch 6/50\n",
            "625/625 [==============================] - 27s 44ms/step - loss: 0.0560 - accuracy: 0.9803 - val_loss: 0.0583 - val_accuracy: 0.9809\n",
            "Epoch 7/50\n",
            "625/625 [==============================] - 28s 44ms/step - loss: 0.0537 - accuracy: 0.9807 - val_loss: 0.0584 - val_accuracy: 0.9800\n",
            "Epoch 8/50\n",
            "625/625 [==============================] - 28s 44ms/step - loss: 0.0508 - accuracy: 0.9816 - val_loss: 0.0550 - val_accuracy: 0.9820\n",
            "Epoch 9/50\n",
            "625/625 [==============================] - 28s 44ms/step - loss: 0.0481 - accuracy: 0.9831 - val_loss: 0.0529 - val_accuracy: 0.9823\n",
            "Epoch 10/50\n",
            "625/625 [==============================] - 28s 44ms/step - loss: 0.0469 - accuracy: 0.9830 - val_loss: 0.0553 - val_accuracy: 0.9809\n",
            "Epoch 11/50\n",
            "625/625 [==============================] - 28s 44ms/step - loss: 0.0450 - accuracy: 0.9839 - val_loss: 0.0516 - val_accuracy: 0.9833\n",
            "Epoch 12/50\n",
            "625/625 [==============================] - 28s 44ms/step - loss: 0.0435 - accuracy: 0.9848 - val_loss: 0.0492 - val_accuracy: 0.9834\n",
            "Epoch 13/50\n",
            "625/625 [==============================] - 27s 44ms/step - loss: 0.0427 - accuracy: 0.9843 - val_loss: 0.0512 - val_accuracy: 0.9827\n",
            "Epoch 14/50\n",
            "625/625 [==============================] - 28s 44ms/step - loss: 0.0417 - accuracy: 0.9851 - val_loss: 0.0466 - val_accuracy: 0.9843\n",
            "Epoch 15/50\n",
            "625/625 [==============================] - 27s 44ms/step - loss: 0.0394 - accuracy: 0.9855 - val_loss: 0.0468 - val_accuracy: 0.9850\n",
            "Epoch 16/50\n",
            "625/625 [==============================] - 28s 44ms/step - loss: 0.0383 - accuracy: 0.9859 - val_loss: 0.0492 - val_accuracy: 0.9840\n",
            "Epoch 17/50\n",
            "625/625 [==============================] - 27s 44ms/step - loss: 0.0380 - accuracy: 0.9859 - val_loss: 0.0474 - val_accuracy: 0.9840\n",
            "Epoch 18/50\n",
            "625/625 [==============================] - 28s 44ms/step - loss: 0.0362 - accuracy: 0.9864 - val_loss: 0.0474 - val_accuracy: 0.9840\n",
            "Epoch 19/50\n",
            "625/625 [==============================] - 28s 44ms/step - loss: 0.0366 - accuracy: 0.9866 - val_loss: 0.0486 - val_accuracy: 0.9845\n",
            "Epoch 20/50\n",
            "625/625 [==============================] - 28s 44ms/step - loss: 0.0349 - accuracy: 0.9870 - val_loss: 0.0524 - val_accuracy: 0.9841\n",
            "Epoch 21/50\n",
            "625/625 [==============================] - 28s 44ms/step - loss: 0.0349 - accuracy: 0.9874 - val_loss: 0.0494 - val_accuracy: 0.9853\n",
            "Epoch 22/50\n",
            "625/625 [==============================] - 27s 44ms/step - loss: 0.0339 - accuracy: 0.9874 - val_loss: 0.0537 - val_accuracy: 0.9838\n",
            "Epoch 23/50\n",
            "625/625 [==============================] - 28s 44ms/step - loss: 0.0338 - accuracy: 0.9872 - val_loss: 0.0493 - val_accuracy: 0.9847\n",
            "Epoch 24/50\n",
            "625/625 [==============================] - 27s 44ms/step - loss: 0.0317 - accuracy: 0.9878 - val_loss: 0.0490 - val_accuracy: 0.9843\n"
          ]
        },
        {
          "output_type": "display_data",
          "data": {
            "image/png": "[encoded data removed]",
            "text/plain": [
              "<Figure size 576x576 with 2 Axes>"
            ]
          },
          "metadata": {
            "needs_background": "light"
          }
        }
      ]
    },
    {
      "cell_type": "code",
      "source": [
        "tf.math.confusion_matrix(labels=np.squeeze(y_valid), predictions=np.rint(np.squeeze(y_pred))).numpy()"
      ],
      "metadata": {
        "colab": {
          "base_uri": "https://localhost:8080/"
        },
        "id": "LwSA3FqJuAne",
        "outputId": "fb4660fc-19e1-4912-d005-af09af2ab0a5"
      },
      "execution_count": 18,
      "outputs": [
        {
          "output_type": "execute_result",
          "data": {
            "text/plain": [
              "array([[17617,   112],\n",
              "       [  203,  2068]], dtype=int32)"
            ]
          },
          "metadata": {},
          "execution_count": 18
        }
      ]
    },
    {
      "cell_type": "code",
      "source": [
        "eval = model.evaluate(x=x_valid,y=y_valid,batch_size = 1)"
      ],
      "metadata": {
        "id": "9F0EeK1meiH_",
        "colab": {
          "base_uri": "https://localhost:8080/"
        },
        "outputId": "0468a5c8-d8fe-4806-8364-ac38e683aac9"
      },
      "execution_count": 19,
      "outputs": [
        {
          "output_type": "stream",
          "name": "stdout",
          "text": [
            "20000/20000 [==============================] - 172s 9ms/step - loss: 0.0490 - accuracy: 0.9843\n"
          ]
        }
      ]
    },
    {
      "cell_type": "code",
      "source": [
        "fig,(ax1,ax2) = plt.subplots(1,2)\n",
        "\n",
        "x = range(len(history['loss']))\n",
        "# loss\n",
        "y_train = history['loss']\n",
        "y_valid = history['val_loss']\n",
        "ax2.set_title(\"Loss\")\n",
        "ax1.plot(x,y_train,label=\"training\")\n",
        "ax1.plot(x,y_valid,label=\"validation\")\n",
        "ax1.legend()\n",
        "# accuracy \n",
        "y_train = history['accuracy']\n",
        "y_valid = history['val_accuracy']\n",
        "ax2.set_title(\"Accuracy\")\n",
        "ax2.plot(x,y_train,label=\"training\")\n",
        "ax2.plot(x,y_valid,label=\"validation\")\n",
        "ax2.legend()\n",
        "\n",
        "fig.set_size_inches(18.5, 10.5)\n",
        "plt.show()"
      ],
      "metadata": {
        "id": "Iwjy4OlieiK-",
        "colab": {
          "base_uri": "https://localhost:8080/",
          "height": 635
        },
        "outputId": "8577a1bc-284b-45e1-81c7-7ea2540e3bb6"
      },
      "execution_count": 20,
      "outputs": [
        {
          "output_type": "display_data",
          "data": {
            "image/png": "[encoded data removed]",
            "text/plain": [
              "<Figure size 1332x756 with 2 Axes>"
            ]
          },
          "metadata": {
            "needs_background": "light"
          }
        }
      ]
    },
    {
      "cell_type": "markdown",
      "source": [
        "### S vs V (discarding N)"
      ],
      "metadata": {
        "id": "PegBNED5XQ-7"
      }
    },
    {
      "cell_type": "code",
      "source": [
        "x_ = train_val_df[['first_lead','second_lead']].values\n",
        "\n",
        "x_first_lead = list()\n",
        "x_second_lead = list()\n",
        "\n",
        "for k in x_:\n",
        "  x_first_lead.append(np.array(k[0]).astype(np.float32))\n",
        "  x_second_lead.append(np.array(k[1]).astype(np.float32))\n",
        "x_first_lead = np.asarray(x_first_lead).astype(np.float32)\n",
        "x_second_lead = np.asarray(x_second_lead).astype(np.float32)\n",
        "\n",
        "x = np.zeros((x_first_lead.shape[0], x_first_lead.shape[1], 2))\n",
        "x[:,:,0] = x_first_lead\n",
        "x[:,:,1] = x_second_lead\n",
        "\n",
        "y = train_val_df['label'].values.tolist()\n",
        "y = np.asarray(y).astype(np.int)"
      ],
      "metadata": {
        "id": "fYAuKiNgH9vx"
      },
      "execution_count": 21,
      "outputs": []
    },
    {
      "cell_type": "code",
      "source": [
        "np.histogram(y)"
      ],
      "metadata": {
        "colab": {
          "base_uri": "https://localhost:8080/"
        },
        "id": "6DAGx81BaOJO",
        "outputId": "316dc57c-ec42-437a-caf4-eb91e7ca466b"
      },
      "execution_count": 22,
      "outputs": [
        {
          "output_type": "execute_result",
          "data": {
            "text/plain": [
              "(array([88747,     0,     0,     0,     0,  6391,     0,     0,     0,\n",
              "         4862]),\n",
              " array([0. , 0.2, 0.4, 0.6, 0.8, 1. , 1.2, 1.4, 1.6, 1.8, 2. ]))"
            ]
          },
          "metadata": {},
          "execution_count": 22
        }
      ]
    },
    {
      "cell_type": "code",
      "source": [
        "# eval = model.evaluate(x=x,y=y,batch_size = 1)"
      ],
      "metadata": {
        "id": "KXIolFYoL3q0"
      },
      "execution_count": 23,
      "outputs": []
    },
    {
      "cell_type": "code",
      "source": [
        "y_red = y[y!=0] # Remove 'N' and consider the rest\n",
        "\n",
        "len(y_red)"
      ],
      "metadata": {
        "colab": {
          "base_uri": "https://localhost:8080/"
        },
        "id": "DT-aUxWvOwMJ",
        "outputId": "1afeac90-92c8-4f32-d113-8b0abba7d7d0"
      },
      "execution_count": 24,
      "outputs": [
        {
          "output_type": "execute_result",
          "data": {
            "text/plain": [
              "11253"
            ]
          },
          "metadata": {},
          "execution_count": 24
        }
      ]
    },
    {
      "cell_type": "code",
      "source": [
        "np.histogram(y)"
      ],
      "metadata": {
        "colab": {
          "base_uri": "https://localhost:8080/"
        },
        "id": "lDi5KIN7dzzL",
        "outputId": "8c8c0781-758d-4abf-90d5-c5420bb76a4b"
      },
      "execution_count": 25,
      "outputs": [
        {
          "output_type": "execute_result",
          "data": {
            "text/plain": [
              "(array([88747,     0,     0,     0,     0,  6391,     0,     0,     0,\n",
              "         4862]),\n",
              " array([0. , 0.2, 0.4, 0.6, 0.8, 1. , 1.2, 1.4, 1.6, 1.8, 2. ]))"
            ]
          },
          "metadata": {},
          "execution_count": 25
        }
      ]
    },
    {
      "cell_type": "code",
      "source": [
        "x_red = x[np.squeeze(y)!=0]\n",
        "x_red.shape"
      ],
      "metadata": {
        "colab": {
          "base_uri": "https://localhost:8080/"
        },
        "id": "qCFX_fe-Nmd5",
        "outputId": "a4deaa62-c86a-4931-d95f-576ace6a213d"
      },
      "execution_count": 26,
      "outputs": [
        {
          "output_type": "execute_result",
          "data": {
            "text/plain": [
              "(11253, 510, 2)"
            ]
          },
          "metadata": {},
          "execution_count": 26
        }
      ]
    },
    {
      "cell_type": "code",
      "source": [
        "validation_percentage = 0.2\n",
        "\n",
        "x_red_train, x_red_valid, y_red_train, y_red_valid = train_test_split(x_red, y_red, test_size=validation_percentage)\n",
        "\n",
        "print(f\"samples available for training: {len(x_red_train)}\")\n",
        "print(f\"samples available for validation: {len(x_red_valid)}\")"
      ],
      "metadata": {
        "colab": {
          "base_uri": "https://localhost:8080/"
        },
        "id": "nHJ447ZcPgjR",
        "outputId": "4663f9ca-d369-40c6-d159-0c6141d72ee7"
      },
      "execution_count": 27,
      "outputs": [
        {
          "output_type": "stream",
          "name": "stdout",
          "text": [
            "samples available for training: 9002\n",
            "samples available for validation: 2251\n"
          ]
        }
      ]
    },
    {
      "cell_type": "code",
      "source": [
        "# count classes for training\n",
        "\n",
        "ids_s = x_red_train[y_red_train == 1].tolist() \n",
        "ids_v = x_red_train[y_red_train == 2].tolist() \n",
        "\n",
        "print(f\"S: {len(ids_s)}\")\n",
        "print(f\"V: {len(ids_v)}\")\n",
        "\n",
        "classes = [\"S\",\"V\"]\n",
        "counts = [len(ids_s),len(ids_v)]\n",
        "\n",
        "fig1, ax1 = plt.subplots()\n",
        "ax1.pie(counts, explode=None, labels=classes, autopct='%1.1f%%',\n",
        "        shadow=False, startangle=90)\n",
        "ax1.axis('equal')  # Equal aspect ratio ensures that pie is drawn as a circle.\n",
        "fig1.set_facecolor(\"white\")\n",
        "plt.show()"
      ],
      "metadata": {
        "colab": {
          "base_uri": "https://localhost:8080/",
          "height": 283
        },
        "id": "C5x2F0Aa27rW",
        "outputId": "4405b9f6-75e1-47a1-d5fe-960dde576f31"
      },
      "execution_count": 28,
      "outputs": [
        {
          "output_type": "stream",
          "name": "stdout",
          "text": [
            "S: 5109\n",
            "V: 3893\n"
          ]
        },
        {
          "output_type": "display_data",
          "data": {
            "image/png": "[encoded data removed]",
            "text/plain": [
              "<Figure size 432x288 with 1 Axes>"
            ]
          },
          "metadata": {}
        }
      ]
    },
    {
      "cell_type": "code",
      "source": [
        "# count classes for validation\n",
        "\n",
        "ids_s = x_red_train[y_red_train == 1].tolist() \n",
        "ids_v = x_red_train[y_red_train == 2].tolist() \n",
        "\n",
        "print(f\"S: {len(ids_s)}\")\n",
        "print(f\"V: {len(ids_v)}\")\n",
        "\n",
        "classes = [\"S\",\"V\"]\n",
        "counts = [len(ids_s),len(ids_v)]\n",
        "\n",
        "fig1, ax1 = plt.subplots()\n",
        "ax1.pie(counts, explode=None, labels=classes, autopct='%1.1f%%',\n",
        "        shadow=False, startangle=90)\n",
        "ax1.axis('equal')  # Equal aspect ratio ensures that pie is drawn as a circle.\n",
        "fig1.set_facecolor(\"white\")\n",
        "plt.show()"
      ],
      "metadata": {
        "colab": {
          "base_uri": "https://localhost:8080/",
          "height": 283
        },
        "id": "aBxli4s73LV2",
        "outputId": "1c13b864-e2cd-4881-d03c-c86f0b13d02f"
      },
      "execution_count": 29,
      "outputs": [
        {
          "output_type": "stream",
          "name": "stdout",
          "text": [
            "S: 5109\n",
            "V: 3893\n"
          ]
        },
        {
          "output_type": "display_data",
          "data": {
            "image/png": "[encoded data removed]",
            "text/plain": [
              "<Figure size 432x288 with 1 Axes>"
            ]
          },
          "metadata": {}
        }
      ]
    },
    {
      "cell_type": "code",
      "source": [
        "y_red_train[y_red_train==2] = 3\n",
        "y_red_valid[y_red_valid==2] = 3\n",
        "\n",
        "y_red_train[y_red_train==1] = 0\n",
        "y_red_valid[y_red_valid==1] = 0\n",
        "y_red_train[y_red_train==3] = 1\n",
        "y_red_valid[y_red_valid==3] = 1"
      ],
      "metadata": {
        "id": "gKOu6fbahhxL"
      },
      "execution_count": 30,
      "outputs": []
    },
    {
      "cell_type": "code",
      "source": [
        "np.histogram(y_red_train)"
      ],
      "metadata": {
        "colab": {
          "base_uri": "https://localhost:8080/"
        },
        "id": "42rr2pKGi_4R",
        "outputId": "7deea09c-b059-43f2-d935-aff2b53f94e1"
      },
      "execution_count": 31,
      "outputs": [
        {
          "output_type": "execute_result",
          "data": {
            "text/plain": [
              "(array([5109,    0,    0,    0,    0,    0,    0,    0,    0, 3893]),\n",
              " array([0. , 0.1, 0.2, 0.3, 0.4, 0.5, 0.6, 0.7, 0.8, 0.9, 1. ]))"
            ]
          },
          "metadata": {},
          "execution_count": 31
        }
      ]
    },
    {
      "cell_type": "code",
      "source": [
        "timesteps = length\n",
        "channels_num = 2\n",
        "\n",
        "input = keras.layers.Input(shape=(timesteps, channels_num))\n",
        "\n",
        "conv1 = keras.layers.Conv1D(filters=32,kernel_size=25,activation=\"relu\")(input)\n",
        "maxPool1 = keras.layers.MaxPool1D(pool_size=2)(conv1)\n",
        "dropout1 = keras.layers.Dropout(0.05)(maxPool1)\n",
        "conv2 = keras.layers.Conv1D(filters=64,kernel_size=12,activation=\"relu\")(dropout1)\n",
        "maxPool2 = keras.layers.MaxPool1D(pool_size=2)(conv2)\n",
        "dropout2 = keras.layers.Dropout(0.1)(maxPool2)\n",
        "conv3 = keras.layers.Conv1D(filters=128,kernel_size=9,activation=\"relu\")(dropout2)\n",
        "maxPool3 = keras.layers.MaxPool1D(pool_size=2)(conv3)\n",
        "dropout3 = keras.layers.Dropout(0.15)(maxPool3)\n",
        "lstm1 = keras.layers.LSTM(64, return_sequences=True)(dropout3)\n",
        "lstm2 = keras.layers.LSTM(64, return_sequences=False)(lstm1)\n",
        "output = keras.layers.Dense(1, activation=tf.nn.sigmoid)(lstm2)\n",
        "model_red = keras.models.Model(inputs=input, outputs=output)\n",
        "\n",
        "model_red.summary()"
      ],
      "metadata": {
        "colab": {
          "base_uri": "https://localhost:8080/"
        },
        "id": "57XAjJM9ivZm",
        "outputId": "59ac3fd7-0d55-443a-bf74-8796701b1d50"
      },
      "execution_count": 32,
      "outputs": [
        {
          "output_type": "stream",
          "name": "stdout",
          "text": [
            "Model: \"model_1\"\n",
            "_________________________________________________________________\n",
            " Layer (type)                Output Shape              Param #   \n",
            "=================================================================\n",
            " input_2 (InputLayer)        [(None, 510, 2)]          0         \n",
            "                                                                 \n",
            " conv1d_3 (Conv1D)           (None, 486, 32)           1632      \n",
            "                                                                 \n",
            " max_pooling1d_3 (MaxPooling  (None, 243, 32)          0         \n",
            " 1D)                                                             \n",
            "                                                                 \n",
            " dropout_3 (Dropout)         (None, 243, 32)           0         \n",
            "                                                                 \n",
            " conv1d_4 (Conv1D)           (None, 232, 64)           24640     \n",
            "                                                                 \n",
            " max_pooling1d_4 (MaxPooling  (None, 116, 64)          0         \n",
            " 1D)                                                             \n",
            "                                                                 \n",
            " dropout_4 (Dropout)         (None, 116, 64)           0         \n",
            "                                                                 \n",
            " conv1d_5 (Conv1D)           (None, 108, 128)          73856     \n",
            "                                                                 \n",
            " max_pooling1d_5 (MaxPooling  (None, 54, 128)          0         \n",
            " 1D)                                                             \n",
            "                                                                 \n",
            " dropout_5 (Dropout)         (None, 54, 128)           0         \n",
            "                                                                 \n",
            " lstm_2 (LSTM)               (None, 54, 64)            49408     \n",
            "                                                                 \n",
            " lstm_3 (LSTM)               (None, 64)                33024     \n",
            "                                                                 \n",
            " dense_1 (Dense)             (None, 1)                 65        \n",
            "                                                                 \n",
            "=================================================================\n",
            "Total params: 182,625\n",
            "Trainable params: 182,625\n",
            "Non-trainable params: 0\n",
            "_________________________________________________________________\n"
          ]
        }
      ]
    },
    {
      "cell_type": "code",
      "source": [
        "callback = keras.callbacks.EarlyStopping(monitor='val_loss', patience=10,mode=\"auto\")\n",
        "\n",
        "batch_size = 128\n",
        "learning_rate = 1e-12\n",
        "model_red.compile(\n",
        "    optimizer = 'adam',\n",
        "    loss = 'binary_crossentropy',\n",
        "    metrics = ['accuracy'],\n",
        "    \n",
        ")\n",
        "\n",
        "history2 = model_red.fit(\n",
        "    x = x_red_train,\n",
        "    y = y_red_train, \n",
        "    batch_size = batch_size,\n",
        "    steps_per_epoch=len(x_red_train)/batch_size,\n",
        "    validation_data=(x_red_valid, y_red_valid),\n",
        "    epochs = 100,\n",
        "    shuffle = True,\n",
        "    callbacks=[callback],\n",
        ").history\n",
        "\n",
        "\n",
        "y_red_pred = model_red.predict(x_red_valid)\n",
        "\n",
        "plot_confusion_matrix(y_red_valid, y_red_pred)"
      ],
      "metadata": {
        "colab": {
          "base_uri": "https://localhost:8080/",
          "height": 1000
        },
        "id": "DlzxmGSgYGRe",
        "outputId": "b4441278-152c-4bfe-d0b4-07782712624b"
      },
      "execution_count": 33,
      "outputs": [
        {
          "output_type": "stream",
          "name": "stdout",
          "text": [
            "Epoch 1/100\n",
            "70/70 [==============================] - 9s 70ms/step - loss: 0.5125 - accuracy: 0.7388 - val_loss: 0.3077 - val_accuracy: 0.8676\n",
            "Epoch 2/100\n",
            "70/70 [==============================] - 3s 41ms/step - loss: 0.2505 - accuracy: 0.8960 - val_loss: 0.2023 - val_accuracy: 0.9303\n",
            "Epoch 3/100\n",
            "70/70 [==============================] - 3s 41ms/step - loss: 0.1796 - accuracy: 0.9368 - val_loss: 0.1840 - val_accuracy: 0.9445\n",
            "Epoch 4/100\n",
            "70/70 [==============================] - 3s 41ms/step - loss: 0.1463 - accuracy: 0.9496 - val_loss: 0.1516 - val_accuracy: 0.9498\n",
            "Epoch 5/100\n",
            "70/70 [==============================] - 3s 42ms/step - loss: 0.1309 - accuracy: 0.9575 - val_loss: 0.1481 - val_accuracy: 0.9538\n",
            "Epoch 6/100\n",
            "70/70 [==============================] - 3s 42ms/step - loss: 0.1159 - accuracy: 0.9619 - val_loss: 0.1259 - val_accuracy: 0.9596\n",
            "Epoch 7/100\n",
            "70/70 [==============================] - 3s 42ms/step - loss: 0.1097 - accuracy: 0.9649 - val_loss: 0.1147 - val_accuracy: 0.9600\n",
            "Epoch 8/100\n",
            "70/70 [==============================] - 3s 42ms/step - loss: 0.0938 - accuracy: 0.9685 - val_loss: 0.1068 - val_accuracy: 0.9693\n",
            "Epoch 9/100\n",
            "70/70 [==============================] - 3s 43ms/step - loss: 0.0863 - accuracy: 0.9716 - val_loss: 0.1153 - val_accuracy: 0.9649\n",
            "Epoch 10/100\n",
            "70/70 [==============================] - 3s 43ms/step - loss: 0.0827 - accuracy: 0.9727 - val_loss: 0.0996 - val_accuracy: 0.9702\n",
            "Epoch 11/100\n",
            "70/70 [==============================] - 3s 41ms/step - loss: 0.0868 - accuracy: 0.9727 - val_loss: 0.1081 - val_accuracy: 0.9667\n",
            "Epoch 12/100\n",
            "70/70 [==============================] - 3s 41ms/step - loss: 0.0844 - accuracy: 0.9735 - val_loss: 0.1077 - val_accuracy: 0.9645\n",
            "Epoch 13/100\n",
            "70/70 [==============================] - 3s 42ms/step - loss: 0.0767 - accuracy: 0.9751 - val_loss: 0.0955 - val_accuracy: 0.9711\n",
            "Epoch 14/100\n",
            "70/70 [==============================] - 3s 42ms/step - loss: 0.0620 - accuracy: 0.9798 - val_loss: 0.1082 - val_accuracy: 0.9707\n",
            "Epoch 15/100\n",
            "70/70 [==============================] - 3s 43ms/step - loss: 0.0666 - accuracy: 0.9798 - val_loss: 0.1037 - val_accuracy: 0.9662\n",
            "Epoch 16/100\n",
            "70/70 [==============================] - 3s 43ms/step - loss: 0.0652 - accuracy: 0.9769 - val_loss: 0.0988 - val_accuracy: 0.9667\n",
            "Epoch 17/100\n",
            "70/70 [==============================] - 3s 42ms/step - loss: 0.0591 - accuracy: 0.9796 - val_loss: 0.1224 - val_accuracy: 0.9636\n",
            "Epoch 18/100\n",
            "70/70 [==============================] - 3s 42ms/step - loss: 0.0589 - accuracy: 0.9808 - val_loss: 0.1078 - val_accuracy: 0.9680\n",
            "Epoch 19/100\n",
            "70/70 [==============================] - 3s 42ms/step - loss: 0.0546 - accuracy: 0.9827 - val_loss: 0.1121 - val_accuracy: 0.9676\n",
            "Epoch 20/100\n",
            "70/70 [==============================] - 3s 42ms/step - loss: 0.0563 - accuracy: 0.9817 - val_loss: 0.1013 - val_accuracy: 0.9742\n",
            "Epoch 21/100\n",
            "70/70 [==============================] - 3s 41ms/step - loss: 0.0471 - accuracy: 0.9848 - val_loss: 0.1041 - val_accuracy: 0.9716\n",
            "Epoch 22/100\n",
            "70/70 [==============================] - 3s 41ms/step - loss: 0.0491 - accuracy: 0.9844 - val_loss: 0.1047 - val_accuracy: 0.9720\n",
            "Epoch 23/100\n",
            "70/70 [==============================] - 3s 41ms/step - loss: 0.0472 - accuracy: 0.9849 - val_loss: 0.0995 - val_accuracy: 0.9698\n"
          ]
        },
        {
          "output_type": "display_data",
          "data": {
            "image/png": "[encoded data removed]",
            "text/plain": [
              "<Figure size 576x576 with 2 Axes>"
            ]
          },
          "metadata": {
            "needs_background": "light"
          }
        }
      ]
    },
    {
      "cell_type": "code",
      "source": [
        "tf.math.confusion_matrix(labels=np.squeeze(y_red_valid), predictions=np.rint(np.squeeze(y_red_pred))).numpy()"
      ],
      "metadata": {
        "colab": {
          "base_uri": "https://localhost:8080/"
        },
        "id": "08sXWIey0E3Q",
        "outputId": "e93e56f1-2aa7-4a3f-b078-ff6a0f6068f2"
      },
      "execution_count": 34,
      "outputs": [
        {
          "output_type": "execute_result",
          "data": {
            "text/plain": [
              "array([[1256,   26],\n",
              "       [  42,  927]], dtype=int32)"
            ]
          },
          "metadata": {},
          "execution_count": 34
        }
      ]
    },
    {
      "cell_type": "code",
      "source": [
        "eval = model_red.evaluate(x=x_red_valid,y=y_red_valid,batch_size = 1)"
      ],
      "metadata": {
        "colab": {
          "base_uri": "https://localhost:8080/"
        },
        "id": "fjnNwtny0I0f",
        "outputId": "bd1a8527-d0fe-430c-aa45-eb54853103bd"
      },
      "execution_count": 35,
      "outputs": [
        {
          "output_type": "stream",
          "name": "stdout",
          "text": [
            "2251/2251 [==============================] - 21s 9ms/step - loss: 0.0995 - accuracy: 0.9698\n"
          ]
        }
      ]
    },
    {
      "cell_type": "code",
      "source": [
        "fig,(ax1,ax2) = plt.subplots(1,2)\n",
        "\n",
        "x = range(len(history2['loss']))\n",
        "# loss\n",
        "y_train = history2['loss']\n",
        "y_valid = history2['val_loss']\n",
        "ax2.set_title(\"Loss\")\n",
        "ax1.plot(x,y_train,label=\"training\")\n",
        "ax1.plot(x,y_valid,label=\"validation\")\n",
        "ax1.legend()\n",
        "# accuracy \n",
        "y_train = history2['accuracy']\n",
        "y_valid = history2['val_accuracy']\n",
        "ax2.set_title(\"Accuracy\")\n",
        "ax2.plot(x,y_train,label=\"training\")\n",
        "ax2.plot(x,y_valid,label=\"validation\")\n",
        "ax2.legend()\n",
        "\n",
        "fig.set_size_inches(18.5, 10.5)\n",
        "plt.show()"
      ],
      "metadata": {
        "colab": {
          "base_uri": "https://localhost:8080/",
          "height": 635
        },
        "id": "sLwYOsL00Mu_",
        "outputId": "f7c71d87-147c-4515-f2d7-5f6f4835a5f2"
      },
      "execution_count": 36,
      "outputs": [
        {
          "output_type": "display_data",
          "data": {
            "image/png": "[encoded data removed]",
            "text/plain": [
              "<Figure size 1332x756 with 2 Axes>"
            ]
          },
          "metadata": {
            "needs_background": "light"
          }
        }
      ]
    },
    {
      "cell_type": "code",
      "source": [
        "# Test set\n",
        "\n",
        "x_test_ = test_df[['first_lead','second_lead']].values\n",
        "\n",
        "x_test_first_lead = list()\n",
        "x_test_second_lead = list()\n",
        "\n",
        "for k in x_test_:\n",
        "  x_test_first_lead.append(np.array(k[0]).astype(np.float32))\n",
        "  x_test_second_lead.append(np.array(k[1]).astype(np.float32))\n",
        "x_test_first_lead = np.asarray(x_test_first_lead).astype(np.float32)\n",
        "x_test_second_lead = np.asarray(x_test_second_lead).astype(np.float32)\n",
        "\n",
        "x_test = np.zeros((x_test_first_lead.shape[0], x_test_first_lead.shape[1], 2))\n",
        "x_test[:,:,0] = x_test_first_lead\n",
        "x_test[:,:,1] = x_test_second_lead\n",
        "\n",
        "y_test = test_df['label'].values.tolist()\n",
        "y_test = np.asarray(y_test).astype(np.float32)"
      ],
      "metadata": {
        "id": "gS4tNGz3qHfX"
      },
      "execution_count": 37,
      "outputs": []
    },
    {
      "cell_type": "code",
      "source": [
        "x_test.shape"
      ],
      "metadata": {
        "colab": {
          "base_uri": "https://localhost:8080/"
        },
        "id": "mDEDKX_Wqddv",
        "outputId": "c0a4831e-8f5b-425f-ddcd-d4fb7e0ffc86"
      },
      "execution_count": 38,
      "outputs": [
        {
          "output_type": "execute_result",
          "data": {
            "text/plain": [
              "(25000, 510, 2)"
            ]
          },
          "metadata": {},
          "execution_count": 38
        }
      ]
    },
    {
      "cell_type": "code",
      "source": [
        "y_test.shape"
      ],
      "metadata": {
        "colab": {
          "base_uri": "https://localhost:8080/"
        },
        "id": "jmLHumGWqfX9",
        "outputId": "fe7185cf-a579-48dd-e339-9772b7894012"
      },
      "execution_count": 39,
      "outputs": [
        {
          "output_type": "execute_result",
          "data": {
            "text/plain": [
              "(25000, 1)"
            ]
          },
          "metadata": {},
          "execution_count": 39
        }
      ]
    },
    {
      "cell_type": "code",
      "source": [
        "y_test_1 = y_test.copy()\n",
        "y_test_1[y_test_1==2] = 1"
      ],
      "metadata": {
        "id": "CDYTS_mwpm2U"
      },
      "execution_count": 40,
      "outputs": []
    },
    {
      "cell_type": "code",
      "source": [
        "y_test_pred_1 = model.predict(x_test)\n",
        "\n",
        "plot_confusion_matrix(y_test_1, y_test_pred_1)"
      ],
      "metadata": {
        "colab": {
          "base_uri": "https://localhost:8080/",
          "height": 599
        },
        "id": "sh6N3Iw7renw",
        "outputId": "f0a71566-7e57-41ac-e74b-9b3aab5cc85b"
      },
      "execution_count": 41,
      "outputs": [
        {
          "output_type": "display_data",
          "data": {
            "image/png": "[encoded data removed]",
            "text/plain": [
              "<Figure size 576x576 with 2 Axes>"
            ]
          },
          "metadata": {
            "needs_background": "light"
          }
        }
      ]
    },
    {
      "cell_type": "code",
      "source": [
        "tf.math.confusion_matrix(labels=np.squeeze(y_test_1), predictions=np.rint(np.squeeze(y_test_pred_1))).numpy()"
      ],
      "metadata": {
        "colab": {
          "base_uri": "https://localhost:8080/"
        },
        "id": "mj9t617Gr6W5",
        "outputId": "5e8628f7-17d5-437c-cfe5-e66bcd22bc90"
      },
      "execution_count": 42,
      "outputs": [
        {
          "output_type": "execute_result",
          "data": {
            "text/plain": [
              "array([[21976,   125],\n",
              "       [  274,  2625]], dtype=int32)"
            ]
          },
          "metadata": {},
          "execution_count": 42
        }
      ]
    },
    {
      "cell_type": "code",
      "source": [
        "eval_model1 = model.evaluate(x=x_test,y=y_test_1,batch_size = 1)"
      ],
      "metadata": {
        "colab": {
          "base_uri": "https://localhost:8080/"
        },
        "id": "D6lmG8wnpdlO",
        "outputId": "6945e79d-5be2-4d98-d9ec-ec5d0a3ecba1"
      },
      "execution_count": 43,
      "outputs": [
        {
          "output_type": "stream",
          "name": "stdout",
          "text": [
            "25000/25000 [==============================] - 214s 9ms/step - loss: 0.0485 - accuracy: 0.9840\n"
          ]
        }
      ]
    },
    {
      "cell_type": "code",
      "source": [
        "y_test_pred_1 = np.rint(np.squeeze(y_test_pred_1))"
      ],
      "metadata": {
        "id": "BeauVMm0vpRm"
      },
      "execution_count": 44,
      "outputs": []
    },
    {
      "cell_type": "code",
      "source": [
        "x_test_2 = x_test[y_test_pred_1!=0]\n",
        "y_test_2 = y_test[y_test_pred_1!=0]"
      ],
      "metadata": {
        "id": "1kwzrunFv1JJ"
      },
      "execution_count": 45,
      "outputs": []
    },
    {
      "cell_type": "code",
      "source": [
        "x_test_2.shape"
      ],
      "metadata": {
        "colab": {
          "base_uri": "https://localhost:8080/"
        },
        "id": "foaPGEYrwKDq",
        "outputId": "5faa7397-8d4f-4150-8db4-e891ab573701"
      },
      "execution_count": 46,
      "outputs": [
        {
          "output_type": "execute_result",
          "data": {
            "text/plain": [
              "(2750, 510, 2)"
            ]
          },
          "metadata": {},
          "execution_count": 46
        }
      ]
    },
    {
      "cell_type": "code",
      "source": [
        "y_test_2.shape"
      ],
      "metadata": {
        "colab": {
          "base_uri": "https://localhost:8080/"
        },
        "id": "7DqTSYaewKJT",
        "outputId": "177d5ed0-3718-43cf-ff7b-e86fa1fb1c67"
      },
      "execution_count": 47,
      "outputs": [
        {
          "output_type": "execute_result",
          "data": {
            "text/plain": [
              "(2750, 1)"
            ]
          },
          "metadata": {},
          "execution_count": 47
        }
      ]
    },
    {
      "cell_type": "code",
      "source": [
        "y_test_2[y_test_2==2] = 3\n",
        "\n",
        "y_test_2[y_test_2==1] = 0\n",
        "y_test_2[y_test_2==3] = 1"
      ],
      "metadata": {
        "id": "qioayDNLyFGs"
      },
      "execution_count": 48,
      "outputs": []
    },
    {
      "cell_type": "code",
      "source": [
        "y_test_pred_2 = model_red.predict(x_test_2)\n",
        "\n",
        "plot_confusion_matrix(y_test_2, y_test_pred_2)"
      ],
      "metadata": {
        "colab": {
          "base_uri": "https://localhost:8080/",
          "height": 599
        },
        "id": "H2o7POcQx0eB",
        "outputId": "745d55df-7d8a-4b03-97ac-327337687fcf"
      },
      "execution_count": 49,
      "outputs": [
        {
          "output_type": "display_data",
          "data": {
            "image/png": "[encoded data removed]",
            "text/plain": [
              "<Figure size 576x576 with 2 Axes>"
            ]
          },
          "metadata": {
            "needs_background": "light"
          }
        }
      ]
    },
    {
      "cell_type": "code",
      "source": [
        "tf.math.confusion_matrix(labels=np.squeeze(y_test_2), predictions=np.rint(np.squeeze(y_test_pred_2))).numpy()"
      ],
      "metadata": {
        "colab": {
          "base_uri": "https://localhost:8080/"
        },
        "id": "CWgxvwNHx0g8",
        "outputId": "5f5445cb-db41-405c-c788-96a7effa68a5"
      },
      "execution_count": 50,
      "outputs": [
        {
          "output_type": "execute_result",
          "data": {
            "text/plain": [
              "array([[1493,   48],\n",
              "       [  30, 1179]], dtype=int32)"
            ]
          },
          "metadata": {},
          "execution_count": 50
        }
      ]
    },
    {
      "cell_type": "code",
      "source": [
        "eval_model2 = model_red.evaluate(x=x_test_2,y=y_test_2,batch_size = 1)"
      ],
      "metadata": {
        "colab": {
          "base_uri": "https://localhost:8080/"
        },
        "id": "GbY043MDx0ki",
        "outputId": "f084a12e-e90d-4b4e-d0df-38ca97fa0364"
      },
      "execution_count": 51,
      "outputs": [
        {
          "output_type": "stream",
          "name": "stdout",
          "text": [
            "2750/2750 [==============================] - 24s 9ms/step - loss: 0.1064 - accuracy: 0.9716\n"
          ]
        }
      ]
    }
  ]
}