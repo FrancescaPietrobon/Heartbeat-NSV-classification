{
  "cells": [
    {
      "cell_type": "markdown",
      "metadata": {
        "id": "view-in-github"
      },
      "source": [
        "<a href=\"https://colab.research.google.com/github/simonetome/ApplieAI-Biomedicine-Masciulli-Pietrobon-Tome/blob/main/OneVSAllProva.ipynb\" target=\"_parent\"><img src=\"https://colab.research.google.com/assets/colab-badge.svg\" alt=\"Open In Colab\"/></a>"
      ],
      "id": "view-in-github"
    },
    {
      "cell_type": "markdown",
      "id": "fbff9da2",
      "metadata": {
        "id": "fbff9da2"
      },
      "source": [
        "The aim of this notebook is to show performances augmenting samples of the imbalanced class with random gaussian noise of zero mean and variance 0.05 as suggested in DOI: 10.1155/2020/3215681"
      ]
    },
    {
      "cell_type": "code",
      "source": [
        "!pip install heartpy\n",
        "!pip install PyWavelets"
      ],
      "metadata": {
        "colab": {
          "base_uri": "https://localhost:8080/"
        },
        "id": "l1CgC3jGsC2d",
        "outputId": "e6a4c56f-cf3e-41e5-a866-86f9e39150fb"
      },
      "id": "l1CgC3jGsC2d",
      "execution_count": 1,
      "outputs": [
        {
          "output_type": "stream",
          "name": "stdout",
          "text": [
            "Requirement already satisfied: heartpy in /usr/local/lib/python3.7/dist-packages (1.2.7)\n",
            "Requirement already satisfied: scipy in /usr/local/lib/python3.7/dist-packages (from heartpy) (1.4.1)\n",
            "Requirement already satisfied: numpy>=1.17 in /usr/local/lib/python3.7/dist-packages (from heartpy) (1.19.5)\n",
            "Requirement already satisfied: matplotlib<=3.3.4 in /usr/local/lib/python3.7/dist-packages (from heartpy) (3.2.2)\n",
            "Requirement already satisfied: kiwisolver>=1.0.1 in /usr/local/lib/python3.7/dist-packages (from matplotlib<=3.3.4->heartpy) (1.3.2)\n",
            "Requirement already satisfied: cycler>=0.10 in /usr/local/lib/python3.7/dist-packages (from matplotlib<=3.3.4->heartpy) (0.11.0)\n",
            "Requirement already satisfied: python-dateutil>=2.1 in /usr/local/lib/python3.7/dist-packages (from matplotlib<=3.3.4->heartpy) (2.8.2)\n",
            "Requirement already satisfied: pyparsing!=2.0.4,!=2.1.2,!=2.1.6,>=2.0.1 in /usr/local/lib/python3.7/dist-packages (from matplotlib<=3.3.4->heartpy) (3.0.6)\n",
            "Requirement already satisfied: six>=1.5 in /usr/local/lib/python3.7/dist-packages (from python-dateutil>=2.1->matplotlib<=3.3.4->heartpy) (1.15.0)\n",
            "Requirement already satisfied: PyWavelets in /usr/local/lib/python3.7/dist-packages (1.2.0)\n",
            "Requirement already satisfied: numpy>=1.17.3 in /usr/local/lib/python3.7/dist-packages (from PyWavelets) (1.19.5)\n"
          ]
        }
      ]
    },
    {
      "cell_type": "code",
      "execution_count": 2,
      "id": "7bfe12d7",
      "metadata": {
        "id": "7bfe12d7"
      },
      "outputs": [],
      "source": [
        "import os \n",
        "import zipfile \n",
        "from scipy.io import loadmat \n",
        "import pandas as pd\n",
        "import matplotlib.pyplot as plt \n",
        "import numpy as np\n",
        "import io\n",
        "from PIL import Image\n",
        "import tensorflow as tf \n",
        "from tensorflow import keras\n",
        "import sys\n",
        "from scipy.signal import resample, butter, lfilter, iirnotch\n",
        "from tqdm import tqdm\n",
        "import random\n",
        "from sklearn.model_selection import train_test_split\n",
        "import heartpy as hp\n",
        "from tensorflow.keras.callbacks import ModelCheckpoint,EarlyStopping,ReduceLROnPlateau\n",
        "import pywt as pw\n",
        "import seaborn as sns\n",
        "SEED = 1\n",
        "tf.random.set_seed(SEED)\n",
        "np.random.seed(SEED)\n",
        "random.seed(SEED)\n",
        "os.environ['PYTHONHASHSEED'] = str(SEED)"
      ]
    },
    {
      "cell_type": "code",
      "source": [
        "#IF Colab cloud GPU used -> Mount the My Drive folder and set cwd\n",
        "from google.colab import drive\n",
        "drive.mount('/content/drive')\n",
        "cwd = '/content/drive/My Drive/FinalAssignment'\n",
        "os.chdir(cwd)\n",
        "dataset_folder = os.path.join(cwd,'training_set_dir')"
      ],
      "metadata": {
        "colab": {
          "base_uri": "https://localhost:8080/"
        },
        "id": "iiM7KQvEsJjV",
        "outputId": "2b2165c9-c758-4ef0-e0cf-0fb826ec49aa"
      },
      "id": "iiM7KQvEsJjV",
      "execution_count": 3,
      "outputs": [
        {
          "output_type": "stream",
          "name": "stdout",
          "text": [
            "Drive already mounted at /content/drive; to attempt to forcibly remount, call drive.mount(\"/content/drive\", force_remount=True).\n"
          ]
        }
      ]
    },
    {
      "cell_type": "code",
      "execution_count": 4,
      "id": "5fcdb248",
      "metadata": {
        "id": "5fcdb248",
        "colab": {
          "base_uri": "https://localhost:8080/",
          "height": 53
        },
        "outputId": "c98fba4d-eff9-4b77-8b9d-3d1b930e040e"
      },
      "outputs": [
        {
          "output_type": "execute_result",
          "data": {
            "application/vnd.google.colaboratory.intrinsic+json": {
              "type": "string"
            },
            "text/plain": [
              "'\\ndataset_current_folder = \"training_set.zip\" # where the zip is\\ndataset_folder = \"C://Users//simon//Desktop//AppliedAI-project\" # where I want the dataset - avoid the current folder as Git doesn\\'t allow huge uploads\\n\\nwith zipfile.ZipFile(dataset_current_folder, \\'r\\') as zip: # extract the zip file into the desired folder \\n    zip.extractall(dataset_folder)\\n'"
            ]
          },
          "metadata": {},
          "execution_count": 4
        }
      ],
      "source": [
        "'''\n",
        "dataset_current_folder = \"training_set.zip\" # where the zip is\n",
        "dataset_folder = \"C://Users//simon//Desktop//AppliedAI-project\" # where I want the dataset - avoid the current folder as Git doesn't allow huge uploads\n",
        "\n",
        "with zipfile.ZipFile(dataset_current_folder, 'r') as zip: # extract the zip file into the desired folder \n",
        "    zip.extractall(dataset_folder)\n",
        "'''"
      ]
    },
    {
      "cell_type": "code",
      "source": [
        "'''\n",
        "#IF local runtime used -> Set os.cwd as google drive volume , mounted locally\n",
        "os.chdir('G:\\Il mio Drive')\n",
        "cwd = os.getcwd()\n",
        "cwd = os.path.join(cwd,'Colab2022/AppliedAI/FinalAssignment')\n",
        "os.chdir(cwd)\n",
        "dataset_folder = os.path.join(cwd,'training_set_dir')\n",
        "'''"
      ],
      "metadata": {
        "id": "HsPnFitKvg0j",
        "colab": {
          "base_uri": "https://localhost:8080/",
          "height": 53
        },
        "outputId": "23d6570d-dcd7-4723-8fea-34dc8638d81b"
      },
      "id": "HsPnFitKvg0j",
      "execution_count": 5,
      "outputs": [
        {
          "output_type": "execute_result",
          "data": {
            "application/vnd.google.colaboratory.intrinsic+json": {
              "type": "string"
            },
            "text/plain": [
              "\"\\n#IF local runtime used -> Set os.cwd as google drive volume , mounted locally\\nos.chdir('G:\\\\Il mio Drive')\\ncwd = os.getcwd()\\ncwd = os.path.join(cwd,'Colab2022/AppliedAI/FinalAssignment')\\nos.chdir(cwd)\\ndataset_folder = os.path.join(cwd,'training_set_dir')\\n\""
            ]
          },
          "metadata": {},
          "execution_count": 5
        }
      ]
    },
    {
      "cell_type": "code",
      "execution_count": 6,
      "id": "26e300ba",
      "metadata": {
        "id": "26e300ba"
      },
      "outputs": [],
      "source": [
        "def load_data(sample_prefix, input_dir):    # everything is returned as a numpy array which is easier to manipulate\n",
        "    label_filepath = os.path.join(input_dir, sample_prefix + '_ann.mat')\n",
        "    peak_filepath = os.path.join(input_dir, sample_prefix + '_rpk.mat')\n",
        "    signal_filepath = os.path.join(input_dir, sample_prefix + '.mat')\n",
        "    if os.path.isfile(label_filepath):\n",
        "        mat_file = loadmat(label_filepath)\n",
        "        label = np.asarray(mat_file['labels'])\n",
        "    if os.path.isfile(peak_filepath):\n",
        "        mat_file = loadmat(peak_filepath)\n",
        "        peaks = np.array(mat_file['rpeaks'],dtype=np.int64)\n",
        "    if os.path.isfile(signal_filepath):\n",
        "        mat_file = loadmat(signal_filepath)\n",
        "        signal = np.asarray(mat_file['ecg'] )\n",
        "\n",
        "    return label, peaks, signal\n",
        "\n",
        "labels = list()             # labels \n",
        "ids = list()                # Id of samples \n",
        "rpeaks = list()             # detected peaks of the signal \n",
        "ecg_signals = list()        # .mat ecg signal \n",
        "frequencies = list()        # sample frequency of the ecg signal \n",
        "\n",
        "\n",
        "for f in os.listdir(dataset_folder):\n",
        "  if f.lower().endswith('.mat'):\n",
        "    id = f[:4]\n",
        "    if id not in ids:\n",
        "      ids.append(id)\n",
        "      sample_prefix = f[:8]\n",
        "      label, peak, signal = load_data(sample_prefix, dataset_folder)\n",
        "      labels.append(label)\n",
        "      rpeaks.append(peak)\n",
        "      ecg_signals.append(signal)\n",
        "      frequencies.append(int(sample_prefix[5:]))\n"
      ]
    },
    {
      "cell_type": "code",
      "execution_count": 7,
      "id": "d704c9dd",
      "metadata": {
        "id": "d704c9dd",
        "outputId": "1f41ccc7-c736-4b1e-e9a7-40a25e6bec27",
        "colab": {
          "base_uri": "https://localhost:8080/",
          "height": 224
        }
      },
      "outputs": [
        {
          "output_type": "stream",
          "name": "stderr",
          "text": [
            "100%|██████████| 105/105 [00:00<00:00, 674.73it/s]\n"
          ]
        },
        {
          "output_type": "execute_result",
          "data": {
            "text/html": [
              "\n",
              "  <div id=\"df-bf9fcd5a-3a66-48b9-b73a-28fbbdc22f59\">\n",
              "    <div class=\"colab-df-container\">\n",
              "      <div>\n",
              "<style scoped>\n",
              "    .dataframe tbody tr th:only-of-type {\n",
              "        vertical-align: middle;\n",
              "    }\n",
              "\n",
              "    .dataframe tbody tr th {\n",
              "        vertical-align: top;\n",
              "    }\n",
              "\n",
              "    .dataframe thead th {\n",
              "        text-align: right;\n",
              "    }\n",
              "</style>\n",
              "<table border=\"1\" class=\"dataframe\">\n",
              "  <thead>\n",
              "    <tr style=\"text-align: right;\">\n",
              "      <th></th>\n",
              "      <th>sigId</th>\n",
              "      <th>ecg_lead_1</th>\n",
              "      <th>ecg_lead_2</th>\n",
              "      <th>peaks</th>\n",
              "      <th>frequencies</th>\n",
              "      <th>labels</th>\n",
              "    </tr>\n",
              "  </thead>\n",
              "  <tbody>\n",
              "    <tr>\n",
              "      <th>0</th>\n",
              "      <td>S002</td>\n",
              "      <td>[-0.035, -0.045, -0.025, -0.035, -0.045, -0.05...</td>\n",
              "      <td>[-0.095, -0.105, -0.095, -0.095, -0.115, -0.09...</td>\n",
              "      <td>[48, 153, 243, 352, 440, 547, 636, 742, 831, 9...</td>\n",
              "      <td>128</td>\n",
              "      <td>[N, N, N, N, S, N, S, N, S, N, S, N, S, N, S, ...</td>\n",
              "    </tr>\n",
              "    <tr>\n",
              "      <th>1</th>\n",
              "      <td>S001</td>\n",
              "      <td>[0.0, 0.04, 0.03, 0.0, 0.03, 0.09, 0.18, 0.14,...</td>\n",
              "      <td>[0.08, 0.07, 0.1, 0.06, 0.06, 0.03, 0.1, 0.21,...</td>\n",
              "      <td>[29, 110, 191, 272, 353, 433, 514, 595, 676, 7...</td>\n",
              "      <td>128</td>\n",
              "      <td>[N, N, N, N, N, N, N, N, N, N, N, N, N, N, N, ...</td>\n",
              "    </tr>\n",
              "    <tr>\n",
              "      <th>2</th>\n",
              "      <td>S003</td>\n",
              "      <td>[-0.56, -0.56, -0.55, -0.47, -0.53, -0.47, -0....</td>\n",
              "      <td>[0.43, 0.56, 0.6, 0.41, 0.54, 0.48, 0.56, 0.46...</td>\n",
              "      <td>[91, 209, 326, 394, 537, 653, 745, 872, 984, 1...</td>\n",
              "      <td>128</td>\n",
              "      <td>[N, N, N, S, N, N, S, N, N, S, N, N, N, N, N, ...</td>\n",
              "    </tr>\n",
              "    <tr>\n",
              "      <th>3</th>\n",
              "      <td>S004</td>\n",
              "      <td>[-0.46, -0.49, -0.52, -0.58, -0.62, -0.69, -0....</td>\n",
              "      <td>[0.56, 0.61, 0.66, 0.66, 0.63, 0.66, 0.59, 0.5...</td>\n",
              "      <td>[98, 223, 349, 474, 599, 726, 853, 980, 1116, ...</td>\n",
              "      <td>128</td>\n",
              "      <td>[N, N, N, N, N, N, N, N, N, N, N, N, N, N, N, ...</td>\n",
              "    </tr>\n",
              "    <tr>\n",
              "      <th>4</th>\n",
              "      <td>S005</td>\n",
              "      <td>[-0.27, -0.17, -0.13, -0.23, -0.18, -0.23, -0....</td>\n",
              "      <td>[-0.02, -0.04, -0.01, -0.01, -0.02, -0.06, 0.0...</td>\n",
              "      <td>[27, 127, 225, 324, 423, 523, 623, 722, 822, 9...</td>\n",
              "      <td>128</td>\n",
              "      <td>[N, N, N, N, N, N, N, N, N, N, N, N, N, N, N, ...</td>\n",
              "    </tr>\n",
              "  </tbody>\n",
              "</table>\n",
              "</div>\n",
              "      <button class=\"colab-df-convert\" onclick=\"convertToInteractive('df-bf9fcd5a-3a66-48b9-b73a-28fbbdc22f59')\"\n",
              "              title=\"Convert this dataframe to an interactive table.\"\n",
              "              style=\"display:none;\">\n",
              "        \n",
              "  <svg xmlns=\"http://www.w3.org/2000/svg\" height=\"24px\"viewBox=\"0 0 24 24\"\n",
              "       width=\"24px\">\n",
              "    <path d=\"M0 0h24v24H0V0z\" fill=\"none\"/>\n",
              "    <path d=\"M18.56 5.44l.94 2.06.94-2.06 2.06-.94-2.06-.94-.94-2.06-.94 2.06-2.06.94zm-11 1L8.5 8.5l.94-2.06 2.06-.94-2.06-.94L8.5 2.5l-.94 2.06-2.06.94zm10 10l.94 2.06.94-2.06 2.06-.94-2.06-.94-.94-2.06-.94 2.06-2.06.94z\"/><path d=\"M17.41 7.96l-1.37-1.37c-.4-.4-.92-.59-1.43-.59-.52 0-1.04.2-1.43.59L10.3 9.45l-7.72 7.72c-.78.78-.78 2.05 0 2.83L4 21.41c.39.39.9.59 1.41.59.51 0 1.02-.2 1.41-.59l7.78-7.78 2.81-2.81c.8-.78.8-2.07 0-2.86zM5.41 20L4 18.59l7.72-7.72 1.47 1.35L5.41 20z\"/>\n",
              "  </svg>\n",
              "      </button>\n",
              "      \n",
              "  <style>\n",
              "    .colab-df-container {\n",
              "      display:flex;\n",
              "      flex-wrap:wrap;\n",
              "      gap: 12px;\n",
              "    }\n",
              "\n",
              "    .colab-df-convert {\n",
              "      background-color: #E8F0FE;\n",
              "      border: none;\n",
              "      border-radius: 50%;\n",
              "      cursor: pointer;\n",
              "      display: none;\n",
              "      fill: #1967D2;\n",
              "      height: 32px;\n",
              "      padding: 0 0 0 0;\n",
              "      width: 32px;\n",
              "    }\n",
              "\n",
              "    .colab-df-convert:hover {\n",
              "      background-color: #E2EBFA;\n",
              "      box-shadow: 0px 1px 2px rgba(60, 64, 67, 0.3), 0px 1px 3px 1px rgba(60, 64, 67, 0.15);\n",
              "      fill: #174EA6;\n",
              "    }\n",
              "\n",
              "    [theme=dark] .colab-df-convert {\n",
              "      background-color: #3B4455;\n",
              "      fill: #D2E3FC;\n",
              "    }\n",
              "\n",
              "    [theme=dark] .colab-df-convert:hover {\n",
              "      background-color: #434B5C;\n",
              "      box-shadow: 0px 1px 3px 1px rgba(0, 0, 0, 0.15);\n",
              "      filter: drop-shadow(0px 1px 2px rgba(0, 0, 0, 0.3));\n",
              "      fill: #FFFFFF;\n",
              "    }\n",
              "  </style>\n",
              "\n",
              "      <script>\n",
              "        const buttonEl =\n",
              "          document.querySelector('#df-bf9fcd5a-3a66-48b9-b73a-28fbbdc22f59 button.colab-df-convert');\n",
              "        buttonEl.style.display =\n",
              "          google.colab.kernel.accessAllowed ? 'block' : 'none';\n",
              "\n",
              "        async function convertToInteractive(key) {\n",
              "          const element = document.querySelector('#df-bf9fcd5a-3a66-48b9-b73a-28fbbdc22f59');\n",
              "          const dataTable =\n",
              "            await google.colab.kernel.invokeFunction('convertToInteractive',\n",
              "                                                     [key], {});\n",
              "          if (!dataTable) return;\n",
              "\n",
              "          const docLinkHtml = 'Like what you see? Visit the ' +\n",
              "            '<a target=\"_blank\" href=https://colab.research.google.com/notebooks/data_table.ipynb>data table notebook</a>'\n",
              "            + ' to learn more about interactive tables.';\n",
              "          element.innerHTML = '';\n",
              "          dataTable['output_type'] = 'display_data';\n",
              "          await google.colab.output.renderOutput(dataTable, element);\n",
              "          const docLink = document.createElement('div');\n",
              "          docLink.innerHTML = docLinkHtml;\n",
              "          element.appendChild(docLink);\n",
              "        }\n",
              "      </script>\n",
              "    </div>\n",
              "  </div>\n",
              "  "
            ],
            "text/plain": [
              "  sigId  ...                                             labels\n",
              "0  S002  ...  [N, N, N, N, S, N, S, N, S, N, S, N, S, N, S, ...\n",
              "1  S001  ...  [N, N, N, N, N, N, N, N, N, N, N, N, N, N, N, ...\n",
              "2  S003  ...  [N, N, N, S, N, N, S, N, N, S, N, N, N, N, N, ...\n",
              "3  S004  ...  [N, N, N, N, N, N, N, N, N, N, N, N, N, N, N, ...\n",
              "4  S005  ...  [N, N, N, N, N, N, N, N, N, N, N, N, N, N, N, ...\n",
              "\n",
              "[5 rows x 6 columns]"
            ]
          },
          "metadata": {},
          "execution_count": 7
        }
      ],
      "source": [
        "cols = [\"sigId\",\"ecg_lead_1\",\"ecg_lead_2\",\"peaks\",\"frequencies\",\"labels\"]\n",
        "\n",
        "# ecg signals is 105 rows [,,,,,]\n",
        "\n",
        "first_lead_signals = []\n",
        "second_lead_signals = []\n",
        "\n",
        "for signal in ecg_signals:\n",
        "    first_lead_signals.append(signal[:,0].tolist())    # converting the array to list as list of array is deprecated \n",
        "    second_lead_signals.append(signal[:,1].tolist())\n",
        "\n",
        "df = pd.DataFrame(data =[ids,first_lead_signals,second_lead_signals,rpeaks,frequencies,labels]).T\n",
        "df.columns = cols\n",
        "\n",
        "# transform peaks \n",
        "for id in tqdm(df.index.tolist()):\n",
        "    peaks = df.iloc[id]['peaks']\n",
        "    p_list = list()\n",
        "    for p in peaks:\n",
        "        p_list.append(p[0])\n",
        "    df.iloc[id]['peaks'] = np.asarray(p_list).astype(np.int64)\n",
        "\n",
        "df.head()"
      ]
    },
    {
      "cell_type": "code",
      "execution_count": 9,
      "id": "999717a8",
      "metadata": {
        "id": "999717a8",
        "outputId": "fe7efdd5-ad42-4f7a-928b-756a0878d713",
        "colab": {
          "base_uri": "https://localhost:8080/",
          "height": 87
        }
      },
      "outputs": [
        {
          "output_type": "execute_result",
          "data": {
            "application/vnd.google.colaboratory.intrinsic+json": {
              "type": "string"
            },
            "text/plain": [
              "\"\\n\\nids_128 = df[df['frequencies'] == 128].index.tolist() \\nids_250 = df[df['frequencies'] == 250].index.tolist() \\nresampled_len = len(df.iloc[ids_128[0]]['ecg_lead_1'])\\nsampled_len = len(df.iloc[ids_250[0]]['ecg_lead_1'])\\n\\n\\nfor id in tqdm(ids_250):\\n    row = df.iloc[id]\\n    # first lead\\n    signal = np.asarray(row['ecg_lead_1']).astype(np.float32)\\n    resampled_1 = resample(signal,resampled_len)\\n    \\n    # second lead\\n    signal = np.asarray(row['ecg_lead_2']).astype(np.float32)\\n    resampled_2 = resample(signal,resampled_len)\\n    \\n    df.iloc[id]['ecg_lead_1'] = resampled_1.tolist()\\n    df.iloc[id]['ecg_lead_2'] = resampled_2.tolist()\\n    \\n    for i,p in enumerate(list(df.iloc[id]['peaks'])):\\n        df.iloc[id]['peaks'][i] = int(resampled_len * p/sampled_len)\\n\\ndf.head()\\n\""
            ]
          },
          "metadata": {},
          "execution_count": 9
        }
      ],
      "source": [
        "# downsampling signal \n",
        "'''\n",
        "\n",
        "ids_128 = df[df['frequencies'] == 128].index.tolist() \n",
        "ids_250 = df[df['frequencies'] == 250].index.tolist() \n",
        "resampled_len = len(df.iloc[ids_128[0]]['ecg_lead_1'])\n",
        "sampled_len = len(df.iloc[ids_250[0]]['ecg_lead_1'])\n",
        "\n",
        "\n",
        "for id in tqdm(ids_250):\n",
        "    row = df.iloc[id]\n",
        "    # first lead\n",
        "    signal = np.asarray(row['ecg_lead_1']).astype(np.float32)\n",
        "    resampled_1 = resample(signal,resampled_len)\n",
        "    \n",
        "    # second lead\n",
        "    signal = np.asarray(row['ecg_lead_2']).astype(np.float32)\n",
        "    resampled_2 = resample(signal,resampled_len)\n",
        "    \n",
        "    df.iloc[id]['ecg_lead_1'] = resampled_1.tolist()\n",
        "    df.iloc[id]['ecg_lead_2'] = resampled_2.tolist()\n",
        "    \n",
        "    for i,p in enumerate(list(df.iloc[id]['peaks'])):\n",
        "        df.iloc[id]['peaks'][i] = int(resampled_len * p/sampled_len)\n",
        "\n",
        "df.head()\n",
        "'''"
      ]
    },
    {
      "cell_type": "code",
      "execution_count": 10,
      "id": "b8a6e546",
      "metadata": {
        "id": "b8a6e546",
        "colab": {
          "base_uri": "https://localhost:8080/",
          "height": 105
        },
        "outputId": "2cd681ee-2a76-421f-e9f4-a133bd98a19b"
      },
      "outputs": [
        {
          "output_type": "execute_result",
          "data": {
            "application/vnd.google.colaboratory.intrinsic+json": {
              "type": "string"
            },
            "text/plain": [
              "\"\\ndef plot_signal(df,id,length):\\n    fig,axs = plt.subplots(2)\\n    fig.set_size_inches(18.5, 10.5)\\n    ax1 = axs[0]\\n    ax2 = axs[1]\\n    \\n    signal = df.iloc[id]\\n    \\n    first_lead = signal['ecg_lead_1'][:length]\\n    second_lead = signal['ecg_lead_2'][:length]\\n    \\n    peaks_ = signal['peaks']\\n    labels_ = signal['labels']\\n    \\n    x = list(range(length))\\n    \\n    ax1.plot(x,first_lead)\\n    ax2.plot(x,second_lead)\\n    \\n    peaks = list()\\n    p_amplitudes_first = list()\\n    p_amplitudes_second = list()\\n    labels = list()\\n    \\n    for i,p in enumerate(peaks_):\\n        if(p <= length):\\n            peaks.append(p)\\n            p_amplitudes_first.append(first_lead[p])\\n            p_amplitudes_second.append(second_lead[p])\\n            labels.append(labels_[i])\\n        else:\\n            break\\n            \\n    ax1.scatter(peaks,p_amplitudes_first,color='red')\\n    ax2.scatter(peaks,p_amplitudes_second,color='red')\\n    offset = 10\\n    \\n    for i, txt in enumerate(labels):\\n        ax1.annotate(txt, (peaks[i]+offset, p_amplitudes_first[i]),size = 14)\\n        ax2.annotate(txt, (peaks[i]+offset, p_amplitudes_second[i]),size = 14)\\n    \\n    print(labels)\\n    plt.show()\\n\\n\\n\\nplot_signal(df,0,1500)\\nplot_signal(df,1,1500)\\nplot_signal(df,2,1500)\\n\""
            ]
          },
          "metadata": {},
          "execution_count": 10
        }
      ],
      "source": [
        "# plot signal \n",
        "'''\n",
        "def plot_signal(df,id,length):\n",
        "    fig,axs = plt.subplots(2)\n",
        "    fig.set_size_inches(18.5, 10.5)\n",
        "    ax1 = axs[0]\n",
        "    ax2 = axs[1]\n",
        "    \n",
        "    signal = df.iloc[id]\n",
        "    \n",
        "    first_lead = signal['ecg_lead_1'][:length]\n",
        "    second_lead = signal['ecg_lead_2'][:length]\n",
        "    \n",
        "    peaks_ = signal['peaks']\n",
        "    labels_ = signal['labels']\n",
        "    \n",
        "    x = list(range(length))\n",
        "    \n",
        "    ax1.plot(x,first_lead)\n",
        "    ax2.plot(x,second_lead)\n",
        "    \n",
        "    peaks = list()\n",
        "    p_amplitudes_first = list()\n",
        "    p_amplitudes_second = list()\n",
        "    labels = list()\n",
        "    \n",
        "    for i,p in enumerate(peaks_):\n",
        "        if(p <= length):\n",
        "            peaks.append(p)\n",
        "            p_amplitudes_first.append(first_lead[p])\n",
        "            p_amplitudes_second.append(second_lead[p])\n",
        "            labels.append(labels_[i])\n",
        "        else:\n",
        "            break\n",
        "            \n",
        "    ax1.scatter(peaks,p_amplitudes_first,color='red')\n",
        "    ax2.scatter(peaks,p_amplitudes_second,color='red')\n",
        "    offset = 10\n",
        "    \n",
        "    for i, txt in enumerate(labels):\n",
        "        ax1.annotate(txt, (peaks[i]+offset, p_amplitudes_first[i]),size = 14)\n",
        "        ax2.annotate(txt, (peaks[i]+offset, p_amplitudes_second[i]),size = 14)\n",
        "    \n",
        "    print(labels)\n",
        "    plt.show()\n",
        "\n",
        "\n",
        "\n",
        "plot_signal(df,0,1500)\n",
        "plot_signal(df,1,1500)\n",
        "plot_signal(df,2,1500)\n",
        "'''"
      ]
    },
    {
      "cell_type": "code",
      "execution_count": 12,
      "id": "fc5a69f6",
      "metadata": {
        "id": "fc5a69f6",
        "colab": {
          "base_uri": "https://localhost:8080/"
        },
        "outputId": "211ecd39-bb72-40f8-dc99-c2805bd81d6d"
      },
      "outputs": [
        {
          "output_type": "stream",
          "name": "stderr",
          "text": [
            "100%|██████████| 39/39 [00:01<00:00, 29.02it/s]\n"
          ]
        }
      ],
      "source": [
        "#Preprocessing used in practical lessons\n",
        "\n",
        "def notch_filter(cutoff, fs, q=30):\n",
        "    nyq = 0.5*fs\n",
        "    freq = cutoff/nyq\n",
        "    b, a = iirnotch(freq, q)\n",
        "    return b, a\n",
        "\n",
        "#def bandpass_filter(data, filter_order=5, lowcut = .5, highcut = 55, signal_freq=128):\n",
        "def bandpass_filter(data, filter_order=5, lowcut = .8, highcut = 45, signal_freq=128):# Bene V ma non S\n",
        "#def bandpass_filter(data, filter_order=5, lowcut = .8, highcut = 55, signal_freq=128):\n",
        "        \"\"\"\n",
        "        Method responsible for creating and applying Butterworth filter.\n",
        "        :param deque data: raw data\n",
        "        :param float lowcut: filter lowcut frequency value\n",
        "        :param float highcut: filter highcut frequency value\n",
        "        :param int signal_freq: signal frequency in samples per second (Hz)\n",
        "        :param int filter_order: filter order\n",
        "        :return array: filtered data\n",
        "        \"\"\"\n",
        "        powerline = 60\n",
        "        nyquist_freq = 0.5 * signal_freq\n",
        "        low = lowcut / nyquist_freq\n",
        "        high = highcut / nyquist_freq\n",
        "        b, a = butter(filter_order, [low, high], btype=\"band\")\n",
        "        y = lfilter(b, a, data)\n",
        "        #b,a = notch_filter(powerline,signal_freq)\n",
        "        #y = lfilter(b,a,data)\n",
        "        return y\n",
        "\n",
        "\n",
        "# center signals and remove baseline \n",
        "ids = df['sigId'].index\n",
        "for id in tqdm(ids):\n",
        "    row = df.iloc[id]\n",
        "    \n",
        "    first_sig = np.array(row['ecg_lead_1'])\n",
        "    second_sig = np.array(row['ecg_lead_2'])\n",
        "    \n",
        "    first_sig = bandpass_filter(first_sig)\n",
        "    second_sig = bandpass_filter(second_sig)\n",
        "\n",
        "    #first_sig = hp.enhance_ecg_peaks(first_sig, 128)\n",
        "    first_sig = hp.smooth_signal(first_sig, 128)\n",
        "    #first_sig = hp.remove_baseline_wander(first_sig, 128,cutoff=0.01)\n",
        "    #second_sig = hp.enhance_ecg_peaks(second_sig, 128)\n",
        "    second_sig = hp.smooth_signal(second_sig, 128)\n",
        "    #second_sig = hp.remove_baseline_wander(second_sig, 128,cutoff=0.01)\n",
        "    \n",
        "\n",
        "    # https://swharden.com/blog/2020-09-23-signal-filtering-in-python/\n",
        "    # create a normalized Hanning window\n",
        "    #windowSize = 5\n",
        "    #window = np.hanning(windowSize)\n",
        "    #window = window / window.sum()\n",
        "    #first_sig = np.convolve(window, first_sig, mode='same')\n",
        "    #second_sig = np.convolve(window, second_sig, mode='same')\n",
        "    #first_sig = ((first_sig - first_sig.min())/(first_sig.max()-first_sig.min())).tolist()\n",
        "    #second_sig = ((second_sig - second_sig.min())/(second_sig.max()-second_sig.min())).tolist()\n",
        "\n",
        "    #first_sig = ((first_sig - first_sig.mean())/(first_sig.std()))#.tolist()\n",
        "    #second_sig = ((second_sig - second_sig.mean())/(second_sig.std()))#.tolist()\n",
        "    df.iloc[id]['ecg_lead_1'] = first_sig[:]\n",
        "    df.iloc[id]['ecg_lead_2'] = second_sig[:]\n",
        "\n",
        "#plot_signal(df,0,1500)\n",
        "#plot_signal(df,1,1500)\n",
        "#plot_signal(df,2,1500)\n"
      ]
    },
    {
      "cell_type": "code",
      "source": [
        "import gc\n",
        "#del training_patches_df\n",
        "#del training_df\n",
        "#del validation_patches_df\n",
        "#del validation_df\n",
        "gc.collect()"
      ],
      "metadata": {
        "id": "Vy8VG8a_4V4r",
        "colab": {
          "base_uri": "https://localhost:8080/"
        },
        "outputId": "583c7e14-6a5e-410c-ec98-f74615fb3bc1"
      },
      "id": "Vy8VG8a_4V4r",
      "execution_count": 13,
      "outputs": [
        {
          "output_type": "execute_result",
          "data": {
            "text/plain": [
              "100"
            ]
          },
          "metadata": {},
          "execution_count": 13
        }
      ]
    },
    {
      "cell_type": "code",
      "source": [
        "'''\n",
        "row = df.loc[48]\n",
        "len(row['peaks'])\n",
        "'''"
      ],
      "metadata": {
        "id": "TP8LdDZhiYx7",
        "colab": {
          "base_uri": "https://localhost:8080/",
          "height": 35
        },
        "outputId": "2bab6e6f-534b-4cd9-bb5d-5df1f525a76b"
      },
      "id": "TP8LdDZhiYx7",
      "execution_count": 14,
      "outputs": [
        {
          "output_type": "execute_result",
          "data": {
            "application/vnd.google.colaboratory.intrinsic+json": {
              "type": "string"
            },
            "text/plain": [
              "\"\\nrow = df.loc[48]\\nlen(row['peaks'])\\n\""
            ]
          },
          "metadata": {},
          "execution_count": 14
        }
      ]
    },
    {
      "cell_type": "code",
      "source": [
        "'''\n",
        "# trying https://arxiv.org/pdf/1805.00794.pdf preprocessing and patch extraction\n",
        "\n",
        "def convert_to_one_hot(label):\n",
        "    return np.array(classes == label,dtype=np.float32)\n",
        "\n",
        "def create_patch_v2(df):\n",
        "  dataset_dict = {}\n",
        "  ids = df.index.tolist()\n",
        "  offset = 50\n",
        "  for id in tqdm(ids):\n",
        "      row =  df.loc[id]\n",
        "\n",
        "      peaks = row['peaks']\n",
        "      first_sig = row['ecg_lead_1']\n",
        "      second_sig = row['ecg_lead_2']\n",
        "      labels = row['labels']  \n",
        "      #1) Splitting the continuous ECG signal to 10s(1280 samples @128Hz) windows and select a 10s window from an ECG signal.\n",
        "      for i in range(0, min(len(first_sig), len(second_sig)), 1280):\n",
        "        first_sig_window = first_sig[i:i+1280]\n",
        "        second_sig_window = second_sig[i:i+1280]\n",
        "        #2) Normalizing the amplitude values to the range of between zero and one.\n",
        "        \n",
        "        #first_sig_std = (2*((first_sig_window - first_sig_window.min())/(first_sig_window.max()-first_sig_window.min()))-1).tolist()\n",
        "        #second_sig_std = (2*((second_sig_window - second_sig_window.min())/(second_sig_window.max()-second_sig_window.min()))-1).tolist()\n",
        "        ###\n",
        "        #first_sig_std = hp.remove_baseline_wander(first_sig_std, 128,cutoff=0.05)\n",
        "        #second_sig_std = hp.remove_baseline_wander(second_sig_std, 128,cutoff=0.05)\n",
        "        ###\n",
        "        #first_sig[i:i+1280] = first_sig_std\n",
        "        #second_sig[i:i+1280] = second_sig_std          \n",
        "        first_sig[i:i+1280] = first_sig_window\n",
        "        second_sig[i:i+1280] = second_sig_window\n",
        "\n",
        "      #3) Finding the set of all local maximums based on zerocrossings of the first derivative. NOT NEEDED\n",
        "      #4) Finding the set of ECG R-peak candidates by applying a threshold of 0.9 on the normalized value of the local maximums. NOT NEEDED\n",
        "      #5) Finding the median of R-R time intervals as the nominal heartbeat period of that window (T).\n",
        "      T = 0\n",
        "      rr_list = list()\n",
        "\n",
        "\n",
        "      if(len(peaks) != len(labels)):\n",
        "          print(\"ERROR\")\n",
        "\n",
        "      for i,peak in enumerate(peaks): #compute each R-R time (in samples)\n",
        "        if i != len(peaks)-1:\n",
        "          rr = peaks[i+1]-peaks[i]\n",
        "          rr_list.append(rr)\n",
        "          \n",
        "      \n",
        "      import statistics\n",
        "\n",
        "      T = statistics.median(rr_list)\n",
        "      #6) For each R-peak, selecting a signal part with the length equal to 1.2T.\n",
        "      #patch_length=2*int(1.5*T)\n",
        "      #max_len = 500\n",
        "      \n",
        "      \n",
        "      ###\n",
        "\n",
        "      \n",
        "      max_len = 500\n",
        "      #6B) Setting last peak RR as T\n",
        "      rr_list.append(T)\n",
        "\n",
        "      l = len(peaks)\n",
        "      #7) Padding each selected part with zeros to make its length equal to a predefined fixed length.\n",
        "      for i,peak in enumerate(peaks):\n",
        "          if i == 0:\n",
        "            k = 0\n",
        "            h = peaks[i+1]+offset\n",
        "          elif i ==  l -1:\n",
        "            k = peaks[i-1]-offset\n",
        "            h = len(first_sig)\n",
        "        \n",
        "          else:\n",
        "            k = peaks[i-1]-offset\n",
        "            h = peaks[i+1]+offset\n",
        "\n",
        "          if k < 0:\n",
        "            k = 0\n",
        "          if h > len(first_sig):\n",
        "            h = len(first_sig)\n",
        "\n",
        "        \n",
        "          first_lead = first_sig[k:h] \n",
        "          second_lead = second_sig[k:h] \n",
        "\n",
        "\n",
        "          index = str(id)+'_'+str(i)\n",
        "          dataset_dict[index] = {}\n",
        "          \n",
        "          first_lead = (255*(first_lead - first_lead.min())/(first_lead.max()-first_lead.min())).tolist()\n",
        "          second_lead = (255*(second_lead - second_lead.min())/(second_lead.max()-second_lead.min())).tolist()\n",
        "          first_lead = resample(first_lead, max_len)\n",
        "          second_lead = resample(second_lead, max_len)\n",
        "          dataset_dict[index][\"first_lead\"] = first_lead\n",
        "          dataset_dict[index][\"second_lead\"] = second_lead\n",
        "          dataset_dict[index][\"RR_d\"] = rr_list[i]\n",
        "          dataset_dict[index][\"stringLabel\"] = labels[i]\n",
        "          dataset_dict[index][\"label\"] = convert_to_one_hot(labels[i])\n",
        "\n",
        "  dataset_df = pd.DataFrame.from_dict(dataset_dict,orient='index')\n",
        "  return dataset_df    \n",
        "\n",
        "classes = np.array([\"N\",\"S\",\"V\"])\n",
        "validation_percentage = 0.25\n",
        "training_df, validation_df = train_test_split(df,test_size = validation_percentage,random_state=SEED)\n",
        "training_patches_df = create_patch_v2(training_df)\n",
        "validation_patches_df = create_patch_v2(validation_df)\n",
        "validation_patches_df\n",
        "'''\n"
      ],
      "metadata": {
        "id": "qhZWe6DI3Zs0",
        "colab": {
          "base_uri": "https://localhost:8080/",
          "height": 105
        },
        "outputId": "19867fa5-1654-4498-b293-7cdeb37ff883"
      },
      "id": "qhZWe6DI3Zs0",
      "execution_count": 15,
      "outputs": [
        {
          "output_type": "execute_result",
          "data": {
            "application/vnd.google.colaboratory.intrinsic+json": {
              "type": "string"
            },
            "text/plain": [
              "'\\n# trying https://arxiv.org/pdf/1805.00794.pdf preprocessing and patch extraction\\n\\ndef convert_to_one_hot(label):\\n    return np.array(classes == label,dtype=np.float32)\\n\\ndef create_patch_v2(df):\\n  dataset_dict = {}\\n  ids = df.index.tolist()\\n  offset = 50\\n  for id in tqdm(ids):\\n      row =  df.loc[id]\\n\\n      peaks = row[\\'peaks\\']\\n      first_sig = row[\\'ecg_lead_1\\']\\n      second_sig = row[\\'ecg_lead_2\\']\\n      labels = row[\\'labels\\']  \\n      #1) Splitting the continuous ECG signal to 10s(1280 samples @128Hz) windows and select a 10s window from an ECG signal.\\n      for i in range(0, min(len(first_sig), len(second_sig)), 1280):\\n        first_sig_window = first_sig[i:i+1280]\\n        second_sig_window = second_sig[i:i+1280]\\n        #2) Normalizing the amplitude values to the range of between zero and one.\\n        \\n        #first_sig_std = (2*((first_sig_window - first_sig_window.min())/(first_sig_window.max()-first_sig_window.min()))-1).tolist()\\n        #second_sig_std = (2*((second_sig_window - second_sig_window.min())/(second_sig_window.max()-second_sig_window.min()))-1).tolist()\\n        ###\\n        #first_sig_std = hp.remove_baseline_wander(first_sig_std, 128,cutoff=0.05)\\n        #second_sig_std = hp.remove_baseline_wander(second_sig_std, 128,cutoff=0.05)\\n        ###\\n        #first_sig[i:i+1280] = first_sig_std\\n        #second_sig[i:i+1280] = second_sig_std          \\n        first_sig[i:i+1280] = first_sig_window\\n        second_sig[i:i+1280] = second_sig_window\\n\\n      #3) Finding the set of all local maximums based on zerocrossings of the first derivative. NOT NEEDED\\n      #4) Finding the set of ECG R-peak candidates by applying a threshold of 0.9 on the normalized value of the local maximums. NOT NEEDED\\n      #5) Finding the median of R-R time intervals as the nominal heartbeat period of that window (T).\\n      T = 0\\n      rr_list = list()\\n\\n\\n      if(len(peaks) != len(labels)):\\n          print(\"ERROR\")\\n\\n      for i,peak in enumerate(peaks): #compute each R-R time (in samples)\\n        if i != len(peaks)-1:\\n          rr = peaks[i+1]-peaks[i]\\n          rr_list.append(rr)\\n          \\n      \\n      import statistics\\n\\n      T = statistics.median(rr_list)\\n      #6) For each R-peak, selecting a signal part with the length equal to 1.2T.\\n      #patch_length=2*int(1.5*T)\\n      #max_len = 500\\n      \\n      \\n      ###\\n\\n      \\n      max_len = 500\\n      #6B) Setting last peak RR as T\\n      rr_list.append(T)\\n\\n      l = len(peaks)\\n      #7) Padding each selected part with zeros to make its length equal to a predefined fixed length.\\n      for i,peak in enumerate(peaks):\\n          if i == 0:\\n            k = 0\\n            h = peaks[i+1]+offset\\n          elif i ==  l -1:\\n            k = peaks[i-1]-offset\\n            h = len(first_sig)\\n        \\n          else:\\n            k = peaks[i-1]-offset\\n            h = peaks[i+1]+offset\\n\\n          if k < 0:\\n            k = 0\\n          if h > len(first_sig):\\n            h = len(first_sig)\\n\\n        \\n          first_lead = first_sig[k:h] \\n          second_lead = second_sig[k:h] \\n\\n\\n          index = str(id)+\\'_\\'+str(i)\\n          dataset_dict[index] = {}\\n          \\n          first_lead = (255*(first_lead - first_lead.min())/(first_lead.max()-first_lead.min())).tolist()\\n          second_lead = (255*(second_lead - second_lead.min())/(second_lead.max()-second_lead.min())).tolist()\\n          first_lead = resample(first_lead, max_len)\\n          second_lead = resample(second_lead, max_len)\\n          dataset_dict[index][\"first_lead\"] = first_lead\\n          dataset_dict[index][\"second_lead\"] = second_lead\\n          dataset_dict[index][\"RR_d\"] = rr_list[i]\\n          dataset_dict[index][\"stringLabel\"] = labels[i]\\n          dataset_dict[index][\"label\"] = convert_to_one_hot(labels[i])\\n\\n  dataset_df = pd.DataFrame.from_dict(dataset_dict,orient=\\'index\\')\\n  return dataset_df    \\n\\nclasses = np.array([\"N\",\"S\",\"V\"])\\nvalidation_percentage = 0.25\\ntraining_df, validation_df = train_test_split(df,test_size = validation_percentage,random_state=SEED)\\ntraining_patches_df = create_patch_v2(training_df)\\nvalidation_patches_df = create_patch_v2(validation_df)\\nvalidation_patches_df\\n'"
            ]
          },
          "metadata": {},
          "execution_count": 15
        }
      ]
    },
    {
      "cell_type": "code",
      "source": [
        "'''\n",
        "# trying https://arxiv.org/pdf/1805.00794.pdf preprocessing and patch extraction\n",
        "\n",
        "def convert_to_one_hot(label):\n",
        "    return np.array(classes == label,dtype=np.float32)\n",
        "\n",
        "def create_patch_v2(df):\n",
        "  dataset_dict = {}\n",
        "  ids = df.index.tolist()\n",
        "  offset = 0\n",
        "  for id in tqdm(ids):\n",
        "      row =  df.loc[id]\n",
        "\n",
        "      peaks = row['peaks']\n",
        "      first_sig = row['ecg_lead_1']\n",
        "      second_sig = row['ecg_lead_2']\n",
        "      labels = row['labels']  \n",
        "      #1) Splitting the continuous ECG signal to 10s(1280 samples @128Hz) windows and select a 10s window from an ECG signal.\n",
        "      for i in range(0, min(len(first_sig), len(second_sig)), 1280):\n",
        "        first_sig_window = first_sig[i:i+1280]\n",
        "        second_sig_window = second_sig[i:i+1280]\n",
        "        #2) Normalizing the amplitude values to the range of between zero and one.\n",
        "        \n",
        "        #first_sig_std = (2*((first_sig_window - first_sig_window.min())/(first_sig_window.max()-first_sig_window.min()))-1).tolist()\n",
        "        #second_sig_std = (2*((second_sig_window - second_sig_window.min())/(second_sig_window.max()-second_sig_window.min()))-1).tolist()\n",
        "        ###\n",
        "        #first_sig_std = hp.remove_baseline_wander(first_sig_std, 128,cutoff=0.05)\n",
        "        #second_sig_std = hp.remove_baseline_wander(second_sig_std, 128,cutoff=0.05)\n",
        "        ###\n",
        "        #first_sig[i:i+1280] = first_sig_std\n",
        "        #second_sig[i:i+1280] = second_sig_std          \n",
        "        first_sig[i:i+1280] = first_sig_window\n",
        "        second_sig[i:i+1280] = second_sig_window\n",
        "\n",
        "      #3) Finding the set of all local maximums based on zerocrossings of the first derivative. NOT NEEDED\n",
        "      #4) Finding the set of ECG R-peak candidates by applying a threshold of 0.9 on the normalized value of the local maximums. NOT NEEDED\n",
        "      #5) Finding the median of R-R time intervals as the nominal heartbeat period of that window (T).\n",
        "      T = 0\n",
        "      rr_list = list()\n",
        "\n",
        "\n",
        "      if(len(peaks) != len(labels)):\n",
        "          print(\"ERROR\")\n",
        "\n",
        "      for i,peak in enumerate(peaks): #compute each R-R time (in samples)\n",
        "        if i != len(peaks)-1:\n",
        "          rr = peaks[i+1]-peaks[i]\n",
        "          rr_list.append(rr)\n",
        "          \n",
        "      \n",
        "      import statistics\n",
        "\n",
        "      T = statistics.median(rr_list)\n",
        "      #6) For each R-peak, selecting a signal part with the length equal to 1.2T.\n",
        "      patch_length=2*int(1.5*T)\n",
        "      max_len = 500\n",
        "      \n",
        "      ###\n",
        "      #patch_length = 500\n",
        "      #max_len = 500\n",
        "      \n",
        "      #6B) Setting last peak RR as T\n",
        "      rr_list.append(T)\n",
        "      #7) Padding each selected part with zeros to make its length equal to a predefined fixed length.\n",
        "      for i,peak in enumerate(peaks):\n",
        "          index = str(id)+'_'+str(i)\n",
        "          dataset_dict[index] = {}\n",
        "          first_lead = list()\n",
        "          second_lead = list()\n",
        "\n",
        "          #size = list(range(peak-offset,int(max_len+peak)-offset))\n",
        "          size = list(range(peak+offset,int(peak+max_len)+offset))\n",
        "          if(len(size) != max_len):\n",
        "              print(\"error\")\n",
        "          for s in size:\n",
        "              if(s >= len(first_sig) or s >= (peak + patch_length/2)  or s < 0):   # padding with 0\n",
        "                  first_lead.append(0.) \n",
        "                  second_lead.append(0.) \n",
        "              else:\n",
        "                  first_lead.append(first_sig[s])\n",
        "                  second_lead.append(second_sig[s])\n",
        "          \n",
        "          first_lead = np.asarray(first_lead).astype(np.float32)\n",
        "          second_lead = np.asarray(second_lead).astype(np.float32)\n",
        "          first_lead = (255*(first_lead - first_lead.min())/(first_lead.max()-first_lead.min())).tolist()\n",
        "          second_lead = (255*(second_lead - second_lead.min())/(second_lead.max()-second_lead.min())).tolist()\n",
        "          dataset_dict[index][\"first_lead\"] = first_lead\n",
        "          dataset_dict[index][\"second_lead\"] = second_lead\n",
        "          dataset_dict[index][\"RR_d\"] = rr_list[i]\n",
        "          dataset_dict[index][\"stringLabel\"] = labels[i]\n",
        "          dataset_dict[index][\"label\"] = convert_to_one_hot(labels[i])\n",
        "\n",
        "  dataset_df = pd.DataFrame.from_dict(dataset_dict,orient='index')\n",
        "  return dataset_df    \n",
        "\n",
        "classes = np.array([\"N\",\"S\",\"V\"])\n",
        "validation_percentage = 0.2\n",
        "training_df, validation_df = train_test_split(df,test_size = validation_percentage,random_state=SEED)\n",
        "training_patches_df = create_patch_v2(training_df)\n",
        "validation_patches_df = create_patch_v2(validation_df)\n",
        "validation_patches_df\n",
        "\n",
        "'''"
      ],
      "metadata": {
        "id": "fYxFrxCUgEfz",
        "colab": {
          "base_uri": "https://localhost:8080/",
          "height": 105
        },
        "outputId": "229fd8d6-363d-4381-ce3c-3420679d9407"
      },
      "id": "fYxFrxCUgEfz",
      "execution_count": 16,
      "outputs": [
        {
          "output_type": "execute_result",
          "data": {
            "application/vnd.google.colaboratory.intrinsic+json": {
              "type": "string"
            },
            "text/plain": [
              "'\\n# trying https://arxiv.org/pdf/1805.00794.pdf preprocessing and patch extraction\\n\\ndef convert_to_one_hot(label):\\n    return np.array(classes == label,dtype=np.float32)\\n\\ndef create_patch_v2(df):\\n  dataset_dict = {}\\n  ids = df.index.tolist()\\n  offset = 0\\n  for id in tqdm(ids):\\n      row =  df.loc[id]\\n\\n      peaks = row[\\'peaks\\']\\n      first_sig = row[\\'ecg_lead_1\\']\\n      second_sig = row[\\'ecg_lead_2\\']\\n      labels = row[\\'labels\\']  \\n      #1) Splitting the continuous ECG signal to 10s(1280 samples @128Hz) windows and select a 10s window from an ECG signal.\\n      for i in range(0, min(len(first_sig), len(second_sig)), 1280):\\n        first_sig_window = first_sig[i:i+1280]\\n        second_sig_window = second_sig[i:i+1280]\\n        #2) Normalizing the amplitude values to the range of between zero and one.\\n        \\n        #first_sig_std = (2*((first_sig_window - first_sig_window.min())/(first_sig_window.max()-first_sig_window.min()))-1).tolist()\\n        #second_sig_std = (2*((second_sig_window - second_sig_window.min())/(second_sig_window.max()-second_sig_window.min()))-1).tolist()\\n        ###\\n        #first_sig_std = hp.remove_baseline_wander(first_sig_std, 128,cutoff=0.05)\\n        #second_sig_std = hp.remove_baseline_wander(second_sig_std, 128,cutoff=0.05)\\n        ###\\n        #first_sig[i:i+1280] = first_sig_std\\n        #second_sig[i:i+1280] = second_sig_std          \\n        first_sig[i:i+1280] = first_sig_window\\n        second_sig[i:i+1280] = second_sig_window\\n\\n      #3) Finding the set of all local maximums based on zerocrossings of the first derivative. NOT NEEDED\\n      #4) Finding the set of ECG R-peak candidates by applying a threshold of 0.9 on the normalized value of the local maximums. NOT NEEDED\\n      #5) Finding the median of R-R time intervals as the nominal heartbeat period of that window (T).\\n      T = 0\\n      rr_list = list()\\n\\n\\n      if(len(peaks) != len(labels)):\\n          print(\"ERROR\")\\n\\n      for i,peak in enumerate(peaks): #compute each R-R time (in samples)\\n        if i != len(peaks)-1:\\n          rr = peaks[i+1]-peaks[i]\\n          rr_list.append(rr)\\n          \\n      \\n      import statistics\\n\\n      T = statistics.median(rr_list)\\n      #6) For each R-peak, selecting a signal part with the length equal to 1.2T.\\n      patch_length=2*int(1.5*T)\\n      max_len = 500\\n      \\n      ###\\n      #patch_length = 500\\n      #max_len = 500\\n      \\n      #6B) Setting last peak RR as T\\n      rr_list.append(T)\\n      #7) Padding each selected part with zeros to make its length equal to a predefined fixed length.\\n      for i,peak in enumerate(peaks):\\n          index = str(id)+\\'_\\'+str(i)\\n          dataset_dict[index] = {}\\n          first_lead = list()\\n          second_lead = list()\\n\\n          #size = list(range(peak-offset,int(max_len+peak)-offset))\\n          size = list(range(peak+offset,int(peak+max_len)+offset))\\n          if(len(size) != max_len):\\n              print(\"error\")\\n          for s in size:\\n              if(s >= len(first_sig) or s >= (peak + patch_length/2)  or s < 0):   # padding with 0\\n                  first_lead.append(0.) \\n                  second_lead.append(0.) \\n              else:\\n                  first_lead.append(first_sig[s])\\n                  second_lead.append(second_sig[s])\\n          \\n          first_lead = np.asarray(first_lead).astype(np.float32)\\n          second_lead = np.asarray(second_lead).astype(np.float32)\\n          first_lead = (255*(first_lead - first_lead.min())/(first_lead.max()-first_lead.min())).tolist()\\n          second_lead = (255*(second_lead - second_lead.min())/(second_lead.max()-second_lead.min())).tolist()\\n          dataset_dict[index][\"first_lead\"] = first_lead\\n          dataset_dict[index][\"second_lead\"] = second_lead\\n          dataset_dict[index][\"RR_d\"] = rr_list[i]\\n          dataset_dict[index][\"stringLabel\"] = labels[i]\\n          dataset_dict[index][\"label\"] = convert_to_one_hot(labels[i])\\n\\n  dataset_df = pd.DataFrame.from_dict(dataset_dict,orient=\\'index\\')\\n  return dataset_df    \\n\\nclasses = np.array([\"N\",\"S\",\"V\"])\\nvalidation_percentage = 0.2\\ntraining_df, validation_df = train_test_split(df,test_size = validation_percentage,random_state=SEED)\\ntraining_patches_df = create_patch_v2(training_df)\\nvalidation_patches_df = create_patch_v2(validation_df)\\nvalidation_patches_df\\n\\n'"
            ]
          },
          "metadata": {},
          "execution_count": 16
        }
      ]
    },
    {
      "cell_type": "code",
      "source": [
        "#fixed patch\n",
        "\n",
        "def convert_to_one_hot(label):\n",
        "    return np.array(classes == label,dtype=np.float32)\n",
        "\n",
        "def create_patch_v2(df):\n",
        "  dataset_dict = {}\n",
        "  ids = df.index.tolist()\n",
        "  offset = 0\n",
        "  for id in tqdm(ids):\n",
        "      row =  df.loc[id]\n",
        "\n",
        "      peaks = row['peaks']\n",
        "      first_sig = row['ecg_lead_1']\n",
        "      second_sig = row['ecg_lead_2']\n",
        "      labels = row['labels']  \n",
        "      #1) Splitting the continuous ECG signal to 10s(1280 samples @128Hz) windows and select a 10s window from an ECG signal.\n",
        "      for i in range(0, min(len(first_sig), len(second_sig)), 1280):\n",
        "        first_sig_window = first_sig[i:i+1280]\n",
        "        second_sig_window = second_sig[i:i+1280]\n",
        "        #2) Normalizing the amplitude values to the range of between zero and one.\n",
        "        \n",
        "        #first_sig_std = (2*((first_sig_window - first_sig_window.min())/(first_sig_window.max()-first_sig_window.min()))-1).tolist()\n",
        "        #second_sig_std = (2*((second_sig_window - second_sig_window.min())/(second_sig_window.max()-second_sig_window.min()))-1).tolist()\n",
        "        ###\n",
        "        #first_sig_std = hp.remove_baseline_wander(first_sig_std, 128,cutoff=0.05)\n",
        "        #second_sig_std = hp.remove_baseline_wander(second_sig_std, 128,cutoff=0.05)\n",
        "        ###\n",
        "        #first_sig[i:i+1280] = first_sig_std\n",
        "        #second_sig[i:i+1280] = second_sig_std    \n",
        "        '''      \n",
        "        first_sig[i:i+1280] = first_sig_window\n",
        "        second_sig[i:i+1280] = second_sig_window\n",
        "        '''\n",
        "\n",
        "      #3) Finding the set of all local maximums based on zerocrossings of the first derivative. NOT NEEDED\n",
        "      #4) Finding the set of ECG R-peak candidates by applying a threshold of 0.9 on the normalized value of the local maximums. NOT NEEDED\n",
        "      #5) Finding the median of R-R time intervals as the nominal heartbeat period of that window (T).\n",
        "      T = 0\n",
        "      rr_list = list()\n",
        "\n",
        "      '''\n",
        "      if(len(peaks) != len(labels)):\n",
        "          print(\"ERROR\")\n",
        "      '''\n",
        "\n",
        "      for i,peak in enumerate(peaks): #compute each R-R time (in samples)\n",
        "        if i != len(peaks)-1:\n",
        "          rr = peaks[i+1]-peaks[i]\n",
        "          rr_list.append(rr)\n",
        "          \n",
        "      \n",
        "      import statistics\n",
        "\n",
        "      T = statistics.median(rr_list)\n",
        "      #6) For each R-peak, selecting a signal part with the length equal to 1.2T.\n",
        "      patch_length=2*int(1.5*T)\n",
        "      max_len = 500\n",
        "      \n",
        "      ###\n",
        "      #patch_length = 500\n",
        "      #max_len = 500\n",
        "      \n",
        "      #6B) Setting last peak RR as T\n",
        "      rr_list.append(T)\n",
        "      #7) Padding each selected part with zeros to make its length equal to a predefined fixed length.\n",
        "      for i,peak in enumerate(peaks):\n",
        "          index = str(id)+'_'+str(i)\n",
        "          dataset_dict[index] = {}\n",
        "          first_lead = list()\n",
        "          second_lead = list()\n",
        "\n",
        "          #size = list(range(peak-offset,int(max_len+peak)-offset))\n",
        "          size = list(range(int(peak-max_len/2)+offset,int(peak+max_len/2)+offset))\n",
        "          if(len(size) != max_len):\n",
        "              print(\"error\")\n",
        "          for s in size:\n",
        "              if(s >= len(first_sig) or s >= (peak + patch_length/2) or s <= (peak -patch_length/2) or s < 0):   # padding with 0\n",
        "                  first_lead.append(0.) \n",
        "                  second_lead.append(0.) \n",
        "              else:\n",
        "                  first_lead.append(first_sig[s])\n",
        "                  second_lead.append(second_sig[s])\n",
        "          \n",
        "          first_lead = np.asarray(first_lead).astype(np.float32)\n",
        "          second_lead = np.asarray(second_lead).astype(np.float32)\n",
        "          first_lead = (255*(first_lead - first_lead.min())/(first_lead.max()-first_lead.min())).tolist()\n",
        "          second_lead = (255*(second_lead - second_lead.min())/(second_lead.max()-second_lead.min())).tolist()\n",
        "          dataset_dict[index][\"first_lead\"] = first_lead\n",
        "          dataset_dict[index][\"second_lead\"] = second_lead\n",
        "          dataset_dict[index][\"RR_d\"] = rr_list[i]\n",
        "          dataset_dict[index][\"stringLabel\"] = labels[i]\n",
        "          dataset_dict[index][\"label\"] = convert_to_one_hot(labels[i])\n",
        "\n",
        "  dataset_df = pd.DataFrame.from_dict(dataset_dict,orient='index')\n",
        "  return dataset_df    \n",
        "\n",
        "classes = np.array([\"N\",\"S\",\"V\"])\n",
        "validation_percentage = 0.2\n",
        "training_df, validation_df = train_test_split(df,test_size = validation_percentage,random_state=SEED)\n",
        "training_patches_df = create_patch_v2(training_df)\n",
        "validation_patches_df = create_patch_v2(validation_df)\n",
        "validation_patches_df\n",
        "\n"
      ],
      "metadata": {
        "id": "cDIFJ1X0wUnM",
        "colab": {
          "base_uri": "https://localhost:8080/",
          "height": 458
        },
        "outputId": "5192c581-99f0-4241-bf33-b7b2344317d0"
      },
      "id": "cDIFJ1X0wUnM",
      "execution_count": 17,
      "outputs": [
        {
          "output_type": "stream",
          "name": "stderr",
          "text": [
            "100%|██████████| 31/31 [03:09<00:00,  6.10s/it]\n",
            "100%|██████████| 8/8 [00:40<00:00,  5.04s/it]\n"
          ]
        },
        {
          "output_type": "execute_result",
          "data": {
            "text/html": [
              "\n",
              "  <div id=\"df-c2def9fc-1240-41ed-9788-11380c28240f\">\n",
              "    <div class=\"colab-df-container\">\n",
              "      <div>\n",
              "<style scoped>\n",
              "    .dataframe tbody tr th:only-of-type {\n",
              "        vertical-align: middle;\n",
              "    }\n",
              "\n",
              "    .dataframe tbody tr th {\n",
              "        vertical-align: top;\n",
              "    }\n",
              "\n",
              "    .dataframe thead th {\n",
              "        text-align: right;\n",
              "    }\n",
              "</style>\n",
              "<table border=\"1\" class=\"dataframe\">\n",
              "  <thead>\n",
              "    <tr style=\"text-align: right;\">\n",
              "      <th></th>\n",
              "      <th>first_lead</th>\n",
              "      <th>second_lead</th>\n",
              "      <th>RR_d</th>\n",
              "      <th>stringLabel</th>\n",
              "      <th>label</th>\n",
              "    </tr>\n",
              "  </thead>\n",
              "  <tbody>\n",
              "    <tr>\n",
              "      <th>3_0</th>\n",
              "      <td>[121.7711181640625, 121.7711181640625, 121.771...</td>\n",
              "      <td>[126.4684829711914, 126.4684829711914, 126.468...</td>\n",
              "      <td>125.0</td>\n",
              "      <td>N</td>\n",
              "      <td>[1.0, 0.0, 0.0]</td>\n",
              "    </tr>\n",
              "    <tr>\n",
              "      <th>3_1</th>\n",
              "      <td>[118.31370544433594, 118.31370544433594, 118.3...</td>\n",
              "      <td>[123.26313018798828, 123.26313018798828, 123.2...</td>\n",
              "      <td>126.0</td>\n",
              "      <td>N</td>\n",
              "      <td>[1.0, 0.0, 0.0]</td>\n",
              "    </tr>\n",
              "    <tr>\n",
              "      <th>3_2</th>\n",
              "      <td>[118.31370544433594, 118.31370544433594, 118.3...</td>\n",
              "      <td>[123.3239517211914, 123.3239517211914, 123.323...</td>\n",
              "      <td>125.0</td>\n",
              "      <td>N</td>\n",
              "      <td>[1.0, 0.0, 0.0]</td>\n",
              "    </tr>\n",
              "    <tr>\n",
              "      <th>3_3</th>\n",
              "      <td>[118.31370544433594, 118.31370544433594, 118.3...</td>\n",
              "      <td>[123.3239517211914, 123.3239517211914, 123.323...</td>\n",
              "      <td>125.0</td>\n",
              "      <td>N</td>\n",
              "      <td>[1.0, 0.0, 0.0]</td>\n",
              "    </tr>\n",
              "    <tr>\n",
              "      <th>3_4</th>\n",
              "      <td>[124.64498901367188, 124.64498901367188, 124.6...</td>\n",
              "      <td>[123.3239517211914, 123.3239517211914, 123.323...</td>\n",
              "      <td>127.0</td>\n",
              "      <td>N</td>\n",
              "      <td>[1.0, 0.0, 0.0]</td>\n",
              "    </tr>\n",
              "    <tr>\n",
              "      <th>...</th>\n",
              "      <td>...</td>\n",
              "      <td>...</td>\n",
              "      <td>...</td>\n",
              "      <td>...</td>\n",
              "      <td>...</td>\n",
              "    </tr>\n",
              "    <tr>\n",
              "      <th>37_2226</th>\n",
              "      <td>[146.96221923828125, 146.96221923828125, 146.9...</td>\n",
              "      <td>[117.33214569091797, 117.33214569091797, 117.3...</td>\n",
              "      <td>133.0</td>\n",
              "      <td>V</td>\n",
              "      <td>[0.0, 0.0, 1.0]</td>\n",
              "    </tr>\n",
              "    <tr>\n",
              "      <th>37_2227</th>\n",
              "      <td>[146.2633819580078, 146.2633819580078, 146.263...</td>\n",
              "      <td>[119.08319854736328, 119.08319854736328, 119.0...</td>\n",
              "      <td>102.0</td>\n",
              "      <td>N</td>\n",
              "      <td>[1.0, 0.0, 0.0]</td>\n",
              "    </tr>\n",
              "    <tr>\n",
              "      <th>37_2228</th>\n",
              "      <td>[146.05886840820312, 146.05886840820312, 146.0...</td>\n",
              "      <td>[117.383544921875, 117.383544921875, 117.38354...</td>\n",
              "      <td>105.0</td>\n",
              "      <td>N</td>\n",
              "      <td>[1.0, 0.0, 0.0]</td>\n",
              "    </tr>\n",
              "    <tr>\n",
              "      <th>37_2229</th>\n",
              "      <td>[159.71307373046875, 159.71307373046875, 159.7...</td>\n",
              "      <td>[115.73573303222656, 115.73573303222656, 115.7...</td>\n",
              "      <td>105.0</td>\n",
              "      <td>N</td>\n",
              "      <td>[1.0, 0.0, 0.0]</td>\n",
              "    </tr>\n",
              "    <tr>\n",
              "      <th>37_2230</th>\n",
              "      <td>[159.8418731689453, 159.8418731689453, 159.841...</td>\n",
              "      <td>[115.73573303222656, 115.73573303222656, 115.7...</td>\n",
              "      <td>104.0</td>\n",
              "      <td>N</td>\n",
              "      <td>[1.0, 0.0, 0.0]</td>\n",
              "    </tr>\n",
              "  </tbody>\n",
              "</table>\n",
              "<p>16293 rows × 5 columns</p>\n",
              "</div>\n",
              "      <button class=\"colab-df-convert\" onclick=\"convertToInteractive('df-c2def9fc-1240-41ed-9788-11380c28240f')\"\n",
              "              title=\"Convert this dataframe to an interactive table.\"\n",
              "              style=\"display:none;\">\n",
              "        \n",
              "  <svg xmlns=\"http://www.w3.org/2000/svg\" height=\"24px\"viewBox=\"0 0 24 24\"\n",
              "       width=\"24px\">\n",
              "    <path d=\"M0 0h24v24H0V0z\" fill=\"none\"/>\n",
              "    <path d=\"M18.56 5.44l.94 2.06.94-2.06 2.06-.94-2.06-.94-.94-2.06-.94 2.06-2.06.94zm-11 1L8.5 8.5l.94-2.06 2.06-.94-2.06-.94L8.5 2.5l-.94 2.06-2.06.94zm10 10l.94 2.06.94-2.06 2.06-.94-2.06-.94-.94-2.06-.94 2.06-2.06.94z\"/><path d=\"M17.41 7.96l-1.37-1.37c-.4-.4-.92-.59-1.43-.59-.52 0-1.04.2-1.43.59L10.3 9.45l-7.72 7.72c-.78.78-.78 2.05 0 2.83L4 21.41c.39.39.9.59 1.41.59.51 0 1.02-.2 1.41-.59l7.78-7.78 2.81-2.81c.8-.78.8-2.07 0-2.86zM5.41 20L4 18.59l7.72-7.72 1.47 1.35L5.41 20z\"/>\n",
              "  </svg>\n",
              "      </button>\n",
              "      \n",
              "  <style>\n",
              "    .colab-df-container {\n",
              "      display:flex;\n",
              "      flex-wrap:wrap;\n",
              "      gap: 12px;\n",
              "    }\n",
              "\n",
              "    .colab-df-convert {\n",
              "      background-color: #E8F0FE;\n",
              "      border: none;\n",
              "      border-radius: 50%;\n",
              "      cursor: pointer;\n",
              "      display: none;\n",
              "      fill: #1967D2;\n",
              "      height: 32px;\n",
              "      padding: 0 0 0 0;\n",
              "      width: 32px;\n",
              "    }\n",
              "\n",
              "    .colab-df-convert:hover {\n",
              "      background-color: #E2EBFA;\n",
              "      box-shadow: 0px 1px 2px rgba(60, 64, 67, 0.3), 0px 1px 3px 1px rgba(60, 64, 67, 0.15);\n",
              "      fill: #174EA6;\n",
              "    }\n",
              "\n",
              "    [theme=dark] .colab-df-convert {\n",
              "      background-color: #3B4455;\n",
              "      fill: #D2E3FC;\n",
              "    }\n",
              "\n",
              "    [theme=dark] .colab-df-convert:hover {\n",
              "      background-color: #434B5C;\n",
              "      box-shadow: 0px 1px 3px 1px rgba(0, 0, 0, 0.15);\n",
              "      filter: drop-shadow(0px 1px 2px rgba(0, 0, 0, 0.3));\n",
              "      fill: #FFFFFF;\n",
              "    }\n",
              "  </style>\n",
              "\n",
              "      <script>\n",
              "        const buttonEl =\n",
              "          document.querySelector('#df-c2def9fc-1240-41ed-9788-11380c28240f button.colab-df-convert');\n",
              "        buttonEl.style.display =\n",
              "          google.colab.kernel.accessAllowed ? 'block' : 'none';\n",
              "\n",
              "        async function convertToInteractive(key) {\n",
              "          const element = document.querySelector('#df-c2def9fc-1240-41ed-9788-11380c28240f');\n",
              "          const dataTable =\n",
              "            await google.colab.kernel.invokeFunction('convertToInteractive',\n",
              "                                                     [key], {});\n",
              "          if (!dataTable) return;\n",
              "\n",
              "          const docLinkHtml = 'Like what you see? Visit the ' +\n",
              "            '<a target=\"_blank\" href=https://colab.research.google.com/notebooks/data_table.ipynb>data table notebook</a>'\n",
              "            + ' to learn more about interactive tables.';\n",
              "          element.innerHTML = '';\n",
              "          dataTable['output_type'] = 'display_data';\n",
              "          await google.colab.output.renderOutput(dataTable, element);\n",
              "          const docLink = document.createElement('div');\n",
              "          docLink.innerHTML = docLinkHtml;\n",
              "          element.appendChild(docLink);\n",
              "        }\n",
              "      </script>\n",
              "    </div>\n",
              "  </div>\n",
              "  "
            ],
            "text/plain": [
              "                                                first_lead  ...            label\n",
              "3_0      [121.7711181640625, 121.7711181640625, 121.771...  ...  [1.0, 0.0, 0.0]\n",
              "3_1      [118.31370544433594, 118.31370544433594, 118.3...  ...  [1.0, 0.0, 0.0]\n",
              "3_2      [118.31370544433594, 118.31370544433594, 118.3...  ...  [1.0, 0.0, 0.0]\n",
              "3_3      [118.31370544433594, 118.31370544433594, 118.3...  ...  [1.0, 0.0, 0.0]\n",
              "3_4      [124.64498901367188, 124.64498901367188, 124.6...  ...  [1.0, 0.0, 0.0]\n",
              "...                                                    ...  ...              ...\n",
              "37_2226  [146.96221923828125, 146.96221923828125, 146.9...  ...  [0.0, 0.0, 1.0]\n",
              "37_2227  [146.2633819580078, 146.2633819580078, 146.263...  ...  [1.0, 0.0, 0.0]\n",
              "37_2228  [146.05886840820312, 146.05886840820312, 146.0...  ...  [1.0, 0.0, 0.0]\n",
              "37_2229  [159.71307373046875, 159.71307373046875, 159.7...  ...  [1.0, 0.0, 0.0]\n",
              "37_2230  [159.8418731689453, 159.8418731689453, 159.841...  ...  [1.0, 0.0, 0.0]\n",
              "\n",
              "[16293 rows x 5 columns]"
            ]
          },
          "metadata": {},
          "execution_count": 17
        }
      ]
    },
    {
      "cell_type": "code",
      "source": [
        "'''\n",
        "validation_patches_df[(validation_patches_df['stringLabel']=='S')]\n",
        "'''"
      ],
      "metadata": {
        "id": "tkQWUJ9YmSrT",
        "colab": {
          "base_uri": "https://localhost:8080/",
          "height": 35
        },
        "outputId": "0c1240cb-f44e-4baf-fbbc-2f6ab9949d67"
      },
      "id": "tkQWUJ9YmSrT",
      "execution_count": 18,
      "outputs": [
        {
          "output_type": "execute_result",
          "data": {
            "application/vnd.google.colaboratory.intrinsic+json": {
              "type": "string"
            },
            "text/plain": [
              "\"\\nvalidation_patches_df[(validation_patches_df['stringLabel']=='S')]\\n\""
            ]
          },
          "metadata": {},
          "execution_count": 18
        }
      ]
    },
    {
      "cell_type": "code",
      "source": [
        "    '''\n",
        "    signal = validation_patches_df.loc[\"35_7\"]\n",
        "    length = len(signal['first_lead'])\n",
        "    fig,axs = plt.subplots(2)\n",
        "    fig.set_size_inches(18.5, 10.5)\n",
        "    ax1 = axs[0]\n",
        "    ax2 = axs[1]\n",
        "  \n",
        "    \n",
        "    first_lead = signal['first_lead'][:length]\n",
        "    second_lead = signal['second_lead'][:length]\n",
        "    \n",
        "    x = list(range(length))\n",
        "    \n",
        "    ax1.plot(x,first_lead)\n",
        "    ax2.plot(x,second_lead)\n",
        "    \n",
        "    plt.show()\n",
        "    '''"
      ],
      "metadata": {
        "id": "whT4kvYPn_d8",
        "colab": {
          "base_uri": "https://localhost:8080/",
          "height": 53
        },
        "outputId": "e4889ece-167f-4d4b-abc3-0c4807fb7da1"
      },
      "id": "whT4kvYPn_d8",
      "execution_count": 19,
      "outputs": [
        {
          "output_type": "execute_result",
          "data": {
            "application/vnd.google.colaboratory.intrinsic+json": {
              "type": "string"
            },
            "text/plain": [
              "'\\nsignal = validation_patches_df.loc[\"35_7\"]\\nlength = len(signal[\\'first_lead\\'])\\nfig,axs = plt.subplots(2)\\nfig.set_size_inches(18.5, 10.5)\\nax1 = axs[0]\\nax2 = axs[1]\\n  \\n\\nfirst_lead = signal[\\'first_lead\\'][:length]\\nsecond_lead = signal[\\'second_lead\\'][:length]\\n\\nx = list(range(length))\\n\\nax1.plot(x,first_lead)\\nax2.plot(x,second_lead)\\n\\nplt.show()\\n'"
            ]
          },
          "metadata": {},
          "execution_count": 19
        }
      ]
    },
    {
      "cell_type": "code",
      "source": [
        "    '''\n",
        "    signal = validation_patches_df.loc[\"47_1704\"]\n",
        "    length = len(signal['first_lead'])\n",
        "    fig,axs = plt.subplots(2)\n",
        "    fig.set_size_inches(18.5, 10.5)\n",
        "    ax1 = axs[0]\n",
        "    ax2 = axs[1]\n",
        "  \n",
        "    \n",
        "    first_lead = signal['first_lead'][:length]\n",
        "    second_lead = signal['second_lead'][:length]\n",
        "    \n",
        "    x = list(range(length))\n",
        "    \n",
        "    ax1.plot(x,first_lead)\n",
        "    ax2.plot(x,second_lead)\n",
        "    \n",
        "    plt.show()\n",
        "    '''"
      ],
      "metadata": {
        "id": "tlZvxtbv8ePE",
        "colab": {
          "base_uri": "https://localhost:8080/",
          "height": 53
        },
        "outputId": "65f62d59-e85e-4d0d-ed5d-b57fff7bc150"
      },
      "id": "tlZvxtbv8ePE",
      "execution_count": 20,
      "outputs": [
        {
          "output_type": "execute_result",
          "data": {
            "application/vnd.google.colaboratory.intrinsic+json": {
              "type": "string"
            },
            "text/plain": [
              "'\\nsignal = validation_patches_df.loc[\"47_1704\"]\\nlength = len(signal[\\'first_lead\\'])\\nfig,axs = plt.subplots(2)\\nfig.set_size_inches(18.5, 10.5)\\nax1 = axs[0]\\nax2 = axs[1]\\n  \\n\\nfirst_lead = signal[\\'first_lead\\'][:length]\\nsecond_lead = signal[\\'second_lead\\'][:length]\\n\\nx = list(range(length))\\n\\nax1.plot(x,first_lead)\\nax2.plot(x,second_lead)\\n\\nplt.show()\\n'"
            ]
          },
          "metadata": {},
          "execution_count": 20
        }
      ]
    },
    {
      "cell_type": "code",
      "source": [
        "'''\n",
        "validation_patches_df[(validation_patches_df['stringLabel']=='V')]\n",
        "'''"
      ],
      "metadata": {
        "id": "P2OtuXiuD6ie",
        "colab": {
          "base_uri": "https://localhost:8080/",
          "height": 35
        },
        "outputId": "a1ccd2c6-12c4-4574-917a-2b46cc32f02b"
      },
      "id": "P2OtuXiuD6ie",
      "execution_count": 21,
      "outputs": [
        {
          "output_type": "execute_result",
          "data": {
            "application/vnd.google.colaboratory.intrinsic+json": {
              "type": "string"
            },
            "text/plain": [
              "\"\\nvalidation_patches_df[(validation_patches_df['stringLabel']=='V')]\\n\""
            ]
          },
          "metadata": {},
          "execution_count": 21
        }
      ]
    },
    {
      "cell_type": "code",
      "source": [
        "    '''\n",
        "    signal = validation_patches_df.loc[\"57_1969\"]\n",
        "    length = len(signal['first_lead'])\n",
        "    fig,axs = plt.subplots(2)\n",
        "    fig.set_size_inches(18.5, 10.5)\n",
        "    ax1 = axs[0]\n",
        "    ax2 = axs[1]\n",
        "  \n",
        "    \n",
        "    first_lead = signal['first_lead'][:length]\n",
        "    second_lead = signal['second_lead'][:length]\n",
        "    \n",
        "    x = list(range(length))\n",
        "    \n",
        "    ax1.plot(x,first_lead)\n",
        "    ax2.plot(x,second_lead)\n",
        "    \n",
        "    plt.show()\n",
        "    '''"
      ],
      "metadata": {
        "id": "HyQNLqpGEC5V",
        "colab": {
          "base_uri": "https://localhost:8080/",
          "height": 53
        },
        "outputId": "328323e4-97a6-43ff-c131-1cca968b39e1"
      },
      "id": "HyQNLqpGEC5V",
      "execution_count": 22,
      "outputs": [
        {
          "output_type": "execute_result",
          "data": {
            "application/vnd.google.colaboratory.intrinsic+json": {
              "type": "string"
            },
            "text/plain": [
              "'\\nsignal = validation_patches_df.loc[\"57_1969\"]\\nlength = len(signal[\\'first_lead\\'])\\nfig,axs = plt.subplots(2)\\nfig.set_size_inches(18.5, 10.5)\\nax1 = axs[0]\\nax2 = axs[1]\\n  \\n\\nfirst_lead = signal[\\'first_lead\\'][:length]\\nsecond_lead = signal[\\'second_lead\\'][:length]\\n\\nx = list(range(length))\\n\\nax1.plot(x,first_lead)\\nax2.plot(x,second_lead)\\n\\nplt.show()\\n'"
            ]
          },
          "metadata": {},
          "execution_count": 22
        }
      ]
    },
    {
      "cell_type": "code",
      "source": [
        "# count classes for training\n",
        "\n",
        "ids_n = training_patches_df.index[training_patches_df['stringLabel'] == 'N'].tolist() \n",
        "ids_rest = training_patches_df.index[training_patches_df['stringLabel'] != 'N'].tolist() \n",
        "\n",
        "print(f\"N: {len(ids_n)}\")\n",
        "print(f\"Rest: {len(ids_rest)}\")\n",
        "\n",
        "classes = [\"N\",\"Rest\"]\n",
        "counts = [len(ids_n),len(ids_rest)]\n",
        "\n",
        "fig1, ax1 = plt.subplots()\n",
        "ax1.pie(counts, explode=None, labels=classes, autopct='%1.1f%%',\n",
        "        shadow=False, startangle=90)\n",
        "ax1.axis('equal')  # Equal aspect ratio ensures that pie is drawn as a circle.\n",
        "fig1.set_facecolor(\"white\")\n",
        "plt.show()\n",
        "\n",
        "# count classes for validation\n",
        "\n",
        "ids_n = validation_patches_df.index[validation_patches_df['stringLabel'] == 'N'].tolist() \n",
        "ids_rest = validation_patches_df.index[validation_patches_df['stringLabel'] != 'N'].tolist() \n",
        "\n",
        "print(f\"N: {len(ids_n)}\")\n",
        "print(f\"Rest: {len(ids_rest)}\")\n",
        "\n",
        "counts = [len(ids_n),len(ids_rest)]\n",
        "\n",
        "fig1, ax1 = plt.subplots()\n",
        "ax1.pie(counts, explode=None, labels=classes, autopct='%1.1f%%',\n",
        "        shadow=False, startangle=90)\n",
        "ax1.axis('equal')  # Equal aspect ratio ensures that pie is drawn as a circle.\n",
        "fig1.set_facecolor(\"white\")\n",
        "plt.show()"
      ],
      "metadata": {
        "id": "4L7bJnbIDxOM",
        "colab": {
          "base_uri": "https://localhost:8080/",
          "height": 556
        },
        "outputId": "15ec0eca-e913-4dc6-f53e-ade0a3d466a7"
      },
      "id": "4L7bJnbIDxOM",
      "execution_count": 23,
      "outputs": [
        {
          "output_type": "stream",
          "name": "stdout",
          "text": [
            "N: 66136\n",
            "Rest: 11515\n"
          ]
        },
        {
          "output_type": "display_data",
          "data": {
            "image/png": "[encoded data removed]",
            "text/plain": [
              "<Figure size 432x288 with 1 Axes>"
            ]
          },
          "metadata": {}
        },
        {
          "output_type": "stream",
          "name": "stdout",
          "text": [
            "N: 15590\n",
            "Rest: 703\n"
          ]
        },
        {
          "output_type": "display_data",
          "data": {
            "image/png": "[encoded data removed]",
            "text/plain": [
              "<Figure size 432x288 with 1 Axes>"
            ]
          },
          "metadata": {}
        }
      ]
    },
    {
      "cell_type": "code",
      "source": [
        "def plot_confusion_matrix(y_true, y_pred):\n",
        "  \"\"\"\n",
        "    :param ndarray y_true: contains the ground truth labels in the shape (n_samples,)\n",
        "    :param ndarray y_pred: contains the predicted labels in the shape (n_samples,)\n",
        "  \"\"\"\n",
        "  con_mat = tf.math.confusion_matrix(labels=np.squeeze(y_true), predictions=np.rint(np.squeeze(y_pred))).numpy()\n",
        "  con_mat_norm = np.around(con_mat.astype('float') / con_mat.sum(axis=1)[:, np.newaxis], decimals=2)\n",
        "  con_mat_df = pd.DataFrame(con_mat_norm,\n",
        "                  index = classes, \n",
        "                  columns = classes)\n",
        "  figure = plt.figure(figsize=(8, 8))\n",
        "  sns.heatmap(con_mat_df, annot=True,cmap=plt.cm.Blues)\n",
        "  plt.tight_layout()\n",
        "  plt.ylabel('True label')\n",
        "  plt.xlabel('Predicted label')\n",
        "  plt.show()"
      ],
      "metadata": {
        "id": "8sMFEIwKEZjc"
      },
      "id": "8sMFEIwKEZjc",
      "execution_count": 24,
      "outputs": []
    },
    {
      "cell_type": "code",
      "source": [
        "def create_input(df,step):\n",
        "    \n",
        "    x = list()\n",
        "    y = list()\n",
        "    \n",
        "    for id in tqdm(df.index.tolist()):\n",
        "        row = df.loc[id]\n",
        "        x.append(np.transpose(np.asarray([row['first_lead'],row['second_lead']]).astype(np.float32)))\n",
        "        if step == 1:\n",
        "          y.append(row['stringLabel']!='N')\n",
        "        elif step == 2:\n",
        "          y.append(row['stringLabel']!='S')\n",
        "        else:\n",
        "          if row['stringLabel'] == 'N':\n",
        "            y.append(0)\n",
        "          elif row['stringLabel'] == 'S':\n",
        "            y.append(1)\n",
        "          else:\n",
        "            y.append(2)\n",
        "\n",
        "    x = np.asarray(x).astype(np.float32)\n",
        "    y = np.asarray(y).astype(np.float32)\n",
        "    \n",
        "\n",
        "    return x,y"
      ],
      "metadata": {
        "id": "ie_8TDGvH6Ct"
      },
      "id": "ie_8TDGvH6Ct",
      "execution_count": 25,
      "outputs": []
    },
    {
      "cell_type": "code",
      "source": [
        "x_train,y_train = create_input(training_patches_df,step=1)\n",
        "x_valid,y_valid = create_input(validation_patches_df,step=1)\n",
        "y_train"
      ],
      "metadata": {
        "id": "vVQS64b1HOue",
        "colab": {
          "base_uri": "https://localhost:8080/"
        },
        "outputId": "051678d4-1539-43dd-d49d-278925f22c4a"
      },
      "id": "vVQS64b1HOue",
      "execution_count": 26,
      "outputs": [
        {
          "output_type": "stream",
          "name": "stderr",
          "text": [
            "100%|██████████| 77651/77651 [00:19<00:00, 3959.68it/s]\n",
            "100%|██████████| 16293/16293 [00:03<00:00, 4127.40it/s]\n"
          ]
        },
        {
          "output_type": "execute_result",
          "data": {
            "text/plain": [
              "array([0., 0., 1., ..., 0., 0., 0.], dtype=float32)"
            ]
          },
          "metadata": {},
          "execution_count": 26
        }
      ]
    },
    {
      "cell_type": "code",
      "source": [
        "from sklearn.utils.class_weight import compute_class_weight\n",
        "timesteps = 500 #patch size\n",
        "channels_num = 2\n",
        "\n",
        "input = keras.layers.Input(shape=(timesteps, channels_num))\n",
        "\n",
        "conv1 = keras.layers.Conv1D(filters=32,kernel_size=25,activation=\"relu\")(input)\n",
        "maxPool1 = keras.layers.MaxPool1D(pool_size=2)(conv1)\n",
        "dropout1 = keras.layers.Dropout(0.05)(maxPool1)\n",
        "conv2 = keras.layers.Conv1D(filters=64,kernel_size=12,activation=\"relu\")(dropout1)\n",
        "maxPool2 = keras.layers.MaxPool1D(pool_size=2)(conv2)\n",
        "dropout2 = keras.layers.Dropout(0.1)(maxPool2)\n",
        "conv3 = keras.layers.Conv1D(filters=128,kernel_size=9,activation=\"relu\")(dropout2)\n",
        "maxPool3 = keras.layers.MaxPool1D(pool_size=2)(conv3)\n",
        "dropout3 = keras.layers.Dropout(0.15)(maxPool3)\n",
        "lstm1 = keras.layers.LSTM(64, return_sequences=True)(dropout3)\n",
        "lstm2 = keras.layers.LSTM(64, return_sequences=False)(lstm1)\n",
        "output = keras.layers.Dense(1, activation=tf.nn.sigmoid)(lstm2)\n",
        "model_NvsRest = keras.models.Model(inputs=input, outputs=output)\n",
        "\n",
        "model_NvsRest.summary()\n",
        "\n",
        "callback = keras.callbacks.EarlyStopping(monitor='val_loss', patience=10,mode=\"auto\", restore_best_weights=True)\n",
        "\n",
        "batch_size = 128\n",
        "learning_rate = 1e-5\n",
        "model_NvsRest.compile(\n",
        "    optimizer = keras.optimizers.Adam(learning_rate=learning_rate),\n",
        "    loss = 'binary_crossentropy',\n",
        "    metrics = ['accuracy'],\n",
        "    \n",
        ")\n",
        "\n",
        "class_weights = compute_class_weight(\n",
        "                                            class_weight = 'balanced', \n",
        "                                            classes = y_train, \n",
        "                                            y = y_train\n",
        "                                        )\n",
        "d_class_weights = dict(enumerate(class_weights))\n",
        "\n",
        "history = model_NvsRest.fit(\n",
        "    x = x_train,\n",
        "    y = y_train, \n",
        "    batch_size = batch_size,\n",
        "    steps_per_epoch=len(x_train)/batch_size,\n",
        "    validation_data=(x_valid, y_valid),\n",
        "    epochs = 50,\n",
        "    shuffle = True,\n",
        "    callbacks=[callback],\n",
        "    class_weight = d_class_weights\n",
        ").history\n",
        "\n",
        "y_pred = model_NvsRest.predict(x_valid)\n",
        "\n",
        "plot_confusion_matrix(y_valid, y_pred)"
      ],
      "metadata": {
        "colab": {
          "base_uri": "https://localhost:8080/",
          "height": 1000
        },
        "id": "3h8J2KSIERUr",
        "outputId": "99670c51-a03b-4a8d-d1e2-b73db7692cad"
      },
      "id": "3h8J2KSIERUr",
      "execution_count": 27,
      "outputs": [
        {
          "output_type": "stream",
          "name": "stdout",
          "text": [
            "Model: \"model\"\n",
            "_________________________________________________________________\n",
            " Layer (type)                Output Shape              Param #   \n",
            "=================================================================\n",
            " input_1 (InputLayer)        [(None, 500, 2)]          0         \n",
            "                                                                 \n",
            " conv1d (Conv1D)             (None, 476, 32)           1632      \n",
            "                                                                 \n",
            " max_pooling1d (MaxPooling1D  (None, 238, 32)          0         \n",
            " )                                                               \n",
            "                                                                 \n",
            " dropout (Dropout)           (None, 238, 32)           0         \n",
            "                                                                 \n",
            " conv1d_1 (Conv1D)           (None, 227, 64)           24640     \n",
            "                                                                 \n",
            " max_pooling1d_1 (MaxPooling  (None, 113, 64)          0         \n",
            " 1D)                                                             \n",
            "                                                                 \n",
            " dropout_1 (Dropout)         (None, 113, 64)           0         \n",
            "                                                                 \n",
            " conv1d_2 (Conv1D)           (None, 105, 128)          73856     \n",
            "                                                                 \n",
            " max_pooling1d_2 (MaxPooling  (None, 52, 128)          0         \n",
            " 1D)                                                             \n",
            "                                                                 \n",
            " dropout_2 (Dropout)         (None, 52, 128)           0         \n",
            "                                                                 \n",
            " lstm (LSTM)                 (None, 52, 64)            49408     \n",
            "                                                                 \n",
            " lstm_1 (LSTM)               (None, 64)                33024     \n",
            "                                                                 \n",
            " dense (Dense)               (None, 1)                 65        \n",
            "                                                                 \n",
            "=================================================================\n",
            "Total params: 182,625\n",
            "Trainable params: 182,625\n",
            "Non-trainable params: 0\n",
            "_________________________________________________________________\n",
            "Epoch 1/50\n",
            "606/606 [==============================] - 27s 20ms/step - loss: 0.2589 - accuracy: 0.8513 - val_loss: 0.2231 - val_accuracy: 0.9569\n",
            "Epoch 2/50\n",
            "606/606 [==============================] - 10s 17ms/step - loss: 0.2463 - accuracy: 0.8517 - val_loss: 0.2526 - val_accuracy: 0.9569\n",
            "Epoch 3/50\n",
            "606/606 [==============================] - 10s 17ms/step - loss: 0.2445 - accuracy: 0.8517 - val_loss: 0.2563 - val_accuracy: 0.9569\n",
            "Epoch 4/50\n",
            "606/606 [==============================] - 10s 17ms/step - loss: 0.2375 - accuracy: 0.8517 - val_loss: 0.1944 - val_accuracy: 0.9569\n",
            "Epoch 5/50\n",
            "606/606 [==============================] - 10s 17ms/step - loss: 0.2265 - accuracy: 0.8517 - val_loss: 0.1917 - val_accuracy: 0.9569\n",
            "Epoch 6/50\n",
            "606/606 [==============================] - 10s 17ms/step - loss: 0.2180 - accuracy: 0.8517 - val_loss: 0.1644 - val_accuracy: 0.9569\n",
            "Epoch 7/50\n",
            "606/606 [==============================] - 10s 17ms/step - loss: 0.2113 - accuracy: 0.8517 - val_loss: 0.1694 - val_accuracy: 0.9569\n",
            "Epoch 8/50\n",
            "606/606 [==============================] - 10s 17ms/step - loss: 0.2053 - accuracy: 0.8517 - val_loss: 0.1634 - val_accuracy: 0.9569\n",
            "Epoch 9/50\n",
            "606/606 [==============================] - 10s 17ms/step - loss: 0.2010 - accuracy: 0.8517 - val_loss: 0.1602 - val_accuracy: 0.9569\n",
            "Epoch 10/50\n",
            "606/606 [==============================] - 10s 17ms/step - loss: 0.1964 - accuracy: 0.8517 - val_loss: 0.1590 - val_accuracy: 0.9569\n",
            "Epoch 11/50\n",
            "606/606 [==============================] - 10s 17ms/step - loss: 0.1886 - accuracy: 0.8556 - val_loss: 0.1674 - val_accuracy: 0.9626\n",
            "Epoch 12/50\n",
            "606/606 [==============================] - 10s 17ms/step - loss: 0.1711 - accuracy: 0.8821 - val_loss: 0.1725 - val_accuracy: 0.9527\n",
            "Epoch 13/50\n",
            "606/606 [==============================] - 10s 17ms/step - loss: 0.1360 - accuracy: 0.9191 - val_loss: 0.1751 - val_accuracy: 0.9244\n",
            "Epoch 14/50\n",
            "606/606 [==============================] - 10s 17ms/step - loss: 0.1122 - accuracy: 0.9348 - val_loss: 0.1564 - val_accuracy: 0.9300\n",
            "Epoch 15/50\n",
            "606/606 [==============================] - 11s 18ms/step - loss: 0.0985 - accuracy: 0.9417 - val_loss: 0.1554 - val_accuracy: 0.9268\n",
            "Epoch 16/50\n",
            "606/606 [==============================] - 10s 17ms/step - loss: 0.0905 - accuracy: 0.9456 - val_loss: 0.1343 - val_accuracy: 0.9454\n",
            "Epoch 17/50\n",
            "606/606 [==============================] - 10s 17ms/step - loss: 0.0847 - accuracy: 0.9495 - val_loss: 0.1389 - val_accuracy: 0.9445\n",
            "Epoch 18/50\n",
            "606/606 [==============================] - 10s 17ms/step - loss: 0.0793 - accuracy: 0.9520 - val_loss: 0.1299 - val_accuracy: 0.9608\n",
            "Epoch 19/50\n",
            "606/606 [==============================] - 10s 17ms/step - loss: 0.0756 - accuracy: 0.9538 - val_loss: 0.1446 - val_accuracy: 0.9435\n",
            "Epoch 20/50\n",
            "606/606 [==============================] - 10s 17ms/step - loss: 0.0713 - accuracy: 0.9563 - val_loss: 0.1477 - val_accuracy: 0.9402\n",
            "Epoch 21/50\n",
            "606/606 [==============================] - 10s 17ms/step - loss: 0.0682 - accuracy: 0.9587 - val_loss: 0.1344 - val_accuracy: 0.9563\n",
            "Epoch 22/50\n",
            "606/606 [==============================] - 10s 17ms/step - loss: 0.0658 - accuracy: 0.9599 - val_loss: 0.1409 - val_accuracy: 0.9511\n",
            "Epoch 23/50\n",
            "606/606 [==============================] - 10s 17ms/step - loss: 0.0636 - accuracy: 0.9608 - val_loss: 0.1336 - val_accuracy: 0.9617\n",
            "Epoch 24/50\n",
            "606/606 [==============================] - 10s 17ms/step - loss: 0.0623 - accuracy: 0.9619 - val_loss: 0.1366 - val_accuracy: 0.9579\n",
            "Epoch 25/50\n",
            "606/606 [==============================] - 10s 17ms/step - loss: 0.0601 - accuracy: 0.9627 - val_loss: 0.1520 - val_accuracy: 0.9418\n",
            "Epoch 26/50\n",
            "606/606 [==============================] - 10s 17ms/step - loss: 0.0582 - accuracy: 0.9641 - val_loss: 0.1508 - val_accuracy: 0.9433\n",
            "Epoch 27/50\n",
            "606/606 [==============================] - 10s 17ms/step - loss: 0.0573 - accuracy: 0.9648 - val_loss: 0.1553 - val_accuracy: 0.9367\n",
            "Epoch 28/50\n",
            "606/606 [==============================] - 10s 17ms/step - loss: 0.0559 - accuracy: 0.9657 - val_loss: 0.1501 - val_accuracy: 0.9360\n"
          ]
        },
        {
          "output_type": "display_data",
          "data": {
            "image/png": "[encoded data removed]",
            "text/plain": [
              "<Figure size 576x576 with 2 Axes>"
            ]
          },
          "metadata": {
            "needs_background": "light"
          }
        }
      ]
    },
    {
      "cell_type": "code",
      "source": [
        "'''\n",
        "# convert the history.history dict to a pandas DataFrame:     \n",
        "hist_df = pd.DataFrame(history.history) \n",
        "# or save to csv: \n",
        "hist_csv_file = 'ResNetV0x3Peaks_history.csv'\n",
        "with open(os.path.join(cwd,hist_csv_file), mode='w') as f:\n",
        "    hist_df.to_csv(f)\n",
        "\n",
        "nn.save_weights(os.path.join(cwd,'ResNetV0x3Peaks_weights.h5'))\n",
        "nn.save(os.path.join(cwd,'ResNetV0x3Peaks'))\n",
        "'''"
      ],
      "metadata": {
        "id": "x-OSJ-fH7S2S",
        "outputId": "90003b43-77cd-4784-fca1-2a31a29b44eb",
        "colab": {
          "base_uri": "https://localhost:8080/",
          "height": 53
        }
      },
      "id": "x-OSJ-fH7S2S",
      "execution_count": 28,
      "outputs": [
        {
          "output_type": "execute_result",
          "data": {
            "application/vnd.google.colaboratory.intrinsic+json": {
              "type": "string"
            },
            "text/plain": [
              "\"\\n# convert the history.history dict to a pandas DataFrame:     \\nhist_df = pd.DataFrame(history.history) \\n# or save to csv: \\nhist_csv_file = 'ResNetV0x3Peaks_history.csv'\\nwith open(os.path.join(cwd,hist_csv_file), mode='w') as f:\\n    hist_df.to_csv(f)\\n\\nnn.save_weights(os.path.join(cwd,'ResNetV0x3Peaks_weights.h5'))\\nnn.save(os.path.join(cwd,'ResNetV0x3Peaks'))\\n\""
            ]
          },
          "metadata": {},
          "execution_count": 28
        }
      ]
    },
    {
      "cell_type": "code",
      "source": [
        "classes = np.array([\"S\",\"V\"])\n",
        "training_patches_df_red = training_patches_df[training_patches_df['stringLabel']!='N']\n",
        "validation_patches_df_red = validation_patches_df[validation_patches_df['stringLabel']!='N']\n",
        "validation_patches_df_red"
      ],
      "metadata": {
        "colab": {
          "base_uri": "https://localhost:8080/",
          "height": 424
        },
        "id": "Q-XtIijH4Uit",
        "outputId": "d9acd872-5bd0-40cf-bc1a-70e2c051d0c1"
      },
      "id": "Q-XtIijH4Uit",
      "execution_count": 29,
      "outputs": [
        {
          "output_type": "execute_result",
          "data": {
            "text/html": [
              "\n",
              "  <div id=\"df-a598de6d-b4f0-43c6-bddb-f358d125a99e\">\n",
              "    <div class=\"colab-df-container\">\n",
              "      <div>\n",
              "<style scoped>\n",
              "    .dataframe tbody tr th:only-of-type {\n",
              "        vertical-align: middle;\n",
              "    }\n",
              "\n",
              "    .dataframe tbody tr th {\n",
              "        vertical-align: top;\n",
              "    }\n",
              "\n",
              "    .dataframe thead th {\n",
              "        text-align: right;\n",
              "    }\n",
              "</style>\n",
              "<table border=\"1\" class=\"dataframe\">\n",
              "  <thead>\n",
              "    <tr style=\"text-align: right;\">\n",
              "      <th></th>\n",
              "      <th>first_lead</th>\n",
              "      <th>second_lead</th>\n",
              "      <th>RR_d</th>\n",
              "      <th>stringLabel</th>\n",
              "      <th>label</th>\n",
              "    </tr>\n",
              "  </thead>\n",
              "  <tbody>\n",
              "    <tr>\n",
              "      <th>3_832</th>\n",
              "      <td>[146.88436889648438, 146.88436889648438, 146.8...</td>\n",
              "      <td>[129.9264373779297, 129.9264373779297, 129.926...</td>\n",
              "      <td>149.0</td>\n",
              "      <td>V</td>\n",
              "      <td>[0.0, 0.0, 1.0]</td>\n",
              "    </tr>\n",
              "    <tr>\n",
              "      <th>3_870</th>\n",
              "      <td>[148.694091796875, 148.694091796875, 148.69409...</td>\n",
              "      <td>[121.48424530029297, 121.48424530029297, 121.4...</td>\n",
              "      <td>149.0</td>\n",
              "      <td>V</td>\n",
              "      <td>[0.0, 0.0, 1.0]</td>\n",
              "    </tr>\n",
              "    <tr>\n",
              "      <th>3_887</th>\n",
              "      <td>[151.55291748046875, 151.55291748046875, 151.5...</td>\n",
              "      <td>[126.50418853759766, 126.50418853759766, 126.5...</td>\n",
              "      <td>173.0</td>\n",
              "      <td>V</td>\n",
              "      <td>[0.0, 0.0, 1.0]</td>\n",
              "    </tr>\n",
              "    <tr>\n",
              "      <th>3_901</th>\n",
              "      <td>[119.12639617919922, 119.12639617919922, 119.1...</td>\n",
              "      <td>[127.73931884765625, 127.73931884765625, 127.7...</td>\n",
              "      <td>152.0</td>\n",
              "      <td>S</td>\n",
              "      <td>[0.0, 1.0, 0.0]</td>\n",
              "    </tr>\n",
              "    <tr>\n",
              "      <th>3_925</th>\n",
              "      <td>[150.17979431152344, 150.17979431152344, 150.1...</td>\n",
              "      <td>[124.8558349609375, 124.8558349609375, 124.855...</td>\n",
              "      <td>169.0</td>\n",
              "      <td>V</td>\n",
              "      <td>[0.0, 0.0, 1.0]</td>\n",
              "    </tr>\n",
              "    <tr>\n",
              "      <th>...</th>\n",
              "      <td>...</td>\n",
              "      <td>...</td>\n",
              "      <td>...</td>\n",
              "      <td>...</td>\n",
              "      <td>...</td>\n",
              "    </tr>\n",
              "    <tr>\n",
              "      <th>37_2148</th>\n",
              "      <td>[115.10243225097656, 115.10243225097656, 115.1...</td>\n",
              "      <td>[117.75202941894531, 117.75202941894531, 117.7...</td>\n",
              "      <td>152.0</td>\n",
              "      <td>V</td>\n",
              "      <td>[0.0, 0.0, 1.0]</td>\n",
              "    </tr>\n",
              "    <tr>\n",
              "      <th>37_2151</th>\n",
              "      <td>[140.11109924316406, 140.11109924316406, 140.1...</td>\n",
              "      <td>[126.59500122070312, 126.59500122070312, 126.5...</td>\n",
              "      <td>120.0</td>\n",
              "      <td>V</td>\n",
              "      <td>[0.0, 0.0, 1.0]</td>\n",
              "    </tr>\n",
              "    <tr>\n",
              "      <th>37_2159</th>\n",
              "      <td>[152.7254638671875, 152.7254638671875, 152.725...</td>\n",
              "      <td>[119.81114196777344, 119.81114196777344, 119.8...</td>\n",
              "      <td>125.0</td>\n",
              "      <td>S</td>\n",
              "      <td>[0.0, 1.0, 0.0]</td>\n",
              "    </tr>\n",
              "    <tr>\n",
              "      <th>37_2171</th>\n",
              "      <td>[140.29161071777344, 140.29161071777344, 140.2...</td>\n",
              "      <td>[120.37374114990234, 120.37374114990234, 120.3...</td>\n",
              "      <td>140.0</td>\n",
              "      <td>V</td>\n",
              "      <td>[0.0, 0.0, 1.0]</td>\n",
              "    </tr>\n",
              "    <tr>\n",
              "      <th>37_2226</th>\n",
              "      <td>[146.96221923828125, 146.96221923828125, 146.9...</td>\n",
              "      <td>[117.33214569091797, 117.33214569091797, 117.3...</td>\n",
              "      <td>133.0</td>\n",
              "      <td>V</td>\n",
              "      <td>[0.0, 0.0, 1.0]</td>\n",
              "    </tr>\n",
              "  </tbody>\n",
              "</table>\n",
              "<p>703 rows × 5 columns</p>\n",
              "</div>\n",
              "      <button class=\"colab-df-convert\" onclick=\"convertToInteractive('df-a598de6d-b4f0-43c6-bddb-f358d125a99e')\"\n",
              "              title=\"Convert this dataframe to an interactive table.\"\n",
              "              style=\"display:none;\">\n",
              "        \n",
              "  <svg xmlns=\"http://www.w3.org/2000/svg\" height=\"24px\"viewBox=\"0 0 24 24\"\n",
              "       width=\"24px\">\n",
              "    <path d=\"M0 0h24v24H0V0z\" fill=\"none\"/>\n",
              "    <path d=\"M18.56 5.44l.94 2.06.94-2.06 2.06-.94-2.06-.94-.94-2.06-.94 2.06-2.06.94zm-11 1L8.5 8.5l.94-2.06 2.06-.94-2.06-.94L8.5 2.5l-.94 2.06-2.06.94zm10 10l.94 2.06.94-2.06 2.06-.94-2.06-.94-.94-2.06-.94 2.06-2.06.94z\"/><path d=\"M17.41 7.96l-1.37-1.37c-.4-.4-.92-.59-1.43-.59-.52 0-1.04.2-1.43.59L10.3 9.45l-7.72 7.72c-.78.78-.78 2.05 0 2.83L4 21.41c.39.39.9.59 1.41.59.51 0 1.02-.2 1.41-.59l7.78-7.78 2.81-2.81c.8-.78.8-2.07 0-2.86zM5.41 20L4 18.59l7.72-7.72 1.47 1.35L5.41 20z\"/>\n",
              "  </svg>\n",
              "      </button>\n",
              "      \n",
              "  <style>\n",
              "    .colab-df-container {\n",
              "      display:flex;\n",
              "      flex-wrap:wrap;\n",
              "      gap: 12px;\n",
              "    }\n",
              "\n",
              "    .colab-df-convert {\n",
              "      background-color: #E8F0FE;\n",
              "      border: none;\n",
              "      border-radius: 50%;\n",
              "      cursor: pointer;\n",
              "      display: none;\n",
              "      fill: #1967D2;\n",
              "      height: 32px;\n",
              "      padding: 0 0 0 0;\n",
              "      width: 32px;\n",
              "    }\n",
              "\n",
              "    .colab-df-convert:hover {\n",
              "      background-color: #E2EBFA;\n",
              "      box-shadow: 0px 1px 2px rgba(60, 64, 67, 0.3), 0px 1px 3px 1px rgba(60, 64, 67, 0.15);\n",
              "      fill: #174EA6;\n",
              "    }\n",
              "\n",
              "    [theme=dark] .colab-df-convert {\n",
              "      background-color: #3B4455;\n",
              "      fill: #D2E3FC;\n",
              "    }\n",
              "\n",
              "    [theme=dark] .colab-df-convert:hover {\n",
              "      background-color: #434B5C;\n",
              "      box-shadow: 0px 1px 3px 1px rgba(0, 0, 0, 0.15);\n",
              "      filter: drop-shadow(0px 1px 2px rgba(0, 0, 0, 0.3));\n",
              "      fill: #FFFFFF;\n",
              "    }\n",
              "  </style>\n",
              "\n",
              "      <script>\n",
              "        const buttonEl =\n",
              "          document.querySelector('#df-a598de6d-b4f0-43c6-bddb-f358d125a99e button.colab-df-convert');\n",
              "        buttonEl.style.display =\n",
              "          google.colab.kernel.accessAllowed ? 'block' : 'none';\n",
              "\n",
              "        async function convertToInteractive(key) {\n",
              "          const element = document.querySelector('#df-a598de6d-b4f0-43c6-bddb-f358d125a99e');\n",
              "          const dataTable =\n",
              "            await google.colab.kernel.invokeFunction('convertToInteractive',\n",
              "                                                     [key], {});\n",
              "          if (!dataTable) return;\n",
              "\n",
              "          const docLinkHtml = 'Like what you see? Visit the ' +\n",
              "            '<a target=\"_blank\" href=https://colab.research.google.com/notebooks/data_table.ipynb>data table notebook</a>'\n",
              "            + ' to learn more about interactive tables.';\n",
              "          element.innerHTML = '';\n",
              "          dataTable['output_type'] = 'display_data';\n",
              "          await google.colab.output.renderOutput(dataTable, element);\n",
              "          const docLink = document.createElement('div');\n",
              "          docLink.innerHTML = docLinkHtml;\n",
              "          element.appendChild(docLink);\n",
              "        }\n",
              "      </script>\n",
              "    </div>\n",
              "  </div>\n",
              "  "
            ],
            "text/plain": [
              "                                                first_lead  ...            label\n",
              "3_832    [146.88436889648438, 146.88436889648438, 146.8...  ...  [0.0, 0.0, 1.0]\n",
              "3_870    [148.694091796875, 148.694091796875, 148.69409...  ...  [0.0, 0.0, 1.0]\n",
              "3_887    [151.55291748046875, 151.55291748046875, 151.5...  ...  [0.0, 0.0, 1.0]\n",
              "3_901    [119.12639617919922, 119.12639617919922, 119.1...  ...  [0.0, 1.0, 0.0]\n",
              "3_925    [150.17979431152344, 150.17979431152344, 150.1...  ...  [0.0, 0.0, 1.0]\n",
              "...                                                    ...  ...              ...\n",
              "37_2148  [115.10243225097656, 115.10243225097656, 115.1...  ...  [0.0, 0.0, 1.0]\n",
              "37_2151  [140.11109924316406, 140.11109924316406, 140.1...  ...  [0.0, 0.0, 1.0]\n",
              "37_2159  [152.7254638671875, 152.7254638671875, 152.725...  ...  [0.0, 1.0, 0.0]\n",
              "37_2171  [140.29161071777344, 140.29161071777344, 140.2...  ...  [0.0, 0.0, 1.0]\n",
              "37_2226  [146.96221923828125, 146.96221923828125, 146.9...  ...  [0.0, 0.0, 1.0]\n",
              "\n",
              "[703 rows x 5 columns]"
            ]
          },
          "metadata": {},
          "execution_count": 29
        }
      ]
    },
    {
      "cell_type": "code",
      "source": [
        "# count classes for training\n",
        "\n",
        "ids_s = training_patches_df_red.index[training_patches_df_red['stringLabel'] == 'S'].tolist() \n",
        "ids_v = training_patches_df_red.index[training_patches_df_red['stringLabel'] == 'V'].tolist() \n",
        "\n",
        "print(f\"S: {len(ids_s)}\")\n",
        "print(f\"V: {len(ids_v)}\")\n",
        "\n",
        "classes = [\"S\",\"V\"]\n",
        "counts = [len(ids_s),len(ids_v)]\n",
        "\n",
        "fig1, ax1 = plt.subplots()\n",
        "ax1.pie(counts, explode=None, labels=classes, autopct='%1.1f%%',\n",
        "        shadow=False, startangle=90)\n",
        "ax1.axis('equal')  # Equal aspect ratio ensures that pie is drawn as a circle.\n",
        "fig1.set_facecolor(\"white\")\n",
        "plt.show()\n",
        "\n",
        "# count classes for validation\n",
        "\n",
        "ids_n = validation_patches_df_red.index[validation_patches_df_red['stringLabel'] == 'S'].tolist() \n",
        "ids_rest = validation_patches_df_red.index[validation_patches_df_red['stringLabel'] == 'V'].tolist() \n",
        "\n",
        "print(f\"S: {len(ids_s)}\")\n",
        "print(f\"V: {len(ids_v)}\")\n",
        "\n",
        "counts = [len(ids_s),len(ids_v)]\n",
        "\n",
        "fig1, ax1 = plt.subplots()\n",
        "ax1.pie(counts, explode=None, labels=classes, autopct='%1.1f%%',\n",
        "        shadow=False, startangle=90)\n",
        "ax1.axis('equal')  # Equal aspect ratio ensures that pie is drawn as a circle.\n",
        "fig1.set_facecolor(\"white\")\n",
        "plt.show()"
      ],
      "metadata": {
        "colab": {
          "base_uri": "https://localhost:8080/",
          "height": 548
        },
        "id": "_K2YPRaev642",
        "outputId": "3fbf57a7-1fbd-454d-ecfc-317d5e9d4ec4"
      },
      "id": "_K2YPRaev642",
      "execution_count": 30,
      "outputs": [
        {
          "output_type": "stream",
          "name": "stdout",
          "text": [
            "S: 6110\n",
            "V: 5405\n"
          ]
        },
        {
          "output_type": "display_data",
          "data": {
            "image/png": "[encoded data removed]",
            "text/plain": [
              "<Figure size 432x288 with 1 Axes>"
            ]
          },
          "metadata": {}
        },
        {
          "output_type": "stream",
          "name": "stdout",
          "text": [
            "S: 6110\n",
            "V: 5405\n"
          ]
        },
        {
          "output_type": "display_data",
          "data": {
            "image/png": "[encoded data removed]",
            "text/plain": [
              "<Figure size 432x288 with 1 Axes>"
            ]
          },
          "metadata": {}
        }
      ]
    },
    {
      "cell_type": "code",
      "source": [
        "x_train,y_train = create_input(training_patches_df_red, step=2)\n",
        "x_valid,y_valid = create_input(validation_patches_df_red, step=2)\n",
        "y_train"
      ],
      "metadata": {
        "colab": {
          "base_uri": "https://localhost:8080/"
        },
        "id": "K2sq84rEvFwc",
        "outputId": "f6a13384-f6ff-4520-84ff-3f181ea09fba"
      },
      "id": "K2sq84rEvFwc",
      "execution_count": 31,
      "outputs": [
        {
          "output_type": "stream",
          "name": "stderr",
          "text": [
            "100%|██████████| 11515/11515 [00:02<00:00, 3839.85it/s]\n",
            "100%|██████████| 703/703 [00:00<00:00, 4010.28it/s]\n"
          ]
        },
        {
          "output_type": "execute_result",
          "data": {
            "text/plain": [
              "array([0., 0., 0., ..., 1., 1., 1.], dtype=float32)"
            ]
          },
          "metadata": {},
          "execution_count": 31
        }
      ]
    },
    {
      "cell_type": "code",
      "source": [
        "from sklearn.utils.class_weight import compute_class_weight\n",
        "timesteps = 500 #patch size\n",
        "channels_num = 2\n",
        "\n",
        "input = keras.layers.Input(shape=(timesteps, channels_num))\n",
        "\n",
        "conv1 = keras.layers.Conv1D(filters=32,kernel_size=25,activation=\"relu\")(input)\n",
        "maxPool1 = keras.layers.MaxPool1D(pool_size=2)(conv1)\n",
        "dropout1 = keras.layers.Dropout(0.05)(maxPool1)\n",
        "conv2 = keras.layers.Conv1D(filters=64,kernel_size=12,activation=\"relu\")(dropout1)\n",
        "maxPool2 = keras.layers.MaxPool1D(pool_size=2)(conv2)\n",
        "dropout2 = keras.layers.Dropout(0.1)(maxPool2)\n",
        "conv3 = keras.layers.Conv1D(filters=128,kernel_size=9,activation=\"relu\")(dropout2)\n",
        "maxPool3 = keras.layers.MaxPool1D(pool_size=2)(conv3)\n",
        "dropout3 = keras.layers.Dropout(0.15)(maxPool3)\n",
        "lstm1 = keras.layers.LSTM(64, return_sequences=True)(dropout3)\n",
        "lstm2 = keras.layers.LSTM(64, return_sequences=False)(lstm1)\n",
        "output = keras.layers.Dense(1, activation=tf.nn.sigmoid)(lstm2)\n",
        "model_SvsV = keras.models.Model(inputs=input, outputs=output)\n",
        "\n",
        "model_SvsV.summary()\n",
        "\n",
        "callback = keras.callbacks.EarlyStopping(monitor='val_loss', patience=10,mode=\"auto\", restore_best_weights=True)\n",
        "\n",
        "batch_size = 128\n",
        "learning_rate = 1e-5\n",
        "model_SvsV.compile(\n",
        "    optimizer = keras.optimizers.Adam(learning_rate=learning_rate),\n",
        "    loss = 'binary_crossentropy',\n",
        "    metrics = ['accuracy'],\n",
        "    \n",
        ")\n",
        "\n",
        "class_weights = compute_class_weight(\n",
        "                                            class_weight = 'balanced', \n",
        "                                            classes = y_train, \n",
        "                                            y = y_train\n",
        "                                        )\n",
        "d_class_weights = dict(enumerate(class_weights))\n",
        "\n",
        "history = model_SvsV.fit(\n",
        "    x = x_train,\n",
        "    y = y_train, \n",
        "    batch_size = batch_size,\n",
        "    steps_per_epoch=len(x_train)/batch_size,\n",
        "    validation_data=(x_valid, y_valid),\n",
        "    epochs = 50,\n",
        "    shuffle = True,\n",
        "    callbacks=[callback],\n",
        "    class_weight = d_class_weights\n",
        ").history\n",
        "\n",
        "\n",
        "y_pred = model_SvsV.predict(x_valid)\n",
        "\n",
        "plot_confusion_matrix(y_valid, y_pred)"
      ],
      "metadata": {
        "colab": {
          "base_uri": "https://localhost:8080/",
          "height": 1000
        },
        "id": "kKwqJ3ZQvFy1",
        "outputId": "0b84c71a-375d-405f-ebe1-22c4b5adc601"
      },
      "id": "kKwqJ3ZQvFy1",
      "execution_count": 32,
      "outputs": [
        {
          "output_type": "stream",
          "name": "stdout",
          "text": [
            "Model: \"model_1\"\n",
            "_________________________________________________________________\n",
            " Layer (type)                Output Shape              Param #   \n",
            "=================================================================\n",
            " input_2 (InputLayer)        [(None, 500, 2)]          0         \n",
            "                                                                 \n",
            " conv1d_3 (Conv1D)           (None, 476, 32)           1632      \n",
            "                                                                 \n",
            " max_pooling1d_3 (MaxPooling  (None, 238, 32)          0         \n",
            " 1D)                                                             \n",
            "                                                                 \n",
            " dropout_3 (Dropout)         (None, 238, 32)           0         \n",
            "                                                                 \n",
            " conv1d_4 (Conv1D)           (None, 227, 64)           24640     \n",
            "                                                                 \n",
            " max_pooling1d_4 (MaxPooling  (None, 113, 64)          0         \n",
            " 1D)                                                             \n",
            "                                                                 \n",
            " dropout_4 (Dropout)         (None, 113, 64)           0         \n",
            "                                                                 \n",
            " conv1d_5 (Conv1D)           (None, 105, 128)          73856     \n",
            "                                                                 \n",
            " max_pooling1d_5 (MaxPooling  (None, 52, 128)          0         \n",
            " 1D)                                                             \n",
            "                                                                 \n",
            " dropout_5 (Dropout)         (None, 52, 128)           0         \n",
            "                                                                 \n",
            " lstm_2 (LSTM)               (None, 52, 64)            49408     \n",
            "                                                                 \n",
            " lstm_3 (LSTM)               (None, 64)                33024     \n",
            "                                                                 \n",
            " dense_1 (Dense)             (None, 1)                 65        \n",
            "                                                                 \n",
            "=================================================================\n",
            "Total params: 182,625\n",
            "Trainable params: 182,625\n",
            "Non-trainable params: 0\n",
            "_________________________________________________________________\n",
            "Epoch 1/50\n",
            "89/89 [==============================] - 6s 38ms/step - loss: 0.6512 - accuracy: 0.5239 - val_loss: 0.7085 - val_accuracy: 0.4353\n",
            "Epoch 2/50\n",
            "89/89 [==============================] - 1s 16ms/step - loss: 0.6452 - accuracy: 0.5640 - val_loss: 0.7043 - val_accuracy: 0.4822\n",
            "Epoch 3/50\n",
            "89/89 [==============================] - 1s 16ms/step - loss: 0.6325 - accuracy: 0.5887 - val_loss: 0.7164 - val_accuracy: 0.5235\n",
            "Epoch 4/50\n",
            "89/89 [==============================] - 1s 16ms/step - loss: 0.6138 - accuracy: 0.6422 - val_loss: 0.7413 - val_accuracy: 0.4865\n",
            "Epoch 5/50\n",
            "89/89 [==============================] - 1s 16ms/step - loss: 0.5922 - accuracy: 0.6769 - val_loss: 0.7601 - val_accuracy: 0.4808\n",
            "Epoch 6/50\n",
            "89/89 [==============================] - 1s 16ms/step - loss: 0.5724 - accuracy: 0.6961 - val_loss: 0.7870 - val_accuracy: 0.4509\n",
            "Epoch 7/50\n",
            "89/89 [==============================] - 1s 16ms/step - loss: 0.5467 - accuracy: 0.7204 - val_loss: 0.8325 - val_accuracy: 0.4552\n",
            "Epoch 8/50\n",
            "89/89 [==============================] - 1s 16ms/step - loss: 0.5249 - accuracy: 0.7363 - val_loss: 0.8444 - val_accuracy: 0.4908\n",
            "Epoch 9/50\n",
            "89/89 [==============================] - 1s 16ms/step - loss: 0.4948 - accuracy: 0.7599 - val_loss: 0.8026 - val_accuracy: 0.5505\n",
            "Epoch 10/50\n",
            "89/89 [==============================] - 1s 16ms/step - loss: 0.4723 - accuracy: 0.7758 - val_loss: 0.8041 - val_accuracy: 0.5192\n",
            "Epoch 11/50\n",
            "89/89 [==============================] - 1s 16ms/step - loss: 0.4399 - accuracy: 0.8006 - val_loss: 0.8489 - val_accuracy: 0.5391\n",
            "Epoch 12/50\n",
            "89/89 [==============================] - 1s 16ms/step - loss: 0.4096 - accuracy: 0.8179 - val_loss: 0.8213 - val_accuracy: 0.5434\n"
          ]
        },
        {
          "output_type": "display_data",
          "data": {
            "image/png": "[encoded data removed]",
            "text/plain": [
              "<Figure size 576x576 with 2 Axes>"
            ]
          },
          "metadata": {
            "needs_background": "light"
          }
        }
      ]
    },
    {
      "cell_type": "code",
      "source": [
        "'''\n",
        "# convert the history.history dict to a pandas DataFrame:     \n",
        "hist_df = pd.DataFrame(history.history) \n",
        "# or save to csv: \n",
        "hist_csv_file = 'ResNetV1x3Peaks_history.csv'\n",
        "with open(os.path.join(cwd,hist_csv_file), mode='w') as f:\n",
        "    hist_df.to_csv(f)\n",
        "\n",
        "nn.save_weights(os.path.join(cwd,'ResNetV1x3Peaks_weights.h5'))\n",
        "nn.save(os.path.join(cwd,'ResNetV1x3Peaks'))\n",
        "'''"
      ],
      "metadata": {
        "colab": {
          "base_uri": "https://localhost:8080/",
          "height": 53
        },
        "id": "AACgKOUfxm5s",
        "outputId": "c1808d60-336e-46f1-94d8-4875c7ecb7ea"
      },
      "id": "AACgKOUfxm5s",
      "execution_count": 33,
      "outputs": [
        {
          "output_type": "execute_result",
          "data": {
            "application/vnd.google.colaboratory.intrinsic+json": {
              "type": "string"
            },
            "text/plain": [
              "\"\\n# convert the history.history dict to a pandas DataFrame:     \\nhist_df = pd.DataFrame(history.history) \\n# or save to csv: \\nhist_csv_file = 'ResNetV1x3Peaks_history.csv'\\nwith open(os.path.join(cwd,hist_csv_file), mode='w') as f:\\n    hist_df.to_csv(f)\\n\\nnn.save_weights(os.path.join(cwd,'ResNetV1x3Peaks_weights.h5'))\\nnn.save(os.path.join(cwd,'ResNetV1x3Peaks'))\\n\""
            ]
          },
          "metadata": {},
          "execution_count": 33
        }
      ]
    },
    {
      "cell_type": "code",
      "source": [
        "y_pred = model_SvsV.predict(x_valid)\n",
        "pred_SvsV = np.rint(np.squeeze(y_pred))\n",
        "\n",
        "plot_confusion_matrix(y_valid, y_pred)"
      ],
      "metadata": {
        "colab": {
          "base_uri": "https://localhost:8080/",
          "height": 599
        },
        "id": "ma8hr-yBvF1s",
        "outputId": "7df11422-cfa4-48f6-8837-f9eae4c90a81"
      },
      "id": "ma8hr-yBvF1s",
      "execution_count": 34,
      "outputs": [
        {
          "output_type": "display_data",
          "data": {
            "image/png": "[encoded data removed]",
            "text/plain": [
              "<Figure size 576x576 with 2 Axes>"
            ]
          },
          "metadata": {
            "needs_background": "light"
          }
        }
      ]
    },
    {
      "cell_type": "code",
      "source": [
        "x_valid,y_valid = create_input(validation_patches_df,step=3)\n",
        "\n",
        "pred_NvsRest = model_NvsRest.predict(x_valid)\n",
        "pred_fin = np.rint(np.squeeze(pred_NvsRest))\n",
        "\n",
        "x_valid_SvsV = x_valid[pred_fin == 1]\n",
        "\n",
        "y_pred = model_SvsV.predict(x_valid_SvsV)\n",
        "pred_SvsV = np.rint(np.squeeze(y_pred))\n",
        "\n",
        "k = 0;\n",
        "for i in range(len(pred_fin)):\n",
        "  if pred_fin[i] == 1:\n",
        "    if pred_SvsV[k] == 0:\n",
        "      pred_fin[i] = 1\n",
        "    else:\n",
        "      pred_fin[i] = 2\n",
        "    k += 1;\n",
        "\n",
        "classes = [\"N\",\"S\",\"V\"]\n",
        "plot_confusion_matrix(y_valid, pred_fin)"
      ],
      "metadata": {
        "colab": {
          "base_uri": "https://localhost:8080/",
          "height": 616
        },
        "id": "jHWWCjAAvF39",
        "outputId": "6baf9551-249d-436b-9eda-33144283ec6a"
      },
      "id": "jHWWCjAAvF39",
      "execution_count": 35,
      "outputs": [
        {
          "output_type": "stream",
          "name": "stderr",
          "text": [
            "100%|██████████| 16293/16293 [00:04<00:00, 4058.95it/s]\n"
          ]
        },
        {
          "output_type": "display_data",
          "data": {
            "image/png": "[encoded data removed]",
            "text/plain": [
              "<Figure size 576x576 with 2 Axes>"
            ]
          },
          "metadata": {
            "needs_background": "light"
          }
        }
      ]
    }
  ],
  "metadata": {
    "kernelspec": {
      "display_name": "tf-gpu",
      "language": "python",
      "name": "tf-gpu"
    },
    "language_info": {
      "codemirror_mode": {
        "name": "ipython",
        "version": 3
      },
      "file_extension": ".py",
      "mimetype": "text/x-python",
      "name": "python",
      "nbconvert_exporter": "python",
      "pygments_lexer": "ipython3",
      "version": "3.9.7"
    },
    "colab": {
      "name": "OneVSAllProvamy.ipynb",
      "provenance": [],
      "collapsed_sections": []
    },
    "accelerator": "GPU"
  },
  "nbformat": 4,
  "nbformat_minor": 5
}